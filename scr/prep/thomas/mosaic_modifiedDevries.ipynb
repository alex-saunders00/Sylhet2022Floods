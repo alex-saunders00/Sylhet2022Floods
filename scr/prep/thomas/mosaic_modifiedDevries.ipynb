{
 "cells": [
  {
   "cell_type": "markdown",
   "id": "a8b3dd4f-6c86-456a-b7c2-a73985a91ec2",
   "metadata": {},
   "source": [
    "# Project: NIP\n",
    "# Subroject: Sylhet Floods, June 2022\n",
    "## Script: stitch_modifiedDevries.ipynb\n",
    "This script stitches together the outputs of the modified DeVries Sentinel-1 surface water mapping algorithm (Thomas et al., 2021). It stitches together the tiled flood map outputs for each image date to create complete mosaics for the ROI."
   ]
  },
  {
   "cell_type": "code",
   "execution_count": 1,
   "id": "89b5fc22-8f3a-4e36-99b0-8c2240b04ad5",
   "metadata": {},
   "outputs": [],
   "source": [
    "from pathlib import Path\n",
    "import os\n",
    "import sys\n",
    "import pandas as pd\n",
    "import numpy as np\n",
    "from rasterio.plot import show\n",
    "from rasterio.merge import merge\n",
    "import rasterio as rio"
   ]
  },
  {
   "cell_type": "code",
   "execution_count": 2,
   "id": "e090b766-cc0a-4cdc-8361-29e63c1f419b",
   "metadata": {},
   "outputs": [],
   "source": [
    "# Set the root path\n",
    "rootPath = Path('Z:/media/mule/Projects/NASA/NIP/Data')"
   ]
  },
  {
   "cell_type": "code",
   "execution_count": 3,
   "id": "047379e1-9027-4af1-9fba-1c1cacdfeac2",
   "metadata": {},
   "outputs": [],
   "source": [
    "# Add path for the Helpers modules\n",
    "module_path = os.path.abspath(os.path.join('C:/Users/alexsaunders/Documents/01_uoa/04_git/NIP/Sylhet/'))\n",
    "if module_path not in sys.path:\n",
    "    sys.path.append(module_path)"
   ]
  },
  {
   "cell_type": "code",
   "execution_count": 4,
   "id": "a8802be9-9a01-41a0-b970-40dbfe441260",
   "metadata": {},
   "outputs": [
    {
     "data": {
      "text/plain": [
       "<module 'Helpers.prepare_flood_raster' from 'C:\\\\Users\\\\alexsaunders\\\\Documents\\\\01_uoa\\\\04_git\\\\NIP\\\\Sylhet\\\\Helpers\\\\prepare_flood_raster.py'>"
      ]
     },
     "execution_count": 4,
     "metadata": {},
     "output_type": "execute_result"
    }
   ],
   "source": [
    "# Import module from prep_raster containing helpful functions to use\n",
    "import importlib\n",
    "import Helpers.prepare_flood_raster as prep_raster\n",
    "importlib.reload(prep_raster)"
   ]
  },
  {
   "cell_type": "markdown",
   "id": "50fb93a5-636f-4493-8a36-7497666a0e3b",
   "metadata": {},
   "source": [
    "## PART 1: Stitch together the map tiles\n",
    "Stitch together the map tiles output of the water mapping algorithm, for each timestep."
   ]
  },
  {
   "cell_type": "code",
   "execution_count": 5,
   "id": "aa4f595b-9362-48e4-b66d-9fa50d9535f8",
   "metadata": {},
   "outputs": [],
   "source": [
    "inputPath = 'Raster/Sylhet/Sen1MitchellSingleOrbit/dryBaseV2'"
   ]
  },
  {
   "cell_type": "code",
   "execution_count": 6,
   "id": "d6df90e5-d411-49d2-8038-6b0b53ccb025",
   "metadata": {},
   "outputs": [],
   "source": [
    "# Files have naming convention ending in 5 charcter orbit number, preceeded by date format e.g. '20220604'\n",
    "\n",
    "# Get a list of the files \n",
    "#input_tiles = list((rootPath/inputPath).iterdir())\n",
    "input_tiles = list(file for file in (rootPath/inputPath).iterdir() if file.is_file())"
   ]
  },
  {
   "cell_type": "code",
   "execution_count": 7,
   "id": "9397996c-22f6-4af8-b1a8-759319d39b1f",
   "metadata": {},
   "outputs": [
    {
     "data": {
      "text/plain": [
       "1330"
      ]
     },
     "execution_count": 7,
     "metadata": {},
     "output_type": "execute_result"
    }
   ],
   "source": [
    "len(input_tiles)"
   ]
  },
  {
   "cell_type": "code",
   "execution_count": 5,
   "id": "19781715-7e11-43d7-835f-e10eb60b2eae",
   "metadata": {},
   "outputs": [],
   "source": [
    "#input_tiles = [item for item in input_tiles if '202205' in str(item)]\n",
    "#input_tiles = [item for item in input_tiles if int(str(item)[-18:-10])>=20220725]"
   ]
  },
  {
   "cell_type": "code",
   "execution_count": 8,
   "id": "437babd9-49af-4473-aafc-1a9282498483",
   "metadata": {},
   "outputs": [],
   "source": [
    "# Get the unique image dates\n",
    "dates = np.unique([item.name[-18:-4] for item in input_tiles])"
   ]
  },
  {
   "cell_type": "code",
   "execution_count": 9,
   "id": "7a7c3d09-4d47-4947-a306-fe173fa43d6f",
   "metadata": {},
   "outputs": [
    {
     "data": {
      "text/plain": [
       "19"
      ]
     },
     "execution_count": 9,
     "metadata": {},
     "output_type": "execute_result"
    }
   ],
   "source": [
    "len(dates)"
   ]
  },
  {
   "cell_type": "code",
   "execution_count": 11,
   "id": "7cedffc4-d061-483f-81aa-942dcc80bb01",
   "metadata": {},
   "outputs": [
    {
     "name": "stdout",
     "output_type": "stream",
     "text": [
      "Date:  20220501_43024 , # tiles:  70\n",
      "Mosaic created and exported:  Z:\\media\\mule\\Projects\\NASA\\NIP\\Data\\Raster\\Sylhet\\Sen1MitchellSingleOrbit\\dryBaseV2\\Mosaic\\sylhet_dist_20220501_43024.tif \n",
      "\n",
      "Date:  20220511_43163 , # tiles:  70\n",
      "Mosaic created and exported:  Z:\\media\\mule\\Projects\\NASA\\NIP\\Data\\Raster\\Sylhet\\Sen1MitchellSingleOrbit\\dryBaseV2\\Mosaic\\sylhet_dist_20220511_43163.tif \n",
      "\n",
      "Date:  20220513_43199 , # tiles:  70\n",
      "Mosaic created and exported:  Z:\\media\\mule\\Projects\\NASA\\NIP\\Data\\Raster\\Sylhet\\Sen1MitchellSingleOrbit\\dryBaseV2\\Mosaic\\sylhet_dist_20220513_43199.tif \n",
      "\n",
      "Date:  20220523_43338 , # tiles:  70\n",
      "Mosaic created and exported:  Z:\\media\\mule\\Projects\\NASA\\NIP\\Data\\Raster\\Sylhet\\Sen1MitchellSingleOrbit\\dryBaseV2\\Mosaic\\sylhet_dist_20220523_43338.tif \n",
      "\n",
      "Date:  20220525_43374 , # tiles:  70\n",
      "Mosaic created and exported:  Z:\\media\\mule\\Projects\\NASA\\NIP\\Data\\Raster\\Sylhet\\Sen1MitchellSingleOrbit\\dryBaseV2\\Mosaic\\sylhet_dist_20220525_43374.tif \n",
      "\n",
      "Date:  20220604_43513 , # tiles:  70\n",
      "Mosaic created and exported:  Z:\\media\\mule\\Projects\\NASA\\NIP\\Data\\Raster\\Sylhet\\Sen1MitchellSingleOrbit\\dryBaseV2\\Mosaic\\sylhet_dist_20220604_43513.tif \n",
      "\n",
      "Date:  20220606_43549 , # tiles:  70\n",
      "Mosaic created and exported:  Z:\\media\\mule\\Projects\\NASA\\NIP\\Data\\Raster\\Sylhet\\Sen1MitchellSingleOrbit\\dryBaseV2\\Mosaic\\sylhet_dist_20220606_43549.tif \n",
      "\n",
      "Date:  20220616_43688 , # tiles:  70\n",
      "Mosaic created and exported:  Z:\\media\\mule\\Projects\\NASA\\NIP\\Data\\Raster\\Sylhet\\Sen1MitchellSingleOrbit\\dryBaseV2\\Mosaic\\sylhet_dist_20220616_43688.tif \n",
      "\n",
      "Date:  20220618_43724 , # tiles:  70\n",
      "Mosaic created and exported:  Z:\\media\\mule\\Projects\\NASA\\NIP\\Data\\Raster\\Sylhet\\Sen1MitchellSingleOrbit\\dryBaseV2\\Mosaic\\sylhet_dist_20220618_43724.tif \n",
      "\n",
      "Date:  20220628_43863 , # tiles:  70\n",
      "Mosaic created and exported:  Z:\\media\\mule\\Projects\\NASA\\NIP\\Data\\Raster\\Sylhet\\Sen1MitchellSingleOrbit\\dryBaseV2\\Mosaic\\sylhet_dist_20220628_43863.tif \n",
      "\n",
      "Date:  20220630_43899 , # tiles:  70\n",
      "Mosaic created and exported:  Z:\\media\\mule\\Projects\\NASA\\NIP\\Data\\Raster\\Sylhet\\Sen1MitchellSingleOrbit\\dryBaseV2\\Mosaic\\sylhet_dist_20220630_43899.tif \n",
      "\n",
      "Date:  20220712_44074 , # tiles:  70\n",
      "Mosaic created and exported:  Z:\\media\\mule\\Projects\\NASA\\NIP\\Data\\Raster\\Sylhet\\Sen1MitchellSingleOrbit\\dryBaseV2\\Mosaic\\sylhet_dist_20220712_44074.tif \n",
      "\n",
      "Date:  20220722_44213 , # tiles:  70\n",
      "Mosaic created and exported:  Z:\\media\\mule\\Projects\\NASA\\NIP\\Data\\Raster\\Sylhet\\Sen1MitchellSingleOrbit\\dryBaseV2\\Mosaic\\sylhet_dist_20220722_44213.tif \n",
      "\n",
      "Date:  20220724_44249 , # tiles:  70\n",
      "Mosaic created and exported:  Z:\\media\\mule\\Projects\\NASA\\NIP\\Data\\Raster\\Sylhet\\Sen1MitchellSingleOrbit\\dryBaseV2\\Mosaic\\sylhet_dist_20220724_44249.tif \n",
      "\n",
      "Date:  20220803_44388 , # tiles:  70\n",
      "Mosaic created and exported:  Z:\\media\\mule\\Projects\\NASA\\NIP\\Data\\Raster\\Sylhet\\Sen1MitchellSingleOrbit\\dryBaseV2\\Mosaic\\sylhet_dist_20220803_44388.tif \n",
      "\n",
      "Date:  20220805_44424 , # tiles:  70\n",
      "Mosaic created and exported:  Z:\\media\\mule\\Projects\\NASA\\NIP\\Data\\Raster\\Sylhet\\Sen1MitchellSingleOrbit\\dryBaseV2\\Mosaic\\sylhet_dist_20220805_44424.tif \n",
      "\n",
      "Date:  20220815_44563 , # tiles:  70\n",
      "Mosaic created and exported:  Z:\\media\\mule\\Projects\\NASA\\NIP\\Data\\Raster\\Sylhet\\Sen1MitchellSingleOrbit\\dryBaseV2\\Mosaic\\sylhet_dist_20220815_44563.tif \n",
      "\n",
      "Date:  20220827_44738 , # tiles:  70\n",
      "Mosaic created and exported:  Z:\\media\\mule\\Projects\\NASA\\NIP\\Data\\Raster\\Sylhet\\Sen1MitchellSingleOrbit\\dryBaseV2\\Mosaic\\sylhet_dist_20220827_44738.tif \n",
      "\n",
      "Date:  20220829_44774 , # tiles:  70\n",
      "Mosaic created and exported:  Z:\\media\\mule\\Projects\\NASA\\NIP\\Data\\Raster\\Sylhet\\Sen1MitchellSingleOrbit\\dryBaseV2\\Mosaic\\sylhet_dist_20220829_44774.tif \n",
      "\n"
     ]
    }
   ],
   "source": [
    "# Loop over all images date, create and export a mosaic raster\n",
    "outputPath = rootPath/'Raster/Sylhet/Sen1MitchellSingleOrbit/dryBaseV2/Mosaic'\n",
    "outputPath.mkdir(exist_ok=True)\n",
    "\n",
    "for date in dates:\n",
    "    \n",
    "    input_tiles_onDate = [tile for tile in input_tiles if date in str(tile)]\n",
    "    print('Date: ', date, ', # tiles: ', len(input_tiles_onDate))\n",
    "\n",
    "    # Mosaic the raster maps for each unique date\n",
    "    raster_to_mosiac = []\n",
    "    \n",
    "    # Check if already exists in which case skip to the next \n",
    "    outputName = 'sylhet_dist_' + str(date) + '.tif' # change name if required\n",
    "    if os.path.exists(outputPath/outputName):\n",
    "        print('Already exists')\n",
    "        continue\n",
    "    \n",
    "    # Run the function to create the mosaic \n",
    "    mosaic, output_meta = prep_raster.mosaic_rasters(input_tiles_onDate)\n",
    "    \n",
    "    # Output the mosaic\n",
    "    with rio.open(outputPath/outputName, 'w', **output_meta) as m:\n",
    "        m.write(mosaic)\n",
    "    print('Mosaic created and exported: ', outputPath/outputName, '\\n')"
   ]
  }
 ],
 "metadata": {
  "kernelspec": {
   "display_name": "Python 3 (ipykernel)",
   "language": "python",
   "name": "python3"
  },
  "language_info": {
   "codemirror_mode": {
    "name": "ipython",
    "version": 3
   },
   "file_extension": ".py",
   "mimetype": "text/x-python",
   "name": "python",
   "nbconvert_exporter": "python",
   "pygments_lexer": "ipython3",
   "version": "3.8.13"
  }
 },
 "nbformat": 4,
 "nbformat_minor": 5
}
