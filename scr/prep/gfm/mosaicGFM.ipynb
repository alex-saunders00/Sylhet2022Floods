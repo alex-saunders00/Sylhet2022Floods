{
 "cells": [
  {
   "cell_type": "markdown",
   "id": "085e3f45-714f-4166-8ede-769a881dbdeb",
   "metadata": {},
   "source": [
    "# Sylhet Floods 2022\n",
    "## mosaicGFM.ipynb\n",
    "This script mosaics the Copernicus GFM surface water maps to create a single mosaic of all tiles for each image date. Maps were downloaded in geotiff format from the GFM portal."
   ]
  },
  {
   "cell_type": "code",
   "execution_count": 1,
   "id": "82e91b2f-6b48-4651-8498-26a5053edc45",
   "metadata": {},
   "outputs": [],
   "source": [
    "from pathlib import Path\n",
    "import os\n",
    "import sys\n",
    "import pandas as pd\n",
    "import numpy as np\n",
    "import rasterio\n",
    "import matplotlib.pyplot as plt\n",
    "import rasterio as rio\n",
    "from rasterio import merge\n",
    "from rasterio.plot import show\n",
    "from rasterio.mask import mask\n",
    "from rasterio.merge import merge"
   ]
  },
  {
   "cell_type": "code",
   "execution_count": 2,
   "id": "b899c341-fed9-4aa5-b321-163d4078c5f6",
   "metadata": {},
   "outputs": [],
   "source": [
    "# Set the root path\n",
    "rootPath = Path('Z:/media/mule/Projects/NASA/NIP/Data')"
   ]
  },
  {
   "cell_type": "code",
   "execution_count": 3,
   "id": "0f0a0755-14f5-4891-9357-8348b356cd57",
   "metadata": {},
   "outputs": [],
   "source": [
    "# Set the module path for helpers\n",
    "module_path = os.path.abspath(os.path.join('C:/Users/alexa/Documents/GitHub/Sylhet2022Floods/scr/'))\n",
    "if module_path not in sys.path:\n",
    "    sys.path.append(module_path)"
   ]
  },
  {
   "cell_type": "code",
   "execution_count": 14,
   "id": "5c5fb193-c7c9-4742-84d0-18397bfbef01",
   "metadata": {
    "tags": []
   },
   "outputs": [
    {
     "data": {
      "text/plain": [
       "<module 'Helpers.prepare_flood_raster' from 'C:\\\\Users\\\\alexsaunders\\\\Documents\\\\01_uoa\\\\04_git\\\\NIP\\\\Sylhet\\\\Helpers\\\\prepare_flood_raster.py'>"
      ]
     },
     "execution_count": 14,
     "metadata": {},
     "output_type": "execute_result"
    }
   ],
   "source": [
    "# Import module from prep_raster containing helpful functions to use\n",
    "import importlib\n",
    "import helpers.prepare_flood_raster as prep_raster\n",
    "importlib.reload(prep_raster)"
   ]
  },
  {
   "cell_type": "markdown",
   "id": "cca41ad1-d0be-44f3-af1f-9ea0f5b5c6a7",
   "metadata": {
    "tags": []
   },
   "source": [
    "## PART 1: Mosaic the Copernicus GFM data\n",
    "Stitch together rasters on the same date, for the Sentinel-1 surface water maps created by Copernicus Global Flood Monitoring, ensemble output from three algorithms."
   ]
  },
  {
   "cell_type": "code",
   "execution_count": 5,
   "id": "60298fcf-3579-4ff3-8a2c-bfaf407ac138",
   "metadata": {},
   "outputs": [],
   "source": [
    "GFMPath = rootPath/'Raster/SylhetCopernicusGFM/sylhet_district_2022-05-01-2022-08-31'"
   ]
  },
  {
   "cell_type": "code",
   "execution_count": 6,
   "id": "8eeb3770-791f-4c87-a9fe-68d9b2948c7f",
   "metadata": {},
   "outputs": [
    {
     "name": "stdout",
     "output_type": "stream",
     "text": [
      "['2022_05_01', '2022_05_11', '2022_05_13', '2022_05_23', '2022_05_25', '2022_06_04', '2022_06_06', '2022_06_16', '2022_06_18', '2022_06_28', '2022_06_30', '2022_07_12', '2022_07_22', '2022_07_24', '2022_08_05', '2022_08_15', '2022_08_27', '2022_08_29']\n"
     ]
    }
   ],
   "source": [
    "date_folders = list(GFMPath.iterdir())\n",
    "dates = [date_folder.name for date_folder in date_folders if date_folder.name != 'Mosaic']\n",
    "print(dates)"
   ]
  },
  {
   "cell_type": "code",
   "execution_count": 15,
   "id": "788bca5a-4818-4af8-a3b7-c86c91c9e61b",
   "metadata": {
    "jp-MarkdownHeadingCollapsed": true,
    "tags": []
   },
   "outputs": [
    {
     "name": "stdout",
     "output_type": "stream",
     "text": [
      "Date:  2022_05_01  already exists\n",
      "Date:  2022_05_11  already exists\n",
      "Date:  2022_05_13  already exists\n",
      "Date:  2022_05_23  already exists\n",
      "Date:  2022_05_25  already exists\n",
      "Date:  2022_06_04  already exists\n",
      "Date:  2022_06_06  already exists\n",
      "Date:  2022_06_16  already exists\n",
      "Date:  2022_06_18  already exists\n",
      "Date:  2022_06_28  already exists\n",
      "Date:  2022_06_30  already exists\n",
      "Date:  2022_07_12 , # tiles:  4\n",
      "Mosaic created and exported:  Z:\\media\\mule\\Projects\\NASA\\NIP\\Data\\Raster\\SylhetCopernicusGFM\\sylhet_district_2022-05-01-2022-08-31\\Mosaic\\GFM_ENSEMBLE_OBSWATER_2022_07_12.tif \n",
      "\n",
      "Date:  2022_07_22 , # tiles:  4\n",
      "Mosaic created and exported:  Z:\\media\\mule\\Projects\\NASA\\NIP\\Data\\Raster\\SylhetCopernicusGFM\\sylhet_district_2022-05-01-2022-08-31\\Mosaic\\GFM_ENSEMBLE_OBSWATER_2022_07_22.tif \n",
      "\n",
      "Date:  2022_07_24 , # tiles:  4\n",
      "Mosaic created and exported:  Z:\\media\\mule\\Projects\\NASA\\NIP\\Data\\Raster\\SylhetCopernicusGFM\\sylhet_district_2022-05-01-2022-08-31\\Mosaic\\GFM_ENSEMBLE_OBSWATER_2022_07_24.tif \n",
      "\n",
      "Date:  2022_08_05 , # tiles:  4\n",
      "Mosaic created and exported:  Z:\\media\\mule\\Projects\\NASA\\NIP\\Data\\Raster\\SylhetCopernicusGFM\\sylhet_district_2022-05-01-2022-08-31\\Mosaic\\GFM_ENSEMBLE_OBSWATER_2022_08_05.tif \n",
      "\n",
      "Date:  2022_08_15 , # tiles:  4\n",
      "Mosaic created and exported:  Z:\\media\\mule\\Projects\\NASA\\NIP\\Data\\Raster\\SylhetCopernicusGFM\\sylhet_district_2022-05-01-2022-08-31\\Mosaic\\GFM_ENSEMBLE_OBSWATER_2022_08_15.tif \n",
      "\n",
      "Date:  2022_08_27 , # tiles:  4\n",
      "Mosaic created and exported:  Z:\\media\\mule\\Projects\\NASA\\NIP\\Data\\Raster\\SylhetCopernicusGFM\\sylhet_district_2022-05-01-2022-08-31\\Mosaic\\GFM_ENSEMBLE_OBSWATER_2022_08_27.tif \n",
      "\n",
      "Date:  2022_08_29 , # tiles:  4\n",
      "Mosaic created and exported:  Z:\\media\\mule\\Projects\\NASA\\NIP\\Data\\Raster\\SylhetCopernicusGFM\\sylhet_district_2022-05-01-2022-08-31\\Mosaic\\GFM_ENSEMBLE_OBSWATER_2022_08_29.tif \n",
      "\n"
     ]
    }
   ],
   "source": [
    "# Mosaic together the GFM rasters on a given date and save as a new single tif for each date\n",
    "outputPath = GFMPath/'Mosaic'\n",
    "outputPath.mkdir(exist_ok=True)\n",
    "\n",
    "# Loop through all dates and stitch together the rasters\n",
    "for n, date in enumerate(dates):\n",
    "    \n",
    "    # Check if already exists in which case skip to the next \n",
    "    outputName = 'GFM_ENSEMBLE_OBSWATER_' + str(date) + '.tif' # change name if required\n",
    "    if os.path.exists(outputPath/outputName):\n",
    "        print('Date: ', date, ' already exists')\n",
    "        continue\n",
    "        \n",
    "    folder = date_folders[n]\n",
    "     \n",
    "    # Get the tif files representing the surface water (note that GPM also provide flood water geotiffs which remove permanent water)\n",
    "    GFM_tiles = [item for item in folder.iterdir() if 'ENSEMBLE_OBSWATER' in str(item) and item.suffix =='.tif']\n",
    "\n",
    "    # Mosaic together the surface water geotiffs on the same date\n",
    "    print('Date: ', date, ', # tiles: ', len(GFM_tiles))\n",
    "    raster_to_mosiac = []\n",
    "\n",
    "    # Run the function to create the mosaic \n",
    "    mosaic, output_meta = prep_raster.mosaic_rasters(GFM_tiles)\n",
    "    \n",
    "    # Output the mosaic\n",
    "    with rio.open(outputPath/outputName, 'w', **output_meta) as m:\n",
    "        m.write(mosaic)\n",
    "    print('Mosaic created and exported: ', outputPath/outputName, '\\n')"
   ]
  }
 ],
 "metadata": {
  "kernelspec": {
   "display_name": "Python 3 (ipykernel)",
   "language": "python",
   "name": "python3"
  },
  "language_info": {
   "codemirror_mode": {
    "name": "ipython",
    "version": 3
   },
   "file_extension": ".py",
   "mimetype": "text/x-python",
   "name": "python",
   "nbconvert_exporter": "python",
   "pygments_lexer": "ipython3",
   "version": "3.8.16"
  }
 },
 "nbformat": 4,
 "nbformat_minor": 5
}
