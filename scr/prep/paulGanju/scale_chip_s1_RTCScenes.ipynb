{
 "cells": [
  {
   "cell_type": "markdown",
   "id": "a0f29c4e-2561-4fc0-825c-04daaa67c929",
   "metadata": {
    "tags": []
   },
   "source": [
    "# Project: NIP\n",
    "# Subroject: Sylhet Floods NASA IMPACT Sentinel-1 machine learning inference\n",
    "## Script: scale_chip_s1_RTCScenes.ipynb\n",
    "This script prepares the Sentinel-1 data into chips for running the NASA IMPACT machine learning inference. We follow the same steps used by NASA IMPACT when they created the original data for the training of the ML models.\n",
    "\n",
    "This assumes that radiometric-terrain corrected images have already been acquired using the Hybrid Pluggable Processing Pipeline or ”HyP3” system, from the Alaska Satellite Facility (https://hyp3-docs.asf.alaska.edu/using/sdk/).\n",
    "\n",
    "We then convert to WGS 84 (EPSG:4326), and convert the images into a uint8 data from uint16.\n",
    "\n",
    "Then, we chip the images into 256x256 pixels of 10 m resolution and save tiffs."
   ]
  },
  {
   "cell_type": "code",
   "execution_count": 1,
   "id": "4b36aebe-b0f7-4713-9307-5ad68b3d6d64",
   "metadata": {},
   "outputs": [],
   "source": [
    "import ee"
   ]
  },
  {
   "cell_type": "code",
   "execution_count": 2,
   "id": "70e7c00f",
   "metadata": {},
   "outputs": [
    {
     "data": {
      "text/html": [
       "<p>To authorize access needed by Earth Engine, open the following\n",
       "        URL in a web browser and follow the instructions:</p>\n",
       "        <p><a href=https://code.earthengine.google.com/client-auth?scopes=https%3A//www.googleapis.com/auth/earthengine%20https%3A//www.googleapis.com/auth/devstorage.full_control&request_id=QYaRVOwdckFjcO1mfVIUNPV_6ImXA_IDFOqCLBUsl9Q&tc=BsVjJRQmfpy4DoBAgagnp2ajPjurbcX-PT-cOD6ZsUE&cc=SKylxJkk-hDUAuTAkqB-G5vJr4KeUdniU4hoDWTMVB0>https://code.earthengine.google.com/client-auth?scopes=https%3A//www.googleapis.com/auth/earthengine%20https%3A//www.googleapis.com/auth/devstorage.full_control&request_id=QYaRVOwdckFjcO1mfVIUNPV_6ImXA_IDFOqCLBUsl9Q&tc=BsVjJRQmfpy4DoBAgagnp2ajPjurbcX-PT-cOD6ZsUE&cc=SKylxJkk-hDUAuTAkqB-G5vJr4KeUdniU4hoDWTMVB0</a></p>\n",
       "        <p>The authorization workflow will generate a code, which you should paste in the box below.</p>\n",
       "        "
      ],
      "text/plain": [
       "<IPython.core.display.HTML object>"
      ]
     },
     "metadata": {},
     "output_type": "display_data"
    },
    {
     "name": "stdin",
     "output_type": "stream",
     "text": [
      "Enter verification code:  4/1AVHEtk5RZtwV356HmbLD8yRFr8ybG5nJP8m-q4V2t41-v0UJrTpBflnbW6w\n"
     ]
    },
    {
     "name": "stdout",
     "output_type": "stream",
     "text": [
      "\n",
      "Successfully saved authorization token.\n"
     ]
    }
   ],
   "source": [
    "ee.Authenticate()"
   ]
  },
  {
   "cell_type": "code",
   "execution_count": 3,
   "id": "a460a6fa",
   "metadata": {},
   "outputs": [],
   "source": [
    "ee.Initialize()"
   ]
  },
  {
   "cell_type": "code",
   "execution_count": 1,
   "id": "8add4f46",
   "metadata": {},
   "outputs": [],
   "source": [
    "from pathlib import Path\n",
    "import os\n",
    "import sys\n",
    "import pandas as pd\n",
    "import numpy as np\n",
    "import geemap\n",
    "import importlib\n",
    "import shutil\n",
    "import matplotlib.pyplot as plt\n",
    "import rasterio as rio\n",
    "from rasterio import warp\n",
    "import zipfile\n",
    "import geopandas as gpd\n",
    "from osgeo import gdal\n",
    "import json\n",
    "from py_linq import Enumerable\n",
    "from shapely.geometry import box\n",
    "from shapely.geometry import Polygon\n",
    "from osgeo import gdal\n",
    "import fiona\n",
    "from osgeo import gdal, ogr"
   ]
  },
  {
   "cell_type": "code",
   "execution_count": 2,
   "id": "17b28885",
   "metadata": {},
   "outputs": [],
   "source": [
    "# Set the root path\n",
    "rootPath = Path('Z:/media/mule/Projects/NASA/NIP/Data/Raster/')"
   ]
  },
  {
   "cell_type": "code",
   "execution_count": 3,
   "id": "0561c00c",
   "metadata": {},
   "outputs": [],
   "source": [
    "# Set the module path for accessing the Devries scripts\n",
    "module_path = os.path.abspath(os.path.join('C:/Users/alexsaunders/Documents/01_uoa/04_git/NIP/SylhetNASAImpact/'))\n",
    "# module_path = os.path.abspath(os.path.join('C:/Users/alexa/Documents/GitHub/NIP/SylhetNASAImpact/'))\n",
    "if module_path not in sys.path:\n",
    "    sys.path.append(module_path)"
   ]
  },
  {
   "cell_type": "code",
   "execution_count": 4,
   "id": "ca427170-c3a5-4938-a5c1-d67b556e940a",
   "metadata": {
    "tags": []
   },
   "outputs": [
    {
     "data": {
      "text/plain": [
       "<module 'Helpers.prepare_chips' from 'C:\\\\Users\\\\alexsaunders\\\\Documents\\\\01_uoa\\\\04_git\\\\NIP\\\\SylhetNASAImpact\\\\Helpers\\\\prepare_chips.py'>"
      ]
     },
     "execution_count": 4,
     "metadata": {},
     "output_type": "execute_result"
    }
   ],
   "source": [
    "# Import modules from the helpers folder\n",
    "import Helpers.prepare_chips as prepChips\n",
    "importlib.reload(prepChips)"
   ]
  },
  {
   "cell_type": "markdown",
   "id": "62f31377-574a-49dc-aa85-a1a7a0a6dcec",
   "metadata": {},
   "source": [
    "## PART 1: Convert the images from UTM to WGS 84 (EPSG:4326) and crop to the ROI\n",
    "Crop to the ROI here to save processing time in the remainder"
   ]
  },
  {
   "cell_type": "markdown",
   "id": "9c250be2-623e-4512-9fb0-ac44a0acd145",
   "metadata": {},
   "source": [
    "### Creating ROI bounds shapefile for cropping the full rasters"
   ]
  },
  {
   "cell_type": "code",
   "execution_count": 5,
   "id": "7839f6bf-9edf-43f7-89f6-8e1dd1440fee",
   "metadata": {},
   "outputs": [],
   "source": [
    "# Read the geojson of the ROI\n",
    "sylhet_dist_geojson = gpd.read_file(Path('Z:/media/mule/Projects/NASA/NIP/Data/Geojson')/'sylhet_dist.geojson')\n",
    "\n",
    "# Define the coordinates of the bounding box for the ROI\n",
    "bounds = sylhet_dist_geojson.geometry.unary_union.bounds\n",
    "coords = [(bounds[0], bounds[1]),\n",
    "          (bounds[2], bounds[1]),\n",
    "          (bounds[2], bounds[3]),\n",
    "          (bounds[0], bounds[3])]\n",
    "\n",
    "# Create a Shapely polygon from the coordinates\n",
    "roiBounds = Polygon(coords)"
   ]
  },
  {
   "cell_type": "code",
   "execution_count": 31,
   "id": "b9a13eb8-6e05-46bb-9c8d-ab15155d9277",
   "metadata": {},
   "outputs": [],
   "source": [
    "# Write shapeply polygon to a shapefile that gdal warp can use for cropping\n",
    "schema = {'geometry': 'Polygon', 'properties': {'id': 'int'}}\n",
    "\n",
    "# Define the output shapefile\n",
    "roiBoundsShapefile = 'Z:/media/mule/Projects/NASA/NIP/Data/Shapefiles/SylhetDistBbox/SylhetDistBbox.shp'\n",
    "\n",
    "# Open the output shapefile for writing\n",
    "with fiona.open(roiBoundsShapefile, 'w', 'ESRI Shapefile', schema) as output:\n",
    "\n",
    "    # Create a feature from the shapely polygon and add it to the shapefile\n",
    "    feature = {'geometry': roiBounds.__geo_interface__, 'properties': {'id': 1}}\n",
    "    output.write(feature)"
   ]
  },
  {
   "cell_type": "code",
   "execution_count": 6,
   "id": "7702adb6-0c89-4cf4-8fb9-424de0f53150",
   "metadata": {},
   "outputs": [],
   "source": [
    "# Define the output shapefile\n",
    "roiBoundsShapefile = 'Z:/media/mule/Projects/NASA/NIP/Data/Shapefiles/SylhetDistBbox/SylhetDistBbox.shp'"
   ]
  },
  {
   "cell_type": "markdown",
   "id": "e20a25fe-5f55-43d1-b6da-15a81e296ee8",
   "metadata": {},
   "source": [
    "### Reprojecting and cropping"
   ]
  },
  {
   "cell_type": "code",
   "execution_count": 7,
   "id": "1600344e-d2b9-4df0-93e4-3aecd9d42604",
   "metadata": {},
   "outputs": [],
   "source": [
    "# Define input path for RTC files\n",
    "rtcPath = rootPath/'SylhetNASAImpact/1_RTC'"
   ]
  },
  {
   "cell_type": "code",
   "execution_count": 8,
   "id": "ee26d152-bff7-4853-8e33-4f0a74fceb77",
   "metadata": {},
   "outputs": [],
   "source": [
    "# Define the output path for saving the WGS84 files\n",
    "WGS84Path = rootPath/'SylhetNASAImpact/2_WGS84Cropped_V2'\n",
    "WGS84Path.mkdir(exist_ok=True)\n",
    "target_crs='EPSG:4326'#'epsg:4326'"
   ]
  },
  {
   "cell_type": "code",
   "execution_count": 23,
   "id": "27bb75f0-345e-4419-a375-307dae0e2218",
   "metadata": {},
   "outputs": [
    {
     "name": "stdout",
     "output_type": "stream",
     "text": [
      "Creating file: Z:\\media\\mule\\Projects\\NASA\\NIP\\Data\\Raster\\SylhetNASAImpact\\2_WGS84Cropped_V2\\S1A_IW_20220501T234740_WGS84Cropped_VH.tif\n",
      "Creating file: Z:\\media\\mule\\Projects\\NASA\\NIP\\Data\\Raster\\SylhetNASAImpact\\2_WGS84Cropped_V2\\S1A_IW_20220501T234740_WGS84Cropped_VV.tif\n",
      "Creating file: Z:\\media\\mule\\Projects\\NASA\\NIP\\Data\\Raster\\SylhetNASAImpact\\2_WGS84Cropped_V2\\S1A_IW_20220511T115642_WGS84Cropped_VV.tif\n",
      "Creating file: Z:\\media\\mule\\Projects\\NASA\\NIP\\Data\\Raster\\SylhetNASAImpact\\2_WGS84Cropped_V2\\S1A_IW_20220511T115642_WGS84Cropped_VH.tif\n",
      "Creating file: Z:\\media\\mule\\Projects\\NASA\\NIP\\Data\\Raster\\SylhetNASAImpact\\2_WGS84Cropped_V2\\S1A_IW_20220513T234740_WGS84Cropped_VH.tif\n",
      "Creating file: Z:\\media\\mule\\Projects\\NASA\\NIP\\Data\\Raster\\SylhetNASAImpact\\2_WGS84Cropped_V2\\S1A_IW_20220513T234740_WGS84Cropped_VV.tif\n",
      "Creating file: Z:\\media\\mule\\Projects\\NASA\\NIP\\Data\\Raster\\SylhetNASAImpact\\2_WGS84Cropped_V2\\S1A_IW_20220523T115643_WGS84Cropped_VV.tif\n",
      "Creating file: Z:\\media\\mule\\Projects\\NASA\\NIP\\Data\\Raster\\SylhetNASAImpact\\2_WGS84Cropped_V2\\S1A_IW_20220523T115643_WGS84Cropped_VH.tif\n",
      "Creating file: Z:\\media\\mule\\Projects\\NASA\\NIP\\Data\\Raster\\SylhetNASAImpact\\2_WGS84Cropped_V2\\S1A_IW_20220525T234741_WGS84Cropped_VV.tif\n",
      "Creating file: Z:\\media\\mule\\Projects\\NASA\\NIP\\Data\\Raster\\SylhetNASAImpact\\2_WGS84Cropped_V2\\S1A_IW_20220525T234741_WGS84Cropped_VH.tif\n",
      "Creating file: Z:\\media\\mule\\Projects\\NASA\\NIP\\Data\\Raster\\SylhetNASAImpact\\2_WGS84Cropped_V2\\S1A_IW_20220604T115644_WGS84Cropped_VV.tif\n",
      "Creating file: Z:\\media\\mule\\Projects\\NASA\\NIP\\Data\\Raster\\SylhetNASAImpact\\2_WGS84Cropped_V2\\S1A_IW_20220604T115644_WGS84Cropped_VH.tif\n",
      "Creating file: Z:\\media\\mule\\Projects\\NASA\\NIP\\Data\\Raster\\SylhetNASAImpact\\2_WGS84Cropped_V2\\S1A_IW_20220606T234742_WGS84Cropped_VH.tif\n",
      "Creating file: Z:\\media\\mule\\Projects\\NASA\\NIP\\Data\\Raster\\SylhetNASAImpact\\2_WGS84Cropped_V2\\S1A_IW_20220606T234742_WGS84Cropped_VV.tif\n",
      "Creating file: Z:\\media\\mule\\Projects\\NASA\\NIP\\Data\\Raster\\SylhetNASAImpact\\2_WGS84Cropped_V2\\S1A_IW_20220616T115645_WGS84Cropped_VV.tif\n",
      "Creating file: Z:\\media\\mule\\Projects\\NASA\\NIP\\Data\\Raster\\SylhetNASAImpact\\2_WGS84Cropped_V2\\S1A_IW_20220616T115645_WGS84Cropped_VH.tif\n",
      "Creating file: Z:\\media\\mule\\Projects\\NASA\\NIP\\Data\\Raster\\SylhetNASAImpact\\2_WGS84Cropped_V2\\S1A_IW_20220618T234743_WGS84Cropped_VV.tif\n",
      "Creating file: Z:\\media\\mule\\Projects\\NASA\\NIP\\Data\\Raster\\SylhetNASAImpact\\2_WGS84Cropped_V2\\S1A_IW_20220618T234743_WGS84Cropped_VH.tif\n",
      "Creating file: Z:\\media\\mule\\Projects\\NASA\\NIP\\Data\\Raster\\SylhetNASAImpact\\2_WGS84Cropped_V2\\S1A_IW_20220628T115646_WGS84Cropped_VH.tif\n",
      "Creating file: Z:\\media\\mule\\Projects\\NASA\\NIP\\Data\\Raster\\SylhetNASAImpact\\2_WGS84Cropped_V2\\S1A_IW_20220628T115646_WGS84Cropped_VV.tif\n",
      "Creating file: Z:\\media\\mule\\Projects\\NASA\\NIP\\Data\\Raster\\SylhetNASAImpact\\2_WGS84Cropped_V2\\S1A_IW_20220630T234744_WGS84Cropped_VH.tif\n",
      "Creating file: Z:\\media\\mule\\Projects\\NASA\\NIP\\Data\\Raster\\SylhetNASAImpact\\2_WGS84Cropped_V2\\S1A_IW_20220630T234744_WGS84Cropped_VV.tif\n",
      "Creating file: Z:\\media\\mule\\Projects\\NASA\\NIP\\Data\\Raster\\SylhetNASAImpact\\2_WGS84Cropped_V2\\S1A_IW_20220712T234744_WGS84Cropped_VH.tif\n",
      "Creating file: Z:\\media\\mule\\Projects\\NASA\\NIP\\Data\\Raster\\SylhetNASAImpact\\2_WGS84Cropped_V2\\S1A_IW_20220712T234744_WGS84Cropped_VV.tif\n",
      "Creating file: Z:\\media\\mule\\Projects\\NASA\\NIP\\Data\\Raster\\SylhetNASAImpact\\2_WGS84Cropped_V2\\S1A_IW_20220722T115647_WGS84Cropped_VH.tif\n",
      "Creating file: Z:\\media\\mule\\Projects\\NASA\\NIP\\Data\\Raster\\SylhetNASAImpact\\2_WGS84Cropped_V2\\S1A_IW_20220722T115647_WGS84Cropped_VV.tif\n",
      "Creating file: Z:\\media\\mule\\Projects\\NASA\\NIP\\Data\\Raster\\SylhetNASAImpact\\2_WGS84Cropped_V2\\S1A_IW_20220724T234745_WGS84Cropped_VH.tif\n",
      "Creating file: Z:\\media\\mule\\Projects\\NASA\\NIP\\Data\\Raster\\SylhetNASAImpact\\2_WGS84Cropped_V2\\S1A_IW_20220724T234745_WGS84Cropped_VV.tif\n",
      "Creating file: Z:\\media\\mule\\Projects\\NASA\\NIP\\Data\\Raster\\SylhetNASAImpact\\2_WGS84Cropped_V2\\S1A_IW_20220803T115648_WGS84Cropped_VH.tif\n",
      "Creating file: Z:\\media\\mule\\Projects\\NASA\\NIP\\Data\\Raster\\SylhetNASAImpact\\2_WGS84Cropped_V2\\S1A_IW_20220803T115648_WGS84Cropped_VV.tif\n",
      "Creating file: Z:\\media\\mule\\Projects\\NASA\\NIP\\Data\\Raster\\SylhetNASAImpact\\2_WGS84Cropped_V2\\S1A_IW_20220805T234746_WGS84Cropped_VH.tif\n",
      "Creating file: Z:\\media\\mule\\Projects\\NASA\\NIP\\Data\\Raster\\SylhetNASAImpact\\2_WGS84Cropped_V2\\S1A_IW_20220805T234746_WGS84Cropped_VV.tif\n",
      "Creating file: Z:\\media\\mule\\Projects\\NASA\\NIP\\Data\\Raster\\SylhetNASAImpact\\2_WGS84Cropped_V2\\S1A_IW_20220815T115649_WGS84Cropped_VH.tif\n",
      "Creating file: Z:\\media\\mule\\Projects\\NASA\\NIP\\Data\\Raster\\SylhetNASAImpact\\2_WGS84Cropped_V2\\S1A_IW_20220815T115649_WGS84Cropped_VV.tif\n",
      "Creating file: Z:\\media\\mule\\Projects\\NASA\\NIP\\Data\\Raster\\SylhetNASAImpact\\2_WGS84Cropped_V2\\S1A_IW_20220827T115649_WGS84Cropped_VV.tif\n",
      "Creating file: Z:\\media\\mule\\Projects\\NASA\\NIP\\Data\\Raster\\SylhetNASAImpact\\2_WGS84Cropped_V2\\S1A_IW_20220827T115649_WGS84Cropped_VH.tif\n",
      "Creating file: Z:\\media\\mule\\Projects\\NASA\\NIP\\Data\\Raster\\SylhetNASAImpact\\2_WGS84Cropped_V2\\S1A_IW_20220829T234747_WGS84Cropped_VH.tif\n",
      "Creating file: Z:\\media\\mule\\Projects\\NASA\\NIP\\Data\\Raster\\SylhetNASAImpact\\2_WGS84Cropped_V2\\S1A_IW_20220829T234747_WGS84Cropped_VV.tif\n"
     ]
    }
   ],
   "source": [
    "# Loop through each of the original RTC rasters (in this case, one for each date)\n",
    "rtcZips = list(rtcPath.iterdir())\n",
    "\n",
    "for rtcZip in rtcZips:\n",
    "    \n",
    "    with zipfile.ZipFile(str(rtcZip), 'r') as rtcZipOpen:\n",
    "\n",
    "        # Get the names of the VV and VH tif files\n",
    "        rtcList = [item for item in rtcZipOpen.namelist() if item[-6:] == 'VH.tif' or item[-6:] == 'VV.tif']\n",
    "\n",
    "        # Loop through VH and VV files\n",
    "        for rtc in rtcList:\n",
    "\n",
    "            # Get the date from the filename\n",
    "            date = rtc[7:15]\n",
    "            polar = rtc[-6:-4]\n",
    "            rtcWGS84File = WGS84Path/('_'.join(rtc.split('/')[1].split('_')[0:3])+'_WGS84Cropped_'+str(polar)+'.tif')\n",
    "            print('Creating file:', rtcWGS84File)\n",
    "            \n",
    "            # Check if file already exists in whichh case skip ****\n",
    "            if os.path.exists(rtcWGS84File):\n",
    "                continue\n",
    "            \n",
    "            # Open the raster file and reproject tif files from native CRS to WGS84\n",
    "            rtcFile='/vsizip/'+str(rtcZip)+'/'+str(rtc)\n",
    "            rtcRaster = gdal.Open(rtcFile)\n",
    "            warp = gdal.Warp(str(rtcWGS84File), \n",
    "                             rtcRaster, \n",
    "                             dstSRS=target_crs,\n",
    "                             cutlineDSName=roiBoundsShapefile,\n",
    "                             cropToCutline=True,\n",
    "                             dstNodata = -3.4028234663852886e+38) # 0, THIS BIT COULD BE WRONG?\n",
    "            warp = None"
   ]
  },
  {
   "cell_type": "markdown",
   "id": "1cfe4b78-c8ea-46a2-a4da-a9d5e6e83c38",
   "metadata": {},
   "source": [
    "## PART 2: Convert to uint8 and apply the VV and VH scaling"
   ]
  },
  {
   "cell_type": "code",
   "execution_count": 9,
   "id": "5ac18966-b975-414c-b468-85cdd341ebc3",
   "metadata": {},
   "outputs": [],
   "source": [
    "# Define the output path for saving the scaled files\n",
    "ScaledPath = rootPath/'SylhetNASAImpact/3_Scaled_V2'\n",
    "ScaledPath.mkdir(exist_ok=True)"
   ]
  },
  {
   "cell_type": "code",
   "execution_count": 10,
   "id": "4d8786d7-12b4-4a7e-99c9-361abbe90fd0",
   "metadata": {},
   "outputs": [],
   "source": [
    "# Define the scaling values - using the same as used by NASA IMPACT to create original data for competiton for ML trainning\n",
    "scalingVals = {'vhMin': -30, 'vhMax': -10,\n",
    "              'vvMin': -20, 'vvMax': 0}"
   ]
  },
  {
   "cell_type": "code",
   "execution_count": 11,
   "id": "93f2e130-81c2-4e2a-a521-ce34e42720fb",
   "metadata": {},
   "outputs": [],
   "source": [
    "# Function to bytescale - since scipy bytescale is deprecated\n",
    "def bytescaling(data, cmin=None, cmax=None, high=255, low=0):\n",
    "    \"\"\"\n",
    "    Converting the input image to uint8 dtype and scaling\n",
    "    the range to ``(low, high)`` (default 0-255). If the input image already has \n",
    "    dtype uint8, no scaling is done.\n",
    "    :param data: 16-bit image data array\n",
    "    :param cmin: bias scaling of small values (def: data.min())\n",
    "    :param cmax: bias scaling of large values (def: data.max())\n",
    "    :param high: scale max value to high. (def: 255)\n",
    "    :param low: scale min value to low. (def: 0)\n",
    "    :return: 8-bit image data array\n",
    "    \"\"\"\n",
    "    if data.dtype == np.uint8:\n",
    "        return data\n",
    "\n",
    "    if high > 255:\n",
    "        high = 255\n",
    "    if low < 0:\n",
    "        low = 0\n",
    "    if high < low:\n",
    "        raise ValueError(\"`high` should be greater than or equal to `low`.\")\n",
    "\n",
    "    if cmin is None:\n",
    "        cmin = data.min()\n",
    "    if cmax is None:\n",
    "        cmax = data.max()\n",
    "\n",
    "    cscale = cmax - cmin\n",
    "    if cscale == 0:\n",
    "        cscale = 1\n",
    "\n",
    "    scale = float(high - low) / cscale\n",
    "    bytedata = (data - cmin) * scale + low\n",
    "    return (bytedata.clip(low, high) + 0.5).astype(np.uint8)"
   ]
  },
  {
   "cell_type": "code",
   "execution_count": 27,
   "id": "2c319fc1-00a4-4696-badd-c7f31685fb2a",
   "metadata": {},
   "outputs": [
    {
     "name": "stdout",
     "output_type": "stream",
     "text": [
      "Creating file: Z:\\media\\mule\\Projects\\NASA\\NIP\\Data\\Raster\\SylhetNASAImpact\\3_Scaled_V2\\S1A_IW_20220501T234740_WGS84ScaledCropped_VH.tif\n"
     ]
    },
    {
     "name": "stderr",
     "output_type": "stream",
     "text": [
      "C:\\Users\\alexsaunders\\AppData\\Local\\Temp\\ipykernel_14852\\1653599526.py:34: RuntimeWarning: overflow encountered in multiply\n",
      "  bytedata = (data - cmin) * scale + low\n"
     ]
    },
    {
     "name": "stdout",
     "output_type": "stream",
     "text": [
      "Creating file: Z:\\media\\mule\\Projects\\NASA\\NIP\\Data\\Raster\\SylhetNASAImpact\\3_Scaled_V2\\S1A_IW_20220501T234740_WGS84ScaledCropped_VV.tif\n",
      "Creating file: Z:\\media\\mule\\Projects\\NASA\\NIP\\Data\\Raster\\SylhetNASAImpact\\3_Scaled_V2\\S1A_IW_20220511T115642_WGS84ScaledCropped_VH.tif\n",
      "Creating file: Z:\\media\\mule\\Projects\\NASA\\NIP\\Data\\Raster\\SylhetNASAImpact\\3_Scaled_V2\\S1A_IW_20220511T115642_WGS84ScaledCropped_VV.tif\n",
      "Creating file: Z:\\media\\mule\\Projects\\NASA\\NIP\\Data\\Raster\\SylhetNASAImpact\\3_Scaled_V2\\S1A_IW_20220513T234740_WGS84ScaledCropped_VH.tif\n",
      "Creating file: Z:\\media\\mule\\Projects\\NASA\\NIP\\Data\\Raster\\SylhetNASAImpact\\3_Scaled_V2\\S1A_IW_20220513T234740_WGS84ScaledCropped_VV.tif\n",
      "Creating file: Z:\\media\\mule\\Projects\\NASA\\NIP\\Data\\Raster\\SylhetNASAImpact\\3_Scaled_V2\\S1A_IW_20220523T115643_WGS84ScaledCropped_VH.tif\n",
      "Creating file: Z:\\media\\mule\\Projects\\NASA\\NIP\\Data\\Raster\\SylhetNASAImpact\\3_Scaled_V2\\S1A_IW_20220523T115643_WGS84ScaledCropped_VV.tif\n",
      "Creating file: Z:\\media\\mule\\Projects\\NASA\\NIP\\Data\\Raster\\SylhetNASAImpact\\3_Scaled_V2\\S1A_IW_20220525T234741_WGS84ScaledCropped_VH.tif\n",
      "Creating file: Z:\\media\\mule\\Projects\\NASA\\NIP\\Data\\Raster\\SylhetNASAImpact\\3_Scaled_V2\\S1A_IW_20220525T234741_WGS84ScaledCropped_VV.tif\n",
      "Creating file: Z:\\media\\mule\\Projects\\NASA\\NIP\\Data\\Raster\\SylhetNASAImpact\\3_Scaled_V2\\S1A_IW_20220604T115644_WGS84ScaledCropped_VH.tif\n",
      "Creating file: Z:\\media\\mule\\Projects\\NASA\\NIP\\Data\\Raster\\SylhetNASAImpact\\3_Scaled_V2\\S1A_IW_20220604T115644_WGS84ScaledCropped_VV.tif\n",
      "Creating file: Z:\\media\\mule\\Projects\\NASA\\NIP\\Data\\Raster\\SylhetNASAImpact\\3_Scaled_V2\\S1A_IW_20220606T234742_WGS84ScaledCropped_VH.tif\n",
      "Creating file: Z:\\media\\mule\\Projects\\NASA\\NIP\\Data\\Raster\\SylhetNASAImpact\\3_Scaled_V2\\S1A_IW_20220606T234742_WGS84ScaledCropped_VV.tif\n",
      "Creating file: Z:\\media\\mule\\Projects\\NASA\\NIP\\Data\\Raster\\SylhetNASAImpact\\3_Scaled_V2\\S1A_IW_20220616T115645_WGS84ScaledCropped_VH.tif\n",
      "Creating file: Z:\\media\\mule\\Projects\\NASA\\NIP\\Data\\Raster\\SylhetNASAImpact\\3_Scaled_V2\\S1A_IW_20220616T115645_WGS84ScaledCropped_VV.tif\n",
      "Creating file: Z:\\media\\mule\\Projects\\NASA\\NIP\\Data\\Raster\\SylhetNASAImpact\\3_Scaled_V2\\S1A_IW_20220618T234743_WGS84ScaledCropped_VH.tif\n",
      "Creating file: Z:\\media\\mule\\Projects\\NASA\\NIP\\Data\\Raster\\SylhetNASAImpact\\3_Scaled_V2\\S1A_IW_20220618T234743_WGS84ScaledCropped_VV.tif\n",
      "Creating file: Z:\\media\\mule\\Projects\\NASA\\NIP\\Data\\Raster\\SylhetNASAImpact\\3_Scaled_V2\\S1A_IW_20220628T115646_WGS84ScaledCropped_VH.tif\n",
      "Creating file: Z:\\media\\mule\\Projects\\NASA\\NIP\\Data\\Raster\\SylhetNASAImpact\\3_Scaled_V2\\S1A_IW_20220628T115646_WGS84ScaledCropped_VV.tif\n",
      "Creating file: Z:\\media\\mule\\Projects\\NASA\\NIP\\Data\\Raster\\SylhetNASAImpact\\3_Scaled_V2\\S1A_IW_20220630T234744_WGS84ScaledCropped_VH.tif\n",
      "Creating file: Z:\\media\\mule\\Projects\\NASA\\NIP\\Data\\Raster\\SylhetNASAImpact\\3_Scaled_V2\\S1A_IW_20220630T234744_WGS84ScaledCropped_VV.tif\n",
      "Creating file: Z:\\media\\mule\\Projects\\NASA\\NIP\\Data\\Raster\\SylhetNASAImpact\\3_Scaled_V2\\S1A_IW_20220712T234744_WGS84ScaledCropped_VH.tif\n",
      "Creating file: Z:\\media\\mule\\Projects\\NASA\\NIP\\Data\\Raster\\SylhetNASAImpact\\3_Scaled_V2\\S1A_IW_20220712T234744_WGS84ScaledCropped_VV.tif\n",
      "Creating file: Z:\\media\\mule\\Projects\\NASA\\NIP\\Data\\Raster\\SylhetNASAImpact\\3_Scaled_V2\\S1A_IW_20220722T115647_WGS84ScaledCropped_VH.tif\n",
      "Creating file: Z:\\media\\mule\\Projects\\NASA\\NIP\\Data\\Raster\\SylhetNASAImpact\\3_Scaled_V2\\S1A_IW_20220722T115647_WGS84ScaledCropped_VV.tif\n",
      "Creating file: Z:\\media\\mule\\Projects\\NASA\\NIP\\Data\\Raster\\SylhetNASAImpact\\3_Scaled_V2\\S1A_IW_20220724T234745_WGS84ScaledCropped_VH.tif\n",
      "Creating file: Z:\\media\\mule\\Projects\\NASA\\NIP\\Data\\Raster\\SylhetNASAImpact\\3_Scaled_V2\\S1A_IW_20220724T234745_WGS84ScaledCropped_VV.tif\n",
      "Creating file: Z:\\media\\mule\\Projects\\NASA\\NIP\\Data\\Raster\\SylhetNASAImpact\\3_Scaled_V2\\S1A_IW_20220803T115648_WGS84ScaledCropped_VH.tif\n",
      "Creating file: Z:\\media\\mule\\Projects\\NASA\\NIP\\Data\\Raster\\SylhetNASAImpact\\3_Scaled_V2\\S1A_IW_20220803T115648_WGS84ScaledCropped_VV.tif\n",
      "Creating file: Z:\\media\\mule\\Projects\\NASA\\NIP\\Data\\Raster\\SylhetNASAImpact\\3_Scaled_V2\\S1A_IW_20220805T234746_WGS84ScaledCropped_VH.tif\n",
      "Creating file: Z:\\media\\mule\\Projects\\NASA\\NIP\\Data\\Raster\\SylhetNASAImpact\\3_Scaled_V2\\S1A_IW_20220805T234746_WGS84ScaledCropped_VV.tif\n",
      "Creating file: Z:\\media\\mule\\Projects\\NASA\\NIP\\Data\\Raster\\SylhetNASAImpact\\3_Scaled_V2\\S1A_IW_20220815T115649_WGS84ScaledCropped_VH.tif\n",
      "Creating file: Z:\\media\\mule\\Projects\\NASA\\NIP\\Data\\Raster\\SylhetNASAImpact\\3_Scaled_V2\\S1A_IW_20220815T115649_WGS84ScaledCropped_VV.tif\n",
      "Creating file: Z:\\media\\mule\\Projects\\NASA\\NIP\\Data\\Raster\\SylhetNASAImpact\\3_Scaled_V2\\S1A_IW_20220827T115649_WGS84ScaledCropped_VH.tif\n",
      "Creating file: Z:\\media\\mule\\Projects\\NASA\\NIP\\Data\\Raster\\SylhetNASAImpact\\3_Scaled_V2\\S1A_IW_20220827T115649_WGS84ScaledCropped_VV.tif\n",
      "Creating file: Z:\\media\\mule\\Projects\\NASA\\NIP\\Data\\Raster\\SylhetNASAImpact\\3_Scaled_V2\\S1A_IW_20220829T234747_WGS84ScaledCropped_VH.tif\n",
      "Creating file: Z:\\media\\mule\\Projects\\NASA\\NIP\\Data\\Raster\\SylhetNASAImpact\\3_Scaled_V2\\S1A_IW_20220829T234747_WGS84ScaledCropped_VV.tif\n"
     ]
    }
   ],
   "source": [
    "# Loop through the WGS84 raster on each date\n",
    "WGS84Files = list(WGS84Path.iterdir())\n",
    "\n",
    "for WGS84File in WGS84Files:\n",
    "    \n",
    "    # Get the date and polarization from the filename\n",
    "    date = str(WGS84File)[-28:-20]\n",
    "    polar = str(WGS84File)[-6:-4]\n",
    "    ScaledFile = ScaledPath/(WGS84File.stem.replace('WGS84','WGS84Scaled')+WGS84File.suffix)\n",
    "    print('Creating file:', ScaledFile)\n",
    "\n",
    "    # Check if file already exists in whichh case skip ****\n",
    "    if os.path.exists(ScaledFile):\n",
    "        continue\n",
    "\n",
    "    # Open the raster file\n",
    "    with rio.open(WGS84File) as raster_in:\n",
    "        \n",
    "        # Get the raster metadata and read raster to array\n",
    "        profile = raster_in.profile\n",
    "        rasterArray = raster_in.read()\n",
    "\n",
    "        # Convert to uint8 with the defined scaling\n",
    "        if (polar == 'VH'):\n",
    "            rasterScaled = bytescaling(rasterArray, cmin=scalingVals['vhMin'], cmax=scalingVals['vhMax'])\n",
    "        if (polar == 'VV'):\n",
    "            rasterScaled = bytescaling(rasterArray, cmin=scalingVals['vvMin'], cmax=scalingVals['vvMax'])\n",
    "            \n",
    "        # Get back into 2D\n",
    "        rasterScaled = rasterScaled[0]\n",
    "        \n",
    "        # Update the profile metadata\n",
    "        profile.update(dtype=rio.uint8, nodata=0)\n",
    "\n",
    "        # Write out as tiff\n",
    "        with rio.open(ScaledFile, 'w', **profile) as raster_out:\n",
    "            raster_out.write(rasterScaled, 1) "
   ]
  },
  {
   "cell_type": "markdown",
   "id": "b5a57e67",
   "metadata": {
    "tags": []
   },
   "source": [
    "## PART 3: Chip the S-1 images\n",
    "Create a grid for the provided ROI and chip the images to 256x256 pixels. Note that we have a single S1 image for each date (i.e., do not need to stitch multiple scenes before tiling)."
   ]
  },
  {
   "cell_type": "code",
   "execution_count": 12,
   "id": "43d69286-eded-4bde-8187-b1eecb361492",
   "metadata": {
    "tags": []
   },
   "outputs": [],
   "source": [
    "# Create the output folder for saving the chips\n",
    "TilesPath = rootPath/'SylhetNASAImpact/4_Tiles_V2'\n",
    "TilesPath.mkdir(exist_ok=True)"
   ]
  },
  {
   "cell_type": "code",
   "execution_count": 13,
   "id": "fdfafd58-6c33-4965-ab9d-282068e81740",
   "metadata": {
    "tags": []
   },
   "outputs": [
    {
     "name": "stdout",
     "output_type": "stream",
     "text": [
      "Creating tiles for: Z:\\media\\mule\\Projects\\NASA\\NIP\\Data\\Raster\\SylhetNASAImpact\\4_Tiles_V2\\20220501\n",
      "Creating tiles for: Z:\\media\\mule\\Projects\\NASA\\NIP\\Data\\Raster\\SylhetNASAImpact\\4_Tiles_V2\\20220501\n",
      "Creating tiles for: Z:\\media\\mule\\Projects\\NASA\\NIP\\Data\\Raster\\SylhetNASAImpact\\4_Tiles_V2\\20220511\n",
      "Creating tiles for: Z:\\media\\mule\\Projects\\NASA\\NIP\\Data\\Raster\\SylhetNASAImpact\\4_Tiles_V2\\20220511\n",
      "Creating tiles for: Z:\\media\\mule\\Projects\\NASA\\NIP\\Data\\Raster\\SylhetNASAImpact\\4_Tiles_V2\\20220513\n",
      "Creating tiles for: Z:\\media\\mule\\Projects\\NASA\\NIP\\Data\\Raster\\SylhetNASAImpact\\4_Tiles_V2\\20220513\n",
      "Creating tiles for: Z:\\media\\mule\\Projects\\NASA\\NIP\\Data\\Raster\\SylhetNASAImpact\\4_Tiles_V2\\20220523\n",
      "Creating tiles for: Z:\\media\\mule\\Projects\\NASA\\NIP\\Data\\Raster\\SylhetNASAImpact\\4_Tiles_V2\\20220523\n",
      "Creating tiles for: Z:\\media\\mule\\Projects\\NASA\\NIP\\Data\\Raster\\SylhetNASAImpact\\4_Tiles_V2\\20220525\n",
      "Creating tiles for: Z:\\media\\mule\\Projects\\NASA\\NIP\\Data\\Raster\\SylhetNASAImpact\\4_Tiles_V2\\20220525\n",
      "Creating tiles for: Z:\\media\\mule\\Projects\\NASA\\NIP\\Data\\Raster\\SylhetNASAImpact\\4_Tiles_V2\\20220604\n",
      "Creating tiles for: Z:\\media\\mule\\Projects\\NASA\\NIP\\Data\\Raster\\SylhetNASAImpact\\4_Tiles_V2\\20220604\n",
      "Creating tiles for: Z:\\media\\mule\\Projects\\NASA\\NIP\\Data\\Raster\\SylhetNASAImpact\\4_Tiles_V2\\20220606\n",
      "Creating tiles for: Z:\\media\\mule\\Projects\\NASA\\NIP\\Data\\Raster\\SylhetNASAImpact\\4_Tiles_V2\\20220606\n",
      "Creating tiles for: Z:\\media\\mule\\Projects\\NASA\\NIP\\Data\\Raster\\SylhetNASAImpact\\4_Tiles_V2\\20220616\n",
      "Creating tiles for: Z:\\media\\mule\\Projects\\NASA\\NIP\\Data\\Raster\\SylhetNASAImpact\\4_Tiles_V2\\20220616\n",
      "Creating tiles for: Z:\\media\\mule\\Projects\\NASA\\NIP\\Data\\Raster\\SylhetNASAImpact\\4_Tiles_V2\\20220618\n",
      "Creating tiles for: Z:\\media\\mule\\Projects\\NASA\\NIP\\Data\\Raster\\SylhetNASAImpact\\4_Tiles_V2\\20220618\n",
      "Creating tiles for: Z:\\media\\mule\\Projects\\NASA\\NIP\\Data\\Raster\\SylhetNASAImpact\\4_Tiles_V2\\20220628\n",
      "Creating tiles for: Z:\\media\\mule\\Projects\\NASA\\NIP\\Data\\Raster\\SylhetNASAImpact\\4_Tiles_V2\\20220628\n",
      "Creating tiles for: Z:\\media\\mule\\Projects\\NASA\\NIP\\Data\\Raster\\SylhetNASAImpact\\4_Tiles_V2\\20220630\n",
      "Creating tiles for: Z:\\media\\mule\\Projects\\NASA\\NIP\\Data\\Raster\\SylhetNASAImpact\\4_Tiles_V2\\20220630\n",
      "Creating tiles for: Z:\\media\\mule\\Projects\\NASA\\NIP\\Data\\Raster\\SylhetNASAImpact\\4_Tiles_V2\\20220712\n",
      "Creating tiles for: Z:\\media\\mule\\Projects\\NASA\\NIP\\Data\\Raster\\SylhetNASAImpact\\4_Tiles_V2\\20220712\n",
      "Creating tiles for: Z:\\media\\mule\\Projects\\NASA\\NIP\\Data\\Raster\\SylhetNASAImpact\\4_Tiles_V2\\20220722\n",
      "Creating tiles for: Z:\\media\\mule\\Projects\\NASA\\NIP\\Data\\Raster\\SylhetNASAImpact\\4_Tiles_V2\\20220722\n",
      "Creating tiles for: Z:\\media\\mule\\Projects\\NASA\\NIP\\Data\\Raster\\SylhetNASAImpact\\4_Tiles_V2\\20220724\n",
      "Creating tiles for: Z:\\media\\mule\\Projects\\NASA\\NIP\\Data\\Raster\\SylhetNASAImpact\\4_Tiles_V2\\20220724\n",
      "Creating tiles for: Z:\\media\\mule\\Projects\\NASA\\NIP\\Data\\Raster\\SylhetNASAImpact\\4_Tiles_V2\\20220803\n",
      "Creating tiles for: Z:\\media\\mule\\Projects\\NASA\\NIP\\Data\\Raster\\SylhetNASAImpact\\4_Tiles_V2\\20220803\n",
      "Creating tiles for: Z:\\media\\mule\\Projects\\NASA\\NIP\\Data\\Raster\\SylhetNASAImpact\\4_Tiles_V2\\20220805\n",
      "Creating tiles for: Z:\\media\\mule\\Projects\\NASA\\NIP\\Data\\Raster\\SylhetNASAImpact\\4_Tiles_V2\\20220805\n",
      "Creating tiles for: Z:\\media\\mule\\Projects\\NASA\\NIP\\Data\\Raster\\SylhetNASAImpact\\4_Tiles_V2\\20220815\n",
      "Creating tiles for: Z:\\media\\mule\\Projects\\NASA\\NIP\\Data\\Raster\\SylhetNASAImpact\\4_Tiles_V2\\20220815\n",
      "Creating tiles for: Z:\\media\\mule\\Projects\\NASA\\NIP\\Data\\Raster\\SylhetNASAImpact\\4_Tiles_V2\\20220827\n",
      "Creating tiles for: Z:\\media\\mule\\Projects\\NASA\\NIP\\Data\\Raster\\SylhetNASAImpact\\4_Tiles_V2\\2022082720827_35_24_VH.tif\n",
      "Creating tiles for: Z:\\media\\mule\\Projects\\NASA\\NIP\\Data\\Raster\\SylhetNASAImpact\\4_Tiles_V2\\2022082920827_35_24_VV.tif\n",
      "Creating tiles for: Z:\\media\\mule\\Projects\\NASA\\NIP\\Data\\Raster\\SylhetNASAImpact\\4_Tiles_V2\\2022082920829_35_24_VH.tif\n",
      "processing file Z:\\media\\mule\\Projects\\NASA\\NIP\\Data\\Raster\\SylhetNASAImpact\\4_Tiles_V2\\20220829/20220829_35_24_VV.tif\r"
     ]
    }
   ],
   "source": [
    "# Define desired tile dimensions\n",
    "tileWidth = 256\n",
    "tileHeight = 256\n",
    "\n",
    "# Loop through the RTC WGS84 Scaled raster files on each date\n",
    "ScaledFiles = list(ScaledPath.iterdir())\n",
    "\n",
    "for ScaledFile in ScaledFiles:\n",
    "    \n",
    "    # Get the date and polarization from the filename, create new folder to saving chips for given date\n",
    "    date = ScaledFile.stem[7:15]\n",
    "    polar = ScaledFile.stem[-2:]\n",
    "    TilesDatePath = TilesPath/date\n",
    "    TilesDatePath.mkdir(exist_ok=True)\n",
    "    print('Creating tiles for:', TilesDatePath)\n",
    "\n",
    "    # Chip the raster into 256x256 pixels\n",
    "    r = gdal.Open(str(ScaledFile))\n",
    "\n",
    "    width = r.RasterXSize\n",
    "    height = r.RasterYSize\n",
    "\n",
    "    count_i = 0\n",
    "    count_j = 0\n",
    "\n",
    "    # Loop through width and height increments to chip up the full raster\n",
    "    for i in range(0, width, tileWidth):\n",
    "        for j in range(0, height, tileHeight):\n",
    "\n",
    "            # Check if already exists in which case skip to the next \n",
    "            TileName = str(TilesDatePath) + \"/\" + str(date) + \"_\" + str(count_i) + \"_\" + str(count_j) + \"_\" + str(polar) + \".tif\"\n",
    "            if os.path.exists(TileName):\n",
    "                continue\n",
    "\n",
    "            print(f\"processing file {TileName}\", end='\\r')\n",
    "            gdal.Translate(TileName, r, srcWin=[i, j, tileWidth, tileHeight])\n",
    "            count_j = count_j + 1\n",
    "\n",
    "        count_i = count_i + 1\n",
    "        count_j = 0\n",
    "\n",
    "    r = None"
   ]
  },
  {
   "cell_type": "code",
   "execution_count": null,
   "id": "b312542c-9897-4444-90f5-a29dca12a977",
   "metadata": {},
   "outputs": [],
   "source": []
  },
  {
   "cell_type": "code",
   "execution_count": null,
   "id": "72947160-a4a2-4177-8263-9393cb2671b3",
   "metadata": {},
   "outputs": [],
   "source": []
  },
  {
   "cell_type": "code",
   "execution_count": null,
   "id": "c24f5329-468b-44fd-aa57-33c7a0bc39d4",
   "metadata": {},
   "outputs": [],
   "source": []
  },
  {
   "cell_type": "markdown",
   "id": "1784147b-fd2a-4aca-aa09-2171a2f2fd25",
   "metadata": {},
   "source": [
    "### Drop tiles that do not intersect with the ROI and have zero data - NOT USED"
   ]
  },
  {
   "cell_type": "code",
   "execution_count": 16,
   "id": "5a7b4ce0-fb6b-4eb9-9f4b-fbf20d02e41c",
   "metadata": {},
   "outputs": [],
   "source": [
    "# Helper functions\n",
    "Path.ls = lambda x: list(x.iterdir())\n",
    "Path.lsTif = lambda x: Enumerable(x.iterdir()).where(lambda p: p.suffix == '.tif').to_list()"
   ]
  },
  {
   "cell_type": "code",
   "execution_count": 17,
   "id": "21dd3030-622e-49c3-9580-06440435909b",
   "metadata": {},
   "outputs": [],
   "source": [
    "# Function to create dataframe of bounding \n",
    "def createBoundsShapefileDF(inDir, fileList=None):\n",
    "    dfScenes = gpd.GeoDataFrame(columns=['location','geometry'])\n",
    "    if fileList == None:\n",
    "        fileList = inDir.lsTif()\n",
    "    else:\n",
    "        fileList = [inDir/file for file in fileList]\n",
    "    nbFiles = len(fileList)\n",
    "    for i, filePath in enumerate(fileList):\n",
    "        print(f\"processing file {i+1}/{nbFiles}\", end='\\r')\n",
    "        strFilePath = str(filePath)\n",
    "        bounds = rio.open(strFilePath).bounds\n",
    "        dfScenes = dfScenes.append({'location':strFilePath, 'geometry': box(bounds[0], bounds[1], bounds[2], bounds[3])},ignore_index=True)\n",
    "    dfScenes = dfScenes.set_crs(\"EPSG:4326\")\n",
    "    return dfScenes"
   ]
  },
  {
   "cell_type": "code",
   "execution_count": null,
   "id": "e5001e14-77b8-42bf-8096-9239b9a785fe",
   "metadata": {
    "tags": []
   },
   "outputs": [],
   "source": [
    "# Loop through folders containing chips on each date, create new date folder for each to save the valid tiles\n",
    "TilesDatePaths = list(TilesPath.iterdir())\n",
    "\n",
    "ViableTilesPath = rootPath/'SylhetNASAImpact/5_ViableTiles'\n",
    "ViableTilesPath.mkdir(exist_ok=True)\n",
    "\n",
    "for TilesDatePath in TilesDatePaths:\n",
    "\n",
    "    # Create separate folder for saving valid tiles\n",
    "    date = TilesDatePath.stem\n",
    "    ViableTilesDatePath = ViableTilesPath/date\n",
    "    ViableTilesDatePath.mkdir(exist_ok=True)\n",
    "    ViableTilesDatePathStr = str(ViableTilesDatePath)\n",
    "    \n",
    "    # Select chips which intersect the Sylhet District ROI\n",
    "    TilesBounds = createBoundsShapefileDF(TilesDatePath)\n",
    "    TilesContainingROI = TilesBounds[TilesBounds.geometry.intersects(roiBounds)].location\n",
    "    validTiles = list(set(TilesContainingROI))\n",
    "\n",
    "    # Select chips which have all non-zero data (i.e., full tile has data)\n",
    "    completeTiles = list()\n",
    "    ss = np.zeros(len(validTiles))\n",
    "\n",
    "    for i, tile in enumerate(validTiles):\n",
    "        print(f\"processing file {i+1}/{len(validTiles)}\", end='\\r')\n",
    "        r = rio.open(tile)\n",
    "        s = np.sum(r.read(1).flatten() == r.nodata)\n",
    "        ss[i] = s\n",
    "        if(s == 0):\n",
    "            completeTiles.append(tile)\n",
    "    # plt.hist(ss)\n",
    "    r.close()\n",
    "    print('Started with total of {0} chips, to {1} chips which intersect the ROI, to {2} chips which contain data across the whole chip'.format(len(df), len(validTiles), len(completeTiles)))\n",
    "    \n",
    "    # Write json of the complete chips\n",
    "    (TilesDatePath/\"completeTileList.json\").write_text(json.dumps(completeTiles))\n",
    "\n",
    "    # Copy valid tiles to folder\n",
    "    for i, tile in enumerate(completeTiles):\n",
    "        if os.path.exists(ViableTilesDatePathStr+'\\\\'+(tile.split('\\\\')[-1])):\n",
    "            continue\n",
    "        else:\n",
    "            shutil.copy(tile, ViableTilesDatePathStr)\n",
    "        print('Copied chip', i+1, 'of', len(completeTiles), end='\\r')"
   ]
  },
  {
   "cell_type": "code",
   "execution_count": null,
   "id": "d3771121-a9ba-44f2-b755-39ab6f076bab",
   "metadata": {},
   "outputs": [],
   "source": []
  },
  {
   "cell_type": "markdown",
   "id": "5c4098a1-15d1-4276-9723-43dc79cc553e",
   "metadata": {},
   "source": [
    "## PART 4: Visualize the extent of the tiles"
   ]
  },
  {
   "cell_type": "code",
   "execution_count": 17,
   "id": "956b52da-83b0-4326-be35-f66ab43649d2",
   "metadata": {},
   "outputs": [],
   "source": [
    "tilesPath = Path('Z:/media/mule/Projects/NASA/NIP/Data/Raster/SylhetNASAImpact/5_ViableTiles/20220501')\n",
    "tilesFiles = list(tilesPath.iterdir())\n",
    "\n",
    "vv_files = [str(file).split('\\\\')[-1] for file in tilesFiles if 'VV.tif' in str(file)]\n",
    "vh_files = [str(file).split('\\\\')[-1] for file in tilesFiles if 'VH.tif' in str(file)]\n"
   ]
  },
  {
   "cell_type": "code",
   "execution_count": 19,
   "id": "a3e3e7fc-8934-4c92-b200-0313fbe5d7fe",
   "metadata": {
    "collapsed": true,
    "jupyter": {
     "outputs_hidden": true
    },
    "tags": []
   },
   "outputs": [
    {
     "name": "stdout",
     "output_type": "stream",
     "text": [
      "processing file 6/933\r"
     ]
    },
    {
     "name": "stderr",
     "output_type": "stream",
     "text": [
      "C:\\Users\\alexsaunders\\AppData\\Local\\Temp\\ipykernel_13448\\724766185.py:13: FutureWarning: The frame.append method is deprecated and will be removed from pandas in a future version. Use pandas.concat instead.\n",
      "  dfScenes = dfScenes.append({'location':strFilePath, 'geometry': box(bounds[0], bounds[1], bounds[2], bounds[3])},ignore_index=True)\n",
      "C:\\Users\\alexsaunders\\AppData\\Local\\Temp\\ipykernel_13448\\724766185.py:13: FutureWarning: The frame.append method is deprecated and will be removed from pandas in a future version. Use pandas.concat instead.\n",
      "  dfScenes = dfScenes.append({'location':strFilePath, 'geometry': box(bounds[0], bounds[1], bounds[2], bounds[3])},ignore_index=True)\n",
      "C:\\Users\\alexsaunders\\AppData\\Local\\Temp\\ipykernel_13448\\724766185.py:13: FutureWarning: The frame.append method is deprecated and will be removed from pandas in a future version. Use pandas.concat instead.\n",
      "  dfScenes = dfScenes.append({'location':strFilePath, 'geometry': box(bounds[0], bounds[1], bounds[2], bounds[3])},ignore_index=True)\n",
      "C:\\Users\\alexsaunders\\AppData\\Local\\Temp\\ipykernel_13448\\724766185.py:13: FutureWarning: The frame.append method is deprecated and will be removed from pandas in a future version. Use pandas.concat instead.\n",
      "  dfScenes = dfScenes.append({'location':strFilePath, 'geometry': box(bounds[0], bounds[1], bounds[2], bounds[3])},ignore_index=True)\n",
      "C:\\Users\\alexsaunders\\AppData\\Local\\Temp\\ipykernel_13448\\724766185.py:13: FutureWarning: The frame.append method is deprecated and will be removed from pandas in a future version. Use pandas.concat instead.\n",
      "  dfScenes = dfScenes.append({'location':strFilePath, 'geometry': box(bounds[0], bounds[1], bounds[2], bounds[3])},ignore_index=True)\n",
      "C:\\Users\\alexsaunders\\AppData\\Local\\Temp\\ipykernel_13448\\724766185.py:13: FutureWarning: The frame.append method is deprecated and will be removed from pandas in a future version. Use pandas.concat instead.\n",
      "  dfScenes = dfScenes.append({'location':strFilePath, 'geometry': box(bounds[0], bounds[1], bounds[2], bounds[3])},ignore_index=True)\n",
      "C:\\Users\\alexsaunders\\AppData\\Local\\Temp\\ipykernel_13448\\724766185.py:13: FutureWarning: The frame.append method is deprecated and will be removed from pandas in a future version. Use pandas.concat instead.\n",
      "  dfScenes = dfScenes.append({'location':strFilePath, 'geometry': box(bounds[0], bounds[1], bounds[2], bounds[3])},ignore_index=True)\n"
     ]
    },
    {
     "name": "stdout",
     "output_type": "stream",
     "text": [
      "processing file 13/933\r"
     ]
    },
    {
     "name": "stderr",
     "output_type": "stream",
     "text": [
      "C:\\Users\\alexsaunders\\AppData\\Local\\Temp\\ipykernel_13448\\724766185.py:13: FutureWarning: The frame.append method is deprecated and will be removed from pandas in a future version. Use pandas.concat instead.\n",
      "  dfScenes = dfScenes.append({'location':strFilePath, 'geometry': box(bounds[0], bounds[1], bounds[2], bounds[3])},ignore_index=True)\n",
      "C:\\Users\\alexsaunders\\AppData\\Local\\Temp\\ipykernel_13448\\724766185.py:13: FutureWarning: The frame.append method is deprecated and will be removed from pandas in a future version. Use pandas.concat instead.\n",
      "  dfScenes = dfScenes.append({'location':strFilePath, 'geometry': box(bounds[0], bounds[1], bounds[2], bounds[3])},ignore_index=True)\n",
      "C:\\Users\\alexsaunders\\AppData\\Local\\Temp\\ipykernel_13448\\724766185.py:13: FutureWarning: The frame.append method is deprecated and will be removed from pandas in a future version. Use pandas.concat instead.\n",
      "  dfScenes = dfScenes.append({'location':strFilePath, 'geometry': box(bounds[0], bounds[1], bounds[2], bounds[3])},ignore_index=True)\n",
      "C:\\Users\\alexsaunders\\AppData\\Local\\Temp\\ipykernel_13448\\724766185.py:13: FutureWarning: The frame.append method is deprecated and will be removed from pandas in a future version. Use pandas.concat instead.\n",
      "  dfScenes = dfScenes.append({'location':strFilePath, 'geometry': box(bounds[0], bounds[1], bounds[2], bounds[3])},ignore_index=True)\n",
      "C:\\Users\\alexsaunders\\AppData\\Local\\Temp\\ipykernel_13448\\724766185.py:13: FutureWarning: The frame.append method is deprecated and will be removed from pandas in a future version. Use pandas.concat instead.\n",
      "  dfScenes = dfScenes.append({'location':strFilePath, 'geometry': box(bounds[0], bounds[1], bounds[2], bounds[3])},ignore_index=True)\n",
      "C:\\Users\\alexsaunders\\AppData\\Local\\Temp\\ipykernel_13448\\724766185.py:13: FutureWarning: The frame.append method is deprecated and will be removed from pandas in a future version. Use pandas.concat instead.\n",
      "  dfScenes = dfScenes.append({'location':strFilePath, 'geometry': box(bounds[0], bounds[1], bounds[2], bounds[3])},ignore_index=True)\n",
      "C:\\Users\\alexsaunders\\AppData\\Local\\Temp\\ipykernel_13448\\724766185.py:13: FutureWarning: The frame.append method is deprecated and will be removed from pandas in a future version. Use pandas.concat instead.\n",
      "  dfScenes = dfScenes.append({'location':strFilePath, 'geometry': box(bounds[0], bounds[1], bounds[2], bounds[3])},ignore_index=True)\n"
     ]
    },
    {
     "name": "stdout",
     "output_type": "stream",
     "text": [
      "processing file 19/933\r"
     ]
    },
    {
     "name": "stderr",
     "output_type": "stream",
     "text": [
      "C:\\Users\\alexsaunders\\AppData\\Local\\Temp\\ipykernel_13448\\724766185.py:13: FutureWarning: The frame.append method is deprecated and will be removed from pandas in a future version. Use pandas.concat instead.\n",
      "  dfScenes = dfScenes.append({'location':strFilePath, 'geometry': box(bounds[0], bounds[1], bounds[2], bounds[3])},ignore_index=True)\n",
      "C:\\Users\\alexsaunders\\AppData\\Local\\Temp\\ipykernel_13448\\724766185.py:13: FutureWarning: The frame.append method is deprecated and will be removed from pandas in a future version. Use pandas.concat instead.\n",
      "  dfScenes = dfScenes.append({'location':strFilePath, 'geometry': box(bounds[0], bounds[1], bounds[2], bounds[3])},ignore_index=True)\n",
      "C:\\Users\\alexsaunders\\AppData\\Local\\Temp\\ipykernel_13448\\724766185.py:13: FutureWarning: The frame.append method is deprecated and will be removed from pandas in a future version. Use pandas.concat instead.\n",
      "  dfScenes = dfScenes.append({'location':strFilePath, 'geometry': box(bounds[0], bounds[1], bounds[2], bounds[3])},ignore_index=True)\n",
      "C:\\Users\\alexsaunders\\AppData\\Local\\Temp\\ipykernel_13448\\724766185.py:13: FutureWarning: The frame.append method is deprecated and will be removed from pandas in a future version. Use pandas.concat instead.\n",
      "  dfScenes = dfScenes.append({'location':strFilePath, 'geometry': box(bounds[0], bounds[1], bounds[2], bounds[3])},ignore_index=True)\n",
      "C:\\Users\\alexsaunders\\AppData\\Local\\Temp\\ipykernel_13448\\724766185.py:13: FutureWarning: The frame.append method is deprecated and will be removed from pandas in a future version. Use pandas.concat instead.\n",
      "  dfScenes = dfScenes.append({'location':strFilePath, 'geometry': box(bounds[0], bounds[1], bounds[2], bounds[3])},ignore_index=True)\n",
      "C:\\Users\\alexsaunders\\AppData\\Local\\Temp\\ipykernel_13448\\724766185.py:13: FutureWarning: The frame.append method is deprecated and will be removed from pandas in a future version. Use pandas.concat instead.\n",
      "  dfScenes = dfScenes.append({'location':strFilePath, 'geometry': box(bounds[0], bounds[1], bounds[2], bounds[3])},ignore_index=True)\n"
     ]
    },
    {
     "name": "stdout",
     "output_type": "stream",
     "text": [
      "processing file 26/933\r"
     ]
    },
    {
     "name": "stderr",
     "output_type": "stream",
     "text": [
      "C:\\Users\\alexsaunders\\AppData\\Local\\Temp\\ipykernel_13448\\724766185.py:13: FutureWarning: The frame.append method is deprecated and will be removed from pandas in a future version. Use pandas.concat instead.\n",
      "  dfScenes = dfScenes.append({'location':strFilePath, 'geometry': box(bounds[0], bounds[1], bounds[2], bounds[3])},ignore_index=True)\n",
      "C:\\Users\\alexsaunders\\AppData\\Local\\Temp\\ipykernel_13448\\724766185.py:13: FutureWarning: The frame.append method is deprecated and will be removed from pandas in a future version. Use pandas.concat instead.\n",
      "  dfScenes = dfScenes.append({'location':strFilePath, 'geometry': box(bounds[0], bounds[1], bounds[2], bounds[3])},ignore_index=True)\n",
      "C:\\Users\\alexsaunders\\AppData\\Local\\Temp\\ipykernel_13448\\724766185.py:13: FutureWarning: The frame.append method is deprecated and will be removed from pandas in a future version. Use pandas.concat instead.\n",
      "  dfScenes = dfScenes.append({'location':strFilePath, 'geometry': box(bounds[0], bounds[1], bounds[2], bounds[3])},ignore_index=True)\n",
      "C:\\Users\\alexsaunders\\AppData\\Local\\Temp\\ipykernel_13448\\724766185.py:13: FutureWarning: The frame.append method is deprecated and will be removed from pandas in a future version. Use pandas.concat instead.\n",
      "  dfScenes = dfScenes.append({'location':strFilePath, 'geometry': box(bounds[0], bounds[1], bounds[2], bounds[3])},ignore_index=True)\n",
      "C:\\Users\\alexsaunders\\AppData\\Local\\Temp\\ipykernel_13448\\724766185.py:13: FutureWarning: The frame.append method is deprecated and will be removed from pandas in a future version. Use pandas.concat instead.\n",
      "  dfScenes = dfScenes.append({'location':strFilePath, 'geometry': box(bounds[0], bounds[1], bounds[2], bounds[3])},ignore_index=True)\n",
      "C:\\Users\\alexsaunders\\AppData\\Local\\Temp\\ipykernel_13448\\724766185.py:13: FutureWarning: The frame.append method is deprecated and will be removed from pandas in a future version. Use pandas.concat instead.\n",
      "  dfScenes = dfScenes.append({'location':strFilePath, 'geometry': box(bounds[0], bounds[1], bounds[2], bounds[3])},ignore_index=True)\n",
      "C:\\Users\\alexsaunders\\AppData\\Local\\Temp\\ipykernel_13448\\724766185.py:13: FutureWarning: The frame.append method is deprecated and will be removed from pandas in a future version. Use pandas.concat instead.\n",
      "  dfScenes = dfScenes.append({'location':strFilePath, 'geometry': box(bounds[0], bounds[1], bounds[2], bounds[3])},ignore_index=True)\n"
     ]
    },
    {
     "name": "stdout",
     "output_type": "stream",
     "text": [
      "processing file 32/933\r"
     ]
    },
    {
     "name": "stderr",
     "output_type": "stream",
     "text": [
      "C:\\Users\\alexsaunders\\AppData\\Local\\Temp\\ipykernel_13448\\724766185.py:13: FutureWarning: The frame.append method is deprecated and will be removed from pandas in a future version. Use pandas.concat instead.\n",
      "  dfScenes = dfScenes.append({'location':strFilePath, 'geometry': box(bounds[0], bounds[1], bounds[2], bounds[3])},ignore_index=True)\n",
      "C:\\Users\\alexsaunders\\AppData\\Local\\Temp\\ipykernel_13448\\724766185.py:13: FutureWarning: The frame.append method is deprecated and will be removed from pandas in a future version. Use pandas.concat instead.\n",
      "  dfScenes = dfScenes.append({'location':strFilePath, 'geometry': box(bounds[0], bounds[1], bounds[2], bounds[3])},ignore_index=True)\n",
      "C:\\Users\\alexsaunders\\AppData\\Local\\Temp\\ipykernel_13448\\724766185.py:13: FutureWarning: The frame.append method is deprecated and will be removed from pandas in a future version. Use pandas.concat instead.\n",
      "  dfScenes = dfScenes.append({'location':strFilePath, 'geometry': box(bounds[0], bounds[1], bounds[2], bounds[3])},ignore_index=True)\n",
      "C:\\Users\\alexsaunders\\AppData\\Local\\Temp\\ipykernel_13448\\724766185.py:13: FutureWarning: The frame.append method is deprecated and will be removed from pandas in a future version. Use pandas.concat instead.\n",
      "  dfScenes = dfScenes.append({'location':strFilePath, 'geometry': box(bounds[0], bounds[1], bounds[2], bounds[3])},ignore_index=True)\n",
      "C:\\Users\\alexsaunders\\AppData\\Local\\Temp\\ipykernel_13448\\724766185.py:13: FutureWarning: The frame.append method is deprecated and will be removed from pandas in a future version. Use pandas.concat instead.\n",
      "  dfScenes = dfScenes.append({'location':strFilePath, 'geometry': box(bounds[0], bounds[1], bounds[2], bounds[3])},ignore_index=True)\n",
      "C:\\Users\\alexsaunders\\AppData\\Local\\Temp\\ipykernel_13448\\724766185.py:13: FutureWarning: The frame.append method is deprecated and will be removed from pandas in a future version. Use pandas.concat instead.\n",
      "  dfScenes = dfScenes.append({'location':strFilePath, 'geometry': box(bounds[0], bounds[1], bounds[2], bounds[3])},ignore_index=True)\n"
     ]
    },
    {
     "name": "stdout",
     "output_type": "stream",
     "text": [
      "processing file 38/933\r"
     ]
    },
    {
     "name": "stderr",
     "output_type": "stream",
     "text": [
      "C:\\Users\\alexsaunders\\AppData\\Local\\Temp\\ipykernel_13448\\724766185.py:13: FutureWarning: The frame.append method is deprecated and will be removed from pandas in a future version. Use pandas.concat instead.\n",
      "  dfScenes = dfScenes.append({'location':strFilePath, 'geometry': box(bounds[0], bounds[1], bounds[2], bounds[3])},ignore_index=True)\n",
      "C:\\Users\\alexsaunders\\AppData\\Local\\Temp\\ipykernel_13448\\724766185.py:13: FutureWarning: The frame.append method is deprecated and will be removed from pandas in a future version. Use pandas.concat instead.\n",
      "  dfScenes = dfScenes.append({'location':strFilePath, 'geometry': box(bounds[0], bounds[1], bounds[2], bounds[3])},ignore_index=True)\n",
      "C:\\Users\\alexsaunders\\AppData\\Local\\Temp\\ipykernel_13448\\724766185.py:13: FutureWarning: The frame.append method is deprecated and will be removed from pandas in a future version. Use pandas.concat instead.\n",
      "  dfScenes = dfScenes.append({'location':strFilePath, 'geometry': box(bounds[0], bounds[1], bounds[2], bounds[3])},ignore_index=True)\n",
      "C:\\Users\\alexsaunders\\AppData\\Local\\Temp\\ipykernel_13448\\724766185.py:13: FutureWarning: The frame.append method is deprecated and will be removed from pandas in a future version. Use pandas.concat instead.\n",
      "  dfScenes = dfScenes.append({'location':strFilePath, 'geometry': box(bounds[0], bounds[1], bounds[2], bounds[3])},ignore_index=True)\n",
      "C:\\Users\\alexsaunders\\AppData\\Local\\Temp\\ipykernel_13448\\724766185.py:13: FutureWarning: The frame.append method is deprecated and will be removed from pandas in a future version. Use pandas.concat instead.\n",
      "  dfScenes = dfScenes.append({'location':strFilePath, 'geometry': box(bounds[0], bounds[1], bounds[2], bounds[3])},ignore_index=True)\n",
      "C:\\Users\\alexsaunders\\AppData\\Local\\Temp\\ipykernel_13448\\724766185.py:13: FutureWarning: The frame.append method is deprecated and will be removed from pandas in a future version. Use pandas.concat instead.\n",
      "  dfScenes = dfScenes.append({'location':strFilePath, 'geometry': box(bounds[0], bounds[1], bounds[2], bounds[3])},ignore_index=True)\n"
     ]
    },
    {
     "name": "stdout",
     "output_type": "stream",
     "text": [
      "processing file 44/933\r"
     ]
    },
    {
     "name": "stderr",
     "output_type": "stream",
     "text": [
      "C:\\Users\\alexsaunders\\AppData\\Local\\Temp\\ipykernel_13448\\724766185.py:13: FutureWarning: The frame.append method is deprecated and will be removed from pandas in a future version. Use pandas.concat instead.\n",
      "  dfScenes = dfScenes.append({'location':strFilePath, 'geometry': box(bounds[0], bounds[1], bounds[2], bounds[3])},ignore_index=True)\n",
      "C:\\Users\\alexsaunders\\AppData\\Local\\Temp\\ipykernel_13448\\724766185.py:13: FutureWarning: The frame.append method is deprecated and will be removed from pandas in a future version. Use pandas.concat instead.\n",
      "  dfScenes = dfScenes.append({'location':strFilePath, 'geometry': box(bounds[0], bounds[1], bounds[2], bounds[3])},ignore_index=True)\n",
      "C:\\Users\\alexsaunders\\AppData\\Local\\Temp\\ipykernel_13448\\724766185.py:13: FutureWarning: The frame.append method is deprecated and will be removed from pandas in a future version. Use pandas.concat instead.\n",
      "  dfScenes = dfScenes.append({'location':strFilePath, 'geometry': box(bounds[0], bounds[1], bounds[2], bounds[3])},ignore_index=True)\n",
      "C:\\Users\\alexsaunders\\AppData\\Local\\Temp\\ipykernel_13448\\724766185.py:13: FutureWarning: The frame.append method is deprecated and will be removed from pandas in a future version. Use pandas.concat instead.\n",
      "  dfScenes = dfScenes.append({'location':strFilePath, 'geometry': box(bounds[0], bounds[1], bounds[2], bounds[3])},ignore_index=True)\n",
      "C:\\Users\\alexsaunders\\AppData\\Local\\Temp\\ipykernel_13448\\724766185.py:13: FutureWarning: The frame.append method is deprecated and will be removed from pandas in a future version. Use pandas.concat instead.\n",
      "  dfScenes = dfScenes.append({'location':strFilePath, 'geometry': box(bounds[0], bounds[1], bounds[2], bounds[3])},ignore_index=True)\n",
      "C:\\Users\\alexsaunders\\AppData\\Local\\Temp\\ipykernel_13448\\724766185.py:13: FutureWarning: The frame.append method is deprecated and will be removed from pandas in a future version. Use pandas.concat instead.\n",
      "  dfScenes = dfScenes.append({'location':strFilePath, 'geometry': box(bounds[0], bounds[1], bounds[2], bounds[3])},ignore_index=True)\n"
     ]
    },
    {
     "name": "stdout",
     "output_type": "stream",
     "text": [
      "processing file 50/933\r"
     ]
    },
    {
     "name": "stderr",
     "output_type": "stream",
     "text": [
      "C:\\Users\\alexsaunders\\AppData\\Local\\Temp\\ipykernel_13448\\724766185.py:13: FutureWarning: The frame.append method is deprecated and will be removed from pandas in a future version. Use pandas.concat instead.\n",
      "  dfScenes = dfScenes.append({'location':strFilePath, 'geometry': box(bounds[0], bounds[1], bounds[2], bounds[3])},ignore_index=True)\n",
      "C:\\Users\\alexsaunders\\AppData\\Local\\Temp\\ipykernel_13448\\724766185.py:13: FutureWarning: The frame.append method is deprecated and will be removed from pandas in a future version. Use pandas.concat instead.\n",
      "  dfScenes = dfScenes.append({'location':strFilePath, 'geometry': box(bounds[0], bounds[1], bounds[2], bounds[3])},ignore_index=True)\n",
      "C:\\Users\\alexsaunders\\AppData\\Local\\Temp\\ipykernel_13448\\724766185.py:13: FutureWarning: The frame.append method is deprecated and will be removed from pandas in a future version. Use pandas.concat instead.\n",
      "  dfScenes = dfScenes.append({'location':strFilePath, 'geometry': box(bounds[0], bounds[1], bounds[2], bounds[3])},ignore_index=True)\n",
      "C:\\Users\\alexsaunders\\AppData\\Local\\Temp\\ipykernel_13448\\724766185.py:13: FutureWarning: The frame.append method is deprecated and will be removed from pandas in a future version. Use pandas.concat instead.\n",
      "  dfScenes = dfScenes.append({'location':strFilePath, 'geometry': box(bounds[0], bounds[1], bounds[2], bounds[3])},ignore_index=True)\n",
      "C:\\Users\\alexsaunders\\AppData\\Local\\Temp\\ipykernel_13448\\724766185.py:13: FutureWarning: The frame.append method is deprecated and will be removed from pandas in a future version. Use pandas.concat instead.\n",
      "  dfScenes = dfScenes.append({'location':strFilePath, 'geometry': box(bounds[0], bounds[1], bounds[2], bounds[3])},ignore_index=True)\n",
      "C:\\Users\\alexsaunders\\AppData\\Local\\Temp\\ipykernel_13448\\724766185.py:13: FutureWarning: The frame.append method is deprecated and will be removed from pandas in a future version. Use pandas.concat instead.\n",
      "  dfScenes = dfScenes.append({'location':strFilePath, 'geometry': box(bounds[0], bounds[1], bounds[2], bounds[3])},ignore_index=True)\n"
     ]
    },
    {
     "name": "stdout",
     "output_type": "stream",
     "text": [
      "processing file 55/933\r"
     ]
    },
    {
     "name": "stderr",
     "output_type": "stream",
     "text": [
      "C:\\Users\\alexsaunders\\AppData\\Local\\Temp\\ipykernel_13448\\724766185.py:13: FutureWarning: The frame.append method is deprecated and will be removed from pandas in a future version. Use pandas.concat instead.\n",
      "  dfScenes = dfScenes.append({'location':strFilePath, 'geometry': box(bounds[0], bounds[1], bounds[2], bounds[3])},ignore_index=True)\n",
      "C:\\Users\\alexsaunders\\AppData\\Local\\Temp\\ipykernel_13448\\724766185.py:13: FutureWarning: The frame.append method is deprecated and will be removed from pandas in a future version. Use pandas.concat instead.\n",
      "  dfScenes = dfScenes.append({'location':strFilePath, 'geometry': box(bounds[0], bounds[1], bounds[2], bounds[3])},ignore_index=True)\n",
      "C:\\Users\\alexsaunders\\AppData\\Local\\Temp\\ipykernel_13448\\724766185.py:13: FutureWarning: The frame.append method is deprecated and will be removed from pandas in a future version. Use pandas.concat instead.\n",
      "  dfScenes = dfScenes.append({'location':strFilePath, 'geometry': box(bounds[0], bounds[1], bounds[2], bounds[3])},ignore_index=True)\n",
      "C:\\Users\\alexsaunders\\AppData\\Local\\Temp\\ipykernel_13448\\724766185.py:13: FutureWarning: The frame.append method is deprecated and will be removed from pandas in a future version. Use pandas.concat instead.\n",
      "  dfScenes = dfScenes.append({'location':strFilePath, 'geometry': box(bounds[0], bounds[1], bounds[2], bounds[3])},ignore_index=True)\n",
      "C:\\Users\\alexsaunders\\AppData\\Local\\Temp\\ipykernel_13448\\724766185.py:13: FutureWarning: The frame.append method is deprecated and will be removed from pandas in a future version. Use pandas.concat instead.\n",
      "  dfScenes = dfScenes.append({'location':strFilePath, 'geometry': box(bounds[0], bounds[1], bounds[2], bounds[3])},ignore_index=True)\n",
      "C:\\Users\\alexsaunders\\AppData\\Local\\Temp\\ipykernel_13448\\724766185.py:13: FutureWarning: The frame.append method is deprecated and will be removed from pandas in a future version. Use pandas.concat instead.\n",
      "  dfScenes = dfScenes.append({'location':strFilePath, 'geometry': box(bounds[0], bounds[1], bounds[2], bounds[3])},ignore_index=True)\n"
     ]
    },
    {
     "name": "stdout",
     "output_type": "stream",
     "text": [
      "processing file 61/933\r"
     ]
    },
    {
     "name": "stderr",
     "output_type": "stream",
     "text": [
      "C:\\Users\\alexsaunders\\AppData\\Local\\Temp\\ipykernel_13448\\724766185.py:13: FutureWarning: The frame.append method is deprecated and will be removed from pandas in a future version. Use pandas.concat instead.\n",
      "  dfScenes = dfScenes.append({'location':strFilePath, 'geometry': box(bounds[0], bounds[1], bounds[2], bounds[3])},ignore_index=True)\n",
      "C:\\Users\\alexsaunders\\AppData\\Local\\Temp\\ipykernel_13448\\724766185.py:13: FutureWarning: The frame.append method is deprecated and will be removed from pandas in a future version. Use pandas.concat instead.\n",
      "  dfScenes = dfScenes.append({'location':strFilePath, 'geometry': box(bounds[0], bounds[1], bounds[2], bounds[3])},ignore_index=True)\n",
      "C:\\Users\\alexsaunders\\AppData\\Local\\Temp\\ipykernel_13448\\724766185.py:13: FutureWarning: The frame.append method is deprecated and will be removed from pandas in a future version. Use pandas.concat instead.\n",
      "  dfScenes = dfScenes.append({'location':strFilePath, 'geometry': box(bounds[0], bounds[1], bounds[2], bounds[3])},ignore_index=True)\n",
      "C:\\Users\\alexsaunders\\AppData\\Local\\Temp\\ipykernel_13448\\724766185.py:13: FutureWarning: The frame.append method is deprecated and will be removed from pandas in a future version. Use pandas.concat instead.\n",
      "  dfScenes = dfScenes.append({'location':strFilePath, 'geometry': box(bounds[0], bounds[1], bounds[2], bounds[3])},ignore_index=True)\n",
      "C:\\Users\\alexsaunders\\AppData\\Local\\Temp\\ipykernel_13448\\724766185.py:13: FutureWarning: The frame.append method is deprecated and will be removed from pandas in a future version. Use pandas.concat instead.\n",
      "  dfScenes = dfScenes.append({'location':strFilePath, 'geometry': box(bounds[0], bounds[1], bounds[2], bounds[3])},ignore_index=True)\n",
      "C:\\Users\\alexsaunders\\AppData\\Local\\Temp\\ipykernel_13448\\724766185.py:13: FutureWarning: The frame.append method is deprecated and will be removed from pandas in a future version. Use pandas.concat instead.\n",
      "  dfScenes = dfScenes.append({'location':strFilePath, 'geometry': box(bounds[0], bounds[1], bounds[2], bounds[3])},ignore_index=True)\n"
     ]
    },
    {
     "name": "stdout",
     "output_type": "stream",
     "text": [
      "processing file 67/933\r"
     ]
    },
    {
     "name": "stderr",
     "output_type": "stream",
     "text": [
      "C:\\Users\\alexsaunders\\AppData\\Local\\Temp\\ipykernel_13448\\724766185.py:13: FutureWarning: The frame.append method is deprecated and will be removed from pandas in a future version. Use pandas.concat instead.\n",
      "  dfScenes = dfScenes.append({'location':strFilePath, 'geometry': box(bounds[0], bounds[1], bounds[2], bounds[3])},ignore_index=True)\n",
      "C:\\Users\\alexsaunders\\AppData\\Local\\Temp\\ipykernel_13448\\724766185.py:13: FutureWarning: The frame.append method is deprecated and will be removed from pandas in a future version. Use pandas.concat instead.\n",
      "  dfScenes = dfScenes.append({'location':strFilePath, 'geometry': box(bounds[0], bounds[1], bounds[2], bounds[3])},ignore_index=True)\n",
      "C:\\Users\\alexsaunders\\AppData\\Local\\Temp\\ipykernel_13448\\724766185.py:13: FutureWarning: The frame.append method is deprecated and will be removed from pandas in a future version. Use pandas.concat instead.\n",
      "  dfScenes = dfScenes.append({'location':strFilePath, 'geometry': box(bounds[0], bounds[1], bounds[2], bounds[3])},ignore_index=True)\n",
      "C:\\Users\\alexsaunders\\AppData\\Local\\Temp\\ipykernel_13448\\724766185.py:13: FutureWarning: The frame.append method is deprecated and will be removed from pandas in a future version. Use pandas.concat instead.\n",
      "  dfScenes = dfScenes.append({'location':strFilePath, 'geometry': box(bounds[0], bounds[1], bounds[2], bounds[3])},ignore_index=True)\n",
      "C:\\Users\\alexsaunders\\AppData\\Local\\Temp\\ipykernel_13448\\724766185.py:13: FutureWarning: The frame.append method is deprecated and will be removed from pandas in a future version. Use pandas.concat instead.\n",
      "  dfScenes = dfScenes.append({'location':strFilePath, 'geometry': box(bounds[0], bounds[1], bounds[2], bounds[3])},ignore_index=True)\n"
     ]
    },
    {
     "name": "stdout",
     "output_type": "stream",
     "text": [
      "processing file 70/933\r"
     ]
    },
    {
     "name": "stderr",
     "output_type": "stream",
     "text": [
      "C:\\Users\\alexsaunders\\AppData\\Local\\Temp\\ipykernel_13448\\724766185.py:13: FutureWarning: The frame.append method is deprecated and will be removed from pandas in a future version. Use pandas.concat instead.\n",
      "  dfScenes = dfScenes.append({'location':strFilePath, 'geometry': box(bounds[0], bounds[1], bounds[2], bounds[3])},ignore_index=True)\n",
      "C:\\Users\\alexsaunders\\AppData\\Local\\Temp\\ipykernel_13448\\724766185.py:13: FutureWarning: The frame.append method is deprecated and will be removed from pandas in a future version. Use pandas.concat instead.\n",
      "  dfScenes = dfScenes.append({'location':strFilePath, 'geometry': box(bounds[0], bounds[1], bounds[2], bounds[3])},ignore_index=True)\n",
      "C:\\Users\\alexsaunders\\AppData\\Local\\Temp\\ipykernel_13448\\724766185.py:13: FutureWarning: The frame.append method is deprecated and will be removed from pandas in a future version. Use pandas.concat instead.\n",
      "  dfScenes = dfScenes.append({'location':strFilePath, 'geometry': box(bounds[0], bounds[1], bounds[2], bounds[3])},ignore_index=True)\n",
      "C:\\Users\\alexsaunders\\AppData\\Local\\Temp\\ipykernel_13448\\724766185.py:13: FutureWarning: The frame.append method is deprecated and will be removed from pandas in a future version. Use pandas.concat instead.\n",
      "  dfScenes = dfScenes.append({'location':strFilePath, 'geometry': box(bounds[0], bounds[1], bounds[2], bounds[3])},ignore_index=True)\n",
      "C:\\Users\\alexsaunders\\AppData\\Local\\Temp\\ipykernel_13448\\724766185.py:13: FutureWarning: The frame.append method is deprecated and will be removed from pandas in a future version. Use pandas.concat instead.\n",
      "  dfScenes = dfScenes.append({'location':strFilePath, 'geometry': box(bounds[0], bounds[1], bounds[2], bounds[3])},ignore_index=True)\n",
      "C:\\Users\\alexsaunders\\AppData\\Local\\Temp\\ipykernel_13448\\724766185.py:13: FutureWarning: The frame.append method is deprecated and will be removed from pandas in a future version. Use pandas.concat instead.\n",
      "  dfScenes = dfScenes.append({'location':strFilePath, 'geometry': box(bounds[0], bounds[1], bounds[2], bounds[3])},ignore_index=True)\n",
      "C:\\Users\\alexsaunders\\AppData\\Local\\Temp\\ipykernel_13448\\724766185.py:13: FutureWarning: The frame.append method is deprecated and will be removed from pandas in a future version. Use pandas.concat instead.\n",
      "  dfScenes = dfScenes.append({'location':strFilePath, 'geometry': box(bounds[0], bounds[1], bounds[2], bounds[3])},ignore_index=True)\n"
     ]
    },
    {
     "name": "stdout",
     "output_type": "stream",
     "text": [
      "processing file 76/933\r"
     ]
    },
    {
     "name": "stderr",
     "output_type": "stream",
     "text": [
      "C:\\Users\\alexsaunders\\AppData\\Local\\Temp\\ipykernel_13448\\724766185.py:13: FutureWarning: The frame.append method is deprecated and will be removed from pandas in a future version. Use pandas.concat instead.\n",
      "  dfScenes = dfScenes.append({'location':strFilePath, 'geometry': box(bounds[0], bounds[1], bounds[2], bounds[3])},ignore_index=True)\n",
      "C:\\Users\\alexsaunders\\AppData\\Local\\Temp\\ipykernel_13448\\724766185.py:13: FutureWarning: The frame.append method is deprecated and will be removed from pandas in a future version. Use pandas.concat instead.\n",
      "  dfScenes = dfScenes.append({'location':strFilePath, 'geometry': box(bounds[0], bounds[1], bounds[2], bounds[3])},ignore_index=True)\n",
      "C:\\Users\\alexsaunders\\AppData\\Local\\Temp\\ipykernel_13448\\724766185.py:13: FutureWarning: The frame.append method is deprecated and will be removed from pandas in a future version. Use pandas.concat instead.\n",
      "  dfScenes = dfScenes.append({'location':strFilePath, 'geometry': box(bounds[0], bounds[1], bounds[2], bounds[3])},ignore_index=True)\n",
      "C:\\Users\\alexsaunders\\AppData\\Local\\Temp\\ipykernel_13448\\724766185.py:13: FutureWarning: The frame.append method is deprecated and will be removed from pandas in a future version. Use pandas.concat instead.\n",
      "  dfScenes = dfScenes.append({'location':strFilePath, 'geometry': box(bounds[0], bounds[1], bounds[2], bounds[3])},ignore_index=True)\n",
      "C:\\Users\\alexsaunders\\AppData\\Local\\Temp\\ipykernel_13448\\724766185.py:13: FutureWarning: The frame.append method is deprecated and will be removed from pandas in a future version. Use pandas.concat instead.\n",
      "  dfScenes = dfScenes.append({'location':strFilePath, 'geometry': box(bounds[0], bounds[1], bounds[2], bounds[3])},ignore_index=True)\n",
      "C:\\Users\\alexsaunders\\AppData\\Local\\Temp\\ipykernel_13448\\724766185.py:13: FutureWarning: The frame.append method is deprecated and will be removed from pandas in a future version. Use pandas.concat instead.\n",
      "  dfScenes = dfScenes.append({'location':strFilePath, 'geometry': box(bounds[0], bounds[1], bounds[2], bounds[3])},ignore_index=True)\n"
     ]
    },
    {
     "name": "stdout",
     "output_type": "stream",
     "text": [
      "processing file 82/933\r"
     ]
    },
    {
     "name": "stderr",
     "output_type": "stream",
     "text": [
      "C:\\Users\\alexsaunders\\AppData\\Local\\Temp\\ipykernel_13448\\724766185.py:13: FutureWarning: The frame.append method is deprecated and will be removed from pandas in a future version. Use pandas.concat instead.\n",
      "  dfScenes = dfScenes.append({'location':strFilePath, 'geometry': box(bounds[0], bounds[1], bounds[2], bounds[3])},ignore_index=True)\n",
      "C:\\Users\\alexsaunders\\AppData\\Local\\Temp\\ipykernel_13448\\724766185.py:13: FutureWarning: The frame.append method is deprecated and will be removed from pandas in a future version. Use pandas.concat instead.\n",
      "  dfScenes = dfScenes.append({'location':strFilePath, 'geometry': box(bounds[0], bounds[1], bounds[2], bounds[3])},ignore_index=True)\n",
      "C:\\Users\\alexsaunders\\AppData\\Local\\Temp\\ipykernel_13448\\724766185.py:13: FutureWarning: The frame.append method is deprecated and will be removed from pandas in a future version. Use pandas.concat instead.\n",
      "  dfScenes = dfScenes.append({'location':strFilePath, 'geometry': box(bounds[0], bounds[1], bounds[2], bounds[3])},ignore_index=True)\n",
      "C:\\Users\\alexsaunders\\AppData\\Local\\Temp\\ipykernel_13448\\724766185.py:13: FutureWarning: The frame.append method is deprecated and will be removed from pandas in a future version. Use pandas.concat instead.\n",
      "  dfScenes = dfScenes.append({'location':strFilePath, 'geometry': box(bounds[0], bounds[1], bounds[2], bounds[3])},ignore_index=True)\n",
      "C:\\Users\\alexsaunders\\AppData\\Local\\Temp\\ipykernel_13448\\724766185.py:13: FutureWarning: The frame.append method is deprecated and will be removed from pandas in a future version. Use pandas.concat instead.\n",
      "  dfScenes = dfScenes.append({'location':strFilePath, 'geometry': box(bounds[0], bounds[1], bounds[2], bounds[3])},ignore_index=True)\n",
      "C:\\Users\\alexsaunders\\AppData\\Local\\Temp\\ipykernel_13448\\724766185.py:13: FutureWarning: The frame.append method is deprecated and will be removed from pandas in a future version. Use pandas.concat instead.\n",
      "  dfScenes = dfScenes.append({'location':strFilePath, 'geometry': box(bounds[0], bounds[1], bounds[2], bounds[3])},ignore_index=True)\n",
      "C:\\Users\\alexsaunders\\AppData\\Local\\Temp\\ipykernel_13448\\724766185.py:13: FutureWarning: The frame.append method is deprecated and will be removed from pandas in a future version. Use pandas.concat instead.\n",
      "  dfScenes = dfScenes.append({'location':strFilePath, 'geometry': box(bounds[0], bounds[1], bounds[2], bounds[3])},ignore_index=True)\n"
     ]
    },
    {
     "name": "stdout",
     "output_type": "stream",
     "text": [
      "processing file 89/933\r"
     ]
    },
    {
     "name": "stderr",
     "output_type": "stream",
     "text": [
      "C:\\Users\\alexsaunders\\AppData\\Local\\Temp\\ipykernel_13448\\724766185.py:13: FutureWarning: The frame.append method is deprecated and will be removed from pandas in a future version. Use pandas.concat instead.\n",
      "  dfScenes = dfScenes.append({'location':strFilePath, 'geometry': box(bounds[0], bounds[1], bounds[2], bounds[3])},ignore_index=True)\n",
      "C:\\Users\\alexsaunders\\AppData\\Local\\Temp\\ipykernel_13448\\724766185.py:13: FutureWarning: The frame.append method is deprecated and will be removed from pandas in a future version. Use pandas.concat instead.\n",
      "  dfScenes = dfScenes.append({'location':strFilePath, 'geometry': box(bounds[0], bounds[1], bounds[2], bounds[3])},ignore_index=True)\n",
      "C:\\Users\\alexsaunders\\AppData\\Local\\Temp\\ipykernel_13448\\724766185.py:13: FutureWarning: The frame.append method is deprecated and will be removed from pandas in a future version. Use pandas.concat instead.\n",
      "  dfScenes = dfScenes.append({'location':strFilePath, 'geometry': box(bounds[0], bounds[1], bounds[2], bounds[3])},ignore_index=True)\n",
      "C:\\Users\\alexsaunders\\AppData\\Local\\Temp\\ipykernel_13448\\724766185.py:13: FutureWarning: The frame.append method is deprecated and will be removed from pandas in a future version. Use pandas.concat instead.\n",
      "  dfScenes = dfScenes.append({'location':strFilePath, 'geometry': box(bounds[0], bounds[1], bounds[2], bounds[3])},ignore_index=True)\n",
      "C:\\Users\\alexsaunders\\AppData\\Local\\Temp\\ipykernel_13448\\724766185.py:13: FutureWarning: The frame.append method is deprecated and will be removed from pandas in a future version. Use pandas.concat instead.\n",
      "  dfScenes = dfScenes.append({'location':strFilePath, 'geometry': box(bounds[0], bounds[1], bounds[2], bounds[3])},ignore_index=True)\n",
      "C:\\Users\\alexsaunders\\AppData\\Local\\Temp\\ipykernel_13448\\724766185.py:13: FutureWarning: The frame.append method is deprecated and will be removed from pandas in a future version. Use pandas.concat instead.\n",
      "  dfScenes = dfScenes.append({'location':strFilePath, 'geometry': box(bounds[0], bounds[1], bounds[2], bounds[3])},ignore_index=True)\n",
      "C:\\Users\\alexsaunders\\AppData\\Local\\Temp\\ipykernel_13448\\724766185.py:13: FutureWarning: The frame.append method is deprecated and will be removed from pandas in a future version. Use pandas.concat instead.\n",
      "  dfScenes = dfScenes.append({'location':strFilePath, 'geometry': box(bounds[0], bounds[1], bounds[2], bounds[3])},ignore_index=True)\n"
     ]
    },
    {
     "name": "stdout",
     "output_type": "stream",
     "text": [
      "processing file 96/933\r"
     ]
    },
    {
     "name": "stderr",
     "output_type": "stream",
     "text": [
      "C:\\Users\\alexsaunders\\AppData\\Local\\Temp\\ipykernel_13448\\724766185.py:13: FutureWarning: The frame.append method is deprecated and will be removed from pandas in a future version. Use pandas.concat instead.\n",
      "  dfScenes = dfScenes.append({'location':strFilePath, 'geometry': box(bounds[0], bounds[1], bounds[2], bounds[3])},ignore_index=True)\n",
      "C:\\Users\\alexsaunders\\AppData\\Local\\Temp\\ipykernel_13448\\724766185.py:13: FutureWarning: The frame.append method is deprecated and will be removed from pandas in a future version. Use pandas.concat instead.\n",
      "  dfScenes = dfScenes.append({'location':strFilePath, 'geometry': box(bounds[0], bounds[1], bounds[2], bounds[3])},ignore_index=True)\n",
      "C:\\Users\\alexsaunders\\AppData\\Local\\Temp\\ipykernel_13448\\724766185.py:13: FutureWarning: The frame.append method is deprecated and will be removed from pandas in a future version. Use pandas.concat instead.\n",
      "  dfScenes = dfScenes.append({'location':strFilePath, 'geometry': box(bounds[0], bounds[1], bounds[2], bounds[3])},ignore_index=True)\n",
      "C:\\Users\\alexsaunders\\AppData\\Local\\Temp\\ipykernel_13448\\724766185.py:13: FutureWarning: The frame.append method is deprecated and will be removed from pandas in a future version. Use pandas.concat instead.\n",
      "  dfScenes = dfScenes.append({'location':strFilePath, 'geometry': box(bounds[0], bounds[1], bounds[2], bounds[3])},ignore_index=True)\n",
      "C:\\Users\\alexsaunders\\AppData\\Local\\Temp\\ipykernel_13448\\724766185.py:13: FutureWarning: The frame.append method is deprecated and will be removed from pandas in a future version. Use pandas.concat instead.\n",
      "  dfScenes = dfScenes.append({'location':strFilePath, 'geometry': box(bounds[0], bounds[1], bounds[2], bounds[3])},ignore_index=True)\n",
      "C:\\Users\\alexsaunders\\AppData\\Local\\Temp\\ipykernel_13448\\724766185.py:13: FutureWarning: The frame.append method is deprecated and will be removed from pandas in a future version. Use pandas.concat instead.\n",
      "  dfScenes = dfScenes.append({'location':strFilePath, 'geometry': box(bounds[0], bounds[1], bounds[2], bounds[3])},ignore_index=True)\n"
     ]
    },
    {
     "name": "stdout",
     "output_type": "stream",
     "text": [
      "processing file 102/933\r"
     ]
    },
    {
     "name": "stderr",
     "output_type": "stream",
     "text": [
      "C:\\Users\\alexsaunders\\AppData\\Local\\Temp\\ipykernel_13448\\724766185.py:13: FutureWarning: The frame.append method is deprecated and will be removed from pandas in a future version. Use pandas.concat instead.\n",
      "  dfScenes = dfScenes.append({'location':strFilePath, 'geometry': box(bounds[0], bounds[1], bounds[2], bounds[3])},ignore_index=True)\n",
      "C:\\Users\\alexsaunders\\AppData\\Local\\Temp\\ipykernel_13448\\724766185.py:13: FutureWarning: The frame.append method is deprecated and will be removed from pandas in a future version. Use pandas.concat instead.\n",
      "  dfScenes = dfScenes.append({'location':strFilePath, 'geometry': box(bounds[0], bounds[1], bounds[2], bounds[3])},ignore_index=True)\n",
      "C:\\Users\\alexsaunders\\AppData\\Local\\Temp\\ipykernel_13448\\724766185.py:13: FutureWarning: The frame.append method is deprecated and will be removed from pandas in a future version. Use pandas.concat instead.\n",
      "  dfScenes = dfScenes.append({'location':strFilePath, 'geometry': box(bounds[0], bounds[1], bounds[2], bounds[3])},ignore_index=True)\n",
      "C:\\Users\\alexsaunders\\AppData\\Local\\Temp\\ipykernel_13448\\724766185.py:13: FutureWarning: The frame.append method is deprecated and will be removed from pandas in a future version. Use pandas.concat instead.\n",
      "  dfScenes = dfScenes.append({'location':strFilePath, 'geometry': box(bounds[0], bounds[1], bounds[2], bounds[3])},ignore_index=True)\n",
      "C:\\Users\\alexsaunders\\AppData\\Local\\Temp\\ipykernel_13448\\724766185.py:13: FutureWarning: The frame.append method is deprecated and will be removed from pandas in a future version. Use pandas.concat instead.\n",
      "  dfScenes = dfScenes.append({'location':strFilePath, 'geometry': box(bounds[0], bounds[1], bounds[2], bounds[3])},ignore_index=True)\n",
      "C:\\Users\\alexsaunders\\AppData\\Local\\Temp\\ipykernel_13448\\724766185.py:13: FutureWarning: The frame.append method is deprecated and will be removed from pandas in a future version. Use pandas.concat instead.\n",
      "  dfScenes = dfScenes.append({'location':strFilePath, 'geometry': box(bounds[0], bounds[1], bounds[2], bounds[3])},ignore_index=True)\n"
     ]
    },
    {
     "name": "stdout",
     "output_type": "stream",
     "text": [
      "processing file 108/933\r"
     ]
    },
    {
     "name": "stderr",
     "output_type": "stream",
     "text": [
      "C:\\Users\\alexsaunders\\AppData\\Local\\Temp\\ipykernel_13448\\724766185.py:13: FutureWarning: The frame.append method is deprecated and will be removed from pandas in a future version. Use pandas.concat instead.\n",
      "  dfScenes = dfScenes.append({'location':strFilePath, 'geometry': box(bounds[0], bounds[1], bounds[2], bounds[3])},ignore_index=True)\n",
      "C:\\Users\\alexsaunders\\AppData\\Local\\Temp\\ipykernel_13448\\724766185.py:13: FutureWarning: The frame.append method is deprecated and will be removed from pandas in a future version. Use pandas.concat instead.\n",
      "  dfScenes = dfScenes.append({'location':strFilePath, 'geometry': box(bounds[0], bounds[1], bounds[2], bounds[3])},ignore_index=True)\n",
      "C:\\Users\\alexsaunders\\AppData\\Local\\Temp\\ipykernel_13448\\724766185.py:13: FutureWarning: The frame.append method is deprecated and will be removed from pandas in a future version. Use pandas.concat instead.\n",
      "  dfScenes = dfScenes.append({'location':strFilePath, 'geometry': box(bounds[0], bounds[1], bounds[2], bounds[3])},ignore_index=True)\n",
      "C:\\Users\\alexsaunders\\AppData\\Local\\Temp\\ipykernel_13448\\724766185.py:13: FutureWarning: The frame.append method is deprecated and will be removed from pandas in a future version. Use pandas.concat instead.\n",
      "  dfScenes = dfScenes.append({'location':strFilePath, 'geometry': box(bounds[0], bounds[1], bounds[2], bounds[3])},ignore_index=True)\n",
      "C:\\Users\\alexsaunders\\AppData\\Local\\Temp\\ipykernel_13448\\724766185.py:13: FutureWarning: The frame.append method is deprecated and will be removed from pandas in a future version. Use pandas.concat instead.\n",
      "  dfScenes = dfScenes.append({'location':strFilePath, 'geometry': box(bounds[0], bounds[1], bounds[2], bounds[3])},ignore_index=True)\n",
      "C:\\Users\\alexsaunders\\AppData\\Local\\Temp\\ipykernel_13448\\724766185.py:13: FutureWarning: The frame.append method is deprecated and will be removed from pandas in a future version. Use pandas.concat instead.\n",
      "  dfScenes = dfScenes.append({'location':strFilePath, 'geometry': box(bounds[0], bounds[1], bounds[2], bounds[3])},ignore_index=True)\n"
     ]
    },
    {
     "name": "stdout",
     "output_type": "stream",
     "text": [
      "processing file 114/933\r"
     ]
    },
    {
     "name": "stderr",
     "output_type": "stream",
     "text": [
      "C:\\Users\\alexsaunders\\AppData\\Local\\Temp\\ipykernel_13448\\724766185.py:13: FutureWarning: The frame.append method is deprecated and will be removed from pandas in a future version. Use pandas.concat instead.\n",
      "  dfScenes = dfScenes.append({'location':strFilePath, 'geometry': box(bounds[0], bounds[1], bounds[2], bounds[3])},ignore_index=True)\n",
      "C:\\Users\\alexsaunders\\AppData\\Local\\Temp\\ipykernel_13448\\724766185.py:13: FutureWarning: The frame.append method is deprecated and will be removed from pandas in a future version. Use pandas.concat instead.\n",
      "  dfScenes = dfScenes.append({'location':strFilePath, 'geometry': box(bounds[0], bounds[1], bounds[2], bounds[3])},ignore_index=True)\n",
      "C:\\Users\\alexsaunders\\AppData\\Local\\Temp\\ipykernel_13448\\724766185.py:13: FutureWarning: The frame.append method is deprecated and will be removed from pandas in a future version. Use pandas.concat instead.\n",
      "  dfScenes = dfScenes.append({'location':strFilePath, 'geometry': box(bounds[0], bounds[1], bounds[2], bounds[3])},ignore_index=True)\n",
      "C:\\Users\\alexsaunders\\AppData\\Local\\Temp\\ipykernel_13448\\724766185.py:13: FutureWarning: The frame.append method is deprecated and will be removed from pandas in a future version. Use pandas.concat instead.\n",
      "  dfScenes = dfScenes.append({'location':strFilePath, 'geometry': box(bounds[0], bounds[1], bounds[2], bounds[3])},ignore_index=True)\n",
      "C:\\Users\\alexsaunders\\AppData\\Local\\Temp\\ipykernel_13448\\724766185.py:13: FutureWarning: The frame.append method is deprecated and will be removed from pandas in a future version. Use pandas.concat instead.\n",
      "  dfScenes = dfScenes.append({'location':strFilePath, 'geometry': box(bounds[0], bounds[1], bounds[2], bounds[3])},ignore_index=True)\n",
      "C:\\Users\\alexsaunders\\AppData\\Local\\Temp\\ipykernel_13448\\724766185.py:13: FutureWarning: The frame.append method is deprecated and will be removed from pandas in a future version. Use pandas.concat instead.\n",
      "  dfScenes = dfScenes.append({'location':strFilePath, 'geometry': box(bounds[0], bounds[1], bounds[2], bounds[3])},ignore_index=True)\n",
      "C:\\Users\\alexsaunders\\AppData\\Local\\Temp\\ipykernel_13448\\724766185.py:13: FutureWarning: The frame.append method is deprecated and will be removed from pandas in a future version. Use pandas.concat instead.\n",
      "  dfScenes = dfScenes.append({'location':strFilePath, 'geometry': box(bounds[0], bounds[1], bounds[2], bounds[3])},ignore_index=True)\n"
     ]
    },
    {
     "name": "stdout",
     "output_type": "stream",
     "text": [
      "processing file 121/933\r"
     ]
    },
    {
     "name": "stderr",
     "output_type": "stream",
     "text": [
      "C:\\Users\\alexsaunders\\AppData\\Local\\Temp\\ipykernel_13448\\724766185.py:13: FutureWarning: The frame.append method is deprecated and will be removed from pandas in a future version. Use pandas.concat instead.\n",
      "  dfScenes = dfScenes.append({'location':strFilePath, 'geometry': box(bounds[0], bounds[1], bounds[2], bounds[3])},ignore_index=True)\n",
      "C:\\Users\\alexsaunders\\AppData\\Local\\Temp\\ipykernel_13448\\724766185.py:13: FutureWarning: The frame.append method is deprecated and will be removed from pandas in a future version. Use pandas.concat instead.\n",
      "  dfScenes = dfScenes.append({'location':strFilePath, 'geometry': box(bounds[0], bounds[1], bounds[2], bounds[3])},ignore_index=True)\n",
      "C:\\Users\\alexsaunders\\AppData\\Local\\Temp\\ipykernel_13448\\724766185.py:13: FutureWarning: The frame.append method is deprecated and will be removed from pandas in a future version. Use pandas.concat instead.\n",
      "  dfScenes = dfScenes.append({'location':strFilePath, 'geometry': box(bounds[0], bounds[1], bounds[2], bounds[3])},ignore_index=True)\n",
      "C:\\Users\\alexsaunders\\AppData\\Local\\Temp\\ipykernel_13448\\724766185.py:13: FutureWarning: The frame.append method is deprecated and will be removed from pandas in a future version. Use pandas.concat instead.\n",
      "  dfScenes = dfScenes.append({'location':strFilePath, 'geometry': box(bounds[0], bounds[1], bounds[2], bounds[3])},ignore_index=True)\n",
      "C:\\Users\\alexsaunders\\AppData\\Local\\Temp\\ipykernel_13448\\724766185.py:13: FutureWarning: The frame.append method is deprecated and will be removed from pandas in a future version. Use pandas.concat instead.\n",
      "  dfScenes = dfScenes.append({'location':strFilePath, 'geometry': box(bounds[0], bounds[1], bounds[2], bounds[3])},ignore_index=True)\n",
      "C:\\Users\\alexsaunders\\AppData\\Local\\Temp\\ipykernel_13448\\724766185.py:13: FutureWarning: The frame.append method is deprecated and will be removed from pandas in a future version. Use pandas.concat instead.\n",
      "  dfScenes = dfScenes.append({'location':strFilePath, 'geometry': box(bounds[0], bounds[1], bounds[2], bounds[3])},ignore_index=True)\n"
     ]
    },
    {
     "name": "stdout",
     "output_type": "stream",
     "text": [
      "processing file 127/933\r"
     ]
    },
    {
     "name": "stderr",
     "output_type": "stream",
     "text": [
      "C:\\Users\\alexsaunders\\AppData\\Local\\Temp\\ipykernel_13448\\724766185.py:13: FutureWarning: The frame.append method is deprecated and will be removed from pandas in a future version. Use pandas.concat instead.\n",
      "  dfScenes = dfScenes.append({'location':strFilePath, 'geometry': box(bounds[0], bounds[1], bounds[2], bounds[3])},ignore_index=True)\n",
      "C:\\Users\\alexsaunders\\AppData\\Local\\Temp\\ipykernel_13448\\724766185.py:13: FutureWarning: The frame.append method is deprecated and will be removed from pandas in a future version. Use pandas.concat instead.\n",
      "  dfScenes = dfScenes.append({'location':strFilePath, 'geometry': box(bounds[0], bounds[1], bounds[2], bounds[3])},ignore_index=True)\n",
      "C:\\Users\\alexsaunders\\AppData\\Local\\Temp\\ipykernel_13448\\724766185.py:13: FutureWarning: The frame.append method is deprecated and will be removed from pandas in a future version. Use pandas.concat instead.\n",
      "  dfScenes = dfScenes.append({'location':strFilePath, 'geometry': box(bounds[0], bounds[1], bounds[2], bounds[3])},ignore_index=True)\n",
      "C:\\Users\\alexsaunders\\AppData\\Local\\Temp\\ipykernel_13448\\724766185.py:13: FutureWarning: The frame.append method is deprecated and will be removed from pandas in a future version. Use pandas.concat instead.\n",
      "  dfScenes = dfScenes.append({'location':strFilePath, 'geometry': box(bounds[0], bounds[1], bounds[2], bounds[3])},ignore_index=True)\n",
      "C:\\Users\\alexsaunders\\AppData\\Local\\Temp\\ipykernel_13448\\724766185.py:13: FutureWarning: The frame.append method is deprecated and will be removed from pandas in a future version. Use pandas.concat instead.\n",
      "  dfScenes = dfScenes.append({'location':strFilePath, 'geometry': box(bounds[0], bounds[1], bounds[2], bounds[3])},ignore_index=True)\n",
      "C:\\Users\\alexsaunders\\AppData\\Local\\Temp\\ipykernel_13448\\724766185.py:13: FutureWarning: The frame.append method is deprecated and will be removed from pandas in a future version. Use pandas.concat instead.\n",
      "  dfScenes = dfScenes.append({'location':strFilePath, 'geometry': box(bounds[0], bounds[1], bounds[2], bounds[3])},ignore_index=True)\n"
     ]
    },
    {
     "name": "stdout",
     "output_type": "stream",
     "text": [
      "processing file 133/933\r"
     ]
    },
    {
     "name": "stderr",
     "output_type": "stream",
     "text": [
      "C:\\Users\\alexsaunders\\AppData\\Local\\Temp\\ipykernel_13448\\724766185.py:13: FutureWarning: The frame.append method is deprecated and will be removed from pandas in a future version. Use pandas.concat instead.\n",
      "  dfScenes = dfScenes.append({'location':strFilePath, 'geometry': box(bounds[0], bounds[1], bounds[2], bounds[3])},ignore_index=True)\n",
      "C:\\Users\\alexsaunders\\AppData\\Local\\Temp\\ipykernel_13448\\724766185.py:13: FutureWarning: The frame.append method is deprecated and will be removed from pandas in a future version. Use pandas.concat instead.\n",
      "  dfScenes = dfScenes.append({'location':strFilePath, 'geometry': box(bounds[0], bounds[1], bounds[2], bounds[3])},ignore_index=True)\n",
      "C:\\Users\\alexsaunders\\AppData\\Local\\Temp\\ipykernel_13448\\724766185.py:13: FutureWarning: The frame.append method is deprecated and will be removed from pandas in a future version. Use pandas.concat instead.\n",
      "  dfScenes = dfScenes.append({'location':strFilePath, 'geometry': box(bounds[0], bounds[1], bounds[2], bounds[3])},ignore_index=True)\n",
      "C:\\Users\\alexsaunders\\AppData\\Local\\Temp\\ipykernel_13448\\724766185.py:13: FutureWarning: The frame.append method is deprecated and will be removed from pandas in a future version. Use pandas.concat instead.\n",
      "  dfScenes = dfScenes.append({'location':strFilePath, 'geometry': box(bounds[0], bounds[1], bounds[2], bounds[3])},ignore_index=True)\n",
      "C:\\Users\\alexsaunders\\AppData\\Local\\Temp\\ipykernel_13448\\724766185.py:13: FutureWarning: The frame.append method is deprecated and will be removed from pandas in a future version. Use pandas.concat instead.\n",
      "  dfScenes = dfScenes.append({'location':strFilePath, 'geometry': box(bounds[0], bounds[1], bounds[2], bounds[3])},ignore_index=True)\n",
      "C:\\Users\\alexsaunders\\AppData\\Local\\Temp\\ipykernel_13448\\724766185.py:13: FutureWarning: The frame.append method is deprecated and will be removed from pandas in a future version. Use pandas.concat instead.\n",
      "  dfScenes = dfScenes.append({'location':strFilePath, 'geometry': box(bounds[0], bounds[1], bounds[2], bounds[3])},ignore_index=True)\n"
     ]
    },
    {
     "name": "stdout",
     "output_type": "stream",
     "text": [
      "processing file 139/933\r"
     ]
    },
    {
     "name": "stderr",
     "output_type": "stream",
     "text": [
      "C:\\Users\\alexsaunders\\AppData\\Local\\Temp\\ipykernel_13448\\724766185.py:13: FutureWarning: The frame.append method is deprecated and will be removed from pandas in a future version. Use pandas.concat instead.\n",
      "  dfScenes = dfScenes.append({'location':strFilePath, 'geometry': box(bounds[0], bounds[1], bounds[2], bounds[3])},ignore_index=True)\n",
      "C:\\Users\\alexsaunders\\AppData\\Local\\Temp\\ipykernel_13448\\724766185.py:13: FutureWarning: The frame.append method is deprecated and will be removed from pandas in a future version. Use pandas.concat instead.\n",
      "  dfScenes = dfScenes.append({'location':strFilePath, 'geometry': box(bounds[0], bounds[1], bounds[2], bounds[3])},ignore_index=True)\n",
      "C:\\Users\\alexsaunders\\AppData\\Local\\Temp\\ipykernel_13448\\724766185.py:13: FutureWarning: The frame.append method is deprecated and will be removed from pandas in a future version. Use pandas.concat instead.\n",
      "  dfScenes = dfScenes.append({'location':strFilePath, 'geometry': box(bounds[0], bounds[1], bounds[2], bounds[3])},ignore_index=True)\n",
      "C:\\Users\\alexsaunders\\AppData\\Local\\Temp\\ipykernel_13448\\724766185.py:13: FutureWarning: The frame.append method is deprecated and will be removed from pandas in a future version. Use pandas.concat instead.\n",
      "  dfScenes = dfScenes.append({'location':strFilePath, 'geometry': box(bounds[0], bounds[1], bounds[2], bounds[3])},ignore_index=True)\n",
      "C:\\Users\\alexsaunders\\AppData\\Local\\Temp\\ipykernel_13448\\724766185.py:13: FutureWarning: The frame.append method is deprecated and will be removed from pandas in a future version. Use pandas.concat instead.\n",
      "  dfScenes = dfScenes.append({'location':strFilePath, 'geometry': box(bounds[0], bounds[1], bounds[2], bounds[3])},ignore_index=True)\n",
      "C:\\Users\\alexsaunders\\AppData\\Local\\Temp\\ipykernel_13448\\724766185.py:13: FutureWarning: The frame.append method is deprecated and will be removed from pandas in a future version. Use pandas.concat instead.\n",
      "  dfScenes = dfScenes.append({'location':strFilePath, 'geometry': box(bounds[0], bounds[1], bounds[2], bounds[3])},ignore_index=True)\n"
     ]
    },
    {
     "name": "stdout",
     "output_type": "stream",
     "text": [
      "processing file 145/933\r"
     ]
    },
    {
     "name": "stderr",
     "output_type": "stream",
     "text": [
      "C:\\Users\\alexsaunders\\AppData\\Local\\Temp\\ipykernel_13448\\724766185.py:13: FutureWarning: The frame.append method is deprecated and will be removed from pandas in a future version. Use pandas.concat instead.\n",
      "  dfScenes = dfScenes.append({'location':strFilePath, 'geometry': box(bounds[0], bounds[1], bounds[2], bounds[3])},ignore_index=True)\n",
      "C:\\Users\\alexsaunders\\AppData\\Local\\Temp\\ipykernel_13448\\724766185.py:13: FutureWarning: The frame.append method is deprecated and will be removed from pandas in a future version. Use pandas.concat instead.\n",
      "  dfScenes = dfScenes.append({'location':strFilePath, 'geometry': box(bounds[0], bounds[1], bounds[2], bounds[3])},ignore_index=True)\n",
      "C:\\Users\\alexsaunders\\AppData\\Local\\Temp\\ipykernel_13448\\724766185.py:13: FutureWarning: The frame.append method is deprecated and will be removed from pandas in a future version. Use pandas.concat instead.\n",
      "  dfScenes = dfScenes.append({'location':strFilePath, 'geometry': box(bounds[0], bounds[1], bounds[2], bounds[3])},ignore_index=True)\n",
      "C:\\Users\\alexsaunders\\AppData\\Local\\Temp\\ipykernel_13448\\724766185.py:13: FutureWarning: The frame.append method is deprecated and will be removed from pandas in a future version. Use pandas.concat instead.\n",
      "  dfScenes = dfScenes.append({'location':strFilePath, 'geometry': box(bounds[0], bounds[1], bounds[2], bounds[3])},ignore_index=True)\n",
      "C:\\Users\\alexsaunders\\AppData\\Local\\Temp\\ipykernel_13448\\724766185.py:13: FutureWarning: The frame.append method is deprecated and will be removed from pandas in a future version. Use pandas.concat instead.\n",
      "  dfScenes = dfScenes.append({'location':strFilePath, 'geometry': box(bounds[0], bounds[1], bounds[2], bounds[3])},ignore_index=True)\n",
      "C:\\Users\\alexsaunders\\AppData\\Local\\Temp\\ipykernel_13448\\724766185.py:13: FutureWarning: The frame.append method is deprecated and will be removed from pandas in a future version. Use pandas.concat instead.\n",
      "  dfScenes = dfScenes.append({'location':strFilePath, 'geometry': box(bounds[0], bounds[1], bounds[2], bounds[3])},ignore_index=True)\n"
     ]
    },
    {
     "name": "stdout",
     "output_type": "stream",
     "text": [
      "processing file 151/933\r"
     ]
    },
    {
     "name": "stderr",
     "output_type": "stream",
     "text": [
      "C:\\Users\\alexsaunders\\AppData\\Local\\Temp\\ipykernel_13448\\724766185.py:13: FutureWarning: The frame.append method is deprecated and will be removed from pandas in a future version. Use pandas.concat instead.\n",
      "  dfScenes = dfScenes.append({'location':strFilePath, 'geometry': box(bounds[0], bounds[1], bounds[2], bounds[3])},ignore_index=True)\n",
      "C:\\Users\\alexsaunders\\AppData\\Local\\Temp\\ipykernel_13448\\724766185.py:13: FutureWarning: The frame.append method is deprecated and will be removed from pandas in a future version. Use pandas.concat instead.\n",
      "  dfScenes = dfScenes.append({'location':strFilePath, 'geometry': box(bounds[0], bounds[1], bounds[2], bounds[3])},ignore_index=True)\n",
      "C:\\Users\\alexsaunders\\AppData\\Local\\Temp\\ipykernel_13448\\724766185.py:13: FutureWarning: The frame.append method is deprecated and will be removed from pandas in a future version. Use pandas.concat instead.\n",
      "  dfScenes = dfScenes.append({'location':strFilePath, 'geometry': box(bounds[0], bounds[1], bounds[2], bounds[3])},ignore_index=True)\n",
      "C:\\Users\\alexsaunders\\AppData\\Local\\Temp\\ipykernel_13448\\724766185.py:13: FutureWarning: The frame.append method is deprecated and will be removed from pandas in a future version. Use pandas.concat instead.\n",
      "  dfScenes = dfScenes.append({'location':strFilePath, 'geometry': box(bounds[0], bounds[1], bounds[2], bounds[3])},ignore_index=True)\n",
      "C:\\Users\\alexsaunders\\AppData\\Local\\Temp\\ipykernel_13448\\724766185.py:13: FutureWarning: The frame.append method is deprecated and will be removed from pandas in a future version. Use pandas.concat instead.\n",
      "  dfScenes = dfScenes.append({'location':strFilePath, 'geometry': box(bounds[0], bounds[1], bounds[2], bounds[3])},ignore_index=True)\n",
      "C:\\Users\\alexsaunders\\AppData\\Local\\Temp\\ipykernel_13448\\724766185.py:13: FutureWarning: The frame.append method is deprecated and will be removed from pandas in a future version. Use pandas.concat instead.\n",
      "  dfScenes = dfScenes.append({'location':strFilePath, 'geometry': box(bounds[0], bounds[1], bounds[2], bounds[3])},ignore_index=True)\n"
     ]
    },
    {
     "name": "stdout",
     "output_type": "stream",
     "text": [
      "processing file 157/933\r"
     ]
    },
    {
     "name": "stderr",
     "output_type": "stream",
     "text": [
      "C:\\Users\\alexsaunders\\AppData\\Local\\Temp\\ipykernel_13448\\724766185.py:13: FutureWarning: The frame.append method is deprecated and will be removed from pandas in a future version. Use pandas.concat instead.\n",
      "  dfScenes = dfScenes.append({'location':strFilePath, 'geometry': box(bounds[0], bounds[1], bounds[2], bounds[3])},ignore_index=True)\n",
      "C:\\Users\\alexsaunders\\AppData\\Local\\Temp\\ipykernel_13448\\724766185.py:13: FutureWarning: The frame.append method is deprecated and will be removed from pandas in a future version. Use pandas.concat instead.\n",
      "  dfScenes = dfScenes.append({'location':strFilePath, 'geometry': box(bounds[0], bounds[1], bounds[2], bounds[3])},ignore_index=True)\n",
      "C:\\Users\\alexsaunders\\AppData\\Local\\Temp\\ipykernel_13448\\724766185.py:13: FutureWarning: The frame.append method is deprecated and will be removed from pandas in a future version. Use pandas.concat instead.\n",
      "  dfScenes = dfScenes.append({'location':strFilePath, 'geometry': box(bounds[0], bounds[1], bounds[2], bounds[3])},ignore_index=True)\n",
      "C:\\Users\\alexsaunders\\AppData\\Local\\Temp\\ipykernel_13448\\724766185.py:13: FutureWarning: The frame.append method is deprecated and will be removed from pandas in a future version. Use pandas.concat instead.\n",
      "  dfScenes = dfScenes.append({'location':strFilePath, 'geometry': box(bounds[0], bounds[1], bounds[2], bounds[3])},ignore_index=True)\n",
      "C:\\Users\\alexsaunders\\AppData\\Local\\Temp\\ipykernel_13448\\724766185.py:13: FutureWarning: The frame.append method is deprecated and will be removed from pandas in a future version. Use pandas.concat instead.\n",
      "  dfScenes = dfScenes.append({'location':strFilePath, 'geometry': box(bounds[0], bounds[1], bounds[2], bounds[3])},ignore_index=True)\n",
      "C:\\Users\\alexsaunders\\AppData\\Local\\Temp\\ipykernel_13448\\724766185.py:13: FutureWarning: The frame.append method is deprecated and will be removed from pandas in a future version. Use pandas.concat instead.\n",
      "  dfScenes = dfScenes.append({'location':strFilePath, 'geometry': box(bounds[0], bounds[1], bounds[2], bounds[3])},ignore_index=True)\n"
     ]
    },
    {
     "name": "stdout",
     "output_type": "stream",
     "text": [
      "processing file 163/933\r"
     ]
    },
    {
     "name": "stderr",
     "output_type": "stream",
     "text": [
      "C:\\Users\\alexsaunders\\AppData\\Local\\Temp\\ipykernel_13448\\724766185.py:13: FutureWarning: The frame.append method is deprecated and will be removed from pandas in a future version. Use pandas.concat instead.\n",
      "  dfScenes = dfScenes.append({'location':strFilePath, 'geometry': box(bounds[0], bounds[1], bounds[2], bounds[3])},ignore_index=True)\n",
      "C:\\Users\\alexsaunders\\AppData\\Local\\Temp\\ipykernel_13448\\724766185.py:13: FutureWarning: The frame.append method is deprecated and will be removed from pandas in a future version. Use pandas.concat instead.\n",
      "  dfScenes = dfScenes.append({'location':strFilePath, 'geometry': box(bounds[0], bounds[1], bounds[2], bounds[3])},ignore_index=True)\n",
      "C:\\Users\\alexsaunders\\AppData\\Local\\Temp\\ipykernel_13448\\724766185.py:13: FutureWarning: The frame.append method is deprecated and will be removed from pandas in a future version. Use pandas.concat instead.\n",
      "  dfScenes = dfScenes.append({'location':strFilePath, 'geometry': box(bounds[0], bounds[1], bounds[2], bounds[3])},ignore_index=True)\n",
      "C:\\Users\\alexsaunders\\AppData\\Local\\Temp\\ipykernel_13448\\724766185.py:13: FutureWarning: The frame.append method is deprecated and will be removed from pandas in a future version. Use pandas.concat instead.\n",
      "  dfScenes = dfScenes.append({'location':strFilePath, 'geometry': box(bounds[0], bounds[1], bounds[2], bounds[3])},ignore_index=True)\n",
      "C:\\Users\\alexsaunders\\AppData\\Local\\Temp\\ipykernel_13448\\724766185.py:13: FutureWarning: The frame.append method is deprecated and will be removed from pandas in a future version. Use pandas.concat instead.\n",
      "  dfScenes = dfScenes.append({'location':strFilePath, 'geometry': box(bounds[0], bounds[1], bounds[2], bounds[3])},ignore_index=True)\n",
      "C:\\Users\\alexsaunders\\AppData\\Local\\Temp\\ipykernel_13448\\724766185.py:13: FutureWarning: The frame.append method is deprecated and will be removed from pandas in a future version. Use pandas.concat instead.\n",
      "  dfScenes = dfScenes.append({'location':strFilePath, 'geometry': box(bounds[0], bounds[1], bounds[2], bounds[3])},ignore_index=True)\n"
     ]
    },
    {
     "name": "stdout",
     "output_type": "stream",
     "text": [
      "processing file 169/933\r"
     ]
    },
    {
     "name": "stderr",
     "output_type": "stream",
     "text": [
      "C:\\Users\\alexsaunders\\AppData\\Local\\Temp\\ipykernel_13448\\724766185.py:13: FutureWarning: The frame.append method is deprecated and will be removed from pandas in a future version. Use pandas.concat instead.\n",
      "  dfScenes = dfScenes.append({'location':strFilePath, 'geometry': box(bounds[0], bounds[1], bounds[2], bounds[3])},ignore_index=True)\n",
      "C:\\Users\\alexsaunders\\AppData\\Local\\Temp\\ipykernel_13448\\724766185.py:13: FutureWarning: The frame.append method is deprecated and will be removed from pandas in a future version. Use pandas.concat instead.\n",
      "  dfScenes = dfScenes.append({'location':strFilePath, 'geometry': box(bounds[0], bounds[1], bounds[2], bounds[3])},ignore_index=True)\n",
      "C:\\Users\\alexsaunders\\AppData\\Local\\Temp\\ipykernel_13448\\724766185.py:13: FutureWarning: The frame.append method is deprecated and will be removed from pandas in a future version. Use pandas.concat instead.\n",
      "  dfScenes = dfScenes.append({'location':strFilePath, 'geometry': box(bounds[0], bounds[1], bounds[2], bounds[3])},ignore_index=True)\n",
      "C:\\Users\\alexsaunders\\AppData\\Local\\Temp\\ipykernel_13448\\724766185.py:13: FutureWarning: The frame.append method is deprecated and will be removed from pandas in a future version. Use pandas.concat instead.\n",
      "  dfScenes = dfScenes.append({'location':strFilePath, 'geometry': box(bounds[0], bounds[1], bounds[2], bounds[3])},ignore_index=True)\n",
      "C:\\Users\\alexsaunders\\AppData\\Local\\Temp\\ipykernel_13448\\724766185.py:13: FutureWarning: The frame.append method is deprecated and will be removed from pandas in a future version. Use pandas.concat instead.\n",
      "  dfScenes = dfScenes.append({'location':strFilePath, 'geometry': box(bounds[0], bounds[1], bounds[2], bounds[3])},ignore_index=True)\n"
     ]
    },
    {
     "name": "stdout",
     "output_type": "stream",
     "text": [
      "processing file 174/933\r"
     ]
    },
    {
     "name": "stderr",
     "output_type": "stream",
     "text": [
      "C:\\Users\\alexsaunders\\AppData\\Local\\Temp\\ipykernel_13448\\724766185.py:13: FutureWarning: The frame.append method is deprecated and will be removed from pandas in a future version. Use pandas.concat instead.\n",
      "  dfScenes = dfScenes.append({'location':strFilePath, 'geometry': box(bounds[0], bounds[1], bounds[2], bounds[3])},ignore_index=True)\n",
      "C:\\Users\\alexsaunders\\AppData\\Local\\Temp\\ipykernel_13448\\724766185.py:13: FutureWarning: The frame.append method is deprecated and will be removed from pandas in a future version. Use pandas.concat instead.\n",
      "  dfScenes = dfScenes.append({'location':strFilePath, 'geometry': box(bounds[0], bounds[1], bounds[2], bounds[3])},ignore_index=True)\n",
      "C:\\Users\\alexsaunders\\AppData\\Local\\Temp\\ipykernel_13448\\724766185.py:13: FutureWarning: The frame.append method is deprecated and will be removed from pandas in a future version. Use pandas.concat instead.\n",
      "  dfScenes = dfScenes.append({'location':strFilePath, 'geometry': box(bounds[0], bounds[1], bounds[2], bounds[3])},ignore_index=True)\n",
      "C:\\Users\\alexsaunders\\AppData\\Local\\Temp\\ipykernel_13448\\724766185.py:13: FutureWarning: The frame.append method is deprecated and will be removed from pandas in a future version. Use pandas.concat instead.\n",
      "  dfScenes = dfScenes.append({'location':strFilePath, 'geometry': box(bounds[0], bounds[1], bounds[2], bounds[3])},ignore_index=True)\n",
      "C:\\Users\\alexsaunders\\AppData\\Local\\Temp\\ipykernel_13448\\724766185.py:13: FutureWarning: The frame.append method is deprecated and will be removed from pandas in a future version. Use pandas.concat instead.\n",
      "  dfScenes = dfScenes.append({'location':strFilePath, 'geometry': box(bounds[0], bounds[1], bounds[2], bounds[3])},ignore_index=True)\n"
     ]
    },
    {
     "name": "stdout",
     "output_type": "stream",
     "text": [
      "processing file 179/933\r"
     ]
    },
    {
     "name": "stderr",
     "output_type": "stream",
     "text": [
      "C:\\Users\\alexsaunders\\AppData\\Local\\Temp\\ipykernel_13448\\724766185.py:13: FutureWarning: The frame.append method is deprecated and will be removed from pandas in a future version. Use pandas.concat instead.\n",
      "  dfScenes = dfScenes.append({'location':strFilePath, 'geometry': box(bounds[0], bounds[1], bounds[2], bounds[3])},ignore_index=True)\n",
      "C:\\Users\\alexsaunders\\AppData\\Local\\Temp\\ipykernel_13448\\724766185.py:13: FutureWarning: The frame.append method is deprecated and will be removed from pandas in a future version. Use pandas.concat instead.\n",
      "  dfScenes = dfScenes.append({'location':strFilePath, 'geometry': box(bounds[0], bounds[1], bounds[2], bounds[3])},ignore_index=True)\n",
      "C:\\Users\\alexsaunders\\AppData\\Local\\Temp\\ipykernel_13448\\724766185.py:13: FutureWarning: The frame.append method is deprecated and will be removed from pandas in a future version. Use pandas.concat instead.\n",
      "  dfScenes = dfScenes.append({'location':strFilePath, 'geometry': box(bounds[0], bounds[1], bounds[2], bounds[3])},ignore_index=True)\n",
      "C:\\Users\\alexsaunders\\AppData\\Local\\Temp\\ipykernel_13448\\724766185.py:13: FutureWarning: The frame.append method is deprecated and will be removed from pandas in a future version. Use pandas.concat instead.\n",
      "  dfScenes = dfScenes.append({'location':strFilePath, 'geometry': box(bounds[0], bounds[1], bounds[2], bounds[3])},ignore_index=True)\n",
      "C:\\Users\\alexsaunders\\AppData\\Local\\Temp\\ipykernel_13448\\724766185.py:13: FutureWarning: The frame.append method is deprecated and will be removed from pandas in a future version. Use pandas.concat instead.\n",
      "  dfScenes = dfScenes.append({'location':strFilePath, 'geometry': box(bounds[0], bounds[1], bounds[2], bounds[3])},ignore_index=True)\n",
      "C:\\Users\\alexsaunders\\AppData\\Local\\Temp\\ipykernel_13448\\724766185.py:13: FutureWarning: The frame.append method is deprecated and will be removed from pandas in a future version. Use pandas.concat instead.\n",
      "  dfScenes = dfScenes.append({'location':strFilePath, 'geometry': box(bounds[0], bounds[1], bounds[2], bounds[3])},ignore_index=True)\n"
     ]
    },
    {
     "name": "stdout",
     "output_type": "stream",
     "text": [
      "processing file 185/933\r"
     ]
    },
    {
     "name": "stderr",
     "output_type": "stream",
     "text": [
      "C:\\Users\\alexsaunders\\AppData\\Local\\Temp\\ipykernel_13448\\724766185.py:13: FutureWarning: The frame.append method is deprecated and will be removed from pandas in a future version. Use pandas.concat instead.\n",
      "  dfScenes = dfScenes.append({'location':strFilePath, 'geometry': box(bounds[0], bounds[1], bounds[2], bounds[3])},ignore_index=True)\n",
      "C:\\Users\\alexsaunders\\AppData\\Local\\Temp\\ipykernel_13448\\724766185.py:13: FutureWarning: The frame.append method is deprecated and will be removed from pandas in a future version. Use pandas.concat instead.\n",
      "  dfScenes = dfScenes.append({'location':strFilePath, 'geometry': box(bounds[0], bounds[1], bounds[2], bounds[3])},ignore_index=True)\n",
      "C:\\Users\\alexsaunders\\AppData\\Local\\Temp\\ipykernel_13448\\724766185.py:13: FutureWarning: The frame.append method is deprecated and will be removed from pandas in a future version. Use pandas.concat instead.\n",
      "  dfScenes = dfScenes.append({'location':strFilePath, 'geometry': box(bounds[0], bounds[1], bounds[2], bounds[3])},ignore_index=True)\n",
      "C:\\Users\\alexsaunders\\AppData\\Local\\Temp\\ipykernel_13448\\724766185.py:13: FutureWarning: The frame.append method is deprecated and will be removed from pandas in a future version. Use pandas.concat instead.\n",
      "  dfScenes = dfScenes.append({'location':strFilePath, 'geometry': box(bounds[0], bounds[1], bounds[2], bounds[3])},ignore_index=True)\n",
      "C:\\Users\\alexsaunders\\AppData\\Local\\Temp\\ipykernel_13448\\724766185.py:13: FutureWarning: The frame.append method is deprecated and will be removed from pandas in a future version. Use pandas.concat instead.\n",
      "  dfScenes = dfScenes.append({'location':strFilePath, 'geometry': box(bounds[0], bounds[1], bounds[2], bounds[3])},ignore_index=True)\n",
      "C:\\Users\\alexsaunders\\AppData\\Local\\Temp\\ipykernel_13448\\724766185.py:13: FutureWarning: The frame.append method is deprecated and will be removed from pandas in a future version. Use pandas.concat instead.\n",
      "  dfScenes = dfScenes.append({'location':strFilePath, 'geometry': box(bounds[0], bounds[1], bounds[2], bounds[3])},ignore_index=True)\n"
     ]
    },
    {
     "name": "stdout",
     "output_type": "stream",
     "text": [
      "processing file 191/933\r"
     ]
    },
    {
     "name": "stderr",
     "output_type": "stream",
     "text": [
      "C:\\Users\\alexsaunders\\AppData\\Local\\Temp\\ipykernel_13448\\724766185.py:13: FutureWarning: The frame.append method is deprecated and will be removed from pandas in a future version. Use pandas.concat instead.\n",
      "  dfScenes = dfScenes.append({'location':strFilePath, 'geometry': box(bounds[0], bounds[1], bounds[2], bounds[3])},ignore_index=True)\n",
      "C:\\Users\\alexsaunders\\AppData\\Local\\Temp\\ipykernel_13448\\724766185.py:13: FutureWarning: The frame.append method is deprecated and will be removed from pandas in a future version. Use pandas.concat instead.\n",
      "  dfScenes = dfScenes.append({'location':strFilePath, 'geometry': box(bounds[0], bounds[1], bounds[2], bounds[3])},ignore_index=True)\n",
      "C:\\Users\\alexsaunders\\AppData\\Local\\Temp\\ipykernel_13448\\724766185.py:13: FutureWarning: The frame.append method is deprecated and will be removed from pandas in a future version. Use pandas.concat instead.\n",
      "  dfScenes = dfScenes.append({'location':strFilePath, 'geometry': box(bounds[0], bounds[1], bounds[2], bounds[3])},ignore_index=True)\n",
      "C:\\Users\\alexsaunders\\AppData\\Local\\Temp\\ipykernel_13448\\724766185.py:13: FutureWarning: The frame.append method is deprecated and will be removed from pandas in a future version. Use pandas.concat instead.\n",
      "  dfScenes = dfScenes.append({'location':strFilePath, 'geometry': box(bounds[0], bounds[1], bounds[2], bounds[3])},ignore_index=True)\n",
      "C:\\Users\\alexsaunders\\AppData\\Local\\Temp\\ipykernel_13448\\724766185.py:13: FutureWarning: The frame.append method is deprecated and will be removed from pandas in a future version. Use pandas.concat instead.\n",
      "  dfScenes = dfScenes.append({'location':strFilePath, 'geometry': box(bounds[0], bounds[1], bounds[2], bounds[3])},ignore_index=True)\n",
      "C:\\Users\\alexsaunders\\AppData\\Local\\Temp\\ipykernel_13448\\724766185.py:13: FutureWarning: The frame.append method is deprecated and will be removed from pandas in a future version. Use pandas.concat instead.\n",
      "  dfScenes = dfScenes.append({'location':strFilePath, 'geometry': box(bounds[0], bounds[1], bounds[2], bounds[3])},ignore_index=True)\n"
     ]
    },
    {
     "name": "stdout",
     "output_type": "stream",
     "text": [
      "processing file 197/933\r"
     ]
    },
    {
     "name": "stderr",
     "output_type": "stream",
     "text": [
      "C:\\Users\\alexsaunders\\AppData\\Local\\Temp\\ipykernel_13448\\724766185.py:13: FutureWarning: The frame.append method is deprecated and will be removed from pandas in a future version. Use pandas.concat instead.\n",
      "  dfScenes = dfScenes.append({'location':strFilePath, 'geometry': box(bounds[0], bounds[1], bounds[2], bounds[3])},ignore_index=True)\n",
      "C:\\Users\\alexsaunders\\AppData\\Local\\Temp\\ipykernel_13448\\724766185.py:13: FutureWarning: The frame.append method is deprecated and will be removed from pandas in a future version. Use pandas.concat instead.\n",
      "  dfScenes = dfScenes.append({'location':strFilePath, 'geometry': box(bounds[0], bounds[1], bounds[2], bounds[3])},ignore_index=True)\n",
      "C:\\Users\\alexsaunders\\AppData\\Local\\Temp\\ipykernel_13448\\724766185.py:13: FutureWarning: The frame.append method is deprecated and will be removed from pandas in a future version. Use pandas.concat instead.\n",
      "  dfScenes = dfScenes.append({'location':strFilePath, 'geometry': box(bounds[0], bounds[1], bounds[2], bounds[3])},ignore_index=True)\n",
      "C:\\Users\\alexsaunders\\AppData\\Local\\Temp\\ipykernel_13448\\724766185.py:13: FutureWarning: The frame.append method is deprecated and will be removed from pandas in a future version. Use pandas.concat instead.\n",
      "  dfScenes = dfScenes.append({'location':strFilePath, 'geometry': box(bounds[0], bounds[1], bounds[2], bounds[3])},ignore_index=True)\n",
      "C:\\Users\\alexsaunders\\AppData\\Local\\Temp\\ipykernel_13448\\724766185.py:13: FutureWarning: The frame.append method is deprecated and will be removed from pandas in a future version. Use pandas.concat instead.\n",
      "  dfScenes = dfScenes.append({'location':strFilePath, 'geometry': box(bounds[0], bounds[1], bounds[2], bounds[3])},ignore_index=True)\n"
     ]
    },
    {
     "name": "stdout",
     "output_type": "stream",
     "text": [
      "processing file 202/933\r"
     ]
    },
    {
     "name": "stderr",
     "output_type": "stream",
     "text": [
      "C:\\Users\\alexsaunders\\AppData\\Local\\Temp\\ipykernel_13448\\724766185.py:13: FutureWarning: The frame.append method is deprecated and will be removed from pandas in a future version. Use pandas.concat instead.\n",
      "  dfScenes = dfScenes.append({'location':strFilePath, 'geometry': box(bounds[0], bounds[1], bounds[2], bounds[3])},ignore_index=True)\n",
      "C:\\Users\\alexsaunders\\AppData\\Local\\Temp\\ipykernel_13448\\724766185.py:13: FutureWarning: The frame.append method is deprecated and will be removed from pandas in a future version. Use pandas.concat instead.\n",
      "  dfScenes = dfScenes.append({'location':strFilePath, 'geometry': box(bounds[0], bounds[1], bounds[2], bounds[3])},ignore_index=True)\n",
      "C:\\Users\\alexsaunders\\AppData\\Local\\Temp\\ipykernel_13448\\724766185.py:13: FutureWarning: The frame.append method is deprecated and will be removed from pandas in a future version. Use pandas.concat instead.\n",
      "  dfScenes = dfScenes.append({'location':strFilePath, 'geometry': box(bounds[0], bounds[1], bounds[2], bounds[3])},ignore_index=True)\n",
      "C:\\Users\\alexsaunders\\AppData\\Local\\Temp\\ipykernel_13448\\724766185.py:13: FutureWarning: The frame.append method is deprecated and will be removed from pandas in a future version. Use pandas.concat instead.\n",
      "  dfScenes = dfScenes.append({'location':strFilePath, 'geometry': box(bounds[0], bounds[1], bounds[2], bounds[3])},ignore_index=True)\n",
      "C:\\Users\\alexsaunders\\AppData\\Local\\Temp\\ipykernel_13448\\724766185.py:13: FutureWarning: The frame.append method is deprecated and will be removed from pandas in a future version. Use pandas.concat instead.\n",
      "  dfScenes = dfScenes.append({'location':strFilePath, 'geometry': box(bounds[0], bounds[1], bounds[2], bounds[3])},ignore_index=True)\n",
      "C:\\Users\\alexsaunders\\AppData\\Local\\Temp\\ipykernel_13448\\724766185.py:13: FutureWarning: The frame.append method is deprecated and will be removed from pandas in a future version. Use pandas.concat instead.\n",
      "  dfScenes = dfScenes.append({'location':strFilePath, 'geometry': box(bounds[0], bounds[1], bounds[2], bounds[3])},ignore_index=True)\n"
     ]
    },
    {
     "name": "stdout",
     "output_type": "stream",
     "text": [
      "processing file 208/933\r"
     ]
    },
    {
     "name": "stderr",
     "output_type": "stream",
     "text": [
      "C:\\Users\\alexsaunders\\AppData\\Local\\Temp\\ipykernel_13448\\724766185.py:13: FutureWarning: The frame.append method is deprecated and will be removed from pandas in a future version. Use pandas.concat instead.\n",
      "  dfScenes = dfScenes.append({'location':strFilePath, 'geometry': box(bounds[0], bounds[1], bounds[2], bounds[3])},ignore_index=True)\n",
      "C:\\Users\\alexsaunders\\AppData\\Local\\Temp\\ipykernel_13448\\724766185.py:13: FutureWarning: The frame.append method is deprecated and will be removed from pandas in a future version. Use pandas.concat instead.\n",
      "  dfScenes = dfScenes.append({'location':strFilePath, 'geometry': box(bounds[0], bounds[1], bounds[2], bounds[3])},ignore_index=True)\n",
      "C:\\Users\\alexsaunders\\AppData\\Local\\Temp\\ipykernel_13448\\724766185.py:13: FutureWarning: The frame.append method is deprecated and will be removed from pandas in a future version. Use pandas.concat instead.\n",
      "  dfScenes = dfScenes.append({'location':strFilePath, 'geometry': box(bounds[0], bounds[1], bounds[2], bounds[3])},ignore_index=True)\n",
      "C:\\Users\\alexsaunders\\AppData\\Local\\Temp\\ipykernel_13448\\724766185.py:13: FutureWarning: The frame.append method is deprecated and will be removed from pandas in a future version. Use pandas.concat instead.\n",
      "  dfScenes = dfScenes.append({'location':strFilePath, 'geometry': box(bounds[0], bounds[1], bounds[2], bounds[3])},ignore_index=True)\n",
      "C:\\Users\\alexsaunders\\AppData\\Local\\Temp\\ipykernel_13448\\724766185.py:13: FutureWarning: The frame.append method is deprecated and will be removed from pandas in a future version. Use pandas.concat instead.\n",
      "  dfScenes = dfScenes.append({'location':strFilePath, 'geometry': box(bounds[0], bounds[1], bounds[2], bounds[3])},ignore_index=True)\n",
      "C:\\Users\\alexsaunders\\AppData\\Local\\Temp\\ipykernel_13448\\724766185.py:13: FutureWarning: The frame.append method is deprecated and will be removed from pandas in a future version. Use pandas.concat instead.\n",
      "  dfScenes = dfScenes.append({'location':strFilePath, 'geometry': box(bounds[0], bounds[1], bounds[2], bounds[3])},ignore_index=True)\n"
     ]
    },
    {
     "name": "stdout",
     "output_type": "stream",
     "text": [
      "processing file 214/933\r"
     ]
    },
    {
     "name": "stderr",
     "output_type": "stream",
     "text": [
      "C:\\Users\\alexsaunders\\AppData\\Local\\Temp\\ipykernel_13448\\724766185.py:13: FutureWarning: The frame.append method is deprecated and will be removed from pandas in a future version. Use pandas.concat instead.\n",
      "  dfScenes = dfScenes.append({'location':strFilePath, 'geometry': box(bounds[0], bounds[1], bounds[2], bounds[3])},ignore_index=True)\n",
      "C:\\Users\\alexsaunders\\AppData\\Local\\Temp\\ipykernel_13448\\724766185.py:13: FutureWarning: The frame.append method is deprecated and will be removed from pandas in a future version. Use pandas.concat instead.\n",
      "  dfScenes = dfScenes.append({'location':strFilePath, 'geometry': box(bounds[0], bounds[1], bounds[2], bounds[3])},ignore_index=True)\n",
      "C:\\Users\\alexsaunders\\AppData\\Local\\Temp\\ipykernel_13448\\724766185.py:13: FutureWarning: The frame.append method is deprecated and will be removed from pandas in a future version. Use pandas.concat instead.\n",
      "  dfScenes = dfScenes.append({'location':strFilePath, 'geometry': box(bounds[0], bounds[1], bounds[2], bounds[3])},ignore_index=True)\n",
      "C:\\Users\\alexsaunders\\AppData\\Local\\Temp\\ipykernel_13448\\724766185.py:13: FutureWarning: The frame.append method is deprecated and will be removed from pandas in a future version. Use pandas.concat instead.\n",
      "  dfScenes = dfScenes.append({'location':strFilePath, 'geometry': box(bounds[0], bounds[1], bounds[2], bounds[3])},ignore_index=True)\n",
      "C:\\Users\\alexsaunders\\AppData\\Local\\Temp\\ipykernel_13448\\724766185.py:13: FutureWarning: The frame.append method is deprecated and will be removed from pandas in a future version. Use pandas.concat instead.\n",
      "  dfScenes = dfScenes.append({'location':strFilePath, 'geometry': box(bounds[0], bounds[1], bounds[2], bounds[3])},ignore_index=True)\n",
      "C:\\Users\\alexsaunders\\AppData\\Local\\Temp\\ipykernel_13448\\724766185.py:13: FutureWarning: The frame.append method is deprecated and will be removed from pandas in a future version. Use pandas.concat instead.\n",
      "  dfScenes = dfScenes.append({'location':strFilePath, 'geometry': box(bounds[0], bounds[1], bounds[2], bounds[3])},ignore_index=True)\n"
     ]
    },
    {
     "name": "stdout",
     "output_type": "stream",
     "text": [
      "processing file 220/933\r"
     ]
    },
    {
     "name": "stderr",
     "output_type": "stream",
     "text": [
      "C:\\Users\\alexsaunders\\AppData\\Local\\Temp\\ipykernel_13448\\724766185.py:13: FutureWarning: The frame.append method is deprecated and will be removed from pandas in a future version. Use pandas.concat instead.\n",
      "  dfScenes = dfScenes.append({'location':strFilePath, 'geometry': box(bounds[0], bounds[1], bounds[2], bounds[3])},ignore_index=True)\n",
      "C:\\Users\\alexsaunders\\AppData\\Local\\Temp\\ipykernel_13448\\724766185.py:13: FutureWarning: The frame.append method is deprecated and will be removed from pandas in a future version. Use pandas.concat instead.\n",
      "  dfScenes = dfScenes.append({'location':strFilePath, 'geometry': box(bounds[0], bounds[1], bounds[2], bounds[3])},ignore_index=True)\n",
      "C:\\Users\\alexsaunders\\AppData\\Local\\Temp\\ipykernel_13448\\724766185.py:13: FutureWarning: The frame.append method is deprecated and will be removed from pandas in a future version. Use pandas.concat instead.\n",
      "  dfScenes = dfScenes.append({'location':strFilePath, 'geometry': box(bounds[0], bounds[1], bounds[2], bounds[3])},ignore_index=True)\n",
      "C:\\Users\\alexsaunders\\AppData\\Local\\Temp\\ipykernel_13448\\724766185.py:13: FutureWarning: The frame.append method is deprecated and will be removed from pandas in a future version. Use pandas.concat instead.\n",
      "  dfScenes = dfScenes.append({'location':strFilePath, 'geometry': box(bounds[0], bounds[1], bounds[2], bounds[3])},ignore_index=True)\n",
      "C:\\Users\\alexsaunders\\AppData\\Local\\Temp\\ipykernel_13448\\724766185.py:13: FutureWarning: The frame.append method is deprecated and will be removed from pandas in a future version. Use pandas.concat instead.\n",
      "  dfScenes = dfScenes.append({'location':strFilePath, 'geometry': box(bounds[0], bounds[1], bounds[2], bounds[3])},ignore_index=True)\n",
      "C:\\Users\\alexsaunders\\AppData\\Local\\Temp\\ipykernel_13448\\724766185.py:13: FutureWarning: The frame.append method is deprecated and will be removed from pandas in a future version. Use pandas.concat instead.\n",
      "  dfScenes = dfScenes.append({'location':strFilePath, 'geometry': box(bounds[0], bounds[1], bounds[2], bounds[3])},ignore_index=True)\n"
     ]
    },
    {
     "name": "stdout",
     "output_type": "stream",
     "text": [
      "processing file 226/933\r"
     ]
    },
    {
     "name": "stderr",
     "output_type": "stream",
     "text": [
      "C:\\Users\\alexsaunders\\AppData\\Local\\Temp\\ipykernel_13448\\724766185.py:13: FutureWarning: The frame.append method is deprecated and will be removed from pandas in a future version. Use pandas.concat instead.\n",
      "  dfScenes = dfScenes.append({'location':strFilePath, 'geometry': box(bounds[0], bounds[1], bounds[2], bounds[3])},ignore_index=True)\n",
      "C:\\Users\\alexsaunders\\AppData\\Local\\Temp\\ipykernel_13448\\724766185.py:13: FutureWarning: The frame.append method is deprecated and will be removed from pandas in a future version. Use pandas.concat instead.\n",
      "  dfScenes = dfScenes.append({'location':strFilePath, 'geometry': box(bounds[0], bounds[1], bounds[2], bounds[3])},ignore_index=True)\n",
      "C:\\Users\\alexsaunders\\AppData\\Local\\Temp\\ipykernel_13448\\724766185.py:13: FutureWarning: The frame.append method is deprecated and will be removed from pandas in a future version. Use pandas.concat instead.\n",
      "  dfScenes = dfScenes.append({'location':strFilePath, 'geometry': box(bounds[0], bounds[1], bounds[2], bounds[3])},ignore_index=True)\n",
      "C:\\Users\\alexsaunders\\AppData\\Local\\Temp\\ipykernel_13448\\724766185.py:13: FutureWarning: The frame.append method is deprecated and will be removed from pandas in a future version. Use pandas.concat instead.\n",
      "  dfScenes = dfScenes.append({'location':strFilePath, 'geometry': box(bounds[0], bounds[1], bounds[2], bounds[3])},ignore_index=True)\n",
      "C:\\Users\\alexsaunders\\AppData\\Local\\Temp\\ipykernel_13448\\724766185.py:13: FutureWarning: The frame.append method is deprecated and will be removed from pandas in a future version. Use pandas.concat instead.\n",
      "  dfScenes = dfScenes.append({'location':strFilePath, 'geometry': box(bounds[0], bounds[1], bounds[2], bounds[3])},ignore_index=True)\n",
      "C:\\Users\\alexsaunders\\AppData\\Local\\Temp\\ipykernel_13448\\724766185.py:13: FutureWarning: The frame.append method is deprecated and will be removed from pandas in a future version. Use pandas.concat instead.\n",
      "  dfScenes = dfScenes.append({'location':strFilePath, 'geometry': box(bounds[0], bounds[1], bounds[2], bounds[3])},ignore_index=True)\n"
     ]
    },
    {
     "name": "stdout",
     "output_type": "stream",
     "text": [
      "processing file 232/933\r"
     ]
    },
    {
     "name": "stderr",
     "output_type": "stream",
     "text": [
      "C:\\Users\\alexsaunders\\AppData\\Local\\Temp\\ipykernel_13448\\724766185.py:13: FutureWarning: The frame.append method is deprecated and will be removed from pandas in a future version. Use pandas.concat instead.\n",
      "  dfScenes = dfScenes.append({'location':strFilePath, 'geometry': box(bounds[0], bounds[1], bounds[2], bounds[3])},ignore_index=True)\n",
      "C:\\Users\\alexsaunders\\AppData\\Local\\Temp\\ipykernel_13448\\724766185.py:13: FutureWarning: The frame.append method is deprecated and will be removed from pandas in a future version. Use pandas.concat instead.\n",
      "  dfScenes = dfScenes.append({'location':strFilePath, 'geometry': box(bounds[0], bounds[1], bounds[2], bounds[3])},ignore_index=True)\n",
      "C:\\Users\\alexsaunders\\AppData\\Local\\Temp\\ipykernel_13448\\724766185.py:13: FutureWarning: The frame.append method is deprecated and will be removed from pandas in a future version. Use pandas.concat instead.\n",
      "  dfScenes = dfScenes.append({'location':strFilePath, 'geometry': box(bounds[0], bounds[1], bounds[2], bounds[3])},ignore_index=True)\n",
      "C:\\Users\\alexsaunders\\AppData\\Local\\Temp\\ipykernel_13448\\724766185.py:13: FutureWarning: The frame.append method is deprecated and will be removed from pandas in a future version. Use pandas.concat instead.\n",
      "  dfScenes = dfScenes.append({'location':strFilePath, 'geometry': box(bounds[0], bounds[1], bounds[2], bounds[3])},ignore_index=True)\n",
      "C:\\Users\\alexsaunders\\AppData\\Local\\Temp\\ipykernel_13448\\724766185.py:13: FutureWarning: The frame.append method is deprecated and will be removed from pandas in a future version. Use pandas.concat instead.\n",
      "  dfScenes = dfScenes.append({'location':strFilePath, 'geometry': box(bounds[0], bounds[1], bounds[2], bounds[3])},ignore_index=True)\n",
      "C:\\Users\\alexsaunders\\AppData\\Local\\Temp\\ipykernel_13448\\724766185.py:13: FutureWarning: The frame.append method is deprecated and will be removed from pandas in a future version. Use pandas.concat instead.\n",
      "  dfScenes = dfScenes.append({'location':strFilePath, 'geometry': box(bounds[0], bounds[1], bounds[2], bounds[3])},ignore_index=True)\n"
     ]
    },
    {
     "name": "stdout",
     "output_type": "stream",
     "text": [
      "processing file 238/933\r"
     ]
    },
    {
     "name": "stderr",
     "output_type": "stream",
     "text": [
      "C:\\Users\\alexsaunders\\AppData\\Local\\Temp\\ipykernel_13448\\724766185.py:13: FutureWarning: The frame.append method is deprecated and will be removed from pandas in a future version. Use pandas.concat instead.\n",
      "  dfScenes = dfScenes.append({'location':strFilePath, 'geometry': box(bounds[0], bounds[1], bounds[2], bounds[3])},ignore_index=True)\n",
      "C:\\Users\\alexsaunders\\AppData\\Local\\Temp\\ipykernel_13448\\724766185.py:13: FutureWarning: The frame.append method is deprecated and will be removed from pandas in a future version. Use pandas.concat instead.\n",
      "  dfScenes = dfScenes.append({'location':strFilePath, 'geometry': box(bounds[0], bounds[1], bounds[2], bounds[3])},ignore_index=True)\n",
      "C:\\Users\\alexsaunders\\AppData\\Local\\Temp\\ipykernel_13448\\724766185.py:13: FutureWarning: The frame.append method is deprecated and will be removed from pandas in a future version. Use pandas.concat instead.\n",
      "  dfScenes = dfScenes.append({'location':strFilePath, 'geometry': box(bounds[0], bounds[1], bounds[2], bounds[3])},ignore_index=True)\n",
      "C:\\Users\\alexsaunders\\AppData\\Local\\Temp\\ipykernel_13448\\724766185.py:13: FutureWarning: The frame.append method is deprecated and will be removed from pandas in a future version. Use pandas.concat instead.\n",
      "  dfScenes = dfScenes.append({'location':strFilePath, 'geometry': box(bounds[0], bounds[1], bounds[2], bounds[3])},ignore_index=True)\n",
      "C:\\Users\\alexsaunders\\AppData\\Local\\Temp\\ipykernel_13448\\724766185.py:13: FutureWarning: The frame.append method is deprecated and will be removed from pandas in a future version. Use pandas.concat instead.\n",
      "  dfScenes = dfScenes.append({'location':strFilePath, 'geometry': box(bounds[0], bounds[1], bounds[2], bounds[3])},ignore_index=True)\n",
      "C:\\Users\\alexsaunders\\AppData\\Local\\Temp\\ipykernel_13448\\724766185.py:13: FutureWarning: The frame.append method is deprecated and will be removed from pandas in a future version. Use pandas.concat instead.\n",
      "  dfScenes = dfScenes.append({'location':strFilePath, 'geometry': box(bounds[0], bounds[1], bounds[2], bounds[3])},ignore_index=True)\n"
     ]
    },
    {
     "name": "stdout",
     "output_type": "stream",
     "text": [
      "processing file 244/933\r"
     ]
    },
    {
     "name": "stderr",
     "output_type": "stream",
     "text": [
      "C:\\Users\\alexsaunders\\AppData\\Local\\Temp\\ipykernel_13448\\724766185.py:13: FutureWarning: The frame.append method is deprecated and will be removed from pandas in a future version. Use pandas.concat instead.\n",
      "  dfScenes = dfScenes.append({'location':strFilePath, 'geometry': box(bounds[0], bounds[1], bounds[2], bounds[3])},ignore_index=True)\n",
      "C:\\Users\\alexsaunders\\AppData\\Local\\Temp\\ipykernel_13448\\724766185.py:13: FutureWarning: The frame.append method is deprecated and will be removed from pandas in a future version. Use pandas.concat instead.\n",
      "  dfScenes = dfScenes.append({'location':strFilePath, 'geometry': box(bounds[0], bounds[1], bounds[2], bounds[3])},ignore_index=True)\n",
      "C:\\Users\\alexsaunders\\AppData\\Local\\Temp\\ipykernel_13448\\724766185.py:13: FutureWarning: The frame.append method is deprecated and will be removed from pandas in a future version. Use pandas.concat instead.\n",
      "  dfScenes = dfScenes.append({'location':strFilePath, 'geometry': box(bounds[0], bounds[1], bounds[2], bounds[3])},ignore_index=True)\n",
      "C:\\Users\\alexsaunders\\AppData\\Local\\Temp\\ipykernel_13448\\724766185.py:13: FutureWarning: The frame.append method is deprecated and will be removed from pandas in a future version. Use pandas.concat instead.\n",
      "  dfScenes = dfScenes.append({'location':strFilePath, 'geometry': box(bounds[0], bounds[1], bounds[2], bounds[3])},ignore_index=True)\n",
      "C:\\Users\\alexsaunders\\AppData\\Local\\Temp\\ipykernel_13448\\724766185.py:13: FutureWarning: The frame.append method is deprecated and will be removed from pandas in a future version. Use pandas.concat instead.\n",
      "  dfScenes = dfScenes.append({'location':strFilePath, 'geometry': box(bounds[0], bounds[1], bounds[2], bounds[3])},ignore_index=True)\n"
     ]
    },
    {
     "name": "stdout",
     "output_type": "stream",
     "text": [
      "processing file 249/933\r"
     ]
    },
    {
     "name": "stderr",
     "output_type": "stream",
     "text": [
      "C:\\Users\\alexsaunders\\AppData\\Local\\Temp\\ipykernel_13448\\724766185.py:13: FutureWarning: The frame.append method is deprecated and will be removed from pandas in a future version. Use pandas.concat instead.\n",
      "  dfScenes = dfScenes.append({'location':strFilePath, 'geometry': box(bounds[0], bounds[1], bounds[2], bounds[3])},ignore_index=True)\n",
      "C:\\Users\\alexsaunders\\AppData\\Local\\Temp\\ipykernel_13448\\724766185.py:13: FutureWarning: The frame.append method is deprecated and will be removed from pandas in a future version. Use pandas.concat instead.\n",
      "  dfScenes = dfScenes.append({'location':strFilePath, 'geometry': box(bounds[0], bounds[1], bounds[2], bounds[3])},ignore_index=True)\n",
      "C:\\Users\\alexsaunders\\AppData\\Local\\Temp\\ipykernel_13448\\724766185.py:13: FutureWarning: The frame.append method is deprecated and will be removed from pandas in a future version. Use pandas.concat instead.\n",
      "  dfScenes = dfScenes.append({'location':strFilePath, 'geometry': box(bounds[0], bounds[1], bounds[2], bounds[3])},ignore_index=True)\n",
      "C:\\Users\\alexsaunders\\AppData\\Local\\Temp\\ipykernel_13448\\724766185.py:13: FutureWarning: The frame.append method is deprecated and will be removed from pandas in a future version. Use pandas.concat instead.\n",
      "  dfScenes = dfScenes.append({'location':strFilePath, 'geometry': box(bounds[0], bounds[1], bounds[2], bounds[3])},ignore_index=True)\n",
      "C:\\Users\\alexsaunders\\AppData\\Local\\Temp\\ipykernel_13448\\724766185.py:13: FutureWarning: The frame.append method is deprecated and will be removed from pandas in a future version. Use pandas.concat instead.\n",
      "  dfScenes = dfScenes.append({'location':strFilePath, 'geometry': box(bounds[0], bounds[1], bounds[2], bounds[3])},ignore_index=True)\n"
     ]
    },
    {
     "name": "stdout",
     "output_type": "stream",
     "text": [
      "processing file 254/933\r"
     ]
    },
    {
     "name": "stderr",
     "output_type": "stream",
     "text": [
      "C:\\Users\\alexsaunders\\AppData\\Local\\Temp\\ipykernel_13448\\724766185.py:13: FutureWarning: The frame.append method is deprecated and will be removed from pandas in a future version. Use pandas.concat instead.\n",
      "  dfScenes = dfScenes.append({'location':strFilePath, 'geometry': box(bounds[0], bounds[1], bounds[2], bounds[3])},ignore_index=True)\n",
      "C:\\Users\\alexsaunders\\AppData\\Local\\Temp\\ipykernel_13448\\724766185.py:13: FutureWarning: The frame.append method is deprecated and will be removed from pandas in a future version. Use pandas.concat instead.\n",
      "  dfScenes = dfScenes.append({'location':strFilePath, 'geometry': box(bounds[0], bounds[1], bounds[2], bounds[3])},ignore_index=True)\n",
      "C:\\Users\\alexsaunders\\AppData\\Local\\Temp\\ipykernel_13448\\724766185.py:13: FutureWarning: The frame.append method is deprecated and will be removed from pandas in a future version. Use pandas.concat instead.\n",
      "  dfScenes = dfScenes.append({'location':strFilePath, 'geometry': box(bounds[0], bounds[1], bounds[2], bounds[3])},ignore_index=True)\n",
      "C:\\Users\\alexsaunders\\AppData\\Local\\Temp\\ipykernel_13448\\724766185.py:13: FutureWarning: The frame.append method is deprecated and will be removed from pandas in a future version. Use pandas.concat instead.\n",
      "  dfScenes = dfScenes.append({'location':strFilePath, 'geometry': box(bounds[0], bounds[1], bounds[2], bounds[3])},ignore_index=True)\n",
      "C:\\Users\\alexsaunders\\AppData\\Local\\Temp\\ipykernel_13448\\724766185.py:13: FutureWarning: The frame.append method is deprecated and will be removed from pandas in a future version. Use pandas.concat instead.\n",
      "  dfScenes = dfScenes.append({'location':strFilePath, 'geometry': box(bounds[0], bounds[1], bounds[2], bounds[3])},ignore_index=True)\n"
     ]
    },
    {
     "name": "stdout",
     "output_type": "stream",
     "text": [
      "processing file 259/933\r"
     ]
    },
    {
     "name": "stderr",
     "output_type": "stream",
     "text": [
      "C:\\Users\\alexsaunders\\AppData\\Local\\Temp\\ipykernel_13448\\724766185.py:13: FutureWarning: The frame.append method is deprecated and will be removed from pandas in a future version. Use pandas.concat instead.\n",
      "  dfScenes = dfScenes.append({'location':strFilePath, 'geometry': box(bounds[0], bounds[1], bounds[2], bounds[3])},ignore_index=True)\n",
      "C:\\Users\\alexsaunders\\AppData\\Local\\Temp\\ipykernel_13448\\724766185.py:13: FutureWarning: The frame.append method is deprecated and will be removed from pandas in a future version. Use pandas.concat instead.\n",
      "  dfScenes = dfScenes.append({'location':strFilePath, 'geometry': box(bounds[0], bounds[1], bounds[2], bounds[3])},ignore_index=True)\n",
      "C:\\Users\\alexsaunders\\AppData\\Local\\Temp\\ipykernel_13448\\724766185.py:13: FutureWarning: The frame.append method is deprecated and will be removed from pandas in a future version. Use pandas.concat instead.\n",
      "  dfScenes = dfScenes.append({'location':strFilePath, 'geometry': box(bounds[0], bounds[1], bounds[2], bounds[3])},ignore_index=True)\n",
      "C:\\Users\\alexsaunders\\AppData\\Local\\Temp\\ipykernel_13448\\724766185.py:13: FutureWarning: The frame.append method is deprecated and will be removed from pandas in a future version. Use pandas.concat instead.\n",
      "  dfScenes = dfScenes.append({'location':strFilePath, 'geometry': box(bounds[0], bounds[1], bounds[2], bounds[3])},ignore_index=True)\n",
      "C:\\Users\\alexsaunders\\AppData\\Local\\Temp\\ipykernel_13448\\724766185.py:13: FutureWarning: The frame.append method is deprecated and will be removed from pandas in a future version. Use pandas.concat instead.\n",
      "  dfScenes = dfScenes.append({'location':strFilePath, 'geometry': box(bounds[0], bounds[1], bounds[2], bounds[3])},ignore_index=True)\n"
     ]
    },
    {
     "name": "stdout",
     "output_type": "stream",
     "text": [
      "processing file 264/933\r"
     ]
    },
    {
     "name": "stderr",
     "output_type": "stream",
     "text": [
      "C:\\Users\\alexsaunders\\AppData\\Local\\Temp\\ipykernel_13448\\724766185.py:13: FutureWarning: The frame.append method is deprecated and will be removed from pandas in a future version. Use pandas.concat instead.\n",
      "  dfScenes = dfScenes.append({'location':strFilePath, 'geometry': box(bounds[0], bounds[1], bounds[2], bounds[3])},ignore_index=True)\n",
      "C:\\Users\\alexsaunders\\AppData\\Local\\Temp\\ipykernel_13448\\724766185.py:13: FutureWarning: The frame.append method is deprecated and will be removed from pandas in a future version. Use pandas.concat instead.\n",
      "  dfScenes = dfScenes.append({'location':strFilePath, 'geometry': box(bounds[0], bounds[1], bounds[2], bounds[3])},ignore_index=True)\n",
      "C:\\Users\\alexsaunders\\AppData\\Local\\Temp\\ipykernel_13448\\724766185.py:13: FutureWarning: The frame.append method is deprecated and will be removed from pandas in a future version. Use pandas.concat instead.\n",
      "  dfScenes = dfScenes.append({'location':strFilePath, 'geometry': box(bounds[0], bounds[1], bounds[2], bounds[3])},ignore_index=True)\n",
      "C:\\Users\\alexsaunders\\AppData\\Local\\Temp\\ipykernel_13448\\724766185.py:13: FutureWarning: The frame.append method is deprecated and will be removed from pandas in a future version. Use pandas.concat instead.\n",
      "  dfScenes = dfScenes.append({'location':strFilePath, 'geometry': box(bounds[0], bounds[1], bounds[2], bounds[3])},ignore_index=True)\n",
      "C:\\Users\\alexsaunders\\AppData\\Local\\Temp\\ipykernel_13448\\724766185.py:13: FutureWarning: The frame.append method is deprecated and will be removed from pandas in a future version. Use pandas.concat instead.\n",
      "  dfScenes = dfScenes.append({'location':strFilePath, 'geometry': box(bounds[0], bounds[1], bounds[2], bounds[3])},ignore_index=True)\n"
     ]
    },
    {
     "name": "stdout",
     "output_type": "stream",
     "text": [
      "processing file 269/933\r"
     ]
    },
    {
     "name": "stderr",
     "output_type": "stream",
     "text": [
      "C:\\Users\\alexsaunders\\AppData\\Local\\Temp\\ipykernel_13448\\724766185.py:13: FutureWarning: The frame.append method is deprecated and will be removed from pandas in a future version. Use pandas.concat instead.\n",
      "  dfScenes = dfScenes.append({'location':strFilePath, 'geometry': box(bounds[0], bounds[1], bounds[2], bounds[3])},ignore_index=True)\n",
      "C:\\Users\\alexsaunders\\AppData\\Local\\Temp\\ipykernel_13448\\724766185.py:13: FutureWarning: The frame.append method is deprecated and will be removed from pandas in a future version. Use pandas.concat instead.\n",
      "  dfScenes = dfScenes.append({'location':strFilePath, 'geometry': box(bounds[0], bounds[1], bounds[2], bounds[3])},ignore_index=True)\n",
      "C:\\Users\\alexsaunders\\AppData\\Local\\Temp\\ipykernel_13448\\724766185.py:13: FutureWarning: The frame.append method is deprecated and will be removed from pandas in a future version. Use pandas.concat instead.\n",
      "  dfScenes = dfScenes.append({'location':strFilePath, 'geometry': box(bounds[0], bounds[1], bounds[2], bounds[3])},ignore_index=True)\n",
      "C:\\Users\\alexsaunders\\AppData\\Local\\Temp\\ipykernel_13448\\724766185.py:13: FutureWarning: The frame.append method is deprecated and will be removed from pandas in a future version. Use pandas.concat instead.\n",
      "  dfScenes = dfScenes.append({'location':strFilePath, 'geometry': box(bounds[0], bounds[1], bounds[2], bounds[3])},ignore_index=True)\n",
      "C:\\Users\\alexsaunders\\AppData\\Local\\Temp\\ipykernel_13448\\724766185.py:13: FutureWarning: The frame.append method is deprecated and will be removed from pandas in a future version. Use pandas.concat instead.\n",
      "  dfScenes = dfScenes.append({'location':strFilePath, 'geometry': box(bounds[0], bounds[1], bounds[2], bounds[3])},ignore_index=True)\n"
     ]
    },
    {
     "name": "stdout",
     "output_type": "stream",
     "text": [
      "processing file 274/933\r"
     ]
    },
    {
     "name": "stderr",
     "output_type": "stream",
     "text": [
      "C:\\Users\\alexsaunders\\AppData\\Local\\Temp\\ipykernel_13448\\724766185.py:13: FutureWarning: The frame.append method is deprecated and will be removed from pandas in a future version. Use pandas.concat instead.\n",
      "  dfScenes = dfScenes.append({'location':strFilePath, 'geometry': box(bounds[0], bounds[1], bounds[2], bounds[3])},ignore_index=True)\n",
      "C:\\Users\\alexsaunders\\AppData\\Local\\Temp\\ipykernel_13448\\724766185.py:13: FutureWarning: The frame.append method is deprecated and will be removed from pandas in a future version. Use pandas.concat instead.\n",
      "  dfScenes = dfScenes.append({'location':strFilePath, 'geometry': box(bounds[0], bounds[1], bounds[2], bounds[3])},ignore_index=True)\n",
      "C:\\Users\\alexsaunders\\AppData\\Local\\Temp\\ipykernel_13448\\724766185.py:13: FutureWarning: The frame.append method is deprecated and will be removed from pandas in a future version. Use pandas.concat instead.\n",
      "  dfScenes = dfScenes.append({'location':strFilePath, 'geometry': box(bounds[0], bounds[1], bounds[2], bounds[3])},ignore_index=True)\n",
      "C:\\Users\\alexsaunders\\AppData\\Local\\Temp\\ipykernel_13448\\724766185.py:13: FutureWarning: The frame.append method is deprecated and will be removed from pandas in a future version. Use pandas.concat instead.\n",
      "  dfScenes = dfScenes.append({'location':strFilePath, 'geometry': box(bounds[0], bounds[1], bounds[2], bounds[3])},ignore_index=True)\n",
      "C:\\Users\\alexsaunders\\AppData\\Local\\Temp\\ipykernel_13448\\724766185.py:13: FutureWarning: The frame.append method is deprecated and will be removed from pandas in a future version. Use pandas.concat instead.\n",
      "  dfScenes = dfScenes.append({'location':strFilePath, 'geometry': box(bounds[0], bounds[1], bounds[2], bounds[3])},ignore_index=True)\n"
     ]
    },
    {
     "name": "stdout",
     "output_type": "stream",
     "text": [
      "processing file 279/933\r"
     ]
    },
    {
     "name": "stderr",
     "output_type": "stream",
     "text": [
      "C:\\Users\\alexsaunders\\AppData\\Local\\Temp\\ipykernel_13448\\724766185.py:13: FutureWarning: The frame.append method is deprecated and will be removed from pandas in a future version. Use pandas.concat instead.\n",
      "  dfScenes = dfScenes.append({'location':strFilePath, 'geometry': box(bounds[0], bounds[1], bounds[2], bounds[3])},ignore_index=True)\n",
      "C:\\Users\\alexsaunders\\AppData\\Local\\Temp\\ipykernel_13448\\724766185.py:13: FutureWarning: The frame.append method is deprecated and will be removed from pandas in a future version. Use pandas.concat instead.\n",
      "  dfScenes = dfScenes.append({'location':strFilePath, 'geometry': box(bounds[0], bounds[1], bounds[2], bounds[3])},ignore_index=True)\n",
      "C:\\Users\\alexsaunders\\AppData\\Local\\Temp\\ipykernel_13448\\724766185.py:13: FutureWarning: The frame.append method is deprecated and will be removed from pandas in a future version. Use pandas.concat instead.\n",
      "  dfScenes = dfScenes.append({'location':strFilePath, 'geometry': box(bounds[0], bounds[1], bounds[2], bounds[3])},ignore_index=True)\n",
      "C:\\Users\\alexsaunders\\AppData\\Local\\Temp\\ipykernel_13448\\724766185.py:13: FutureWarning: The frame.append method is deprecated and will be removed from pandas in a future version. Use pandas.concat instead.\n",
      "  dfScenes = dfScenes.append({'location':strFilePath, 'geometry': box(bounds[0], bounds[1], bounds[2], bounds[3])},ignore_index=True)\n",
      "C:\\Users\\alexsaunders\\AppData\\Local\\Temp\\ipykernel_13448\\724766185.py:13: FutureWarning: The frame.append method is deprecated and will be removed from pandas in a future version. Use pandas.concat instead.\n",
      "  dfScenes = dfScenes.append({'location':strFilePath, 'geometry': box(bounds[0], bounds[1], bounds[2], bounds[3])},ignore_index=True)\n"
     ]
    },
    {
     "name": "stdout",
     "output_type": "stream",
     "text": [
      "processing file 284/933\r"
     ]
    },
    {
     "name": "stderr",
     "output_type": "stream",
     "text": [
      "C:\\Users\\alexsaunders\\AppData\\Local\\Temp\\ipykernel_13448\\724766185.py:13: FutureWarning: The frame.append method is deprecated and will be removed from pandas in a future version. Use pandas.concat instead.\n",
      "  dfScenes = dfScenes.append({'location':strFilePath, 'geometry': box(bounds[0], bounds[1], bounds[2], bounds[3])},ignore_index=True)\n",
      "C:\\Users\\alexsaunders\\AppData\\Local\\Temp\\ipykernel_13448\\724766185.py:13: FutureWarning: The frame.append method is deprecated and will be removed from pandas in a future version. Use pandas.concat instead.\n",
      "  dfScenes = dfScenes.append({'location':strFilePath, 'geometry': box(bounds[0], bounds[1], bounds[2], bounds[3])},ignore_index=True)\n",
      "C:\\Users\\alexsaunders\\AppData\\Local\\Temp\\ipykernel_13448\\724766185.py:13: FutureWarning: The frame.append method is deprecated and will be removed from pandas in a future version. Use pandas.concat instead.\n",
      "  dfScenes = dfScenes.append({'location':strFilePath, 'geometry': box(bounds[0], bounds[1], bounds[2], bounds[3])},ignore_index=True)\n",
      "C:\\Users\\alexsaunders\\AppData\\Local\\Temp\\ipykernel_13448\\724766185.py:13: FutureWarning: The frame.append method is deprecated and will be removed from pandas in a future version. Use pandas.concat instead.\n",
      "  dfScenes = dfScenes.append({'location':strFilePath, 'geometry': box(bounds[0], bounds[1], bounds[2], bounds[3])},ignore_index=True)\n",
      "C:\\Users\\alexsaunders\\AppData\\Local\\Temp\\ipykernel_13448\\724766185.py:13: FutureWarning: The frame.append method is deprecated and will be removed from pandas in a future version. Use pandas.concat instead.\n",
      "  dfScenes = dfScenes.append({'location':strFilePath, 'geometry': box(bounds[0], bounds[1], bounds[2], bounds[3])},ignore_index=True)\n",
      "C:\\Users\\alexsaunders\\AppData\\Local\\Temp\\ipykernel_13448\\724766185.py:13: FutureWarning: The frame.append method is deprecated and will be removed from pandas in a future version. Use pandas.concat instead.\n",
      "  dfScenes = dfScenes.append({'location':strFilePath, 'geometry': box(bounds[0], bounds[1], bounds[2], bounds[3])},ignore_index=True)\n"
     ]
    },
    {
     "name": "stdout",
     "output_type": "stream",
     "text": [
      "processing file 290/933\r"
     ]
    },
    {
     "name": "stderr",
     "output_type": "stream",
     "text": [
      "C:\\Users\\alexsaunders\\AppData\\Local\\Temp\\ipykernel_13448\\724766185.py:13: FutureWarning: The frame.append method is deprecated and will be removed from pandas in a future version. Use pandas.concat instead.\n",
      "  dfScenes = dfScenes.append({'location':strFilePath, 'geometry': box(bounds[0], bounds[1], bounds[2], bounds[3])},ignore_index=True)\n",
      "C:\\Users\\alexsaunders\\AppData\\Local\\Temp\\ipykernel_13448\\724766185.py:13: FutureWarning: The frame.append method is deprecated and will be removed from pandas in a future version. Use pandas.concat instead.\n",
      "  dfScenes = dfScenes.append({'location':strFilePath, 'geometry': box(bounds[0], bounds[1], bounds[2], bounds[3])},ignore_index=True)\n",
      "C:\\Users\\alexsaunders\\AppData\\Local\\Temp\\ipykernel_13448\\724766185.py:13: FutureWarning: The frame.append method is deprecated and will be removed from pandas in a future version. Use pandas.concat instead.\n",
      "  dfScenes = dfScenes.append({'location':strFilePath, 'geometry': box(bounds[0], bounds[1], bounds[2], bounds[3])},ignore_index=True)\n",
      "C:\\Users\\alexsaunders\\AppData\\Local\\Temp\\ipykernel_13448\\724766185.py:13: FutureWarning: The frame.append method is deprecated and will be removed from pandas in a future version. Use pandas.concat instead.\n",
      "  dfScenes = dfScenes.append({'location':strFilePath, 'geometry': box(bounds[0], bounds[1], bounds[2], bounds[3])},ignore_index=True)\n",
      "C:\\Users\\alexsaunders\\AppData\\Local\\Temp\\ipykernel_13448\\724766185.py:13: FutureWarning: The frame.append method is deprecated and will be removed from pandas in a future version. Use pandas.concat instead.\n",
      "  dfScenes = dfScenes.append({'location':strFilePath, 'geometry': box(bounds[0], bounds[1], bounds[2], bounds[3])},ignore_index=True)\n"
     ]
    },
    {
     "name": "stdout",
     "output_type": "stream",
     "text": [
      "processing file 295/933\r"
     ]
    },
    {
     "name": "stderr",
     "output_type": "stream",
     "text": [
      "C:\\Users\\alexsaunders\\AppData\\Local\\Temp\\ipykernel_13448\\724766185.py:13: FutureWarning: The frame.append method is deprecated and will be removed from pandas in a future version. Use pandas.concat instead.\n",
      "  dfScenes = dfScenes.append({'location':strFilePath, 'geometry': box(bounds[0], bounds[1], bounds[2], bounds[3])},ignore_index=True)\n",
      "C:\\Users\\alexsaunders\\AppData\\Local\\Temp\\ipykernel_13448\\724766185.py:13: FutureWarning: The frame.append method is deprecated and will be removed from pandas in a future version. Use pandas.concat instead.\n",
      "  dfScenes = dfScenes.append({'location':strFilePath, 'geometry': box(bounds[0], bounds[1], bounds[2], bounds[3])},ignore_index=True)\n",
      "C:\\Users\\alexsaunders\\AppData\\Local\\Temp\\ipykernel_13448\\724766185.py:13: FutureWarning: The frame.append method is deprecated and will be removed from pandas in a future version. Use pandas.concat instead.\n",
      "  dfScenes = dfScenes.append({'location':strFilePath, 'geometry': box(bounds[0], bounds[1], bounds[2], bounds[3])},ignore_index=True)\n",
      "C:\\Users\\alexsaunders\\AppData\\Local\\Temp\\ipykernel_13448\\724766185.py:13: FutureWarning: The frame.append method is deprecated and will be removed from pandas in a future version. Use pandas.concat instead.\n",
      "  dfScenes = dfScenes.append({'location':strFilePath, 'geometry': box(bounds[0], bounds[1], bounds[2], bounds[3])},ignore_index=True)\n",
      "C:\\Users\\alexsaunders\\AppData\\Local\\Temp\\ipykernel_13448\\724766185.py:13: FutureWarning: The frame.append method is deprecated and will be removed from pandas in a future version. Use pandas.concat instead.\n",
      "  dfScenes = dfScenes.append({'location':strFilePath, 'geometry': box(bounds[0], bounds[1], bounds[2], bounds[3])},ignore_index=True)\n",
      "C:\\Users\\alexsaunders\\AppData\\Local\\Temp\\ipykernel_13448\\724766185.py:13: FutureWarning: The frame.append method is deprecated and will be removed from pandas in a future version. Use pandas.concat instead.\n",
      "  dfScenes = dfScenes.append({'location':strFilePath, 'geometry': box(bounds[0], bounds[1], bounds[2], bounds[3])},ignore_index=True)\n"
     ]
    },
    {
     "name": "stdout",
     "output_type": "stream",
     "text": [
      "processing file 301/933\r"
     ]
    },
    {
     "name": "stderr",
     "output_type": "stream",
     "text": [
      "C:\\Users\\alexsaunders\\AppData\\Local\\Temp\\ipykernel_13448\\724766185.py:13: FutureWarning: The frame.append method is deprecated and will be removed from pandas in a future version. Use pandas.concat instead.\n",
      "  dfScenes = dfScenes.append({'location':strFilePath, 'geometry': box(bounds[0], bounds[1], bounds[2], bounds[3])},ignore_index=True)\n",
      "C:\\Users\\alexsaunders\\AppData\\Local\\Temp\\ipykernel_13448\\724766185.py:13: FutureWarning: The frame.append method is deprecated and will be removed from pandas in a future version. Use pandas.concat instead.\n",
      "  dfScenes = dfScenes.append({'location':strFilePath, 'geometry': box(bounds[0], bounds[1], bounds[2], bounds[3])},ignore_index=True)\n",
      "C:\\Users\\alexsaunders\\AppData\\Local\\Temp\\ipykernel_13448\\724766185.py:13: FutureWarning: The frame.append method is deprecated and will be removed from pandas in a future version. Use pandas.concat instead.\n",
      "  dfScenes = dfScenes.append({'location':strFilePath, 'geometry': box(bounds[0], bounds[1], bounds[2], bounds[3])},ignore_index=True)\n",
      "C:\\Users\\alexsaunders\\AppData\\Local\\Temp\\ipykernel_13448\\724766185.py:13: FutureWarning: The frame.append method is deprecated and will be removed from pandas in a future version. Use pandas.concat instead.\n",
      "  dfScenes = dfScenes.append({'location':strFilePath, 'geometry': box(bounds[0], bounds[1], bounds[2], bounds[3])},ignore_index=True)\n",
      "C:\\Users\\alexsaunders\\AppData\\Local\\Temp\\ipykernel_13448\\724766185.py:13: FutureWarning: The frame.append method is deprecated and will be removed from pandas in a future version. Use pandas.concat instead.\n",
      "  dfScenes = dfScenes.append({'location':strFilePath, 'geometry': box(bounds[0], bounds[1], bounds[2], bounds[3])},ignore_index=True)\n"
     ]
    },
    {
     "name": "stdout",
     "output_type": "stream",
     "text": [
      "processing file 306/933\r"
     ]
    },
    {
     "name": "stderr",
     "output_type": "stream",
     "text": [
      "C:\\Users\\alexsaunders\\AppData\\Local\\Temp\\ipykernel_13448\\724766185.py:13: FutureWarning: The frame.append method is deprecated and will be removed from pandas in a future version. Use pandas.concat instead.\n",
      "  dfScenes = dfScenes.append({'location':strFilePath, 'geometry': box(bounds[0], bounds[1], bounds[2], bounds[3])},ignore_index=True)\n",
      "C:\\Users\\alexsaunders\\AppData\\Local\\Temp\\ipykernel_13448\\724766185.py:13: FutureWarning: The frame.append method is deprecated and will be removed from pandas in a future version. Use pandas.concat instead.\n",
      "  dfScenes = dfScenes.append({'location':strFilePath, 'geometry': box(bounds[0], bounds[1], bounds[2], bounds[3])},ignore_index=True)\n",
      "C:\\Users\\alexsaunders\\AppData\\Local\\Temp\\ipykernel_13448\\724766185.py:13: FutureWarning: The frame.append method is deprecated and will be removed from pandas in a future version. Use pandas.concat instead.\n",
      "  dfScenes = dfScenes.append({'location':strFilePath, 'geometry': box(bounds[0], bounds[1], bounds[2], bounds[3])},ignore_index=True)\n",
      "C:\\Users\\alexsaunders\\AppData\\Local\\Temp\\ipykernel_13448\\724766185.py:13: FutureWarning: The frame.append method is deprecated and will be removed from pandas in a future version. Use pandas.concat instead.\n",
      "  dfScenes = dfScenes.append({'location':strFilePath, 'geometry': box(bounds[0], bounds[1], bounds[2], bounds[3])},ignore_index=True)\n",
      "C:\\Users\\alexsaunders\\AppData\\Local\\Temp\\ipykernel_13448\\724766185.py:13: FutureWarning: The frame.append method is deprecated and will be removed from pandas in a future version. Use pandas.concat instead.\n",
      "  dfScenes = dfScenes.append({'location':strFilePath, 'geometry': box(bounds[0], bounds[1], bounds[2], bounds[3])},ignore_index=True)\n"
     ]
    },
    {
     "name": "stdout",
     "output_type": "stream",
     "text": [
      "processing file 311/933\r"
     ]
    },
    {
     "name": "stderr",
     "output_type": "stream",
     "text": [
      "C:\\Users\\alexsaunders\\AppData\\Local\\Temp\\ipykernel_13448\\724766185.py:13: FutureWarning: The frame.append method is deprecated and will be removed from pandas in a future version. Use pandas.concat instead.\n",
      "  dfScenes = dfScenes.append({'location':strFilePath, 'geometry': box(bounds[0], bounds[1], bounds[2], bounds[3])},ignore_index=True)\n",
      "C:\\Users\\alexsaunders\\AppData\\Local\\Temp\\ipykernel_13448\\724766185.py:13: FutureWarning: The frame.append method is deprecated and will be removed from pandas in a future version. Use pandas.concat instead.\n",
      "  dfScenes = dfScenes.append({'location':strFilePath, 'geometry': box(bounds[0], bounds[1], bounds[2], bounds[3])},ignore_index=True)\n",
      "C:\\Users\\alexsaunders\\AppData\\Local\\Temp\\ipykernel_13448\\724766185.py:13: FutureWarning: The frame.append method is deprecated and will be removed from pandas in a future version. Use pandas.concat instead.\n",
      "  dfScenes = dfScenes.append({'location':strFilePath, 'geometry': box(bounds[0], bounds[1], bounds[2], bounds[3])},ignore_index=True)\n",
      "C:\\Users\\alexsaunders\\AppData\\Local\\Temp\\ipykernel_13448\\724766185.py:13: FutureWarning: The frame.append method is deprecated and will be removed from pandas in a future version. Use pandas.concat instead.\n",
      "  dfScenes = dfScenes.append({'location':strFilePath, 'geometry': box(bounds[0], bounds[1], bounds[2], bounds[3])},ignore_index=True)\n",
      "C:\\Users\\alexsaunders\\AppData\\Local\\Temp\\ipykernel_13448\\724766185.py:13: FutureWarning: The frame.append method is deprecated and will be removed from pandas in a future version. Use pandas.concat instead.\n",
      "  dfScenes = dfScenes.append({'location':strFilePath, 'geometry': box(bounds[0], bounds[1], bounds[2], bounds[3])},ignore_index=True)\n"
     ]
    },
    {
     "name": "stdout",
     "output_type": "stream",
     "text": [
      "processing file 316/933\r"
     ]
    },
    {
     "name": "stderr",
     "output_type": "stream",
     "text": [
      "C:\\Users\\alexsaunders\\AppData\\Local\\Temp\\ipykernel_13448\\724766185.py:13: FutureWarning: The frame.append method is deprecated and will be removed from pandas in a future version. Use pandas.concat instead.\n",
      "  dfScenes = dfScenes.append({'location':strFilePath, 'geometry': box(bounds[0], bounds[1], bounds[2], bounds[3])},ignore_index=True)\n",
      "C:\\Users\\alexsaunders\\AppData\\Local\\Temp\\ipykernel_13448\\724766185.py:13: FutureWarning: The frame.append method is deprecated and will be removed from pandas in a future version. Use pandas.concat instead.\n",
      "  dfScenes = dfScenes.append({'location':strFilePath, 'geometry': box(bounds[0], bounds[1], bounds[2], bounds[3])},ignore_index=True)\n",
      "C:\\Users\\alexsaunders\\AppData\\Local\\Temp\\ipykernel_13448\\724766185.py:13: FutureWarning: The frame.append method is deprecated and will be removed from pandas in a future version. Use pandas.concat instead.\n",
      "  dfScenes = dfScenes.append({'location':strFilePath, 'geometry': box(bounds[0], bounds[1], bounds[2], bounds[3])},ignore_index=True)\n",
      "C:\\Users\\alexsaunders\\AppData\\Local\\Temp\\ipykernel_13448\\724766185.py:13: FutureWarning: The frame.append method is deprecated and will be removed from pandas in a future version. Use pandas.concat instead.\n",
      "  dfScenes = dfScenes.append({'location':strFilePath, 'geometry': box(bounds[0], bounds[1], bounds[2], bounds[3])},ignore_index=True)\n",
      "C:\\Users\\alexsaunders\\AppData\\Local\\Temp\\ipykernel_13448\\724766185.py:13: FutureWarning: The frame.append method is deprecated and will be removed from pandas in a future version. Use pandas.concat instead.\n",
      "  dfScenes = dfScenes.append({'location':strFilePath, 'geometry': box(bounds[0], bounds[1], bounds[2], bounds[3])},ignore_index=True)\n"
     ]
    },
    {
     "name": "stdout",
     "output_type": "stream",
     "text": [
      "processing file 321/933\r"
     ]
    },
    {
     "name": "stderr",
     "output_type": "stream",
     "text": [
      "C:\\Users\\alexsaunders\\AppData\\Local\\Temp\\ipykernel_13448\\724766185.py:13: FutureWarning: The frame.append method is deprecated and will be removed from pandas in a future version. Use pandas.concat instead.\n",
      "  dfScenes = dfScenes.append({'location':strFilePath, 'geometry': box(bounds[0], bounds[1], bounds[2], bounds[3])},ignore_index=True)\n",
      "C:\\Users\\alexsaunders\\AppData\\Local\\Temp\\ipykernel_13448\\724766185.py:13: FutureWarning: The frame.append method is deprecated and will be removed from pandas in a future version. Use pandas.concat instead.\n",
      "  dfScenes = dfScenes.append({'location':strFilePath, 'geometry': box(bounds[0], bounds[1], bounds[2], bounds[3])},ignore_index=True)\n",
      "C:\\Users\\alexsaunders\\AppData\\Local\\Temp\\ipykernel_13448\\724766185.py:13: FutureWarning: The frame.append method is deprecated and will be removed from pandas in a future version. Use pandas.concat instead.\n",
      "  dfScenes = dfScenes.append({'location':strFilePath, 'geometry': box(bounds[0], bounds[1], bounds[2], bounds[3])},ignore_index=True)\n",
      "C:\\Users\\alexsaunders\\AppData\\Local\\Temp\\ipykernel_13448\\724766185.py:13: FutureWarning: The frame.append method is deprecated and will be removed from pandas in a future version. Use pandas.concat instead.\n",
      "  dfScenes = dfScenes.append({'location':strFilePath, 'geometry': box(bounds[0], bounds[1], bounds[2], bounds[3])},ignore_index=True)\n",
      "C:\\Users\\alexsaunders\\AppData\\Local\\Temp\\ipykernel_13448\\724766185.py:13: FutureWarning: The frame.append method is deprecated and will be removed from pandas in a future version. Use pandas.concat instead.\n",
      "  dfScenes = dfScenes.append({'location':strFilePath, 'geometry': box(bounds[0], bounds[1], bounds[2], bounds[3])},ignore_index=True)\n"
     ]
    },
    {
     "name": "stdout",
     "output_type": "stream",
     "text": [
      "processing file 326/933\r"
     ]
    },
    {
     "name": "stderr",
     "output_type": "stream",
     "text": [
      "C:\\Users\\alexsaunders\\AppData\\Local\\Temp\\ipykernel_13448\\724766185.py:13: FutureWarning: The frame.append method is deprecated and will be removed from pandas in a future version. Use pandas.concat instead.\n",
      "  dfScenes = dfScenes.append({'location':strFilePath, 'geometry': box(bounds[0], bounds[1], bounds[2], bounds[3])},ignore_index=True)\n",
      "C:\\Users\\alexsaunders\\AppData\\Local\\Temp\\ipykernel_13448\\724766185.py:13: FutureWarning: The frame.append method is deprecated and will be removed from pandas in a future version. Use pandas.concat instead.\n",
      "  dfScenes = dfScenes.append({'location':strFilePath, 'geometry': box(bounds[0], bounds[1], bounds[2], bounds[3])},ignore_index=True)\n",
      "C:\\Users\\alexsaunders\\AppData\\Local\\Temp\\ipykernel_13448\\724766185.py:13: FutureWarning: The frame.append method is deprecated and will be removed from pandas in a future version. Use pandas.concat instead.\n",
      "  dfScenes = dfScenes.append({'location':strFilePath, 'geometry': box(bounds[0], bounds[1], bounds[2], bounds[3])},ignore_index=True)\n",
      "C:\\Users\\alexsaunders\\AppData\\Local\\Temp\\ipykernel_13448\\724766185.py:13: FutureWarning: The frame.append method is deprecated and will be removed from pandas in a future version. Use pandas.concat instead.\n",
      "  dfScenes = dfScenes.append({'location':strFilePath, 'geometry': box(bounds[0], bounds[1], bounds[2], bounds[3])},ignore_index=True)\n",
      "C:\\Users\\alexsaunders\\AppData\\Local\\Temp\\ipykernel_13448\\724766185.py:13: FutureWarning: The frame.append method is deprecated and will be removed from pandas in a future version. Use pandas.concat instead.\n",
      "  dfScenes = dfScenes.append({'location':strFilePath, 'geometry': box(bounds[0], bounds[1], bounds[2], bounds[3])},ignore_index=True)\n"
     ]
    },
    {
     "name": "stdout",
     "output_type": "stream",
     "text": [
      "processing file 331/933\r"
     ]
    },
    {
     "name": "stderr",
     "output_type": "stream",
     "text": [
      "C:\\Users\\alexsaunders\\AppData\\Local\\Temp\\ipykernel_13448\\724766185.py:13: FutureWarning: The frame.append method is deprecated and will be removed from pandas in a future version. Use pandas.concat instead.\n",
      "  dfScenes = dfScenes.append({'location':strFilePath, 'geometry': box(bounds[0], bounds[1], bounds[2], bounds[3])},ignore_index=True)\n",
      "C:\\Users\\alexsaunders\\AppData\\Local\\Temp\\ipykernel_13448\\724766185.py:13: FutureWarning: The frame.append method is deprecated and will be removed from pandas in a future version. Use pandas.concat instead.\n",
      "  dfScenes = dfScenes.append({'location':strFilePath, 'geometry': box(bounds[0], bounds[1], bounds[2], bounds[3])},ignore_index=True)\n",
      "C:\\Users\\alexsaunders\\AppData\\Local\\Temp\\ipykernel_13448\\724766185.py:13: FutureWarning: The frame.append method is deprecated and will be removed from pandas in a future version. Use pandas.concat instead.\n",
      "  dfScenes = dfScenes.append({'location':strFilePath, 'geometry': box(bounds[0], bounds[1], bounds[2], bounds[3])},ignore_index=True)\n",
      "C:\\Users\\alexsaunders\\AppData\\Local\\Temp\\ipykernel_13448\\724766185.py:13: FutureWarning: The frame.append method is deprecated and will be removed from pandas in a future version. Use pandas.concat instead.\n",
      "  dfScenes = dfScenes.append({'location':strFilePath, 'geometry': box(bounds[0], bounds[1], bounds[2], bounds[3])},ignore_index=True)\n",
      "C:\\Users\\alexsaunders\\AppData\\Local\\Temp\\ipykernel_13448\\724766185.py:13: FutureWarning: The frame.append method is deprecated and will be removed from pandas in a future version. Use pandas.concat instead.\n",
      "  dfScenes = dfScenes.append({'location':strFilePath, 'geometry': box(bounds[0], bounds[1], bounds[2], bounds[3])},ignore_index=True)\n",
      "C:\\Users\\alexsaunders\\AppData\\Local\\Temp\\ipykernel_13448\\724766185.py:13: FutureWarning: The frame.append method is deprecated and will be removed from pandas in a future version. Use pandas.concat instead.\n",
      "  dfScenes = dfScenes.append({'location':strFilePath, 'geometry': box(bounds[0], bounds[1], bounds[2], bounds[3])},ignore_index=True)\n"
     ]
    },
    {
     "name": "stdout",
     "output_type": "stream",
     "text": [
      "processing file 337/933\r"
     ]
    },
    {
     "name": "stderr",
     "output_type": "stream",
     "text": [
      "C:\\Users\\alexsaunders\\AppData\\Local\\Temp\\ipykernel_13448\\724766185.py:13: FutureWarning: The frame.append method is deprecated and will be removed from pandas in a future version. Use pandas.concat instead.\n",
      "  dfScenes = dfScenes.append({'location':strFilePath, 'geometry': box(bounds[0], bounds[1], bounds[2], bounds[3])},ignore_index=True)\n",
      "C:\\Users\\alexsaunders\\AppData\\Local\\Temp\\ipykernel_13448\\724766185.py:13: FutureWarning: The frame.append method is deprecated and will be removed from pandas in a future version. Use pandas.concat instead.\n",
      "  dfScenes = dfScenes.append({'location':strFilePath, 'geometry': box(bounds[0], bounds[1], bounds[2], bounds[3])},ignore_index=True)\n",
      "C:\\Users\\alexsaunders\\AppData\\Local\\Temp\\ipykernel_13448\\724766185.py:13: FutureWarning: The frame.append method is deprecated and will be removed from pandas in a future version. Use pandas.concat instead.\n",
      "  dfScenes = dfScenes.append({'location':strFilePath, 'geometry': box(bounds[0], bounds[1], bounds[2], bounds[3])},ignore_index=True)\n",
      "C:\\Users\\alexsaunders\\AppData\\Local\\Temp\\ipykernel_13448\\724766185.py:13: FutureWarning: The frame.append method is deprecated and will be removed from pandas in a future version. Use pandas.concat instead.\n",
      "  dfScenes = dfScenes.append({'location':strFilePath, 'geometry': box(bounds[0], bounds[1], bounds[2], bounds[3])},ignore_index=True)\n",
      "C:\\Users\\alexsaunders\\AppData\\Local\\Temp\\ipykernel_13448\\724766185.py:13: FutureWarning: The frame.append method is deprecated and will be removed from pandas in a future version. Use pandas.concat instead.\n",
      "  dfScenes = dfScenes.append({'location':strFilePath, 'geometry': box(bounds[0], bounds[1], bounds[2], bounds[3])},ignore_index=True)\n",
      "C:\\Users\\alexsaunders\\AppData\\Local\\Temp\\ipykernel_13448\\724766185.py:13: FutureWarning: The frame.append method is deprecated and will be removed from pandas in a future version. Use pandas.concat instead.\n",
      "  dfScenes = dfScenes.append({'location':strFilePath, 'geometry': box(bounds[0], bounds[1], bounds[2], bounds[3])},ignore_index=True)\n"
     ]
    },
    {
     "name": "stdout",
     "output_type": "stream",
     "text": [
      "processing file 343/933\r"
     ]
    },
    {
     "name": "stderr",
     "output_type": "stream",
     "text": [
      "C:\\Users\\alexsaunders\\AppData\\Local\\Temp\\ipykernel_13448\\724766185.py:13: FutureWarning: The frame.append method is deprecated and will be removed from pandas in a future version. Use pandas.concat instead.\n",
      "  dfScenes = dfScenes.append({'location':strFilePath, 'geometry': box(bounds[0], bounds[1], bounds[2], bounds[3])},ignore_index=True)\n",
      "C:\\Users\\alexsaunders\\AppData\\Local\\Temp\\ipykernel_13448\\724766185.py:13: FutureWarning: The frame.append method is deprecated and will be removed from pandas in a future version. Use pandas.concat instead.\n",
      "  dfScenes = dfScenes.append({'location':strFilePath, 'geometry': box(bounds[0], bounds[1], bounds[2], bounds[3])},ignore_index=True)\n",
      "C:\\Users\\alexsaunders\\AppData\\Local\\Temp\\ipykernel_13448\\724766185.py:13: FutureWarning: The frame.append method is deprecated and will be removed from pandas in a future version. Use pandas.concat instead.\n",
      "  dfScenes = dfScenes.append({'location':strFilePath, 'geometry': box(bounds[0], bounds[1], bounds[2], bounds[3])},ignore_index=True)\n",
      "C:\\Users\\alexsaunders\\AppData\\Local\\Temp\\ipykernel_13448\\724766185.py:13: FutureWarning: The frame.append method is deprecated and will be removed from pandas in a future version. Use pandas.concat instead.\n",
      "  dfScenes = dfScenes.append({'location':strFilePath, 'geometry': box(bounds[0], bounds[1], bounds[2], bounds[3])},ignore_index=True)\n",
      "C:\\Users\\alexsaunders\\AppData\\Local\\Temp\\ipykernel_13448\\724766185.py:13: FutureWarning: The frame.append method is deprecated and will be removed from pandas in a future version. Use pandas.concat instead.\n",
      "  dfScenes = dfScenes.append({'location':strFilePath, 'geometry': box(bounds[0], bounds[1], bounds[2], bounds[3])},ignore_index=True)\n",
      "C:\\Users\\alexsaunders\\AppData\\Local\\Temp\\ipykernel_13448\\724766185.py:13: FutureWarning: The frame.append method is deprecated and will be removed from pandas in a future version. Use pandas.concat instead.\n",
      "  dfScenes = dfScenes.append({'location':strFilePath, 'geometry': box(bounds[0], bounds[1], bounds[2], bounds[3])},ignore_index=True)\n"
     ]
    },
    {
     "name": "stdout",
     "output_type": "stream",
     "text": [
      "processing file 349/933\r"
     ]
    },
    {
     "name": "stderr",
     "output_type": "stream",
     "text": [
      "C:\\Users\\alexsaunders\\AppData\\Local\\Temp\\ipykernel_13448\\724766185.py:13: FutureWarning: The frame.append method is deprecated and will be removed from pandas in a future version. Use pandas.concat instead.\n",
      "  dfScenes = dfScenes.append({'location':strFilePath, 'geometry': box(bounds[0], bounds[1], bounds[2], bounds[3])},ignore_index=True)\n",
      "C:\\Users\\alexsaunders\\AppData\\Local\\Temp\\ipykernel_13448\\724766185.py:13: FutureWarning: The frame.append method is deprecated and will be removed from pandas in a future version. Use pandas.concat instead.\n",
      "  dfScenes = dfScenes.append({'location':strFilePath, 'geometry': box(bounds[0], bounds[1], bounds[2], bounds[3])},ignore_index=True)\n",
      "C:\\Users\\alexsaunders\\AppData\\Local\\Temp\\ipykernel_13448\\724766185.py:13: FutureWarning: The frame.append method is deprecated and will be removed from pandas in a future version. Use pandas.concat instead.\n",
      "  dfScenes = dfScenes.append({'location':strFilePath, 'geometry': box(bounds[0], bounds[1], bounds[2], bounds[3])},ignore_index=True)\n",
      "C:\\Users\\alexsaunders\\AppData\\Local\\Temp\\ipykernel_13448\\724766185.py:13: FutureWarning: The frame.append method is deprecated and will be removed from pandas in a future version. Use pandas.concat instead.\n",
      "  dfScenes = dfScenes.append({'location':strFilePath, 'geometry': box(bounds[0], bounds[1], bounds[2], bounds[3])},ignore_index=True)\n",
      "C:\\Users\\alexsaunders\\AppData\\Local\\Temp\\ipykernel_13448\\724766185.py:13: FutureWarning: The frame.append method is deprecated and will be removed from pandas in a future version. Use pandas.concat instead.\n",
      "  dfScenes = dfScenes.append({'location':strFilePath, 'geometry': box(bounds[0], bounds[1], bounds[2], bounds[3])},ignore_index=True)\n"
     ]
    },
    {
     "name": "stdout",
     "output_type": "stream",
     "text": [
      "processing file 354/933\r"
     ]
    },
    {
     "name": "stderr",
     "output_type": "stream",
     "text": [
      "C:\\Users\\alexsaunders\\AppData\\Local\\Temp\\ipykernel_13448\\724766185.py:13: FutureWarning: The frame.append method is deprecated and will be removed from pandas in a future version. Use pandas.concat instead.\n",
      "  dfScenes = dfScenes.append({'location':strFilePath, 'geometry': box(bounds[0], bounds[1], bounds[2], bounds[3])},ignore_index=True)\n",
      "C:\\Users\\alexsaunders\\AppData\\Local\\Temp\\ipykernel_13448\\724766185.py:13: FutureWarning: The frame.append method is deprecated and will be removed from pandas in a future version. Use pandas.concat instead.\n",
      "  dfScenes = dfScenes.append({'location':strFilePath, 'geometry': box(bounds[0], bounds[1], bounds[2], bounds[3])},ignore_index=True)\n",
      "C:\\Users\\alexsaunders\\AppData\\Local\\Temp\\ipykernel_13448\\724766185.py:13: FutureWarning: The frame.append method is deprecated and will be removed from pandas in a future version. Use pandas.concat instead.\n",
      "  dfScenes = dfScenes.append({'location':strFilePath, 'geometry': box(bounds[0], bounds[1], bounds[2], bounds[3])},ignore_index=True)\n",
      "C:\\Users\\alexsaunders\\AppData\\Local\\Temp\\ipykernel_13448\\724766185.py:13: FutureWarning: The frame.append method is deprecated and will be removed from pandas in a future version. Use pandas.concat instead.\n",
      "  dfScenes = dfScenes.append({'location':strFilePath, 'geometry': box(bounds[0], bounds[1], bounds[2], bounds[3])},ignore_index=True)\n",
      "C:\\Users\\alexsaunders\\AppData\\Local\\Temp\\ipykernel_13448\\724766185.py:13: FutureWarning: The frame.append method is deprecated and will be removed from pandas in a future version. Use pandas.concat instead.\n",
      "  dfScenes = dfScenes.append({'location':strFilePath, 'geometry': box(bounds[0], bounds[1], bounds[2], bounds[3])},ignore_index=True)\n",
      "C:\\Users\\alexsaunders\\AppData\\Local\\Temp\\ipykernel_13448\\724766185.py:13: FutureWarning: The frame.append method is deprecated and will be removed from pandas in a future version. Use pandas.concat instead.\n",
      "  dfScenes = dfScenes.append({'location':strFilePath, 'geometry': box(bounds[0], bounds[1], bounds[2], bounds[3])},ignore_index=True)\n"
     ]
    },
    {
     "name": "stdout",
     "output_type": "stream",
     "text": [
      "processing file 360/933\r"
     ]
    },
    {
     "name": "stderr",
     "output_type": "stream",
     "text": [
      "C:\\Users\\alexsaunders\\AppData\\Local\\Temp\\ipykernel_13448\\724766185.py:13: FutureWarning: The frame.append method is deprecated and will be removed from pandas in a future version. Use pandas.concat instead.\n",
      "  dfScenes = dfScenes.append({'location':strFilePath, 'geometry': box(bounds[0], bounds[1], bounds[2], bounds[3])},ignore_index=True)\n",
      "C:\\Users\\alexsaunders\\AppData\\Local\\Temp\\ipykernel_13448\\724766185.py:13: FutureWarning: The frame.append method is deprecated and will be removed from pandas in a future version. Use pandas.concat instead.\n",
      "  dfScenes = dfScenes.append({'location':strFilePath, 'geometry': box(bounds[0], bounds[1], bounds[2], bounds[3])},ignore_index=True)\n",
      "C:\\Users\\alexsaunders\\AppData\\Local\\Temp\\ipykernel_13448\\724766185.py:13: FutureWarning: The frame.append method is deprecated and will be removed from pandas in a future version. Use pandas.concat instead.\n",
      "  dfScenes = dfScenes.append({'location':strFilePath, 'geometry': box(bounds[0], bounds[1], bounds[2], bounds[3])},ignore_index=True)\n",
      "C:\\Users\\alexsaunders\\AppData\\Local\\Temp\\ipykernel_13448\\724766185.py:13: FutureWarning: The frame.append method is deprecated and will be removed from pandas in a future version. Use pandas.concat instead.\n",
      "  dfScenes = dfScenes.append({'location':strFilePath, 'geometry': box(bounds[0], bounds[1], bounds[2], bounds[3])},ignore_index=True)\n",
      "C:\\Users\\alexsaunders\\AppData\\Local\\Temp\\ipykernel_13448\\724766185.py:13: FutureWarning: The frame.append method is deprecated and will be removed from pandas in a future version. Use pandas.concat instead.\n",
      "  dfScenes = dfScenes.append({'location':strFilePath, 'geometry': box(bounds[0], bounds[1], bounds[2], bounds[3])},ignore_index=True)\n",
      "C:\\Users\\alexsaunders\\AppData\\Local\\Temp\\ipykernel_13448\\724766185.py:13: FutureWarning: The frame.append method is deprecated and will be removed from pandas in a future version. Use pandas.concat instead.\n",
      "  dfScenes = dfScenes.append({'location':strFilePath, 'geometry': box(bounds[0], bounds[1], bounds[2], bounds[3])},ignore_index=True)\n"
     ]
    },
    {
     "name": "stdout",
     "output_type": "stream",
     "text": [
      "processing file 366/933\r"
     ]
    },
    {
     "name": "stderr",
     "output_type": "stream",
     "text": [
      "C:\\Users\\alexsaunders\\AppData\\Local\\Temp\\ipykernel_13448\\724766185.py:13: FutureWarning: The frame.append method is deprecated and will be removed from pandas in a future version. Use pandas.concat instead.\n",
      "  dfScenes = dfScenes.append({'location':strFilePath, 'geometry': box(bounds[0], bounds[1], bounds[2], bounds[3])},ignore_index=True)\n"
     ]
    },
    {
     "name": "stdout",
     "output_type": "stream",
     "text": [
      "processing file 367/933\r"
     ]
    },
    {
     "name": "stderr",
     "output_type": "stream",
     "text": [
      "C:\\Users\\alexsaunders\\AppData\\Local\\Temp\\ipykernel_13448\\724766185.py:13: FutureWarning: The frame.append method is deprecated and will be removed from pandas in a future version. Use pandas.concat instead.\n",
      "  dfScenes = dfScenes.append({'location':strFilePath, 'geometry': box(bounds[0], bounds[1], bounds[2], bounds[3])},ignore_index=True)\n",
      "C:\\Users\\alexsaunders\\AppData\\Local\\Temp\\ipykernel_13448\\724766185.py:13: FutureWarning: The frame.append method is deprecated and will be removed from pandas in a future version. Use pandas.concat instead.\n",
      "  dfScenes = dfScenes.append({'location':strFilePath, 'geometry': box(bounds[0], bounds[1], bounds[2], bounds[3])},ignore_index=True)\n",
      "C:\\Users\\alexsaunders\\AppData\\Local\\Temp\\ipykernel_13448\\724766185.py:13: FutureWarning: The frame.append method is deprecated and will be removed from pandas in a future version. Use pandas.concat instead.\n",
      "  dfScenes = dfScenes.append({'location':strFilePath, 'geometry': box(bounds[0], bounds[1], bounds[2], bounds[3])},ignore_index=True)\n",
      "C:\\Users\\alexsaunders\\AppData\\Local\\Temp\\ipykernel_13448\\724766185.py:13: FutureWarning: The frame.append method is deprecated and will be removed from pandas in a future version. Use pandas.concat instead.\n",
      "  dfScenes = dfScenes.append({'location':strFilePath, 'geometry': box(bounds[0], bounds[1], bounds[2], bounds[3])},ignore_index=True)\n",
      "C:\\Users\\alexsaunders\\AppData\\Local\\Temp\\ipykernel_13448\\724766185.py:13: FutureWarning: The frame.append method is deprecated and will be removed from pandas in a future version. Use pandas.concat instead.\n",
      "  dfScenes = dfScenes.append({'location':strFilePath, 'geometry': box(bounds[0], bounds[1], bounds[2], bounds[3])},ignore_index=True)\n",
      "C:\\Users\\alexsaunders\\AppData\\Local\\Temp\\ipykernel_13448\\724766185.py:13: FutureWarning: The frame.append method is deprecated and will be removed from pandas in a future version. Use pandas.concat instead.\n",
      "  dfScenes = dfScenes.append({'location':strFilePath, 'geometry': box(bounds[0], bounds[1], bounds[2], bounds[3])},ignore_index=True)\n"
     ]
    },
    {
     "name": "stdout",
     "output_type": "stream",
     "text": [
      "processing file 373/933\r"
     ]
    },
    {
     "name": "stderr",
     "output_type": "stream",
     "text": [
      "C:\\Users\\alexsaunders\\AppData\\Local\\Temp\\ipykernel_13448\\724766185.py:13: FutureWarning: The frame.append method is deprecated and will be removed from pandas in a future version. Use pandas.concat instead.\n",
      "  dfScenes = dfScenes.append({'location':strFilePath, 'geometry': box(bounds[0], bounds[1], bounds[2], bounds[3])},ignore_index=True)\n",
      "C:\\Users\\alexsaunders\\AppData\\Local\\Temp\\ipykernel_13448\\724766185.py:13: FutureWarning: The frame.append method is deprecated and will be removed from pandas in a future version. Use pandas.concat instead.\n",
      "  dfScenes = dfScenes.append({'location':strFilePath, 'geometry': box(bounds[0], bounds[1], bounds[2], bounds[3])},ignore_index=True)\n",
      "C:\\Users\\alexsaunders\\AppData\\Local\\Temp\\ipykernel_13448\\724766185.py:13: FutureWarning: The frame.append method is deprecated and will be removed from pandas in a future version. Use pandas.concat instead.\n",
      "  dfScenes = dfScenes.append({'location':strFilePath, 'geometry': box(bounds[0], bounds[1], bounds[2], bounds[3])},ignore_index=True)\n",
      "C:\\Users\\alexsaunders\\AppData\\Local\\Temp\\ipykernel_13448\\724766185.py:13: FutureWarning: The frame.append method is deprecated and will be removed from pandas in a future version. Use pandas.concat instead.\n",
      "  dfScenes = dfScenes.append({'location':strFilePath, 'geometry': box(bounds[0], bounds[1], bounds[2], bounds[3])},ignore_index=True)\n",
      "C:\\Users\\alexsaunders\\AppData\\Local\\Temp\\ipykernel_13448\\724766185.py:13: FutureWarning: The frame.append method is deprecated and will be removed from pandas in a future version. Use pandas.concat instead.\n",
      "  dfScenes = dfScenes.append({'location':strFilePath, 'geometry': box(bounds[0], bounds[1], bounds[2], bounds[3])},ignore_index=True)\n",
      "C:\\Users\\alexsaunders\\AppData\\Local\\Temp\\ipykernel_13448\\724766185.py:13: FutureWarning: The frame.append method is deprecated and will be removed from pandas in a future version. Use pandas.concat instead.\n",
      "  dfScenes = dfScenes.append({'location':strFilePath, 'geometry': box(bounds[0], bounds[1], bounds[2], bounds[3])},ignore_index=True)\n"
     ]
    },
    {
     "name": "stdout",
     "output_type": "stream",
     "text": [
      "processing file 379/933\r"
     ]
    },
    {
     "name": "stderr",
     "output_type": "stream",
     "text": [
      "C:\\Users\\alexsaunders\\AppData\\Local\\Temp\\ipykernel_13448\\724766185.py:13: FutureWarning: The frame.append method is deprecated and will be removed from pandas in a future version. Use pandas.concat instead.\n",
      "  dfScenes = dfScenes.append({'location':strFilePath, 'geometry': box(bounds[0], bounds[1], bounds[2], bounds[3])},ignore_index=True)\n",
      "C:\\Users\\alexsaunders\\AppData\\Local\\Temp\\ipykernel_13448\\724766185.py:13: FutureWarning: The frame.append method is deprecated and will be removed from pandas in a future version. Use pandas.concat instead.\n",
      "  dfScenes = dfScenes.append({'location':strFilePath, 'geometry': box(bounds[0], bounds[1], bounds[2], bounds[3])},ignore_index=True)\n",
      "C:\\Users\\alexsaunders\\AppData\\Local\\Temp\\ipykernel_13448\\724766185.py:13: FutureWarning: The frame.append method is deprecated and will be removed from pandas in a future version. Use pandas.concat instead.\n",
      "  dfScenes = dfScenes.append({'location':strFilePath, 'geometry': box(bounds[0], bounds[1], bounds[2], bounds[3])},ignore_index=True)\n",
      "C:\\Users\\alexsaunders\\AppData\\Local\\Temp\\ipykernel_13448\\724766185.py:13: FutureWarning: The frame.append method is deprecated and will be removed from pandas in a future version. Use pandas.concat instead.\n",
      "  dfScenes = dfScenes.append({'location':strFilePath, 'geometry': box(bounds[0], bounds[1], bounds[2], bounds[3])},ignore_index=True)\n",
      "C:\\Users\\alexsaunders\\AppData\\Local\\Temp\\ipykernel_13448\\724766185.py:13: FutureWarning: The frame.append method is deprecated and will be removed from pandas in a future version. Use pandas.concat instead.\n",
      "  dfScenes = dfScenes.append({'location':strFilePath, 'geometry': box(bounds[0], bounds[1], bounds[2], bounds[3])},ignore_index=True)\n",
      "C:\\Users\\alexsaunders\\AppData\\Local\\Temp\\ipykernel_13448\\724766185.py:13: FutureWarning: The frame.append method is deprecated and will be removed from pandas in a future version. Use pandas.concat instead.\n",
      "  dfScenes = dfScenes.append({'location':strFilePath, 'geometry': box(bounds[0], bounds[1], bounds[2], bounds[3])},ignore_index=True)\n"
     ]
    },
    {
     "name": "stdout",
     "output_type": "stream",
     "text": [
      "processing file 385/933\r"
     ]
    },
    {
     "name": "stderr",
     "output_type": "stream",
     "text": [
      "C:\\Users\\alexsaunders\\AppData\\Local\\Temp\\ipykernel_13448\\724766185.py:13: FutureWarning: The frame.append method is deprecated and will be removed from pandas in a future version. Use pandas.concat instead.\n",
      "  dfScenes = dfScenes.append({'location':strFilePath, 'geometry': box(bounds[0], bounds[1], bounds[2], bounds[3])},ignore_index=True)\n",
      "C:\\Users\\alexsaunders\\AppData\\Local\\Temp\\ipykernel_13448\\724766185.py:13: FutureWarning: The frame.append method is deprecated and will be removed from pandas in a future version. Use pandas.concat instead.\n",
      "  dfScenes = dfScenes.append({'location':strFilePath, 'geometry': box(bounds[0], bounds[1], bounds[2], bounds[3])},ignore_index=True)\n",
      "C:\\Users\\alexsaunders\\AppData\\Local\\Temp\\ipykernel_13448\\724766185.py:13: FutureWarning: The frame.append method is deprecated and will be removed from pandas in a future version. Use pandas.concat instead.\n",
      "  dfScenes = dfScenes.append({'location':strFilePath, 'geometry': box(bounds[0], bounds[1], bounds[2], bounds[3])},ignore_index=True)\n",
      "C:\\Users\\alexsaunders\\AppData\\Local\\Temp\\ipykernel_13448\\724766185.py:13: FutureWarning: The frame.append method is deprecated and will be removed from pandas in a future version. Use pandas.concat instead.\n",
      "  dfScenes = dfScenes.append({'location':strFilePath, 'geometry': box(bounds[0], bounds[1], bounds[2], bounds[3])},ignore_index=True)\n",
      "C:\\Users\\alexsaunders\\AppData\\Local\\Temp\\ipykernel_13448\\724766185.py:13: FutureWarning: The frame.append method is deprecated and will be removed from pandas in a future version. Use pandas.concat instead.\n",
      "  dfScenes = dfScenes.append({'location':strFilePath, 'geometry': box(bounds[0], bounds[1], bounds[2], bounds[3])},ignore_index=True)\n",
      "C:\\Users\\alexsaunders\\AppData\\Local\\Temp\\ipykernel_13448\\724766185.py:13: FutureWarning: The frame.append method is deprecated and will be removed from pandas in a future version. Use pandas.concat instead.\n",
      "  dfScenes = dfScenes.append({'location':strFilePath, 'geometry': box(bounds[0], bounds[1], bounds[2], bounds[3])},ignore_index=True)\n"
     ]
    },
    {
     "name": "stdout",
     "output_type": "stream",
     "text": [
      "processing file 391/933\r"
     ]
    },
    {
     "name": "stderr",
     "output_type": "stream",
     "text": [
      "C:\\Users\\alexsaunders\\AppData\\Local\\Temp\\ipykernel_13448\\724766185.py:13: FutureWarning: The frame.append method is deprecated and will be removed from pandas in a future version. Use pandas.concat instead.\n",
      "  dfScenes = dfScenes.append({'location':strFilePath, 'geometry': box(bounds[0], bounds[1], bounds[2], bounds[3])},ignore_index=True)\n",
      "C:\\Users\\alexsaunders\\AppData\\Local\\Temp\\ipykernel_13448\\724766185.py:13: FutureWarning: The frame.append method is deprecated and will be removed from pandas in a future version. Use pandas.concat instead.\n",
      "  dfScenes = dfScenes.append({'location':strFilePath, 'geometry': box(bounds[0], bounds[1], bounds[2], bounds[3])},ignore_index=True)\n",
      "C:\\Users\\alexsaunders\\AppData\\Local\\Temp\\ipykernel_13448\\724766185.py:13: FutureWarning: The frame.append method is deprecated and will be removed from pandas in a future version. Use pandas.concat instead.\n",
      "  dfScenes = dfScenes.append({'location':strFilePath, 'geometry': box(bounds[0], bounds[1], bounds[2], bounds[3])},ignore_index=True)\n",
      "C:\\Users\\alexsaunders\\AppData\\Local\\Temp\\ipykernel_13448\\724766185.py:13: FutureWarning: The frame.append method is deprecated and will be removed from pandas in a future version. Use pandas.concat instead.\n",
      "  dfScenes = dfScenes.append({'location':strFilePath, 'geometry': box(bounds[0], bounds[1], bounds[2], bounds[3])},ignore_index=True)\n",
      "C:\\Users\\alexsaunders\\AppData\\Local\\Temp\\ipykernel_13448\\724766185.py:13: FutureWarning: The frame.append method is deprecated and will be removed from pandas in a future version. Use pandas.concat instead.\n",
      "  dfScenes = dfScenes.append({'location':strFilePath, 'geometry': box(bounds[0], bounds[1], bounds[2], bounds[3])},ignore_index=True)\n",
      "C:\\Users\\alexsaunders\\AppData\\Local\\Temp\\ipykernel_13448\\724766185.py:13: FutureWarning: The frame.append method is deprecated and will be removed from pandas in a future version. Use pandas.concat instead.\n",
      "  dfScenes = dfScenes.append({'location':strFilePath, 'geometry': box(bounds[0], bounds[1], bounds[2], bounds[3])},ignore_index=True)\n"
     ]
    },
    {
     "name": "stdout",
     "output_type": "stream",
     "text": [
      "processing file 397/933\r"
     ]
    },
    {
     "name": "stderr",
     "output_type": "stream",
     "text": [
      "C:\\Users\\alexsaunders\\AppData\\Local\\Temp\\ipykernel_13448\\724766185.py:13: FutureWarning: The frame.append method is deprecated and will be removed from pandas in a future version. Use pandas.concat instead.\n",
      "  dfScenes = dfScenes.append({'location':strFilePath, 'geometry': box(bounds[0], bounds[1], bounds[2], bounds[3])},ignore_index=True)\n",
      "C:\\Users\\alexsaunders\\AppData\\Local\\Temp\\ipykernel_13448\\724766185.py:13: FutureWarning: The frame.append method is deprecated and will be removed from pandas in a future version. Use pandas.concat instead.\n",
      "  dfScenes = dfScenes.append({'location':strFilePath, 'geometry': box(bounds[0], bounds[1], bounds[2], bounds[3])},ignore_index=True)\n",
      "C:\\Users\\alexsaunders\\AppData\\Local\\Temp\\ipykernel_13448\\724766185.py:13: FutureWarning: The frame.append method is deprecated and will be removed from pandas in a future version. Use pandas.concat instead.\n",
      "  dfScenes = dfScenes.append({'location':strFilePath, 'geometry': box(bounds[0], bounds[1], bounds[2], bounds[3])},ignore_index=True)\n",
      "C:\\Users\\alexsaunders\\AppData\\Local\\Temp\\ipykernel_13448\\724766185.py:13: FutureWarning: The frame.append method is deprecated and will be removed from pandas in a future version. Use pandas.concat instead.\n",
      "  dfScenes = dfScenes.append({'location':strFilePath, 'geometry': box(bounds[0], bounds[1], bounds[2], bounds[3])},ignore_index=True)\n",
      "C:\\Users\\alexsaunders\\AppData\\Local\\Temp\\ipykernel_13448\\724766185.py:13: FutureWarning: The frame.append method is deprecated and will be removed from pandas in a future version. Use pandas.concat instead.\n",
      "  dfScenes = dfScenes.append({'location':strFilePath, 'geometry': box(bounds[0], bounds[1], bounds[2], bounds[3])},ignore_index=True)\n",
      "C:\\Users\\alexsaunders\\AppData\\Local\\Temp\\ipykernel_13448\\724766185.py:13: FutureWarning: The frame.append method is deprecated and will be removed from pandas in a future version. Use pandas.concat instead.\n",
      "  dfScenes = dfScenes.append({'location':strFilePath, 'geometry': box(bounds[0], bounds[1], bounds[2], bounds[3])},ignore_index=True)\n"
     ]
    },
    {
     "name": "stdout",
     "output_type": "stream",
     "text": [
      "processing file 403/933\r"
     ]
    },
    {
     "name": "stderr",
     "output_type": "stream",
     "text": [
      "C:\\Users\\alexsaunders\\AppData\\Local\\Temp\\ipykernel_13448\\724766185.py:13: FutureWarning: The frame.append method is deprecated and will be removed from pandas in a future version. Use pandas.concat instead.\n",
      "  dfScenes = dfScenes.append({'location':strFilePath, 'geometry': box(bounds[0], bounds[1], bounds[2], bounds[3])},ignore_index=True)\n",
      "C:\\Users\\alexsaunders\\AppData\\Local\\Temp\\ipykernel_13448\\724766185.py:13: FutureWarning: The frame.append method is deprecated and will be removed from pandas in a future version. Use pandas.concat instead.\n",
      "  dfScenes = dfScenes.append({'location':strFilePath, 'geometry': box(bounds[0], bounds[1], bounds[2], bounds[3])},ignore_index=True)\n",
      "C:\\Users\\alexsaunders\\AppData\\Local\\Temp\\ipykernel_13448\\724766185.py:13: FutureWarning: The frame.append method is deprecated and will be removed from pandas in a future version. Use pandas.concat instead.\n",
      "  dfScenes = dfScenes.append({'location':strFilePath, 'geometry': box(bounds[0], bounds[1], bounds[2], bounds[3])},ignore_index=True)\n",
      "C:\\Users\\alexsaunders\\AppData\\Local\\Temp\\ipykernel_13448\\724766185.py:13: FutureWarning: The frame.append method is deprecated and will be removed from pandas in a future version. Use pandas.concat instead.\n",
      "  dfScenes = dfScenes.append({'location':strFilePath, 'geometry': box(bounds[0], bounds[1], bounds[2], bounds[3])},ignore_index=True)\n",
      "C:\\Users\\alexsaunders\\AppData\\Local\\Temp\\ipykernel_13448\\724766185.py:13: FutureWarning: The frame.append method is deprecated and will be removed from pandas in a future version. Use pandas.concat instead.\n",
      "  dfScenes = dfScenes.append({'location':strFilePath, 'geometry': box(bounds[0], bounds[1], bounds[2], bounds[3])},ignore_index=True)\n"
     ]
    },
    {
     "name": "stdout",
     "output_type": "stream",
     "text": [
      "processing file 408/933\r"
     ]
    },
    {
     "name": "stderr",
     "output_type": "stream",
     "text": [
      "C:\\Users\\alexsaunders\\AppData\\Local\\Temp\\ipykernel_13448\\724766185.py:13: FutureWarning: The frame.append method is deprecated and will be removed from pandas in a future version. Use pandas.concat instead.\n",
      "  dfScenes = dfScenes.append({'location':strFilePath, 'geometry': box(bounds[0], bounds[1], bounds[2], bounds[3])},ignore_index=True)\n",
      "C:\\Users\\alexsaunders\\AppData\\Local\\Temp\\ipykernel_13448\\724766185.py:13: FutureWarning: The frame.append method is deprecated and will be removed from pandas in a future version. Use pandas.concat instead.\n",
      "  dfScenes = dfScenes.append({'location':strFilePath, 'geometry': box(bounds[0], bounds[1], bounds[2], bounds[3])},ignore_index=True)\n",
      "C:\\Users\\alexsaunders\\AppData\\Local\\Temp\\ipykernel_13448\\724766185.py:13: FutureWarning: The frame.append method is deprecated and will be removed from pandas in a future version. Use pandas.concat instead.\n",
      "  dfScenes = dfScenes.append({'location':strFilePath, 'geometry': box(bounds[0], bounds[1], bounds[2], bounds[3])},ignore_index=True)\n",
      "C:\\Users\\alexsaunders\\AppData\\Local\\Temp\\ipykernel_13448\\724766185.py:13: FutureWarning: The frame.append method is deprecated and will be removed from pandas in a future version. Use pandas.concat instead.\n",
      "  dfScenes = dfScenes.append({'location':strFilePath, 'geometry': box(bounds[0], bounds[1], bounds[2], bounds[3])},ignore_index=True)\n",
      "C:\\Users\\alexsaunders\\AppData\\Local\\Temp\\ipykernel_13448\\724766185.py:13: FutureWarning: The frame.append method is deprecated and will be removed from pandas in a future version. Use pandas.concat instead.\n",
      "  dfScenes = dfScenes.append({'location':strFilePath, 'geometry': box(bounds[0], bounds[1], bounds[2], bounds[3])},ignore_index=True)\n",
      "C:\\Users\\alexsaunders\\AppData\\Local\\Temp\\ipykernel_13448\\724766185.py:13: FutureWarning: The frame.append method is deprecated and will be removed from pandas in a future version. Use pandas.concat instead.\n",
      "  dfScenes = dfScenes.append({'location':strFilePath, 'geometry': box(bounds[0], bounds[1], bounds[2], bounds[3])},ignore_index=True)\n"
     ]
    },
    {
     "name": "stdout",
     "output_type": "stream",
     "text": [
      "processing file 414/933\r"
     ]
    },
    {
     "name": "stderr",
     "output_type": "stream",
     "text": [
      "C:\\Users\\alexsaunders\\AppData\\Local\\Temp\\ipykernel_13448\\724766185.py:13: FutureWarning: The frame.append method is deprecated and will be removed from pandas in a future version. Use pandas.concat instead.\n",
      "  dfScenes = dfScenes.append({'location':strFilePath, 'geometry': box(bounds[0], bounds[1], bounds[2], bounds[3])},ignore_index=True)\n",
      "C:\\Users\\alexsaunders\\AppData\\Local\\Temp\\ipykernel_13448\\724766185.py:13: FutureWarning: The frame.append method is deprecated and will be removed from pandas in a future version. Use pandas.concat instead.\n",
      "  dfScenes = dfScenes.append({'location':strFilePath, 'geometry': box(bounds[0], bounds[1], bounds[2], bounds[3])},ignore_index=True)\n",
      "C:\\Users\\alexsaunders\\AppData\\Local\\Temp\\ipykernel_13448\\724766185.py:13: FutureWarning: The frame.append method is deprecated and will be removed from pandas in a future version. Use pandas.concat instead.\n",
      "  dfScenes = dfScenes.append({'location':strFilePath, 'geometry': box(bounds[0], bounds[1], bounds[2], bounds[3])},ignore_index=True)\n",
      "C:\\Users\\alexsaunders\\AppData\\Local\\Temp\\ipykernel_13448\\724766185.py:13: FutureWarning: The frame.append method is deprecated and will be removed from pandas in a future version. Use pandas.concat instead.\n",
      "  dfScenes = dfScenes.append({'location':strFilePath, 'geometry': box(bounds[0], bounds[1], bounds[2], bounds[3])},ignore_index=True)\n",
      "C:\\Users\\alexsaunders\\AppData\\Local\\Temp\\ipykernel_13448\\724766185.py:13: FutureWarning: The frame.append method is deprecated and will be removed from pandas in a future version. Use pandas.concat instead.\n",
      "  dfScenes = dfScenes.append({'location':strFilePath, 'geometry': box(bounds[0], bounds[1], bounds[2], bounds[3])},ignore_index=True)\n",
      "C:\\Users\\alexsaunders\\AppData\\Local\\Temp\\ipykernel_13448\\724766185.py:13: FutureWarning: The frame.append method is deprecated and will be removed from pandas in a future version. Use pandas.concat instead.\n",
      "  dfScenes = dfScenes.append({'location':strFilePath, 'geometry': box(bounds[0], bounds[1], bounds[2], bounds[3])},ignore_index=True)\n",
      "C:\\Users\\alexsaunders\\AppData\\Local\\Temp\\ipykernel_13448\\724766185.py:13: FutureWarning: The frame.append method is deprecated and will be removed from pandas in a future version. Use pandas.concat instead.\n",
      "  dfScenes = dfScenes.append({'location':strFilePath, 'geometry': box(bounds[0], bounds[1], bounds[2], bounds[3])},ignore_index=True)\n"
     ]
    },
    {
     "name": "stdout",
     "output_type": "stream",
     "text": [
      "processing file 421/933\r"
     ]
    },
    {
     "name": "stderr",
     "output_type": "stream",
     "text": [
      "C:\\Users\\alexsaunders\\AppData\\Local\\Temp\\ipykernel_13448\\724766185.py:13: FutureWarning: The frame.append method is deprecated and will be removed from pandas in a future version. Use pandas.concat instead.\n",
      "  dfScenes = dfScenes.append({'location':strFilePath, 'geometry': box(bounds[0], bounds[1], bounds[2], bounds[3])},ignore_index=True)\n",
      "C:\\Users\\alexsaunders\\AppData\\Local\\Temp\\ipykernel_13448\\724766185.py:13: FutureWarning: The frame.append method is deprecated and will be removed from pandas in a future version. Use pandas.concat instead.\n",
      "  dfScenes = dfScenes.append({'location':strFilePath, 'geometry': box(bounds[0], bounds[1], bounds[2], bounds[3])},ignore_index=True)\n",
      "C:\\Users\\alexsaunders\\AppData\\Local\\Temp\\ipykernel_13448\\724766185.py:13: FutureWarning: The frame.append method is deprecated and will be removed from pandas in a future version. Use pandas.concat instead.\n",
      "  dfScenes = dfScenes.append({'location':strFilePath, 'geometry': box(bounds[0], bounds[1], bounds[2], bounds[3])},ignore_index=True)\n",
      "C:\\Users\\alexsaunders\\AppData\\Local\\Temp\\ipykernel_13448\\724766185.py:13: FutureWarning: The frame.append method is deprecated and will be removed from pandas in a future version. Use pandas.concat instead.\n",
      "  dfScenes = dfScenes.append({'location':strFilePath, 'geometry': box(bounds[0], bounds[1], bounds[2], bounds[3])},ignore_index=True)\n",
      "C:\\Users\\alexsaunders\\AppData\\Local\\Temp\\ipykernel_13448\\724766185.py:13: FutureWarning: The frame.append method is deprecated and will be removed from pandas in a future version. Use pandas.concat instead.\n",
      "  dfScenes = dfScenes.append({'location':strFilePath, 'geometry': box(bounds[0], bounds[1], bounds[2], bounds[3])},ignore_index=True)\n",
      "C:\\Users\\alexsaunders\\AppData\\Local\\Temp\\ipykernel_13448\\724766185.py:13: FutureWarning: The frame.append method is deprecated and will be removed from pandas in a future version. Use pandas.concat instead.\n",
      "  dfScenes = dfScenes.append({'location':strFilePath, 'geometry': box(bounds[0], bounds[1], bounds[2], bounds[3])},ignore_index=True)\n"
     ]
    },
    {
     "name": "stdout",
     "output_type": "stream",
     "text": [
      "processing file 427/933\r"
     ]
    },
    {
     "name": "stderr",
     "output_type": "stream",
     "text": [
      "C:\\Users\\alexsaunders\\AppData\\Local\\Temp\\ipykernel_13448\\724766185.py:13: FutureWarning: The frame.append method is deprecated and will be removed from pandas in a future version. Use pandas.concat instead.\n",
      "  dfScenes = dfScenes.append({'location':strFilePath, 'geometry': box(bounds[0], bounds[1], bounds[2], bounds[3])},ignore_index=True)\n",
      "C:\\Users\\alexsaunders\\AppData\\Local\\Temp\\ipykernel_13448\\724766185.py:13: FutureWarning: The frame.append method is deprecated and will be removed from pandas in a future version. Use pandas.concat instead.\n",
      "  dfScenes = dfScenes.append({'location':strFilePath, 'geometry': box(bounds[0], bounds[1], bounds[2], bounds[3])},ignore_index=True)\n",
      "C:\\Users\\alexsaunders\\AppData\\Local\\Temp\\ipykernel_13448\\724766185.py:13: FutureWarning: The frame.append method is deprecated and will be removed from pandas in a future version. Use pandas.concat instead.\n",
      "  dfScenes = dfScenes.append({'location':strFilePath, 'geometry': box(bounds[0], bounds[1], bounds[2], bounds[3])},ignore_index=True)\n",
      "C:\\Users\\alexsaunders\\AppData\\Local\\Temp\\ipykernel_13448\\724766185.py:13: FutureWarning: The frame.append method is deprecated and will be removed from pandas in a future version. Use pandas.concat instead.\n",
      "  dfScenes = dfScenes.append({'location':strFilePath, 'geometry': box(bounds[0], bounds[1], bounds[2], bounds[3])},ignore_index=True)\n",
      "C:\\Users\\alexsaunders\\AppData\\Local\\Temp\\ipykernel_13448\\724766185.py:13: FutureWarning: The frame.append method is deprecated and will be removed from pandas in a future version. Use pandas.concat instead.\n",
      "  dfScenes = dfScenes.append({'location':strFilePath, 'geometry': box(bounds[0], bounds[1], bounds[2], bounds[3])},ignore_index=True)\n",
      "C:\\Users\\alexsaunders\\AppData\\Local\\Temp\\ipykernel_13448\\724766185.py:13: FutureWarning: The frame.append method is deprecated and will be removed from pandas in a future version. Use pandas.concat instead.\n",
      "  dfScenes = dfScenes.append({'location':strFilePath, 'geometry': box(bounds[0], bounds[1], bounds[2], bounds[3])},ignore_index=True)\n"
     ]
    },
    {
     "name": "stdout",
     "output_type": "stream",
     "text": [
      "processing file 433/933\r"
     ]
    },
    {
     "name": "stderr",
     "output_type": "stream",
     "text": [
      "C:\\Users\\alexsaunders\\AppData\\Local\\Temp\\ipykernel_13448\\724766185.py:13: FutureWarning: The frame.append method is deprecated and will be removed from pandas in a future version. Use pandas.concat instead.\n",
      "  dfScenes = dfScenes.append({'location':strFilePath, 'geometry': box(bounds[0], bounds[1], bounds[2], bounds[3])},ignore_index=True)\n",
      "C:\\Users\\alexsaunders\\AppData\\Local\\Temp\\ipykernel_13448\\724766185.py:13: FutureWarning: The frame.append method is deprecated and will be removed from pandas in a future version. Use pandas.concat instead.\n",
      "  dfScenes = dfScenes.append({'location':strFilePath, 'geometry': box(bounds[0], bounds[1], bounds[2], bounds[3])},ignore_index=True)\n",
      "C:\\Users\\alexsaunders\\AppData\\Local\\Temp\\ipykernel_13448\\724766185.py:13: FutureWarning: The frame.append method is deprecated and will be removed from pandas in a future version. Use pandas.concat instead.\n",
      "  dfScenes = dfScenes.append({'location':strFilePath, 'geometry': box(bounds[0], bounds[1], bounds[2], bounds[3])},ignore_index=True)\n",
      "C:\\Users\\alexsaunders\\AppData\\Local\\Temp\\ipykernel_13448\\724766185.py:13: FutureWarning: The frame.append method is deprecated and will be removed from pandas in a future version. Use pandas.concat instead.\n",
      "  dfScenes = dfScenes.append({'location':strFilePath, 'geometry': box(bounds[0], bounds[1], bounds[2], bounds[3])},ignore_index=True)\n",
      "C:\\Users\\alexsaunders\\AppData\\Local\\Temp\\ipykernel_13448\\724766185.py:13: FutureWarning: The frame.append method is deprecated and will be removed from pandas in a future version. Use pandas.concat instead.\n",
      "  dfScenes = dfScenes.append({'location':strFilePath, 'geometry': box(bounds[0], bounds[1], bounds[2], bounds[3])},ignore_index=True)\n",
      "C:\\Users\\alexsaunders\\AppData\\Local\\Temp\\ipykernel_13448\\724766185.py:13: FutureWarning: The frame.append method is deprecated and will be removed from pandas in a future version. Use pandas.concat instead.\n",
      "  dfScenes = dfScenes.append({'location':strFilePath, 'geometry': box(bounds[0], bounds[1], bounds[2], bounds[3])},ignore_index=True)\n"
     ]
    },
    {
     "name": "stdout",
     "output_type": "stream",
     "text": [
      "processing file 439/933\r"
     ]
    },
    {
     "name": "stderr",
     "output_type": "stream",
     "text": [
      "C:\\Users\\alexsaunders\\AppData\\Local\\Temp\\ipykernel_13448\\724766185.py:13: FutureWarning: The frame.append method is deprecated and will be removed from pandas in a future version. Use pandas.concat instead.\n",
      "  dfScenes = dfScenes.append({'location':strFilePath, 'geometry': box(bounds[0], bounds[1], bounds[2], bounds[3])},ignore_index=True)\n",
      "C:\\Users\\alexsaunders\\AppData\\Local\\Temp\\ipykernel_13448\\724766185.py:13: FutureWarning: The frame.append method is deprecated and will be removed from pandas in a future version. Use pandas.concat instead.\n",
      "  dfScenes = dfScenes.append({'location':strFilePath, 'geometry': box(bounds[0], bounds[1], bounds[2], bounds[3])},ignore_index=True)\n",
      "C:\\Users\\alexsaunders\\AppData\\Local\\Temp\\ipykernel_13448\\724766185.py:13: FutureWarning: The frame.append method is deprecated and will be removed from pandas in a future version. Use pandas.concat instead.\n",
      "  dfScenes = dfScenes.append({'location':strFilePath, 'geometry': box(bounds[0], bounds[1], bounds[2], bounds[3])},ignore_index=True)\n",
      "C:\\Users\\alexsaunders\\AppData\\Local\\Temp\\ipykernel_13448\\724766185.py:13: FutureWarning: The frame.append method is deprecated and will be removed from pandas in a future version. Use pandas.concat instead.\n",
      "  dfScenes = dfScenes.append({'location':strFilePath, 'geometry': box(bounds[0], bounds[1], bounds[2], bounds[3])},ignore_index=True)\n",
      "C:\\Users\\alexsaunders\\AppData\\Local\\Temp\\ipykernel_13448\\724766185.py:13: FutureWarning: The frame.append method is deprecated and will be removed from pandas in a future version. Use pandas.concat instead.\n",
      "  dfScenes = dfScenes.append({'location':strFilePath, 'geometry': box(bounds[0], bounds[1], bounds[2], bounds[3])},ignore_index=True)\n",
      "C:\\Users\\alexsaunders\\AppData\\Local\\Temp\\ipykernel_13448\\724766185.py:13: FutureWarning: The frame.append method is deprecated and will be removed from pandas in a future version. Use pandas.concat instead.\n",
      "  dfScenes = dfScenes.append({'location':strFilePath, 'geometry': box(bounds[0], bounds[1], bounds[2], bounds[3])},ignore_index=True)\n"
     ]
    },
    {
     "name": "stdout",
     "output_type": "stream",
     "text": [
      "processing file 446/933\r"
     ]
    },
    {
     "name": "stderr",
     "output_type": "stream",
     "text": [
      "C:\\Users\\alexsaunders\\AppData\\Local\\Temp\\ipykernel_13448\\724766185.py:13: FutureWarning: The frame.append method is deprecated and will be removed from pandas in a future version. Use pandas.concat instead.\n",
      "  dfScenes = dfScenes.append({'location':strFilePath, 'geometry': box(bounds[0], bounds[1], bounds[2], bounds[3])},ignore_index=True)\n",
      "C:\\Users\\alexsaunders\\AppData\\Local\\Temp\\ipykernel_13448\\724766185.py:13: FutureWarning: The frame.append method is deprecated and will be removed from pandas in a future version. Use pandas.concat instead.\n",
      "  dfScenes = dfScenes.append({'location':strFilePath, 'geometry': box(bounds[0], bounds[1], bounds[2], bounds[3])},ignore_index=True)\n",
      "C:\\Users\\alexsaunders\\AppData\\Local\\Temp\\ipykernel_13448\\724766185.py:13: FutureWarning: The frame.append method is deprecated and will be removed from pandas in a future version. Use pandas.concat instead.\n",
      "  dfScenes = dfScenes.append({'location':strFilePath, 'geometry': box(bounds[0], bounds[1], bounds[2], bounds[3])},ignore_index=True)\n",
      "C:\\Users\\alexsaunders\\AppData\\Local\\Temp\\ipykernel_13448\\724766185.py:13: FutureWarning: The frame.append method is deprecated and will be removed from pandas in a future version. Use pandas.concat instead.\n",
      "  dfScenes = dfScenes.append({'location':strFilePath, 'geometry': box(bounds[0], bounds[1], bounds[2], bounds[3])},ignore_index=True)\n",
      "C:\\Users\\alexsaunders\\AppData\\Local\\Temp\\ipykernel_13448\\724766185.py:13: FutureWarning: The frame.append method is deprecated and will be removed from pandas in a future version. Use pandas.concat instead.\n",
      "  dfScenes = dfScenes.append({'location':strFilePath, 'geometry': box(bounds[0], bounds[1], bounds[2], bounds[3])},ignore_index=True)\n",
      "C:\\Users\\alexsaunders\\AppData\\Local\\Temp\\ipykernel_13448\\724766185.py:13: FutureWarning: The frame.append method is deprecated and will be removed from pandas in a future version. Use pandas.concat instead.\n",
      "  dfScenes = dfScenes.append({'location':strFilePath, 'geometry': box(bounds[0], bounds[1], bounds[2], bounds[3])},ignore_index=True)\n",
      "C:\\Users\\alexsaunders\\AppData\\Local\\Temp\\ipykernel_13448\\724766185.py:13: FutureWarning: The frame.append method is deprecated and will be removed from pandas in a future version. Use pandas.concat instead.\n",
      "  dfScenes = dfScenes.append({'location':strFilePath, 'geometry': box(bounds[0], bounds[1], bounds[2], bounds[3])},ignore_index=True)\n"
     ]
    },
    {
     "name": "stdout",
     "output_type": "stream",
     "text": [
      "processing file 452/933\r"
     ]
    },
    {
     "name": "stderr",
     "output_type": "stream",
     "text": [
      "C:\\Users\\alexsaunders\\AppData\\Local\\Temp\\ipykernel_13448\\724766185.py:13: FutureWarning: The frame.append method is deprecated and will be removed from pandas in a future version. Use pandas.concat instead.\n",
      "  dfScenes = dfScenes.append({'location':strFilePath, 'geometry': box(bounds[0], bounds[1], bounds[2], bounds[3])},ignore_index=True)\n",
      "C:\\Users\\alexsaunders\\AppData\\Local\\Temp\\ipykernel_13448\\724766185.py:13: FutureWarning: The frame.append method is deprecated and will be removed from pandas in a future version. Use pandas.concat instead.\n",
      "  dfScenes = dfScenes.append({'location':strFilePath, 'geometry': box(bounds[0], bounds[1], bounds[2], bounds[3])},ignore_index=True)\n",
      "C:\\Users\\alexsaunders\\AppData\\Local\\Temp\\ipykernel_13448\\724766185.py:13: FutureWarning: The frame.append method is deprecated and will be removed from pandas in a future version. Use pandas.concat instead.\n",
      "  dfScenes = dfScenes.append({'location':strFilePath, 'geometry': box(bounds[0], bounds[1], bounds[2], bounds[3])},ignore_index=True)\n",
      "C:\\Users\\alexsaunders\\AppData\\Local\\Temp\\ipykernel_13448\\724766185.py:13: FutureWarning: The frame.append method is deprecated and will be removed from pandas in a future version. Use pandas.concat instead.\n",
      "  dfScenes = dfScenes.append({'location':strFilePath, 'geometry': box(bounds[0], bounds[1], bounds[2], bounds[3])},ignore_index=True)\n",
      "C:\\Users\\alexsaunders\\AppData\\Local\\Temp\\ipykernel_13448\\724766185.py:13: FutureWarning: The frame.append method is deprecated and will be removed from pandas in a future version. Use pandas.concat instead.\n",
      "  dfScenes = dfScenes.append({'location':strFilePath, 'geometry': box(bounds[0], bounds[1], bounds[2], bounds[3])},ignore_index=True)\n",
      "C:\\Users\\alexsaunders\\AppData\\Local\\Temp\\ipykernel_13448\\724766185.py:13: FutureWarning: The frame.append method is deprecated and will be removed from pandas in a future version. Use pandas.concat instead.\n",
      "  dfScenes = dfScenes.append({'location':strFilePath, 'geometry': box(bounds[0], bounds[1], bounds[2], bounds[3])},ignore_index=True)\n"
     ]
    },
    {
     "name": "stdout",
     "output_type": "stream",
     "text": [
      "processing file 458/933\r"
     ]
    },
    {
     "name": "stderr",
     "output_type": "stream",
     "text": [
      "C:\\Users\\alexsaunders\\AppData\\Local\\Temp\\ipykernel_13448\\724766185.py:13: FutureWarning: The frame.append method is deprecated and will be removed from pandas in a future version. Use pandas.concat instead.\n",
      "  dfScenes = dfScenes.append({'location':strFilePath, 'geometry': box(bounds[0], bounds[1], bounds[2], bounds[3])},ignore_index=True)\n",
      "C:\\Users\\alexsaunders\\AppData\\Local\\Temp\\ipykernel_13448\\724766185.py:13: FutureWarning: The frame.append method is deprecated and will be removed from pandas in a future version. Use pandas.concat instead.\n",
      "  dfScenes = dfScenes.append({'location':strFilePath, 'geometry': box(bounds[0], bounds[1], bounds[2], bounds[3])},ignore_index=True)\n",
      "C:\\Users\\alexsaunders\\AppData\\Local\\Temp\\ipykernel_13448\\724766185.py:13: FutureWarning: The frame.append method is deprecated and will be removed from pandas in a future version. Use pandas.concat instead.\n",
      "  dfScenes = dfScenes.append({'location':strFilePath, 'geometry': box(bounds[0], bounds[1], bounds[2], bounds[3])},ignore_index=True)\n",
      "C:\\Users\\alexsaunders\\AppData\\Local\\Temp\\ipykernel_13448\\724766185.py:13: FutureWarning: The frame.append method is deprecated and will be removed from pandas in a future version. Use pandas.concat instead.\n",
      "  dfScenes = dfScenes.append({'location':strFilePath, 'geometry': box(bounds[0], bounds[1], bounds[2], bounds[3])},ignore_index=True)\n",
      "C:\\Users\\alexsaunders\\AppData\\Local\\Temp\\ipykernel_13448\\724766185.py:13: FutureWarning: The frame.append method is deprecated and will be removed from pandas in a future version. Use pandas.concat instead.\n",
      "  dfScenes = dfScenes.append({'location':strFilePath, 'geometry': box(bounds[0], bounds[1], bounds[2], bounds[3])},ignore_index=True)\n",
      "C:\\Users\\alexsaunders\\AppData\\Local\\Temp\\ipykernel_13448\\724766185.py:13: FutureWarning: The frame.append method is deprecated and will be removed from pandas in a future version. Use pandas.concat instead.\n",
      "  dfScenes = dfScenes.append({'location':strFilePath, 'geometry': box(bounds[0], bounds[1], bounds[2], bounds[3])},ignore_index=True)\n"
     ]
    },
    {
     "name": "stdout",
     "output_type": "stream",
     "text": [
      "processing file 464/933\r"
     ]
    },
    {
     "name": "stderr",
     "output_type": "stream",
     "text": [
      "C:\\Users\\alexsaunders\\AppData\\Local\\Temp\\ipykernel_13448\\724766185.py:13: FutureWarning: The frame.append method is deprecated and will be removed from pandas in a future version. Use pandas.concat instead.\n",
      "  dfScenes = dfScenes.append({'location':strFilePath, 'geometry': box(bounds[0], bounds[1], bounds[2], bounds[3])},ignore_index=True)\n",
      "C:\\Users\\alexsaunders\\AppData\\Local\\Temp\\ipykernel_13448\\724766185.py:13: FutureWarning: The frame.append method is deprecated and will be removed from pandas in a future version. Use pandas.concat instead.\n",
      "  dfScenes = dfScenes.append({'location':strFilePath, 'geometry': box(bounds[0], bounds[1], bounds[2], bounds[3])},ignore_index=True)\n",
      "C:\\Users\\alexsaunders\\AppData\\Local\\Temp\\ipykernel_13448\\724766185.py:13: FutureWarning: The frame.append method is deprecated and will be removed from pandas in a future version. Use pandas.concat instead.\n",
      "  dfScenes = dfScenes.append({'location':strFilePath, 'geometry': box(bounds[0], bounds[1], bounds[2], bounds[3])},ignore_index=True)\n",
      "C:\\Users\\alexsaunders\\AppData\\Local\\Temp\\ipykernel_13448\\724766185.py:13: FutureWarning: The frame.append method is deprecated and will be removed from pandas in a future version. Use pandas.concat instead.\n",
      "  dfScenes = dfScenes.append({'location':strFilePath, 'geometry': box(bounds[0], bounds[1], bounds[2], bounds[3])},ignore_index=True)\n",
      "C:\\Users\\alexsaunders\\AppData\\Local\\Temp\\ipykernel_13448\\724766185.py:13: FutureWarning: The frame.append method is deprecated and will be removed from pandas in a future version. Use pandas.concat instead.\n",
      "  dfScenes = dfScenes.append({'location':strFilePath, 'geometry': box(bounds[0], bounds[1], bounds[2], bounds[3])},ignore_index=True)\n",
      "C:\\Users\\alexsaunders\\AppData\\Local\\Temp\\ipykernel_13448\\724766185.py:13: FutureWarning: The frame.append method is deprecated and will be removed from pandas in a future version. Use pandas.concat instead.\n",
      "  dfScenes = dfScenes.append({'location':strFilePath, 'geometry': box(bounds[0], bounds[1], bounds[2], bounds[3])},ignore_index=True)\n"
     ]
    },
    {
     "name": "stdout",
     "output_type": "stream",
     "text": [
      "processing file 470/933\r"
     ]
    },
    {
     "name": "stderr",
     "output_type": "stream",
     "text": [
      "C:\\Users\\alexsaunders\\AppData\\Local\\Temp\\ipykernel_13448\\724766185.py:13: FutureWarning: The frame.append method is deprecated and will be removed from pandas in a future version. Use pandas.concat instead.\n",
      "  dfScenes = dfScenes.append({'location':strFilePath, 'geometry': box(bounds[0], bounds[1], bounds[2], bounds[3])},ignore_index=True)\n",
      "C:\\Users\\alexsaunders\\AppData\\Local\\Temp\\ipykernel_13448\\724766185.py:13: FutureWarning: The frame.append method is deprecated and will be removed from pandas in a future version. Use pandas.concat instead.\n",
      "  dfScenes = dfScenes.append({'location':strFilePath, 'geometry': box(bounds[0], bounds[1], bounds[2], bounds[3])},ignore_index=True)\n",
      "C:\\Users\\alexsaunders\\AppData\\Local\\Temp\\ipykernel_13448\\724766185.py:13: FutureWarning: The frame.append method is deprecated and will be removed from pandas in a future version. Use pandas.concat instead.\n",
      "  dfScenes = dfScenes.append({'location':strFilePath, 'geometry': box(bounds[0], bounds[1], bounds[2], bounds[3])},ignore_index=True)\n",
      "C:\\Users\\alexsaunders\\AppData\\Local\\Temp\\ipykernel_13448\\724766185.py:13: FutureWarning: The frame.append method is deprecated and will be removed from pandas in a future version. Use pandas.concat instead.\n",
      "  dfScenes = dfScenes.append({'location':strFilePath, 'geometry': box(bounds[0], bounds[1], bounds[2], bounds[3])},ignore_index=True)\n",
      "C:\\Users\\alexsaunders\\AppData\\Local\\Temp\\ipykernel_13448\\724766185.py:13: FutureWarning: The frame.append method is deprecated and will be removed from pandas in a future version. Use pandas.concat instead.\n",
      "  dfScenes = dfScenes.append({'location':strFilePath, 'geometry': box(bounds[0], bounds[1], bounds[2], bounds[3])},ignore_index=True)\n"
     ]
    },
    {
     "name": "stdout",
     "output_type": "stream",
     "text": [
      "processing file 475/933\r"
     ]
    },
    {
     "name": "stderr",
     "output_type": "stream",
     "text": [
      "C:\\Users\\alexsaunders\\AppData\\Local\\Temp\\ipykernel_13448\\724766185.py:13: FutureWarning: The frame.append method is deprecated and will be removed from pandas in a future version. Use pandas.concat instead.\n",
      "  dfScenes = dfScenes.append({'location':strFilePath, 'geometry': box(bounds[0], bounds[1], bounds[2], bounds[3])},ignore_index=True)\n",
      "C:\\Users\\alexsaunders\\AppData\\Local\\Temp\\ipykernel_13448\\724766185.py:13: FutureWarning: The frame.append method is deprecated and will be removed from pandas in a future version. Use pandas.concat instead.\n",
      "  dfScenes = dfScenes.append({'location':strFilePath, 'geometry': box(bounds[0], bounds[1], bounds[2], bounds[3])},ignore_index=True)\n",
      "C:\\Users\\alexsaunders\\AppData\\Local\\Temp\\ipykernel_13448\\724766185.py:13: FutureWarning: The frame.append method is deprecated and will be removed from pandas in a future version. Use pandas.concat instead.\n",
      "  dfScenes = dfScenes.append({'location':strFilePath, 'geometry': box(bounds[0], bounds[1], bounds[2], bounds[3])},ignore_index=True)\n",
      "C:\\Users\\alexsaunders\\AppData\\Local\\Temp\\ipykernel_13448\\724766185.py:13: FutureWarning: The frame.append method is deprecated and will be removed from pandas in a future version. Use pandas.concat instead.\n",
      "  dfScenes = dfScenes.append({'location':strFilePath, 'geometry': box(bounds[0], bounds[1], bounds[2], bounds[3])},ignore_index=True)\n",
      "C:\\Users\\alexsaunders\\AppData\\Local\\Temp\\ipykernel_13448\\724766185.py:13: FutureWarning: The frame.append method is deprecated and will be removed from pandas in a future version. Use pandas.concat instead.\n",
      "  dfScenes = dfScenes.append({'location':strFilePath, 'geometry': box(bounds[0], bounds[1], bounds[2], bounds[3])},ignore_index=True)\n"
     ]
    },
    {
     "name": "stdout",
     "output_type": "stream",
     "text": [
      "processing file 480/933\r"
     ]
    },
    {
     "name": "stderr",
     "output_type": "stream",
     "text": [
      "C:\\Users\\alexsaunders\\AppData\\Local\\Temp\\ipykernel_13448\\724766185.py:13: FutureWarning: The frame.append method is deprecated and will be removed from pandas in a future version. Use pandas.concat instead.\n",
      "  dfScenes = dfScenes.append({'location':strFilePath, 'geometry': box(bounds[0], bounds[1], bounds[2], bounds[3])},ignore_index=True)\n",
      "C:\\Users\\alexsaunders\\AppData\\Local\\Temp\\ipykernel_13448\\724766185.py:13: FutureWarning: The frame.append method is deprecated and will be removed from pandas in a future version. Use pandas.concat instead.\n",
      "  dfScenes = dfScenes.append({'location':strFilePath, 'geometry': box(bounds[0], bounds[1], bounds[2], bounds[3])},ignore_index=True)\n",
      "C:\\Users\\alexsaunders\\AppData\\Local\\Temp\\ipykernel_13448\\724766185.py:13: FutureWarning: The frame.append method is deprecated and will be removed from pandas in a future version. Use pandas.concat instead.\n",
      "  dfScenes = dfScenes.append({'location':strFilePath, 'geometry': box(bounds[0], bounds[1], bounds[2], bounds[3])},ignore_index=True)\n",
      "C:\\Users\\alexsaunders\\AppData\\Local\\Temp\\ipykernel_13448\\724766185.py:13: FutureWarning: The frame.append method is deprecated and will be removed from pandas in a future version. Use pandas.concat instead.\n",
      "  dfScenes = dfScenes.append({'location':strFilePath, 'geometry': box(bounds[0], bounds[1], bounds[2], bounds[3])},ignore_index=True)\n",
      "C:\\Users\\alexsaunders\\AppData\\Local\\Temp\\ipykernel_13448\\724766185.py:13: FutureWarning: The frame.append method is deprecated and will be removed from pandas in a future version. Use pandas.concat instead.\n",
      "  dfScenes = dfScenes.append({'location':strFilePath, 'geometry': box(bounds[0], bounds[1], bounds[2], bounds[3])},ignore_index=True)\n",
      "C:\\Users\\alexsaunders\\AppData\\Local\\Temp\\ipykernel_13448\\724766185.py:13: FutureWarning: The frame.append method is deprecated and will be removed from pandas in a future version. Use pandas.concat instead.\n",
      "  dfScenes = dfScenes.append({'location':strFilePath, 'geometry': box(bounds[0], bounds[1], bounds[2], bounds[3])},ignore_index=True)\n"
     ]
    },
    {
     "name": "stdout",
     "output_type": "stream",
     "text": [
      "processing file 486/933\r"
     ]
    },
    {
     "name": "stderr",
     "output_type": "stream",
     "text": [
      "C:\\Users\\alexsaunders\\AppData\\Local\\Temp\\ipykernel_13448\\724766185.py:13: FutureWarning: The frame.append method is deprecated and will be removed from pandas in a future version. Use pandas.concat instead.\n",
      "  dfScenes = dfScenes.append({'location':strFilePath, 'geometry': box(bounds[0], bounds[1], bounds[2], bounds[3])},ignore_index=True)\n",
      "C:\\Users\\alexsaunders\\AppData\\Local\\Temp\\ipykernel_13448\\724766185.py:13: FutureWarning: The frame.append method is deprecated and will be removed from pandas in a future version. Use pandas.concat instead.\n",
      "  dfScenes = dfScenes.append({'location':strFilePath, 'geometry': box(bounds[0], bounds[1], bounds[2], bounds[3])},ignore_index=True)\n",
      "C:\\Users\\alexsaunders\\AppData\\Local\\Temp\\ipykernel_13448\\724766185.py:13: FutureWarning: The frame.append method is deprecated and will be removed from pandas in a future version. Use pandas.concat instead.\n",
      "  dfScenes = dfScenes.append({'location':strFilePath, 'geometry': box(bounds[0], bounds[1], bounds[2], bounds[3])},ignore_index=True)\n",
      "C:\\Users\\alexsaunders\\AppData\\Local\\Temp\\ipykernel_13448\\724766185.py:13: FutureWarning: The frame.append method is deprecated and will be removed from pandas in a future version. Use pandas.concat instead.\n",
      "  dfScenes = dfScenes.append({'location':strFilePath, 'geometry': box(bounds[0], bounds[1], bounds[2], bounds[3])},ignore_index=True)\n",
      "C:\\Users\\alexsaunders\\AppData\\Local\\Temp\\ipykernel_13448\\724766185.py:13: FutureWarning: The frame.append method is deprecated and will be removed from pandas in a future version. Use pandas.concat instead.\n",
      "  dfScenes = dfScenes.append({'location':strFilePath, 'geometry': box(bounds[0], bounds[1], bounds[2], bounds[3])},ignore_index=True)\n"
     ]
    },
    {
     "name": "stdout",
     "output_type": "stream",
     "text": [
      "processing file 491/933\r"
     ]
    },
    {
     "name": "stderr",
     "output_type": "stream",
     "text": [
      "C:\\Users\\alexsaunders\\AppData\\Local\\Temp\\ipykernel_13448\\724766185.py:13: FutureWarning: The frame.append method is deprecated and will be removed from pandas in a future version. Use pandas.concat instead.\n",
      "  dfScenes = dfScenes.append({'location':strFilePath, 'geometry': box(bounds[0], bounds[1], bounds[2], bounds[3])},ignore_index=True)\n",
      "C:\\Users\\alexsaunders\\AppData\\Local\\Temp\\ipykernel_13448\\724766185.py:13: FutureWarning: The frame.append method is deprecated and will be removed from pandas in a future version. Use pandas.concat instead.\n",
      "  dfScenes = dfScenes.append({'location':strFilePath, 'geometry': box(bounds[0], bounds[1], bounds[2], bounds[3])},ignore_index=True)\n",
      "C:\\Users\\alexsaunders\\AppData\\Local\\Temp\\ipykernel_13448\\724766185.py:13: FutureWarning: The frame.append method is deprecated and will be removed from pandas in a future version. Use pandas.concat instead.\n",
      "  dfScenes = dfScenes.append({'location':strFilePath, 'geometry': box(bounds[0], bounds[1], bounds[2], bounds[3])},ignore_index=True)\n",
      "C:\\Users\\alexsaunders\\AppData\\Local\\Temp\\ipykernel_13448\\724766185.py:13: FutureWarning: The frame.append method is deprecated and will be removed from pandas in a future version. Use pandas.concat instead.\n",
      "  dfScenes = dfScenes.append({'location':strFilePath, 'geometry': box(bounds[0], bounds[1], bounds[2], bounds[3])},ignore_index=True)\n",
      "C:\\Users\\alexsaunders\\AppData\\Local\\Temp\\ipykernel_13448\\724766185.py:13: FutureWarning: The frame.append method is deprecated and will be removed from pandas in a future version. Use pandas.concat instead.\n",
      "  dfScenes = dfScenes.append({'location':strFilePath, 'geometry': box(bounds[0], bounds[1], bounds[2], bounds[3])},ignore_index=True)\n",
      "C:\\Users\\alexsaunders\\AppData\\Local\\Temp\\ipykernel_13448\\724766185.py:13: FutureWarning: The frame.append method is deprecated and will be removed from pandas in a future version. Use pandas.concat instead.\n",
      "  dfScenes = dfScenes.append({'location':strFilePath, 'geometry': box(bounds[0], bounds[1], bounds[2], bounds[3])},ignore_index=True)\n"
     ]
    },
    {
     "name": "stdout",
     "output_type": "stream",
     "text": [
      "processing file 497/933\r"
     ]
    },
    {
     "name": "stderr",
     "output_type": "stream",
     "text": [
      "C:\\Users\\alexsaunders\\AppData\\Local\\Temp\\ipykernel_13448\\724766185.py:13: FutureWarning: The frame.append method is deprecated and will be removed from pandas in a future version. Use pandas.concat instead.\n",
      "  dfScenes = dfScenes.append({'location':strFilePath, 'geometry': box(bounds[0], bounds[1], bounds[2], bounds[3])},ignore_index=True)\n",
      "C:\\Users\\alexsaunders\\AppData\\Local\\Temp\\ipykernel_13448\\724766185.py:13: FutureWarning: The frame.append method is deprecated and will be removed from pandas in a future version. Use pandas.concat instead.\n",
      "  dfScenes = dfScenes.append({'location':strFilePath, 'geometry': box(bounds[0], bounds[1], bounds[2], bounds[3])},ignore_index=True)\n",
      "C:\\Users\\alexsaunders\\AppData\\Local\\Temp\\ipykernel_13448\\724766185.py:13: FutureWarning: The frame.append method is deprecated and will be removed from pandas in a future version. Use pandas.concat instead.\n",
      "  dfScenes = dfScenes.append({'location':strFilePath, 'geometry': box(bounds[0], bounds[1], bounds[2], bounds[3])},ignore_index=True)\n",
      "C:\\Users\\alexsaunders\\AppData\\Local\\Temp\\ipykernel_13448\\724766185.py:13: FutureWarning: The frame.append method is deprecated and will be removed from pandas in a future version. Use pandas.concat instead.\n",
      "  dfScenes = dfScenes.append({'location':strFilePath, 'geometry': box(bounds[0], bounds[1], bounds[2], bounds[3])},ignore_index=True)\n",
      "C:\\Users\\alexsaunders\\AppData\\Local\\Temp\\ipykernel_13448\\724766185.py:13: FutureWarning: The frame.append method is deprecated and will be removed from pandas in a future version. Use pandas.concat instead.\n",
      "  dfScenes = dfScenes.append({'location':strFilePath, 'geometry': box(bounds[0], bounds[1], bounds[2], bounds[3])},ignore_index=True)\n",
      "C:\\Users\\alexsaunders\\AppData\\Local\\Temp\\ipykernel_13448\\724766185.py:13: FutureWarning: The frame.append method is deprecated and will be removed from pandas in a future version. Use pandas.concat instead.\n",
      "  dfScenes = dfScenes.append({'location':strFilePath, 'geometry': box(bounds[0], bounds[1], bounds[2], bounds[3])},ignore_index=True)\n"
     ]
    },
    {
     "name": "stdout",
     "output_type": "stream",
     "text": [
      "processing file 503/933\r"
     ]
    },
    {
     "name": "stderr",
     "output_type": "stream",
     "text": [
      "C:\\Users\\alexsaunders\\AppData\\Local\\Temp\\ipykernel_13448\\724766185.py:13: FutureWarning: The frame.append method is deprecated and will be removed from pandas in a future version. Use pandas.concat instead.\n",
      "  dfScenes = dfScenes.append({'location':strFilePath, 'geometry': box(bounds[0], bounds[1], bounds[2], bounds[3])},ignore_index=True)\n",
      "C:\\Users\\alexsaunders\\AppData\\Local\\Temp\\ipykernel_13448\\724766185.py:13: FutureWarning: The frame.append method is deprecated and will be removed from pandas in a future version. Use pandas.concat instead.\n",
      "  dfScenes = dfScenes.append({'location':strFilePath, 'geometry': box(bounds[0], bounds[1], bounds[2], bounds[3])},ignore_index=True)\n",
      "C:\\Users\\alexsaunders\\AppData\\Local\\Temp\\ipykernel_13448\\724766185.py:13: FutureWarning: The frame.append method is deprecated and will be removed from pandas in a future version. Use pandas.concat instead.\n",
      "  dfScenes = dfScenes.append({'location':strFilePath, 'geometry': box(bounds[0], bounds[1], bounds[2], bounds[3])},ignore_index=True)\n",
      "C:\\Users\\alexsaunders\\AppData\\Local\\Temp\\ipykernel_13448\\724766185.py:13: FutureWarning: The frame.append method is deprecated and will be removed from pandas in a future version. Use pandas.concat instead.\n",
      "  dfScenes = dfScenes.append({'location':strFilePath, 'geometry': box(bounds[0], bounds[1], bounds[2], bounds[3])},ignore_index=True)\n",
      "C:\\Users\\alexsaunders\\AppData\\Local\\Temp\\ipykernel_13448\\724766185.py:13: FutureWarning: The frame.append method is deprecated and will be removed from pandas in a future version. Use pandas.concat instead.\n",
      "  dfScenes = dfScenes.append({'location':strFilePath, 'geometry': box(bounds[0], bounds[1], bounds[2], bounds[3])},ignore_index=True)\n"
     ]
    },
    {
     "name": "stdout",
     "output_type": "stream",
     "text": [
      "processing file 508/933\r"
     ]
    },
    {
     "name": "stderr",
     "output_type": "stream",
     "text": [
      "C:\\Users\\alexsaunders\\AppData\\Local\\Temp\\ipykernel_13448\\724766185.py:13: FutureWarning: The frame.append method is deprecated and will be removed from pandas in a future version. Use pandas.concat instead.\n",
      "  dfScenes = dfScenes.append({'location':strFilePath, 'geometry': box(bounds[0], bounds[1], bounds[2], bounds[3])},ignore_index=True)\n",
      "C:\\Users\\alexsaunders\\AppData\\Local\\Temp\\ipykernel_13448\\724766185.py:13: FutureWarning: The frame.append method is deprecated and will be removed from pandas in a future version. Use pandas.concat instead.\n",
      "  dfScenes = dfScenes.append({'location':strFilePath, 'geometry': box(bounds[0], bounds[1], bounds[2], bounds[3])},ignore_index=True)\n",
      "C:\\Users\\alexsaunders\\AppData\\Local\\Temp\\ipykernel_13448\\724766185.py:13: FutureWarning: The frame.append method is deprecated and will be removed from pandas in a future version. Use pandas.concat instead.\n",
      "  dfScenes = dfScenes.append({'location':strFilePath, 'geometry': box(bounds[0], bounds[1], bounds[2], bounds[3])},ignore_index=True)\n",
      "C:\\Users\\alexsaunders\\AppData\\Local\\Temp\\ipykernel_13448\\724766185.py:13: FutureWarning: The frame.append method is deprecated and will be removed from pandas in a future version. Use pandas.concat instead.\n",
      "  dfScenes = dfScenes.append({'location':strFilePath, 'geometry': box(bounds[0], bounds[1], bounds[2], bounds[3])},ignore_index=True)\n",
      "C:\\Users\\alexsaunders\\AppData\\Local\\Temp\\ipykernel_13448\\724766185.py:13: FutureWarning: The frame.append method is deprecated and will be removed from pandas in a future version. Use pandas.concat instead.\n",
      "  dfScenes = dfScenes.append({'location':strFilePath, 'geometry': box(bounds[0], bounds[1], bounds[2], bounds[3])},ignore_index=True)\n"
     ]
    },
    {
     "name": "stdout",
     "output_type": "stream",
     "text": [
      "processing file 513/933\r"
     ]
    },
    {
     "name": "stderr",
     "output_type": "stream",
     "text": [
      "C:\\Users\\alexsaunders\\AppData\\Local\\Temp\\ipykernel_13448\\724766185.py:13: FutureWarning: The frame.append method is deprecated and will be removed from pandas in a future version. Use pandas.concat instead.\n",
      "  dfScenes = dfScenes.append({'location':strFilePath, 'geometry': box(bounds[0], bounds[1], bounds[2], bounds[3])},ignore_index=True)\n",
      "C:\\Users\\alexsaunders\\AppData\\Local\\Temp\\ipykernel_13448\\724766185.py:13: FutureWarning: The frame.append method is deprecated and will be removed from pandas in a future version. Use pandas.concat instead.\n",
      "  dfScenes = dfScenes.append({'location':strFilePath, 'geometry': box(bounds[0], bounds[1], bounds[2], bounds[3])},ignore_index=True)\n",
      "C:\\Users\\alexsaunders\\AppData\\Local\\Temp\\ipykernel_13448\\724766185.py:13: FutureWarning: The frame.append method is deprecated and will be removed from pandas in a future version. Use pandas.concat instead.\n",
      "  dfScenes = dfScenes.append({'location':strFilePath, 'geometry': box(bounds[0], bounds[1], bounds[2], bounds[3])},ignore_index=True)\n",
      "C:\\Users\\alexsaunders\\AppData\\Local\\Temp\\ipykernel_13448\\724766185.py:13: FutureWarning: The frame.append method is deprecated and will be removed from pandas in a future version. Use pandas.concat instead.\n",
      "  dfScenes = dfScenes.append({'location':strFilePath, 'geometry': box(bounds[0], bounds[1], bounds[2], bounds[3])},ignore_index=True)\n",
      "C:\\Users\\alexsaunders\\AppData\\Local\\Temp\\ipykernel_13448\\724766185.py:13: FutureWarning: The frame.append method is deprecated and will be removed from pandas in a future version. Use pandas.concat instead.\n",
      "  dfScenes = dfScenes.append({'location':strFilePath, 'geometry': box(bounds[0], bounds[1], bounds[2], bounds[3])},ignore_index=True)\n",
      "C:\\Users\\alexsaunders\\AppData\\Local\\Temp\\ipykernel_13448\\724766185.py:13: FutureWarning: The frame.append method is deprecated and will be removed from pandas in a future version. Use pandas.concat instead.\n",
      "  dfScenes = dfScenes.append({'location':strFilePath, 'geometry': box(bounds[0], bounds[1], bounds[2], bounds[3])},ignore_index=True)\n"
     ]
    },
    {
     "name": "stdout",
     "output_type": "stream",
     "text": [
      "processing file 519/933\r"
     ]
    },
    {
     "name": "stderr",
     "output_type": "stream",
     "text": [
      "C:\\Users\\alexsaunders\\AppData\\Local\\Temp\\ipykernel_13448\\724766185.py:13: FutureWarning: The frame.append method is deprecated and will be removed from pandas in a future version. Use pandas.concat instead.\n",
      "  dfScenes = dfScenes.append({'location':strFilePath, 'geometry': box(bounds[0], bounds[1], bounds[2], bounds[3])},ignore_index=True)\n",
      "C:\\Users\\alexsaunders\\AppData\\Local\\Temp\\ipykernel_13448\\724766185.py:13: FutureWarning: The frame.append method is deprecated and will be removed from pandas in a future version. Use pandas.concat instead.\n",
      "  dfScenes = dfScenes.append({'location':strFilePath, 'geometry': box(bounds[0], bounds[1], bounds[2], bounds[3])},ignore_index=True)\n",
      "C:\\Users\\alexsaunders\\AppData\\Local\\Temp\\ipykernel_13448\\724766185.py:13: FutureWarning: The frame.append method is deprecated and will be removed from pandas in a future version. Use pandas.concat instead.\n",
      "  dfScenes = dfScenes.append({'location':strFilePath, 'geometry': box(bounds[0], bounds[1], bounds[2], bounds[3])},ignore_index=True)\n",
      "C:\\Users\\alexsaunders\\AppData\\Local\\Temp\\ipykernel_13448\\724766185.py:13: FutureWarning: The frame.append method is deprecated and will be removed from pandas in a future version. Use pandas.concat instead.\n",
      "  dfScenes = dfScenes.append({'location':strFilePath, 'geometry': box(bounds[0], bounds[1], bounds[2], bounds[3])},ignore_index=True)\n",
      "C:\\Users\\alexsaunders\\AppData\\Local\\Temp\\ipykernel_13448\\724766185.py:13: FutureWarning: The frame.append method is deprecated and will be removed from pandas in a future version. Use pandas.concat instead.\n",
      "  dfScenes = dfScenes.append({'location':strFilePath, 'geometry': box(bounds[0], bounds[1], bounds[2], bounds[3])},ignore_index=True)\n",
      "C:\\Users\\alexsaunders\\AppData\\Local\\Temp\\ipykernel_13448\\724766185.py:13: FutureWarning: The frame.append method is deprecated and will be removed from pandas in a future version. Use pandas.concat instead.\n",
      "  dfScenes = dfScenes.append({'location':strFilePath, 'geometry': box(bounds[0], bounds[1], bounds[2], bounds[3])},ignore_index=True)\n"
     ]
    },
    {
     "name": "stdout",
     "output_type": "stream",
     "text": [
      "processing file 525/933\r"
     ]
    },
    {
     "name": "stderr",
     "output_type": "stream",
     "text": [
      "C:\\Users\\alexsaunders\\AppData\\Local\\Temp\\ipykernel_13448\\724766185.py:13: FutureWarning: The frame.append method is deprecated and will be removed from pandas in a future version. Use pandas.concat instead.\n",
      "  dfScenes = dfScenes.append({'location':strFilePath, 'geometry': box(bounds[0], bounds[1], bounds[2], bounds[3])},ignore_index=True)\n",
      "C:\\Users\\alexsaunders\\AppData\\Local\\Temp\\ipykernel_13448\\724766185.py:13: FutureWarning: The frame.append method is deprecated and will be removed from pandas in a future version. Use pandas.concat instead.\n",
      "  dfScenes = dfScenes.append({'location':strFilePath, 'geometry': box(bounds[0], bounds[1], bounds[2], bounds[3])},ignore_index=True)\n",
      "C:\\Users\\alexsaunders\\AppData\\Local\\Temp\\ipykernel_13448\\724766185.py:13: FutureWarning: The frame.append method is deprecated and will be removed from pandas in a future version. Use pandas.concat instead.\n",
      "  dfScenes = dfScenes.append({'location':strFilePath, 'geometry': box(bounds[0], bounds[1], bounds[2], bounds[3])},ignore_index=True)\n",
      "C:\\Users\\alexsaunders\\AppData\\Local\\Temp\\ipykernel_13448\\724766185.py:13: FutureWarning: The frame.append method is deprecated and will be removed from pandas in a future version. Use pandas.concat instead.\n",
      "  dfScenes = dfScenes.append({'location':strFilePath, 'geometry': box(bounds[0], bounds[1], bounds[2], bounds[3])},ignore_index=True)\n",
      "C:\\Users\\alexsaunders\\AppData\\Local\\Temp\\ipykernel_13448\\724766185.py:13: FutureWarning: The frame.append method is deprecated and will be removed from pandas in a future version. Use pandas.concat instead.\n",
      "  dfScenes = dfScenes.append({'location':strFilePath, 'geometry': box(bounds[0], bounds[1], bounds[2], bounds[3])},ignore_index=True)\n",
      "C:\\Users\\alexsaunders\\AppData\\Local\\Temp\\ipykernel_13448\\724766185.py:13: FutureWarning: The frame.append method is deprecated and will be removed from pandas in a future version. Use pandas.concat instead.\n",
      "  dfScenes = dfScenes.append({'location':strFilePath, 'geometry': box(bounds[0], bounds[1], bounds[2], bounds[3])},ignore_index=True)\n"
     ]
    },
    {
     "name": "stdout",
     "output_type": "stream",
     "text": [
      "processing file 531/933\r"
     ]
    },
    {
     "name": "stderr",
     "output_type": "stream",
     "text": [
      "C:\\Users\\alexsaunders\\AppData\\Local\\Temp\\ipykernel_13448\\724766185.py:13: FutureWarning: The frame.append method is deprecated and will be removed from pandas in a future version. Use pandas.concat instead.\n",
      "  dfScenes = dfScenes.append({'location':strFilePath, 'geometry': box(bounds[0], bounds[1], bounds[2], bounds[3])},ignore_index=True)\n",
      "C:\\Users\\alexsaunders\\AppData\\Local\\Temp\\ipykernel_13448\\724766185.py:13: FutureWarning: The frame.append method is deprecated and will be removed from pandas in a future version. Use pandas.concat instead.\n",
      "  dfScenes = dfScenes.append({'location':strFilePath, 'geometry': box(bounds[0], bounds[1], bounds[2], bounds[3])},ignore_index=True)\n",
      "C:\\Users\\alexsaunders\\AppData\\Local\\Temp\\ipykernel_13448\\724766185.py:13: FutureWarning: The frame.append method is deprecated and will be removed from pandas in a future version. Use pandas.concat instead.\n",
      "  dfScenes = dfScenes.append({'location':strFilePath, 'geometry': box(bounds[0], bounds[1], bounds[2], bounds[3])},ignore_index=True)\n",
      "C:\\Users\\alexsaunders\\AppData\\Local\\Temp\\ipykernel_13448\\724766185.py:13: FutureWarning: The frame.append method is deprecated and will be removed from pandas in a future version. Use pandas.concat instead.\n",
      "  dfScenes = dfScenes.append({'location':strFilePath, 'geometry': box(bounds[0], bounds[1], bounds[2], bounds[3])},ignore_index=True)\n",
      "C:\\Users\\alexsaunders\\AppData\\Local\\Temp\\ipykernel_13448\\724766185.py:13: FutureWarning: The frame.append method is deprecated and will be removed from pandas in a future version. Use pandas.concat instead.\n",
      "  dfScenes = dfScenes.append({'location':strFilePath, 'geometry': box(bounds[0], bounds[1], bounds[2], bounds[3])},ignore_index=True)\n"
     ]
    },
    {
     "name": "stdout",
     "output_type": "stream",
     "text": [
      "processing file 536/933\r"
     ]
    },
    {
     "name": "stderr",
     "output_type": "stream",
     "text": [
      "C:\\Users\\alexsaunders\\AppData\\Local\\Temp\\ipykernel_13448\\724766185.py:13: FutureWarning: The frame.append method is deprecated and will be removed from pandas in a future version. Use pandas.concat instead.\n",
      "  dfScenes = dfScenes.append({'location':strFilePath, 'geometry': box(bounds[0], bounds[1], bounds[2], bounds[3])},ignore_index=True)\n",
      "C:\\Users\\alexsaunders\\AppData\\Local\\Temp\\ipykernel_13448\\724766185.py:13: FutureWarning: The frame.append method is deprecated and will be removed from pandas in a future version. Use pandas.concat instead.\n",
      "  dfScenes = dfScenes.append({'location':strFilePath, 'geometry': box(bounds[0], bounds[1], bounds[2], bounds[3])},ignore_index=True)\n",
      "C:\\Users\\alexsaunders\\AppData\\Local\\Temp\\ipykernel_13448\\724766185.py:13: FutureWarning: The frame.append method is deprecated and will be removed from pandas in a future version. Use pandas.concat instead.\n",
      "  dfScenes = dfScenes.append({'location':strFilePath, 'geometry': box(bounds[0], bounds[1], bounds[2], bounds[3])},ignore_index=True)\n",
      "C:\\Users\\alexsaunders\\AppData\\Local\\Temp\\ipykernel_13448\\724766185.py:13: FutureWarning: The frame.append method is deprecated and will be removed from pandas in a future version. Use pandas.concat instead.\n",
      "  dfScenes = dfScenes.append({'location':strFilePath, 'geometry': box(bounds[0], bounds[1], bounds[2], bounds[3])},ignore_index=True)\n",
      "C:\\Users\\alexsaunders\\AppData\\Local\\Temp\\ipykernel_13448\\724766185.py:13: FutureWarning: The frame.append method is deprecated and will be removed from pandas in a future version. Use pandas.concat instead.\n",
      "  dfScenes = dfScenes.append({'location':strFilePath, 'geometry': box(bounds[0], bounds[1], bounds[2], bounds[3])},ignore_index=True)\n"
     ]
    },
    {
     "name": "stdout",
     "output_type": "stream",
     "text": [
      "processing file 541/933\r"
     ]
    },
    {
     "name": "stderr",
     "output_type": "stream",
     "text": [
      "C:\\Users\\alexsaunders\\AppData\\Local\\Temp\\ipykernel_13448\\724766185.py:13: FutureWarning: The frame.append method is deprecated and will be removed from pandas in a future version. Use pandas.concat instead.\n",
      "  dfScenes = dfScenes.append({'location':strFilePath, 'geometry': box(bounds[0], bounds[1], bounds[2], bounds[3])},ignore_index=True)\n",
      "C:\\Users\\alexsaunders\\AppData\\Local\\Temp\\ipykernel_13448\\724766185.py:13: FutureWarning: The frame.append method is deprecated and will be removed from pandas in a future version. Use pandas.concat instead.\n",
      "  dfScenes = dfScenes.append({'location':strFilePath, 'geometry': box(bounds[0], bounds[1], bounds[2], bounds[3])},ignore_index=True)\n",
      "C:\\Users\\alexsaunders\\AppData\\Local\\Temp\\ipykernel_13448\\724766185.py:13: FutureWarning: The frame.append method is deprecated and will be removed from pandas in a future version. Use pandas.concat instead.\n",
      "  dfScenes = dfScenes.append({'location':strFilePath, 'geometry': box(bounds[0], bounds[1], bounds[2], bounds[3])},ignore_index=True)\n",
      "C:\\Users\\alexsaunders\\AppData\\Local\\Temp\\ipykernel_13448\\724766185.py:13: FutureWarning: The frame.append method is deprecated and will be removed from pandas in a future version. Use pandas.concat instead.\n",
      "  dfScenes = dfScenes.append({'location':strFilePath, 'geometry': box(bounds[0], bounds[1], bounds[2], bounds[3])},ignore_index=True)\n",
      "C:\\Users\\alexsaunders\\AppData\\Local\\Temp\\ipykernel_13448\\724766185.py:13: FutureWarning: The frame.append method is deprecated and will be removed from pandas in a future version. Use pandas.concat instead.\n",
      "  dfScenes = dfScenes.append({'location':strFilePath, 'geometry': box(bounds[0], bounds[1], bounds[2], bounds[3])},ignore_index=True)\n"
     ]
    },
    {
     "name": "stdout",
     "output_type": "stream",
     "text": [
      "processing file 546/933\r"
     ]
    },
    {
     "name": "stderr",
     "output_type": "stream",
     "text": [
      "C:\\Users\\alexsaunders\\AppData\\Local\\Temp\\ipykernel_13448\\724766185.py:13: FutureWarning: The frame.append method is deprecated and will be removed from pandas in a future version. Use pandas.concat instead.\n",
      "  dfScenes = dfScenes.append({'location':strFilePath, 'geometry': box(bounds[0], bounds[1], bounds[2], bounds[3])},ignore_index=True)\n",
      "C:\\Users\\alexsaunders\\AppData\\Local\\Temp\\ipykernel_13448\\724766185.py:13: FutureWarning: The frame.append method is deprecated and will be removed from pandas in a future version. Use pandas.concat instead.\n",
      "  dfScenes = dfScenes.append({'location':strFilePath, 'geometry': box(bounds[0], bounds[1], bounds[2], bounds[3])},ignore_index=True)\n",
      "C:\\Users\\alexsaunders\\AppData\\Local\\Temp\\ipykernel_13448\\724766185.py:13: FutureWarning: The frame.append method is deprecated and will be removed from pandas in a future version. Use pandas.concat instead.\n",
      "  dfScenes = dfScenes.append({'location':strFilePath, 'geometry': box(bounds[0], bounds[1], bounds[2], bounds[3])},ignore_index=True)\n",
      "C:\\Users\\alexsaunders\\AppData\\Local\\Temp\\ipykernel_13448\\724766185.py:13: FutureWarning: The frame.append method is deprecated and will be removed from pandas in a future version. Use pandas.concat instead.\n",
      "  dfScenes = dfScenes.append({'location':strFilePath, 'geometry': box(bounds[0], bounds[1], bounds[2], bounds[3])},ignore_index=True)\n"
     ]
    },
    {
     "name": "stdout",
     "output_type": "stream",
     "text": [
      "processing file 550/933\r"
     ]
    },
    {
     "name": "stderr",
     "output_type": "stream",
     "text": [
      "C:\\Users\\alexsaunders\\AppData\\Local\\Temp\\ipykernel_13448\\724766185.py:13: FutureWarning: The frame.append method is deprecated and will be removed from pandas in a future version. Use pandas.concat instead.\n",
      "  dfScenes = dfScenes.append({'location':strFilePath, 'geometry': box(bounds[0], bounds[1], bounds[2], bounds[3])},ignore_index=True)\n",
      "C:\\Users\\alexsaunders\\AppData\\Local\\Temp\\ipykernel_13448\\724766185.py:13: FutureWarning: The frame.append method is deprecated and will be removed from pandas in a future version. Use pandas.concat instead.\n",
      "  dfScenes = dfScenes.append({'location':strFilePath, 'geometry': box(bounds[0], bounds[1], bounds[2], bounds[3])},ignore_index=True)\n",
      "C:\\Users\\alexsaunders\\AppData\\Local\\Temp\\ipykernel_13448\\724766185.py:13: FutureWarning: The frame.append method is deprecated and will be removed from pandas in a future version. Use pandas.concat instead.\n",
      "  dfScenes = dfScenes.append({'location':strFilePath, 'geometry': box(bounds[0], bounds[1], bounds[2], bounds[3])},ignore_index=True)\n",
      "C:\\Users\\alexsaunders\\AppData\\Local\\Temp\\ipykernel_13448\\724766185.py:13: FutureWarning: The frame.append method is deprecated and will be removed from pandas in a future version. Use pandas.concat instead.\n",
      "  dfScenes = dfScenes.append({'location':strFilePath, 'geometry': box(bounds[0], bounds[1], bounds[2], bounds[3])},ignore_index=True)\n",
      "C:\\Users\\alexsaunders\\AppData\\Local\\Temp\\ipykernel_13448\\724766185.py:13: FutureWarning: The frame.append method is deprecated and will be removed from pandas in a future version. Use pandas.concat instead.\n",
      "  dfScenes = dfScenes.append({'location':strFilePath, 'geometry': box(bounds[0], bounds[1], bounds[2], bounds[3])},ignore_index=True)\n"
     ]
    },
    {
     "name": "stdout",
     "output_type": "stream",
     "text": [
      "processing file 555/933\r"
     ]
    },
    {
     "name": "stderr",
     "output_type": "stream",
     "text": [
      "C:\\Users\\alexsaunders\\AppData\\Local\\Temp\\ipykernel_13448\\724766185.py:13: FutureWarning: The frame.append method is deprecated and will be removed from pandas in a future version. Use pandas.concat instead.\n",
      "  dfScenes = dfScenes.append({'location':strFilePath, 'geometry': box(bounds[0], bounds[1], bounds[2], bounds[3])},ignore_index=True)\n",
      "C:\\Users\\alexsaunders\\AppData\\Local\\Temp\\ipykernel_13448\\724766185.py:13: FutureWarning: The frame.append method is deprecated and will be removed from pandas in a future version. Use pandas.concat instead.\n",
      "  dfScenes = dfScenes.append({'location':strFilePath, 'geometry': box(bounds[0], bounds[1], bounds[2], bounds[3])},ignore_index=True)\n",
      "C:\\Users\\alexsaunders\\AppData\\Local\\Temp\\ipykernel_13448\\724766185.py:13: FutureWarning: The frame.append method is deprecated and will be removed from pandas in a future version. Use pandas.concat instead.\n",
      "  dfScenes = dfScenes.append({'location':strFilePath, 'geometry': box(bounds[0], bounds[1], bounds[2], bounds[3])},ignore_index=True)\n",
      "C:\\Users\\alexsaunders\\AppData\\Local\\Temp\\ipykernel_13448\\724766185.py:13: FutureWarning: The frame.append method is deprecated and will be removed from pandas in a future version. Use pandas.concat instead.\n",
      "  dfScenes = dfScenes.append({'location':strFilePath, 'geometry': box(bounds[0], bounds[1], bounds[2], bounds[3])},ignore_index=True)\n",
      "C:\\Users\\alexsaunders\\AppData\\Local\\Temp\\ipykernel_13448\\724766185.py:13: FutureWarning: The frame.append method is deprecated and will be removed from pandas in a future version. Use pandas.concat instead.\n",
      "  dfScenes = dfScenes.append({'location':strFilePath, 'geometry': box(bounds[0], bounds[1], bounds[2], bounds[3])},ignore_index=True)\n"
     ]
    },
    {
     "name": "stdout",
     "output_type": "stream",
     "text": [
      "processing file 560/933\r"
     ]
    },
    {
     "name": "stderr",
     "output_type": "stream",
     "text": [
      "C:\\Users\\alexsaunders\\AppData\\Local\\Temp\\ipykernel_13448\\724766185.py:13: FutureWarning: The frame.append method is deprecated and will be removed from pandas in a future version. Use pandas.concat instead.\n",
      "  dfScenes = dfScenes.append({'location':strFilePath, 'geometry': box(bounds[0], bounds[1], bounds[2], bounds[3])},ignore_index=True)\n",
      "C:\\Users\\alexsaunders\\AppData\\Local\\Temp\\ipykernel_13448\\724766185.py:13: FutureWarning: The frame.append method is deprecated and will be removed from pandas in a future version. Use pandas.concat instead.\n",
      "  dfScenes = dfScenes.append({'location':strFilePath, 'geometry': box(bounds[0], bounds[1], bounds[2], bounds[3])},ignore_index=True)\n",
      "C:\\Users\\alexsaunders\\AppData\\Local\\Temp\\ipykernel_13448\\724766185.py:13: FutureWarning: The frame.append method is deprecated and will be removed from pandas in a future version. Use pandas.concat instead.\n",
      "  dfScenes = dfScenes.append({'location':strFilePath, 'geometry': box(bounds[0], bounds[1], bounds[2], bounds[3])},ignore_index=True)\n",
      "C:\\Users\\alexsaunders\\AppData\\Local\\Temp\\ipykernel_13448\\724766185.py:13: FutureWarning: The frame.append method is deprecated and will be removed from pandas in a future version. Use pandas.concat instead.\n",
      "  dfScenes = dfScenes.append({'location':strFilePath, 'geometry': box(bounds[0], bounds[1], bounds[2], bounds[3])},ignore_index=True)\n",
      "C:\\Users\\alexsaunders\\AppData\\Local\\Temp\\ipykernel_13448\\724766185.py:13: FutureWarning: The frame.append method is deprecated and will be removed from pandas in a future version. Use pandas.concat instead.\n",
      "  dfScenes = dfScenes.append({'location':strFilePath, 'geometry': box(bounds[0], bounds[1], bounds[2], bounds[3])},ignore_index=True)\n"
     ]
    },
    {
     "name": "stdout",
     "output_type": "stream",
     "text": [
      "processing file 565/933\r"
     ]
    },
    {
     "name": "stderr",
     "output_type": "stream",
     "text": [
      "C:\\Users\\alexsaunders\\AppData\\Local\\Temp\\ipykernel_13448\\724766185.py:13: FutureWarning: The frame.append method is deprecated and will be removed from pandas in a future version. Use pandas.concat instead.\n",
      "  dfScenes = dfScenes.append({'location':strFilePath, 'geometry': box(bounds[0], bounds[1], bounds[2], bounds[3])},ignore_index=True)\n",
      "C:\\Users\\alexsaunders\\AppData\\Local\\Temp\\ipykernel_13448\\724766185.py:13: FutureWarning: The frame.append method is deprecated and will be removed from pandas in a future version. Use pandas.concat instead.\n",
      "  dfScenes = dfScenes.append({'location':strFilePath, 'geometry': box(bounds[0], bounds[1], bounds[2], bounds[3])},ignore_index=True)\n",
      "C:\\Users\\alexsaunders\\AppData\\Local\\Temp\\ipykernel_13448\\724766185.py:13: FutureWarning: The frame.append method is deprecated and will be removed from pandas in a future version. Use pandas.concat instead.\n",
      "  dfScenes = dfScenes.append({'location':strFilePath, 'geometry': box(bounds[0], bounds[1], bounds[2], bounds[3])},ignore_index=True)\n",
      "C:\\Users\\alexsaunders\\AppData\\Local\\Temp\\ipykernel_13448\\724766185.py:13: FutureWarning: The frame.append method is deprecated and will be removed from pandas in a future version. Use pandas.concat instead.\n",
      "  dfScenes = dfScenes.append({'location':strFilePath, 'geometry': box(bounds[0], bounds[1], bounds[2], bounds[3])},ignore_index=True)\n",
      "C:\\Users\\alexsaunders\\AppData\\Local\\Temp\\ipykernel_13448\\724766185.py:13: FutureWarning: The frame.append method is deprecated and will be removed from pandas in a future version. Use pandas.concat instead.\n",
      "  dfScenes = dfScenes.append({'location':strFilePath, 'geometry': box(bounds[0], bounds[1], bounds[2], bounds[3])},ignore_index=True)\n"
     ]
    },
    {
     "name": "stdout",
     "output_type": "stream",
     "text": [
      "processing file 570/933\r"
     ]
    },
    {
     "name": "stderr",
     "output_type": "stream",
     "text": [
      "C:\\Users\\alexsaunders\\AppData\\Local\\Temp\\ipykernel_13448\\724766185.py:13: FutureWarning: The frame.append method is deprecated and will be removed from pandas in a future version. Use pandas.concat instead.\n",
      "  dfScenes = dfScenes.append({'location':strFilePath, 'geometry': box(bounds[0], bounds[1], bounds[2], bounds[3])},ignore_index=True)\n",
      "C:\\Users\\alexsaunders\\AppData\\Local\\Temp\\ipykernel_13448\\724766185.py:13: FutureWarning: The frame.append method is deprecated and will be removed from pandas in a future version. Use pandas.concat instead.\n",
      "  dfScenes = dfScenes.append({'location':strFilePath, 'geometry': box(bounds[0], bounds[1], bounds[2], bounds[3])},ignore_index=True)\n",
      "C:\\Users\\alexsaunders\\AppData\\Local\\Temp\\ipykernel_13448\\724766185.py:13: FutureWarning: The frame.append method is deprecated and will be removed from pandas in a future version. Use pandas.concat instead.\n",
      "  dfScenes = dfScenes.append({'location':strFilePath, 'geometry': box(bounds[0], bounds[1], bounds[2], bounds[3])},ignore_index=True)\n",
      "C:\\Users\\alexsaunders\\AppData\\Local\\Temp\\ipykernel_13448\\724766185.py:13: FutureWarning: The frame.append method is deprecated and will be removed from pandas in a future version. Use pandas.concat instead.\n",
      "  dfScenes = dfScenes.append({'location':strFilePath, 'geometry': box(bounds[0], bounds[1], bounds[2], bounds[3])},ignore_index=True)\n",
      "C:\\Users\\alexsaunders\\AppData\\Local\\Temp\\ipykernel_13448\\724766185.py:13: FutureWarning: The frame.append method is deprecated and will be removed from pandas in a future version. Use pandas.concat instead.\n",
      "  dfScenes = dfScenes.append({'location':strFilePath, 'geometry': box(bounds[0], bounds[1], bounds[2], bounds[3])},ignore_index=True)\n"
     ]
    },
    {
     "name": "stdout",
     "output_type": "stream",
     "text": [
      "processing file 575/933\r"
     ]
    },
    {
     "name": "stderr",
     "output_type": "stream",
     "text": [
      "C:\\Users\\alexsaunders\\AppData\\Local\\Temp\\ipykernel_13448\\724766185.py:13: FutureWarning: The frame.append method is deprecated and will be removed from pandas in a future version. Use pandas.concat instead.\n",
      "  dfScenes = dfScenes.append({'location':strFilePath, 'geometry': box(bounds[0], bounds[1], bounds[2], bounds[3])},ignore_index=True)\n",
      "C:\\Users\\alexsaunders\\AppData\\Local\\Temp\\ipykernel_13448\\724766185.py:13: FutureWarning: The frame.append method is deprecated and will be removed from pandas in a future version. Use pandas.concat instead.\n",
      "  dfScenes = dfScenes.append({'location':strFilePath, 'geometry': box(bounds[0], bounds[1], bounds[2], bounds[3])},ignore_index=True)\n",
      "C:\\Users\\alexsaunders\\AppData\\Local\\Temp\\ipykernel_13448\\724766185.py:13: FutureWarning: The frame.append method is deprecated and will be removed from pandas in a future version. Use pandas.concat instead.\n",
      "  dfScenes = dfScenes.append({'location':strFilePath, 'geometry': box(bounds[0], bounds[1], bounds[2], bounds[3])},ignore_index=True)\n",
      "C:\\Users\\alexsaunders\\AppData\\Local\\Temp\\ipykernel_13448\\724766185.py:13: FutureWarning: The frame.append method is deprecated and will be removed from pandas in a future version. Use pandas.concat instead.\n",
      "  dfScenes = dfScenes.append({'location':strFilePath, 'geometry': box(bounds[0], bounds[1], bounds[2], bounds[3])},ignore_index=True)\n",
      "C:\\Users\\alexsaunders\\AppData\\Local\\Temp\\ipykernel_13448\\724766185.py:13: FutureWarning: The frame.append method is deprecated and will be removed from pandas in a future version. Use pandas.concat instead.\n",
      "  dfScenes = dfScenes.append({'location':strFilePath, 'geometry': box(bounds[0], bounds[1], bounds[2], bounds[3])},ignore_index=True)\n"
     ]
    },
    {
     "name": "stdout",
     "output_type": "stream",
     "text": [
      "processing file 580/933\r"
     ]
    },
    {
     "name": "stderr",
     "output_type": "stream",
     "text": [
      "C:\\Users\\alexsaunders\\AppData\\Local\\Temp\\ipykernel_13448\\724766185.py:13: FutureWarning: The frame.append method is deprecated and will be removed from pandas in a future version. Use pandas.concat instead.\n",
      "  dfScenes = dfScenes.append({'location':strFilePath, 'geometry': box(bounds[0], bounds[1], bounds[2], bounds[3])},ignore_index=True)\n",
      "C:\\Users\\alexsaunders\\AppData\\Local\\Temp\\ipykernel_13448\\724766185.py:13: FutureWarning: The frame.append method is deprecated and will be removed from pandas in a future version. Use pandas.concat instead.\n",
      "  dfScenes = dfScenes.append({'location':strFilePath, 'geometry': box(bounds[0], bounds[1], bounds[2], bounds[3])},ignore_index=True)\n",
      "C:\\Users\\alexsaunders\\AppData\\Local\\Temp\\ipykernel_13448\\724766185.py:13: FutureWarning: The frame.append method is deprecated and will be removed from pandas in a future version. Use pandas.concat instead.\n",
      "  dfScenes = dfScenes.append({'location':strFilePath, 'geometry': box(bounds[0], bounds[1], bounds[2], bounds[3])},ignore_index=True)\n",
      "C:\\Users\\alexsaunders\\AppData\\Local\\Temp\\ipykernel_13448\\724766185.py:13: FutureWarning: The frame.append method is deprecated and will be removed from pandas in a future version. Use pandas.concat instead.\n",
      "  dfScenes = dfScenes.append({'location':strFilePath, 'geometry': box(bounds[0], bounds[1], bounds[2], bounds[3])},ignore_index=True)\n",
      "C:\\Users\\alexsaunders\\AppData\\Local\\Temp\\ipykernel_13448\\724766185.py:13: FutureWarning: The frame.append method is deprecated and will be removed from pandas in a future version. Use pandas.concat instead.\n",
      "  dfScenes = dfScenes.append({'location':strFilePath, 'geometry': box(bounds[0], bounds[1], bounds[2], bounds[3])},ignore_index=True)\n"
     ]
    },
    {
     "name": "stdout",
     "output_type": "stream",
     "text": [
      "processing file 585/933\r"
     ]
    },
    {
     "name": "stderr",
     "output_type": "stream",
     "text": [
      "C:\\Users\\alexsaunders\\AppData\\Local\\Temp\\ipykernel_13448\\724766185.py:13: FutureWarning: The frame.append method is deprecated and will be removed from pandas in a future version. Use pandas.concat instead.\n",
      "  dfScenes = dfScenes.append({'location':strFilePath, 'geometry': box(bounds[0], bounds[1], bounds[2], bounds[3])},ignore_index=True)\n",
      "C:\\Users\\alexsaunders\\AppData\\Local\\Temp\\ipykernel_13448\\724766185.py:13: FutureWarning: The frame.append method is deprecated and will be removed from pandas in a future version. Use pandas.concat instead.\n",
      "  dfScenes = dfScenes.append({'location':strFilePath, 'geometry': box(bounds[0], bounds[1], bounds[2], bounds[3])},ignore_index=True)\n",
      "C:\\Users\\alexsaunders\\AppData\\Local\\Temp\\ipykernel_13448\\724766185.py:13: FutureWarning: The frame.append method is deprecated and will be removed from pandas in a future version. Use pandas.concat instead.\n",
      "  dfScenes = dfScenes.append({'location':strFilePath, 'geometry': box(bounds[0], bounds[1], bounds[2], bounds[3])},ignore_index=True)\n",
      "C:\\Users\\alexsaunders\\AppData\\Local\\Temp\\ipykernel_13448\\724766185.py:13: FutureWarning: The frame.append method is deprecated and will be removed from pandas in a future version. Use pandas.concat instead.\n",
      "  dfScenes = dfScenes.append({'location':strFilePath, 'geometry': box(bounds[0], bounds[1], bounds[2], bounds[3])},ignore_index=True)\n",
      "C:\\Users\\alexsaunders\\AppData\\Local\\Temp\\ipykernel_13448\\724766185.py:13: FutureWarning: The frame.append method is deprecated and will be removed from pandas in a future version. Use pandas.concat instead.\n",
      "  dfScenes = dfScenes.append({'location':strFilePath, 'geometry': box(bounds[0], bounds[1], bounds[2], bounds[3])},ignore_index=True)\n",
      "C:\\Users\\alexsaunders\\AppData\\Local\\Temp\\ipykernel_13448\\724766185.py:13: FutureWarning: The frame.append method is deprecated and will be removed from pandas in a future version. Use pandas.concat instead.\n",
      "  dfScenes = dfScenes.append({'location':strFilePath, 'geometry': box(bounds[0], bounds[1], bounds[2], bounds[3])},ignore_index=True)\n"
     ]
    },
    {
     "name": "stdout",
     "output_type": "stream",
     "text": [
      "processing file 591/933\r"
     ]
    },
    {
     "name": "stderr",
     "output_type": "stream",
     "text": [
      "C:\\Users\\alexsaunders\\AppData\\Local\\Temp\\ipykernel_13448\\724766185.py:13: FutureWarning: The frame.append method is deprecated and will be removed from pandas in a future version. Use pandas.concat instead.\n",
      "  dfScenes = dfScenes.append({'location':strFilePath, 'geometry': box(bounds[0], bounds[1], bounds[2], bounds[3])},ignore_index=True)\n",
      "C:\\Users\\alexsaunders\\AppData\\Local\\Temp\\ipykernel_13448\\724766185.py:13: FutureWarning: The frame.append method is deprecated and will be removed from pandas in a future version. Use pandas.concat instead.\n",
      "  dfScenes = dfScenes.append({'location':strFilePath, 'geometry': box(bounds[0], bounds[1], bounds[2], bounds[3])},ignore_index=True)\n",
      "C:\\Users\\alexsaunders\\AppData\\Local\\Temp\\ipykernel_13448\\724766185.py:13: FutureWarning: The frame.append method is deprecated and will be removed from pandas in a future version. Use pandas.concat instead.\n",
      "  dfScenes = dfScenes.append({'location':strFilePath, 'geometry': box(bounds[0], bounds[1], bounds[2], bounds[3])},ignore_index=True)\n",
      "C:\\Users\\alexsaunders\\AppData\\Local\\Temp\\ipykernel_13448\\724766185.py:13: FutureWarning: The frame.append method is deprecated and will be removed from pandas in a future version. Use pandas.concat instead.\n",
      "  dfScenes = dfScenes.append({'location':strFilePath, 'geometry': box(bounds[0], bounds[1], bounds[2], bounds[3])},ignore_index=True)\n",
      "C:\\Users\\alexsaunders\\AppData\\Local\\Temp\\ipykernel_13448\\724766185.py:13: FutureWarning: The frame.append method is deprecated and will be removed from pandas in a future version. Use pandas.concat instead.\n",
      "  dfScenes = dfScenes.append({'location':strFilePath, 'geometry': box(bounds[0], bounds[1], bounds[2], bounds[3])},ignore_index=True)\n",
      "C:\\Users\\alexsaunders\\AppData\\Local\\Temp\\ipykernel_13448\\724766185.py:13: FutureWarning: The frame.append method is deprecated and will be removed from pandas in a future version. Use pandas.concat instead.\n",
      "  dfScenes = dfScenes.append({'location':strFilePath, 'geometry': box(bounds[0], bounds[1], bounds[2], bounds[3])},ignore_index=True)\n"
     ]
    },
    {
     "name": "stdout",
     "output_type": "stream",
     "text": [
      "processing file 597/933\r"
     ]
    },
    {
     "name": "stderr",
     "output_type": "stream",
     "text": [
      "C:\\Users\\alexsaunders\\AppData\\Local\\Temp\\ipykernel_13448\\724766185.py:13: FutureWarning: The frame.append method is deprecated and will be removed from pandas in a future version. Use pandas.concat instead.\n",
      "  dfScenes = dfScenes.append({'location':strFilePath, 'geometry': box(bounds[0], bounds[1], bounds[2], bounds[3])},ignore_index=True)\n",
      "C:\\Users\\alexsaunders\\AppData\\Local\\Temp\\ipykernel_13448\\724766185.py:13: FutureWarning: The frame.append method is deprecated and will be removed from pandas in a future version. Use pandas.concat instead.\n",
      "  dfScenes = dfScenes.append({'location':strFilePath, 'geometry': box(bounds[0], bounds[1], bounds[2], bounds[3])},ignore_index=True)\n",
      "C:\\Users\\alexsaunders\\AppData\\Local\\Temp\\ipykernel_13448\\724766185.py:13: FutureWarning: The frame.append method is deprecated and will be removed from pandas in a future version. Use pandas.concat instead.\n",
      "  dfScenes = dfScenes.append({'location':strFilePath, 'geometry': box(bounds[0], bounds[1], bounds[2], bounds[3])},ignore_index=True)\n",
      "C:\\Users\\alexsaunders\\AppData\\Local\\Temp\\ipykernel_13448\\724766185.py:13: FutureWarning: The frame.append method is deprecated and will be removed from pandas in a future version. Use pandas.concat instead.\n",
      "  dfScenes = dfScenes.append({'location':strFilePath, 'geometry': box(bounds[0], bounds[1], bounds[2], bounds[3])},ignore_index=True)\n",
      "C:\\Users\\alexsaunders\\AppData\\Local\\Temp\\ipykernel_13448\\724766185.py:13: FutureWarning: The frame.append method is deprecated and will be removed from pandas in a future version. Use pandas.concat instead.\n",
      "  dfScenes = dfScenes.append({'location':strFilePath, 'geometry': box(bounds[0], bounds[1], bounds[2], bounds[3])},ignore_index=True)\n",
      "C:\\Users\\alexsaunders\\AppData\\Local\\Temp\\ipykernel_13448\\724766185.py:13: FutureWarning: The frame.append method is deprecated and will be removed from pandas in a future version. Use pandas.concat instead.\n",
      "  dfScenes = dfScenes.append({'location':strFilePath, 'geometry': box(bounds[0], bounds[1], bounds[2], bounds[3])},ignore_index=True)\n"
     ]
    },
    {
     "name": "stdout",
     "output_type": "stream",
     "text": [
      "processing file 603/933\r"
     ]
    },
    {
     "name": "stderr",
     "output_type": "stream",
     "text": [
      "C:\\Users\\alexsaunders\\AppData\\Local\\Temp\\ipykernel_13448\\724766185.py:13: FutureWarning: The frame.append method is deprecated and will be removed from pandas in a future version. Use pandas.concat instead.\n",
      "  dfScenes = dfScenes.append({'location':strFilePath, 'geometry': box(bounds[0], bounds[1], bounds[2], bounds[3])},ignore_index=True)\n",
      "C:\\Users\\alexsaunders\\AppData\\Local\\Temp\\ipykernel_13448\\724766185.py:13: FutureWarning: The frame.append method is deprecated and will be removed from pandas in a future version. Use pandas.concat instead.\n",
      "  dfScenes = dfScenes.append({'location':strFilePath, 'geometry': box(bounds[0], bounds[1], bounds[2], bounds[3])},ignore_index=True)\n",
      "C:\\Users\\alexsaunders\\AppData\\Local\\Temp\\ipykernel_13448\\724766185.py:13: FutureWarning: The frame.append method is deprecated and will be removed from pandas in a future version. Use pandas.concat instead.\n",
      "  dfScenes = dfScenes.append({'location':strFilePath, 'geometry': box(bounds[0], bounds[1], bounds[2], bounds[3])},ignore_index=True)\n",
      "C:\\Users\\alexsaunders\\AppData\\Local\\Temp\\ipykernel_13448\\724766185.py:13: FutureWarning: The frame.append method is deprecated and will be removed from pandas in a future version. Use pandas.concat instead.\n",
      "  dfScenes = dfScenes.append({'location':strFilePath, 'geometry': box(bounds[0], bounds[1], bounds[2], bounds[3])},ignore_index=True)\n",
      "C:\\Users\\alexsaunders\\AppData\\Local\\Temp\\ipykernel_13448\\724766185.py:13: FutureWarning: The frame.append method is deprecated and will be removed from pandas in a future version. Use pandas.concat instead.\n",
      "  dfScenes = dfScenes.append({'location':strFilePath, 'geometry': box(bounds[0], bounds[1], bounds[2], bounds[3])},ignore_index=True)\n",
      "C:\\Users\\alexsaunders\\AppData\\Local\\Temp\\ipykernel_13448\\724766185.py:13: FutureWarning: The frame.append method is deprecated and will be removed from pandas in a future version. Use pandas.concat instead.\n",
      "  dfScenes = dfScenes.append({'location':strFilePath, 'geometry': box(bounds[0], bounds[1], bounds[2], bounds[3])},ignore_index=True)\n"
     ]
    },
    {
     "name": "stdout",
     "output_type": "stream",
     "text": [
      "processing file 609/933\r"
     ]
    },
    {
     "name": "stderr",
     "output_type": "stream",
     "text": [
      "C:\\Users\\alexsaunders\\AppData\\Local\\Temp\\ipykernel_13448\\724766185.py:13: FutureWarning: The frame.append method is deprecated and will be removed from pandas in a future version. Use pandas.concat instead.\n",
      "  dfScenes = dfScenes.append({'location':strFilePath, 'geometry': box(bounds[0], bounds[1], bounds[2], bounds[3])},ignore_index=True)\n",
      "C:\\Users\\alexsaunders\\AppData\\Local\\Temp\\ipykernel_13448\\724766185.py:13: FutureWarning: The frame.append method is deprecated and will be removed from pandas in a future version. Use pandas.concat instead.\n",
      "  dfScenes = dfScenes.append({'location':strFilePath, 'geometry': box(bounds[0], bounds[1], bounds[2], bounds[3])},ignore_index=True)\n",
      "C:\\Users\\alexsaunders\\AppData\\Local\\Temp\\ipykernel_13448\\724766185.py:13: FutureWarning: The frame.append method is deprecated and will be removed from pandas in a future version. Use pandas.concat instead.\n",
      "  dfScenes = dfScenes.append({'location':strFilePath, 'geometry': box(bounds[0], bounds[1], bounds[2], bounds[3])},ignore_index=True)\n",
      "C:\\Users\\alexsaunders\\AppData\\Local\\Temp\\ipykernel_13448\\724766185.py:13: FutureWarning: The frame.append method is deprecated and will be removed from pandas in a future version. Use pandas.concat instead.\n",
      "  dfScenes = dfScenes.append({'location':strFilePath, 'geometry': box(bounds[0], bounds[1], bounds[2], bounds[3])},ignore_index=True)\n",
      "C:\\Users\\alexsaunders\\AppData\\Local\\Temp\\ipykernel_13448\\724766185.py:13: FutureWarning: The frame.append method is deprecated and will be removed from pandas in a future version. Use pandas.concat instead.\n",
      "  dfScenes = dfScenes.append({'location':strFilePath, 'geometry': box(bounds[0], bounds[1], bounds[2], bounds[3])},ignore_index=True)\n",
      "C:\\Users\\alexsaunders\\AppData\\Local\\Temp\\ipykernel_13448\\724766185.py:13: FutureWarning: The frame.append method is deprecated and will be removed from pandas in a future version. Use pandas.concat instead.\n",
      "  dfScenes = dfScenes.append({'location':strFilePath, 'geometry': box(bounds[0], bounds[1], bounds[2], bounds[3])},ignore_index=True)\n"
     ]
    },
    {
     "name": "stdout",
     "output_type": "stream",
     "text": [
      "processing file 615/933\r"
     ]
    },
    {
     "name": "stderr",
     "output_type": "stream",
     "text": [
      "C:\\Users\\alexsaunders\\AppData\\Local\\Temp\\ipykernel_13448\\724766185.py:13: FutureWarning: The frame.append method is deprecated and will be removed from pandas in a future version. Use pandas.concat instead.\n",
      "  dfScenes = dfScenes.append({'location':strFilePath, 'geometry': box(bounds[0], bounds[1], bounds[2], bounds[3])},ignore_index=True)\n",
      "C:\\Users\\alexsaunders\\AppData\\Local\\Temp\\ipykernel_13448\\724766185.py:13: FutureWarning: The frame.append method is deprecated and will be removed from pandas in a future version. Use pandas.concat instead.\n",
      "  dfScenes = dfScenes.append({'location':strFilePath, 'geometry': box(bounds[0], bounds[1], bounds[2], bounds[3])},ignore_index=True)\n",
      "C:\\Users\\alexsaunders\\AppData\\Local\\Temp\\ipykernel_13448\\724766185.py:13: FutureWarning: The frame.append method is deprecated and will be removed from pandas in a future version. Use pandas.concat instead.\n",
      "  dfScenes = dfScenes.append({'location':strFilePath, 'geometry': box(bounds[0], bounds[1], bounds[2], bounds[3])},ignore_index=True)\n",
      "C:\\Users\\alexsaunders\\AppData\\Local\\Temp\\ipykernel_13448\\724766185.py:13: FutureWarning: The frame.append method is deprecated and will be removed from pandas in a future version. Use pandas.concat instead.\n",
      "  dfScenes = dfScenes.append({'location':strFilePath, 'geometry': box(bounds[0], bounds[1], bounds[2], bounds[3])},ignore_index=True)\n",
      "C:\\Users\\alexsaunders\\AppData\\Local\\Temp\\ipykernel_13448\\724766185.py:13: FutureWarning: The frame.append method is deprecated and will be removed from pandas in a future version. Use pandas.concat instead.\n",
      "  dfScenes = dfScenes.append({'location':strFilePath, 'geometry': box(bounds[0], bounds[1], bounds[2], bounds[3])},ignore_index=True)\n"
     ]
    },
    {
     "name": "stdout",
     "output_type": "stream",
     "text": [
      "processing file 620/933\r"
     ]
    },
    {
     "name": "stderr",
     "output_type": "stream",
     "text": [
      "C:\\Users\\alexsaunders\\AppData\\Local\\Temp\\ipykernel_13448\\724766185.py:13: FutureWarning: The frame.append method is deprecated and will be removed from pandas in a future version. Use pandas.concat instead.\n",
      "  dfScenes = dfScenes.append({'location':strFilePath, 'geometry': box(bounds[0], bounds[1], bounds[2], bounds[3])},ignore_index=True)\n",
      "C:\\Users\\alexsaunders\\AppData\\Local\\Temp\\ipykernel_13448\\724766185.py:13: FutureWarning: The frame.append method is deprecated and will be removed from pandas in a future version. Use pandas.concat instead.\n",
      "  dfScenes = dfScenes.append({'location':strFilePath, 'geometry': box(bounds[0], bounds[1], bounds[2], bounds[3])},ignore_index=True)\n",
      "C:\\Users\\alexsaunders\\AppData\\Local\\Temp\\ipykernel_13448\\724766185.py:13: FutureWarning: The frame.append method is deprecated and will be removed from pandas in a future version. Use pandas.concat instead.\n",
      "  dfScenes = dfScenes.append({'location':strFilePath, 'geometry': box(bounds[0], bounds[1], bounds[2], bounds[3])},ignore_index=True)\n",
      "C:\\Users\\alexsaunders\\AppData\\Local\\Temp\\ipykernel_13448\\724766185.py:13: FutureWarning: The frame.append method is deprecated and will be removed from pandas in a future version. Use pandas.concat instead.\n",
      "  dfScenes = dfScenes.append({'location':strFilePath, 'geometry': box(bounds[0], bounds[1], bounds[2], bounds[3])},ignore_index=True)\n",
      "C:\\Users\\alexsaunders\\AppData\\Local\\Temp\\ipykernel_13448\\724766185.py:13: FutureWarning: The frame.append method is deprecated and will be removed from pandas in a future version. Use pandas.concat instead.\n",
      "  dfScenes = dfScenes.append({'location':strFilePath, 'geometry': box(bounds[0], bounds[1], bounds[2], bounds[3])},ignore_index=True)\n"
     ]
    },
    {
     "name": "stdout",
     "output_type": "stream",
     "text": [
      "processing file 625/933\r"
     ]
    },
    {
     "name": "stderr",
     "output_type": "stream",
     "text": [
      "C:\\Users\\alexsaunders\\AppData\\Local\\Temp\\ipykernel_13448\\724766185.py:13: FutureWarning: The frame.append method is deprecated and will be removed from pandas in a future version. Use pandas.concat instead.\n",
      "  dfScenes = dfScenes.append({'location':strFilePath, 'geometry': box(bounds[0], bounds[1], bounds[2], bounds[3])},ignore_index=True)\n",
      "C:\\Users\\alexsaunders\\AppData\\Local\\Temp\\ipykernel_13448\\724766185.py:13: FutureWarning: The frame.append method is deprecated and will be removed from pandas in a future version. Use pandas.concat instead.\n",
      "  dfScenes = dfScenes.append({'location':strFilePath, 'geometry': box(bounds[0], bounds[1], bounds[2], bounds[3])},ignore_index=True)\n",
      "C:\\Users\\alexsaunders\\AppData\\Local\\Temp\\ipykernel_13448\\724766185.py:13: FutureWarning: The frame.append method is deprecated and will be removed from pandas in a future version. Use pandas.concat instead.\n",
      "  dfScenes = dfScenes.append({'location':strFilePath, 'geometry': box(bounds[0], bounds[1], bounds[2], bounds[3])},ignore_index=True)\n",
      "C:\\Users\\alexsaunders\\AppData\\Local\\Temp\\ipykernel_13448\\724766185.py:13: FutureWarning: The frame.append method is deprecated and will be removed from pandas in a future version. Use pandas.concat instead.\n",
      "  dfScenes = dfScenes.append({'location':strFilePath, 'geometry': box(bounds[0], bounds[1], bounds[2], bounds[3])},ignore_index=True)\n",
      "C:\\Users\\alexsaunders\\AppData\\Local\\Temp\\ipykernel_13448\\724766185.py:13: FutureWarning: The frame.append method is deprecated and will be removed from pandas in a future version. Use pandas.concat instead.\n",
      "  dfScenes = dfScenes.append({'location':strFilePath, 'geometry': box(bounds[0], bounds[1], bounds[2], bounds[3])},ignore_index=True)\n"
     ]
    },
    {
     "name": "stdout",
     "output_type": "stream",
     "text": [
      "processing file 630/933\r"
     ]
    },
    {
     "name": "stderr",
     "output_type": "stream",
     "text": [
      "C:\\Users\\alexsaunders\\AppData\\Local\\Temp\\ipykernel_13448\\724766185.py:13: FutureWarning: The frame.append method is deprecated and will be removed from pandas in a future version. Use pandas.concat instead.\n",
      "  dfScenes = dfScenes.append({'location':strFilePath, 'geometry': box(bounds[0], bounds[1], bounds[2], bounds[3])},ignore_index=True)\n",
      "C:\\Users\\alexsaunders\\AppData\\Local\\Temp\\ipykernel_13448\\724766185.py:13: FutureWarning: The frame.append method is deprecated and will be removed from pandas in a future version. Use pandas.concat instead.\n",
      "  dfScenes = dfScenes.append({'location':strFilePath, 'geometry': box(bounds[0], bounds[1], bounds[2], bounds[3])},ignore_index=True)\n",
      "C:\\Users\\alexsaunders\\AppData\\Local\\Temp\\ipykernel_13448\\724766185.py:13: FutureWarning: The frame.append method is deprecated and will be removed from pandas in a future version. Use pandas.concat instead.\n",
      "  dfScenes = dfScenes.append({'location':strFilePath, 'geometry': box(bounds[0], bounds[1], bounds[2], bounds[3])},ignore_index=True)\n",
      "C:\\Users\\alexsaunders\\AppData\\Local\\Temp\\ipykernel_13448\\724766185.py:13: FutureWarning: The frame.append method is deprecated and will be removed from pandas in a future version. Use pandas.concat instead.\n",
      "  dfScenes = dfScenes.append({'location':strFilePath, 'geometry': box(bounds[0], bounds[1], bounds[2], bounds[3])},ignore_index=True)\n",
      "C:\\Users\\alexsaunders\\AppData\\Local\\Temp\\ipykernel_13448\\724766185.py:13: FutureWarning: The frame.append method is deprecated and will be removed from pandas in a future version. Use pandas.concat instead.\n",
      "  dfScenes = dfScenes.append({'location':strFilePath, 'geometry': box(bounds[0], bounds[1], bounds[2], bounds[3])},ignore_index=True)\n",
      "C:\\Users\\alexsaunders\\AppData\\Local\\Temp\\ipykernel_13448\\724766185.py:13: FutureWarning: The frame.append method is deprecated and will be removed from pandas in a future version. Use pandas.concat instead.\n",
      "  dfScenes = dfScenes.append({'location':strFilePath, 'geometry': box(bounds[0], bounds[1], bounds[2], bounds[3])},ignore_index=True)\n"
     ]
    },
    {
     "name": "stdout",
     "output_type": "stream",
     "text": [
      "processing file 636/933\r"
     ]
    },
    {
     "name": "stderr",
     "output_type": "stream",
     "text": [
      "C:\\Users\\alexsaunders\\AppData\\Local\\Temp\\ipykernel_13448\\724766185.py:13: FutureWarning: The frame.append method is deprecated and will be removed from pandas in a future version. Use pandas.concat instead.\n",
      "  dfScenes = dfScenes.append({'location':strFilePath, 'geometry': box(bounds[0], bounds[1], bounds[2], bounds[3])},ignore_index=True)\n",
      "C:\\Users\\alexsaunders\\AppData\\Local\\Temp\\ipykernel_13448\\724766185.py:13: FutureWarning: The frame.append method is deprecated and will be removed from pandas in a future version. Use pandas.concat instead.\n",
      "  dfScenes = dfScenes.append({'location':strFilePath, 'geometry': box(bounds[0], bounds[1], bounds[2], bounds[3])},ignore_index=True)\n",
      "C:\\Users\\alexsaunders\\AppData\\Local\\Temp\\ipykernel_13448\\724766185.py:13: FutureWarning: The frame.append method is deprecated and will be removed from pandas in a future version. Use pandas.concat instead.\n",
      "  dfScenes = dfScenes.append({'location':strFilePath, 'geometry': box(bounds[0], bounds[1], bounds[2], bounds[3])},ignore_index=True)\n",
      "C:\\Users\\alexsaunders\\AppData\\Local\\Temp\\ipykernel_13448\\724766185.py:13: FutureWarning: The frame.append method is deprecated and will be removed from pandas in a future version. Use pandas.concat instead.\n",
      "  dfScenes = dfScenes.append({'location':strFilePath, 'geometry': box(bounds[0], bounds[1], bounds[2], bounds[3])},ignore_index=True)\n",
      "C:\\Users\\alexsaunders\\AppData\\Local\\Temp\\ipykernel_13448\\724766185.py:13: FutureWarning: The frame.append method is deprecated and will be removed from pandas in a future version. Use pandas.concat instead.\n",
      "  dfScenes = dfScenes.append({'location':strFilePath, 'geometry': box(bounds[0], bounds[1], bounds[2], bounds[3])},ignore_index=True)\n",
      "C:\\Users\\alexsaunders\\AppData\\Local\\Temp\\ipykernel_13448\\724766185.py:13: FutureWarning: The frame.append method is deprecated and will be removed from pandas in a future version. Use pandas.concat instead.\n",
      "  dfScenes = dfScenes.append({'location':strFilePath, 'geometry': box(bounds[0], bounds[1], bounds[2], bounds[3])},ignore_index=True)\n"
     ]
    },
    {
     "name": "stdout",
     "output_type": "stream",
     "text": [
      "processing file 642/933\r"
     ]
    },
    {
     "name": "stderr",
     "output_type": "stream",
     "text": [
      "C:\\Users\\alexsaunders\\AppData\\Local\\Temp\\ipykernel_13448\\724766185.py:13: FutureWarning: The frame.append method is deprecated and will be removed from pandas in a future version. Use pandas.concat instead.\n",
      "  dfScenes = dfScenes.append({'location':strFilePath, 'geometry': box(bounds[0], bounds[1], bounds[2], bounds[3])},ignore_index=True)\n",
      "C:\\Users\\alexsaunders\\AppData\\Local\\Temp\\ipykernel_13448\\724766185.py:13: FutureWarning: The frame.append method is deprecated and will be removed from pandas in a future version. Use pandas.concat instead.\n",
      "  dfScenes = dfScenes.append({'location':strFilePath, 'geometry': box(bounds[0], bounds[1], bounds[2], bounds[3])},ignore_index=True)\n",
      "C:\\Users\\alexsaunders\\AppData\\Local\\Temp\\ipykernel_13448\\724766185.py:13: FutureWarning: The frame.append method is deprecated and will be removed from pandas in a future version. Use pandas.concat instead.\n",
      "  dfScenes = dfScenes.append({'location':strFilePath, 'geometry': box(bounds[0], bounds[1], bounds[2], bounds[3])},ignore_index=True)\n",
      "C:\\Users\\alexsaunders\\AppData\\Local\\Temp\\ipykernel_13448\\724766185.py:13: FutureWarning: The frame.append method is deprecated and will be removed from pandas in a future version. Use pandas.concat instead.\n",
      "  dfScenes = dfScenes.append({'location':strFilePath, 'geometry': box(bounds[0], bounds[1], bounds[2], bounds[3])},ignore_index=True)\n",
      "C:\\Users\\alexsaunders\\AppData\\Local\\Temp\\ipykernel_13448\\724766185.py:13: FutureWarning: The frame.append method is deprecated and will be removed from pandas in a future version. Use pandas.concat instead.\n",
      "  dfScenes = dfScenes.append({'location':strFilePath, 'geometry': box(bounds[0], bounds[1], bounds[2], bounds[3])},ignore_index=True)\n"
     ]
    },
    {
     "name": "stdout",
     "output_type": "stream",
     "text": [
      "processing file 647/933\r"
     ]
    },
    {
     "name": "stderr",
     "output_type": "stream",
     "text": [
      "C:\\Users\\alexsaunders\\AppData\\Local\\Temp\\ipykernel_13448\\724766185.py:13: FutureWarning: The frame.append method is deprecated and will be removed from pandas in a future version. Use pandas.concat instead.\n",
      "  dfScenes = dfScenes.append({'location':strFilePath, 'geometry': box(bounds[0], bounds[1], bounds[2], bounds[3])},ignore_index=True)\n",
      "C:\\Users\\alexsaunders\\AppData\\Local\\Temp\\ipykernel_13448\\724766185.py:13: FutureWarning: The frame.append method is deprecated and will be removed from pandas in a future version. Use pandas.concat instead.\n",
      "  dfScenes = dfScenes.append({'location':strFilePath, 'geometry': box(bounds[0], bounds[1], bounds[2], bounds[3])},ignore_index=True)\n",
      "C:\\Users\\alexsaunders\\AppData\\Local\\Temp\\ipykernel_13448\\724766185.py:13: FutureWarning: The frame.append method is deprecated and will be removed from pandas in a future version. Use pandas.concat instead.\n",
      "  dfScenes = dfScenes.append({'location':strFilePath, 'geometry': box(bounds[0], bounds[1], bounds[2], bounds[3])},ignore_index=True)\n",
      "C:\\Users\\alexsaunders\\AppData\\Local\\Temp\\ipykernel_13448\\724766185.py:13: FutureWarning: The frame.append method is deprecated and will be removed from pandas in a future version. Use pandas.concat instead.\n",
      "  dfScenes = dfScenes.append({'location':strFilePath, 'geometry': box(bounds[0], bounds[1], bounds[2], bounds[3])},ignore_index=True)\n",
      "C:\\Users\\alexsaunders\\AppData\\Local\\Temp\\ipykernel_13448\\724766185.py:13: FutureWarning: The frame.append method is deprecated and will be removed from pandas in a future version. Use pandas.concat instead.\n",
      "  dfScenes = dfScenes.append({'location':strFilePath, 'geometry': box(bounds[0], bounds[1], bounds[2], bounds[3])},ignore_index=True)\n"
     ]
    },
    {
     "name": "stdout",
     "output_type": "stream",
     "text": [
      "processing file 652/933\r"
     ]
    },
    {
     "name": "stderr",
     "output_type": "stream",
     "text": [
      "C:\\Users\\alexsaunders\\AppData\\Local\\Temp\\ipykernel_13448\\724766185.py:13: FutureWarning: The frame.append method is deprecated and will be removed from pandas in a future version. Use pandas.concat instead.\n",
      "  dfScenes = dfScenes.append({'location':strFilePath, 'geometry': box(bounds[0], bounds[1], bounds[2], bounds[3])},ignore_index=True)\n",
      "C:\\Users\\alexsaunders\\AppData\\Local\\Temp\\ipykernel_13448\\724766185.py:13: FutureWarning: The frame.append method is deprecated and will be removed from pandas in a future version. Use pandas.concat instead.\n",
      "  dfScenes = dfScenes.append({'location':strFilePath, 'geometry': box(bounds[0], bounds[1], bounds[2], bounds[3])},ignore_index=True)\n",
      "C:\\Users\\alexsaunders\\AppData\\Local\\Temp\\ipykernel_13448\\724766185.py:13: FutureWarning: The frame.append method is deprecated and will be removed from pandas in a future version. Use pandas.concat instead.\n",
      "  dfScenes = dfScenes.append({'location':strFilePath, 'geometry': box(bounds[0], bounds[1], bounds[2], bounds[3])},ignore_index=True)\n",
      "C:\\Users\\alexsaunders\\AppData\\Local\\Temp\\ipykernel_13448\\724766185.py:13: FutureWarning: The frame.append method is deprecated and will be removed from pandas in a future version. Use pandas.concat instead.\n",
      "  dfScenes = dfScenes.append({'location':strFilePath, 'geometry': box(bounds[0], bounds[1], bounds[2], bounds[3])},ignore_index=True)\n",
      "C:\\Users\\alexsaunders\\AppData\\Local\\Temp\\ipykernel_13448\\724766185.py:13: FutureWarning: The frame.append method is deprecated and will be removed from pandas in a future version. Use pandas.concat instead.\n",
      "  dfScenes = dfScenes.append({'location':strFilePath, 'geometry': box(bounds[0], bounds[1], bounds[2], bounds[3])},ignore_index=True)\n"
     ]
    },
    {
     "name": "stdout",
     "output_type": "stream",
     "text": [
      "processing file 657/933\r"
     ]
    },
    {
     "name": "stderr",
     "output_type": "stream",
     "text": [
      "C:\\Users\\alexsaunders\\AppData\\Local\\Temp\\ipykernel_13448\\724766185.py:13: FutureWarning: The frame.append method is deprecated and will be removed from pandas in a future version. Use pandas.concat instead.\n",
      "  dfScenes = dfScenes.append({'location':strFilePath, 'geometry': box(bounds[0], bounds[1], bounds[2], bounds[3])},ignore_index=True)\n",
      "C:\\Users\\alexsaunders\\AppData\\Local\\Temp\\ipykernel_13448\\724766185.py:13: FutureWarning: The frame.append method is deprecated and will be removed from pandas in a future version. Use pandas.concat instead.\n",
      "  dfScenes = dfScenes.append({'location':strFilePath, 'geometry': box(bounds[0], bounds[1], bounds[2], bounds[3])},ignore_index=True)\n",
      "C:\\Users\\alexsaunders\\AppData\\Local\\Temp\\ipykernel_13448\\724766185.py:13: FutureWarning: The frame.append method is deprecated and will be removed from pandas in a future version. Use pandas.concat instead.\n",
      "  dfScenes = dfScenes.append({'location':strFilePath, 'geometry': box(bounds[0], bounds[1], bounds[2], bounds[3])},ignore_index=True)\n",
      "C:\\Users\\alexsaunders\\AppData\\Local\\Temp\\ipykernel_13448\\724766185.py:13: FutureWarning: The frame.append method is deprecated and will be removed from pandas in a future version. Use pandas.concat instead.\n",
      "  dfScenes = dfScenes.append({'location':strFilePath, 'geometry': box(bounds[0], bounds[1], bounds[2], bounds[3])},ignore_index=True)\n",
      "C:\\Users\\alexsaunders\\AppData\\Local\\Temp\\ipykernel_13448\\724766185.py:13: FutureWarning: The frame.append method is deprecated and will be removed from pandas in a future version. Use pandas.concat instead.\n",
      "  dfScenes = dfScenes.append({'location':strFilePath, 'geometry': box(bounds[0], bounds[1], bounds[2], bounds[3])},ignore_index=True)\n",
      "C:\\Users\\alexsaunders\\AppData\\Local\\Temp\\ipykernel_13448\\724766185.py:13: FutureWarning: The frame.append method is deprecated and will be removed from pandas in a future version. Use pandas.concat instead.\n",
      "  dfScenes = dfScenes.append({'location':strFilePath, 'geometry': box(bounds[0], bounds[1], bounds[2], bounds[3])},ignore_index=True)\n"
     ]
    },
    {
     "name": "stdout",
     "output_type": "stream",
     "text": [
      "processing file 663/933\r"
     ]
    },
    {
     "name": "stderr",
     "output_type": "stream",
     "text": [
      "C:\\Users\\alexsaunders\\AppData\\Local\\Temp\\ipykernel_13448\\724766185.py:13: FutureWarning: The frame.append method is deprecated and will be removed from pandas in a future version. Use pandas.concat instead.\n",
      "  dfScenes = dfScenes.append({'location':strFilePath, 'geometry': box(bounds[0], bounds[1], bounds[2], bounds[3])},ignore_index=True)\n",
      "C:\\Users\\alexsaunders\\AppData\\Local\\Temp\\ipykernel_13448\\724766185.py:13: FutureWarning: The frame.append method is deprecated and will be removed from pandas in a future version. Use pandas.concat instead.\n",
      "  dfScenes = dfScenes.append({'location':strFilePath, 'geometry': box(bounds[0], bounds[1], bounds[2], bounds[3])},ignore_index=True)\n",
      "C:\\Users\\alexsaunders\\AppData\\Local\\Temp\\ipykernel_13448\\724766185.py:13: FutureWarning: The frame.append method is deprecated and will be removed from pandas in a future version. Use pandas.concat instead.\n",
      "  dfScenes = dfScenes.append({'location':strFilePath, 'geometry': box(bounds[0], bounds[1], bounds[2], bounds[3])},ignore_index=True)\n",
      "C:\\Users\\alexsaunders\\AppData\\Local\\Temp\\ipykernel_13448\\724766185.py:13: FutureWarning: The frame.append method is deprecated and will be removed from pandas in a future version. Use pandas.concat instead.\n",
      "  dfScenes = dfScenes.append({'location':strFilePath, 'geometry': box(bounds[0], bounds[1], bounds[2], bounds[3])},ignore_index=True)\n",
      "C:\\Users\\alexsaunders\\AppData\\Local\\Temp\\ipykernel_13448\\724766185.py:13: FutureWarning: The frame.append method is deprecated and will be removed from pandas in a future version. Use pandas.concat instead.\n",
      "  dfScenes = dfScenes.append({'location':strFilePath, 'geometry': box(bounds[0], bounds[1], bounds[2], bounds[3])},ignore_index=True)\n",
      "C:\\Users\\alexsaunders\\AppData\\Local\\Temp\\ipykernel_13448\\724766185.py:13: FutureWarning: The frame.append method is deprecated and will be removed from pandas in a future version. Use pandas.concat instead.\n",
      "  dfScenes = dfScenes.append({'location':strFilePath, 'geometry': box(bounds[0], bounds[1], bounds[2], bounds[3])},ignore_index=True)\n"
     ]
    },
    {
     "name": "stdout",
     "output_type": "stream",
     "text": [
      "processing file 669/933\r"
     ]
    },
    {
     "name": "stderr",
     "output_type": "stream",
     "text": [
      "C:\\Users\\alexsaunders\\AppData\\Local\\Temp\\ipykernel_13448\\724766185.py:13: FutureWarning: The frame.append method is deprecated and will be removed from pandas in a future version. Use pandas.concat instead.\n",
      "  dfScenes = dfScenes.append({'location':strFilePath, 'geometry': box(bounds[0], bounds[1], bounds[2], bounds[3])},ignore_index=True)\n",
      "C:\\Users\\alexsaunders\\AppData\\Local\\Temp\\ipykernel_13448\\724766185.py:13: FutureWarning: The frame.append method is deprecated and will be removed from pandas in a future version. Use pandas.concat instead.\n",
      "  dfScenes = dfScenes.append({'location':strFilePath, 'geometry': box(bounds[0], bounds[1], bounds[2], bounds[3])},ignore_index=True)\n",
      "C:\\Users\\alexsaunders\\AppData\\Local\\Temp\\ipykernel_13448\\724766185.py:13: FutureWarning: The frame.append method is deprecated and will be removed from pandas in a future version. Use pandas.concat instead.\n",
      "  dfScenes = dfScenes.append({'location':strFilePath, 'geometry': box(bounds[0], bounds[1], bounds[2], bounds[3])},ignore_index=True)\n",
      "C:\\Users\\alexsaunders\\AppData\\Local\\Temp\\ipykernel_13448\\724766185.py:13: FutureWarning: The frame.append method is deprecated and will be removed from pandas in a future version. Use pandas.concat instead.\n",
      "  dfScenes = dfScenes.append({'location':strFilePath, 'geometry': box(bounds[0], bounds[1], bounds[2], bounds[3])},ignore_index=True)\n",
      "C:\\Users\\alexsaunders\\AppData\\Local\\Temp\\ipykernel_13448\\724766185.py:13: FutureWarning: The frame.append method is deprecated and will be removed from pandas in a future version. Use pandas.concat instead.\n",
      "  dfScenes = dfScenes.append({'location':strFilePath, 'geometry': box(bounds[0], bounds[1], bounds[2], bounds[3])},ignore_index=True)\n",
      "C:\\Users\\alexsaunders\\AppData\\Local\\Temp\\ipykernel_13448\\724766185.py:13: FutureWarning: The frame.append method is deprecated and will be removed from pandas in a future version. Use pandas.concat instead.\n",
      "  dfScenes = dfScenes.append({'location':strFilePath, 'geometry': box(bounds[0], bounds[1], bounds[2], bounds[3])},ignore_index=True)\n"
     ]
    },
    {
     "name": "stdout",
     "output_type": "stream",
     "text": [
      "processing file 675/933\r"
     ]
    },
    {
     "name": "stderr",
     "output_type": "stream",
     "text": [
      "C:\\Users\\alexsaunders\\AppData\\Local\\Temp\\ipykernel_13448\\724766185.py:13: FutureWarning: The frame.append method is deprecated and will be removed from pandas in a future version. Use pandas.concat instead.\n",
      "  dfScenes = dfScenes.append({'location':strFilePath, 'geometry': box(bounds[0], bounds[1], bounds[2], bounds[3])},ignore_index=True)\n",
      "C:\\Users\\alexsaunders\\AppData\\Local\\Temp\\ipykernel_13448\\724766185.py:13: FutureWarning: The frame.append method is deprecated and will be removed from pandas in a future version. Use pandas.concat instead.\n",
      "  dfScenes = dfScenes.append({'location':strFilePath, 'geometry': box(bounds[0], bounds[1], bounds[2], bounds[3])},ignore_index=True)\n",
      "C:\\Users\\alexsaunders\\AppData\\Local\\Temp\\ipykernel_13448\\724766185.py:13: FutureWarning: The frame.append method is deprecated and will be removed from pandas in a future version. Use pandas.concat instead.\n",
      "  dfScenes = dfScenes.append({'location':strFilePath, 'geometry': box(bounds[0], bounds[1], bounds[2], bounds[3])},ignore_index=True)\n",
      "C:\\Users\\alexsaunders\\AppData\\Local\\Temp\\ipykernel_13448\\724766185.py:13: FutureWarning: The frame.append method is deprecated and will be removed from pandas in a future version. Use pandas.concat instead.\n",
      "  dfScenes = dfScenes.append({'location':strFilePath, 'geometry': box(bounds[0], bounds[1], bounds[2], bounds[3])},ignore_index=True)\n",
      "C:\\Users\\alexsaunders\\AppData\\Local\\Temp\\ipykernel_13448\\724766185.py:13: FutureWarning: The frame.append method is deprecated and will be removed from pandas in a future version. Use pandas.concat instead.\n",
      "  dfScenes = dfScenes.append({'location':strFilePath, 'geometry': box(bounds[0], bounds[1], bounds[2], bounds[3])},ignore_index=True)\n",
      "C:\\Users\\alexsaunders\\AppData\\Local\\Temp\\ipykernel_13448\\724766185.py:13: FutureWarning: The frame.append method is deprecated and will be removed from pandas in a future version. Use pandas.concat instead.\n",
      "  dfScenes = dfScenes.append({'location':strFilePath, 'geometry': box(bounds[0], bounds[1], bounds[2], bounds[3])},ignore_index=True)\n"
     ]
    },
    {
     "name": "stdout",
     "output_type": "stream",
     "text": [
      "processing file 681/933\r"
     ]
    },
    {
     "name": "stderr",
     "output_type": "stream",
     "text": [
      "C:\\Users\\alexsaunders\\AppData\\Local\\Temp\\ipykernel_13448\\724766185.py:13: FutureWarning: The frame.append method is deprecated and will be removed from pandas in a future version. Use pandas.concat instead.\n",
      "  dfScenes = dfScenes.append({'location':strFilePath, 'geometry': box(bounds[0], bounds[1], bounds[2], bounds[3])},ignore_index=True)\n",
      "C:\\Users\\alexsaunders\\AppData\\Local\\Temp\\ipykernel_13448\\724766185.py:13: FutureWarning: The frame.append method is deprecated and will be removed from pandas in a future version. Use pandas.concat instead.\n",
      "  dfScenes = dfScenes.append({'location':strFilePath, 'geometry': box(bounds[0], bounds[1], bounds[2], bounds[3])},ignore_index=True)\n",
      "C:\\Users\\alexsaunders\\AppData\\Local\\Temp\\ipykernel_13448\\724766185.py:13: FutureWarning: The frame.append method is deprecated and will be removed from pandas in a future version. Use pandas.concat instead.\n",
      "  dfScenes = dfScenes.append({'location':strFilePath, 'geometry': box(bounds[0], bounds[1], bounds[2], bounds[3])},ignore_index=True)\n",
      "C:\\Users\\alexsaunders\\AppData\\Local\\Temp\\ipykernel_13448\\724766185.py:13: FutureWarning: The frame.append method is deprecated and will be removed from pandas in a future version. Use pandas.concat instead.\n",
      "  dfScenes = dfScenes.append({'location':strFilePath, 'geometry': box(bounds[0], bounds[1], bounds[2], bounds[3])},ignore_index=True)\n",
      "C:\\Users\\alexsaunders\\AppData\\Local\\Temp\\ipykernel_13448\\724766185.py:13: FutureWarning: The frame.append method is deprecated and will be removed from pandas in a future version. Use pandas.concat instead.\n",
      "  dfScenes = dfScenes.append({'location':strFilePath, 'geometry': box(bounds[0], bounds[1], bounds[2], bounds[3])},ignore_index=True)\n",
      "C:\\Users\\alexsaunders\\AppData\\Local\\Temp\\ipykernel_13448\\724766185.py:13: FutureWarning: The frame.append method is deprecated and will be removed from pandas in a future version. Use pandas.concat instead.\n",
      "  dfScenes = dfScenes.append({'location':strFilePath, 'geometry': box(bounds[0], bounds[1], bounds[2], bounds[3])},ignore_index=True)\n"
     ]
    },
    {
     "name": "stdout",
     "output_type": "stream",
     "text": [
      "processing file 687/933\r"
     ]
    },
    {
     "name": "stderr",
     "output_type": "stream",
     "text": [
      "C:\\Users\\alexsaunders\\AppData\\Local\\Temp\\ipykernel_13448\\724766185.py:13: FutureWarning: The frame.append method is deprecated and will be removed from pandas in a future version. Use pandas.concat instead.\n",
      "  dfScenes = dfScenes.append({'location':strFilePath, 'geometry': box(bounds[0], bounds[1], bounds[2], bounds[3])},ignore_index=True)\n",
      "C:\\Users\\alexsaunders\\AppData\\Local\\Temp\\ipykernel_13448\\724766185.py:13: FutureWarning: The frame.append method is deprecated and will be removed from pandas in a future version. Use pandas.concat instead.\n",
      "  dfScenes = dfScenes.append({'location':strFilePath, 'geometry': box(bounds[0], bounds[1], bounds[2], bounds[3])},ignore_index=True)\n",
      "C:\\Users\\alexsaunders\\AppData\\Local\\Temp\\ipykernel_13448\\724766185.py:13: FutureWarning: The frame.append method is deprecated and will be removed from pandas in a future version. Use pandas.concat instead.\n",
      "  dfScenes = dfScenes.append({'location':strFilePath, 'geometry': box(bounds[0], bounds[1], bounds[2], bounds[3])},ignore_index=True)\n",
      "C:\\Users\\alexsaunders\\AppData\\Local\\Temp\\ipykernel_13448\\724766185.py:13: FutureWarning: The frame.append method is deprecated and will be removed from pandas in a future version. Use pandas.concat instead.\n",
      "  dfScenes = dfScenes.append({'location':strFilePath, 'geometry': box(bounds[0], bounds[1], bounds[2], bounds[3])},ignore_index=True)\n",
      "C:\\Users\\alexsaunders\\AppData\\Local\\Temp\\ipykernel_13448\\724766185.py:13: FutureWarning: The frame.append method is deprecated and will be removed from pandas in a future version. Use pandas.concat instead.\n",
      "  dfScenes = dfScenes.append({'location':strFilePath, 'geometry': box(bounds[0], bounds[1], bounds[2], bounds[3])},ignore_index=True)\n"
     ]
    },
    {
     "name": "stdout",
     "output_type": "stream",
     "text": [
      "processing file 692/933\r"
     ]
    },
    {
     "name": "stderr",
     "output_type": "stream",
     "text": [
      "C:\\Users\\alexsaunders\\AppData\\Local\\Temp\\ipykernel_13448\\724766185.py:13: FutureWarning: The frame.append method is deprecated and will be removed from pandas in a future version. Use pandas.concat instead.\n",
      "  dfScenes = dfScenes.append({'location':strFilePath, 'geometry': box(bounds[0], bounds[1], bounds[2], bounds[3])},ignore_index=True)\n",
      "C:\\Users\\alexsaunders\\AppData\\Local\\Temp\\ipykernel_13448\\724766185.py:13: FutureWarning: The frame.append method is deprecated and will be removed from pandas in a future version. Use pandas.concat instead.\n",
      "  dfScenes = dfScenes.append({'location':strFilePath, 'geometry': box(bounds[0], bounds[1], bounds[2], bounds[3])},ignore_index=True)\n",
      "C:\\Users\\alexsaunders\\AppData\\Local\\Temp\\ipykernel_13448\\724766185.py:13: FutureWarning: The frame.append method is deprecated and will be removed from pandas in a future version. Use pandas.concat instead.\n",
      "  dfScenes = dfScenes.append({'location':strFilePath, 'geometry': box(bounds[0], bounds[1], bounds[2], bounds[3])},ignore_index=True)\n",
      "C:\\Users\\alexsaunders\\AppData\\Local\\Temp\\ipykernel_13448\\724766185.py:13: FutureWarning: The frame.append method is deprecated and will be removed from pandas in a future version. Use pandas.concat instead.\n",
      "  dfScenes = dfScenes.append({'location':strFilePath, 'geometry': box(bounds[0], bounds[1], bounds[2], bounds[3])},ignore_index=True)\n",
      "C:\\Users\\alexsaunders\\AppData\\Local\\Temp\\ipykernel_13448\\724766185.py:13: FutureWarning: The frame.append method is deprecated and will be removed from pandas in a future version. Use pandas.concat instead.\n",
      "  dfScenes = dfScenes.append({'location':strFilePath, 'geometry': box(bounds[0], bounds[1], bounds[2], bounds[3])},ignore_index=True)\n"
     ]
    },
    {
     "name": "stdout",
     "output_type": "stream",
     "text": [
      "processing file 697/933\r"
     ]
    },
    {
     "name": "stderr",
     "output_type": "stream",
     "text": [
      "C:\\Users\\alexsaunders\\AppData\\Local\\Temp\\ipykernel_13448\\724766185.py:13: FutureWarning: The frame.append method is deprecated and will be removed from pandas in a future version. Use pandas.concat instead.\n",
      "  dfScenes = dfScenes.append({'location':strFilePath, 'geometry': box(bounds[0], bounds[1], bounds[2], bounds[3])},ignore_index=True)\n",
      "C:\\Users\\alexsaunders\\AppData\\Local\\Temp\\ipykernel_13448\\724766185.py:13: FutureWarning: The frame.append method is deprecated and will be removed from pandas in a future version. Use pandas.concat instead.\n",
      "  dfScenes = dfScenes.append({'location':strFilePath, 'geometry': box(bounds[0], bounds[1], bounds[2], bounds[3])},ignore_index=True)\n",
      "C:\\Users\\alexsaunders\\AppData\\Local\\Temp\\ipykernel_13448\\724766185.py:13: FutureWarning: The frame.append method is deprecated and will be removed from pandas in a future version. Use pandas.concat instead.\n",
      "  dfScenes = dfScenes.append({'location':strFilePath, 'geometry': box(bounds[0], bounds[1], bounds[2], bounds[3])},ignore_index=True)\n",
      "C:\\Users\\alexsaunders\\AppData\\Local\\Temp\\ipykernel_13448\\724766185.py:13: FutureWarning: The frame.append method is deprecated and will be removed from pandas in a future version. Use pandas.concat instead.\n",
      "  dfScenes = dfScenes.append({'location':strFilePath, 'geometry': box(bounds[0], bounds[1], bounds[2], bounds[3])},ignore_index=True)\n",
      "C:\\Users\\alexsaunders\\AppData\\Local\\Temp\\ipykernel_13448\\724766185.py:13: FutureWarning: The frame.append method is deprecated and will be removed from pandas in a future version. Use pandas.concat instead.\n",
      "  dfScenes = dfScenes.append({'location':strFilePath, 'geometry': box(bounds[0], bounds[1], bounds[2], bounds[3])},ignore_index=True)\n",
      "C:\\Users\\alexsaunders\\AppData\\Local\\Temp\\ipykernel_13448\\724766185.py:13: FutureWarning: The frame.append method is deprecated and will be removed from pandas in a future version. Use pandas.concat instead.\n",
      "  dfScenes = dfScenes.append({'location':strFilePath, 'geometry': box(bounds[0], bounds[1], bounds[2], bounds[3])},ignore_index=True)\n"
     ]
    },
    {
     "name": "stdout",
     "output_type": "stream",
     "text": [
      "processing file 703/933\r"
     ]
    },
    {
     "name": "stderr",
     "output_type": "stream",
     "text": [
      "C:\\Users\\alexsaunders\\AppData\\Local\\Temp\\ipykernel_13448\\724766185.py:13: FutureWarning: The frame.append method is deprecated and will be removed from pandas in a future version. Use pandas.concat instead.\n",
      "  dfScenes = dfScenes.append({'location':strFilePath, 'geometry': box(bounds[0], bounds[1], bounds[2], bounds[3])},ignore_index=True)\n",
      "C:\\Users\\alexsaunders\\AppData\\Local\\Temp\\ipykernel_13448\\724766185.py:13: FutureWarning: The frame.append method is deprecated and will be removed from pandas in a future version. Use pandas.concat instead.\n",
      "  dfScenes = dfScenes.append({'location':strFilePath, 'geometry': box(bounds[0], bounds[1], bounds[2], bounds[3])},ignore_index=True)\n",
      "C:\\Users\\alexsaunders\\AppData\\Local\\Temp\\ipykernel_13448\\724766185.py:13: FutureWarning: The frame.append method is deprecated and will be removed from pandas in a future version. Use pandas.concat instead.\n",
      "  dfScenes = dfScenes.append({'location':strFilePath, 'geometry': box(bounds[0], bounds[1], bounds[2], bounds[3])},ignore_index=True)\n",
      "C:\\Users\\alexsaunders\\AppData\\Local\\Temp\\ipykernel_13448\\724766185.py:13: FutureWarning: The frame.append method is deprecated and will be removed from pandas in a future version. Use pandas.concat instead.\n",
      "  dfScenes = dfScenes.append({'location':strFilePath, 'geometry': box(bounds[0], bounds[1], bounds[2], bounds[3])},ignore_index=True)\n",
      "C:\\Users\\alexsaunders\\AppData\\Local\\Temp\\ipykernel_13448\\724766185.py:13: FutureWarning: The frame.append method is deprecated and will be removed from pandas in a future version. Use pandas.concat instead.\n",
      "  dfScenes = dfScenes.append({'location':strFilePath, 'geometry': box(bounds[0], bounds[1], bounds[2], bounds[3])},ignore_index=True)\n",
      "C:\\Users\\alexsaunders\\AppData\\Local\\Temp\\ipykernel_13448\\724766185.py:13: FutureWarning: The frame.append method is deprecated and will be removed from pandas in a future version. Use pandas.concat instead.\n",
      "  dfScenes = dfScenes.append({'location':strFilePath, 'geometry': box(bounds[0], bounds[1], bounds[2], bounds[3])},ignore_index=True)\n"
     ]
    },
    {
     "name": "stdout",
     "output_type": "stream",
     "text": [
      "processing file 709/933\r"
     ]
    },
    {
     "name": "stderr",
     "output_type": "stream",
     "text": [
      "C:\\Users\\alexsaunders\\AppData\\Local\\Temp\\ipykernel_13448\\724766185.py:13: FutureWarning: The frame.append method is deprecated and will be removed from pandas in a future version. Use pandas.concat instead.\n",
      "  dfScenes = dfScenes.append({'location':strFilePath, 'geometry': box(bounds[0], bounds[1], bounds[2], bounds[3])},ignore_index=True)\n",
      "C:\\Users\\alexsaunders\\AppData\\Local\\Temp\\ipykernel_13448\\724766185.py:13: FutureWarning: The frame.append method is deprecated and will be removed from pandas in a future version. Use pandas.concat instead.\n",
      "  dfScenes = dfScenes.append({'location':strFilePath, 'geometry': box(bounds[0], bounds[1], bounds[2], bounds[3])},ignore_index=True)\n",
      "C:\\Users\\alexsaunders\\AppData\\Local\\Temp\\ipykernel_13448\\724766185.py:13: FutureWarning: The frame.append method is deprecated and will be removed from pandas in a future version. Use pandas.concat instead.\n",
      "  dfScenes = dfScenes.append({'location':strFilePath, 'geometry': box(bounds[0], bounds[1], bounds[2], bounds[3])},ignore_index=True)\n",
      "C:\\Users\\alexsaunders\\AppData\\Local\\Temp\\ipykernel_13448\\724766185.py:13: FutureWarning: The frame.append method is deprecated and will be removed from pandas in a future version. Use pandas.concat instead.\n",
      "  dfScenes = dfScenes.append({'location':strFilePath, 'geometry': box(bounds[0], bounds[1], bounds[2], bounds[3])},ignore_index=True)\n",
      "C:\\Users\\alexsaunders\\AppData\\Local\\Temp\\ipykernel_13448\\724766185.py:13: FutureWarning: The frame.append method is deprecated and will be removed from pandas in a future version. Use pandas.concat instead.\n",
      "  dfScenes = dfScenes.append({'location':strFilePath, 'geometry': box(bounds[0], bounds[1], bounds[2], bounds[3])},ignore_index=True)\n"
     ]
    },
    {
     "name": "stdout",
     "output_type": "stream",
     "text": [
      "processing file 714/933\r"
     ]
    },
    {
     "name": "stderr",
     "output_type": "stream",
     "text": [
      "C:\\Users\\alexsaunders\\AppData\\Local\\Temp\\ipykernel_13448\\724766185.py:13: FutureWarning: The frame.append method is deprecated and will be removed from pandas in a future version. Use pandas.concat instead.\n",
      "  dfScenes = dfScenes.append({'location':strFilePath, 'geometry': box(bounds[0], bounds[1], bounds[2], bounds[3])},ignore_index=True)\n",
      "C:\\Users\\alexsaunders\\AppData\\Local\\Temp\\ipykernel_13448\\724766185.py:13: FutureWarning: The frame.append method is deprecated and will be removed from pandas in a future version. Use pandas.concat instead.\n",
      "  dfScenes = dfScenes.append({'location':strFilePath, 'geometry': box(bounds[0], bounds[1], bounds[2], bounds[3])},ignore_index=True)\n",
      "C:\\Users\\alexsaunders\\AppData\\Local\\Temp\\ipykernel_13448\\724766185.py:13: FutureWarning: The frame.append method is deprecated and will be removed from pandas in a future version. Use pandas.concat instead.\n",
      "  dfScenes = dfScenes.append({'location':strFilePath, 'geometry': box(bounds[0], bounds[1], bounds[2], bounds[3])},ignore_index=True)\n",
      "C:\\Users\\alexsaunders\\AppData\\Local\\Temp\\ipykernel_13448\\724766185.py:13: FutureWarning: The frame.append method is deprecated and will be removed from pandas in a future version. Use pandas.concat instead.\n",
      "  dfScenes = dfScenes.append({'location':strFilePath, 'geometry': box(bounds[0], bounds[1], bounds[2], bounds[3])},ignore_index=True)\n",
      "C:\\Users\\alexsaunders\\AppData\\Local\\Temp\\ipykernel_13448\\724766185.py:13: FutureWarning: The frame.append method is deprecated and will be removed from pandas in a future version. Use pandas.concat instead.\n",
      "  dfScenes = dfScenes.append({'location':strFilePath, 'geometry': box(bounds[0], bounds[1], bounds[2], bounds[3])},ignore_index=True)\n"
     ]
    },
    {
     "name": "stdout",
     "output_type": "stream",
     "text": [
      "processing file 719/933\r"
     ]
    },
    {
     "name": "stderr",
     "output_type": "stream",
     "text": [
      "C:\\Users\\alexsaunders\\AppData\\Local\\Temp\\ipykernel_13448\\724766185.py:13: FutureWarning: The frame.append method is deprecated and will be removed from pandas in a future version. Use pandas.concat instead.\n",
      "  dfScenes = dfScenes.append({'location':strFilePath, 'geometry': box(bounds[0], bounds[1], bounds[2], bounds[3])},ignore_index=True)\n",
      "C:\\Users\\alexsaunders\\AppData\\Local\\Temp\\ipykernel_13448\\724766185.py:13: FutureWarning: The frame.append method is deprecated and will be removed from pandas in a future version. Use pandas.concat instead.\n",
      "  dfScenes = dfScenes.append({'location':strFilePath, 'geometry': box(bounds[0], bounds[1], bounds[2], bounds[3])},ignore_index=True)\n",
      "C:\\Users\\alexsaunders\\AppData\\Local\\Temp\\ipykernel_13448\\724766185.py:13: FutureWarning: The frame.append method is deprecated and will be removed from pandas in a future version. Use pandas.concat instead.\n",
      "  dfScenes = dfScenes.append({'location':strFilePath, 'geometry': box(bounds[0], bounds[1], bounds[2], bounds[3])},ignore_index=True)\n",
      "C:\\Users\\alexsaunders\\AppData\\Local\\Temp\\ipykernel_13448\\724766185.py:13: FutureWarning: The frame.append method is deprecated and will be removed from pandas in a future version. Use pandas.concat instead.\n",
      "  dfScenes = dfScenes.append({'location':strFilePath, 'geometry': box(bounds[0], bounds[1], bounds[2], bounds[3])},ignore_index=True)\n",
      "C:\\Users\\alexsaunders\\AppData\\Local\\Temp\\ipykernel_13448\\724766185.py:13: FutureWarning: The frame.append method is deprecated and will be removed from pandas in a future version. Use pandas.concat instead.\n",
      "  dfScenes = dfScenes.append({'location':strFilePath, 'geometry': box(bounds[0], bounds[1], bounds[2], bounds[3])},ignore_index=True)\n",
      "C:\\Users\\alexsaunders\\AppData\\Local\\Temp\\ipykernel_13448\\724766185.py:13: FutureWarning: The frame.append method is deprecated and will be removed from pandas in a future version. Use pandas.concat instead.\n",
      "  dfScenes = dfScenes.append({'location':strFilePath, 'geometry': box(bounds[0], bounds[1], bounds[2], bounds[3])},ignore_index=True)\n"
     ]
    },
    {
     "name": "stdout",
     "output_type": "stream",
     "text": [
      "processing file 725/933\r"
     ]
    },
    {
     "name": "stderr",
     "output_type": "stream",
     "text": [
      "C:\\Users\\alexsaunders\\AppData\\Local\\Temp\\ipykernel_13448\\724766185.py:13: FutureWarning: The frame.append method is deprecated and will be removed from pandas in a future version. Use pandas.concat instead.\n",
      "  dfScenes = dfScenes.append({'location':strFilePath, 'geometry': box(bounds[0], bounds[1], bounds[2], bounds[3])},ignore_index=True)\n",
      "C:\\Users\\alexsaunders\\AppData\\Local\\Temp\\ipykernel_13448\\724766185.py:13: FutureWarning: The frame.append method is deprecated and will be removed from pandas in a future version. Use pandas.concat instead.\n",
      "  dfScenes = dfScenes.append({'location':strFilePath, 'geometry': box(bounds[0], bounds[1], bounds[2], bounds[3])},ignore_index=True)\n",
      "C:\\Users\\alexsaunders\\AppData\\Local\\Temp\\ipykernel_13448\\724766185.py:13: FutureWarning: The frame.append method is deprecated and will be removed from pandas in a future version. Use pandas.concat instead.\n",
      "  dfScenes = dfScenes.append({'location':strFilePath, 'geometry': box(bounds[0], bounds[1], bounds[2], bounds[3])},ignore_index=True)\n",
      "C:\\Users\\alexsaunders\\AppData\\Local\\Temp\\ipykernel_13448\\724766185.py:13: FutureWarning: The frame.append method is deprecated and will be removed from pandas in a future version. Use pandas.concat instead.\n",
      "  dfScenes = dfScenes.append({'location':strFilePath, 'geometry': box(bounds[0], bounds[1], bounds[2], bounds[3])},ignore_index=True)\n",
      "C:\\Users\\alexsaunders\\AppData\\Local\\Temp\\ipykernel_13448\\724766185.py:13: FutureWarning: The frame.append method is deprecated and will be removed from pandas in a future version. Use pandas.concat instead.\n",
      "  dfScenes = dfScenes.append({'location':strFilePath, 'geometry': box(bounds[0], bounds[1], bounds[2], bounds[3])},ignore_index=True)\n"
     ]
    },
    {
     "name": "stdout",
     "output_type": "stream",
     "text": [
      "processing file 730/933\r"
     ]
    },
    {
     "name": "stderr",
     "output_type": "stream",
     "text": [
      "C:\\Users\\alexsaunders\\AppData\\Local\\Temp\\ipykernel_13448\\724766185.py:13: FutureWarning: The frame.append method is deprecated and will be removed from pandas in a future version. Use pandas.concat instead.\n",
      "  dfScenes = dfScenes.append({'location':strFilePath, 'geometry': box(bounds[0], bounds[1], bounds[2], bounds[3])},ignore_index=True)\n",
      "C:\\Users\\alexsaunders\\AppData\\Local\\Temp\\ipykernel_13448\\724766185.py:13: FutureWarning: The frame.append method is deprecated and will be removed from pandas in a future version. Use pandas.concat instead.\n",
      "  dfScenes = dfScenes.append({'location':strFilePath, 'geometry': box(bounds[0], bounds[1], bounds[2], bounds[3])},ignore_index=True)\n",
      "C:\\Users\\alexsaunders\\AppData\\Local\\Temp\\ipykernel_13448\\724766185.py:13: FutureWarning: The frame.append method is deprecated and will be removed from pandas in a future version. Use pandas.concat instead.\n",
      "  dfScenes = dfScenes.append({'location':strFilePath, 'geometry': box(bounds[0], bounds[1], bounds[2], bounds[3])},ignore_index=True)\n",
      "C:\\Users\\alexsaunders\\AppData\\Local\\Temp\\ipykernel_13448\\724766185.py:13: FutureWarning: The frame.append method is deprecated and will be removed from pandas in a future version. Use pandas.concat instead.\n",
      "  dfScenes = dfScenes.append({'location':strFilePath, 'geometry': box(bounds[0], bounds[1], bounds[2], bounds[3])},ignore_index=True)\n",
      "C:\\Users\\alexsaunders\\AppData\\Local\\Temp\\ipykernel_13448\\724766185.py:13: FutureWarning: The frame.append method is deprecated and will be removed from pandas in a future version. Use pandas.concat instead.\n",
      "  dfScenes = dfScenes.append({'location':strFilePath, 'geometry': box(bounds[0], bounds[1], bounds[2], bounds[3])},ignore_index=True)\n",
      "C:\\Users\\alexsaunders\\AppData\\Local\\Temp\\ipykernel_13448\\724766185.py:13: FutureWarning: The frame.append method is deprecated and will be removed from pandas in a future version. Use pandas.concat instead.\n",
      "  dfScenes = dfScenes.append({'location':strFilePath, 'geometry': box(bounds[0], bounds[1], bounds[2], bounds[3])},ignore_index=True)\n"
     ]
    },
    {
     "name": "stdout",
     "output_type": "stream",
     "text": [
      "processing file 736/933\r"
     ]
    },
    {
     "name": "stderr",
     "output_type": "stream",
     "text": [
      "C:\\Users\\alexsaunders\\AppData\\Local\\Temp\\ipykernel_13448\\724766185.py:13: FutureWarning: The frame.append method is deprecated and will be removed from pandas in a future version. Use pandas.concat instead.\n",
      "  dfScenes = dfScenes.append({'location':strFilePath, 'geometry': box(bounds[0], bounds[1], bounds[2], bounds[3])},ignore_index=True)\n",
      "C:\\Users\\alexsaunders\\AppData\\Local\\Temp\\ipykernel_13448\\724766185.py:13: FutureWarning: The frame.append method is deprecated and will be removed from pandas in a future version. Use pandas.concat instead.\n",
      "  dfScenes = dfScenes.append({'location':strFilePath, 'geometry': box(bounds[0], bounds[1], bounds[2], bounds[3])},ignore_index=True)\n",
      "C:\\Users\\alexsaunders\\AppData\\Local\\Temp\\ipykernel_13448\\724766185.py:13: FutureWarning: The frame.append method is deprecated and will be removed from pandas in a future version. Use pandas.concat instead.\n",
      "  dfScenes = dfScenes.append({'location':strFilePath, 'geometry': box(bounds[0], bounds[1], bounds[2], bounds[3])},ignore_index=True)\n",
      "C:\\Users\\alexsaunders\\AppData\\Local\\Temp\\ipykernel_13448\\724766185.py:13: FutureWarning: The frame.append method is deprecated and will be removed from pandas in a future version. Use pandas.concat instead.\n",
      "  dfScenes = dfScenes.append({'location':strFilePath, 'geometry': box(bounds[0], bounds[1], bounds[2], bounds[3])},ignore_index=True)\n",
      "C:\\Users\\alexsaunders\\AppData\\Local\\Temp\\ipykernel_13448\\724766185.py:13: FutureWarning: The frame.append method is deprecated and will be removed from pandas in a future version. Use pandas.concat instead.\n",
      "  dfScenes = dfScenes.append({'location':strFilePath, 'geometry': box(bounds[0], bounds[1], bounds[2], bounds[3])},ignore_index=True)\n",
      "C:\\Users\\alexsaunders\\AppData\\Local\\Temp\\ipykernel_13448\\724766185.py:13: FutureWarning: The frame.append method is deprecated and will be removed from pandas in a future version. Use pandas.concat instead.\n",
      "  dfScenes = dfScenes.append({'location':strFilePath, 'geometry': box(bounds[0], bounds[1], bounds[2], bounds[3])},ignore_index=True)\n"
     ]
    },
    {
     "name": "stdout",
     "output_type": "stream",
     "text": [
      "processing file 742/933\r"
     ]
    },
    {
     "name": "stderr",
     "output_type": "stream",
     "text": [
      "C:\\Users\\alexsaunders\\AppData\\Local\\Temp\\ipykernel_13448\\724766185.py:13: FutureWarning: The frame.append method is deprecated and will be removed from pandas in a future version. Use pandas.concat instead.\n",
      "  dfScenes = dfScenes.append({'location':strFilePath, 'geometry': box(bounds[0], bounds[1], bounds[2], bounds[3])},ignore_index=True)\n",
      "C:\\Users\\alexsaunders\\AppData\\Local\\Temp\\ipykernel_13448\\724766185.py:13: FutureWarning: The frame.append method is deprecated and will be removed from pandas in a future version. Use pandas.concat instead.\n",
      "  dfScenes = dfScenes.append({'location':strFilePath, 'geometry': box(bounds[0], bounds[1], bounds[2], bounds[3])},ignore_index=True)\n",
      "C:\\Users\\alexsaunders\\AppData\\Local\\Temp\\ipykernel_13448\\724766185.py:13: FutureWarning: The frame.append method is deprecated and will be removed from pandas in a future version. Use pandas.concat instead.\n",
      "  dfScenes = dfScenes.append({'location':strFilePath, 'geometry': box(bounds[0], bounds[1], bounds[2], bounds[3])},ignore_index=True)\n",
      "C:\\Users\\alexsaunders\\AppData\\Local\\Temp\\ipykernel_13448\\724766185.py:13: FutureWarning: The frame.append method is deprecated and will be removed from pandas in a future version. Use pandas.concat instead.\n",
      "  dfScenes = dfScenes.append({'location':strFilePath, 'geometry': box(bounds[0], bounds[1], bounds[2], bounds[3])},ignore_index=True)\n",
      "C:\\Users\\alexsaunders\\AppData\\Local\\Temp\\ipykernel_13448\\724766185.py:13: FutureWarning: The frame.append method is deprecated and will be removed from pandas in a future version. Use pandas.concat instead.\n",
      "  dfScenes = dfScenes.append({'location':strFilePath, 'geometry': box(bounds[0], bounds[1], bounds[2], bounds[3])},ignore_index=True)\n"
     ]
    },
    {
     "name": "stdout",
     "output_type": "stream",
     "text": [
      "processing file 747/933\r"
     ]
    },
    {
     "name": "stderr",
     "output_type": "stream",
     "text": [
      "C:\\Users\\alexsaunders\\AppData\\Local\\Temp\\ipykernel_13448\\724766185.py:13: FutureWarning: The frame.append method is deprecated and will be removed from pandas in a future version. Use pandas.concat instead.\n",
      "  dfScenes = dfScenes.append({'location':strFilePath, 'geometry': box(bounds[0], bounds[1], bounds[2], bounds[3])},ignore_index=True)\n",
      "C:\\Users\\alexsaunders\\AppData\\Local\\Temp\\ipykernel_13448\\724766185.py:13: FutureWarning: The frame.append method is deprecated and will be removed from pandas in a future version. Use pandas.concat instead.\n",
      "  dfScenes = dfScenes.append({'location':strFilePath, 'geometry': box(bounds[0], bounds[1], bounds[2], bounds[3])},ignore_index=True)\n",
      "C:\\Users\\alexsaunders\\AppData\\Local\\Temp\\ipykernel_13448\\724766185.py:13: FutureWarning: The frame.append method is deprecated and will be removed from pandas in a future version. Use pandas.concat instead.\n",
      "  dfScenes = dfScenes.append({'location':strFilePath, 'geometry': box(bounds[0], bounds[1], bounds[2], bounds[3])},ignore_index=True)\n",
      "C:\\Users\\alexsaunders\\AppData\\Local\\Temp\\ipykernel_13448\\724766185.py:13: FutureWarning: The frame.append method is deprecated and will be removed from pandas in a future version. Use pandas.concat instead.\n",
      "  dfScenes = dfScenes.append({'location':strFilePath, 'geometry': box(bounds[0], bounds[1], bounds[2], bounds[3])},ignore_index=True)\n",
      "C:\\Users\\alexsaunders\\AppData\\Local\\Temp\\ipykernel_13448\\724766185.py:13: FutureWarning: The frame.append method is deprecated and will be removed from pandas in a future version. Use pandas.concat instead.\n",
      "  dfScenes = dfScenes.append({'location':strFilePath, 'geometry': box(bounds[0], bounds[1], bounds[2], bounds[3])},ignore_index=True)\n",
      "C:\\Users\\alexsaunders\\AppData\\Local\\Temp\\ipykernel_13448\\724766185.py:13: FutureWarning: The frame.append method is deprecated and will be removed from pandas in a future version. Use pandas.concat instead.\n",
      "  dfScenes = dfScenes.append({'location':strFilePath, 'geometry': box(bounds[0], bounds[1], bounds[2], bounds[3])},ignore_index=True)\n"
     ]
    },
    {
     "name": "stdout",
     "output_type": "stream",
     "text": [
      "processing file 753/933\r"
     ]
    },
    {
     "name": "stderr",
     "output_type": "stream",
     "text": [
      "C:\\Users\\alexsaunders\\AppData\\Local\\Temp\\ipykernel_13448\\724766185.py:13: FutureWarning: The frame.append method is deprecated and will be removed from pandas in a future version. Use pandas.concat instead.\n",
      "  dfScenes = dfScenes.append({'location':strFilePath, 'geometry': box(bounds[0], bounds[1], bounds[2], bounds[3])},ignore_index=True)\n",
      "C:\\Users\\alexsaunders\\AppData\\Local\\Temp\\ipykernel_13448\\724766185.py:13: FutureWarning: The frame.append method is deprecated and will be removed from pandas in a future version. Use pandas.concat instead.\n",
      "  dfScenes = dfScenes.append({'location':strFilePath, 'geometry': box(bounds[0], bounds[1], bounds[2], bounds[3])},ignore_index=True)\n",
      "C:\\Users\\alexsaunders\\AppData\\Local\\Temp\\ipykernel_13448\\724766185.py:13: FutureWarning: The frame.append method is deprecated and will be removed from pandas in a future version. Use pandas.concat instead.\n",
      "  dfScenes = dfScenes.append({'location':strFilePath, 'geometry': box(bounds[0], bounds[1], bounds[2], bounds[3])},ignore_index=True)\n",
      "C:\\Users\\alexsaunders\\AppData\\Local\\Temp\\ipykernel_13448\\724766185.py:13: FutureWarning: The frame.append method is deprecated and will be removed from pandas in a future version. Use pandas.concat instead.\n",
      "  dfScenes = dfScenes.append({'location':strFilePath, 'geometry': box(bounds[0], bounds[1], bounds[2], bounds[3])},ignore_index=True)\n",
      "C:\\Users\\alexsaunders\\AppData\\Local\\Temp\\ipykernel_13448\\724766185.py:13: FutureWarning: The frame.append method is deprecated and will be removed from pandas in a future version. Use pandas.concat instead.\n",
      "  dfScenes = dfScenes.append({'location':strFilePath, 'geometry': box(bounds[0], bounds[1], bounds[2], bounds[3])},ignore_index=True)\n",
      "C:\\Users\\alexsaunders\\AppData\\Local\\Temp\\ipykernel_13448\\724766185.py:13: FutureWarning: The frame.append method is deprecated and will be removed from pandas in a future version. Use pandas.concat instead.\n",
      "  dfScenes = dfScenes.append({'location':strFilePath, 'geometry': box(bounds[0], bounds[1], bounds[2], bounds[3])},ignore_index=True)\n"
     ]
    },
    {
     "name": "stdout",
     "output_type": "stream",
     "text": [
      "processing file 759/933\r"
     ]
    },
    {
     "name": "stderr",
     "output_type": "stream",
     "text": [
      "C:\\Users\\alexsaunders\\AppData\\Local\\Temp\\ipykernel_13448\\724766185.py:13: FutureWarning: The frame.append method is deprecated and will be removed from pandas in a future version. Use pandas.concat instead.\n",
      "  dfScenes = dfScenes.append({'location':strFilePath, 'geometry': box(bounds[0], bounds[1], bounds[2], bounds[3])},ignore_index=True)\n",
      "C:\\Users\\alexsaunders\\AppData\\Local\\Temp\\ipykernel_13448\\724766185.py:13: FutureWarning: The frame.append method is deprecated and will be removed from pandas in a future version. Use pandas.concat instead.\n",
      "  dfScenes = dfScenes.append({'location':strFilePath, 'geometry': box(bounds[0], bounds[1], bounds[2], bounds[3])},ignore_index=True)\n",
      "C:\\Users\\alexsaunders\\AppData\\Local\\Temp\\ipykernel_13448\\724766185.py:13: FutureWarning: The frame.append method is deprecated and will be removed from pandas in a future version. Use pandas.concat instead.\n",
      "  dfScenes = dfScenes.append({'location':strFilePath, 'geometry': box(bounds[0], bounds[1], bounds[2], bounds[3])},ignore_index=True)\n",
      "C:\\Users\\alexsaunders\\AppData\\Local\\Temp\\ipykernel_13448\\724766185.py:13: FutureWarning: The frame.append method is deprecated and will be removed from pandas in a future version. Use pandas.concat instead.\n",
      "  dfScenes = dfScenes.append({'location':strFilePath, 'geometry': box(bounds[0], bounds[1], bounds[2], bounds[3])},ignore_index=True)\n",
      "C:\\Users\\alexsaunders\\AppData\\Local\\Temp\\ipykernel_13448\\724766185.py:13: FutureWarning: The frame.append method is deprecated and will be removed from pandas in a future version. Use pandas.concat instead.\n",
      "  dfScenes = dfScenes.append({'location':strFilePath, 'geometry': box(bounds[0], bounds[1], bounds[2], bounds[3])},ignore_index=True)\n",
      "C:\\Users\\alexsaunders\\AppData\\Local\\Temp\\ipykernel_13448\\724766185.py:13: FutureWarning: The frame.append method is deprecated and will be removed from pandas in a future version. Use pandas.concat instead.\n",
      "  dfScenes = dfScenes.append({'location':strFilePath, 'geometry': box(bounds[0], bounds[1], bounds[2], bounds[3])},ignore_index=True)\n"
     ]
    },
    {
     "name": "stdout",
     "output_type": "stream",
     "text": [
      "processing file 769/933\r"
     ]
    },
    {
     "name": "stderr",
     "output_type": "stream",
     "text": [
      "C:\\Users\\alexsaunders\\AppData\\Local\\Temp\\ipykernel_13448\\724766185.py:13: FutureWarning: The frame.append method is deprecated and will be removed from pandas in a future version. Use pandas.concat instead.\n",
      "  dfScenes = dfScenes.append({'location':strFilePath, 'geometry': box(bounds[0], bounds[1], bounds[2], bounds[3])},ignore_index=True)\n",
      "C:\\Users\\alexsaunders\\AppData\\Local\\Temp\\ipykernel_13448\\724766185.py:13: FutureWarning: The frame.append method is deprecated and will be removed from pandas in a future version. Use pandas.concat instead.\n",
      "  dfScenes = dfScenes.append({'location':strFilePath, 'geometry': box(bounds[0], bounds[1], bounds[2], bounds[3])},ignore_index=True)\n",
      "C:\\Users\\alexsaunders\\AppData\\Local\\Temp\\ipykernel_13448\\724766185.py:13: FutureWarning: The frame.append method is deprecated and will be removed from pandas in a future version. Use pandas.concat instead.\n",
      "  dfScenes = dfScenes.append({'location':strFilePath, 'geometry': box(bounds[0], bounds[1], bounds[2], bounds[3])},ignore_index=True)\n",
      "C:\\Users\\alexsaunders\\AppData\\Local\\Temp\\ipykernel_13448\\724766185.py:13: FutureWarning: The frame.append method is deprecated and will be removed from pandas in a future version. Use pandas.concat instead.\n",
      "  dfScenes = dfScenes.append({'location':strFilePath, 'geometry': box(bounds[0], bounds[1], bounds[2], bounds[3])},ignore_index=True)\n",
      "C:\\Users\\alexsaunders\\AppData\\Local\\Temp\\ipykernel_13448\\724766185.py:13: FutureWarning: The frame.append method is deprecated and will be removed from pandas in a future version. Use pandas.concat instead.\n",
      "  dfScenes = dfScenes.append({'location':strFilePath, 'geometry': box(bounds[0], bounds[1], bounds[2], bounds[3])},ignore_index=True)\n",
      "C:\\Users\\alexsaunders\\AppData\\Local\\Temp\\ipykernel_13448\\724766185.py:13: FutureWarning: The frame.append method is deprecated and will be removed from pandas in a future version. Use pandas.concat instead.\n",
      "  dfScenes = dfScenes.append({'location':strFilePath, 'geometry': box(bounds[0], bounds[1], bounds[2], bounds[3])},ignore_index=True)\n"
     ]
    },
    {
     "name": "stdout",
     "output_type": "stream",
     "text": [
      "processing file 774/933\r"
     ]
    },
    {
     "name": "stderr",
     "output_type": "stream",
     "text": [
      "C:\\Users\\alexsaunders\\AppData\\Local\\Temp\\ipykernel_13448\\724766185.py:13: FutureWarning: The frame.append method is deprecated and will be removed from pandas in a future version. Use pandas.concat instead.\n",
      "  dfScenes = dfScenes.append({'location':strFilePath, 'geometry': box(bounds[0], bounds[1], bounds[2], bounds[3])},ignore_index=True)\n",
      "C:\\Users\\alexsaunders\\AppData\\Local\\Temp\\ipykernel_13448\\724766185.py:13: FutureWarning: The frame.append method is deprecated and will be removed from pandas in a future version. Use pandas.concat instead.\n",
      "  dfScenes = dfScenes.append({'location':strFilePath, 'geometry': box(bounds[0], bounds[1], bounds[2], bounds[3])},ignore_index=True)\n",
      "C:\\Users\\alexsaunders\\AppData\\Local\\Temp\\ipykernel_13448\\724766185.py:13: FutureWarning: The frame.append method is deprecated and will be removed from pandas in a future version. Use pandas.concat instead.\n",
      "  dfScenes = dfScenes.append({'location':strFilePath, 'geometry': box(bounds[0], bounds[1], bounds[2], bounds[3])},ignore_index=True)\n"
     ]
    },
    {
     "name": "stdout",
     "output_type": "stream",
     "text": [
      "processing file 776/933\r"
     ]
    },
    {
     "name": "stderr",
     "output_type": "stream",
     "text": [
      "C:\\Users\\alexsaunders\\AppData\\Local\\Temp\\ipykernel_13448\\724766185.py:13: FutureWarning: The frame.append method is deprecated and will be removed from pandas in a future version. Use pandas.concat instead.\n",
      "  dfScenes = dfScenes.append({'location':strFilePath, 'geometry': box(bounds[0], bounds[1], bounds[2], bounds[3])},ignore_index=True)\n",
      "C:\\Users\\alexsaunders\\AppData\\Local\\Temp\\ipykernel_13448\\724766185.py:13: FutureWarning: The frame.append method is deprecated and will be removed from pandas in a future version. Use pandas.concat instead.\n",
      "  dfScenes = dfScenes.append({'location':strFilePath, 'geometry': box(bounds[0], bounds[1], bounds[2], bounds[3])},ignore_index=True)\n"
     ]
    },
    {
     "name": "stdout",
     "output_type": "stream",
     "text": [
      "processing file 779/933\r"
     ]
    },
    {
     "name": "stderr",
     "output_type": "stream",
     "text": [
      "C:\\Users\\alexsaunders\\AppData\\Local\\Temp\\ipykernel_13448\\724766185.py:13: FutureWarning: The frame.append method is deprecated and will be removed from pandas in a future version. Use pandas.concat instead.\n",
      "  dfScenes = dfScenes.append({'location':strFilePath, 'geometry': box(bounds[0], bounds[1], bounds[2], bounds[3])},ignore_index=True)\n",
      "C:\\Users\\alexsaunders\\AppData\\Local\\Temp\\ipykernel_13448\\724766185.py:13: FutureWarning: The frame.append method is deprecated and will be removed from pandas in a future version. Use pandas.concat instead.\n",
      "  dfScenes = dfScenes.append({'location':strFilePath, 'geometry': box(bounds[0], bounds[1], bounds[2], bounds[3])},ignore_index=True)\n",
      "C:\\Users\\alexsaunders\\AppData\\Local\\Temp\\ipykernel_13448\\724766185.py:13: FutureWarning: The frame.append method is deprecated and will be removed from pandas in a future version. Use pandas.concat instead.\n",
      "  dfScenes = dfScenes.append({'location':strFilePath, 'geometry': box(bounds[0], bounds[1], bounds[2], bounds[3])},ignore_index=True)\n"
     ]
    },
    {
     "name": "stdout",
     "output_type": "stream",
     "text": [
      "processing file 781/933\r"
     ]
    },
    {
     "name": "stderr",
     "output_type": "stream",
     "text": [
      "C:\\Users\\alexsaunders\\AppData\\Local\\Temp\\ipykernel_13448\\724766185.py:13: FutureWarning: The frame.append method is deprecated and will be removed from pandas in a future version. Use pandas.concat instead.\n",
      "  dfScenes = dfScenes.append({'location':strFilePath, 'geometry': box(bounds[0], bounds[1], bounds[2], bounds[3])},ignore_index=True)\n",
      "C:\\Users\\alexsaunders\\AppData\\Local\\Temp\\ipykernel_13448\\724766185.py:13: FutureWarning: The frame.append method is deprecated and will be removed from pandas in a future version. Use pandas.concat instead.\n",
      "  dfScenes = dfScenes.append({'location':strFilePath, 'geometry': box(bounds[0], bounds[1], bounds[2], bounds[3])},ignore_index=True)\n"
     ]
    },
    {
     "name": "stdout",
     "output_type": "stream",
     "text": [
      "processing file 784/933\r"
     ]
    },
    {
     "name": "stderr",
     "output_type": "stream",
     "text": [
      "C:\\Users\\alexsaunders\\AppData\\Local\\Temp\\ipykernel_13448\\724766185.py:13: FutureWarning: The frame.append method is deprecated and will be removed from pandas in a future version. Use pandas.concat instead.\n",
      "  dfScenes = dfScenes.append({'location':strFilePath, 'geometry': box(bounds[0], bounds[1], bounds[2], bounds[3])},ignore_index=True)\n",
      "C:\\Users\\alexsaunders\\AppData\\Local\\Temp\\ipykernel_13448\\724766185.py:13: FutureWarning: The frame.append method is deprecated and will be removed from pandas in a future version. Use pandas.concat instead.\n",
      "  dfScenes = dfScenes.append({'location':strFilePath, 'geometry': box(bounds[0], bounds[1], bounds[2], bounds[3])},ignore_index=True)\n",
      "C:\\Users\\alexsaunders\\AppData\\Local\\Temp\\ipykernel_13448\\724766185.py:13: FutureWarning: The frame.append method is deprecated and will be removed from pandas in a future version. Use pandas.concat instead.\n",
      "  dfScenes = dfScenes.append({'location':strFilePath, 'geometry': box(bounds[0], bounds[1], bounds[2], bounds[3])},ignore_index=True)\n"
     ]
    },
    {
     "name": "stdout",
     "output_type": "stream",
     "text": [
      "processing file 786/933\r"
     ]
    },
    {
     "name": "stderr",
     "output_type": "stream",
     "text": [
      "C:\\Users\\alexsaunders\\AppData\\Local\\Temp\\ipykernel_13448\\724766185.py:13: FutureWarning: The frame.append method is deprecated and will be removed from pandas in a future version. Use pandas.concat instead.\n",
      "  dfScenes = dfScenes.append({'location':strFilePath, 'geometry': box(bounds[0], bounds[1], bounds[2], bounds[3])},ignore_index=True)\n",
      "C:\\Users\\alexsaunders\\AppData\\Local\\Temp\\ipykernel_13448\\724766185.py:13: FutureWarning: The frame.append method is deprecated and will be removed from pandas in a future version. Use pandas.concat instead.\n",
      "  dfScenes = dfScenes.append({'location':strFilePath, 'geometry': box(bounds[0], bounds[1], bounds[2], bounds[3])},ignore_index=True)\n"
     ]
    },
    {
     "name": "stdout",
     "output_type": "stream",
     "text": [
      "processing file 789/933\r"
     ]
    },
    {
     "name": "stderr",
     "output_type": "stream",
     "text": [
      "C:\\Users\\alexsaunders\\AppData\\Local\\Temp\\ipykernel_13448\\724766185.py:13: FutureWarning: The frame.append method is deprecated and will be removed from pandas in a future version. Use pandas.concat instead.\n",
      "  dfScenes = dfScenes.append({'location':strFilePath, 'geometry': box(bounds[0], bounds[1], bounds[2], bounds[3])},ignore_index=True)\n",
      "C:\\Users\\alexsaunders\\AppData\\Local\\Temp\\ipykernel_13448\\724766185.py:13: FutureWarning: The frame.append method is deprecated and will be removed from pandas in a future version. Use pandas.concat instead.\n",
      "  dfScenes = dfScenes.append({'location':strFilePath, 'geometry': box(bounds[0], bounds[1], bounds[2], bounds[3])},ignore_index=True)\n",
      "C:\\Users\\alexsaunders\\AppData\\Local\\Temp\\ipykernel_13448\\724766185.py:13: FutureWarning: The frame.append method is deprecated and will be removed from pandas in a future version. Use pandas.concat instead.\n",
      "  dfScenes = dfScenes.append({'location':strFilePath, 'geometry': box(bounds[0], bounds[1], bounds[2], bounds[3])},ignore_index=True)\n"
     ]
    },
    {
     "name": "stdout",
     "output_type": "stream",
     "text": [
      "processing file 792/933\r"
     ]
    },
    {
     "name": "stderr",
     "output_type": "stream",
     "text": [
      "C:\\Users\\alexsaunders\\AppData\\Local\\Temp\\ipykernel_13448\\724766185.py:13: FutureWarning: The frame.append method is deprecated and will be removed from pandas in a future version. Use pandas.concat instead.\n",
      "  dfScenes = dfScenes.append({'location':strFilePath, 'geometry': box(bounds[0], bounds[1], bounds[2], bounds[3])},ignore_index=True)\n",
      "C:\\Users\\alexsaunders\\AppData\\Local\\Temp\\ipykernel_13448\\724766185.py:13: FutureWarning: The frame.append method is deprecated and will be removed from pandas in a future version. Use pandas.concat instead.\n",
      "  dfScenes = dfScenes.append({'location':strFilePath, 'geometry': box(bounds[0], bounds[1], bounds[2], bounds[3])},ignore_index=True)\n",
      "C:\\Users\\alexsaunders\\AppData\\Local\\Temp\\ipykernel_13448\\724766185.py:13: FutureWarning: The frame.append method is deprecated and will be removed from pandas in a future version. Use pandas.concat instead.\n",
      "  dfScenes = dfScenes.append({'location':strFilePath, 'geometry': box(bounds[0], bounds[1], bounds[2], bounds[3])},ignore_index=True)\n"
     ]
    },
    {
     "name": "stdout",
     "output_type": "stream",
     "text": [
      "processing file 794/933\r"
     ]
    },
    {
     "name": "stderr",
     "output_type": "stream",
     "text": [
      "C:\\Users\\alexsaunders\\AppData\\Local\\Temp\\ipykernel_13448\\724766185.py:13: FutureWarning: The frame.append method is deprecated and will be removed from pandas in a future version. Use pandas.concat instead.\n",
      "  dfScenes = dfScenes.append({'location':strFilePath, 'geometry': box(bounds[0], bounds[1], bounds[2], bounds[3])},ignore_index=True)\n",
      "C:\\Users\\alexsaunders\\AppData\\Local\\Temp\\ipykernel_13448\\724766185.py:13: FutureWarning: The frame.append method is deprecated and will be removed from pandas in a future version. Use pandas.concat instead.\n",
      "  dfScenes = dfScenes.append({'location':strFilePath, 'geometry': box(bounds[0], bounds[1], bounds[2], bounds[3])},ignore_index=True)\n"
     ]
    },
    {
     "name": "stdout",
     "output_type": "stream",
     "text": [
      "processing file 798/933\r"
     ]
    },
    {
     "name": "stderr",
     "output_type": "stream",
     "text": [
      "C:\\Users\\alexsaunders\\AppData\\Local\\Temp\\ipykernel_13448\\724766185.py:13: FutureWarning: The frame.append method is deprecated and will be removed from pandas in a future version. Use pandas.concat instead.\n",
      "  dfScenes = dfScenes.append({'location':strFilePath, 'geometry': box(bounds[0], bounds[1], bounds[2], bounds[3])},ignore_index=True)\n",
      "C:\\Users\\alexsaunders\\AppData\\Local\\Temp\\ipykernel_13448\\724766185.py:13: FutureWarning: The frame.append method is deprecated and will be removed from pandas in a future version. Use pandas.concat instead.\n",
      "  dfScenes = dfScenes.append({'location':strFilePath, 'geometry': box(bounds[0], bounds[1], bounds[2], bounds[3])},ignore_index=True)\n",
      "C:\\Users\\alexsaunders\\AppData\\Local\\Temp\\ipykernel_13448\\724766185.py:13: FutureWarning: The frame.append method is deprecated and will be removed from pandas in a future version. Use pandas.concat instead.\n",
      "  dfScenes = dfScenes.append({'location':strFilePath, 'geometry': box(bounds[0], bounds[1], bounds[2], bounds[3])},ignore_index=True)\n",
      "C:\\Users\\alexsaunders\\AppData\\Local\\Temp\\ipykernel_13448\\724766185.py:13: FutureWarning: The frame.append method is deprecated and will be removed from pandas in a future version. Use pandas.concat instead.\n",
      "  dfScenes = dfScenes.append({'location':strFilePath, 'geometry': box(bounds[0], bounds[1], bounds[2], bounds[3])},ignore_index=True)\n"
     ]
    },
    {
     "name": "stdout",
     "output_type": "stream",
     "text": [
      "processing file 799/933"
     ]
    },
    {
     "name": "stderr",
     "output_type": "stream",
     "text": [
      "C:\\Users\\alexsaunders\\AppData\\Local\\Temp\\ipykernel_13448\\724766185.py:13: FutureWarning: The frame.append method is deprecated and will be removed from pandas in a future version. Use pandas.concat instead.\n",
      "  dfScenes = dfScenes.append({'location':strFilePath, 'geometry': box(bounds[0], bounds[1], bounds[2], bounds[3])},ignore_index=True)\n",
      "C:\\Users\\alexsaunders\\AppData\\Local\\Temp\\ipykernel_13448\\724766185.py:13: FutureWarning: The frame.append method is deprecated and will be removed from pandas in a future version. Use pandas.concat instead.\n",
      "  dfScenes = dfScenes.append({'location':strFilePath, 'geometry': box(bounds[0], bounds[1], bounds[2], bounds[3])},ignore_index=True)\n",
      "C:\\Users\\alexsaunders\\AppData\\Local\\Temp\\ipykernel_13448\\724766185.py:13: FutureWarning: The frame.append method is deprecated and will be removed from pandas in a future version. Use pandas.concat instead.\n",
      "  dfScenes = dfScenes.append({'location':strFilePath, 'geometry': box(bounds[0], bounds[1], bounds[2], bounds[3])},ignore_index=True)\n",
      "C:\\Users\\alexsaunders\\AppData\\Local\\Temp\\ipykernel_13448\\724766185.py:13: FutureWarning: The frame.append method is deprecated and will be removed from pandas in a future version. Use pandas.concat instead.\n",
      "  dfScenes = dfScenes.append({'location':strFilePath, 'geometry': box(bounds[0], bounds[1], bounds[2], bounds[3])},ignore_index=True)\n",
      "C:\\Users\\alexsaunders\\AppData\\Local\\Temp\\ipykernel_13448\\724766185.py:13: FutureWarning: The frame.append method is deprecated and will be removed from pandas in a future version. Use pandas.concat instead.\n",
      "  dfScenes = dfScenes.append({'location':strFilePath, 'geometry': box(bounds[0], bounds[1], bounds[2], bounds[3])},ignore_index=True)\n",
      "C:\\Users\\alexsaunders\\AppData\\Local\\Temp\\ipykernel_13448\\724766185.py:13: FutureWarning: The frame.append method is deprecated and will be removed from pandas in a future version. Use pandas.concat instead.\n",
      "  dfScenes = dfScenes.append({'location':strFilePath, 'geometry': box(bounds[0], bounds[1], bounds[2], bounds[3])},ignore_index=True)\n"
     ]
    },
    {
     "name": "stdout",
     "output_type": "stream",
     "text": [
      "processing file 804/933\r"
     ]
    },
    {
     "name": "stderr",
     "output_type": "stream",
     "text": [
      "C:\\Users\\alexsaunders\\AppData\\Local\\Temp\\ipykernel_13448\\724766185.py:13: FutureWarning: The frame.append method is deprecated and will be removed from pandas in a future version. Use pandas.concat instead.\n",
      "  dfScenes = dfScenes.append({'location':strFilePath, 'geometry': box(bounds[0], bounds[1], bounds[2], bounds[3])},ignore_index=True)\n",
      "C:\\Users\\alexsaunders\\AppData\\Local\\Temp\\ipykernel_13448\\724766185.py:13: FutureWarning: The frame.append method is deprecated and will be removed from pandas in a future version. Use pandas.concat instead.\n",
      "  dfScenes = dfScenes.append({'location':strFilePath, 'geometry': box(bounds[0], bounds[1], bounds[2], bounds[3])},ignore_index=True)\n",
      "C:\\Users\\alexsaunders\\AppData\\Local\\Temp\\ipykernel_13448\\724766185.py:13: FutureWarning: The frame.append method is deprecated and will be removed from pandas in a future version. Use pandas.concat instead.\n",
      "  dfScenes = dfScenes.append({'location':strFilePath, 'geometry': box(bounds[0], bounds[1], bounds[2], bounds[3])},ignore_index=True)\n",
      "C:\\Users\\alexsaunders\\AppData\\Local\\Temp\\ipykernel_13448\\724766185.py:13: FutureWarning: The frame.append method is deprecated and will be removed from pandas in a future version. Use pandas.concat instead.\n",
      "  dfScenes = dfScenes.append({'location':strFilePath, 'geometry': box(bounds[0], bounds[1], bounds[2], bounds[3])},ignore_index=True)\n",
      "C:\\Users\\alexsaunders\\AppData\\Local\\Temp\\ipykernel_13448\\724766185.py:13: FutureWarning: The frame.append method is deprecated and will be removed from pandas in a future version. Use pandas.concat instead.\n",
      "  dfScenes = dfScenes.append({'location':strFilePath, 'geometry': box(bounds[0], bounds[1], bounds[2], bounds[3])},ignore_index=True)\n",
      "C:\\Users\\alexsaunders\\AppData\\Local\\Temp\\ipykernel_13448\\724766185.py:13: FutureWarning: The frame.append method is deprecated and will be removed from pandas in a future version. Use pandas.concat instead.\n",
      "  dfScenes = dfScenes.append({'location':strFilePath, 'geometry': box(bounds[0], bounds[1], bounds[2], bounds[3])},ignore_index=True)\n"
     ]
    },
    {
     "name": "stdout",
     "output_type": "stream",
     "text": [
      "processing file 810/933\r"
     ]
    },
    {
     "name": "stderr",
     "output_type": "stream",
     "text": [
      "C:\\Users\\alexsaunders\\AppData\\Local\\Temp\\ipykernel_13448\\724766185.py:13: FutureWarning: The frame.append method is deprecated and will be removed from pandas in a future version. Use pandas.concat instead.\n",
      "  dfScenes = dfScenes.append({'location':strFilePath, 'geometry': box(bounds[0], bounds[1], bounds[2], bounds[3])},ignore_index=True)\n",
      "C:\\Users\\alexsaunders\\AppData\\Local\\Temp\\ipykernel_13448\\724766185.py:13: FutureWarning: The frame.append method is deprecated and will be removed from pandas in a future version. Use pandas.concat instead.\n",
      "  dfScenes = dfScenes.append({'location':strFilePath, 'geometry': box(bounds[0], bounds[1], bounds[2], bounds[3])},ignore_index=True)\n",
      "C:\\Users\\alexsaunders\\AppData\\Local\\Temp\\ipykernel_13448\\724766185.py:13: FutureWarning: The frame.append method is deprecated and will be removed from pandas in a future version. Use pandas.concat instead.\n",
      "  dfScenes = dfScenes.append({'location':strFilePath, 'geometry': box(bounds[0], bounds[1], bounds[2], bounds[3])},ignore_index=True)\n",
      "C:\\Users\\alexsaunders\\AppData\\Local\\Temp\\ipykernel_13448\\724766185.py:13: FutureWarning: The frame.append method is deprecated and will be removed from pandas in a future version. Use pandas.concat instead.\n",
      "  dfScenes = dfScenes.append({'location':strFilePath, 'geometry': box(bounds[0], bounds[1], bounds[2], bounds[3])},ignore_index=True)\n",
      "C:\\Users\\alexsaunders\\AppData\\Local\\Temp\\ipykernel_13448\\724766185.py:13: FutureWarning: The frame.append method is deprecated and will be removed from pandas in a future version. Use pandas.concat instead.\n",
      "  dfScenes = dfScenes.append({'location':strFilePath, 'geometry': box(bounds[0], bounds[1], bounds[2], bounds[3])},ignore_index=True)\n",
      "C:\\Users\\alexsaunders\\AppData\\Local\\Temp\\ipykernel_13448\\724766185.py:13: FutureWarning: The frame.append method is deprecated and will be removed from pandas in a future version. Use pandas.concat instead.\n",
      "  dfScenes = dfScenes.append({'location':strFilePath, 'geometry': box(bounds[0], bounds[1], bounds[2], bounds[3])},ignore_index=True)\n"
     ]
    },
    {
     "name": "stdout",
     "output_type": "stream",
     "text": [
      "processing file 816/933\r"
     ]
    },
    {
     "name": "stderr",
     "output_type": "stream",
     "text": [
      "C:\\Users\\alexsaunders\\AppData\\Local\\Temp\\ipykernel_13448\\724766185.py:13: FutureWarning: The frame.append method is deprecated and will be removed from pandas in a future version. Use pandas.concat instead.\n",
      "  dfScenes = dfScenes.append({'location':strFilePath, 'geometry': box(bounds[0], bounds[1], bounds[2], bounds[3])},ignore_index=True)\n",
      "C:\\Users\\alexsaunders\\AppData\\Local\\Temp\\ipykernel_13448\\724766185.py:13: FutureWarning: The frame.append method is deprecated and will be removed from pandas in a future version. Use pandas.concat instead.\n",
      "  dfScenes = dfScenes.append({'location':strFilePath, 'geometry': box(bounds[0], bounds[1], bounds[2], bounds[3])},ignore_index=True)\n",
      "C:\\Users\\alexsaunders\\AppData\\Local\\Temp\\ipykernel_13448\\724766185.py:13: FutureWarning: The frame.append method is deprecated and will be removed from pandas in a future version. Use pandas.concat instead.\n",
      "  dfScenes = dfScenes.append({'location':strFilePath, 'geometry': box(bounds[0], bounds[1], bounds[2], bounds[3])},ignore_index=True)\n",
      "C:\\Users\\alexsaunders\\AppData\\Local\\Temp\\ipykernel_13448\\724766185.py:13: FutureWarning: The frame.append method is deprecated and will be removed from pandas in a future version. Use pandas.concat instead.\n",
      "  dfScenes = dfScenes.append({'location':strFilePath, 'geometry': box(bounds[0], bounds[1], bounds[2], bounds[3])},ignore_index=True)\n",
      "C:\\Users\\alexsaunders\\AppData\\Local\\Temp\\ipykernel_13448\\724766185.py:13: FutureWarning: The frame.append method is deprecated and will be removed from pandas in a future version. Use pandas.concat instead.\n",
      "  dfScenes = dfScenes.append({'location':strFilePath, 'geometry': box(bounds[0], bounds[1], bounds[2], bounds[3])},ignore_index=True)\n"
     ]
    },
    {
     "name": "stdout",
     "output_type": "stream",
     "text": [
      "processing file 821/933\r"
     ]
    },
    {
     "name": "stderr",
     "output_type": "stream",
     "text": [
      "C:\\Users\\alexsaunders\\AppData\\Local\\Temp\\ipykernel_13448\\724766185.py:13: FutureWarning: The frame.append method is deprecated and will be removed from pandas in a future version. Use pandas.concat instead.\n",
      "  dfScenes = dfScenes.append({'location':strFilePath, 'geometry': box(bounds[0], bounds[1], bounds[2], bounds[3])},ignore_index=True)\n",
      "C:\\Users\\alexsaunders\\AppData\\Local\\Temp\\ipykernel_13448\\724766185.py:13: FutureWarning: The frame.append method is deprecated and will be removed from pandas in a future version. Use pandas.concat instead.\n",
      "  dfScenes = dfScenes.append({'location':strFilePath, 'geometry': box(bounds[0], bounds[1], bounds[2], bounds[3])},ignore_index=True)\n",
      "C:\\Users\\alexsaunders\\AppData\\Local\\Temp\\ipykernel_13448\\724766185.py:13: FutureWarning: The frame.append method is deprecated and will be removed from pandas in a future version. Use pandas.concat instead.\n",
      "  dfScenes = dfScenes.append({'location':strFilePath, 'geometry': box(bounds[0], bounds[1], bounds[2], bounds[3])},ignore_index=True)\n",
      "C:\\Users\\alexsaunders\\AppData\\Local\\Temp\\ipykernel_13448\\724766185.py:13: FutureWarning: The frame.append method is deprecated and will be removed from pandas in a future version. Use pandas.concat instead.\n",
      "  dfScenes = dfScenes.append({'location':strFilePath, 'geometry': box(bounds[0], bounds[1], bounds[2], bounds[3])},ignore_index=True)\n",
      "C:\\Users\\alexsaunders\\AppData\\Local\\Temp\\ipykernel_13448\\724766185.py:13: FutureWarning: The frame.append method is deprecated and will be removed from pandas in a future version. Use pandas.concat instead.\n",
      "  dfScenes = dfScenes.append({'location':strFilePath, 'geometry': box(bounds[0], bounds[1], bounds[2], bounds[3])},ignore_index=True)\n",
      "C:\\Users\\alexsaunders\\AppData\\Local\\Temp\\ipykernel_13448\\724766185.py:13: FutureWarning: The frame.append method is deprecated and will be removed from pandas in a future version. Use pandas.concat instead.\n",
      "  dfScenes = dfScenes.append({'location':strFilePath, 'geometry': box(bounds[0], bounds[1], bounds[2], bounds[3])},ignore_index=True)\n"
     ]
    },
    {
     "name": "stdout",
     "output_type": "stream",
     "text": [
      "processing file 827/933\r"
     ]
    },
    {
     "name": "stderr",
     "output_type": "stream",
     "text": [
      "C:\\Users\\alexsaunders\\AppData\\Local\\Temp\\ipykernel_13448\\724766185.py:13: FutureWarning: The frame.append method is deprecated and will be removed from pandas in a future version. Use pandas.concat instead.\n",
      "  dfScenes = dfScenes.append({'location':strFilePath, 'geometry': box(bounds[0], bounds[1], bounds[2], bounds[3])},ignore_index=True)\n",
      "C:\\Users\\alexsaunders\\AppData\\Local\\Temp\\ipykernel_13448\\724766185.py:13: FutureWarning: The frame.append method is deprecated and will be removed from pandas in a future version. Use pandas.concat instead.\n",
      "  dfScenes = dfScenes.append({'location':strFilePath, 'geometry': box(bounds[0], bounds[1], bounds[2], bounds[3])},ignore_index=True)\n",
      "C:\\Users\\alexsaunders\\AppData\\Local\\Temp\\ipykernel_13448\\724766185.py:13: FutureWarning: The frame.append method is deprecated and will be removed from pandas in a future version. Use pandas.concat instead.\n",
      "  dfScenes = dfScenes.append({'location':strFilePath, 'geometry': box(bounds[0], bounds[1], bounds[2], bounds[3])},ignore_index=True)\n",
      "C:\\Users\\alexsaunders\\AppData\\Local\\Temp\\ipykernel_13448\\724766185.py:13: FutureWarning: The frame.append method is deprecated and will be removed from pandas in a future version. Use pandas.concat instead.\n",
      "  dfScenes = dfScenes.append({'location':strFilePath, 'geometry': box(bounds[0], bounds[1], bounds[2], bounds[3])},ignore_index=True)\n",
      "C:\\Users\\alexsaunders\\AppData\\Local\\Temp\\ipykernel_13448\\724766185.py:13: FutureWarning: The frame.append method is deprecated and will be removed from pandas in a future version. Use pandas.concat instead.\n",
      "  dfScenes = dfScenes.append({'location':strFilePath, 'geometry': box(bounds[0], bounds[1], bounds[2], bounds[3])},ignore_index=True)\n",
      "C:\\Users\\alexsaunders\\AppData\\Local\\Temp\\ipykernel_13448\\724766185.py:13: FutureWarning: The frame.append method is deprecated and will be removed from pandas in a future version. Use pandas.concat instead.\n",
      "  dfScenes = dfScenes.append({'location':strFilePath, 'geometry': box(bounds[0], bounds[1], bounds[2], bounds[3])},ignore_index=True)\n"
     ]
    },
    {
     "name": "stdout",
     "output_type": "stream",
     "text": [
      "processing file 833/933\r"
     ]
    },
    {
     "name": "stderr",
     "output_type": "stream",
     "text": [
      "C:\\Users\\alexsaunders\\AppData\\Local\\Temp\\ipykernel_13448\\724766185.py:13: FutureWarning: The frame.append method is deprecated and will be removed from pandas in a future version. Use pandas.concat instead.\n",
      "  dfScenes = dfScenes.append({'location':strFilePath, 'geometry': box(bounds[0], bounds[1], bounds[2], bounds[3])},ignore_index=True)\n",
      "C:\\Users\\alexsaunders\\AppData\\Local\\Temp\\ipykernel_13448\\724766185.py:13: FutureWarning: The frame.append method is deprecated and will be removed from pandas in a future version. Use pandas.concat instead.\n",
      "  dfScenes = dfScenes.append({'location':strFilePath, 'geometry': box(bounds[0], bounds[1], bounds[2], bounds[3])},ignore_index=True)\n",
      "C:\\Users\\alexsaunders\\AppData\\Local\\Temp\\ipykernel_13448\\724766185.py:13: FutureWarning: The frame.append method is deprecated and will be removed from pandas in a future version. Use pandas.concat instead.\n",
      "  dfScenes = dfScenes.append({'location':strFilePath, 'geometry': box(bounds[0], bounds[1], bounds[2], bounds[3])},ignore_index=True)\n",
      "C:\\Users\\alexsaunders\\AppData\\Local\\Temp\\ipykernel_13448\\724766185.py:13: FutureWarning: The frame.append method is deprecated and will be removed from pandas in a future version. Use pandas.concat instead.\n",
      "  dfScenes = dfScenes.append({'location':strFilePath, 'geometry': box(bounds[0], bounds[1], bounds[2], bounds[3])},ignore_index=True)\n"
     ]
    },
    {
     "name": "stdout",
     "output_type": "stream",
     "text": [
      "processing file 838/933\r"
     ]
    },
    {
     "name": "stderr",
     "output_type": "stream",
     "text": [
      "C:\\Users\\alexsaunders\\AppData\\Local\\Temp\\ipykernel_13448\\724766185.py:13: FutureWarning: The frame.append method is deprecated and will be removed from pandas in a future version. Use pandas.concat instead.\n",
      "  dfScenes = dfScenes.append({'location':strFilePath, 'geometry': box(bounds[0], bounds[1], bounds[2], bounds[3])},ignore_index=True)\n",
      "C:\\Users\\alexsaunders\\AppData\\Local\\Temp\\ipykernel_13448\\724766185.py:13: FutureWarning: The frame.append method is deprecated and will be removed from pandas in a future version. Use pandas.concat instead.\n",
      "  dfScenes = dfScenes.append({'location':strFilePath, 'geometry': box(bounds[0], bounds[1], bounds[2], bounds[3])},ignore_index=True)\n",
      "C:\\Users\\alexsaunders\\AppData\\Local\\Temp\\ipykernel_13448\\724766185.py:13: FutureWarning: The frame.append method is deprecated and will be removed from pandas in a future version. Use pandas.concat instead.\n",
      "  dfScenes = dfScenes.append({'location':strFilePath, 'geometry': box(bounds[0], bounds[1], bounds[2], bounds[3])},ignore_index=True)\n",
      "C:\\Users\\alexsaunders\\AppData\\Local\\Temp\\ipykernel_13448\\724766185.py:13: FutureWarning: The frame.append method is deprecated and will be removed from pandas in a future version. Use pandas.concat instead.\n",
      "  dfScenes = dfScenes.append({'location':strFilePath, 'geometry': box(bounds[0], bounds[1], bounds[2], bounds[3])},ignore_index=True)\n"
     ]
    },
    {
     "name": "stdout",
     "output_type": "stream",
     "text": [
      "processing file 844/933\r"
     ]
    },
    {
     "name": "stderr",
     "output_type": "stream",
     "text": [
      "C:\\Users\\alexsaunders\\AppData\\Local\\Temp\\ipykernel_13448\\724766185.py:13: FutureWarning: The frame.append method is deprecated and will be removed from pandas in a future version. Use pandas.concat instead.\n",
      "  dfScenes = dfScenes.append({'location':strFilePath, 'geometry': box(bounds[0], bounds[1], bounds[2], bounds[3])},ignore_index=True)\n",
      "C:\\Users\\alexsaunders\\AppData\\Local\\Temp\\ipykernel_13448\\724766185.py:13: FutureWarning: The frame.append method is deprecated and will be removed from pandas in a future version. Use pandas.concat instead.\n",
      "  dfScenes = dfScenes.append({'location':strFilePath, 'geometry': box(bounds[0], bounds[1], bounds[2], bounds[3])},ignore_index=True)\n",
      "C:\\Users\\alexsaunders\\AppData\\Local\\Temp\\ipykernel_13448\\724766185.py:13: FutureWarning: The frame.append method is deprecated and will be removed from pandas in a future version. Use pandas.concat instead.\n",
      "  dfScenes = dfScenes.append({'location':strFilePath, 'geometry': box(bounds[0], bounds[1], bounds[2], bounds[3])},ignore_index=True)\n",
      "C:\\Users\\alexsaunders\\AppData\\Local\\Temp\\ipykernel_13448\\724766185.py:13: FutureWarning: The frame.append method is deprecated and will be removed from pandas in a future version. Use pandas.concat instead.\n",
      "  dfScenes = dfScenes.append({'location':strFilePath, 'geometry': box(bounds[0], bounds[1], bounds[2], bounds[3])},ignore_index=True)\n",
      "C:\\Users\\alexsaunders\\AppData\\Local\\Temp\\ipykernel_13448\\724766185.py:13: FutureWarning: The frame.append method is deprecated and will be removed from pandas in a future version. Use pandas.concat instead.\n",
      "  dfScenes = dfScenes.append({'location':strFilePath, 'geometry': box(bounds[0], bounds[1], bounds[2], bounds[3])},ignore_index=True)\n",
      "C:\\Users\\alexsaunders\\AppData\\Local\\Temp\\ipykernel_13448\\724766185.py:13: FutureWarning: The frame.append method is deprecated and will be removed from pandas in a future version. Use pandas.concat instead.\n",
      "  dfScenes = dfScenes.append({'location':strFilePath, 'geometry': box(bounds[0], bounds[1], bounds[2], bounds[3])},ignore_index=True)\n"
     ]
    },
    {
     "name": "stdout",
     "output_type": "stream",
     "text": [
      "processing file 850/933\r"
     ]
    },
    {
     "name": "stderr",
     "output_type": "stream",
     "text": [
      "C:\\Users\\alexsaunders\\AppData\\Local\\Temp\\ipykernel_13448\\724766185.py:13: FutureWarning: The frame.append method is deprecated and will be removed from pandas in a future version. Use pandas.concat instead.\n",
      "  dfScenes = dfScenes.append({'location':strFilePath, 'geometry': box(bounds[0], bounds[1], bounds[2], bounds[3])},ignore_index=True)\n",
      "C:\\Users\\alexsaunders\\AppData\\Local\\Temp\\ipykernel_13448\\724766185.py:13: FutureWarning: The frame.append method is deprecated and will be removed from pandas in a future version. Use pandas.concat instead.\n",
      "  dfScenes = dfScenes.append({'location':strFilePath, 'geometry': box(bounds[0], bounds[1], bounds[2], bounds[3])},ignore_index=True)\n",
      "C:\\Users\\alexsaunders\\AppData\\Local\\Temp\\ipykernel_13448\\724766185.py:13: FutureWarning: The frame.append method is deprecated and will be removed from pandas in a future version. Use pandas.concat instead.\n",
      "  dfScenes = dfScenes.append({'location':strFilePath, 'geometry': box(bounds[0], bounds[1], bounds[2], bounds[3])},ignore_index=True)\n",
      "C:\\Users\\alexsaunders\\AppData\\Local\\Temp\\ipykernel_13448\\724766185.py:13: FutureWarning: The frame.append method is deprecated and will be removed from pandas in a future version. Use pandas.concat instead.\n",
      "  dfScenes = dfScenes.append({'location':strFilePath, 'geometry': box(bounds[0], bounds[1], bounds[2], bounds[3])},ignore_index=True)\n",
      "C:\\Users\\alexsaunders\\AppData\\Local\\Temp\\ipykernel_13448\\724766185.py:13: FutureWarning: The frame.append method is deprecated and will be removed from pandas in a future version. Use pandas.concat instead.\n",
      "  dfScenes = dfScenes.append({'location':strFilePath, 'geometry': box(bounds[0], bounds[1], bounds[2], bounds[3])},ignore_index=True)\n",
      "C:\\Users\\alexsaunders\\AppData\\Local\\Temp\\ipykernel_13448\\724766185.py:13: FutureWarning: The frame.append method is deprecated and will be removed from pandas in a future version. Use pandas.concat instead.\n",
      "  dfScenes = dfScenes.append({'location':strFilePath, 'geometry': box(bounds[0], bounds[1], bounds[2], bounds[3])},ignore_index=True)\n"
     ]
    },
    {
     "name": "stdout",
     "output_type": "stream",
     "text": [
      "processing file 856/933\r"
     ]
    },
    {
     "name": "stderr",
     "output_type": "stream",
     "text": [
      "C:\\Users\\alexsaunders\\AppData\\Local\\Temp\\ipykernel_13448\\724766185.py:13: FutureWarning: The frame.append method is deprecated and will be removed from pandas in a future version. Use pandas.concat instead.\n",
      "  dfScenes = dfScenes.append({'location':strFilePath, 'geometry': box(bounds[0], bounds[1], bounds[2], bounds[3])},ignore_index=True)\n",
      "C:\\Users\\alexsaunders\\AppData\\Local\\Temp\\ipykernel_13448\\724766185.py:13: FutureWarning: The frame.append method is deprecated and will be removed from pandas in a future version. Use pandas.concat instead.\n",
      "  dfScenes = dfScenes.append({'location':strFilePath, 'geometry': box(bounds[0], bounds[1], bounds[2], bounds[3])},ignore_index=True)\n",
      "C:\\Users\\alexsaunders\\AppData\\Local\\Temp\\ipykernel_13448\\724766185.py:13: FutureWarning: The frame.append method is deprecated and will be removed from pandas in a future version. Use pandas.concat instead.\n",
      "  dfScenes = dfScenes.append({'location':strFilePath, 'geometry': box(bounds[0], bounds[1], bounds[2], bounds[3])},ignore_index=True)\n",
      "C:\\Users\\alexsaunders\\AppData\\Local\\Temp\\ipykernel_13448\\724766185.py:13: FutureWarning: The frame.append method is deprecated and will be removed from pandas in a future version. Use pandas.concat instead.\n",
      "  dfScenes = dfScenes.append({'location':strFilePath, 'geometry': box(bounds[0], bounds[1], bounds[2], bounds[3])},ignore_index=True)\n",
      "C:\\Users\\alexsaunders\\AppData\\Local\\Temp\\ipykernel_13448\\724766185.py:13: FutureWarning: The frame.append method is deprecated and will be removed from pandas in a future version. Use pandas.concat instead.\n",
      "  dfScenes = dfScenes.append({'location':strFilePath, 'geometry': box(bounds[0], bounds[1], bounds[2], bounds[3])},ignore_index=True)\n",
      "C:\\Users\\alexsaunders\\AppData\\Local\\Temp\\ipykernel_13448\\724766185.py:13: FutureWarning: The frame.append method is deprecated and will be removed from pandas in a future version. Use pandas.concat instead.\n",
      "  dfScenes = dfScenes.append({'location':strFilePath, 'geometry': box(bounds[0], bounds[1], bounds[2], bounds[3])},ignore_index=True)\n"
     ]
    },
    {
     "name": "stdout",
     "output_type": "stream",
     "text": [
      "processing file 863/933\r"
     ]
    },
    {
     "name": "stderr",
     "output_type": "stream",
     "text": [
      "C:\\Users\\alexsaunders\\AppData\\Local\\Temp\\ipykernel_13448\\724766185.py:13: FutureWarning: The frame.append method is deprecated and will be removed from pandas in a future version. Use pandas.concat instead.\n",
      "  dfScenes = dfScenes.append({'location':strFilePath, 'geometry': box(bounds[0], bounds[1], bounds[2], bounds[3])},ignore_index=True)\n",
      "C:\\Users\\alexsaunders\\AppData\\Local\\Temp\\ipykernel_13448\\724766185.py:13: FutureWarning: The frame.append method is deprecated and will be removed from pandas in a future version. Use pandas.concat instead.\n",
      "  dfScenes = dfScenes.append({'location':strFilePath, 'geometry': box(bounds[0], bounds[1], bounds[2], bounds[3])},ignore_index=True)\n",
      "C:\\Users\\alexsaunders\\AppData\\Local\\Temp\\ipykernel_13448\\724766185.py:13: FutureWarning: The frame.append method is deprecated and will be removed from pandas in a future version. Use pandas.concat instead.\n",
      "  dfScenes = dfScenes.append({'location':strFilePath, 'geometry': box(bounds[0], bounds[1], bounds[2], bounds[3])},ignore_index=True)\n",
      "C:\\Users\\alexsaunders\\AppData\\Local\\Temp\\ipykernel_13448\\724766185.py:13: FutureWarning: The frame.append method is deprecated and will be removed from pandas in a future version. Use pandas.concat instead.\n",
      "  dfScenes = dfScenes.append({'location':strFilePath, 'geometry': box(bounds[0], bounds[1], bounds[2], bounds[3])},ignore_index=True)\n",
      "C:\\Users\\alexsaunders\\AppData\\Local\\Temp\\ipykernel_13448\\724766185.py:13: FutureWarning: The frame.append method is deprecated and will be removed from pandas in a future version. Use pandas.concat instead.\n",
      "  dfScenes = dfScenes.append({'location':strFilePath, 'geometry': box(bounds[0], bounds[1], bounds[2], bounds[3])},ignore_index=True)\n",
      "C:\\Users\\alexsaunders\\AppData\\Local\\Temp\\ipykernel_13448\\724766185.py:13: FutureWarning: The frame.append method is deprecated and will be removed from pandas in a future version. Use pandas.concat instead.\n",
      "  dfScenes = dfScenes.append({'location':strFilePath, 'geometry': box(bounds[0], bounds[1], bounds[2], bounds[3])},ignore_index=True)\n"
     ]
    },
    {
     "name": "stdout",
     "output_type": "stream",
     "text": [
      "processing file 869/933\r"
     ]
    },
    {
     "name": "stderr",
     "output_type": "stream",
     "text": [
      "C:\\Users\\alexsaunders\\AppData\\Local\\Temp\\ipykernel_13448\\724766185.py:13: FutureWarning: The frame.append method is deprecated and will be removed from pandas in a future version. Use pandas.concat instead.\n",
      "  dfScenes = dfScenes.append({'location':strFilePath, 'geometry': box(bounds[0], bounds[1], bounds[2], bounds[3])},ignore_index=True)\n",
      "C:\\Users\\alexsaunders\\AppData\\Local\\Temp\\ipykernel_13448\\724766185.py:13: FutureWarning: The frame.append method is deprecated and will be removed from pandas in a future version. Use pandas.concat instead.\n",
      "  dfScenes = dfScenes.append({'location':strFilePath, 'geometry': box(bounds[0], bounds[1], bounds[2], bounds[3])},ignore_index=True)\n",
      "C:\\Users\\alexsaunders\\AppData\\Local\\Temp\\ipykernel_13448\\724766185.py:13: FutureWarning: The frame.append method is deprecated and will be removed from pandas in a future version. Use pandas.concat instead.\n",
      "  dfScenes = dfScenes.append({'location':strFilePath, 'geometry': box(bounds[0], bounds[1], bounds[2], bounds[3])},ignore_index=True)\n",
      "C:\\Users\\alexsaunders\\AppData\\Local\\Temp\\ipykernel_13448\\724766185.py:13: FutureWarning: The frame.append method is deprecated and will be removed from pandas in a future version. Use pandas.concat instead.\n",
      "  dfScenes = dfScenes.append({'location':strFilePath, 'geometry': box(bounds[0], bounds[1], bounds[2], bounds[3])},ignore_index=True)\n",
      "C:\\Users\\alexsaunders\\AppData\\Local\\Temp\\ipykernel_13448\\724766185.py:13: FutureWarning: The frame.append method is deprecated and will be removed from pandas in a future version. Use pandas.concat instead.\n",
      "  dfScenes = dfScenes.append({'location':strFilePath, 'geometry': box(bounds[0], bounds[1], bounds[2], bounds[3])},ignore_index=True)\n",
      "C:\\Users\\alexsaunders\\AppData\\Local\\Temp\\ipykernel_13448\\724766185.py:13: FutureWarning: The frame.append method is deprecated and will be removed from pandas in a future version. Use pandas.concat instead.\n",
      "  dfScenes = dfScenes.append({'location':strFilePath, 'geometry': box(bounds[0], bounds[1], bounds[2], bounds[3])},ignore_index=True)\n"
     ]
    },
    {
     "name": "stdout",
     "output_type": "stream",
     "text": [
      "processing file 875/933\r"
     ]
    },
    {
     "name": "stderr",
     "output_type": "stream",
     "text": [
      "C:\\Users\\alexsaunders\\AppData\\Local\\Temp\\ipykernel_13448\\724766185.py:13: FutureWarning: The frame.append method is deprecated and will be removed from pandas in a future version. Use pandas.concat instead.\n",
      "  dfScenes = dfScenes.append({'location':strFilePath, 'geometry': box(bounds[0], bounds[1], bounds[2], bounds[3])},ignore_index=True)\n",
      "C:\\Users\\alexsaunders\\AppData\\Local\\Temp\\ipykernel_13448\\724766185.py:13: FutureWarning: The frame.append method is deprecated and will be removed from pandas in a future version. Use pandas.concat instead.\n",
      "  dfScenes = dfScenes.append({'location':strFilePath, 'geometry': box(bounds[0], bounds[1], bounds[2], bounds[3])},ignore_index=True)\n",
      "C:\\Users\\alexsaunders\\AppData\\Local\\Temp\\ipykernel_13448\\724766185.py:13: FutureWarning: The frame.append method is deprecated and will be removed from pandas in a future version. Use pandas.concat instead.\n",
      "  dfScenes = dfScenes.append({'location':strFilePath, 'geometry': box(bounds[0], bounds[1], bounds[2], bounds[3])},ignore_index=True)\n",
      "C:\\Users\\alexsaunders\\AppData\\Local\\Temp\\ipykernel_13448\\724766185.py:13: FutureWarning: The frame.append method is deprecated and will be removed from pandas in a future version. Use pandas.concat instead.\n",
      "  dfScenes = dfScenes.append({'location':strFilePath, 'geometry': box(bounds[0], bounds[1], bounds[2], bounds[3])},ignore_index=True)\n",
      "C:\\Users\\alexsaunders\\AppData\\Local\\Temp\\ipykernel_13448\\724766185.py:13: FutureWarning: The frame.append method is deprecated and will be removed from pandas in a future version. Use pandas.concat instead.\n",
      "  dfScenes = dfScenes.append({'location':strFilePath, 'geometry': box(bounds[0], bounds[1], bounds[2], bounds[3])},ignore_index=True)\n",
      "C:\\Users\\alexsaunders\\AppData\\Local\\Temp\\ipykernel_13448\\724766185.py:13: FutureWarning: The frame.append method is deprecated and will be removed from pandas in a future version. Use pandas.concat instead.\n",
      "  dfScenes = dfScenes.append({'location':strFilePath, 'geometry': box(bounds[0], bounds[1], bounds[2], bounds[3])},ignore_index=True)\n"
     ]
    },
    {
     "name": "stdout",
     "output_type": "stream",
     "text": [
      "processing file 881/933\r"
     ]
    },
    {
     "name": "stderr",
     "output_type": "stream",
     "text": [
      "C:\\Users\\alexsaunders\\AppData\\Local\\Temp\\ipykernel_13448\\724766185.py:13: FutureWarning: The frame.append method is deprecated and will be removed from pandas in a future version. Use pandas.concat instead.\n",
      "  dfScenes = dfScenes.append({'location':strFilePath, 'geometry': box(bounds[0], bounds[1], bounds[2], bounds[3])},ignore_index=True)\n",
      "C:\\Users\\alexsaunders\\AppData\\Local\\Temp\\ipykernel_13448\\724766185.py:13: FutureWarning: The frame.append method is deprecated and will be removed from pandas in a future version. Use pandas.concat instead.\n",
      "  dfScenes = dfScenes.append({'location':strFilePath, 'geometry': box(bounds[0], bounds[1], bounds[2], bounds[3])},ignore_index=True)\n",
      "C:\\Users\\alexsaunders\\AppData\\Local\\Temp\\ipykernel_13448\\724766185.py:13: FutureWarning: The frame.append method is deprecated and will be removed from pandas in a future version. Use pandas.concat instead.\n",
      "  dfScenes = dfScenes.append({'location':strFilePath, 'geometry': box(bounds[0], bounds[1], bounds[2], bounds[3])},ignore_index=True)\n",
      "C:\\Users\\alexsaunders\\AppData\\Local\\Temp\\ipykernel_13448\\724766185.py:13: FutureWarning: The frame.append method is deprecated and will be removed from pandas in a future version. Use pandas.concat instead.\n",
      "  dfScenes = dfScenes.append({'location':strFilePath, 'geometry': box(bounds[0], bounds[1], bounds[2], bounds[3])},ignore_index=True)\n",
      "C:\\Users\\alexsaunders\\AppData\\Local\\Temp\\ipykernel_13448\\724766185.py:13: FutureWarning: The frame.append method is deprecated and will be removed from pandas in a future version. Use pandas.concat instead.\n",
      "  dfScenes = dfScenes.append({'location':strFilePath, 'geometry': box(bounds[0], bounds[1], bounds[2], bounds[3])},ignore_index=True)\n",
      "C:\\Users\\alexsaunders\\AppData\\Local\\Temp\\ipykernel_13448\\724766185.py:13: FutureWarning: The frame.append method is deprecated and will be removed from pandas in a future version. Use pandas.concat instead.\n",
      "  dfScenes = dfScenes.append({'location':strFilePath, 'geometry': box(bounds[0], bounds[1], bounds[2], bounds[3])},ignore_index=True)\n"
     ]
    },
    {
     "name": "stdout",
     "output_type": "stream",
     "text": [
      "processing file 887/933\r"
     ]
    },
    {
     "name": "stderr",
     "output_type": "stream",
     "text": [
      "C:\\Users\\alexsaunders\\AppData\\Local\\Temp\\ipykernel_13448\\724766185.py:13: FutureWarning: The frame.append method is deprecated and will be removed from pandas in a future version. Use pandas.concat instead.\n",
      "  dfScenes = dfScenes.append({'location':strFilePath, 'geometry': box(bounds[0], bounds[1], bounds[2], bounds[3])},ignore_index=True)\n",
      "C:\\Users\\alexsaunders\\AppData\\Local\\Temp\\ipykernel_13448\\724766185.py:13: FutureWarning: The frame.append method is deprecated and will be removed from pandas in a future version. Use pandas.concat instead.\n",
      "  dfScenes = dfScenes.append({'location':strFilePath, 'geometry': box(bounds[0], bounds[1], bounds[2], bounds[3])},ignore_index=True)\n",
      "C:\\Users\\alexsaunders\\AppData\\Local\\Temp\\ipykernel_13448\\724766185.py:13: FutureWarning: The frame.append method is deprecated and will be removed from pandas in a future version. Use pandas.concat instead.\n",
      "  dfScenes = dfScenes.append({'location':strFilePath, 'geometry': box(bounds[0], bounds[1], bounds[2], bounds[3])},ignore_index=True)\n",
      "C:\\Users\\alexsaunders\\AppData\\Local\\Temp\\ipykernel_13448\\724766185.py:13: FutureWarning: The frame.append method is deprecated and will be removed from pandas in a future version. Use pandas.concat instead.\n",
      "  dfScenes = dfScenes.append({'location':strFilePath, 'geometry': box(bounds[0], bounds[1], bounds[2], bounds[3])},ignore_index=True)\n",
      "C:\\Users\\alexsaunders\\AppData\\Local\\Temp\\ipykernel_13448\\724766185.py:13: FutureWarning: The frame.append method is deprecated and will be removed from pandas in a future version. Use pandas.concat instead.\n",
      "  dfScenes = dfScenes.append({'location':strFilePath, 'geometry': box(bounds[0], bounds[1], bounds[2], bounds[3])},ignore_index=True)\n"
     ]
    },
    {
     "name": "stdout",
     "output_type": "stream",
     "text": [
      "processing file 892/933\r"
     ]
    },
    {
     "name": "stderr",
     "output_type": "stream",
     "text": [
      "C:\\Users\\alexsaunders\\AppData\\Local\\Temp\\ipykernel_13448\\724766185.py:13: FutureWarning: The frame.append method is deprecated and will be removed from pandas in a future version. Use pandas.concat instead.\n",
      "  dfScenes = dfScenes.append({'location':strFilePath, 'geometry': box(bounds[0], bounds[1], bounds[2], bounds[3])},ignore_index=True)\n",
      "C:\\Users\\alexsaunders\\AppData\\Local\\Temp\\ipykernel_13448\\724766185.py:13: FutureWarning: The frame.append method is deprecated and will be removed from pandas in a future version. Use pandas.concat instead.\n",
      "  dfScenes = dfScenes.append({'location':strFilePath, 'geometry': box(bounds[0], bounds[1], bounds[2], bounds[3])},ignore_index=True)\n",
      "C:\\Users\\alexsaunders\\AppData\\Local\\Temp\\ipykernel_13448\\724766185.py:13: FutureWarning: The frame.append method is deprecated and will be removed from pandas in a future version. Use pandas.concat instead.\n",
      "  dfScenes = dfScenes.append({'location':strFilePath, 'geometry': box(bounds[0], bounds[1], bounds[2], bounds[3])},ignore_index=True)\n",
      "C:\\Users\\alexsaunders\\AppData\\Local\\Temp\\ipykernel_13448\\724766185.py:13: FutureWarning: The frame.append method is deprecated and will be removed from pandas in a future version. Use pandas.concat instead.\n",
      "  dfScenes = dfScenes.append({'location':strFilePath, 'geometry': box(bounds[0], bounds[1], bounds[2], bounds[3])},ignore_index=True)\n",
      "C:\\Users\\alexsaunders\\AppData\\Local\\Temp\\ipykernel_13448\\724766185.py:13: FutureWarning: The frame.append method is deprecated and will be removed from pandas in a future version. Use pandas.concat instead.\n",
      "  dfScenes = dfScenes.append({'location':strFilePath, 'geometry': box(bounds[0], bounds[1], bounds[2], bounds[3])},ignore_index=True)\n"
     ]
    },
    {
     "name": "stdout",
     "output_type": "stream",
     "text": [
      "processing file 898/933\r"
     ]
    },
    {
     "name": "stderr",
     "output_type": "stream",
     "text": [
      "C:\\Users\\alexsaunders\\AppData\\Local\\Temp\\ipykernel_13448\\724766185.py:13: FutureWarning: The frame.append method is deprecated and will be removed from pandas in a future version. Use pandas.concat instead.\n",
      "  dfScenes = dfScenes.append({'location':strFilePath, 'geometry': box(bounds[0], bounds[1], bounds[2], bounds[3])},ignore_index=True)\n",
      "C:\\Users\\alexsaunders\\AppData\\Local\\Temp\\ipykernel_13448\\724766185.py:13: FutureWarning: The frame.append method is deprecated and will be removed from pandas in a future version. Use pandas.concat instead.\n",
      "  dfScenes = dfScenes.append({'location':strFilePath, 'geometry': box(bounds[0], bounds[1], bounds[2], bounds[3])},ignore_index=True)\n",
      "C:\\Users\\alexsaunders\\AppData\\Local\\Temp\\ipykernel_13448\\724766185.py:13: FutureWarning: The frame.append method is deprecated and will be removed from pandas in a future version. Use pandas.concat instead.\n",
      "  dfScenes = dfScenes.append({'location':strFilePath, 'geometry': box(bounds[0], bounds[1], bounds[2], bounds[3])},ignore_index=True)\n",
      "C:\\Users\\alexsaunders\\AppData\\Local\\Temp\\ipykernel_13448\\724766185.py:13: FutureWarning: The frame.append method is deprecated and will be removed from pandas in a future version. Use pandas.concat instead.\n",
      "  dfScenes = dfScenes.append({'location':strFilePath, 'geometry': box(bounds[0], bounds[1], bounds[2], bounds[3])},ignore_index=True)\n",
      "C:\\Users\\alexsaunders\\AppData\\Local\\Temp\\ipykernel_13448\\724766185.py:13: FutureWarning: The frame.append method is deprecated and will be removed from pandas in a future version. Use pandas.concat instead.\n",
      "  dfScenes = dfScenes.append({'location':strFilePath, 'geometry': box(bounds[0], bounds[1], bounds[2], bounds[3])},ignore_index=True)\n",
      "C:\\Users\\alexsaunders\\AppData\\Local\\Temp\\ipykernel_13448\\724766185.py:13: FutureWarning: The frame.append method is deprecated and will be removed from pandas in a future version. Use pandas.concat instead.\n",
      "  dfScenes = dfScenes.append({'location':strFilePath, 'geometry': box(bounds[0], bounds[1], bounds[2], bounds[3])},ignore_index=True)\n",
      "C:\\Users\\alexsaunders\\AppData\\Local\\Temp\\ipykernel_13448\\724766185.py:13: FutureWarning: The frame.append method is deprecated and will be removed from pandas in a future version. Use pandas.concat instead.\n",
      "  dfScenes = dfScenes.append({'location':strFilePath, 'geometry': box(bounds[0], bounds[1], bounds[2], bounds[3])},ignore_index=True)\n",
      "C:\\Users\\alexsaunders\\AppData\\Local\\Temp\\ipykernel_13448\\724766185.py:13: FutureWarning: The frame.append method is deprecated and will be removed from pandas in a future version. Use pandas.concat instead.\n",
      "  dfScenes = dfScenes.append({'location':strFilePath, 'geometry': box(bounds[0], bounds[1], bounds[2], bounds[3])},ignore_index=True)\n",
      "C:\\Users\\alexsaunders\\AppData\\Local\\Temp\\ipykernel_13448\\724766185.py:13: FutureWarning: The frame.append method is deprecated and will be removed from pandas in a future version. Use pandas.concat instead.\n",
      "  dfScenes = dfScenes.append({'location':strFilePath, 'geometry': box(bounds[0], bounds[1], bounds[2], bounds[3])},ignore_index=True)\n",
      "C:\\Users\\alexsaunders\\AppData\\Local\\Temp\\ipykernel_13448\\724766185.py:13: FutureWarning: The frame.append method is deprecated and will be removed from pandas in a future version. Use pandas.concat instead.\n",
      "  dfScenes = dfScenes.append({'location':strFilePath, 'geometry': box(bounds[0], bounds[1], bounds[2], bounds[3])},ignore_index=True)\n",
      "C:\\Users\\alexsaunders\\AppData\\Local\\Temp\\ipykernel_13448\\724766185.py:13: FutureWarning: The frame.append method is deprecated and will be removed from pandas in a future version. Use pandas.concat instead.\n",
      "  dfScenes = dfScenes.append({'location':strFilePath, 'geometry': box(bounds[0], bounds[1], bounds[2], bounds[3])},ignore_index=True)\n"
     ]
    },
    {
     "name": "stdout",
     "output_type": "stream",
     "text": [
      "processing file 904/933\r"
     ]
    },
    {
     "name": "stderr",
     "output_type": "stream",
     "text": [
      "C:\\Users\\alexsaunders\\AppData\\Local\\Temp\\ipykernel_13448\\724766185.py:13: FutureWarning: The frame.append method is deprecated and will be removed from pandas in a future version. Use pandas.concat instead.\n",
      "  dfScenes = dfScenes.append({'location':strFilePath, 'geometry': box(bounds[0], bounds[1], bounds[2], bounds[3])},ignore_index=True)\n",
      "C:\\Users\\alexsaunders\\AppData\\Local\\Temp\\ipykernel_13448\\724766185.py:13: FutureWarning: The frame.append method is deprecated and will be removed from pandas in a future version. Use pandas.concat instead.\n",
      "  dfScenes = dfScenes.append({'location':strFilePath, 'geometry': box(bounds[0], bounds[1], bounds[2], bounds[3])},ignore_index=True)\n",
      "C:\\Users\\alexsaunders\\AppData\\Local\\Temp\\ipykernel_13448\\724766185.py:13: FutureWarning: The frame.append method is deprecated and will be removed from pandas in a future version. Use pandas.concat instead.\n",
      "  dfScenes = dfScenes.append({'location':strFilePath, 'geometry': box(bounds[0], bounds[1], bounds[2], bounds[3])},ignore_index=True)\n",
      "C:\\Users\\alexsaunders\\AppData\\Local\\Temp\\ipykernel_13448\\724766185.py:13: FutureWarning: The frame.append method is deprecated and will be removed from pandas in a future version. Use pandas.concat instead.\n",
      "  dfScenes = dfScenes.append({'location':strFilePath, 'geometry': box(bounds[0], bounds[1], bounds[2], bounds[3])},ignore_index=True)\n",
      "C:\\Users\\alexsaunders\\AppData\\Local\\Temp\\ipykernel_13448\\724766185.py:13: FutureWarning: The frame.append method is deprecated and will be removed from pandas in a future version. Use pandas.concat instead.\n",
      "  dfScenes = dfScenes.append({'location':strFilePath, 'geometry': box(bounds[0], bounds[1], bounds[2], bounds[3])},ignore_index=True)\n",
      "C:\\Users\\alexsaunders\\AppData\\Local\\Temp\\ipykernel_13448\\724766185.py:13: FutureWarning: The frame.append method is deprecated and will be removed from pandas in a future version. Use pandas.concat instead.\n",
      "  dfScenes = dfScenes.append({'location':strFilePath, 'geometry': box(bounds[0], bounds[1], bounds[2], bounds[3])},ignore_index=True)\n"
     ]
    },
    {
     "name": "stdout",
     "output_type": "stream",
     "text": [
      "processing file 910/933\r"
     ]
    },
    {
     "name": "stderr",
     "output_type": "stream",
     "text": [
      "C:\\Users\\alexsaunders\\AppData\\Local\\Temp\\ipykernel_13448\\724766185.py:13: FutureWarning: The frame.append method is deprecated and will be removed from pandas in a future version. Use pandas.concat instead.\n",
      "  dfScenes = dfScenes.append({'location':strFilePath, 'geometry': box(bounds[0], bounds[1], bounds[2], bounds[3])},ignore_index=True)\n",
      "C:\\Users\\alexsaunders\\AppData\\Local\\Temp\\ipykernel_13448\\724766185.py:13: FutureWarning: The frame.append method is deprecated and will be removed from pandas in a future version. Use pandas.concat instead.\n",
      "  dfScenes = dfScenes.append({'location':strFilePath, 'geometry': box(bounds[0], bounds[1], bounds[2], bounds[3])},ignore_index=True)\n",
      "C:\\Users\\alexsaunders\\AppData\\Local\\Temp\\ipykernel_13448\\724766185.py:13: FutureWarning: The frame.append method is deprecated and will be removed from pandas in a future version. Use pandas.concat instead.\n",
      "  dfScenes = dfScenes.append({'location':strFilePath, 'geometry': box(bounds[0], bounds[1], bounds[2], bounds[3])},ignore_index=True)\n",
      "C:\\Users\\alexsaunders\\AppData\\Local\\Temp\\ipykernel_13448\\724766185.py:13: FutureWarning: The frame.append method is deprecated and will be removed from pandas in a future version. Use pandas.concat instead.\n",
      "  dfScenes = dfScenes.append({'location':strFilePath, 'geometry': box(bounds[0], bounds[1], bounds[2], bounds[3])},ignore_index=True)\n",
      "C:\\Users\\alexsaunders\\AppData\\Local\\Temp\\ipykernel_13448\\724766185.py:13: FutureWarning: The frame.append method is deprecated and will be removed from pandas in a future version. Use pandas.concat instead.\n",
      "  dfScenes = dfScenes.append({'location':strFilePath, 'geometry': box(bounds[0], bounds[1], bounds[2], bounds[3])},ignore_index=True)\n",
      "C:\\Users\\alexsaunders\\AppData\\Local\\Temp\\ipykernel_13448\\724766185.py:13: FutureWarning: The frame.append method is deprecated and will be removed from pandas in a future version. Use pandas.concat instead.\n",
      "  dfScenes = dfScenes.append({'location':strFilePath, 'geometry': box(bounds[0], bounds[1], bounds[2], bounds[3])},ignore_index=True)\n"
     ]
    },
    {
     "name": "stdout",
     "output_type": "stream",
     "text": [
      "processing file 916/933\r"
     ]
    },
    {
     "name": "stderr",
     "output_type": "stream",
     "text": [
      "C:\\Users\\alexsaunders\\AppData\\Local\\Temp\\ipykernel_13448\\724766185.py:13: FutureWarning: The frame.append method is deprecated and will be removed from pandas in a future version. Use pandas.concat instead.\n",
      "  dfScenes = dfScenes.append({'location':strFilePath, 'geometry': box(bounds[0], bounds[1], bounds[2], bounds[3])},ignore_index=True)\n",
      "C:\\Users\\alexsaunders\\AppData\\Local\\Temp\\ipykernel_13448\\724766185.py:13: FutureWarning: The frame.append method is deprecated and will be removed from pandas in a future version. Use pandas.concat instead.\n",
      "  dfScenes = dfScenes.append({'location':strFilePath, 'geometry': box(bounds[0], bounds[1], bounds[2], bounds[3])},ignore_index=True)\n",
      "C:\\Users\\alexsaunders\\AppData\\Local\\Temp\\ipykernel_13448\\724766185.py:13: FutureWarning: The frame.append method is deprecated and will be removed from pandas in a future version. Use pandas.concat instead.\n",
      "  dfScenes = dfScenes.append({'location':strFilePath, 'geometry': box(bounds[0], bounds[1], bounds[2], bounds[3])},ignore_index=True)\n",
      "C:\\Users\\alexsaunders\\AppData\\Local\\Temp\\ipykernel_13448\\724766185.py:13: FutureWarning: The frame.append method is deprecated and will be removed from pandas in a future version. Use pandas.concat instead.\n",
      "  dfScenes = dfScenes.append({'location':strFilePath, 'geometry': box(bounds[0], bounds[1], bounds[2], bounds[3])},ignore_index=True)\n",
      "C:\\Users\\alexsaunders\\AppData\\Local\\Temp\\ipykernel_13448\\724766185.py:13: FutureWarning: The frame.append method is deprecated and will be removed from pandas in a future version. Use pandas.concat instead.\n",
      "  dfScenes = dfScenes.append({'location':strFilePath, 'geometry': box(bounds[0], bounds[1], bounds[2], bounds[3])},ignore_index=True)\n"
     ]
    },
    {
     "name": "stdout",
     "output_type": "stream",
     "text": [
      "processing file 921/933\r"
     ]
    },
    {
     "name": "stderr",
     "output_type": "stream",
     "text": [
      "C:\\Users\\alexsaunders\\AppData\\Local\\Temp\\ipykernel_13448\\724766185.py:13: FutureWarning: The frame.append method is deprecated and will be removed from pandas in a future version. Use pandas.concat instead.\n",
      "  dfScenes = dfScenes.append({'location':strFilePath, 'geometry': box(bounds[0], bounds[1], bounds[2], bounds[3])},ignore_index=True)\n",
      "C:\\Users\\alexsaunders\\AppData\\Local\\Temp\\ipykernel_13448\\724766185.py:13: FutureWarning: The frame.append method is deprecated and will be removed from pandas in a future version. Use pandas.concat instead.\n",
      "  dfScenes = dfScenes.append({'location':strFilePath, 'geometry': box(bounds[0], bounds[1], bounds[2], bounds[3])},ignore_index=True)\n",
      "C:\\Users\\alexsaunders\\AppData\\Local\\Temp\\ipykernel_13448\\724766185.py:13: FutureWarning: The frame.append method is deprecated and will be removed from pandas in a future version. Use pandas.concat instead.\n",
      "  dfScenes = dfScenes.append({'location':strFilePath, 'geometry': box(bounds[0], bounds[1], bounds[2], bounds[3])},ignore_index=True)\n",
      "C:\\Users\\alexsaunders\\AppData\\Local\\Temp\\ipykernel_13448\\724766185.py:13: FutureWarning: The frame.append method is deprecated and will be removed from pandas in a future version. Use pandas.concat instead.\n",
      "  dfScenes = dfScenes.append({'location':strFilePath, 'geometry': box(bounds[0], bounds[1], bounds[2], bounds[3])},ignore_index=True)\n",
      "C:\\Users\\alexsaunders\\AppData\\Local\\Temp\\ipykernel_13448\\724766185.py:13: FutureWarning: The frame.append method is deprecated and will be removed from pandas in a future version. Use pandas.concat instead.\n",
      "  dfScenes = dfScenes.append({'location':strFilePath, 'geometry': box(bounds[0], bounds[1], bounds[2], bounds[3])},ignore_index=True)\n"
     ]
    },
    {
     "name": "stdout",
     "output_type": "stream",
     "text": [
      "processing file 926/933\r"
     ]
    },
    {
     "name": "stderr",
     "output_type": "stream",
     "text": [
      "C:\\Users\\alexsaunders\\AppData\\Local\\Temp\\ipykernel_13448\\724766185.py:13: FutureWarning: The frame.append method is deprecated and will be removed from pandas in a future version. Use pandas.concat instead.\n",
      "  dfScenes = dfScenes.append({'location':strFilePath, 'geometry': box(bounds[0], bounds[1], bounds[2], bounds[3])},ignore_index=True)\n",
      "C:\\Users\\alexsaunders\\AppData\\Local\\Temp\\ipykernel_13448\\724766185.py:13: FutureWarning: The frame.append method is deprecated and will be removed from pandas in a future version. Use pandas.concat instead.\n",
      "  dfScenes = dfScenes.append({'location':strFilePath, 'geometry': box(bounds[0], bounds[1], bounds[2], bounds[3])},ignore_index=True)\n",
      "C:\\Users\\alexsaunders\\AppData\\Local\\Temp\\ipykernel_13448\\724766185.py:13: FutureWarning: The frame.append method is deprecated and will be removed from pandas in a future version. Use pandas.concat instead.\n",
      "  dfScenes = dfScenes.append({'location':strFilePath, 'geometry': box(bounds[0], bounds[1], bounds[2], bounds[3])},ignore_index=True)\n",
      "C:\\Users\\alexsaunders\\AppData\\Local\\Temp\\ipykernel_13448\\724766185.py:13: FutureWarning: The frame.append method is deprecated and will be removed from pandas in a future version. Use pandas.concat instead.\n",
      "  dfScenes = dfScenes.append({'location':strFilePath, 'geometry': box(bounds[0], bounds[1], bounds[2], bounds[3])},ignore_index=True)\n",
      "C:\\Users\\alexsaunders\\AppData\\Local\\Temp\\ipykernel_13448\\724766185.py:13: FutureWarning: The frame.append method is deprecated and will be removed from pandas in a future version. Use pandas.concat instead.\n",
      "  dfScenes = dfScenes.append({'location':strFilePath, 'geometry': box(bounds[0], bounds[1], bounds[2], bounds[3])},ignore_index=True)\n"
     ]
    },
    {
     "name": "stdout",
     "output_type": "stream",
     "text": [
      "processing file 931/933\r"
     ]
    },
    {
     "name": "stderr",
     "output_type": "stream",
     "text": [
      "C:\\Users\\alexsaunders\\AppData\\Local\\Temp\\ipykernel_13448\\724766185.py:13: FutureWarning: The frame.append method is deprecated and will be removed from pandas in a future version. Use pandas.concat instead.\n",
      "  dfScenes = dfScenes.append({'location':strFilePath, 'geometry': box(bounds[0], bounds[1], bounds[2], bounds[3])},ignore_index=True)\n",
      "C:\\Users\\alexsaunders\\AppData\\Local\\Temp\\ipykernel_13448\\724766185.py:13: FutureWarning: The frame.append method is deprecated and will be removed from pandas in a future version. Use pandas.concat instead.\n",
      "  dfScenes = dfScenes.append({'location':strFilePath, 'geometry': box(bounds[0], bounds[1], bounds[2], bounds[3])},ignore_index=True)\n",
      "C:\\Users\\alexsaunders\\AppData\\Local\\Temp\\ipykernel_13448\\724766185.py:13: FutureWarning: The frame.append method is deprecated and will be removed from pandas in a future version. Use pandas.concat instead.\n",
      "  dfScenes = dfScenes.append({'location':strFilePath, 'geometry': box(bounds[0], bounds[1], bounds[2], bounds[3])},ignore_index=True)\n",
      "C:\\Users\\alexsaunders\\AppData\\Local\\Temp\\ipykernel_13448\\724766185.py:13: FutureWarning: The frame.append method is deprecated and will be removed from pandas in a future version. Use pandas.concat instead.\n",
      "  dfScenes = dfScenes.append({'location':strFilePath, 'geometry': box(bounds[0], bounds[1], bounds[2], bounds[3])},ignore_index=True)\n",
      "C:\\Users\\alexsaunders\\AppData\\Local\\Temp\\ipykernel_13448\\724766185.py:13: FutureWarning: The frame.append method is deprecated and will be removed from pandas in a future version. Use pandas.concat instead.\n",
      "  dfScenes = dfScenes.append({'location':strFilePath, 'geometry': box(bounds[0], bounds[1], bounds[2], bounds[3])},ignore_index=True)\n"
     ]
    },
    {
     "name": "stdout",
     "output_type": "stream",
     "text": [
      "processing file 3/93633\r"
     ]
    },
    {
     "name": "stderr",
     "output_type": "stream",
     "text": [
      "C:\\Users\\alexsaunders\\AppData\\Local\\Temp\\ipykernel_13448\\724766185.py:13: FutureWarning: The frame.append method is deprecated and will be removed from pandas in a future version. Use pandas.concat instead.\n",
      "  dfScenes = dfScenes.append({'location':strFilePath, 'geometry': box(bounds[0], bounds[1], bounds[2], bounds[3])},ignore_index=True)\n",
      "C:\\Users\\alexsaunders\\AppData\\Local\\Temp\\ipykernel_13448\\724766185.py:13: FutureWarning: The frame.append method is deprecated and will be removed from pandas in a future version. Use pandas.concat instead.\n",
      "  dfScenes = dfScenes.append({'location':strFilePath, 'geometry': box(bounds[0], bounds[1], bounds[2], bounds[3])},ignore_index=True)\n",
      "C:\\Users\\alexsaunders\\AppData\\Local\\Temp\\ipykernel_13448\\724766185.py:13: FutureWarning: The frame.append method is deprecated and will be removed from pandas in a future version. Use pandas.concat instead.\n",
      "  dfScenes = dfScenes.append({'location':strFilePath, 'geometry': box(bounds[0], bounds[1], bounds[2], bounds[3])},ignore_index=True)\n",
      "C:\\Users\\alexsaunders\\AppData\\Local\\Temp\\ipykernel_13448\\724766185.py:13: FutureWarning: The frame.append method is deprecated and will be removed from pandas in a future version. Use pandas.concat instead.\n",
      "  dfScenes = dfScenes.append({'location':strFilePath, 'geometry': box(bounds[0], bounds[1], bounds[2], bounds[3])},ignore_index=True)\n",
      "C:\\Users\\alexsaunders\\AppData\\Local\\Temp\\ipykernel_13448\\724766185.py:13: FutureWarning: The frame.append method is deprecated and will be removed from pandas in a future version. Use pandas.concat instead.\n",
      "  dfScenes = dfScenes.append({'location':strFilePath, 'geometry': box(bounds[0], bounds[1], bounds[2], bounds[3])},ignore_index=True)\n",
      "C:\\Users\\alexsaunders\\AppData\\Local\\Temp\\ipykernel_13448\\724766185.py:13: FutureWarning: The frame.append method is deprecated and will be removed from pandas in a future version. Use pandas.concat instead.\n",
      "  dfScenes = dfScenes.append({'location':strFilePath, 'geometry': box(bounds[0], bounds[1], bounds[2], bounds[3])},ignore_index=True)\n"
     ]
    },
    {
     "name": "stdout",
     "output_type": "stream",
     "text": [
      "processing file 9/936\r"
     ]
    },
    {
     "name": "stderr",
     "output_type": "stream",
     "text": [
      "C:\\Users\\alexsaunders\\AppData\\Local\\Temp\\ipykernel_13448\\724766185.py:13: FutureWarning: The frame.append method is deprecated and will be removed from pandas in a future version. Use pandas.concat instead.\n",
      "  dfScenes = dfScenes.append({'location':strFilePath, 'geometry': box(bounds[0], bounds[1], bounds[2], bounds[3])},ignore_index=True)\n",
      "C:\\Users\\alexsaunders\\AppData\\Local\\Temp\\ipykernel_13448\\724766185.py:13: FutureWarning: The frame.append method is deprecated and will be removed from pandas in a future version. Use pandas.concat instead.\n",
      "  dfScenes = dfScenes.append({'location':strFilePath, 'geometry': box(bounds[0], bounds[1], bounds[2], bounds[3])},ignore_index=True)\n",
      "C:\\Users\\alexsaunders\\AppData\\Local\\Temp\\ipykernel_13448\\724766185.py:13: FutureWarning: The frame.append method is deprecated and will be removed from pandas in a future version. Use pandas.concat instead.\n",
      "  dfScenes = dfScenes.append({'location':strFilePath, 'geometry': box(bounds[0], bounds[1], bounds[2], bounds[3])},ignore_index=True)\n",
      "C:\\Users\\alexsaunders\\AppData\\Local\\Temp\\ipykernel_13448\\724766185.py:13: FutureWarning: The frame.append method is deprecated and will be removed from pandas in a future version. Use pandas.concat instead.\n",
      "  dfScenes = dfScenes.append({'location':strFilePath, 'geometry': box(bounds[0], bounds[1], bounds[2], bounds[3])},ignore_index=True)\n",
      "C:\\Users\\alexsaunders\\AppData\\Local\\Temp\\ipykernel_13448\\724766185.py:13: FutureWarning: The frame.append method is deprecated and will be removed from pandas in a future version. Use pandas.concat instead.\n",
      "  dfScenes = dfScenes.append({'location':strFilePath, 'geometry': box(bounds[0], bounds[1], bounds[2], bounds[3])},ignore_index=True)\n",
      "C:\\Users\\alexsaunders\\AppData\\Local\\Temp\\ipykernel_13448\\724766185.py:13: FutureWarning: The frame.append method is deprecated and will be removed from pandas in a future version. Use pandas.concat instead.\n",
      "  dfScenes = dfScenes.append({'location':strFilePath, 'geometry': box(bounds[0], bounds[1], bounds[2], bounds[3])},ignore_index=True)\n"
     ]
    },
    {
     "name": "stdout",
     "output_type": "stream",
     "text": [
      "processing file 15/936\r"
     ]
    },
    {
     "name": "stderr",
     "output_type": "stream",
     "text": [
      "C:\\Users\\alexsaunders\\AppData\\Local\\Temp\\ipykernel_13448\\724766185.py:13: FutureWarning: The frame.append method is deprecated and will be removed from pandas in a future version. Use pandas.concat instead.\n",
      "  dfScenes = dfScenes.append({'location':strFilePath, 'geometry': box(bounds[0], bounds[1], bounds[2], bounds[3])},ignore_index=True)\n",
      "C:\\Users\\alexsaunders\\AppData\\Local\\Temp\\ipykernel_13448\\724766185.py:13: FutureWarning: The frame.append method is deprecated and will be removed from pandas in a future version. Use pandas.concat instead.\n",
      "  dfScenes = dfScenes.append({'location':strFilePath, 'geometry': box(bounds[0], bounds[1], bounds[2], bounds[3])},ignore_index=True)\n",
      "C:\\Users\\alexsaunders\\AppData\\Local\\Temp\\ipykernel_13448\\724766185.py:13: FutureWarning: The frame.append method is deprecated and will be removed from pandas in a future version. Use pandas.concat instead.\n",
      "  dfScenes = dfScenes.append({'location':strFilePath, 'geometry': box(bounds[0], bounds[1], bounds[2], bounds[3])},ignore_index=True)\n",
      "C:\\Users\\alexsaunders\\AppData\\Local\\Temp\\ipykernel_13448\\724766185.py:13: FutureWarning: The frame.append method is deprecated and will be removed from pandas in a future version. Use pandas.concat instead.\n",
      "  dfScenes = dfScenes.append({'location':strFilePath, 'geometry': box(bounds[0], bounds[1], bounds[2], bounds[3])},ignore_index=True)\n",
      "C:\\Users\\alexsaunders\\AppData\\Local\\Temp\\ipykernel_13448\\724766185.py:13: FutureWarning: The frame.append method is deprecated and will be removed from pandas in a future version. Use pandas.concat instead.\n",
      "  dfScenes = dfScenes.append({'location':strFilePath, 'geometry': box(bounds[0], bounds[1], bounds[2], bounds[3])},ignore_index=True)\n",
      "C:\\Users\\alexsaunders\\AppData\\Local\\Temp\\ipykernel_13448\\724766185.py:13: FutureWarning: The frame.append method is deprecated and will be removed from pandas in a future version. Use pandas.concat instead.\n",
      "  dfScenes = dfScenes.append({'location':strFilePath, 'geometry': box(bounds[0], bounds[1], bounds[2], bounds[3])},ignore_index=True)\n"
     ]
    },
    {
     "name": "stdout",
     "output_type": "stream",
     "text": [
      "processing file 21/936\r"
     ]
    },
    {
     "name": "stderr",
     "output_type": "stream",
     "text": [
      "C:\\Users\\alexsaunders\\AppData\\Local\\Temp\\ipykernel_13448\\724766185.py:13: FutureWarning: The frame.append method is deprecated and will be removed from pandas in a future version. Use pandas.concat instead.\n",
      "  dfScenes = dfScenes.append({'location':strFilePath, 'geometry': box(bounds[0], bounds[1], bounds[2], bounds[3])},ignore_index=True)\n",
      "C:\\Users\\alexsaunders\\AppData\\Local\\Temp\\ipykernel_13448\\724766185.py:13: FutureWarning: The frame.append method is deprecated and will be removed from pandas in a future version. Use pandas.concat instead.\n",
      "  dfScenes = dfScenes.append({'location':strFilePath, 'geometry': box(bounds[0], bounds[1], bounds[2], bounds[3])},ignore_index=True)\n",
      "C:\\Users\\alexsaunders\\AppData\\Local\\Temp\\ipykernel_13448\\724766185.py:13: FutureWarning: The frame.append method is deprecated and will be removed from pandas in a future version. Use pandas.concat instead.\n",
      "  dfScenes = dfScenes.append({'location':strFilePath, 'geometry': box(bounds[0], bounds[1], bounds[2], bounds[3])},ignore_index=True)\n",
      "C:\\Users\\alexsaunders\\AppData\\Local\\Temp\\ipykernel_13448\\724766185.py:13: FutureWarning: The frame.append method is deprecated and will be removed from pandas in a future version. Use pandas.concat instead.\n",
      "  dfScenes = dfScenes.append({'location':strFilePath, 'geometry': box(bounds[0], bounds[1], bounds[2], bounds[3])},ignore_index=True)\n",
      "C:\\Users\\alexsaunders\\AppData\\Local\\Temp\\ipykernel_13448\\724766185.py:13: FutureWarning: The frame.append method is deprecated and will be removed from pandas in a future version. Use pandas.concat instead.\n",
      "  dfScenes = dfScenes.append({'location':strFilePath, 'geometry': box(bounds[0], bounds[1], bounds[2], bounds[3])},ignore_index=True)\n",
      "C:\\Users\\alexsaunders\\AppData\\Local\\Temp\\ipykernel_13448\\724766185.py:13: FutureWarning: The frame.append method is deprecated and will be removed from pandas in a future version. Use pandas.concat instead.\n",
      "  dfScenes = dfScenes.append({'location':strFilePath, 'geometry': box(bounds[0], bounds[1], bounds[2], bounds[3])},ignore_index=True)\n"
     ]
    },
    {
     "name": "stdout",
     "output_type": "stream",
     "text": [
      "processing file 27/936\r"
     ]
    },
    {
     "name": "stderr",
     "output_type": "stream",
     "text": [
      "C:\\Users\\alexsaunders\\AppData\\Local\\Temp\\ipykernel_13448\\724766185.py:13: FutureWarning: The frame.append method is deprecated and will be removed from pandas in a future version. Use pandas.concat instead.\n",
      "  dfScenes = dfScenes.append({'location':strFilePath, 'geometry': box(bounds[0], bounds[1], bounds[2], bounds[3])},ignore_index=True)\n",
      "C:\\Users\\alexsaunders\\AppData\\Local\\Temp\\ipykernel_13448\\724766185.py:13: FutureWarning: The frame.append method is deprecated and will be removed from pandas in a future version. Use pandas.concat instead.\n",
      "  dfScenes = dfScenes.append({'location':strFilePath, 'geometry': box(bounds[0], bounds[1], bounds[2], bounds[3])},ignore_index=True)\n",
      "C:\\Users\\alexsaunders\\AppData\\Local\\Temp\\ipykernel_13448\\724766185.py:13: FutureWarning: The frame.append method is deprecated and will be removed from pandas in a future version. Use pandas.concat instead.\n",
      "  dfScenes = dfScenes.append({'location':strFilePath, 'geometry': box(bounds[0], bounds[1], bounds[2], bounds[3])},ignore_index=True)\n",
      "C:\\Users\\alexsaunders\\AppData\\Local\\Temp\\ipykernel_13448\\724766185.py:13: FutureWarning: The frame.append method is deprecated and will be removed from pandas in a future version. Use pandas.concat instead.\n",
      "  dfScenes = dfScenes.append({'location':strFilePath, 'geometry': box(bounds[0], bounds[1], bounds[2], bounds[3])},ignore_index=True)\n",
      "C:\\Users\\alexsaunders\\AppData\\Local\\Temp\\ipykernel_13448\\724766185.py:13: FutureWarning: The frame.append method is deprecated and will be removed from pandas in a future version. Use pandas.concat instead.\n",
      "  dfScenes = dfScenes.append({'location':strFilePath, 'geometry': box(bounds[0], bounds[1], bounds[2], bounds[3])},ignore_index=True)\n"
     ]
    },
    {
     "name": "stdout",
     "output_type": "stream",
     "text": [
      "processing file 32/936\r"
     ]
    },
    {
     "name": "stderr",
     "output_type": "stream",
     "text": [
      "C:\\Users\\alexsaunders\\AppData\\Local\\Temp\\ipykernel_13448\\724766185.py:13: FutureWarning: The frame.append method is deprecated and will be removed from pandas in a future version. Use pandas.concat instead.\n",
      "  dfScenes = dfScenes.append({'location':strFilePath, 'geometry': box(bounds[0], bounds[1], bounds[2], bounds[3])},ignore_index=True)\n",
      "C:\\Users\\alexsaunders\\AppData\\Local\\Temp\\ipykernel_13448\\724766185.py:13: FutureWarning: The frame.append method is deprecated and will be removed from pandas in a future version. Use pandas.concat instead.\n",
      "  dfScenes = dfScenes.append({'location':strFilePath, 'geometry': box(bounds[0], bounds[1], bounds[2], bounds[3])},ignore_index=True)\n",
      "C:\\Users\\alexsaunders\\AppData\\Local\\Temp\\ipykernel_13448\\724766185.py:13: FutureWarning: The frame.append method is deprecated and will be removed from pandas in a future version. Use pandas.concat instead.\n",
      "  dfScenes = dfScenes.append({'location':strFilePath, 'geometry': box(bounds[0], bounds[1], bounds[2], bounds[3])},ignore_index=True)\n",
      "C:\\Users\\alexsaunders\\AppData\\Local\\Temp\\ipykernel_13448\\724766185.py:13: FutureWarning: The frame.append method is deprecated and will be removed from pandas in a future version. Use pandas.concat instead.\n",
      "  dfScenes = dfScenes.append({'location':strFilePath, 'geometry': box(bounds[0], bounds[1], bounds[2], bounds[3])},ignore_index=True)\n",
      "C:\\Users\\alexsaunders\\AppData\\Local\\Temp\\ipykernel_13448\\724766185.py:13: FutureWarning: The frame.append method is deprecated and will be removed from pandas in a future version. Use pandas.concat instead.\n",
      "  dfScenes = dfScenes.append({'location':strFilePath, 'geometry': box(bounds[0], bounds[1], bounds[2], bounds[3])},ignore_index=True)\n"
     ]
    },
    {
     "name": "stdout",
     "output_type": "stream",
     "text": [
      "processing file 37/936\r"
     ]
    },
    {
     "name": "stderr",
     "output_type": "stream",
     "text": [
      "C:\\Users\\alexsaunders\\AppData\\Local\\Temp\\ipykernel_13448\\724766185.py:13: FutureWarning: The frame.append method is deprecated and will be removed from pandas in a future version. Use pandas.concat instead.\n",
      "  dfScenes = dfScenes.append({'location':strFilePath, 'geometry': box(bounds[0], bounds[1], bounds[2], bounds[3])},ignore_index=True)\n",
      "C:\\Users\\alexsaunders\\AppData\\Local\\Temp\\ipykernel_13448\\724766185.py:13: FutureWarning: The frame.append method is deprecated and will be removed from pandas in a future version. Use pandas.concat instead.\n",
      "  dfScenes = dfScenes.append({'location':strFilePath, 'geometry': box(bounds[0], bounds[1], bounds[2], bounds[3])},ignore_index=True)\n",
      "C:\\Users\\alexsaunders\\AppData\\Local\\Temp\\ipykernel_13448\\724766185.py:13: FutureWarning: The frame.append method is deprecated and will be removed from pandas in a future version. Use pandas.concat instead.\n",
      "  dfScenes = dfScenes.append({'location':strFilePath, 'geometry': box(bounds[0], bounds[1], bounds[2], bounds[3])},ignore_index=True)\n",
      "C:\\Users\\alexsaunders\\AppData\\Local\\Temp\\ipykernel_13448\\724766185.py:13: FutureWarning: The frame.append method is deprecated and will be removed from pandas in a future version. Use pandas.concat instead.\n",
      "  dfScenes = dfScenes.append({'location':strFilePath, 'geometry': box(bounds[0], bounds[1], bounds[2], bounds[3])},ignore_index=True)\n",
      "C:\\Users\\alexsaunders\\AppData\\Local\\Temp\\ipykernel_13448\\724766185.py:13: FutureWarning: The frame.append method is deprecated and will be removed from pandas in a future version. Use pandas.concat instead.\n",
      "  dfScenes = dfScenes.append({'location':strFilePath, 'geometry': box(bounds[0], bounds[1], bounds[2], bounds[3])},ignore_index=True)\n"
     ]
    },
    {
     "name": "stdout",
     "output_type": "stream",
     "text": [
      "processing file 42/936\r"
     ]
    },
    {
     "name": "stderr",
     "output_type": "stream",
     "text": [
      "C:\\Users\\alexsaunders\\AppData\\Local\\Temp\\ipykernel_13448\\724766185.py:13: FutureWarning: The frame.append method is deprecated and will be removed from pandas in a future version. Use pandas.concat instead.\n",
      "  dfScenes = dfScenes.append({'location':strFilePath, 'geometry': box(bounds[0], bounds[1], bounds[2], bounds[3])},ignore_index=True)\n",
      "C:\\Users\\alexsaunders\\AppData\\Local\\Temp\\ipykernel_13448\\724766185.py:13: FutureWarning: The frame.append method is deprecated and will be removed from pandas in a future version. Use pandas.concat instead.\n",
      "  dfScenes = dfScenes.append({'location':strFilePath, 'geometry': box(bounds[0], bounds[1], bounds[2], bounds[3])},ignore_index=True)\n",
      "C:\\Users\\alexsaunders\\AppData\\Local\\Temp\\ipykernel_13448\\724766185.py:13: FutureWarning: The frame.append method is deprecated and will be removed from pandas in a future version. Use pandas.concat instead.\n",
      "  dfScenes = dfScenes.append({'location':strFilePath, 'geometry': box(bounds[0], bounds[1], bounds[2], bounds[3])},ignore_index=True)\n",
      "C:\\Users\\alexsaunders\\AppData\\Local\\Temp\\ipykernel_13448\\724766185.py:13: FutureWarning: The frame.append method is deprecated and will be removed from pandas in a future version. Use pandas.concat instead.\n",
      "  dfScenes = dfScenes.append({'location':strFilePath, 'geometry': box(bounds[0], bounds[1], bounds[2], bounds[3])},ignore_index=True)\n",
      "C:\\Users\\alexsaunders\\AppData\\Local\\Temp\\ipykernel_13448\\724766185.py:13: FutureWarning: The frame.append method is deprecated and will be removed from pandas in a future version. Use pandas.concat instead.\n",
      "  dfScenes = dfScenes.append({'location':strFilePath, 'geometry': box(bounds[0], bounds[1], bounds[2], bounds[3])},ignore_index=True)\n"
     ]
    },
    {
     "name": "stdout",
     "output_type": "stream",
     "text": [
      "processing file 47/936\r"
     ]
    },
    {
     "name": "stderr",
     "output_type": "stream",
     "text": [
      "C:\\Users\\alexsaunders\\AppData\\Local\\Temp\\ipykernel_13448\\724766185.py:13: FutureWarning: The frame.append method is deprecated and will be removed from pandas in a future version. Use pandas.concat instead.\n",
      "  dfScenes = dfScenes.append({'location':strFilePath, 'geometry': box(bounds[0], bounds[1], bounds[2], bounds[3])},ignore_index=True)\n",
      "C:\\Users\\alexsaunders\\AppData\\Local\\Temp\\ipykernel_13448\\724766185.py:13: FutureWarning: The frame.append method is deprecated and will be removed from pandas in a future version. Use pandas.concat instead.\n",
      "  dfScenes = dfScenes.append({'location':strFilePath, 'geometry': box(bounds[0], bounds[1], bounds[2], bounds[3])},ignore_index=True)\n",
      "C:\\Users\\alexsaunders\\AppData\\Local\\Temp\\ipykernel_13448\\724766185.py:13: FutureWarning: The frame.append method is deprecated and will be removed from pandas in a future version. Use pandas.concat instead.\n",
      "  dfScenes = dfScenes.append({'location':strFilePath, 'geometry': box(bounds[0], bounds[1], bounds[2], bounds[3])},ignore_index=True)\n",
      "C:\\Users\\alexsaunders\\AppData\\Local\\Temp\\ipykernel_13448\\724766185.py:13: FutureWarning: The frame.append method is deprecated and will be removed from pandas in a future version. Use pandas.concat instead.\n",
      "  dfScenes = dfScenes.append({'location':strFilePath, 'geometry': box(bounds[0], bounds[1], bounds[2], bounds[3])},ignore_index=True)\n",
      "C:\\Users\\alexsaunders\\AppData\\Local\\Temp\\ipykernel_13448\\724766185.py:13: FutureWarning: The frame.append method is deprecated and will be removed from pandas in a future version. Use pandas.concat instead.\n",
      "  dfScenes = dfScenes.append({'location':strFilePath, 'geometry': box(bounds[0], bounds[1], bounds[2], bounds[3])},ignore_index=True)\n",
      "C:\\Users\\alexsaunders\\AppData\\Local\\Temp\\ipykernel_13448\\724766185.py:13: FutureWarning: The frame.append method is deprecated and will be removed from pandas in a future version. Use pandas.concat instead.\n",
      "  dfScenes = dfScenes.append({'location':strFilePath, 'geometry': box(bounds[0], bounds[1], bounds[2], bounds[3])},ignore_index=True)\n"
     ]
    },
    {
     "name": "stdout",
     "output_type": "stream",
     "text": [
      "processing file 53/936\r"
     ]
    },
    {
     "name": "stderr",
     "output_type": "stream",
     "text": [
      "C:\\Users\\alexsaunders\\AppData\\Local\\Temp\\ipykernel_13448\\724766185.py:13: FutureWarning: The frame.append method is deprecated and will be removed from pandas in a future version. Use pandas.concat instead.\n",
      "  dfScenes = dfScenes.append({'location':strFilePath, 'geometry': box(bounds[0], bounds[1], bounds[2], bounds[3])},ignore_index=True)\n",
      "C:\\Users\\alexsaunders\\AppData\\Local\\Temp\\ipykernel_13448\\724766185.py:13: FutureWarning: The frame.append method is deprecated and will be removed from pandas in a future version. Use pandas.concat instead.\n",
      "  dfScenes = dfScenes.append({'location':strFilePath, 'geometry': box(bounds[0], bounds[1], bounds[2], bounds[3])},ignore_index=True)\n",
      "C:\\Users\\alexsaunders\\AppData\\Local\\Temp\\ipykernel_13448\\724766185.py:13: FutureWarning: The frame.append method is deprecated and will be removed from pandas in a future version. Use pandas.concat instead.\n",
      "  dfScenes = dfScenes.append({'location':strFilePath, 'geometry': box(bounds[0], bounds[1], bounds[2], bounds[3])},ignore_index=True)\n",
      "C:\\Users\\alexsaunders\\AppData\\Local\\Temp\\ipykernel_13448\\724766185.py:13: FutureWarning: The frame.append method is deprecated and will be removed from pandas in a future version. Use pandas.concat instead.\n",
      "  dfScenes = dfScenes.append({'location':strFilePath, 'geometry': box(bounds[0], bounds[1], bounds[2], bounds[3])},ignore_index=True)\n",
      "C:\\Users\\alexsaunders\\AppData\\Local\\Temp\\ipykernel_13448\\724766185.py:13: FutureWarning: The frame.append method is deprecated and will be removed from pandas in a future version. Use pandas.concat instead.\n",
      "  dfScenes = dfScenes.append({'location':strFilePath, 'geometry': box(bounds[0], bounds[1], bounds[2], bounds[3])},ignore_index=True)\n",
      "C:\\Users\\alexsaunders\\AppData\\Local\\Temp\\ipykernel_13448\\724766185.py:13: FutureWarning: The frame.append method is deprecated and will be removed from pandas in a future version. Use pandas.concat instead.\n",
      "  dfScenes = dfScenes.append({'location':strFilePath, 'geometry': box(bounds[0], bounds[1], bounds[2], bounds[3])},ignore_index=True)\n"
     ]
    },
    {
     "name": "stdout",
     "output_type": "stream",
     "text": [
      "processing file 59/936\r"
     ]
    },
    {
     "name": "stderr",
     "output_type": "stream",
     "text": [
      "C:\\Users\\alexsaunders\\AppData\\Local\\Temp\\ipykernel_13448\\724766185.py:13: FutureWarning: The frame.append method is deprecated and will be removed from pandas in a future version. Use pandas.concat instead.\n",
      "  dfScenes = dfScenes.append({'location':strFilePath, 'geometry': box(bounds[0], bounds[1], bounds[2], bounds[3])},ignore_index=True)\n",
      "C:\\Users\\alexsaunders\\AppData\\Local\\Temp\\ipykernel_13448\\724766185.py:13: FutureWarning: The frame.append method is deprecated and will be removed from pandas in a future version. Use pandas.concat instead.\n",
      "  dfScenes = dfScenes.append({'location':strFilePath, 'geometry': box(bounds[0], bounds[1], bounds[2], bounds[3])},ignore_index=True)\n",
      "C:\\Users\\alexsaunders\\AppData\\Local\\Temp\\ipykernel_13448\\724766185.py:13: FutureWarning: The frame.append method is deprecated and will be removed from pandas in a future version. Use pandas.concat instead.\n",
      "  dfScenes = dfScenes.append({'location':strFilePath, 'geometry': box(bounds[0], bounds[1], bounds[2], bounds[3])},ignore_index=True)\n",
      "C:\\Users\\alexsaunders\\AppData\\Local\\Temp\\ipykernel_13448\\724766185.py:13: FutureWarning: The frame.append method is deprecated and will be removed from pandas in a future version. Use pandas.concat instead.\n",
      "  dfScenes = dfScenes.append({'location':strFilePath, 'geometry': box(bounds[0], bounds[1], bounds[2], bounds[3])},ignore_index=True)\n",
      "C:\\Users\\alexsaunders\\AppData\\Local\\Temp\\ipykernel_13448\\724766185.py:13: FutureWarning: The frame.append method is deprecated and will be removed from pandas in a future version. Use pandas.concat instead.\n",
      "  dfScenes = dfScenes.append({'location':strFilePath, 'geometry': box(bounds[0], bounds[1], bounds[2], bounds[3])},ignore_index=True)\n",
      "C:\\Users\\alexsaunders\\AppData\\Local\\Temp\\ipykernel_13448\\724766185.py:13: FutureWarning: The frame.append method is deprecated and will be removed from pandas in a future version. Use pandas.concat instead.\n",
      "  dfScenes = dfScenes.append({'location':strFilePath, 'geometry': box(bounds[0], bounds[1], bounds[2], bounds[3])},ignore_index=True)\n"
     ]
    },
    {
     "name": "stdout",
     "output_type": "stream",
     "text": [
      "processing file 65/936\r"
     ]
    },
    {
     "name": "stderr",
     "output_type": "stream",
     "text": [
      "C:\\Users\\alexsaunders\\AppData\\Local\\Temp\\ipykernel_13448\\724766185.py:13: FutureWarning: The frame.append method is deprecated and will be removed from pandas in a future version. Use pandas.concat instead.\n",
      "  dfScenes = dfScenes.append({'location':strFilePath, 'geometry': box(bounds[0], bounds[1], bounds[2], bounds[3])},ignore_index=True)\n",
      "C:\\Users\\alexsaunders\\AppData\\Local\\Temp\\ipykernel_13448\\724766185.py:13: FutureWarning: The frame.append method is deprecated and will be removed from pandas in a future version. Use pandas.concat instead.\n",
      "  dfScenes = dfScenes.append({'location':strFilePath, 'geometry': box(bounds[0], bounds[1], bounds[2], bounds[3])},ignore_index=True)\n",
      "C:\\Users\\alexsaunders\\AppData\\Local\\Temp\\ipykernel_13448\\724766185.py:13: FutureWarning: The frame.append method is deprecated and will be removed from pandas in a future version. Use pandas.concat instead.\n",
      "  dfScenes = dfScenes.append({'location':strFilePath, 'geometry': box(bounds[0], bounds[1], bounds[2], bounds[3])},ignore_index=True)\n",
      "C:\\Users\\alexsaunders\\AppData\\Local\\Temp\\ipykernel_13448\\724766185.py:13: FutureWarning: The frame.append method is deprecated and will be removed from pandas in a future version. Use pandas.concat instead.\n",
      "  dfScenes = dfScenes.append({'location':strFilePath, 'geometry': box(bounds[0], bounds[1], bounds[2], bounds[3])},ignore_index=True)\n",
      "C:\\Users\\alexsaunders\\AppData\\Local\\Temp\\ipykernel_13448\\724766185.py:13: FutureWarning: The frame.append method is deprecated and will be removed from pandas in a future version. Use pandas.concat instead.\n",
      "  dfScenes = dfScenes.append({'location':strFilePath, 'geometry': box(bounds[0], bounds[1], bounds[2], bounds[3])},ignore_index=True)\n"
     ]
    },
    {
     "name": "stdout",
     "output_type": "stream",
     "text": [
      "processing file 70/936\r"
     ]
    },
    {
     "name": "stderr",
     "output_type": "stream",
     "text": [
      "C:\\Users\\alexsaunders\\AppData\\Local\\Temp\\ipykernel_13448\\724766185.py:13: FutureWarning: The frame.append method is deprecated and will be removed from pandas in a future version. Use pandas.concat instead.\n",
      "  dfScenes = dfScenes.append({'location':strFilePath, 'geometry': box(bounds[0], bounds[1], bounds[2], bounds[3])},ignore_index=True)\n",
      "C:\\Users\\alexsaunders\\AppData\\Local\\Temp\\ipykernel_13448\\724766185.py:13: FutureWarning: The frame.append method is deprecated and will be removed from pandas in a future version. Use pandas.concat instead.\n",
      "  dfScenes = dfScenes.append({'location':strFilePath, 'geometry': box(bounds[0], bounds[1], bounds[2], bounds[3])},ignore_index=True)\n",
      "C:\\Users\\alexsaunders\\AppData\\Local\\Temp\\ipykernel_13448\\724766185.py:13: FutureWarning: The frame.append method is deprecated and will be removed from pandas in a future version. Use pandas.concat instead.\n",
      "  dfScenes = dfScenes.append({'location':strFilePath, 'geometry': box(bounds[0], bounds[1], bounds[2], bounds[3])},ignore_index=True)\n",
      "C:\\Users\\alexsaunders\\AppData\\Local\\Temp\\ipykernel_13448\\724766185.py:13: FutureWarning: The frame.append method is deprecated and will be removed from pandas in a future version. Use pandas.concat instead.\n",
      "  dfScenes = dfScenes.append({'location':strFilePath, 'geometry': box(bounds[0], bounds[1], bounds[2], bounds[3])},ignore_index=True)\n",
      "C:\\Users\\alexsaunders\\AppData\\Local\\Temp\\ipykernel_13448\\724766185.py:13: FutureWarning: The frame.append method is deprecated and will be removed from pandas in a future version. Use pandas.concat instead.\n",
      "  dfScenes = dfScenes.append({'location':strFilePath, 'geometry': box(bounds[0], bounds[1], bounds[2], bounds[3])},ignore_index=True)\n"
     ]
    },
    {
     "name": "stdout",
     "output_type": "stream",
     "text": [
      "processing file 75/936\r"
     ]
    },
    {
     "name": "stderr",
     "output_type": "stream",
     "text": [
      "C:\\Users\\alexsaunders\\AppData\\Local\\Temp\\ipykernel_13448\\724766185.py:13: FutureWarning: The frame.append method is deprecated and will be removed from pandas in a future version. Use pandas.concat instead.\n",
      "  dfScenes = dfScenes.append({'location':strFilePath, 'geometry': box(bounds[0], bounds[1], bounds[2], bounds[3])},ignore_index=True)\n",
      "C:\\Users\\alexsaunders\\AppData\\Local\\Temp\\ipykernel_13448\\724766185.py:13: FutureWarning: The frame.append method is deprecated and will be removed from pandas in a future version. Use pandas.concat instead.\n",
      "  dfScenes = dfScenes.append({'location':strFilePath, 'geometry': box(bounds[0], bounds[1], bounds[2], bounds[3])},ignore_index=True)\n",
      "C:\\Users\\alexsaunders\\AppData\\Local\\Temp\\ipykernel_13448\\724766185.py:13: FutureWarning: The frame.append method is deprecated and will be removed from pandas in a future version. Use pandas.concat instead.\n",
      "  dfScenes = dfScenes.append({'location':strFilePath, 'geometry': box(bounds[0], bounds[1], bounds[2], bounds[3])},ignore_index=True)\n",
      "C:\\Users\\alexsaunders\\AppData\\Local\\Temp\\ipykernel_13448\\724766185.py:13: FutureWarning: The frame.append method is deprecated and will be removed from pandas in a future version. Use pandas.concat instead.\n",
      "  dfScenes = dfScenes.append({'location':strFilePath, 'geometry': box(bounds[0], bounds[1], bounds[2], bounds[3])},ignore_index=True)\n",
      "C:\\Users\\alexsaunders\\AppData\\Local\\Temp\\ipykernel_13448\\724766185.py:13: FutureWarning: The frame.append method is deprecated and will be removed from pandas in a future version. Use pandas.concat instead.\n",
      "  dfScenes = dfScenes.append({'location':strFilePath, 'geometry': box(bounds[0], bounds[1], bounds[2], bounds[3])},ignore_index=True)\n"
     ]
    },
    {
     "name": "stdout",
     "output_type": "stream",
     "text": [
      "processing file 80/936\r"
     ]
    },
    {
     "name": "stderr",
     "output_type": "stream",
     "text": [
      "C:\\Users\\alexsaunders\\AppData\\Local\\Temp\\ipykernel_13448\\724766185.py:13: FutureWarning: The frame.append method is deprecated and will be removed from pandas in a future version. Use pandas.concat instead.\n",
      "  dfScenes = dfScenes.append({'location':strFilePath, 'geometry': box(bounds[0], bounds[1], bounds[2], bounds[3])},ignore_index=True)\n",
      "C:\\Users\\alexsaunders\\AppData\\Local\\Temp\\ipykernel_13448\\724766185.py:13: FutureWarning: The frame.append method is deprecated and will be removed from pandas in a future version. Use pandas.concat instead.\n",
      "  dfScenes = dfScenes.append({'location':strFilePath, 'geometry': box(bounds[0], bounds[1], bounds[2], bounds[3])},ignore_index=True)\n",
      "C:\\Users\\alexsaunders\\AppData\\Local\\Temp\\ipykernel_13448\\724766185.py:13: FutureWarning: The frame.append method is deprecated and will be removed from pandas in a future version. Use pandas.concat instead.\n",
      "  dfScenes = dfScenes.append({'location':strFilePath, 'geometry': box(bounds[0], bounds[1], bounds[2], bounds[3])},ignore_index=True)\n",
      "C:\\Users\\alexsaunders\\AppData\\Local\\Temp\\ipykernel_13448\\724766185.py:13: FutureWarning: The frame.append method is deprecated and will be removed from pandas in a future version. Use pandas.concat instead.\n",
      "  dfScenes = dfScenes.append({'location':strFilePath, 'geometry': box(bounds[0], bounds[1], bounds[2], bounds[3])},ignore_index=True)\n",
      "C:\\Users\\alexsaunders\\AppData\\Local\\Temp\\ipykernel_13448\\724766185.py:13: FutureWarning: The frame.append method is deprecated and will be removed from pandas in a future version. Use pandas.concat instead.\n",
      "  dfScenes = dfScenes.append({'location':strFilePath, 'geometry': box(bounds[0], bounds[1], bounds[2], bounds[3])},ignore_index=True)\n"
     ]
    },
    {
     "name": "stdout",
     "output_type": "stream",
     "text": [
      "processing file 85/936\r"
     ]
    },
    {
     "name": "stderr",
     "output_type": "stream",
     "text": [
      "C:\\Users\\alexsaunders\\AppData\\Local\\Temp\\ipykernel_13448\\724766185.py:13: FutureWarning: The frame.append method is deprecated and will be removed from pandas in a future version. Use pandas.concat instead.\n",
      "  dfScenes = dfScenes.append({'location':strFilePath, 'geometry': box(bounds[0], bounds[1], bounds[2], bounds[3])},ignore_index=True)\n",
      "C:\\Users\\alexsaunders\\AppData\\Local\\Temp\\ipykernel_13448\\724766185.py:13: FutureWarning: The frame.append method is deprecated and will be removed from pandas in a future version. Use pandas.concat instead.\n",
      "  dfScenes = dfScenes.append({'location':strFilePath, 'geometry': box(bounds[0], bounds[1], bounds[2], bounds[3])},ignore_index=True)\n",
      "C:\\Users\\alexsaunders\\AppData\\Local\\Temp\\ipykernel_13448\\724766185.py:13: FutureWarning: The frame.append method is deprecated and will be removed from pandas in a future version. Use pandas.concat instead.\n",
      "  dfScenes = dfScenes.append({'location':strFilePath, 'geometry': box(bounds[0], bounds[1], bounds[2], bounds[3])},ignore_index=True)\n",
      "C:\\Users\\alexsaunders\\AppData\\Local\\Temp\\ipykernel_13448\\724766185.py:13: FutureWarning: The frame.append method is deprecated and will be removed from pandas in a future version. Use pandas.concat instead.\n",
      "  dfScenes = dfScenes.append({'location':strFilePath, 'geometry': box(bounds[0], bounds[1], bounds[2], bounds[3])},ignore_index=True)\n",
      "C:\\Users\\alexsaunders\\AppData\\Local\\Temp\\ipykernel_13448\\724766185.py:13: FutureWarning: The frame.append method is deprecated and will be removed from pandas in a future version. Use pandas.concat instead.\n",
      "  dfScenes = dfScenes.append({'location':strFilePath, 'geometry': box(bounds[0], bounds[1], bounds[2], bounds[3])},ignore_index=True)\n"
     ]
    },
    {
     "name": "stdout",
     "output_type": "stream",
     "text": [
      "processing file 90/936\r"
     ]
    },
    {
     "name": "stderr",
     "output_type": "stream",
     "text": [
      "C:\\Users\\alexsaunders\\AppData\\Local\\Temp\\ipykernel_13448\\724766185.py:13: FutureWarning: The frame.append method is deprecated and will be removed from pandas in a future version. Use pandas.concat instead.\n",
      "  dfScenes = dfScenes.append({'location':strFilePath, 'geometry': box(bounds[0], bounds[1], bounds[2], bounds[3])},ignore_index=True)\n",
      "C:\\Users\\alexsaunders\\AppData\\Local\\Temp\\ipykernel_13448\\724766185.py:13: FutureWarning: The frame.append method is deprecated and will be removed from pandas in a future version. Use pandas.concat instead.\n",
      "  dfScenes = dfScenes.append({'location':strFilePath, 'geometry': box(bounds[0], bounds[1], bounds[2], bounds[3])},ignore_index=True)\n",
      "C:\\Users\\alexsaunders\\AppData\\Local\\Temp\\ipykernel_13448\\724766185.py:13: FutureWarning: The frame.append method is deprecated and will be removed from pandas in a future version. Use pandas.concat instead.\n",
      "  dfScenes = dfScenes.append({'location':strFilePath, 'geometry': box(bounds[0], bounds[1], bounds[2], bounds[3])},ignore_index=True)\n"
     ]
    },
    {
     "name": "stdout",
     "output_type": "stream",
     "text": [
      "processing file 93/936\r"
     ]
    },
    {
     "name": "stderr",
     "output_type": "stream",
     "text": [
      "C:\\Users\\alexsaunders\\AppData\\Local\\Temp\\ipykernel_13448\\724766185.py:13: FutureWarning: The frame.append method is deprecated and will be removed from pandas in a future version. Use pandas.concat instead.\n",
      "  dfScenes = dfScenes.append({'location':strFilePath, 'geometry': box(bounds[0], bounds[1], bounds[2], bounds[3])},ignore_index=True)\n",
      "C:\\Users\\alexsaunders\\AppData\\Local\\Temp\\ipykernel_13448\\724766185.py:13: FutureWarning: The frame.append method is deprecated and will be removed from pandas in a future version. Use pandas.concat instead.\n",
      "  dfScenes = dfScenes.append({'location':strFilePath, 'geometry': box(bounds[0], bounds[1], bounds[2], bounds[3])},ignore_index=True)\n",
      "C:\\Users\\alexsaunders\\AppData\\Local\\Temp\\ipykernel_13448\\724766185.py:13: FutureWarning: The frame.append method is deprecated and will be removed from pandas in a future version. Use pandas.concat instead.\n",
      "  dfScenes = dfScenes.append({'location':strFilePath, 'geometry': box(bounds[0], bounds[1], bounds[2], bounds[3])},ignore_index=True)\n",
      "C:\\Users\\alexsaunders\\AppData\\Local\\Temp\\ipykernel_13448\\724766185.py:13: FutureWarning: The frame.append method is deprecated and will be removed from pandas in a future version. Use pandas.concat instead.\n",
      "  dfScenes = dfScenes.append({'location':strFilePath, 'geometry': box(bounds[0], bounds[1], bounds[2], bounds[3])},ignore_index=True)\n",
      "C:\\Users\\alexsaunders\\AppData\\Local\\Temp\\ipykernel_13448\\724766185.py:13: FutureWarning: The frame.append method is deprecated and will be removed from pandas in a future version. Use pandas.concat instead.\n",
      "  dfScenes = dfScenes.append({'location':strFilePath, 'geometry': box(bounds[0], bounds[1], bounds[2], bounds[3])},ignore_index=True)\n"
     ]
    },
    {
     "name": "stdout",
     "output_type": "stream",
     "text": [
      "processing file 98/936\r"
     ]
    },
    {
     "name": "stderr",
     "output_type": "stream",
     "text": [
      "C:\\Users\\alexsaunders\\AppData\\Local\\Temp\\ipykernel_13448\\724766185.py:13: FutureWarning: The frame.append method is deprecated and will be removed from pandas in a future version. Use pandas.concat instead.\n",
      "  dfScenes = dfScenes.append({'location':strFilePath, 'geometry': box(bounds[0], bounds[1], bounds[2], bounds[3])},ignore_index=True)\n",
      "C:\\Users\\alexsaunders\\AppData\\Local\\Temp\\ipykernel_13448\\724766185.py:13: FutureWarning: The frame.append method is deprecated and will be removed from pandas in a future version. Use pandas.concat instead.\n",
      "  dfScenes = dfScenes.append({'location':strFilePath, 'geometry': box(bounds[0], bounds[1], bounds[2], bounds[3])},ignore_index=True)\n",
      "C:\\Users\\alexsaunders\\AppData\\Local\\Temp\\ipykernel_13448\\724766185.py:13: FutureWarning: The frame.append method is deprecated and will be removed from pandas in a future version. Use pandas.concat instead.\n",
      "  dfScenes = dfScenes.append({'location':strFilePath, 'geometry': box(bounds[0], bounds[1], bounds[2], bounds[3])},ignore_index=True)\n",
      "C:\\Users\\alexsaunders\\AppData\\Local\\Temp\\ipykernel_13448\\724766185.py:13: FutureWarning: The frame.append method is deprecated and will be removed from pandas in a future version. Use pandas.concat instead.\n",
      "  dfScenes = dfScenes.append({'location':strFilePath, 'geometry': box(bounds[0], bounds[1], bounds[2], bounds[3])},ignore_index=True)\n",
      "C:\\Users\\alexsaunders\\AppData\\Local\\Temp\\ipykernel_13448\\724766185.py:13: FutureWarning: The frame.append method is deprecated and will be removed from pandas in a future version. Use pandas.concat instead.\n",
      "  dfScenes = dfScenes.append({'location':strFilePath, 'geometry': box(bounds[0], bounds[1], bounds[2], bounds[3])},ignore_index=True)\n"
     ]
    },
    {
     "name": "stdout",
     "output_type": "stream",
     "text": [
      "processing file 103/936\r"
     ]
    },
    {
     "name": "stderr",
     "output_type": "stream",
     "text": [
      "C:\\Users\\alexsaunders\\AppData\\Local\\Temp\\ipykernel_13448\\724766185.py:13: FutureWarning: The frame.append method is deprecated and will be removed from pandas in a future version. Use pandas.concat instead.\n",
      "  dfScenes = dfScenes.append({'location':strFilePath, 'geometry': box(bounds[0], bounds[1], bounds[2], bounds[3])},ignore_index=True)\n",
      "C:\\Users\\alexsaunders\\AppData\\Local\\Temp\\ipykernel_13448\\724766185.py:13: FutureWarning: The frame.append method is deprecated and will be removed from pandas in a future version. Use pandas.concat instead.\n",
      "  dfScenes = dfScenes.append({'location':strFilePath, 'geometry': box(bounds[0], bounds[1], bounds[2], bounds[3])},ignore_index=True)\n",
      "C:\\Users\\alexsaunders\\AppData\\Local\\Temp\\ipykernel_13448\\724766185.py:13: FutureWarning: The frame.append method is deprecated and will be removed from pandas in a future version. Use pandas.concat instead.\n",
      "  dfScenes = dfScenes.append({'location':strFilePath, 'geometry': box(bounds[0], bounds[1], bounds[2], bounds[3])},ignore_index=True)\n",
      "C:\\Users\\alexsaunders\\AppData\\Local\\Temp\\ipykernel_13448\\724766185.py:13: FutureWarning: The frame.append method is deprecated and will be removed from pandas in a future version. Use pandas.concat instead.\n",
      "  dfScenes = dfScenes.append({'location':strFilePath, 'geometry': box(bounds[0], bounds[1], bounds[2], bounds[3])},ignore_index=True)\n",
      "C:\\Users\\alexsaunders\\AppData\\Local\\Temp\\ipykernel_13448\\724766185.py:13: FutureWarning: The frame.append method is deprecated and will be removed from pandas in a future version. Use pandas.concat instead.\n",
      "  dfScenes = dfScenes.append({'location':strFilePath, 'geometry': box(bounds[0], bounds[1], bounds[2], bounds[3])},ignore_index=True)\n"
     ]
    },
    {
     "name": "stdout",
     "output_type": "stream",
     "text": [
      "processing file 108/936\r"
     ]
    },
    {
     "name": "stderr",
     "output_type": "stream",
     "text": [
      "C:\\Users\\alexsaunders\\AppData\\Local\\Temp\\ipykernel_13448\\724766185.py:13: FutureWarning: The frame.append method is deprecated and will be removed from pandas in a future version. Use pandas.concat instead.\n",
      "  dfScenes = dfScenes.append({'location':strFilePath, 'geometry': box(bounds[0], bounds[1], bounds[2], bounds[3])},ignore_index=True)\n",
      "C:\\Users\\alexsaunders\\AppData\\Local\\Temp\\ipykernel_13448\\724766185.py:13: FutureWarning: The frame.append method is deprecated and will be removed from pandas in a future version. Use pandas.concat instead.\n",
      "  dfScenes = dfScenes.append({'location':strFilePath, 'geometry': box(bounds[0], bounds[1], bounds[2], bounds[3])},ignore_index=True)\n",
      "C:\\Users\\alexsaunders\\AppData\\Local\\Temp\\ipykernel_13448\\724766185.py:13: FutureWarning: The frame.append method is deprecated and will be removed from pandas in a future version. Use pandas.concat instead.\n",
      "  dfScenes = dfScenes.append({'location':strFilePath, 'geometry': box(bounds[0], bounds[1], bounds[2], bounds[3])},ignore_index=True)\n",
      "C:\\Users\\alexsaunders\\AppData\\Local\\Temp\\ipykernel_13448\\724766185.py:13: FutureWarning: The frame.append method is deprecated and will be removed from pandas in a future version. Use pandas.concat instead.\n",
      "  dfScenes = dfScenes.append({'location':strFilePath, 'geometry': box(bounds[0], bounds[1], bounds[2], bounds[3])},ignore_index=True)\n",
      "C:\\Users\\alexsaunders\\AppData\\Local\\Temp\\ipykernel_13448\\724766185.py:13: FutureWarning: The frame.append method is deprecated and will be removed from pandas in a future version. Use pandas.concat instead.\n",
      "  dfScenes = dfScenes.append({'location':strFilePath, 'geometry': box(bounds[0], bounds[1], bounds[2], bounds[3])},ignore_index=True)\n"
     ]
    },
    {
     "name": "stdout",
     "output_type": "stream",
     "text": [
      "processing file 113/936\r"
     ]
    },
    {
     "name": "stderr",
     "output_type": "stream",
     "text": [
      "C:\\Users\\alexsaunders\\AppData\\Local\\Temp\\ipykernel_13448\\724766185.py:13: FutureWarning: The frame.append method is deprecated and will be removed from pandas in a future version. Use pandas.concat instead.\n",
      "  dfScenes = dfScenes.append({'location':strFilePath, 'geometry': box(bounds[0], bounds[1], bounds[2], bounds[3])},ignore_index=True)\n",
      "C:\\Users\\alexsaunders\\AppData\\Local\\Temp\\ipykernel_13448\\724766185.py:13: FutureWarning: The frame.append method is deprecated and will be removed from pandas in a future version. Use pandas.concat instead.\n",
      "  dfScenes = dfScenes.append({'location':strFilePath, 'geometry': box(bounds[0], bounds[1], bounds[2], bounds[3])},ignore_index=True)\n",
      "C:\\Users\\alexsaunders\\AppData\\Local\\Temp\\ipykernel_13448\\724766185.py:13: FutureWarning: The frame.append method is deprecated and will be removed from pandas in a future version. Use pandas.concat instead.\n",
      "  dfScenes = dfScenes.append({'location':strFilePath, 'geometry': box(bounds[0], bounds[1], bounds[2], bounds[3])},ignore_index=True)\n",
      "C:\\Users\\alexsaunders\\AppData\\Local\\Temp\\ipykernel_13448\\724766185.py:13: FutureWarning: The frame.append method is deprecated and will be removed from pandas in a future version. Use pandas.concat instead.\n",
      "  dfScenes = dfScenes.append({'location':strFilePath, 'geometry': box(bounds[0], bounds[1], bounds[2], bounds[3])},ignore_index=True)\n",
      "C:\\Users\\alexsaunders\\AppData\\Local\\Temp\\ipykernel_13448\\724766185.py:13: FutureWarning: The frame.append method is deprecated and will be removed from pandas in a future version. Use pandas.concat instead.\n",
      "  dfScenes = dfScenes.append({'location':strFilePath, 'geometry': box(bounds[0], bounds[1], bounds[2], bounds[3])},ignore_index=True)\n"
     ]
    },
    {
     "name": "stdout",
     "output_type": "stream",
     "text": [
      "processing file 118/936\r"
     ]
    },
    {
     "name": "stderr",
     "output_type": "stream",
     "text": [
      "C:\\Users\\alexsaunders\\AppData\\Local\\Temp\\ipykernel_13448\\724766185.py:13: FutureWarning: The frame.append method is deprecated and will be removed from pandas in a future version. Use pandas.concat instead.\n",
      "  dfScenes = dfScenes.append({'location':strFilePath, 'geometry': box(bounds[0], bounds[1], bounds[2], bounds[3])},ignore_index=True)\n",
      "C:\\Users\\alexsaunders\\AppData\\Local\\Temp\\ipykernel_13448\\724766185.py:13: FutureWarning: The frame.append method is deprecated and will be removed from pandas in a future version. Use pandas.concat instead.\n",
      "  dfScenes = dfScenes.append({'location':strFilePath, 'geometry': box(bounds[0], bounds[1], bounds[2], bounds[3])},ignore_index=True)\n",
      "C:\\Users\\alexsaunders\\AppData\\Local\\Temp\\ipykernel_13448\\724766185.py:13: FutureWarning: The frame.append method is deprecated and will be removed from pandas in a future version. Use pandas.concat instead.\n",
      "  dfScenes = dfScenes.append({'location':strFilePath, 'geometry': box(bounds[0], bounds[1], bounds[2], bounds[3])},ignore_index=True)\n",
      "C:\\Users\\alexsaunders\\AppData\\Local\\Temp\\ipykernel_13448\\724766185.py:13: FutureWarning: The frame.append method is deprecated and will be removed from pandas in a future version. Use pandas.concat instead.\n",
      "  dfScenes = dfScenes.append({'location':strFilePath, 'geometry': box(bounds[0], bounds[1], bounds[2], bounds[3])},ignore_index=True)\n",
      "C:\\Users\\alexsaunders\\AppData\\Local\\Temp\\ipykernel_13448\\724766185.py:13: FutureWarning: The frame.append method is deprecated and will be removed from pandas in a future version. Use pandas.concat instead.\n",
      "  dfScenes = dfScenes.append({'location':strFilePath, 'geometry': box(bounds[0], bounds[1], bounds[2], bounds[3])},ignore_index=True)\n"
     ]
    },
    {
     "name": "stdout",
     "output_type": "stream",
     "text": [
      "processing file 123/936\r"
     ]
    },
    {
     "name": "stderr",
     "output_type": "stream",
     "text": [
      "C:\\Users\\alexsaunders\\AppData\\Local\\Temp\\ipykernel_13448\\724766185.py:13: FutureWarning: The frame.append method is deprecated and will be removed from pandas in a future version. Use pandas.concat instead.\n",
      "  dfScenes = dfScenes.append({'location':strFilePath, 'geometry': box(bounds[0], bounds[1], bounds[2], bounds[3])},ignore_index=True)\n",
      "C:\\Users\\alexsaunders\\AppData\\Local\\Temp\\ipykernel_13448\\724766185.py:13: FutureWarning: The frame.append method is deprecated and will be removed from pandas in a future version. Use pandas.concat instead.\n",
      "  dfScenes = dfScenes.append({'location':strFilePath, 'geometry': box(bounds[0], bounds[1], bounds[2], bounds[3])},ignore_index=True)\n",
      "C:\\Users\\alexsaunders\\AppData\\Local\\Temp\\ipykernel_13448\\724766185.py:13: FutureWarning: The frame.append method is deprecated and will be removed from pandas in a future version. Use pandas.concat instead.\n",
      "  dfScenes = dfScenes.append({'location':strFilePath, 'geometry': box(bounds[0], bounds[1], bounds[2], bounds[3])},ignore_index=True)\n",
      "C:\\Users\\alexsaunders\\AppData\\Local\\Temp\\ipykernel_13448\\724766185.py:13: FutureWarning: The frame.append method is deprecated and will be removed from pandas in a future version. Use pandas.concat instead.\n",
      "  dfScenes = dfScenes.append({'location':strFilePath, 'geometry': box(bounds[0], bounds[1], bounds[2], bounds[3])},ignore_index=True)\n",
      "C:\\Users\\alexsaunders\\AppData\\Local\\Temp\\ipykernel_13448\\724766185.py:13: FutureWarning: The frame.append method is deprecated and will be removed from pandas in a future version. Use pandas.concat instead.\n",
      "  dfScenes = dfScenes.append({'location':strFilePath, 'geometry': box(bounds[0], bounds[1], bounds[2], bounds[3])},ignore_index=True)\n"
     ]
    },
    {
     "name": "stdout",
     "output_type": "stream",
     "text": [
      "processing file 128/936\r"
     ]
    },
    {
     "name": "stderr",
     "output_type": "stream",
     "text": [
      "C:\\Users\\alexsaunders\\AppData\\Local\\Temp\\ipykernel_13448\\724766185.py:13: FutureWarning: The frame.append method is deprecated and will be removed from pandas in a future version. Use pandas.concat instead.\n",
      "  dfScenes = dfScenes.append({'location':strFilePath, 'geometry': box(bounds[0], bounds[1], bounds[2], bounds[3])},ignore_index=True)\n",
      "C:\\Users\\alexsaunders\\AppData\\Local\\Temp\\ipykernel_13448\\724766185.py:13: FutureWarning: The frame.append method is deprecated and will be removed from pandas in a future version. Use pandas.concat instead.\n",
      "  dfScenes = dfScenes.append({'location':strFilePath, 'geometry': box(bounds[0], bounds[1], bounds[2], bounds[3])},ignore_index=True)\n",
      "C:\\Users\\alexsaunders\\AppData\\Local\\Temp\\ipykernel_13448\\724766185.py:13: FutureWarning: The frame.append method is deprecated and will be removed from pandas in a future version. Use pandas.concat instead.\n",
      "  dfScenes = dfScenes.append({'location':strFilePath, 'geometry': box(bounds[0], bounds[1], bounds[2], bounds[3])},ignore_index=True)\n",
      "C:\\Users\\alexsaunders\\AppData\\Local\\Temp\\ipykernel_13448\\724766185.py:13: FutureWarning: The frame.append method is deprecated and will be removed from pandas in a future version. Use pandas.concat instead.\n",
      "  dfScenes = dfScenes.append({'location':strFilePath, 'geometry': box(bounds[0], bounds[1], bounds[2], bounds[3])},ignore_index=True)\n",
      "C:\\Users\\alexsaunders\\AppData\\Local\\Temp\\ipykernel_13448\\724766185.py:13: FutureWarning: The frame.append method is deprecated and will be removed from pandas in a future version. Use pandas.concat instead.\n",
      "  dfScenes = dfScenes.append({'location':strFilePath, 'geometry': box(bounds[0], bounds[1], bounds[2], bounds[3])},ignore_index=True)\n",
      "C:\\Users\\alexsaunders\\AppData\\Local\\Temp\\ipykernel_13448\\724766185.py:13: FutureWarning: The frame.append method is deprecated and will be removed from pandas in a future version. Use pandas.concat instead.\n",
      "  dfScenes = dfScenes.append({'location':strFilePath, 'geometry': box(bounds[0], bounds[1], bounds[2], bounds[3])},ignore_index=True)\n"
     ]
    },
    {
     "name": "stdout",
     "output_type": "stream",
     "text": [
      "processing file 134/936\r"
     ]
    },
    {
     "name": "stderr",
     "output_type": "stream",
     "text": [
      "C:\\Users\\alexsaunders\\AppData\\Local\\Temp\\ipykernel_13448\\724766185.py:13: FutureWarning: The frame.append method is deprecated and will be removed from pandas in a future version. Use pandas.concat instead.\n",
      "  dfScenes = dfScenes.append({'location':strFilePath, 'geometry': box(bounds[0], bounds[1], bounds[2], bounds[3])},ignore_index=True)\n",
      "C:\\Users\\alexsaunders\\AppData\\Local\\Temp\\ipykernel_13448\\724766185.py:13: FutureWarning: The frame.append method is deprecated and will be removed from pandas in a future version. Use pandas.concat instead.\n",
      "  dfScenes = dfScenes.append({'location':strFilePath, 'geometry': box(bounds[0], bounds[1], bounds[2], bounds[3])},ignore_index=True)\n",
      "C:\\Users\\alexsaunders\\AppData\\Local\\Temp\\ipykernel_13448\\724766185.py:13: FutureWarning: The frame.append method is deprecated and will be removed from pandas in a future version. Use pandas.concat instead.\n",
      "  dfScenes = dfScenes.append({'location':strFilePath, 'geometry': box(bounds[0], bounds[1], bounds[2], bounds[3])},ignore_index=True)\n",
      "C:\\Users\\alexsaunders\\AppData\\Local\\Temp\\ipykernel_13448\\724766185.py:13: FutureWarning: The frame.append method is deprecated and will be removed from pandas in a future version. Use pandas.concat instead.\n",
      "  dfScenes = dfScenes.append({'location':strFilePath, 'geometry': box(bounds[0], bounds[1], bounds[2], bounds[3])},ignore_index=True)\n",
      "C:\\Users\\alexsaunders\\AppData\\Local\\Temp\\ipykernel_13448\\724766185.py:13: FutureWarning: The frame.append method is deprecated and will be removed from pandas in a future version. Use pandas.concat instead.\n",
      "  dfScenes = dfScenes.append({'location':strFilePath, 'geometry': box(bounds[0], bounds[1], bounds[2], bounds[3])},ignore_index=True)\n"
     ]
    },
    {
     "name": "stdout",
     "output_type": "stream",
     "text": [
      "processing file 139/936\r"
     ]
    },
    {
     "name": "stderr",
     "output_type": "stream",
     "text": [
      "C:\\Users\\alexsaunders\\AppData\\Local\\Temp\\ipykernel_13448\\724766185.py:13: FutureWarning: The frame.append method is deprecated and will be removed from pandas in a future version. Use pandas.concat instead.\n",
      "  dfScenes = dfScenes.append({'location':strFilePath, 'geometry': box(bounds[0], bounds[1], bounds[2], bounds[3])},ignore_index=True)\n",
      "C:\\Users\\alexsaunders\\AppData\\Local\\Temp\\ipykernel_13448\\724766185.py:13: FutureWarning: The frame.append method is deprecated and will be removed from pandas in a future version. Use pandas.concat instead.\n",
      "  dfScenes = dfScenes.append({'location':strFilePath, 'geometry': box(bounds[0], bounds[1], bounds[2], bounds[3])},ignore_index=True)\n",
      "C:\\Users\\alexsaunders\\AppData\\Local\\Temp\\ipykernel_13448\\724766185.py:13: FutureWarning: The frame.append method is deprecated and will be removed from pandas in a future version. Use pandas.concat instead.\n",
      "  dfScenes = dfScenes.append({'location':strFilePath, 'geometry': box(bounds[0], bounds[1], bounds[2], bounds[3])},ignore_index=True)\n",
      "C:\\Users\\alexsaunders\\AppData\\Local\\Temp\\ipykernel_13448\\724766185.py:13: FutureWarning: The frame.append method is deprecated and will be removed from pandas in a future version. Use pandas.concat instead.\n",
      "  dfScenes = dfScenes.append({'location':strFilePath, 'geometry': box(bounds[0], bounds[1], bounds[2], bounds[3])},ignore_index=True)\n",
      "C:\\Users\\alexsaunders\\AppData\\Local\\Temp\\ipykernel_13448\\724766185.py:13: FutureWarning: The frame.append method is deprecated and will be removed from pandas in a future version. Use pandas.concat instead.\n",
      "  dfScenes = dfScenes.append({'location':strFilePath, 'geometry': box(bounds[0], bounds[1], bounds[2], bounds[3])},ignore_index=True)\n"
     ]
    },
    {
     "name": "stdout",
     "output_type": "stream",
     "text": [
      "processing file 144/936\r"
     ]
    },
    {
     "name": "stderr",
     "output_type": "stream",
     "text": [
      "C:\\Users\\alexsaunders\\AppData\\Local\\Temp\\ipykernel_13448\\724766185.py:13: FutureWarning: The frame.append method is deprecated and will be removed from pandas in a future version. Use pandas.concat instead.\n",
      "  dfScenes = dfScenes.append({'location':strFilePath, 'geometry': box(bounds[0], bounds[1], bounds[2], bounds[3])},ignore_index=True)\n",
      "C:\\Users\\alexsaunders\\AppData\\Local\\Temp\\ipykernel_13448\\724766185.py:13: FutureWarning: The frame.append method is deprecated and will be removed from pandas in a future version. Use pandas.concat instead.\n",
      "  dfScenes = dfScenes.append({'location':strFilePath, 'geometry': box(bounds[0], bounds[1], bounds[2], bounds[3])},ignore_index=True)\n",
      "C:\\Users\\alexsaunders\\AppData\\Local\\Temp\\ipykernel_13448\\724766185.py:13: FutureWarning: The frame.append method is deprecated and will be removed from pandas in a future version. Use pandas.concat instead.\n",
      "  dfScenes = dfScenes.append({'location':strFilePath, 'geometry': box(bounds[0], bounds[1], bounds[2], bounds[3])},ignore_index=True)\n",
      "C:\\Users\\alexsaunders\\AppData\\Local\\Temp\\ipykernel_13448\\724766185.py:13: FutureWarning: The frame.append method is deprecated and will be removed from pandas in a future version. Use pandas.concat instead.\n",
      "  dfScenes = dfScenes.append({'location':strFilePath, 'geometry': box(bounds[0], bounds[1], bounds[2], bounds[3])},ignore_index=True)\n",
      "C:\\Users\\alexsaunders\\AppData\\Local\\Temp\\ipykernel_13448\\724766185.py:13: FutureWarning: The frame.append method is deprecated and will be removed from pandas in a future version. Use pandas.concat instead.\n",
      "  dfScenes = dfScenes.append({'location':strFilePath, 'geometry': box(bounds[0], bounds[1], bounds[2], bounds[3])},ignore_index=True)\n"
     ]
    },
    {
     "name": "stdout",
     "output_type": "stream",
     "text": [
      "processing file 149/936\r"
     ]
    },
    {
     "name": "stderr",
     "output_type": "stream",
     "text": [
      "C:\\Users\\alexsaunders\\AppData\\Local\\Temp\\ipykernel_13448\\724766185.py:13: FutureWarning: The frame.append method is deprecated and will be removed from pandas in a future version. Use pandas.concat instead.\n",
      "  dfScenes = dfScenes.append({'location':strFilePath, 'geometry': box(bounds[0], bounds[1], bounds[2], bounds[3])},ignore_index=True)\n",
      "C:\\Users\\alexsaunders\\AppData\\Local\\Temp\\ipykernel_13448\\724766185.py:13: FutureWarning: The frame.append method is deprecated and will be removed from pandas in a future version. Use pandas.concat instead.\n",
      "  dfScenes = dfScenes.append({'location':strFilePath, 'geometry': box(bounds[0], bounds[1], bounds[2], bounds[3])},ignore_index=True)\n",
      "C:\\Users\\alexsaunders\\AppData\\Local\\Temp\\ipykernel_13448\\724766185.py:13: FutureWarning: The frame.append method is deprecated and will be removed from pandas in a future version. Use pandas.concat instead.\n",
      "  dfScenes = dfScenes.append({'location':strFilePath, 'geometry': box(bounds[0], bounds[1], bounds[2], bounds[3])},ignore_index=True)\n",
      "C:\\Users\\alexsaunders\\AppData\\Local\\Temp\\ipykernel_13448\\724766185.py:13: FutureWarning: The frame.append method is deprecated and will be removed from pandas in a future version. Use pandas.concat instead.\n",
      "  dfScenes = dfScenes.append({'location':strFilePath, 'geometry': box(bounds[0], bounds[1], bounds[2], bounds[3])},ignore_index=True)\n",
      "C:\\Users\\alexsaunders\\AppData\\Local\\Temp\\ipykernel_13448\\724766185.py:13: FutureWarning: The frame.append method is deprecated and will be removed from pandas in a future version. Use pandas.concat instead.\n",
      "  dfScenes = dfScenes.append({'location':strFilePath, 'geometry': box(bounds[0], bounds[1], bounds[2], bounds[3])},ignore_index=True)\n"
     ]
    },
    {
     "name": "stdout",
     "output_type": "stream",
     "text": [
      "processing file 154/936\r"
     ]
    },
    {
     "name": "stderr",
     "output_type": "stream",
     "text": [
      "C:\\Users\\alexsaunders\\AppData\\Local\\Temp\\ipykernel_13448\\724766185.py:13: FutureWarning: The frame.append method is deprecated and will be removed from pandas in a future version. Use pandas.concat instead.\n",
      "  dfScenes = dfScenes.append({'location':strFilePath, 'geometry': box(bounds[0], bounds[1], bounds[2], bounds[3])},ignore_index=True)\n",
      "C:\\Users\\alexsaunders\\AppData\\Local\\Temp\\ipykernel_13448\\724766185.py:13: FutureWarning: The frame.append method is deprecated and will be removed from pandas in a future version. Use pandas.concat instead.\n",
      "  dfScenes = dfScenes.append({'location':strFilePath, 'geometry': box(bounds[0], bounds[1], bounds[2], bounds[3])},ignore_index=True)\n",
      "C:\\Users\\alexsaunders\\AppData\\Local\\Temp\\ipykernel_13448\\724766185.py:13: FutureWarning: The frame.append method is deprecated and will be removed from pandas in a future version. Use pandas.concat instead.\n",
      "  dfScenes = dfScenes.append({'location':strFilePath, 'geometry': box(bounds[0], bounds[1], bounds[2], bounds[3])},ignore_index=True)\n",
      "C:\\Users\\alexsaunders\\AppData\\Local\\Temp\\ipykernel_13448\\724766185.py:13: FutureWarning: The frame.append method is deprecated and will be removed from pandas in a future version. Use pandas.concat instead.\n",
      "  dfScenes = dfScenes.append({'location':strFilePath, 'geometry': box(bounds[0], bounds[1], bounds[2], bounds[3])},ignore_index=True)\n",
      "C:\\Users\\alexsaunders\\AppData\\Local\\Temp\\ipykernel_13448\\724766185.py:13: FutureWarning: The frame.append method is deprecated and will be removed from pandas in a future version. Use pandas.concat instead.\n",
      "  dfScenes = dfScenes.append({'location':strFilePath, 'geometry': box(bounds[0], bounds[1], bounds[2], bounds[3])},ignore_index=True)\n"
     ]
    },
    {
     "name": "stdout",
     "output_type": "stream",
     "text": [
      "processing file 159/936\r"
     ]
    },
    {
     "name": "stderr",
     "output_type": "stream",
     "text": [
      "C:\\Users\\alexsaunders\\AppData\\Local\\Temp\\ipykernel_13448\\724766185.py:13: FutureWarning: The frame.append method is deprecated and will be removed from pandas in a future version. Use pandas.concat instead.\n",
      "  dfScenes = dfScenes.append({'location':strFilePath, 'geometry': box(bounds[0], bounds[1], bounds[2], bounds[3])},ignore_index=True)\n",
      "C:\\Users\\alexsaunders\\AppData\\Local\\Temp\\ipykernel_13448\\724766185.py:13: FutureWarning: The frame.append method is deprecated and will be removed from pandas in a future version. Use pandas.concat instead.\n",
      "  dfScenes = dfScenes.append({'location':strFilePath, 'geometry': box(bounds[0], bounds[1], bounds[2], bounds[3])},ignore_index=True)\n",
      "C:\\Users\\alexsaunders\\AppData\\Local\\Temp\\ipykernel_13448\\724766185.py:13: FutureWarning: The frame.append method is deprecated and will be removed from pandas in a future version. Use pandas.concat instead.\n",
      "  dfScenes = dfScenes.append({'location':strFilePath, 'geometry': box(bounds[0], bounds[1], bounds[2], bounds[3])},ignore_index=True)\n",
      "C:\\Users\\alexsaunders\\AppData\\Local\\Temp\\ipykernel_13448\\724766185.py:13: FutureWarning: The frame.append method is deprecated and will be removed from pandas in a future version. Use pandas.concat instead.\n",
      "  dfScenes = dfScenes.append({'location':strFilePath, 'geometry': box(bounds[0], bounds[1], bounds[2], bounds[3])},ignore_index=True)\n",
      "C:\\Users\\alexsaunders\\AppData\\Local\\Temp\\ipykernel_13448\\724766185.py:13: FutureWarning: The frame.append method is deprecated and will be removed from pandas in a future version. Use pandas.concat instead.\n",
      "  dfScenes = dfScenes.append({'location':strFilePath, 'geometry': box(bounds[0], bounds[1], bounds[2], bounds[3])},ignore_index=True)\n"
     ]
    },
    {
     "name": "stdout",
     "output_type": "stream",
     "text": [
      "processing file 164/936\r"
     ]
    },
    {
     "name": "stderr",
     "output_type": "stream",
     "text": [
      "C:\\Users\\alexsaunders\\AppData\\Local\\Temp\\ipykernel_13448\\724766185.py:13: FutureWarning: The frame.append method is deprecated and will be removed from pandas in a future version. Use pandas.concat instead.\n",
      "  dfScenes = dfScenes.append({'location':strFilePath, 'geometry': box(bounds[0], bounds[1], bounds[2], bounds[3])},ignore_index=True)\n",
      "C:\\Users\\alexsaunders\\AppData\\Local\\Temp\\ipykernel_13448\\724766185.py:13: FutureWarning: The frame.append method is deprecated and will be removed from pandas in a future version. Use pandas.concat instead.\n",
      "  dfScenes = dfScenes.append({'location':strFilePath, 'geometry': box(bounds[0], bounds[1], bounds[2], bounds[3])},ignore_index=True)\n",
      "C:\\Users\\alexsaunders\\AppData\\Local\\Temp\\ipykernel_13448\\724766185.py:13: FutureWarning: The frame.append method is deprecated and will be removed from pandas in a future version. Use pandas.concat instead.\n",
      "  dfScenes = dfScenes.append({'location':strFilePath, 'geometry': box(bounds[0], bounds[1], bounds[2], bounds[3])},ignore_index=True)\n",
      "C:\\Users\\alexsaunders\\AppData\\Local\\Temp\\ipykernel_13448\\724766185.py:13: FutureWarning: The frame.append method is deprecated and will be removed from pandas in a future version. Use pandas.concat instead.\n",
      "  dfScenes = dfScenes.append({'location':strFilePath, 'geometry': box(bounds[0], bounds[1], bounds[2], bounds[3])},ignore_index=True)\n",
      "C:\\Users\\alexsaunders\\AppData\\Local\\Temp\\ipykernel_13448\\724766185.py:13: FutureWarning: The frame.append method is deprecated and will be removed from pandas in a future version. Use pandas.concat instead.\n",
      "  dfScenes = dfScenes.append({'location':strFilePath, 'geometry': box(bounds[0], bounds[1], bounds[2], bounds[3])},ignore_index=True)\n"
     ]
    },
    {
     "name": "stdout",
     "output_type": "stream",
     "text": [
      "processing file 169/936\r"
     ]
    },
    {
     "name": "stderr",
     "output_type": "stream",
     "text": [
      "C:\\Users\\alexsaunders\\AppData\\Local\\Temp\\ipykernel_13448\\724766185.py:13: FutureWarning: The frame.append method is deprecated and will be removed from pandas in a future version. Use pandas.concat instead.\n",
      "  dfScenes = dfScenes.append({'location':strFilePath, 'geometry': box(bounds[0], bounds[1], bounds[2], bounds[3])},ignore_index=True)\n",
      "C:\\Users\\alexsaunders\\AppData\\Local\\Temp\\ipykernel_13448\\724766185.py:13: FutureWarning: The frame.append method is deprecated and will be removed from pandas in a future version. Use pandas.concat instead.\n",
      "  dfScenes = dfScenes.append({'location':strFilePath, 'geometry': box(bounds[0], bounds[1], bounds[2], bounds[3])},ignore_index=True)\n",
      "C:\\Users\\alexsaunders\\AppData\\Local\\Temp\\ipykernel_13448\\724766185.py:13: FutureWarning: The frame.append method is deprecated and will be removed from pandas in a future version. Use pandas.concat instead.\n",
      "  dfScenes = dfScenes.append({'location':strFilePath, 'geometry': box(bounds[0], bounds[1], bounds[2], bounds[3])},ignore_index=True)\n",
      "C:\\Users\\alexsaunders\\AppData\\Local\\Temp\\ipykernel_13448\\724766185.py:13: FutureWarning: The frame.append method is deprecated and will be removed from pandas in a future version. Use pandas.concat instead.\n",
      "  dfScenes = dfScenes.append({'location':strFilePath, 'geometry': box(bounds[0], bounds[1], bounds[2], bounds[3])},ignore_index=True)\n",
      "C:\\Users\\alexsaunders\\AppData\\Local\\Temp\\ipykernel_13448\\724766185.py:13: FutureWarning: The frame.append method is deprecated and will be removed from pandas in a future version. Use pandas.concat instead.\n",
      "  dfScenes = dfScenes.append({'location':strFilePath, 'geometry': box(bounds[0], bounds[1], bounds[2], bounds[3])},ignore_index=True)\n"
     ]
    },
    {
     "name": "stdout",
     "output_type": "stream",
     "text": [
      "processing file 174/936\r"
     ]
    },
    {
     "name": "stderr",
     "output_type": "stream",
     "text": [
      "C:\\Users\\alexsaunders\\AppData\\Local\\Temp\\ipykernel_13448\\724766185.py:13: FutureWarning: The frame.append method is deprecated and will be removed from pandas in a future version. Use pandas.concat instead.\n",
      "  dfScenes = dfScenes.append({'location':strFilePath, 'geometry': box(bounds[0], bounds[1], bounds[2], bounds[3])},ignore_index=True)\n",
      "C:\\Users\\alexsaunders\\AppData\\Local\\Temp\\ipykernel_13448\\724766185.py:13: FutureWarning: The frame.append method is deprecated and will be removed from pandas in a future version. Use pandas.concat instead.\n",
      "  dfScenes = dfScenes.append({'location':strFilePath, 'geometry': box(bounds[0], bounds[1], bounds[2], bounds[3])},ignore_index=True)\n",
      "C:\\Users\\alexsaunders\\AppData\\Local\\Temp\\ipykernel_13448\\724766185.py:13: FutureWarning: The frame.append method is deprecated and will be removed from pandas in a future version. Use pandas.concat instead.\n",
      "  dfScenes = dfScenes.append({'location':strFilePath, 'geometry': box(bounds[0], bounds[1], bounds[2], bounds[3])},ignore_index=True)\n",
      "C:\\Users\\alexsaunders\\AppData\\Local\\Temp\\ipykernel_13448\\724766185.py:13: FutureWarning: The frame.append method is deprecated and will be removed from pandas in a future version. Use pandas.concat instead.\n",
      "  dfScenes = dfScenes.append({'location':strFilePath, 'geometry': box(bounds[0], bounds[1], bounds[2], bounds[3])},ignore_index=True)\n",
      "C:\\Users\\alexsaunders\\AppData\\Local\\Temp\\ipykernel_13448\\724766185.py:13: FutureWarning: The frame.append method is deprecated and will be removed from pandas in a future version. Use pandas.concat instead.\n",
      "  dfScenes = dfScenes.append({'location':strFilePath, 'geometry': box(bounds[0], bounds[1], bounds[2], bounds[3])},ignore_index=True)\n",
      "C:\\Users\\alexsaunders\\AppData\\Local\\Temp\\ipykernel_13448\\724766185.py:13: FutureWarning: The frame.append method is deprecated and will be removed from pandas in a future version. Use pandas.concat instead.\n",
      "  dfScenes = dfScenes.append({'location':strFilePath, 'geometry': box(bounds[0], bounds[1], bounds[2], bounds[3])},ignore_index=True)\n"
     ]
    },
    {
     "name": "stdout",
     "output_type": "stream",
     "text": [
      "processing file 180/936\r"
     ]
    },
    {
     "name": "stderr",
     "output_type": "stream",
     "text": [
      "C:\\Users\\alexsaunders\\AppData\\Local\\Temp\\ipykernel_13448\\724766185.py:13: FutureWarning: The frame.append method is deprecated and will be removed from pandas in a future version. Use pandas.concat instead.\n",
      "  dfScenes = dfScenes.append({'location':strFilePath, 'geometry': box(bounds[0], bounds[1], bounds[2], bounds[3])},ignore_index=True)\n",
      "C:\\Users\\alexsaunders\\AppData\\Local\\Temp\\ipykernel_13448\\724766185.py:13: FutureWarning: The frame.append method is deprecated and will be removed from pandas in a future version. Use pandas.concat instead.\n",
      "  dfScenes = dfScenes.append({'location':strFilePath, 'geometry': box(bounds[0], bounds[1], bounds[2], bounds[3])},ignore_index=True)\n",
      "C:\\Users\\alexsaunders\\AppData\\Local\\Temp\\ipykernel_13448\\724766185.py:13: FutureWarning: The frame.append method is deprecated and will be removed from pandas in a future version. Use pandas.concat instead.\n",
      "  dfScenes = dfScenes.append({'location':strFilePath, 'geometry': box(bounds[0], bounds[1], bounds[2], bounds[3])},ignore_index=True)\n",
      "C:\\Users\\alexsaunders\\AppData\\Local\\Temp\\ipykernel_13448\\724766185.py:13: FutureWarning: The frame.append method is deprecated and will be removed from pandas in a future version. Use pandas.concat instead.\n",
      "  dfScenes = dfScenes.append({'location':strFilePath, 'geometry': box(bounds[0], bounds[1], bounds[2], bounds[3])},ignore_index=True)\n",
      "C:\\Users\\alexsaunders\\AppData\\Local\\Temp\\ipykernel_13448\\724766185.py:13: FutureWarning: The frame.append method is deprecated and will be removed from pandas in a future version. Use pandas.concat instead.\n",
      "  dfScenes = dfScenes.append({'location':strFilePath, 'geometry': box(bounds[0], bounds[1], bounds[2], bounds[3])},ignore_index=True)\n",
      "C:\\Users\\alexsaunders\\AppData\\Local\\Temp\\ipykernel_13448\\724766185.py:13: FutureWarning: The frame.append method is deprecated and will be removed from pandas in a future version. Use pandas.concat instead.\n",
      "  dfScenes = dfScenes.append({'location':strFilePath, 'geometry': box(bounds[0], bounds[1], bounds[2], bounds[3])},ignore_index=True)\n"
     ]
    },
    {
     "name": "stdout",
     "output_type": "stream",
     "text": [
      "processing file 186/936\r"
     ]
    },
    {
     "name": "stderr",
     "output_type": "stream",
     "text": [
      "C:\\Users\\alexsaunders\\AppData\\Local\\Temp\\ipykernel_13448\\724766185.py:13: FutureWarning: The frame.append method is deprecated and will be removed from pandas in a future version. Use pandas.concat instead.\n",
      "  dfScenes = dfScenes.append({'location':strFilePath, 'geometry': box(bounds[0], bounds[1], bounds[2], bounds[3])},ignore_index=True)\n",
      "C:\\Users\\alexsaunders\\AppData\\Local\\Temp\\ipykernel_13448\\724766185.py:13: FutureWarning: The frame.append method is deprecated and will be removed from pandas in a future version. Use pandas.concat instead.\n",
      "  dfScenes = dfScenes.append({'location':strFilePath, 'geometry': box(bounds[0], bounds[1], bounds[2], bounds[3])},ignore_index=True)\n",
      "C:\\Users\\alexsaunders\\AppData\\Local\\Temp\\ipykernel_13448\\724766185.py:13: FutureWarning: The frame.append method is deprecated and will be removed from pandas in a future version. Use pandas.concat instead.\n",
      "  dfScenes = dfScenes.append({'location':strFilePath, 'geometry': box(bounds[0], bounds[1], bounds[2], bounds[3])},ignore_index=True)\n",
      "C:\\Users\\alexsaunders\\AppData\\Local\\Temp\\ipykernel_13448\\724766185.py:13: FutureWarning: The frame.append method is deprecated and will be removed from pandas in a future version. Use pandas.concat instead.\n",
      "  dfScenes = dfScenes.append({'location':strFilePath, 'geometry': box(bounds[0], bounds[1], bounds[2], bounds[3])},ignore_index=True)\n",
      "C:\\Users\\alexsaunders\\AppData\\Local\\Temp\\ipykernel_13448\\724766185.py:13: FutureWarning: The frame.append method is deprecated and will be removed from pandas in a future version. Use pandas.concat instead.\n",
      "  dfScenes = dfScenes.append({'location':strFilePath, 'geometry': box(bounds[0], bounds[1], bounds[2], bounds[3])},ignore_index=True)\n",
      "C:\\Users\\alexsaunders\\AppData\\Local\\Temp\\ipykernel_13448\\724766185.py:13: FutureWarning: The frame.append method is deprecated and will be removed from pandas in a future version. Use pandas.concat instead.\n",
      "  dfScenes = dfScenes.append({'location':strFilePath, 'geometry': box(bounds[0], bounds[1], bounds[2], bounds[3])},ignore_index=True)\n"
     ]
    },
    {
     "name": "stdout",
     "output_type": "stream",
     "text": [
      "processing file 192/936\r"
     ]
    },
    {
     "name": "stderr",
     "output_type": "stream",
     "text": [
      "C:\\Users\\alexsaunders\\AppData\\Local\\Temp\\ipykernel_13448\\724766185.py:13: FutureWarning: The frame.append method is deprecated and will be removed from pandas in a future version. Use pandas.concat instead.\n",
      "  dfScenes = dfScenes.append({'location':strFilePath, 'geometry': box(bounds[0], bounds[1], bounds[2], bounds[3])},ignore_index=True)\n",
      "C:\\Users\\alexsaunders\\AppData\\Local\\Temp\\ipykernel_13448\\724766185.py:13: FutureWarning: The frame.append method is deprecated and will be removed from pandas in a future version. Use pandas.concat instead.\n",
      "  dfScenes = dfScenes.append({'location':strFilePath, 'geometry': box(bounds[0], bounds[1], bounds[2], bounds[3])},ignore_index=True)\n",
      "C:\\Users\\alexsaunders\\AppData\\Local\\Temp\\ipykernel_13448\\724766185.py:13: FutureWarning: The frame.append method is deprecated and will be removed from pandas in a future version. Use pandas.concat instead.\n",
      "  dfScenes = dfScenes.append({'location':strFilePath, 'geometry': box(bounds[0], bounds[1], bounds[2], bounds[3])},ignore_index=True)\n",
      "C:\\Users\\alexsaunders\\AppData\\Local\\Temp\\ipykernel_13448\\724766185.py:13: FutureWarning: The frame.append method is deprecated and will be removed from pandas in a future version. Use pandas.concat instead.\n",
      "  dfScenes = dfScenes.append({'location':strFilePath, 'geometry': box(bounds[0], bounds[1], bounds[2], bounds[3])},ignore_index=True)\n",
      "C:\\Users\\alexsaunders\\AppData\\Local\\Temp\\ipykernel_13448\\724766185.py:13: FutureWarning: The frame.append method is deprecated and will be removed from pandas in a future version. Use pandas.concat instead.\n",
      "  dfScenes = dfScenes.append({'location':strFilePath, 'geometry': box(bounds[0], bounds[1], bounds[2], bounds[3])},ignore_index=True)\n",
      "C:\\Users\\alexsaunders\\AppData\\Local\\Temp\\ipykernel_13448\\724766185.py:13: FutureWarning: The frame.append method is deprecated and will be removed from pandas in a future version. Use pandas.concat instead.\n",
      "  dfScenes = dfScenes.append({'location':strFilePath, 'geometry': box(bounds[0], bounds[1], bounds[2], bounds[3])},ignore_index=True)\n"
     ]
    },
    {
     "name": "stdout",
     "output_type": "stream",
     "text": [
      "processing file 204/936\r"
     ]
    },
    {
     "name": "stderr",
     "output_type": "stream",
     "text": [
      "C:\\Users\\alexsaunders\\AppData\\Local\\Temp\\ipykernel_13448\\724766185.py:13: FutureWarning: The frame.append method is deprecated and will be removed from pandas in a future version. Use pandas.concat instead.\n",
      "  dfScenes = dfScenes.append({'location':strFilePath, 'geometry': box(bounds[0], bounds[1], bounds[2], bounds[3])},ignore_index=True)\n",
      "C:\\Users\\alexsaunders\\AppData\\Local\\Temp\\ipykernel_13448\\724766185.py:13: FutureWarning: The frame.append method is deprecated and will be removed from pandas in a future version. Use pandas.concat instead.\n",
      "  dfScenes = dfScenes.append({'location':strFilePath, 'geometry': box(bounds[0], bounds[1], bounds[2], bounds[3])},ignore_index=True)\n",
      "C:\\Users\\alexsaunders\\AppData\\Local\\Temp\\ipykernel_13448\\724766185.py:13: FutureWarning: The frame.append method is deprecated and will be removed from pandas in a future version. Use pandas.concat instead.\n",
      "  dfScenes = dfScenes.append({'location':strFilePath, 'geometry': box(bounds[0], bounds[1], bounds[2], bounds[3])},ignore_index=True)\n",
      "C:\\Users\\alexsaunders\\AppData\\Local\\Temp\\ipykernel_13448\\724766185.py:13: FutureWarning: The frame.append method is deprecated and will be removed from pandas in a future version. Use pandas.concat instead.\n",
      "  dfScenes = dfScenes.append({'location':strFilePath, 'geometry': box(bounds[0], bounds[1], bounds[2], bounds[3])},ignore_index=True)\n",
      "C:\\Users\\alexsaunders\\AppData\\Local\\Temp\\ipykernel_13448\\724766185.py:13: FutureWarning: The frame.append method is deprecated and will be removed from pandas in a future version. Use pandas.concat instead.\n",
      "  dfScenes = dfScenes.append({'location':strFilePath, 'geometry': box(bounds[0], bounds[1], bounds[2], bounds[3])},ignore_index=True)\n",
      "C:\\Users\\alexsaunders\\AppData\\Local\\Temp\\ipykernel_13448\\724766185.py:13: FutureWarning: The frame.append method is deprecated and will be removed from pandas in a future version. Use pandas.concat instead.\n",
      "  dfScenes = dfScenes.append({'location':strFilePath, 'geometry': box(bounds[0], bounds[1], bounds[2], bounds[3])},ignore_index=True)\n",
      "C:\\Users\\alexsaunders\\AppData\\Local\\Temp\\ipykernel_13448\\724766185.py:13: FutureWarning: The frame.append method is deprecated and will be removed from pandas in a future version. Use pandas.concat instead.\n",
      "  dfScenes = dfScenes.append({'location':strFilePath, 'geometry': box(bounds[0], bounds[1], bounds[2], bounds[3])},ignore_index=True)\n",
      "C:\\Users\\alexsaunders\\AppData\\Local\\Temp\\ipykernel_13448\\724766185.py:13: FutureWarning: The frame.append method is deprecated and will be removed from pandas in a future version. Use pandas.concat instead.\n",
      "  dfScenes = dfScenes.append({'location':strFilePath, 'geometry': box(bounds[0], bounds[1], bounds[2], bounds[3])},ignore_index=True)\n",
      "C:\\Users\\alexsaunders\\AppData\\Local\\Temp\\ipykernel_13448\\724766185.py:13: FutureWarning: The frame.append method is deprecated and will be removed from pandas in a future version. Use pandas.concat instead.\n",
      "  dfScenes = dfScenes.append({'location':strFilePath, 'geometry': box(bounds[0], bounds[1], bounds[2], bounds[3])},ignore_index=True)\n",
      "C:\\Users\\alexsaunders\\AppData\\Local\\Temp\\ipykernel_13448\\724766185.py:13: FutureWarning: The frame.append method is deprecated and will be removed from pandas in a future version. Use pandas.concat instead.\n",
      "  dfScenes = dfScenes.append({'location':strFilePath, 'geometry': box(bounds[0], bounds[1], bounds[2], bounds[3])},ignore_index=True)\n",
      "C:\\Users\\alexsaunders\\AppData\\Local\\Temp\\ipykernel_13448\\724766185.py:13: FutureWarning: The frame.append method is deprecated and will be removed from pandas in a future version. Use pandas.concat instead.\n",
      "  dfScenes = dfScenes.append({'location':strFilePath, 'geometry': box(bounds[0], bounds[1], bounds[2], bounds[3])},ignore_index=True)\n"
     ]
    },
    {
     "name": "stdout",
     "output_type": "stream",
     "text": [
      "processing file 209/936\r"
     ]
    },
    {
     "name": "stderr",
     "output_type": "stream",
     "text": [
      "C:\\Users\\alexsaunders\\AppData\\Local\\Temp\\ipykernel_13448\\724766185.py:13: FutureWarning: The frame.append method is deprecated and will be removed from pandas in a future version. Use pandas.concat instead.\n",
      "  dfScenes = dfScenes.append({'location':strFilePath, 'geometry': box(bounds[0], bounds[1], bounds[2], bounds[3])},ignore_index=True)\n",
      "C:\\Users\\alexsaunders\\AppData\\Local\\Temp\\ipykernel_13448\\724766185.py:13: FutureWarning: The frame.append method is deprecated and will be removed from pandas in a future version. Use pandas.concat instead.\n",
      "  dfScenes = dfScenes.append({'location':strFilePath, 'geometry': box(bounds[0], bounds[1], bounds[2], bounds[3])},ignore_index=True)\n",
      "C:\\Users\\alexsaunders\\AppData\\Local\\Temp\\ipykernel_13448\\724766185.py:13: FutureWarning: The frame.append method is deprecated and will be removed from pandas in a future version. Use pandas.concat instead.\n",
      "  dfScenes = dfScenes.append({'location':strFilePath, 'geometry': box(bounds[0], bounds[1], bounds[2], bounds[3])},ignore_index=True)\n",
      "C:\\Users\\alexsaunders\\AppData\\Local\\Temp\\ipykernel_13448\\724766185.py:13: FutureWarning: The frame.append method is deprecated and will be removed from pandas in a future version. Use pandas.concat instead.\n",
      "  dfScenes = dfScenes.append({'location':strFilePath, 'geometry': box(bounds[0], bounds[1], bounds[2], bounds[3])},ignore_index=True)\n",
      "C:\\Users\\alexsaunders\\AppData\\Local\\Temp\\ipykernel_13448\\724766185.py:13: FutureWarning: The frame.append method is deprecated and will be removed from pandas in a future version. Use pandas.concat instead.\n",
      "  dfScenes = dfScenes.append({'location':strFilePath, 'geometry': box(bounds[0], bounds[1], bounds[2], bounds[3])},ignore_index=True)\n",
      "C:\\Users\\alexsaunders\\AppData\\Local\\Temp\\ipykernel_13448\\724766185.py:13: FutureWarning: The frame.append method is deprecated and will be removed from pandas in a future version. Use pandas.concat instead.\n",
      "  dfScenes = dfScenes.append({'location':strFilePath, 'geometry': box(bounds[0], bounds[1], bounds[2], bounds[3])},ignore_index=True)\n"
     ]
    },
    {
     "name": "stdout",
     "output_type": "stream",
     "text": [
      "processing file 215/936\r"
     ]
    },
    {
     "name": "stderr",
     "output_type": "stream",
     "text": [
      "C:\\Users\\alexsaunders\\AppData\\Local\\Temp\\ipykernel_13448\\724766185.py:13: FutureWarning: The frame.append method is deprecated and will be removed from pandas in a future version. Use pandas.concat instead.\n",
      "  dfScenes = dfScenes.append({'location':strFilePath, 'geometry': box(bounds[0], bounds[1], bounds[2], bounds[3])},ignore_index=True)\n",
      "C:\\Users\\alexsaunders\\AppData\\Local\\Temp\\ipykernel_13448\\724766185.py:13: FutureWarning: The frame.append method is deprecated and will be removed from pandas in a future version. Use pandas.concat instead.\n",
      "  dfScenes = dfScenes.append({'location':strFilePath, 'geometry': box(bounds[0], bounds[1], bounds[2], bounds[3])},ignore_index=True)\n",
      "C:\\Users\\alexsaunders\\AppData\\Local\\Temp\\ipykernel_13448\\724766185.py:13: FutureWarning: The frame.append method is deprecated and will be removed from pandas in a future version. Use pandas.concat instead.\n",
      "  dfScenes = dfScenes.append({'location':strFilePath, 'geometry': box(bounds[0], bounds[1], bounds[2], bounds[3])},ignore_index=True)\n",
      "C:\\Users\\alexsaunders\\AppData\\Local\\Temp\\ipykernel_13448\\724766185.py:13: FutureWarning: The frame.append method is deprecated and will be removed from pandas in a future version. Use pandas.concat instead.\n",
      "  dfScenes = dfScenes.append({'location':strFilePath, 'geometry': box(bounds[0], bounds[1], bounds[2], bounds[3])},ignore_index=True)\n",
      "C:\\Users\\alexsaunders\\AppData\\Local\\Temp\\ipykernel_13448\\724766185.py:13: FutureWarning: The frame.append method is deprecated and will be removed from pandas in a future version. Use pandas.concat instead.\n",
      "  dfScenes = dfScenes.append({'location':strFilePath, 'geometry': box(bounds[0], bounds[1], bounds[2], bounds[3])},ignore_index=True)\n",
      "C:\\Users\\alexsaunders\\AppData\\Local\\Temp\\ipykernel_13448\\724766185.py:13: FutureWarning: The frame.append method is deprecated and will be removed from pandas in a future version. Use pandas.concat instead.\n",
      "  dfScenes = dfScenes.append({'location':strFilePath, 'geometry': box(bounds[0], bounds[1], bounds[2], bounds[3])},ignore_index=True)\n"
     ]
    },
    {
     "name": "stdout",
     "output_type": "stream",
     "text": [
      "processing file 221/936\r"
     ]
    },
    {
     "name": "stderr",
     "output_type": "stream",
     "text": [
      "C:\\Users\\alexsaunders\\AppData\\Local\\Temp\\ipykernel_13448\\724766185.py:13: FutureWarning: The frame.append method is deprecated and will be removed from pandas in a future version. Use pandas.concat instead.\n",
      "  dfScenes = dfScenes.append({'location':strFilePath, 'geometry': box(bounds[0], bounds[1], bounds[2], bounds[3])},ignore_index=True)\n",
      "C:\\Users\\alexsaunders\\AppData\\Local\\Temp\\ipykernel_13448\\724766185.py:13: FutureWarning: The frame.append method is deprecated and will be removed from pandas in a future version. Use pandas.concat instead.\n",
      "  dfScenes = dfScenes.append({'location':strFilePath, 'geometry': box(bounds[0], bounds[1], bounds[2], bounds[3])},ignore_index=True)\n",
      "C:\\Users\\alexsaunders\\AppData\\Local\\Temp\\ipykernel_13448\\724766185.py:13: FutureWarning: The frame.append method is deprecated and will be removed from pandas in a future version. Use pandas.concat instead.\n",
      "  dfScenes = dfScenes.append({'location':strFilePath, 'geometry': box(bounds[0], bounds[1], bounds[2], bounds[3])},ignore_index=True)\n",
      "C:\\Users\\alexsaunders\\AppData\\Local\\Temp\\ipykernel_13448\\724766185.py:13: FutureWarning: The frame.append method is deprecated and will be removed from pandas in a future version. Use pandas.concat instead.\n",
      "  dfScenes = dfScenes.append({'location':strFilePath, 'geometry': box(bounds[0], bounds[1], bounds[2], bounds[3])},ignore_index=True)\n",
      "C:\\Users\\alexsaunders\\AppData\\Local\\Temp\\ipykernel_13448\\724766185.py:13: FutureWarning: The frame.append method is deprecated and will be removed from pandas in a future version. Use pandas.concat instead.\n",
      "  dfScenes = dfScenes.append({'location':strFilePath, 'geometry': box(bounds[0], bounds[1], bounds[2], bounds[3])},ignore_index=True)\n",
      "C:\\Users\\alexsaunders\\AppData\\Local\\Temp\\ipykernel_13448\\724766185.py:13: FutureWarning: The frame.append method is deprecated and will be removed from pandas in a future version. Use pandas.concat instead.\n",
      "  dfScenes = dfScenes.append({'location':strFilePath, 'geometry': box(bounds[0], bounds[1], bounds[2], bounds[3])},ignore_index=True)\n"
     ]
    },
    {
     "name": "stdout",
     "output_type": "stream",
     "text": [
      "processing file 227/936\r"
     ]
    },
    {
     "name": "stderr",
     "output_type": "stream",
     "text": [
      "C:\\Users\\alexsaunders\\AppData\\Local\\Temp\\ipykernel_13448\\724766185.py:13: FutureWarning: The frame.append method is deprecated and will be removed from pandas in a future version. Use pandas.concat instead.\n",
      "  dfScenes = dfScenes.append({'location':strFilePath, 'geometry': box(bounds[0], bounds[1], bounds[2], bounds[3])},ignore_index=True)\n",
      "C:\\Users\\alexsaunders\\AppData\\Local\\Temp\\ipykernel_13448\\724766185.py:13: FutureWarning: The frame.append method is deprecated and will be removed from pandas in a future version. Use pandas.concat instead.\n",
      "  dfScenes = dfScenes.append({'location':strFilePath, 'geometry': box(bounds[0], bounds[1], bounds[2], bounds[3])},ignore_index=True)\n",
      "C:\\Users\\alexsaunders\\AppData\\Local\\Temp\\ipykernel_13448\\724766185.py:13: FutureWarning: The frame.append method is deprecated and will be removed from pandas in a future version. Use pandas.concat instead.\n",
      "  dfScenes = dfScenes.append({'location':strFilePath, 'geometry': box(bounds[0], bounds[1], bounds[2], bounds[3])},ignore_index=True)\n",
      "C:\\Users\\alexsaunders\\AppData\\Local\\Temp\\ipykernel_13448\\724766185.py:13: FutureWarning: The frame.append method is deprecated and will be removed from pandas in a future version. Use pandas.concat instead.\n",
      "  dfScenes = dfScenes.append({'location':strFilePath, 'geometry': box(bounds[0], bounds[1], bounds[2], bounds[3])},ignore_index=True)\n",
      "C:\\Users\\alexsaunders\\AppData\\Local\\Temp\\ipykernel_13448\\724766185.py:13: FutureWarning: The frame.append method is deprecated and will be removed from pandas in a future version. Use pandas.concat instead.\n",
      "  dfScenes = dfScenes.append({'location':strFilePath, 'geometry': box(bounds[0], bounds[1], bounds[2], bounds[3])},ignore_index=True)\n",
      "C:\\Users\\alexsaunders\\AppData\\Local\\Temp\\ipykernel_13448\\724766185.py:13: FutureWarning: The frame.append method is deprecated and will be removed from pandas in a future version. Use pandas.concat instead.\n",
      "  dfScenes = dfScenes.append({'location':strFilePath, 'geometry': box(bounds[0], bounds[1], bounds[2], bounds[3])},ignore_index=True)\n"
     ]
    },
    {
     "name": "stdout",
     "output_type": "stream",
     "text": [
      "processing file 233/936\r"
     ]
    },
    {
     "name": "stderr",
     "output_type": "stream",
     "text": [
      "C:\\Users\\alexsaunders\\AppData\\Local\\Temp\\ipykernel_13448\\724766185.py:13: FutureWarning: The frame.append method is deprecated and will be removed from pandas in a future version. Use pandas.concat instead.\n",
      "  dfScenes = dfScenes.append({'location':strFilePath, 'geometry': box(bounds[0], bounds[1], bounds[2], bounds[3])},ignore_index=True)\n",
      "C:\\Users\\alexsaunders\\AppData\\Local\\Temp\\ipykernel_13448\\724766185.py:13: FutureWarning: The frame.append method is deprecated and will be removed from pandas in a future version. Use pandas.concat instead.\n",
      "  dfScenes = dfScenes.append({'location':strFilePath, 'geometry': box(bounds[0], bounds[1], bounds[2], bounds[3])},ignore_index=True)\n",
      "C:\\Users\\alexsaunders\\AppData\\Local\\Temp\\ipykernel_13448\\724766185.py:13: FutureWarning: The frame.append method is deprecated and will be removed from pandas in a future version. Use pandas.concat instead.\n",
      "  dfScenes = dfScenes.append({'location':strFilePath, 'geometry': box(bounds[0], bounds[1], bounds[2], bounds[3])},ignore_index=True)\n",
      "C:\\Users\\alexsaunders\\AppData\\Local\\Temp\\ipykernel_13448\\724766185.py:13: FutureWarning: The frame.append method is deprecated and will be removed from pandas in a future version. Use pandas.concat instead.\n",
      "  dfScenes = dfScenes.append({'location':strFilePath, 'geometry': box(bounds[0], bounds[1], bounds[2], bounds[3])},ignore_index=True)\n",
      "C:\\Users\\alexsaunders\\AppData\\Local\\Temp\\ipykernel_13448\\724766185.py:13: FutureWarning: The frame.append method is deprecated and will be removed from pandas in a future version. Use pandas.concat instead.\n",
      "  dfScenes = dfScenes.append({'location':strFilePath, 'geometry': box(bounds[0], bounds[1], bounds[2], bounds[3])},ignore_index=True)\n",
      "C:\\Users\\alexsaunders\\AppData\\Local\\Temp\\ipykernel_13448\\724766185.py:13: FutureWarning: The frame.append method is deprecated and will be removed from pandas in a future version. Use pandas.concat instead.\n",
      "  dfScenes = dfScenes.append({'location':strFilePath, 'geometry': box(bounds[0], bounds[1], bounds[2], bounds[3])},ignore_index=True)\n"
     ]
    },
    {
     "name": "stdout",
     "output_type": "stream",
     "text": [
      "processing file 239/936\r"
     ]
    },
    {
     "name": "stderr",
     "output_type": "stream",
     "text": [
      "C:\\Users\\alexsaunders\\AppData\\Local\\Temp\\ipykernel_13448\\724766185.py:13: FutureWarning: The frame.append method is deprecated and will be removed from pandas in a future version. Use pandas.concat instead.\n",
      "  dfScenes = dfScenes.append({'location':strFilePath, 'geometry': box(bounds[0], bounds[1], bounds[2], bounds[3])},ignore_index=True)\n",
      "C:\\Users\\alexsaunders\\AppData\\Local\\Temp\\ipykernel_13448\\724766185.py:13: FutureWarning: The frame.append method is deprecated and will be removed from pandas in a future version. Use pandas.concat instead.\n",
      "  dfScenes = dfScenes.append({'location':strFilePath, 'geometry': box(bounds[0], bounds[1], bounds[2], bounds[3])},ignore_index=True)\n",
      "C:\\Users\\alexsaunders\\AppData\\Local\\Temp\\ipykernel_13448\\724766185.py:13: FutureWarning: The frame.append method is deprecated and will be removed from pandas in a future version. Use pandas.concat instead.\n",
      "  dfScenes = dfScenes.append({'location':strFilePath, 'geometry': box(bounds[0], bounds[1], bounds[2], bounds[3])},ignore_index=True)\n",
      "C:\\Users\\alexsaunders\\AppData\\Local\\Temp\\ipykernel_13448\\724766185.py:13: FutureWarning: The frame.append method is deprecated and will be removed from pandas in a future version. Use pandas.concat instead.\n",
      "  dfScenes = dfScenes.append({'location':strFilePath, 'geometry': box(bounds[0], bounds[1], bounds[2], bounds[3])},ignore_index=True)\n",
      "C:\\Users\\alexsaunders\\AppData\\Local\\Temp\\ipykernel_13448\\724766185.py:13: FutureWarning: The frame.append method is deprecated and will be removed from pandas in a future version. Use pandas.concat instead.\n",
      "  dfScenes = dfScenes.append({'location':strFilePath, 'geometry': box(bounds[0], bounds[1], bounds[2], bounds[3])},ignore_index=True)\n"
     ]
    },
    {
     "name": "stdout",
     "output_type": "stream",
     "text": [
      "processing file 244/936\r"
     ]
    },
    {
     "name": "stderr",
     "output_type": "stream",
     "text": [
      "C:\\Users\\alexsaunders\\AppData\\Local\\Temp\\ipykernel_13448\\724766185.py:13: FutureWarning: The frame.append method is deprecated and will be removed from pandas in a future version. Use pandas.concat instead.\n",
      "  dfScenes = dfScenes.append({'location':strFilePath, 'geometry': box(bounds[0], bounds[1], bounds[2], bounds[3])},ignore_index=True)\n",
      "C:\\Users\\alexsaunders\\AppData\\Local\\Temp\\ipykernel_13448\\724766185.py:13: FutureWarning: The frame.append method is deprecated and will be removed from pandas in a future version. Use pandas.concat instead.\n",
      "  dfScenes = dfScenes.append({'location':strFilePath, 'geometry': box(bounds[0], bounds[1], bounds[2], bounds[3])},ignore_index=True)\n",
      "C:\\Users\\alexsaunders\\AppData\\Local\\Temp\\ipykernel_13448\\724766185.py:13: FutureWarning: The frame.append method is deprecated and will be removed from pandas in a future version. Use pandas.concat instead.\n",
      "  dfScenes = dfScenes.append({'location':strFilePath, 'geometry': box(bounds[0], bounds[1], bounds[2], bounds[3])},ignore_index=True)\n",
      "C:\\Users\\alexsaunders\\AppData\\Local\\Temp\\ipykernel_13448\\724766185.py:13: FutureWarning: The frame.append method is deprecated and will be removed from pandas in a future version. Use pandas.concat instead.\n",
      "  dfScenes = dfScenes.append({'location':strFilePath, 'geometry': box(bounds[0], bounds[1], bounds[2], bounds[3])},ignore_index=True)\n",
      "C:\\Users\\alexsaunders\\AppData\\Local\\Temp\\ipykernel_13448\\724766185.py:13: FutureWarning: The frame.append method is deprecated and will be removed from pandas in a future version. Use pandas.concat instead.\n",
      "  dfScenes = dfScenes.append({'location':strFilePath, 'geometry': box(bounds[0], bounds[1], bounds[2], bounds[3])},ignore_index=True)\n"
     ]
    },
    {
     "name": "stdout",
     "output_type": "stream",
     "text": [
      "processing file 249/936\r"
     ]
    },
    {
     "name": "stderr",
     "output_type": "stream",
     "text": [
      "C:\\Users\\alexsaunders\\AppData\\Local\\Temp\\ipykernel_13448\\724766185.py:13: FutureWarning: The frame.append method is deprecated and will be removed from pandas in a future version. Use pandas.concat instead.\n",
      "  dfScenes = dfScenes.append({'location':strFilePath, 'geometry': box(bounds[0], bounds[1], bounds[2], bounds[3])},ignore_index=True)\n",
      "C:\\Users\\alexsaunders\\AppData\\Local\\Temp\\ipykernel_13448\\724766185.py:13: FutureWarning: The frame.append method is deprecated and will be removed from pandas in a future version. Use pandas.concat instead.\n",
      "  dfScenes = dfScenes.append({'location':strFilePath, 'geometry': box(bounds[0], bounds[1], bounds[2], bounds[3])},ignore_index=True)\n",
      "C:\\Users\\alexsaunders\\AppData\\Local\\Temp\\ipykernel_13448\\724766185.py:13: FutureWarning: The frame.append method is deprecated and will be removed from pandas in a future version. Use pandas.concat instead.\n",
      "  dfScenes = dfScenes.append({'location':strFilePath, 'geometry': box(bounds[0], bounds[1], bounds[2], bounds[3])},ignore_index=True)\n",
      "C:\\Users\\alexsaunders\\AppData\\Local\\Temp\\ipykernel_13448\\724766185.py:13: FutureWarning: The frame.append method is deprecated and will be removed from pandas in a future version. Use pandas.concat instead.\n",
      "  dfScenes = dfScenes.append({'location':strFilePath, 'geometry': box(bounds[0], bounds[1], bounds[2], bounds[3])},ignore_index=True)\n",
      "C:\\Users\\alexsaunders\\AppData\\Local\\Temp\\ipykernel_13448\\724766185.py:13: FutureWarning: The frame.append method is deprecated and will be removed from pandas in a future version. Use pandas.concat instead.\n",
      "  dfScenes = dfScenes.append({'location':strFilePath, 'geometry': box(bounds[0], bounds[1], bounds[2], bounds[3])},ignore_index=True)\n"
     ]
    },
    {
     "name": "stdout",
     "output_type": "stream",
     "text": [
      "processing file 257/936\r"
     ]
    },
    {
     "name": "stderr",
     "output_type": "stream",
     "text": [
      "C:\\Users\\alexsaunders\\AppData\\Local\\Temp\\ipykernel_13448\\724766185.py:13: FutureWarning: The frame.append method is deprecated and will be removed from pandas in a future version. Use pandas.concat instead.\n",
      "  dfScenes = dfScenes.append({'location':strFilePath, 'geometry': box(bounds[0], bounds[1], bounds[2], bounds[3])},ignore_index=True)\n",
      "C:\\Users\\alexsaunders\\AppData\\Local\\Temp\\ipykernel_13448\\724766185.py:13: FutureWarning: The frame.append method is deprecated and will be removed from pandas in a future version. Use pandas.concat instead.\n",
      "  dfScenes = dfScenes.append({'location':strFilePath, 'geometry': box(bounds[0], bounds[1], bounds[2], bounds[3])},ignore_index=True)\n",
      "C:\\Users\\alexsaunders\\AppData\\Local\\Temp\\ipykernel_13448\\724766185.py:13: FutureWarning: The frame.append method is deprecated and will be removed from pandas in a future version. Use pandas.concat instead.\n",
      "  dfScenes = dfScenes.append({'location':strFilePath, 'geometry': box(bounds[0], bounds[1], bounds[2], bounds[3])},ignore_index=True)\n"
     ]
    },
    {
     "name": "stdout",
     "output_type": "stream",
     "text": [
      "processing file 258/936\r"
     ]
    },
    {
     "name": "stderr",
     "output_type": "stream",
     "text": [
      "C:\\Users\\alexsaunders\\AppData\\Local\\Temp\\ipykernel_13448\\724766185.py:13: FutureWarning: The frame.append method is deprecated and will be removed from pandas in a future version. Use pandas.concat instead.\n",
      "  dfScenes = dfScenes.append({'location':strFilePath, 'geometry': box(bounds[0], bounds[1], bounds[2], bounds[3])},ignore_index=True)\n",
      "C:\\Users\\alexsaunders\\AppData\\Local\\Temp\\ipykernel_13448\\724766185.py:13: FutureWarning: The frame.append method is deprecated and will be removed from pandas in a future version. Use pandas.concat instead.\n",
      "  dfScenes = dfScenes.append({'location':strFilePath, 'geometry': box(bounds[0], bounds[1], bounds[2], bounds[3])},ignore_index=True)\n"
     ]
    },
    {
     "name": "stdout",
     "output_type": "stream",
     "text": [
      "processing file 260/936\r"
     ]
    },
    {
     "name": "stderr",
     "output_type": "stream",
     "text": [
      "C:\\Users\\alexsaunders\\AppData\\Local\\Temp\\ipykernel_13448\\724766185.py:13: FutureWarning: The frame.append method is deprecated and will be removed from pandas in a future version. Use pandas.concat instead.\n",
      "  dfScenes = dfScenes.append({'location':strFilePath, 'geometry': box(bounds[0], bounds[1], bounds[2], bounds[3])},ignore_index=True)\n"
     ]
    },
    {
     "name": "stdout",
     "output_type": "stream",
     "text": [
      "processing file 263/936\r"
     ]
    },
    {
     "name": "stderr",
     "output_type": "stream",
     "text": [
      "C:\\Users\\alexsaunders\\AppData\\Local\\Temp\\ipykernel_13448\\724766185.py:13: FutureWarning: The frame.append method is deprecated and will be removed from pandas in a future version. Use pandas.concat instead.\n",
      "  dfScenes = dfScenes.append({'location':strFilePath, 'geometry': box(bounds[0], bounds[1], bounds[2], bounds[3])},ignore_index=True)\n",
      "C:\\Users\\alexsaunders\\AppData\\Local\\Temp\\ipykernel_13448\\724766185.py:13: FutureWarning: The frame.append method is deprecated and will be removed from pandas in a future version. Use pandas.concat instead.\n",
      "  dfScenes = dfScenes.append({'location':strFilePath, 'geometry': box(bounds[0], bounds[1], bounds[2], bounds[3])},ignore_index=True)\n",
      "C:\\Users\\alexsaunders\\AppData\\Local\\Temp\\ipykernel_13448\\724766185.py:13: FutureWarning: The frame.append method is deprecated and will be removed from pandas in a future version. Use pandas.concat instead.\n",
      "  dfScenes = dfScenes.append({'location':strFilePath, 'geometry': box(bounds[0], bounds[1], bounds[2], bounds[3])},ignore_index=True)\n"
     ]
    },
    {
     "name": "stdout",
     "output_type": "stream",
     "text": [
      "processing file 265/936\r"
     ]
    },
    {
     "name": "stderr",
     "output_type": "stream",
     "text": [
      "C:\\Users\\alexsaunders\\AppData\\Local\\Temp\\ipykernel_13448\\724766185.py:13: FutureWarning: The frame.append method is deprecated and will be removed from pandas in a future version. Use pandas.concat instead.\n",
      "  dfScenes = dfScenes.append({'location':strFilePath, 'geometry': box(bounds[0], bounds[1], bounds[2], bounds[3])},ignore_index=True)\n",
      "C:\\Users\\alexsaunders\\AppData\\Local\\Temp\\ipykernel_13448\\724766185.py:13: FutureWarning: The frame.append method is deprecated and will be removed from pandas in a future version. Use pandas.concat instead.\n",
      "  dfScenes = dfScenes.append({'location':strFilePath, 'geometry': box(bounds[0], bounds[1], bounds[2], bounds[3])},ignore_index=True)\n",
      "C:\\Users\\alexsaunders\\AppData\\Local\\Temp\\ipykernel_13448\\724766185.py:13: FutureWarning: The frame.append method is deprecated and will be removed from pandas in a future version. Use pandas.concat instead.\n",
      "  dfScenes = dfScenes.append({'location':strFilePath, 'geometry': box(bounds[0], bounds[1], bounds[2], bounds[3])},ignore_index=True)\n",
      "C:\\Users\\alexsaunders\\AppData\\Local\\Temp\\ipykernel_13448\\724766185.py:13: FutureWarning: The frame.append method is deprecated and will be removed from pandas in a future version. Use pandas.concat instead.\n",
      "  dfScenes = dfScenes.append({'location':strFilePath, 'geometry': box(bounds[0], bounds[1], bounds[2], bounds[3])},ignore_index=True)\n",
      "C:\\Users\\alexsaunders\\AppData\\Local\\Temp\\ipykernel_13448\\724766185.py:13: FutureWarning: The frame.append method is deprecated and will be removed from pandas in a future version. Use pandas.concat instead.\n",
      "  dfScenes = dfScenes.append({'location':strFilePath, 'geometry': box(bounds[0], bounds[1], bounds[2], bounds[3])},ignore_index=True)\n"
     ]
    },
    {
     "name": "stdout",
     "output_type": "stream",
     "text": [
      "processing file 271/936\r"
     ]
    },
    {
     "name": "stderr",
     "output_type": "stream",
     "text": [
      "C:\\Users\\alexsaunders\\AppData\\Local\\Temp\\ipykernel_13448\\724766185.py:13: FutureWarning: The frame.append method is deprecated and will be removed from pandas in a future version. Use pandas.concat instead.\n",
      "  dfScenes = dfScenes.append({'location':strFilePath, 'geometry': box(bounds[0], bounds[1], bounds[2], bounds[3])},ignore_index=True)\n",
      "C:\\Users\\alexsaunders\\AppData\\Local\\Temp\\ipykernel_13448\\724766185.py:13: FutureWarning: The frame.append method is deprecated and will be removed from pandas in a future version. Use pandas.concat instead.\n",
      "  dfScenes = dfScenes.append({'location':strFilePath, 'geometry': box(bounds[0], bounds[1], bounds[2], bounds[3])},ignore_index=True)\n",
      "C:\\Users\\alexsaunders\\AppData\\Local\\Temp\\ipykernel_13448\\724766185.py:13: FutureWarning: The frame.append method is deprecated and will be removed from pandas in a future version. Use pandas.concat instead.\n",
      "  dfScenes = dfScenes.append({'location':strFilePath, 'geometry': box(bounds[0], bounds[1], bounds[2], bounds[3])},ignore_index=True)\n"
     ]
    },
    {
     "name": "stdout",
     "output_type": "stream",
     "text": [
      "processing file 274/936\r"
     ]
    },
    {
     "name": "stderr",
     "output_type": "stream",
     "text": [
      "C:\\Users\\alexsaunders\\AppData\\Local\\Temp\\ipykernel_13448\\724766185.py:13: FutureWarning: The frame.append method is deprecated and will be removed from pandas in a future version. Use pandas.concat instead.\n",
      "  dfScenes = dfScenes.append({'location':strFilePath, 'geometry': box(bounds[0], bounds[1], bounds[2], bounds[3])},ignore_index=True)\n",
      "C:\\Users\\alexsaunders\\AppData\\Local\\Temp\\ipykernel_13448\\724766185.py:13: FutureWarning: The frame.append method is deprecated and will be removed from pandas in a future version. Use pandas.concat instead.\n",
      "  dfScenes = dfScenes.append({'location':strFilePath, 'geometry': box(bounds[0], bounds[1], bounds[2], bounds[3])},ignore_index=True)\n",
      "C:\\Users\\alexsaunders\\AppData\\Local\\Temp\\ipykernel_13448\\724766185.py:13: FutureWarning: The frame.append method is deprecated and will be removed from pandas in a future version. Use pandas.concat instead.\n",
      "  dfScenes = dfScenes.append({'location':strFilePath, 'geometry': box(bounds[0], bounds[1], bounds[2], bounds[3])},ignore_index=True)\n"
     ]
    },
    {
     "name": "stdout",
     "output_type": "stream",
     "text": [
      "processing file 275/936\r"
     ]
    },
    {
     "name": "stderr",
     "output_type": "stream",
     "text": [
      "C:\\Users\\alexsaunders\\AppData\\Local\\Temp\\ipykernel_13448\\724766185.py:13: FutureWarning: The frame.append method is deprecated and will be removed from pandas in a future version. Use pandas.concat instead.\n",
      "  dfScenes = dfScenes.append({'location':strFilePath, 'geometry': box(bounds[0], bounds[1], bounds[2], bounds[3])},ignore_index=True)\n",
      "C:\\Users\\alexsaunders\\AppData\\Local\\Temp\\ipykernel_13448\\724766185.py:13: FutureWarning: The frame.append method is deprecated and will be removed from pandas in a future version. Use pandas.concat instead.\n",
      "  dfScenes = dfScenes.append({'location':strFilePath, 'geometry': box(bounds[0], bounds[1], bounds[2], bounds[3])},ignore_index=True)\n",
      "C:\\Users\\alexsaunders\\AppData\\Local\\Temp\\ipykernel_13448\\724766185.py:13: FutureWarning: The frame.append method is deprecated and will be removed from pandas in a future version. Use pandas.concat instead.\n",
      "  dfScenes = dfScenes.append({'location':strFilePath, 'geometry': box(bounds[0], bounds[1], bounds[2], bounds[3])},ignore_index=True)\n"
     ]
    },
    {
     "name": "stdout",
     "output_type": "stream",
     "text": [
      "processing file 277/936\r"
     ]
    },
    {
     "name": "stderr",
     "output_type": "stream",
     "text": [
      "C:\\Users\\alexsaunders\\AppData\\Local\\Temp\\ipykernel_13448\\724766185.py:13: FutureWarning: The frame.append method is deprecated and will be removed from pandas in a future version. Use pandas.concat instead.\n",
      "  dfScenes = dfScenes.append({'location':strFilePath, 'geometry': box(bounds[0], bounds[1], bounds[2], bounds[3])},ignore_index=True)\n",
      "C:\\Users\\alexsaunders\\AppData\\Local\\Temp\\ipykernel_13448\\724766185.py:13: FutureWarning: The frame.append method is deprecated and will be removed from pandas in a future version. Use pandas.concat instead.\n",
      "  dfScenes = dfScenes.append({'location':strFilePath, 'geometry': box(bounds[0], bounds[1], bounds[2], bounds[3])},ignore_index=True)\n",
      "C:\\Users\\alexsaunders\\AppData\\Local\\Temp\\ipykernel_13448\\724766185.py:13: FutureWarning: The frame.append method is deprecated and will be removed from pandas in a future version. Use pandas.concat instead.\n",
      "  dfScenes = dfScenes.append({'location':strFilePath, 'geometry': box(bounds[0], bounds[1], bounds[2], bounds[3])},ignore_index=True)\n"
     ]
    },
    {
     "name": "stdout",
     "output_type": "stream",
     "text": [
      "processing file 280/936\r"
     ]
    },
    {
     "name": "stderr",
     "output_type": "stream",
     "text": [
      "C:\\Users\\alexsaunders\\AppData\\Local\\Temp\\ipykernel_13448\\724766185.py:13: FutureWarning: The frame.append method is deprecated and will be removed from pandas in a future version. Use pandas.concat instead.\n",
      "  dfScenes = dfScenes.append({'location':strFilePath, 'geometry': box(bounds[0], bounds[1], bounds[2], bounds[3])},ignore_index=True)\n",
      "C:\\Users\\alexsaunders\\AppData\\Local\\Temp\\ipykernel_13448\\724766185.py:13: FutureWarning: The frame.append method is deprecated and will be removed from pandas in a future version. Use pandas.concat instead.\n",
      "  dfScenes = dfScenes.append({'location':strFilePath, 'geometry': box(bounds[0], bounds[1], bounds[2], bounds[3])},ignore_index=True)\n"
     ]
    },
    {
     "name": "stdout",
     "output_type": "stream",
     "text": [
      "processing file 286/936\r"
     ]
    },
    {
     "name": "stderr",
     "output_type": "stream",
     "text": [
      "C:\\Users\\alexsaunders\\AppData\\Local\\Temp\\ipykernel_13448\\724766185.py:13: FutureWarning: The frame.append method is deprecated and will be removed from pandas in a future version. Use pandas.concat instead.\n",
      "  dfScenes = dfScenes.append({'location':strFilePath, 'geometry': box(bounds[0], bounds[1], bounds[2], bounds[3])},ignore_index=True)\n",
      "C:\\Users\\alexsaunders\\AppData\\Local\\Temp\\ipykernel_13448\\724766185.py:13: FutureWarning: The frame.append method is deprecated and will be removed from pandas in a future version. Use pandas.concat instead.\n",
      "  dfScenes = dfScenes.append({'location':strFilePath, 'geometry': box(bounds[0], bounds[1], bounds[2], bounds[3])},ignore_index=True)\n",
      "C:\\Users\\alexsaunders\\AppData\\Local\\Temp\\ipykernel_13448\\724766185.py:13: FutureWarning: The frame.append method is deprecated and will be removed from pandas in a future version. Use pandas.concat instead.\n",
      "  dfScenes = dfScenes.append({'location':strFilePath, 'geometry': box(bounds[0], bounds[1], bounds[2], bounds[3])},ignore_index=True)\n",
      "C:\\Users\\alexsaunders\\AppData\\Local\\Temp\\ipykernel_13448\\724766185.py:13: FutureWarning: The frame.append method is deprecated and will be removed from pandas in a future version. Use pandas.concat instead.\n",
      "  dfScenes = dfScenes.append({'location':strFilePath, 'geometry': box(bounds[0], bounds[1], bounds[2], bounds[3])},ignore_index=True)\n"
     ]
    },
    {
     "name": "stdout",
     "output_type": "stream",
     "text": [
      "processing file 287/936\r"
     ]
    },
    {
     "name": "stderr",
     "output_type": "stream",
     "text": [
      "C:\\Users\\alexsaunders\\AppData\\Local\\Temp\\ipykernel_13448\\724766185.py:13: FutureWarning: The frame.append method is deprecated and will be removed from pandas in a future version. Use pandas.concat instead.\n",
      "  dfScenes = dfScenes.append({'location':strFilePath, 'geometry': box(bounds[0], bounds[1], bounds[2], bounds[3])},ignore_index=True)\n",
      "C:\\Users\\alexsaunders\\AppData\\Local\\Temp\\ipykernel_13448\\724766185.py:13: FutureWarning: The frame.append method is deprecated and will be removed from pandas in a future version. Use pandas.concat instead.\n",
      "  dfScenes = dfScenes.append({'location':strFilePath, 'geometry': box(bounds[0], bounds[1], bounds[2], bounds[3])},ignore_index=True)\n"
     ]
    },
    {
     "name": "stdout",
     "output_type": "stream",
     "text": [
      "processing file 290/936\r"
     ]
    },
    {
     "name": "stderr",
     "output_type": "stream",
     "text": [
      "C:\\Users\\alexsaunders\\AppData\\Local\\Temp\\ipykernel_13448\\724766185.py:13: FutureWarning: The frame.append method is deprecated and will be removed from pandas in a future version. Use pandas.concat instead.\n",
      "  dfScenes = dfScenes.append({'location':strFilePath, 'geometry': box(bounds[0], bounds[1], bounds[2], bounds[3])},ignore_index=True)\n",
      "C:\\Users\\alexsaunders\\AppData\\Local\\Temp\\ipykernel_13448\\724766185.py:13: FutureWarning: The frame.append method is deprecated and will be removed from pandas in a future version. Use pandas.concat instead.\n",
      "  dfScenes = dfScenes.append({'location':strFilePath, 'geometry': box(bounds[0], bounds[1], bounds[2], bounds[3])},ignore_index=True)\n",
      "C:\\Users\\alexsaunders\\AppData\\Local\\Temp\\ipykernel_13448\\724766185.py:13: FutureWarning: The frame.append method is deprecated and will be removed from pandas in a future version. Use pandas.concat instead.\n",
      "  dfScenes = dfScenes.append({'location':strFilePath, 'geometry': box(bounds[0], bounds[1], bounds[2], bounds[3])},ignore_index=True)\n"
     ]
    },
    {
     "name": "stdout",
     "output_type": "stream",
     "text": [
      "processing file 292/936\r"
     ]
    },
    {
     "name": "stderr",
     "output_type": "stream",
     "text": [
      "C:\\Users\\alexsaunders\\AppData\\Local\\Temp\\ipykernel_13448\\724766185.py:13: FutureWarning: The frame.append method is deprecated and will be removed from pandas in a future version. Use pandas.concat instead.\n",
      "  dfScenes = dfScenes.append({'location':strFilePath, 'geometry': box(bounds[0], bounds[1], bounds[2], bounds[3])},ignore_index=True)\n",
      "C:\\Users\\alexsaunders\\AppData\\Local\\Temp\\ipykernel_13448\\724766185.py:13: FutureWarning: The frame.append method is deprecated and will be removed from pandas in a future version. Use pandas.concat instead.\n",
      "  dfScenes = dfScenes.append({'location':strFilePath, 'geometry': box(bounds[0], bounds[1], bounds[2], bounds[3])},ignore_index=True)\n"
     ]
    },
    {
     "name": "stdout",
     "output_type": "stream",
     "text": [
      "processing file 295/936\r"
     ]
    },
    {
     "name": "stderr",
     "output_type": "stream",
     "text": [
      "C:\\Users\\alexsaunders\\AppData\\Local\\Temp\\ipykernel_13448\\724766185.py:13: FutureWarning: The frame.append method is deprecated and will be removed from pandas in a future version. Use pandas.concat instead.\n",
      "  dfScenes = dfScenes.append({'location':strFilePath, 'geometry': box(bounds[0], bounds[1], bounds[2], bounds[3])},ignore_index=True)\n",
      "C:\\Users\\alexsaunders\\AppData\\Local\\Temp\\ipykernel_13448\\724766185.py:13: FutureWarning: The frame.append method is deprecated and will be removed from pandas in a future version. Use pandas.concat instead.\n",
      "  dfScenes = dfScenes.append({'location':strFilePath, 'geometry': box(bounds[0], bounds[1], bounds[2], bounds[3])},ignore_index=True)\n",
      "C:\\Users\\alexsaunders\\AppData\\Local\\Temp\\ipykernel_13448\\724766185.py:13: FutureWarning: The frame.append method is deprecated and will be removed from pandas in a future version. Use pandas.concat instead.\n",
      "  dfScenes = dfScenes.append({'location':strFilePath, 'geometry': box(bounds[0], bounds[1], bounds[2], bounds[3])},ignore_index=True)\n"
     ]
    },
    {
     "name": "stdout",
     "output_type": "stream",
     "text": [
      "processing file 297/936\r"
     ]
    },
    {
     "name": "stderr",
     "output_type": "stream",
     "text": [
      "C:\\Users\\alexsaunders\\AppData\\Local\\Temp\\ipykernel_13448\\724766185.py:13: FutureWarning: The frame.append method is deprecated and will be removed from pandas in a future version. Use pandas.concat instead.\n",
      "  dfScenes = dfScenes.append({'location':strFilePath, 'geometry': box(bounds[0], bounds[1], bounds[2], bounds[3])},ignore_index=True)\n",
      "C:\\Users\\alexsaunders\\AppData\\Local\\Temp\\ipykernel_13448\\724766185.py:13: FutureWarning: The frame.append method is deprecated and will be removed from pandas in a future version. Use pandas.concat instead.\n",
      "  dfScenes = dfScenes.append({'location':strFilePath, 'geometry': box(bounds[0], bounds[1], bounds[2], bounds[3])},ignore_index=True)\n"
     ]
    },
    {
     "name": "stdout",
     "output_type": "stream",
     "text": [
      "processing file 300/936\r"
     ]
    },
    {
     "name": "stderr",
     "output_type": "stream",
     "text": [
      "C:\\Users\\alexsaunders\\AppData\\Local\\Temp\\ipykernel_13448\\724766185.py:13: FutureWarning: The frame.append method is deprecated and will be removed from pandas in a future version. Use pandas.concat instead.\n",
      "  dfScenes = dfScenes.append({'location':strFilePath, 'geometry': box(bounds[0], bounds[1], bounds[2], bounds[3])},ignore_index=True)\n",
      "C:\\Users\\alexsaunders\\AppData\\Local\\Temp\\ipykernel_13448\\724766185.py:13: FutureWarning: The frame.append method is deprecated and will be removed from pandas in a future version. Use pandas.concat instead.\n",
      "  dfScenes = dfScenes.append({'location':strFilePath, 'geometry': box(bounds[0], bounds[1], bounds[2], bounds[3])},ignore_index=True)\n",
      "C:\\Users\\alexsaunders\\AppData\\Local\\Temp\\ipykernel_13448\\724766185.py:13: FutureWarning: The frame.append method is deprecated and will be removed from pandas in a future version. Use pandas.concat instead.\n",
      "  dfScenes = dfScenes.append({'location':strFilePath, 'geometry': box(bounds[0], bounds[1], bounds[2], bounds[3])},ignore_index=True)\n"
     ]
    },
    {
     "name": "stdout",
     "output_type": "stream",
     "text": [
      "processing file 302/936\r"
     ]
    },
    {
     "name": "stderr",
     "output_type": "stream",
     "text": [
      "C:\\Users\\alexsaunders\\AppData\\Local\\Temp\\ipykernel_13448\\724766185.py:13: FutureWarning: The frame.append method is deprecated and will be removed from pandas in a future version. Use pandas.concat instead.\n",
      "  dfScenes = dfScenes.append({'location':strFilePath, 'geometry': box(bounds[0], bounds[1], bounds[2], bounds[3])},ignore_index=True)\n",
      "C:\\Users\\alexsaunders\\AppData\\Local\\Temp\\ipykernel_13448\\724766185.py:13: FutureWarning: The frame.append method is deprecated and will be removed from pandas in a future version. Use pandas.concat instead.\n",
      "  dfScenes = dfScenes.append({'location':strFilePath, 'geometry': box(bounds[0], bounds[1], bounds[2], bounds[3])},ignore_index=True)\n"
     ]
    },
    {
     "name": "stdout",
     "output_type": "stream",
     "text": [
      "processing file 305/936\r"
     ]
    },
    {
     "name": "stderr",
     "output_type": "stream",
     "text": [
      "C:\\Users\\alexsaunders\\AppData\\Local\\Temp\\ipykernel_13448\\724766185.py:13: FutureWarning: The frame.append method is deprecated and will be removed from pandas in a future version. Use pandas.concat instead.\n",
      "  dfScenes = dfScenes.append({'location':strFilePath, 'geometry': box(bounds[0], bounds[1], bounds[2], bounds[3])},ignore_index=True)\n",
      "C:\\Users\\alexsaunders\\AppData\\Local\\Temp\\ipykernel_13448\\724766185.py:13: FutureWarning: The frame.append method is deprecated and will be removed from pandas in a future version. Use pandas.concat instead.\n",
      "  dfScenes = dfScenes.append({'location':strFilePath, 'geometry': box(bounds[0], bounds[1], bounds[2], bounds[3])},ignore_index=True)\n",
      "C:\\Users\\alexsaunders\\AppData\\Local\\Temp\\ipykernel_13448\\724766185.py:13: FutureWarning: The frame.append method is deprecated and will be removed from pandas in a future version. Use pandas.concat instead.\n",
      "  dfScenes = dfScenes.append({'location':strFilePath, 'geometry': box(bounds[0], bounds[1], bounds[2], bounds[3])},ignore_index=True)\n"
     ]
    },
    {
     "name": "stdout",
     "output_type": "stream",
     "text": [
      "processing file 307/936\r"
     ]
    },
    {
     "name": "stderr",
     "output_type": "stream",
     "text": [
      "C:\\Users\\alexsaunders\\AppData\\Local\\Temp\\ipykernel_13448\\724766185.py:13: FutureWarning: The frame.append method is deprecated and will be removed from pandas in a future version. Use pandas.concat instead.\n",
      "  dfScenes = dfScenes.append({'location':strFilePath, 'geometry': box(bounds[0], bounds[1], bounds[2], bounds[3])},ignore_index=True)\n",
      "C:\\Users\\alexsaunders\\AppData\\Local\\Temp\\ipykernel_13448\\724766185.py:13: FutureWarning: The frame.append method is deprecated and will be removed from pandas in a future version. Use pandas.concat instead.\n",
      "  dfScenes = dfScenes.append({'location':strFilePath, 'geometry': box(bounds[0], bounds[1], bounds[2], bounds[3])},ignore_index=True)\n"
     ]
    },
    {
     "name": "stdout",
     "output_type": "stream",
     "text": [
      "processing file 310/936\r"
     ]
    },
    {
     "name": "stderr",
     "output_type": "stream",
     "text": [
      "C:\\Users\\alexsaunders\\AppData\\Local\\Temp\\ipykernel_13448\\724766185.py:13: FutureWarning: The frame.append method is deprecated and will be removed from pandas in a future version. Use pandas.concat instead.\n",
      "  dfScenes = dfScenes.append({'location':strFilePath, 'geometry': box(bounds[0], bounds[1], bounds[2], bounds[3])},ignore_index=True)\n",
      "C:\\Users\\alexsaunders\\AppData\\Local\\Temp\\ipykernel_13448\\724766185.py:13: FutureWarning: The frame.append method is deprecated and will be removed from pandas in a future version. Use pandas.concat instead.\n",
      "  dfScenes = dfScenes.append({'location':strFilePath, 'geometry': box(bounds[0], bounds[1], bounds[2], bounds[3])},ignore_index=True)\n",
      "C:\\Users\\alexsaunders\\AppData\\Local\\Temp\\ipykernel_13448\\724766185.py:13: FutureWarning: The frame.append method is deprecated and will be removed from pandas in a future version. Use pandas.concat instead.\n",
      "  dfScenes = dfScenes.append({'location':strFilePath, 'geometry': box(bounds[0], bounds[1], bounds[2], bounds[3])},ignore_index=True)\n"
     ]
    },
    {
     "name": "stdout",
     "output_type": "stream",
     "text": [
      "processing file 312/936\r"
     ]
    },
    {
     "name": "stderr",
     "output_type": "stream",
     "text": [
      "C:\\Users\\alexsaunders\\AppData\\Local\\Temp\\ipykernel_13448\\724766185.py:13: FutureWarning: The frame.append method is deprecated and will be removed from pandas in a future version. Use pandas.concat instead.\n",
      "  dfScenes = dfScenes.append({'location':strFilePath, 'geometry': box(bounds[0], bounds[1], bounds[2], bounds[3])},ignore_index=True)\n",
      "C:\\Users\\alexsaunders\\AppData\\Local\\Temp\\ipykernel_13448\\724766185.py:13: FutureWarning: The frame.append method is deprecated and will be removed from pandas in a future version. Use pandas.concat instead.\n",
      "  dfScenes = dfScenes.append({'location':strFilePath, 'geometry': box(bounds[0], bounds[1], bounds[2], bounds[3])},ignore_index=True)\n"
     ]
    },
    {
     "name": "stdout",
     "output_type": "stream",
     "text": [
      "processing file 315/936\r"
     ]
    },
    {
     "name": "stderr",
     "output_type": "stream",
     "text": [
      "C:\\Users\\alexsaunders\\AppData\\Local\\Temp\\ipykernel_13448\\724766185.py:13: FutureWarning: The frame.append method is deprecated and will be removed from pandas in a future version. Use pandas.concat instead.\n",
      "  dfScenes = dfScenes.append({'location':strFilePath, 'geometry': box(bounds[0], bounds[1], bounds[2], bounds[3])},ignore_index=True)\n",
      "C:\\Users\\alexsaunders\\AppData\\Local\\Temp\\ipykernel_13448\\724766185.py:13: FutureWarning: The frame.append method is deprecated and will be removed from pandas in a future version. Use pandas.concat instead.\n",
      "  dfScenes = dfScenes.append({'location':strFilePath, 'geometry': box(bounds[0], bounds[1], bounds[2], bounds[3])},ignore_index=True)\n",
      "C:\\Users\\alexsaunders\\AppData\\Local\\Temp\\ipykernel_13448\\724766185.py:13: FutureWarning: The frame.append method is deprecated and will be removed from pandas in a future version. Use pandas.concat instead.\n",
      "  dfScenes = dfScenes.append({'location':strFilePath, 'geometry': box(bounds[0], bounds[1], bounds[2], bounds[3])},ignore_index=True)\n"
     ]
    },
    {
     "name": "stdout",
     "output_type": "stream",
     "text": [
      "processing file 318/936\r"
     ]
    },
    {
     "name": "stderr",
     "output_type": "stream",
     "text": [
      "C:\\Users\\alexsaunders\\AppData\\Local\\Temp\\ipykernel_13448\\724766185.py:13: FutureWarning: The frame.append method is deprecated and will be removed from pandas in a future version. Use pandas.concat instead.\n",
      "  dfScenes = dfScenes.append({'location':strFilePath, 'geometry': box(bounds[0], bounds[1], bounds[2], bounds[3])},ignore_index=True)\n",
      "C:\\Users\\alexsaunders\\AppData\\Local\\Temp\\ipykernel_13448\\724766185.py:13: FutureWarning: The frame.append method is deprecated and will be removed from pandas in a future version. Use pandas.concat instead.\n",
      "  dfScenes = dfScenes.append({'location':strFilePath, 'geometry': box(bounds[0], bounds[1], bounds[2], bounds[3])},ignore_index=True)\n"
     ]
    },
    {
     "name": "stdout",
     "output_type": "stream",
     "text": [
      "processing file 321/936\r"
     ]
    },
    {
     "name": "stderr",
     "output_type": "stream",
     "text": [
      "C:\\Users\\alexsaunders\\AppData\\Local\\Temp\\ipykernel_13448\\724766185.py:13: FutureWarning: The frame.append method is deprecated and will be removed from pandas in a future version. Use pandas.concat instead.\n",
      "  dfScenes = dfScenes.append({'location':strFilePath, 'geometry': box(bounds[0], bounds[1], bounds[2], bounds[3])},ignore_index=True)\n",
      "C:\\Users\\alexsaunders\\AppData\\Local\\Temp\\ipykernel_13448\\724766185.py:13: FutureWarning: The frame.append method is deprecated and will be removed from pandas in a future version. Use pandas.concat instead.\n",
      "  dfScenes = dfScenes.append({'location':strFilePath, 'geometry': box(bounds[0], bounds[1], bounds[2], bounds[3])},ignore_index=True)\n",
      "C:\\Users\\alexsaunders\\AppData\\Local\\Temp\\ipykernel_13448\\724766185.py:13: FutureWarning: The frame.append method is deprecated and will be removed from pandas in a future version. Use pandas.concat instead.\n",
      "  dfScenes = dfScenes.append({'location':strFilePath, 'geometry': box(bounds[0], bounds[1], bounds[2], bounds[3])},ignore_index=True)\n",
      "C:\\Users\\alexsaunders\\AppData\\Local\\Temp\\ipykernel_13448\\724766185.py:13: FutureWarning: The frame.append method is deprecated and will be removed from pandas in a future version. Use pandas.concat instead.\n",
      "  dfScenes = dfScenes.append({'location':strFilePath, 'geometry': box(bounds[0], bounds[1], bounds[2], bounds[3])},ignore_index=True)\n"
     ]
    },
    {
     "name": "stdout",
     "output_type": "stream",
     "text": [
      "processing file 323/936\r"
     ]
    },
    {
     "name": "stderr",
     "output_type": "stream",
     "text": [
      "C:\\Users\\alexsaunders\\AppData\\Local\\Temp\\ipykernel_13448\\724766185.py:13: FutureWarning: The frame.append method is deprecated and will be removed from pandas in a future version. Use pandas.concat instead.\n",
      "  dfScenes = dfScenes.append({'location':strFilePath, 'geometry': box(bounds[0], bounds[1], bounds[2], bounds[3])},ignore_index=True)\n"
     ]
    },
    {
     "name": "stdout",
     "output_type": "stream",
     "text": [
      "processing file 327/936\r"
     ]
    },
    {
     "name": "stderr",
     "output_type": "stream",
     "text": [
      "C:\\Users\\alexsaunders\\AppData\\Local\\Temp\\ipykernel_13448\\724766185.py:13: FutureWarning: The frame.append method is deprecated and will be removed from pandas in a future version. Use pandas.concat instead.\n",
      "  dfScenes = dfScenes.append({'location':strFilePath, 'geometry': box(bounds[0], bounds[1], bounds[2], bounds[3])},ignore_index=True)\n",
      "C:\\Users\\alexsaunders\\AppData\\Local\\Temp\\ipykernel_13448\\724766185.py:13: FutureWarning: The frame.append method is deprecated and will be removed from pandas in a future version. Use pandas.concat instead.\n",
      "  dfScenes = dfScenes.append({'location':strFilePath, 'geometry': box(bounds[0], bounds[1], bounds[2], bounds[3])},ignore_index=True)\n",
      "C:\\Users\\alexsaunders\\AppData\\Local\\Temp\\ipykernel_13448\\724766185.py:13: FutureWarning: The frame.append method is deprecated and will be removed from pandas in a future version. Use pandas.concat instead.\n",
      "  dfScenes = dfScenes.append({'location':strFilePath, 'geometry': box(bounds[0], bounds[1], bounds[2], bounds[3])},ignore_index=True)\n",
      "C:\\Users\\alexsaunders\\AppData\\Local\\Temp\\ipykernel_13448\\724766185.py:13: FutureWarning: The frame.append method is deprecated and will be removed from pandas in a future version. Use pandas.concat instead.\n",
      "  dfScenes = dfScenes.append({'location':strFilePath, 'geometry': box(bounds[0], bounds[1], bounds[2], bounds[3])},ignore_index=True)\n"
     ]
    },
    {
     "name": "stdout",
     "output_type": "stream",
     "text": [
      "processing file 329/936\r"
     ]
    },
    {
     "name": "stderr",
     "output_type": "stream",
     "text": [
      "C:\\Users\\alexsaunders\\AppData\\Local\\Temp\\ipykernel_13448\\724766185.py:13: FutureWarning: The frame.append method is deprecated and will be removed from pandas in a future version. Use pandas.concat instead.\n",
      "  dfScenes = dfScenes.append({'location':strFilePath, 'geometry': box(bounds[0], bounds[1], bounds[2], bounds[3])},ignore_index=True)\n",
      "C:\\Users\\alexsaunders\\AppData\\Local\\Temp\\ipykernel_13448\\724766185.py:13: FutureWarning: The frame.append method is deprecated and will be removed from pandas in a future version. Use pandas.concat instead.\n",
      "  dfScenes = dfScenes.append({'location':strFilePath, 'geometry': box(bounds[0], bounds[1], bounds[2], bounds[3])},ignore_index=True)\n"
     ]
    },
    {
     "name": "stdout",
     "output_type": "stream",
     "text": [
      "processing file 333/936\r"
     ]
    },
    {
     "name": "stderr",
     "output_type": "stream",
     "text": [
      "C:\\Users\\alexsaunders\\AppData\\Local\\Temp\\ipykernel_13448\\724766185.py:13: FutureWarning: The frame.append method is deprecated and will be removed from pandas in a future version. Use pandas.concat instead.\n",
      "  dfScenes = dfScenes.append({'location':strFilePath, 'geometry': box(bounds[0], bounds[1], bounds[2], bounds[3])},ignore_index=True)\n",
      "C:\\Users\\alexsaunders\\AppData\\Local\\Temp\\ipykernel_13448\\724766185.py:13: FutureWarning: The frame.append method is deprecated and will be removed from pandas in a future version. Use pandas.concat instead.\n",
      "  dfScenes = dfScenes.append({'location':strFilePath, 'geometry': box(bounds[0], bounds[1], bounds[2], bounds[3])},ignore_index=True)\n",
      "C:\\Users\\alexsaunders\\AppData\\Local\\Temp\\ipykernel_13448\\724766185.py:13: FutureWarning: The frame.append method is deprecated and will be removed from pandas in a future version. Use pandas.concat instead.\n",
      "  dfScenes = dfScenes.append({'location':strFilePath, 'geometry': box(bounds[0], bounds[1], bounds[2], bounds[3])},ignore_index=True)\n",
      "C:\\Users\\alexsaunders\\AppData\\Local\\Temp\\ipykernel_13448\\724766185.py:13: FutureWarning: The frame.append method is deprecated and will be removed from pandas in a future version. Use pandas.concat instead.\n",
      "  dfScenes = dfScenes.append({'location':strFilePath, 'geometry': box(bounds[0], bounds[1], bounds[2], bounds[3])},ignore_index=True)\n"
     ]
    },
    {
     "name": "stdout",
     "output_type": "stream",
     "text": [
      "processing file 334/936\r"
     ]
    },
    {
     "name": "stderr",
     "output_type": "stream",
     "text": [
      "C:\\Users\\alexsaunders\\AppData\\Local\\Temp\\ipykernel_13448\\724766185.py:13: FutureWarning: The frame.append method is deprecated and will be removed from pandas in a future version. Use pandas.concat instead.\n",
      "  dfScenes = dfScenes.append({'location':strFilePath, 'geometry': box(bounds[0], bounds[1], bounds[2], bounds[3])},ignore_index=True)\n",
      "C:\\Users\\alexsaunders\\AppData\\Local\\Temp\\ipykernel_13448\\724766185.py:13: FutureWarning: The frame.append method is deprecated and will be removed from pandas in a future version. Use pandas.concat instead.\n",
      "  dfScenes = dfScenes.append({'location':strFilePath, 'geometry': box(bounds[0], bounds[1], bounds[2], bounds[3])},ignore_index=True)\n",
      "C:\\Users\\alexsaunders\\AppData\\Local\\Temp\\ipykernel_13448\\724766185.py:13: FutureWarning: The frame.append method is deprecated and will be removed from pandas in a future version. Use pandas.concat instead.\n",
      "  dfScenes = dfScenes.append({'location':strFilePath, 'geometry': box(bounds[0], bounds[1], bounds[2], bounds[3])},ignore_index=True)\n",
      "C:\\Users\\alexsaunders\\AppData\\Local\\Temp\\ipykernel_13448\\724766185.py:13: FutureWarning: The frame.append method is deprecated and will be removed from pandas in a future version. Use pandas.concat instead.\n",
      "  dfScenes = dfScenes.append({'location':strFilePath, 'geometry': box(bounds[0], bounds[1], bounds[2], bounds[3])},ignore_index=True)\n",
      "C:\\Users\\alexsaunders\\AppData\\Local\\Temp\\ipykernel_13448\\724766185.py:13: FutureWarning: The frame.append method is deprecated and will be removed from pandas in a future version. Use pandas.concat instead.\n",
      "  dfScenes = dfScenes.append({'location':strFilePath, 'geometry': box(bounds[0], bounds[1], bounds[2], bounds[3])},ignore_index=True)\n"
     ]
    },
    {
     "name": "stdout",
     "output_type": "stream",
     "text": [
      "processing file 339/936\r"
     ]
    },
    {
     "name": "stderr",
     "output_type": "stream",
     "text": [
      "C:\\Users\\alexsaunders\\AppData\\Local\\Temp\\ipykernel_13448\\724766185.py:13: FutureWarning: The frame.append method is deprecated and will be removed from pandas in a future version. Use pandas.concat instead.\n",
      "  dfScenes = dfScenes.append({'location':strFilePath, 'geometry': box(bounds[0], bounds[1], bounds[2], bounds[3])},ignore_index=True)\n",
      "C:\\Users\\alexsaunders\\AppData\\Local\\Temp\\ipykernel_13448\\724766185.py:13: FutureWarning: The frame.append method is deprecated and will be removed from pandas in a future version. Use pandas.concat instead.\n",
      "  dfScenes = dfScenes.append({'location':strFilePath, 'geometry': box(bounds[0], bounds[1], bounds[2], bounds[3])},ignore_index=True)\n",
      "C:\\Users\\alexsaunders\\AppData\\Local\\Temp\\ipykernel_13448\\724766185.py:13: FutureWarning: The frame.append method is deprecated and will be removed from pandas in a future version. Use pandas.concat instead.\n",
      "  dfScenes = dfScenes.append({'location':strFilePath, 'geometry': box(bounds[0], bounds[1], bounds[2], bounds[3])},ignore_index=True)\n",
      "C:\\Users\\alexsaunders\\AppData\\Local\\Temp\\ipykernel_13448\\724766185.py:13: FutureWarning: The frame.append method is deprecated and will be removed from pandas in a future version. Use pandas.concat instead.\n",
      "  dfScenes = dfScenes.append({'location':strFilePath, 'geometry': box(bounds[0], bounds[1], bounds[2], bounds[3])},ignore_index=True)\n",
      "C:\\Users\\alexsaunders\\AppData\\Local\\Temp\\ipykernel_13448\\724766185.py:13: FutureWarning: The frame.append method is deprecated and will be removed from pandas in a future version. Use pandas.concat instead.\n",
      "  dfScenes = dfScenes.append({'location':strFilePath, 'geometry': box(bounds[0], bounds[1], bounds[2], bounds[3])},ignore_index=True)\n"
     ]
    },
    {
     "name": "stdout",
     "output_type": "stream",
     "text": [
      "processing file 344/936\r"
     ]
    },
    {
     "name": "stderr",
     "output_type": "stream",
     "text": [
      "C:\\Users\\alexsaunders\\AppData\\Local\\Temp\\ipykernel_13448\\724766185.py:13: FutureWarning: The frame.append method is deprecated and will be removed from pandas in a future version. Use pandas.concat instead.\n",
      "  dfScenes = dfScenes.append({'location':strFilePath, 'geometry': box(bounds[0], bounds[1], bounds[2], bounds[3])},ignore_index=True)\n",
      "C:\\Users\\alexsaunders\\AppData\\Local\\Temp\\ipykernel_13448\\724766185.py:13: FutureWarning: The frame.append method is deprecated and will be removed from pandas in a future version. Use pandas.concat instead.\n",
      "  dfScenes = dfScenes.append({'location':strFilePath, 'geometry': box(bounds[0], bounds[1], bounds[2], bounds[3])},ignore_index=True)\n",
      "C:\\Users\\alexsaunders\\AppData\\Local\\Temp\\ipykernel_13448\\724766185.py:13: FutureWarning: The frame.append method is deprecated and will be removed from pandas in a future version. Use pandas.concat instead.\n",
      "  dfScenes = dfScenes.append({'location':strFilePath, 'geometry': box(bounds[0], bounds[1], bounds[2], bounds[3])},ignore_index=True)\n",
      "C:\\Users\\alexsaunders\\AppData\\Local\\Temp\\ipykernel_13448\\724766185.py:13: FutureWarning: The frame.append method is deprecated and will be removed from pandas in a future version. Use pandas.concat instead.\n",
      "  dfScenes = dfScenes.append({'location':strFilePath, 'geometry': box(bounds[0], bounds[1], bounds[2], bounds[3])},ignore_index=True)\n",
      "C:\\Users\\alexsaunders\\AppData\\Local\\Temp\\ipykernel_13448\\724766185.py:13: FutureWarning: The frame.append method is deprecated and will be removed from pandas in a future version. Use pandas.concat instead.\n",
      "  dfScenes = dfScenes.append({'location':strFilePath, 'geometry': box(bounds[0], bounds[1], bounds[2], bounds[3])},ignore_index=True)\n"
     ]
    },
    {
     "name": "stdout",
     "output_type": "stream",
     "text": [
      "processing file 349/936\r"
     ]
    },
    {
     "name": "stderr",
     "output_type": "stream",
     "text": [
      "C:\\Users\\alexsaunders\\AppData\\Local\\Temp\\ipykernel_13448\\724766185.py:13: FutureWarning: The frame.append method is deprecated and will be removed from pandas in a future version. Use pandas.concat instead.\n",
      "  dfScenes = dfScenes.append({'location':strFilePath, 'geometry': box(bounds[0], bounds[1], bounds[2], bounds[3])},ignore_index=True)\n",
      "C:\\Users\\alexsaunders\\AppData\\Local\\Temp\\ipykernel_13448\\724766185.py:13: FutureWarning: The frame.append method is deprecated and will be removed from pandas in a future version. Use pandas.concat instead.\n",
      "  dfScenes = dfScenes.append({'location':strFilePath, 'geometry': box(bounds[0], bounds[1], bounds[2], bounds[3])},ignore_index=True)\n",
      "C:\\Users\\alexsaunders\\AppData\\Local\\Temp\\ipykernel_13448\\724766185.py:13: FutureWarning: The frame.append method is deprecated and will be removed from pandas in a future version. Use pandas.concat instead.\n",
      "  dfScenes = dfScenes.append({'location':strFilePath, 'geometry': box(bounds[0], bounds[1], bounds[2], bounds[3])},ignore_index=True)\n",
      "C:\\Users\\alexsaunders\\AppData\\Local\\Temp\\ipykernel_13448\\724766185.py:13: FutureWarning: The frame.append method is deprecated and will be removed from pandas in a future version. Use pandas.concat instead.\n",
      "  dfScenes = dfScenes.append({'location':strFilePath, 'geometry': box(bounds[0], bounds[1], bounds[2], bounds[3])},ignore_index=True)\n",
      "C:\\Users\\alexsaunders\\AppData\\Local\\Temp\\ipykernel_13448\\724766185.py:13: FutureWarning: The frame.append method is deprecated and will be removed from pandas in a future version. Use pandas.concat instead.\n",
      "  dfScenes = dfScenes.append({'location':strFilePath, 'geometry': box(bounds[0], bounds[1], bounds[2], bounds[3])},ignore_index=True)\n"
     ]
    },
    {
     "name": "stdout",
     "output_type": "stream",
     "text": [
      "processing file 354/936\r"
     ]
    },
    {
     "name": "stderr",
     "output_type": "stream",
     "text": [
      "C:\\Users\\alexsaunders\\AppData\\Local\\Temp\\ipykernel_13448\\724766185.py:13: FutureWarning: The frame.append method is deprecated and will be removed from pandas in a future version. Use pandas.concat instead.\n",
      "  dfScenes = dfScenes.append({'location':strFilePath, 'geometry': box(bounds[0], bounds[1], bounds[2], bounds[3])},ignore_index=True)\n",
      "C:\\Users\\alexsaunders\\AppData\\Local\\Temp\\ipykernel_13448\\724766185.py:13: FutureWarning: The frame.append method is deprecated and will be removed from pandas in a future version. Use pandas.concat instead.\n",
      "  dfScenes = dfScenes.append({'location':strFilePath, 'geometry': box(bounds[0], bounds[1], bounds[2], bounds[3])},ignore_index=True)\n",
      "C:\\Users\\alexsaunders\\AppData\\Local\\Temp\\ipykernel_13448\\724766185.py:13: FutureWarning: The frame.append method is deprecated and will be removed from pandas in a future version. Use pandas.concat instead.\n",
      "  dfScenes = dfScenes.append({'location':strFilePath, 'geometry': box(bounds[0], bounds[1], bounds[2], bounds[3])},ignore_index=True)\n",
      "C:\\Users\\alexsaunders\\AppData\\Local\\Temp\\ipykernel_13448\\724766185.py:13: FutureWarning: The frame.append method is deprecated and will be removed from pandas in a future version. Use pandas.concat instead.\n",
      "  dfScenes = dfScenes.append({'location':strFilePath, 'geometry': box(bounds[0], bounds[1], bounds[2], bounds[3])},ignore_index=True)\n",
      "C:\\Users\\alexsaunders\\AppData\\Local\\Temp\\ipykernel_13448\\724766185.py:13: FutureWarning: The frame.append method is deprecated and will be removed from pandas in a future version. Use pandas.concat instead.\n",
      "  dfScenes = dfScenes.append({'location':strFilePath, 'geometry': box(bounds[0], bounds[1], bounds[2], bounds[3])},ignore_index=True)\n"
     ]
    },
    {
     "name": "stdout",
     "output_type": "stream",
     "text": [
      "processing file 360/936\r"
     ]
    },
    {
     "name": "stderr",
     "output_type": "stream",
     "text": [
      "C:\\Users\\alexsaunders\\AppData\\Local\\Temp\\ipykernel_13448\\724766185.py:13: FutureWarning: The frame.append method is deprecated and will be removed from pandas in a future version. Use pandas.concat instead.\n",
      "  dfScenes = dfScenes.append({'location':strFilePath, 'geometry': box(bounds[0], bounds[1], bounds[2], bounds[3])},ignore_index=True)\n",
      "C:\\Users\\alexsaunders\\AppData\\Local\\Temp\\ipykernel_13448\\724766185.py:13: FutureWarning: The frame.append method is deprecated and will be removed from pandas in a future version. Use pandas.concat instead.\n",
      "  dfScenes = dfScenes.append({'location':strFilePath, 'geometry': box(bounds[0], bounds[1], bounds[2], bounds[3])},ignore_index=True)\n"
     ]
    },
    {
     "name": "stdout",
     "output_type": "stream",
     "text": [
      "processing file 363/936\r"
     ]
    },
    {
     "name": "stderr",
     "output_type": "stream",
     "text": [
      "C:\\Users\\alexsaunders\\AppData\\Local\\Temp\\ipykernel_13448\\724766185.py:13: FutureWarning: The frame.append method is deprecated and will be removed from pandas in a future version. Use pandas.concat instead.\n",
      "  dfScenes = dfScenes.append({'location':strFilePath, 'geometry': box(bounds[0], bounds[1], bounds[2], bounds[3])},ignore_index=True)\n",
      "C:\\Users\\alexsaunders\\AppData\\Local\\Temp\\ipykernel_13448\\724766185.py:13: FutureWarning: The frame.append method is deprecated and will be removed from pandas in a future version. Use pandas.concat instead.\n",
      "  dfScenes = dfScenes.append({'location':strFilePath, 'geometry': box(bounds[0], bounds[1], bounds[2], bounds[3])},ignore_index=True)\n",
      "C:\\Users\\alexsaunders\\AppData\\Local\\Temp\\ipykernel_13448\\724766185.py:13: FutureWarning: The frame.append method is deprecated and will be removed from pandas in a future version. Use pandas.concat instead.\n",
      "  dfScenes = dfScenes.append({'location':strFilePath, 'geometry': box(bounds[0], bounds[1], bounds[2], bounds[3])},ignore_index=True)\n",
      "C:\\Users\\alexsaunders\\AppData\\Local\\Temp\\ipykernel_13448\\724766185.py:13: FutureWarning: The frame.append method is deprecated and will be removed from pandas in a future version. Use pandas.concat instead.\n",
      "  dfScenes = dfScenes.append({'location':strFilePath, 'geometry': box(bounds[0], bounds[1], bounds[2], bounds[3])},ignore_index=True)\n",
      "C:\\Users\\alexsaunders\\AppData\\Local\\Temp\\ipykernel_13448\\724766185.py:13: FutureWarning: The frame.append method is deprecated and will be removed from pandas in a future version. Use pandas.concat instead.\n",
      "  dfScenes = dfScenes.append({'location':strFilePath, 'geometry': box(bounds[0], bounds[1], bounds[2], bounds[3])},ignore_index=True)\n",
      "C:\\Users\\alexsaunders\\AppData\\Local\\Temp\\ipykernel_13448\\724766185.py:13: FutureWarning: The frame.append method is deprecated and will be removed from pandas in a future version. Use pandas.concat instead.\n",
      "  dfScenes = dfScenes.append({'location':strFilePath, 'geometry': box(bounds[0], bounds[1], bounds[2], bounds[3])},ignore_index=True)\n",
      "C:\\Users\\alexsaunders\\AppData\\Local\\Temp\\ipykernel_13448\\724766185.py:13: FutureWarning: The frame.append method is deprecated and will be removed from pandas in a future version. Use pandas.concat instead.\n",
      "  dfScenes = dfScenes.append({'location':strFilePath, 'geometry': box(bounds[0], bounds[1], bounds[2], bounds[3])},ignore_index=True)\n",
      "C:\\Users\\alexsaunders\\AppData\\Local\\Temp\\ipykernel_13448\\724766185.py:13: FutureWarning: The frame.append method is deprecated and will be removed from pandas in a future version. Use pandas.concat instead.\n",
      "  dfScenes = dfScenes.append({'location':strFilePath, 'geometry': box(bounds[0], bounds[1], bounds[2], bounds[3])},ignore_index=True)\n"
     ]
    },
    {
     "name": "stdout",
     "output_type": "stream",
     "text": [
      "processing file 368/936\r"
     ]
    },
    {
     "name": "stderr",
     "output_type": "stream",
     "text": [
      "C:\\Users\\alexsaunders\\AppData\\Local\\Temp\\ipykernel_13448\\724766185.py:13: FutureWarning: The frame.append method is deprecated and will be removed from pandas in a future version. Use pandas.concat instead.\n",
      "  dfScenes = dfScenes.append({'location':strFilePath, 'geometry': box(bounds[0], bounds[1], bounds[2], bounds[3])},ignore_index=True)\n",
      "C:\\Users\\alexsaunders\\AppData\\Local\\Temp\\ipykernel_13448\\724766185.py:13: FutureWarning: The frame.append method is deprecated and will be removed from pandas in a future version. Use pandas.concat instead.\n",
      "  dfScenes = dfScenes.append({'location':strFilePath, 'geometry': box(bounds[0], bounds[1], bounds[2], bounds[3])},ignore_index=True)\n",
      "C:\\Users\\alexsaunders\\AppData\\Local\\Temp\\ipykernel_13448\\724766185.py:13: FutureWarning: The frame.append method is deprecated and will be removed from pandas in a future version. Use pandas.concat instead.\n",
      "  dfScenes = dfScenes.append({'location':strFilePath, 'geometry': box(bounds[0], bounds[1], bounds[2], bounds[3])},ignore_index=True)\n",
      "C:\\Users\\alexsaunders\\AppData\\Local\\Temp\\ipykernel_13448\\724766185.py:13: FutureWarning: The frame.append method is deprecated and will be removed from pandas in a future version. Use pandas.concat instead.\n",
      "  dfScenes = dfScenes.append({'location':strFilePath, 'geometry': box(bounds[0], bounds[1], bounds[2], bounds[3])},ignore_index=True)\n",
      "C:\\Users\\alexsaunders\\AppData\\Local\\Temp\\ipykernel_13448\\724766185.py:13: FutureWarning: The frame.append method is deprecated and will be removed from pandas in a future version. Use pandas.concat instead.\n",
      "  dfScenes = dfScenes.append({'location':strFilePath, 'geometry': box(bounds[0], bounds[1], bounds[2], bounds[3])},ignore_index=True)\n"
     ]
    },
    {
     "name": "stdout",
     "output_type": "stream",
     "text": [
      "processing file 374/936\r"
     ]
    },
    {
     "name": "stderr",
     "output_type": "stream",
     "text": [
      "C:\\Users\\alexsaunders\\AppData\\Local\\Temp\\ipykernel_13448\\724766185.py:13: FutureWarning: The frame.append method is deprecated and will be removed from pandas in a future version. Use pandas.concat instead.\n",
      "  dfScenes = dfScenes.append({'location':strFilePath, 'geometry': box(bounds[0], bounds[1], bounds[2], bounds[3])},ignore_index=True)\n",
      "C:\\Users\\alexsaunders\\AppData\\Local\\Temp\\ipykernel_13448\\724766185.py:13: FutureWarning: The frame.append method is deprecated and will be removed from pandas in a future version. Use pandas.concat instead.\n",
      "  dfScenes = dfScenes.append({'location':strFilePath, 'geometry': box(bounds[0], bounds[1], bounds[2], bounds[3])},ignore_index=True)\n",
      "C:\\Users\\alexsaunders\\AppData\\Local\\Temp\\ipykernel_13448\\724766185.py:13: FutureWarning: The frame.append method is deprecated and will be removed from pandas in a future version. Use pandas.concat instead.\n",
      "  dfScenes = dfScenes.append({'location':strFilePath, 'geometry': box(bounds[0], bounds[1], bounds[2], bounds[3])},ignore_index=True)\n",
      "C:\\Users\\alexsaunders\\AppData\\Local\\Temp\\ipykernel_13448\\724766185.py:13: FutureWarning: The frame.append method is deprecated and will be removed from pandas in a future version. Use pandas.concat instead.\n",
      "  dfScenes = dfScenes.append({'location':strFilePath, 'geometry': box(bounds[0], bounds[1], bounds[2], bounds[3])},ignore_index=True)\n",
      "C:\\Users\\alexsaunders\\AppData\\Local\\Temp\\ipykernel_13448\\724766185.py:13: FutureWarning: The frame.append method is deprecated and will be removed from pandas in a future version. Use pandas.concat instead.\n",
      "  dfScenes = dfScenes.append({'location':strFilePath, 'geometry': box(bounds[0], bounds[1], bounds[2], bounds[3])},ignore_index=True)\n"
     ]
    },
    {
     "name": "stdout",
     "output_type": "stream",
     "text": [
      "processing file 378/936\r"
     ]
    },
    {
     "name": "stderr",
     "output_type": "stream",
     "text": [
      "C:\\Users\\alexsaunders\\AppData\\Local\\Temp\\ipykernel_13448\\724766185.py:13: FutureWarning: The frame.append method is deprecated and will be removed from pandas in a future version. Use pandas.concat instead.\n",
      "  dfScenes = dfScenes.append({'location':strFilePath, 'geometry': box(bounds[0], bounds[1], bounds[2], bounds[3])},ignore_index=True)\n",
      "C:\\Users\\alexsaunders\\AppData\\Local\\Temp\\ipykernel_13448\\724766185.py:13: FutureWarning: The frame.append method is deprecated and will be removed from pandas in a future version. Use pandas.concat instead.\n",
      "  dfScenes = dfScenes.append({'location':strFilePath, 'geometry': box(bounds[0], bounds[1], bounds[2], bounds[3])},ignore_index=True)\n",
      "C:\\Users\\alexsaunders\\AppData\\Local\\Temp\\ipykernel_13448\\724766185.py:13: FutureWarning: The frame.append method is deprecated and will be removed from pandas in a future version. Use pandas.concat instead.\n",
      "  dfScenes = dfScenes.append({'location':strFilePath, 'geometry': box(bounds[0], bounds[1], bounds[2], bounds[3])},ignore_index=True)\n",
      "C:\\Users\\alexsaunders\\AppData\\Local\\Temp\\ipykernel_13448\\724766185.py:13: FutureWarning: The frame.append method is deprecated and will be removed from pandas in a future version. Use pandas.concat instead.\n",
      "  dfScenes = dfScenes.append({'location':strFilePath, 'geometry': box(bounds[0], bounds[1], bounds[2], bounds[3])},ignore_index=True)\n",
      "C:\\Users\\alexsaunders\\AppData\\Local\\Temp\\ipykernel_13448\\724766185.py:13: FutureWarning: The frame.append method is deprecated and will be removed from pandas in a future version. Use pandas.concat instead.\n",
      "  dfScenes = dfScenes.append({'location':strFilePath, 'geometry': box(bounds[0], bounds[1], bounds[2], bounds[3])},ignore_index=True)\n"
     ]
    },
    {
     "name": "stdout",
     "output_type": "stream",
     "text": [
      "processing file 383/936\r"
     ]
    },
    {
     "name": "stderr",
     "output_type": "stream",
     "text": [
      "C:\\Users\\alexsaunders\\AppData\\Local\\Temp\\ipykernel_13448\\724766185.py:13: FutureWarning: The frame.append method is deprecated and will be removed from pandas in a future version. Use pandas.concat instead.\n",
      "  dfScenes = dfScenes.append({'location':strFilePath, 'geometry': box(bounds[0], bounds[1], bounds[2], bounds[3])},ignore_index=True)\n",
      "C:\\Users\\alexsaunders\\AppData\\Local\\Temp\\ipykernel_13448\\724766185.py:13: FutureWarning: The frame.append method is deprecated and will be removed from pandas in a future version. Use pandas.concat instead.\n",
      "  dfScenes = dfScenes.append({'location':strFilePath, 'geometry': box(bounds[0], bounds[1], bounds[2], bounds[3])},ignore_index=True)\n",
      "C:\\Users\\alexsaunders\\AppData\\Local\\Temp\\ipykernel_13448\\724766185.py:13: FutureWarning: The frame.append method is deprecated and will be removed from pandas in a future version. Use pandas.concat instead.\n",
      "  dfScenes = dfScenes.append({'location':strFilePath, 'geometry': box(bounds[0], bounds[1], bounds[2], bounds[3])},ignore_index=True)\n",
      "C:\\Users\\alexsaunders\\AppData\\Local\\Temp\\ipykernel_13448\\724766185.py:13: FutureWarning: The frame.append method is deprecated and will be removed from pandas in a future version. Use pandas.concat instead.\n",
      "  dfScenes = dfScenes.append({'location':strFilePath, 'geometry': box(bounds[0], bounds[1], bounds[2], bounds[3])},ignore_index=True)\n",
      "C:\\Users\\alexsaunders\\AppData\\Local\\Temp\\ipykernel_13448\\724766185.py:13: FutureWarning: The frame.append method is deprecated and will be removed from pandas in a future version. Use pandas.concat instead.\n",
      "  dfScenes = dfScenes.append({'location':strFilePath, 'geometry': box(bounds[0], bounds[1], bounds[2], bounds[3])},ignore_index=True)\n"
     ]
    },
    {
     "name": "stdout",
     "output_type": "stream",
     "text": [
      "processing file 388/936\r"
     ]
    },
    {
     "name": "stderr",
     "output_type": "stream",
     "text": [
      "C:\\Users\\alexsaunders\\AppData\\Local\\Temp\\ipykernel_13448\\724766185.py:13: FutureWarning: The frame.append method is deprecated and will be removed from pandas in a future version. Use pandas.concat instead.\n",
      "  dfScenes = dfScenes.append({'location':strFilePath, 'geometry': box(bounds[0], bounds[1], bounds[2], bounds[3])},ignore_index=True)\n",
      "C:\\Users\\alexsaunders\\AppData\\Local\\Temp\\ipykernel_13448\\724766185.py:13: FutureWarning: The frame.append method is deprecated and will be removed from pandas in a future version. Use pandas.concat instead.\n",
      "  dfScenes = dfScenes.append({'location':strFilePath, 'geometry': box(bounds[0], bounds[1], bounds[2], bounds[3])},ignore_index=True)\n",
      "C:\\Users\\alexsaunders\\AppData\\Local\\Temp\\ipykernel_13448\\724766185.py:13: FutureWarning: The frame.append method is deprecated and will be removed from pandas in a future version. Use pandas.concat instead.\n",
      "  dfScenes = dfScenes.append({'location':strFilePath, 'geometry': box(bounds[0], bounds[1], bounds[2], bounds[3])},ignore_index=True)\n",
      "C:\\Users\\alexsaunders\\AppData\\Local\\Temp\\ipykernel_13448\\724766185.py:13: FutureWarning: The frame.append method is deprecated and will be removed from pandas in a future version. Use pandas.concat instead.\n",
      "  dfScenes = dfScenes.append({'location':strFilePath, 'geometry': box(bounds[0], bounds[1], bounds[2], bounds[3])},ignore_index=True)\n",
      "C:\\Users\\alexsaunders\\AppData\\Local\\Temp\\ipykernel_13448\\724766185.py:13: FutureWarning: The frame.append method is deprecated and will be removed from pandas in a future version. Use pandas.concat instead.\n",
      "  dfScenes = dfScenes.append({'location':strFilePath, 'geometry': box(bounds[0], bounds[1], bounds[2], bounds[3])},ignore_index=True)\n"
     ]
    },
    {
     "name": "stdout",
     "output_type": "stream",
     "text": [
      "processing file 393/936\r"
     ]
    },
    {
     "name": "stderr",
     "output_type": "stream",
     "text": [
      "C:\\Users\\alexsaunders\\AppData\\Local\\Temp\\ipykernel_13448\\724766185.py:13: FutureWarning: The frame.append method is deprecated and will be removed from pandas in a future version. Use pandas.concat instead.\n",
      "  dfScenes = dfScenes.append({'location':strFilePath, 'geometry': box(bounds[0], bounds[1], bounds[2], bounds[3])},ignore_index=True)\n",
      "C:\\Users\\alexsaunders\\AppData\\Local\\Temp\\ipykernel_13448\\724766185.py:13: FutureWarning: The frame.append method is deprecated and will be removed from pandas in a future version. Use pandas.concat instead.\n",
      "  dfScenes = dfScenes.append({'location':strFilePath, 'geometry': box(bounds[0], bounds[1], bounds[2], bounds[3])},ignore_index=True)\n",
      "C:\\Users\\alexsaunders\\AppData\\Local\\Temp\\ipykernel_13448\\724766185.py:13: FutureWarning: The frame.append method is deprecated and will be removed from pandas in a future version. Use pandas.concat instead.\n",
      "  dfScenes = dfScenes.append({'location':strFilePath, 'geometry': box(bounds[0], bounds[1], bounds[2], bounds[3])},ignore_index=True)\n",
      "C:\\Users\\alexsaunders\\AppData\\Local\\Temp\\ipykernel_13448\\724766185.py:13: FutureWarning: The frame.append method is deprecated and will be removed from pandas in a future version. Use pandas.concat instead.\n",
      "  dfScenes = dfScenes.append({'location':strFilePath, 'geometry': box(bounds[0], bounds[1], bounds[2], bounds[3])},ignore_index=True)\n",
      "C:\\Users\\alexsaunders\\AppData\\Local\\Temp\\ipykernel_13448\\724766185.py:13: FutureWarning: The frame.append method is deprecated and will be removed from pandas in a future version. Use pandas.concat instead.\n",
      "  dfScenes = dfScenes.append({'location':strFilePath, 'geometry': box(bounds[0], bounds[1], bounds[2], bounds[3])},ignore_index=True)\n"
     ]
    },
    {
     "name": "stdout",
     "output_type": "stream",
     "text": [
      "processing file 398/936\r"
     ]
    },
    {
     "name": "stderr",
     "output_type": "stream",
     "text": [
      "C:\\Users\\alexsaunders\\AppData\\Local\\Temp\\ipykernel_13448\\724766185.py:13: FutureWarning: The frame.append method is deprecated and will be removed from pandas in a future version. Use pandas.concat instead.\n",
      "  dfScenes = dfScenes.append({'location':strFilePath, 'geometry': box(bounds[0], bounds[1], bounds[2], bounds[3])},ignore_index=True)\n",
      "C:\\Users\\alexsaunders\\AppData\\Local\\Temp\\ipykernel_13448\\724766185.py:13: FutureWarning: The frame.append method is deprecated and will be removed from pandas in a future version. Use pandas.concat instead.\n",
      "  dfScenes = dfScenes.append({'location':strFilePath, 'geometry': box(bounds[0], bounds[1], bounds[2], bounds[3])},ignore_index=True)\n",
      "C:\\Users\\alexsaunders\\AppData\\Local\\Temp\\ipykernel_13448\\724766185.py:13: FutureWarning: The frame.append method is deprecated and will be removed from pandas in a future version. Use pandas.concat instead.\n",
      "  dfScenes = dfScenes.append({'location':strFilePath, 'geometry': box(bounds[0], bounds[1], bounds[2], bounds[3])},ignore_index=True)\n",
      "C:\\Users\\alexsaunders\\AppData\\Local\\Temp\\ipykernel_13448\\724766185.py:13: FutureWarning: The frame.append method is deprecated and will be removed from pandas in a future version. Use pandas.concat instead.\n",
      "  dfScenes = dfScenes.append({'location':strFilePath, 'geometry': box(bounds[0], bounds[1], bounds[2], bounds[3])},ignore_index=True)\n",
      "C:\\Users\\alexsaunders\\AppData\\Local\\Temp\\ipykernel_13448\\724766185.py:13: FutureWarning: The frame.append method is deprecated and will be removed from pandas in a future version. Use pandas.concat instead.\n",
      "  dfScenes = dfScenes.append({'location':strFilePath, 'geometry': box(bounds[0], bounds[1], bounds[2], bounds[3])},ignore_index=True)\n"
     ]
    },
    {
     "name": "stdout",
     "output_type": "stream",
     "text": [
      "processing file 403/936\r"
     ]
    },
    {
     "name": "stderr",
     "output_type": "stream",
     "text": [
      "C:\\Users\\alexsaunders\\AppData\\Local\\Temp\\ipykernel_13448\\724766185.py:13: FutureWarning: The frame.append method is deprecated and will be removed from pandas in a future version. Use pandas.concat instead.\n",
      "  dfScenes = dfScenes.append({'location':strFilePath, 'geometry': box(bounds[0], bounds[1], bounds[2], bounds[3])},ignore_index=True)\n",
      "C:\\Users\\alexsaunders\\AppData\\Local\\Temp\\ipykernel_13448\\724766185.py:13: FutureWarning: The frame.append method is deprecated and will be removed from pandas in a future version. Use pandas.concat instead.\n",
      "  dfScenes = dfScenes.append({'location':strFilePath, 'geometry': box(bounds[0], bounds[1], bounds[2], bounds[3])},ignore_index=True)\n",
      "C:\\Users\\alexsaunders\\AppData\\Local\\Temp\\ipykernel_13448\\724766185.py:13: FutureWarning: The frame.append method is deprecated and will be removed from pandas in a future version. Use pandas.concat instead.\n",
      "  dfScenes = dfScenes.append({'location':strFilePath, 'geometry': box(bounds[0], bounds[1], bounds[2], bounds[3])},ignore_index=True)\n",
      "C:\\Users\\alexsaunders\\AppData\\Local\\Temp\\ipykernel_13448\\724766185.py:13: FutureWarning: The frame.append method is deprecated and will be removed from pandas in a future version. Use pandas.concat instead.\n",
      "  dfScenes = dfScenes.append({'location':strFilePath, 'geometry': box(bounds[0], bounds[1], bounds[2], bounds[3])},ignore_index=True)\n",
      "C:\\Users\\alexsaunders\\AppData\\Local\\Temp\\ipykernel_13448\\724766185.py:13: FutureWarning: The frame.append method is deprecated and will be removed from pandas in a future version. Use pandas.concat instead.\n",
      "  dfScenes = dfScenes.append({'location':strFilePath, 'geometry': box(bounds[0], bounds[1], bounds[2], bounds[3])},ignore_index=True)\n"
     ]
    },
    {
     "name": "stdout",
     "output_type": "stream",
     "text": [
      "processing file 408/936\r"
     ]
    },
    {
     "name": "stderr",
     "output_type": "stream",
     "text": [
      "C:\\Users\\alexsaunders\\AppData\\Local\\Temp\\ipykernel_13448\\724766185.py:13: FutureWarning: The frame.append method is deprecated and will be removed from pandas in a future version. Use pandas.concat instead.\n",
      "  dfScenes = dfScenes.append({'location':strFilePath, 'geometry': box(bounds[0], bounds[1], bounds[2], bounds[3])},ignore_index=True)\n",
      "C:\\Users\\alexsaunders\\AppData\\Local\\Temp\\ipykernel_13448\\724766185.py:13: FutureWarning: The frame.append method is deprecated and will be removed from pandas in a future version. Use pandas.concat instead.\n",
      "  dfScenes = dfScenes.append({'location':strFilePath, 'geometry': box(bounds[0], bounds[1], bounds[2], bounds[3])},ignore_index=True)\n",
      "C:\\Users\\alexsaunders\\AppData\\Local\\Temp\\ipykernel_13448\\724766185.py:13: FutureWarning: The frame.append method is deprecated and will be removed from pandas in a future version. Use pandas.concat instead.\n",
      "  dfScenes = dfScenes.append({'location':strFilePath, 'geometry': box(bounds[0], bounds[1], bounds[2], bounds[3])},ignore_index=True)\n",
      "C:\\Users\\alexsaunders\\AppData\\Local\\Temp\\ipykernel_13448\\724766185.py:13: FutureWarning: The frame.append method is deprecated and will be removed from pandas in a future version. Use pandas.concat instead.\n",
      "  dfScenes = dfScenes.append({'location':strFilePath, 'geometry': box(bounds[0], bounds[1], bounds[2], bounds[3])},ignore_index=True)\n",
      "C:\\Users\\alexsaunders\\AppData\\Local\\Temp\\ipykernel_13448\\724766185.py:13: FutureWarning: The frame.append method is deprecated and will be removed from pandas in a future version. Use pandas.concat instead.\n",
      "  dfScenes = dfScenes.append({'location':strFilePath, 'geometry': box(bounds[0], bounds[1], bounds[2], bounds[3])},ignore_index=True)\n"
     ]
    },
    {
     "name": "stdout",
     "output_type": "stream",
     "text": [
      "processing file 413/936\r"
     ]
    },
    {
     "name": "stderr",
     "output_type": "stream",
     "text": [
      "C:\\Users\\alexsaunders\\AppData\\Local\\Temp\\ipykernel_13448\\724766185.py:13: FutureWarning: The frame.append method is deprecated and will be removed from pandas in a future version. Use pandas.concat instead.\n",
      "  dfScenes = dfScenes.append({'location':strFilePath, 'geometry': box(bounds[0], bounds[1], bounds[2], bounds[3])},ignore_index=True)\n",
      "C:\\Users\\alexsaunders\\AppData\\Local\\Temp\\ipykernel_13448\\724766185.py:13: FutureWarning: The frame.append method is deprecated and will be removed from pandas in a future version. Use pandas.concat instead.\n",
      "  dfScenes = dfScenes.append({'location':strFilePath, 'geometry': box(bounds[0], bounds[1], bounds[2], bounds[3])},ignore_index=True)\n",
      "C:\\Users\\alexsaunders\\AppData\\Local\\Temp\\ipykernel_13448\\724766185.py:13: FutureWarning: The frame.append method is deprecated and will be removed from pandas in a future version. Use pandas.concat instead.\n",
      "  dfScenes = dfScenes.append({'location':strFilePath, 'geometry': box(bounds[0], bounds[1], bounds[2], bounds[3])},ignore_index=True)\n",
      "C:\\Users\\alexsaunders\\AppData\\Local\\Temp\\ipykernel_13448\\724766185.py:13: FutureWarning: The frame.append method is deprecated and will be removed from pandas in a future version. Use pandas.concat instead.\n",
      "  dfScenes = dfScenes.append({'location':strFilePath, 'geometry': box(bounds[0], bounds[1], bounds[2], bounds[3])},ignore_index=True)\n",
      "C:\\Users\\alexsaunders\\AppData\\Local\\Temp\\ipykernel_13448\\724766185.py:13: FutureWarning: The frame.append method is deprecated and will be removed from pandas in a future version. Use pandas.concat instead.\n",
      "  dfScenes = dfScenes.append({'location':strFilePath, 'geometry': box(bounds[0], bounds[1], bounds[2], bounds[3])},ignore_index=True)\n"
     ]
    },
    {
     "name": "stdout",
     "output_type": "stream",
     "text": [
      "processing file 418/936\r"
     ]
    },
    {
     "name": "stderr",
     "output_type": "stream",
     "text": [
      "C:\\Users\\alexsaunders\\AppData\\Local\\Temp\\ipykernel_13448\\724766185.py:13: FutureWarning: The frame.append method is deprecated and will be removed from pandas in a future version. Use pandas.concat instead.\n",
      "  dfScenes = dfScenes.append({'location':strFilePath, 'geometry': box(bounds[0], bounds[1], bounds[2], bounds[3])},ignore_index=True)\n",
      "C:\\Users\\alexsaunders\\AppData\\Local\\Temp\\ipykernel_13448\\724766185.py:13: FutureWarning: The frame.append method is deprecated and will be removed from pandas in a future version. Use pandas.concat instead.\n",
      "  dfScenes = dfScenes.append({'location':strFilePath, 'geometry': box(bounds[0], bounds[1], bounds[2], bounds[3])},ignore_index=True)\n",
      "C:\\Users\\alexsaunders\\AppData\\Local\\Temp\\ipykernel_13448\\724766185.py:13: FutureWarning: The frame.append method is deprecated and will be removed from pandas in a future version. Use pandas.concat instead.\n",
      "  dfScenes = dfScenes.append({'location':strFilePath, 'geometry': box(bounds[0], bounds[1], bounds[2], bounds[3])},ignore_index=True)\n",
      "C:\\Users\\alexsaunders\\AppData\\Local\\Temp\\ipykernel_13448\\724766185.py:13: FutureWarning: The frame.append method is deprecated and will be removed from pandas in a future version. Use pandas.concat instead.\n",
      "  dfScenes = dfScenes.append({'location':strFilePath, 'geometry': box(bounds[0], bounds[1], bounds[2], bounds[3])},ignore_index=True)\n",
      "C:\\Users\\alexsaunders\\AppData\\Local\\Temp\\ipykernel_13448\\724766185.py:13: FutureWarning: The frame.append method is deprecated and will be removed from pandas in a future version. Use pandas.concat instead.\n",
      "  dfScenes = dfScenes.append({'location':strFilePath, 'geometry': box(bounds[0], bounds[1], bounds[2], bounds[3])},ignore_index=True)\n",
      "C:\\Users\\alexsaunders\\AppData\\Local\\Temp\\ipykernel_13448\\724766185.py:13: FutureWarning: The frame.append method is deprecated and will be removed from pandas in a future version. Use pandas.concat instead.\n",
      "  dfScenes = dfScenes.append({'location':strFilePath, 'geometry': box(bounds[0], bounds[1], bounds[2], bounds[3])},ignore_index=True)\n"
     ]
    },
    {
     "name": "stdout",
     "output_type": "stream",
     "text": [
      "processing file 424/936\r"
     ]
    },
    {
     "name": "stderr",
     "output_type": "stream",
     "text": [
      "C:\\Users\\alexsaunders\\AppData\\Local\\Temp\\ipykernel_13448\\724766185.py:13: FutureWarning: The frame.append method is deprecated and will be removed from pandas in a future version. Use pandas.concat instead.\n",
      "  dfScenes = dfScenes.append({'location':strFilePath, 'geometry': box(bounds[0], bounds[1], bounds[2], bounds[3])},ignore_index=True)\n",
      "C:\\Users\\alexsaunders\\AppData\\Local\\Temp\\ipykernel_13448\\724766185.py:13: FutureWarning: The frame.append method is deprecated and will be removed from pandas in a future version. Use pandas.concat instead.\n",
      "  dfScenes = dfScenes.append({'location':strFilePath, 'geometry': box(bounds[0], bounds[1], bounds[2], bounds[3])},ignore_index=True)\n",
      "C:\\Users\\alexsaunders\\AppData\\Local\\Temp\\ipykernel_13448\\724766185.py:13: FutureWarning: The frame.append method is deprecated and will be removed from pandas in a future version. Use pandas.concat instead.\n",
      "  dfScenes = dfScenes.append({'location':strFilePath, 'geometry': box(bounds[0], bounds[1], bounds[2], bounds[3])},ignore_index=True)\n",
      "C:\\Users\\alexsaunders\\AppData\\Local\\Temp\\ipykernel_13448\\724766185.py:13: FutureWarning: The frame.append method is deprecated and will be removed from pandas in a future version. Use pandas.concat instead.\n",
      "  dfScenes = dfScenes.append({'location':strFilePath, 'geometry': box(bounds[0], bounds[1], bounds[2], bounds[3])},ignore_index=True)\n",
      "C:\\Users\\alexsaunders\\AppData\\Local\\Temp\\ipykernel_13448\\724766185.py:13: FutureWarning: The frame.append method is deprecated and will be removed from pandas in a future version. Use pandas.concat instead.\n",
      "  dfScenes = dfScenes.append({'location':strFilePath, 'geometry': box(bounds[0], bounds[1], bounds[2], bounds[3])},ignore_index=True)\n",
      "C:\\Users\\alexsaunders\\AppData\\Local\\Temp\\ipykernel_13448\\724766185.py:13: FutureWarning: The frame.append method is deprecated and will be removed from pandas in a future version. Use pandas.concat instead.\n",
      "  dfScenes = dfScenes.append({'location':strFilePath, 'geometry': box(bounds[0], bounds[1], bounds[2], bounds[3])},ignore_index=True)\n"
     ]
    },
    {
     "name": "stdout",
     "output_type": "stream",
     "text": [
      "processing file 430/936\r"
     ]
    },
    {
     "name": "stderr",
     "output_type": "stream",
     "text": [
      "C:\\Users\\alexsaunders\\AppData\\Local\\Temp\\ipykernel_13448\\724766185.py:13: FutureWarning: The frame.append method is deprecated and will be removed from pandas in a future version. Use pandas.concat instead.\n",
      "  dfScenes = dfScenes.append({'location':strFilePath, 'geometry': box(bounds[0], bounds[1], bounds[2], bounds[3])},ignore_index=True)\n",
      "C:\\Users\\alexsaunders\\AppData\\Local\\Temp\\ipykernel_13448\\724766185.py:13: FutureWarning: The frame.append method is deprecated and will be removed from pandas in a future version. Use pandas.concat instead.\n",
      "  dfScenes = dfScenes.append({'location':strFilePath, 'geometry': box(bounds[0], bounds[1], bounds[2], bounds[3])},ignore_index=True)\n",
      "C:\\Users\\alexsaunders\\AppData\\Local\\Temp\\ipykernel_13448\\724766185.py:13: FutureWarning: The frame.append method is deprecated and will be removed from pandas in a future version. Use pandas.concat instead.\n",
      "  dfScenes = dfScenes.append({'location':strFilePath, 'geometry': box(bounds[0], bounds[1], bounds[2], bounds[3])},ignore_index=True)\n",
      "C:\\Users\\alexsaunders\\AppData\\Local\\Temp\\ipykernel_13448\\724766185.py:13: FutureWarning: The frame.append method is deprecated and will be removed from pandas in a future version. Use pandas.concat instead.\n",
      "  dfScenes = dfScenes.append({'location':strFilePath, 'geometry': box(bounds[0], bounds[1], bounds[2], bounds[3])},ignore_index=True)\n",
      "C:\\Users\\alexsaunders\\AppData\\Local\\Temp\\ipykernel_13448\\724766185.py:13: FutureWarning: The frame.append method is deprecated and will be removed from pandas in a future version. Use pandas.concat instead.\n",
      "  dfScenes = dfScenes.append({'location':strFilePath, 'geometry': box(bounds[0], bounds[1], bounds[2], bounds[3])},ignore_index=True)\n",
      "C:\\Users\\alexsaunders\\AppData\\Local\\Temp\\ipykernel_13448\\724766185.py:13: FutureWarning: The frame.append method is deprecated and will be removed from pandas in a future version. Use pandas.concat instead.\n",
      "  dfScenes = dfScenes.append({'location':strFilePath, 'geometry': box(bounds[0], bounds[1], bounds[2], bounds[3])},ignore_index=True)\n"
     ]
    },
    {
     "name": "stdout",
     "output_type": "stream",
     "text": [
      "processing file 436/936\r"
     ]
    },
    {
     "name": "stderr",
     "output_type": "stream",
     "text": [
      "C:\\Users\\alexsaunders\\AppData\\Local\\Temp\\ipykernel_13448\\724766185.py:13: FutureWarning: The frame.append method is deprecated and will be removed from pandas in a future version. Use pandas.concat instead.\n",
      "  dfScenes = dfScenes.append({'location':strFilePath, 'geometry': box(bounds[0], bounds[1], bounds[2], bounds[3])},ignore_index=True)\n",
      "C:\\Users\\alexsaunders\\AppData\\Local\\Temp\\ipykernel_13448\\724766185.py:13: FutureWarning: The frame.append method is deprecated and will be removed from pandas in a future version. Use pandas.concat instead.\n",
      "  dfScenes = dfScenes.append({'location':strFilePath, 'geometry': box(bounds[0], bounds[1], bounds[2], bounds[3])},ignore_index=True)\n",
      "C:\\Users\\alexsaunders\\AppData\\Local\\Temp\\ipykernel_13448\\724766185.py:13: FutureWarning: The frame.append method is deprecated and will be removed from pandas in a future version. Use pandas.concat instead.\n",
      "  dfScenes = dfScenes.append({'location':strFilePath, 'geometry': box(bounds[0], bounds[1], bounds[2], bounds[3])},ignore_index=True)\n",
      "C:\\Users\\alexsaunders\\AppData\\Local\\Temp\\ipykernel_13448\\724766185.py:13: FutureWarning: The frame.append method is deprecated and will be removed from pandas in a future version. Use pandas.concat instead.\n",
      "  dfScenes = dfScenes.append({'location':strFilePath, 'geometry': box(bounds[0], bounds[1], bounds[2], bounds[3])},ignore_index=True)\n",
      "C:\\Users\\alexsaunders\\AppData\\Local\\Temp\\ipykernel_13448\\724766185.py:13: FutureWarning: The frame.append method is deprecated and will be removed from pandas in a future version. Use pandas.concat instead.\n",
      "  dfScenes = dfScenes.append({'location':strFilePath, 'geometry': box(bounds[0], bounds[1], bounds[2], bounds[3])},ignore_index=True)\n"
     ]
    },
    {
     "name": "stdout",
     "output_type": "stream",
     "text": [
      "processing file 441/936\r"
     ]
    },
    {
     "name": "stderr",
     "output_type": "stream",
     "text": [
      "C:\\Users\\alexsaunders\\AppData\\Local\\Temp\\ipykernel_13448\\724766185.py:13: FutureWarning: The frame.append method is deprecated and will be removed from pandas in a future version. Use pandas.concat instead.\n",
      "  dfScenes = dfScenes.append({'location':strFilePath, 'geometry': box(bounds[0], bounds[1], bounds[2], bounds[3])},ignore_index=True)\n",
      "C:\\Users\\alexsaunders\\AppData\\Local\\Temp\\ipykernel_13448\\724766185.py:13: FutureWarning: The frame.append method is deprecated and will be removed from pandas in a future version. Use pandas.concat instead.\n",
      "  dfScenes = dfScenes.append({'location':strFilePath, 'geometry': box(bounds[0], bounds[1], bounds[2], bounds[3])},ignore_index=True)\n",
      "C:\\Users\\alexsaunders\\AppData\\Local\\Temp\\ipykernel_13448\\724766185.py:13: FutureWarning: The frame.append method is deprecated and will be removed from pandas in a future version. Use pandas.concat instead.\n",
      "  dfScenes = dfScenes.append({'location':strFilePath, 'geometry': box(bounds[0], bounds[1], bounds[2], bounds[3])},ignore_index=True)\n",
      "C:\\Users\\alexsaunders\\AppData\\Local\\Temp\\ipykernel_13448\\724766185.py:13: FutureWarning: The frame.append method is deprecated and will be removed from pandas in a future version. Use pandas.concat instead.\n",
      "  dfScenes = dfScenes.append({'location':strFilePath, 'geometry': box(bounds[0], bounds[1], bounds[2], bounds[3])},ignore_index=True)\n",
      "C:\\Users\\alexsaunders\\AppData\\Local\\Temp\\ipykernel_13448\\724766185.py:13: FutureWarning: The frame.append method is deprecated and will be removed from pandas in a future version. Use pandas.concat instead.\n",
      "  dfScenes = dfScenes.append({'location':strFilePath, 'geometry': box(bounds[0], bounds[1], bounds[2], bounds[3])},ignore_index=True)\n",
      "C:\\Users\\alexsaunders\\AppData\\Local\\Temp\\ipykernel_13448\\724766185.py:13: FutureWarning: The frame.append method is deprecated and will be removed from pandas in a future version. Use pandas.concat instead.\n",
      "  dfScenes = dfScenes.append({'location':strFilePath, 'geometry': box(bounds[0], bounds[1], bounds[2], bounds[3])},ignore_index=True)\n"
     ]
    },
    {
     "name": "stdout",
     "output_type": "stream",
     "text": [
      "processing file 447/936\r"
     ]
    },
    {
     "name": "stderr",
     "output_type": "stream",
     "text": [
      "C:\\Users\\alexsaunders\\AppData\\Local\\Temp\\ipykernel_13448\\724766185.py:13: FutureWarning: The frame.append method is deprecated and will be removed from pandas in a future version. Use pandas.concat instead.\n",
      "  dfScenes = dfScenes.append({'location':strFilePath, 'geometry': box(bounds[0], bounds[1], bounds[2], bounds[3])},ignore_index=True)\n",
      "C:\\Users\\alexsaunders\\AppData\\Local\\Temp\\ipykernel_13448\\724766185.py:13: FutureWarning: The frame.append method is deprecated and will be removed from pandas in a future version. Use pandas.concat instead.\n",
      "  dfScenes = dfScenes.append({'location':strFilePath, 'geometry': box(bounds[0], bounds[1], bounds[2], bounds[3])},ignore_index=True)\n",
      "C:\\Users\\alexsaunders\\AppData\\Local\\Temp\\ipykernel_13448\\724766185.py:13: FutureWarning: The frame.append method is deprecated and will be removed from pandas in a future version. Use pandas.concat instead.\n",
      "  dfScenes = dfScenes.append({'location':strFilePath, 'geometry': box(bounds[0], bounds[1], bounds[2], bounds[3])},ignore_index=True)\n",
      "C:\\Users\\alexsaunders\\AppData\\Local\\Temp\\ipykernel_13448\\724766185.py:13: FutureWarning: The frame.append method is deprecated and will be removed from pandas in a future version. Use pandas.concat instead.\n",
      "  dfScenes = dfScenes.append({'location':strFilePath, 'geometry': box(bounds[0], bounds[1], bounds[2], bounds[3])},ignore_index=True)\n",
      "C:\\Users\\alexsaunders\\AppData\\Local\\Temp\\ipykernel_13448\\724766185.py:13: FutureWarning: The frame.append method is deprecated and will be removed from pandas in a future version. Use pandas.concat instead.\n",
      "  dfScenes = dfScenes.append({'location':strFilePath, 'geometry': box(bounds[0], bounds[1], bounds[2], bounds[3])},ignore_index=True)\n"
     ]
    },
    {
     "name": "stdout",
     "output_type": "stream",
     "text": [
      "processing file 452/936\r"
     ]
    },
    {
     "name": "stderr",
     "output_type": "stream",
     "text": [
      "C:\\Users\\alexsaunders\\AppData\\Local\\Temp\\ipykernel_13448\\724766185.py:13: FutureWarning: The frame.append method is deprecated and will be removed from pandas in a future version. Use pandas.concat instead.\n",
      "  dfScenes = dfScenes.append({'location':strFilePath, 'geometry': box(bounds[0], bounds[1], bounds[2], bounds[3])},ignore_index=True)\n",
      "C:\\Users\\alexsaunders\\AppData\\Local\\Temp\\ipykernel_13448\\724766185.py:13: FutureWarning: The frame.append method is deprecated and will be removed from pandas in a future version. Use pandas.concat instead.\n",
      "  dfScenes = dfScenes.append({'location':strFilePath, 'geometry': box(bounds[0], bounds[1], bounds[2], bounds[3])},ignore_index=True)\n",
      "C:\\Users\\alexsaunders\\AppData\\Local\\Temp\\ipykernel_13448\\724766185.py:13: FutureWarning: The frame.append method is deprecated and will be removed from pandas in a future version. Use pandas.concat instead.\n",
      "  dfScenes = dfScenes.append({'location':strFilePath, 'geometry': box(bounds[0], bounds[1], bounds[2], bounds[3])},ignore_index=True)\n",
      "C:\\Users\\alexsaunders\\AppData\\Local\\Temp\\ipykernel_13448\\724766185.py:13: FutureWarning: The frame.append method is deprecated and will be removed from pandas in a future version. Use pandas.concat instead.\n",
      "  dfScenes = dfScenes.append({'location':strFilePath, 'geometry': box(bounds[0], bounds[1], bounds[2], bounds[3])},ignore_index=True)\n",
      "C:\\Users\\alexsaunders\\AppData\\Local\\Temp\\ipykernel_13448\\724766185.py:13: FutureWarning: The frame.append method is deprecated and will be removed from pandas in a future version. Use pandas.concat instead.\n",
      "  dfScenes = dfScenes.append({'location':strFilePath, 'geometry': box(bounds[0], bounds[1], bounds[2], bounds[3])},ignore_index=True)\n",
      "C:\\Users\\alexsaunders\\AppData\\Local\\Temp\\ipykernel_13448\\724766185.py:13: FutureWarning: The frame.append method is deprecated and will be removed from pandas in a future version. Use pandas.concat instead.\n",
      "  dfScenes = dfScenes.append({'location':strFilePath, 'geometry': box(bounds[0], bounds[1], bounds[2], bounds[3])},ignore_index=True)\n"
     ]
    },
    {
     "name": "stdout",
     "output_type": "stream",
     "text": [
      "processing file 458/936\r"
     ]
    },
    {
     "name": "stderr",
     "output_type": "stream",
     "text": [
      "C:\\Users\\alexsaunders\\AppData\\Local\\Temp\\ipykernel_13448\\724766185.py:13: FutureWarning: The frame.append method is deprecated and will be removed from pandas in a future version. Use pandas.concat instead.\n",
      "  dfScenes = dfScenes.append({'location':strFilePath, 'geometry': box(bounds[0], bounds[1], bounds[2], bounds[3])},ignore_index=True)\n",
      "C:\\Users\\alexsaunders\\AppData\\Local\\Temp\\ipykernel_13448\\724766185.py:13: FutureWarning: The frame.append method is deprecated and will be removed from pandas in a future version. Use pandas.concat instead.\n",
      "  dfScenes = dfScenes.append({'location':strFilePath, 'geometry': box(bounds[0], bounds[1], bounds[2], bounds[3])},ignore_index=True)\n",
      "C:\\Users\\alexsaunders\\AppData\\Local\\Temp\\ipykernel_13448\\724766185.py:13: FutureWarning: The frame.append method is deprecated and will be removed from pandas in a future version. Use pandas.concat instead.\n",
      "  dfScenes = dfScenes.append({'location':strFilePath, 'geometry': box(bounds[0], bounds[1], bounds[2], bounds[3])},ignore_index=True)\n",
      "C:\\Users\\alexsaunders\\AppData\\Local\\Temp\\ipykernel_13448\\724766185.py:13: FutureWarning: The frame.append method is deprecated and will be removed from pandas in a future version. Use pandas.concat instead.\n",
      "  dfScenes = dfScenes.append({'location':strFilePath, 'geometry': box(bounds[0], bounds[1], bounds[2], bounds[3])},ignore_index=True)\n",
      "C:\\Users\\alexsaunders\\AppData\\Local\\Temp\\ipykernel_13448\\724766185.py:13: FutureWarning: The frame.append method is deprecated and will be removed from pandas in a future version. Use pandas.concat instead.\n",
      "  dfScenes = dfScenes.append({'location':strFilePath, 'geometry': box(bounds[0], bounds[1], bounds[2], bounds[3])},ignore_index=True)\n"
     ]
    },
    {
     "name": "stdout",
     "output_type": "stream",
     "text": [
      "processing file 463/936\r"
     ]
    },
    {
     "name": "stderr",
     "output_type": "stream",
     "text": [
      "C:\\Users\\alexsaunders\\AppData\\Local\\Temp\\ipykernel_13448\\724766185.py:13: FutureWarning: The frame.append method is deprecated and will be removed from pandas in a future version. Use pandas.concat instead.\n",
      "  dfScenes = dfScenes.append({'location':strFilePath, 'geometry': box(bounds[0], bounds[1], bounds[2], bounds[3])},ignore_index=True)\n",
      "C:\\Users\\alexsaunders\\AppData\\Local\\Temp\\ipykernel_13448\\724766185.py:13: FutureWarning: The frame.append method is deprecated and will be removed from pandas in a future version. Use pandas.concat instead.\n",
      "  dfScenes = dfScenes.append({'location':strFilePath, 'geometry': box(bounds[0], bounds[1], bounds[2], bounds[3])},ignore_index=True)\n",
      "C:\\Users\\alexsaunders\\AppData\\Local\\Temp\\ipykernel_13448\\724766185.py:13: FutureWarning: The frame.append method is deprecated and will be removed from pandas in a future version. Use pandas.concat instead.\n",
      "  dfScenes = dfScenes.append({'location':strFilePath, 'geometry': box(bounds[0], bounds[1], bounds[2], bounds[3])},ignore_index=True)\n",
      "C:\\Users\\alexsaunders\\AppData\\Local\\Temp\\ipykernel_13448\\724766185.py:13: FutureWarning: The frame.append method is deprecated and will be removed from pandas in a future version. Use pandas.concat instead.\n",
      "  dfScenes = dfScenes.append({'location':strFilePath, 'geometry': box(bounds[0], bounds[1], bounds[2], bounds[3])},ignore_index=True)\n",
      "C:\\Users\\alexsaunders\\AppData\\Local\\Temp\\ipykernel_13448\\724766185.py:13: FutureWarning: The frame.append method is deprecated and will be removed from pandas in a future version. Use pandas.concat instead.\n",
      "  dfScenes = dfScenes.append({'location':strFilePath, 'geometry': box(bounds[0], bounds[1], bounds[2], bounds[3])},ignore_index=True)\n"
     ]
    },
    {
     "name": "stdout",
     "output_type": "stream",
     "text": [
      "processing file 468/936\r"
     ]
    },
    {
     "name": "stderr",
     "output_type": "stream",
     "text": [
      "C:\\Users\\alexsaunders\\AppData\\Local\\Temp\\ipykernel_13448\\724766185.py:13: FutureWarning: The frame.append method is deprecated and will be removed from pandas in a future version. Use pandas.concat instead.\n",
      "  dfScenes = dfScenes.append({'location':strFilePath, 'geometry': box(bounds[0], bounds[1], bounds[2], bounds[3])},ignore_index=True)\n",
      "C:\\Users\\alexsaunders\\AppData\\Local\\Temp\\ipykernel_13448\\724766185.py:13: FutureWarning: The frame.append method is deprecated and will be removed from pandas in a future version. Use pandas.concat instead.\n",
      "  dfScenes = dfScenes.append({'location':strFilePath, 'geometry': box(bounds[0], bounds[1], bounds[2], bounds[3])},ignore_index=True)\n",
      "C:\\Users\\alexsaunders\\AppData\\Local\\Temp\\ipykernel_13448\\724766185.py:13: FutureWarning: The frame.append method is deprecated and will be removed from pandas in a future version. Use pandas.concat instead.\n",
      "  dfScenes = dfScenes.append({'location':strFilePath, 'geometry': box(bounds[0], bounds[1], bounds[2], bounds[3])},ignore_index=True)\n",
      "C:\\Users\\alexsaunders\\AppData\\Local\\Temp\\ipykernel_13448\\724766185.py:13: FutureWarning: The frame.append method is deprecated and will be removed from pandas in a future version. Use pandas.concat instead.\n",
      "  dfScenes = dfScenes.append({'location':strFilePath, 'geometry': box(bounds[0], bounds[1], bounds[2], bounds[3])},ignore_index=True)\n"
     ]
    },
    {
     "name": "stdout",
     "output_type": "stream",
     "text": [
      "processing file 472/936\r"
     ]
    },
    {
     "name": "stderr",
     "output_type": "stream",
     "text": [
      "C:\\Users\\alexsaunders\\AppData\\Local\\Temp\\ipykernel_13448\\724766185.py:13: FutureWarning: The frame.append method is deprecated and will be removed from pandas in a future version. Use pandas.concat instead.\n",
      "  dfScenes = dfScenes.append({'location':strFilePath, 'geometry': box(bounds[0], bounds[1], bounds[2], bounds[3])},ignore_index=True)\n",
      "C:\\Users\\alexsaunders\\AppData\\Local\\Temp\\ipykernel_13448\\724766185.py:13: FutureWarning: The frame.append method is deprecated and will be removed from pandas in a future version. Use pandas.concat instead.\n",
      "  dfScenes = dfScenes.append({'location':strFilePath, 'geometry': box(bounds[0], bounds[1], bounds[2], bounds[3])},ignore_index=True)\n",
      "C:\\Users\\alexsaunders\\AppData\\Local\\Temp\\ipykernel_13448\\724766185.py:13: FutureWarning: The frame.append method is deprecated and will be removed from pandas in a future version. Use pandas.concat instead.\n",
      "  dfScenes = dfScenes.append({'location':strFilePath, 'geometry': box(bounds[0], bounds[1], bounds[2], bounds[3])},ignore_index=True)\n",
      "C:\\Users\\alexsaunders\\AppData\\Local\\Temp\\ipykernel_13448\\724766185.py:13: FutureWarning: The frame.append method is deprecated and will be removed from pandas in a future version. Use pandas.concat instead.\n",
      "  dfScenes = dfScenes.append({'location':strFilePath, 'geometry': box(bounds[0], bounds[1], bounds[2], bounds[3])},ignore_index=True)\n",
      "C:\\Users\\alexsaunders\\AppData\\Local\\Temp\\ipykernel_13448\\724766185.py:13: FutureWarning: The frame.append method is deprecated and will be removed from pandas in a future version. Use pandas.concat instead.\n",
      "  dfScenes = dfScenes.append({'location':strFilePath, 'geometry': box(bounds[0], bounds[1], bounds[2], bounds[3])},ignore_index=True)\n"
     ]
    },
    {
     "name": "stdout",
     "output_type": "stream",
     "text": [
      "processing file 477/936\r"
     ]
    },
    {
     "name": "stderr",
     "output_type": "stream",
     "text": [
      "C:\\Users\\alexsaunders\\AppData\\Local\\Temp\\ipykernel_13448\\724766185.py:13: FutureWarning: The frame.append method is deprecated and will be removed from pandas in a future version. Use pandas.concat instead.\n",
      "  dfScenes = dfScenes.append({'location':strFilePath, 'geometry': box(bounds[0], bounds[1], bounds[2], bounds[3])},ignore_index=True)\n",
      "C:\\Users\\alexsaunders\\AppData\\Local\\Temp\\ipykernel_13448\\724766185.py:13: FutureWarning: The frame.append method is deprecated and will be removed from pandas in a future version. Use pandas.concat instead.\n",
      "  dfScenes = dfScenes.append({'location':strFilePath, 'geometry': box(bounds[0], bounds[1], bounds[2], bounds[3])},ignore_index=True)\n",
      "C:\\Users\\alexsaunders\\AppData\\Local\\Temp\\ipykernel_13448\\724766185.py:13: FutureWarning: The frame.append method is deprecated and will be removed from pandas in a future version. Use pandas.concat instead.\n",
      "  dfScenes = dfScenes.append({'location':strFilePath, 'geometry': box(bounds[0], bounds[1], bounds[2], bounds[3])},ignore_index=True)\n",
      "C:\\Users\\alexsaunders\\AppData\\Local\\Temp\\ipykernel_13448\\724766185.py:13: FutureWarning: The frame.append method is deprecated and will be removed from pandas in a future version. Use pandas.concat instead.\n",
      "  dfScenes = dfScenes.append({'location':strFilePath, 'geometry': box(bounds[0], bounds[1], bounds[2], bounds[3])},ignore_index=True)\n",
      "C:\\Users\\alexsaunders\\AppData\\Local\\Temp\\ipykernel_13448\\724766185.py:13: FutureWarning: The frame.append method is deprecated and will be removed from pandas in a future version. Use pandas.concat instead.\n",
      "  dfScenes = dfScenes.append({'location':strFilePath, 'geometry': box(bounds[0], bounds[1], bounds[2], bounds[3])},ignore_index=True)\n",
      "C:\\Users\\alexsaunders\\AppData\\Local\\Temp\\ipykernel_13448\\724766185.py:13: FutureWarning: The frame.append method is deprecated and will be removed from pandas in a future version. Use pandas.concat instead.\n",
      "  dfScenes = dfScenes.append({'location':strFilePath, 'geometry': box(bounds[0], bounds[1], bounds[2], bounds[3])},ignore_index=True)\n"
     ]
    },
    {
     "name": "stdout",
     "output_type": "stream",
     "text": [
      "processing file 483/936\r"
     ]
    },
    {
     "name": "stderr",
     "output_type": "stream",
     "text": [
      "C:\\Users\\alexsaunders\\AppData\\Local\\Temp\\ipykernel_13448\\724766185.py:13: FutureWarning: The frame.append method is deprecated and will be removed from pandas in a future version. Use pandas.concat instead.\n",
      "  dfScenes = dfScenes.append({'location':strFilePath, 'geometry': box(bounds[0], bounds[1], bounds[2], bounds[3])},ignore_index=True)\n",
      "C:\\Users\\alexsaunders\\AppData\\Local\\Temp\\ipykernel_13448\\724766185.py:13: FutureWarning: The frame.append method is deprecated and will be removed from pandas in a future version. Use pandas.concat instead.\n",
      "  dfScenes = dfScenes.append({'location':strFilePath, 'geometry': box(bounds[0], bounds[1], bounds[2], bounds[3])},ignore_index=True)\n",
      "C:\\Users\\alexsaunders\\AppData\\Local\\Temp\\ipykernel_13448\\724766185.py:13: FutureWarning: The frame.append method is deprecated and will be removed from pandas in a future version. Use pandas.concat instead.\n",
      "  dfScenes = dfScenes.append({'location':strFilePath, 'geometry': box(bounds[0], bounds[1], bounds[2], bounds[3])},ignore_index=True)\n",
      "C:\\Users\\alexsaunders\\AppData\\Local\\Temp\\ipykernel_13448\\724766185.py:13: FutureWarning: The frame.append method is deprecated and will be removed from pandas in a future version. Use pandas.concat instead.\n",
      "  dfScenes = dfScenes.append({'location':strFilePath, 'geometry': box(bounds[0], bounds[1], bounds[2], bounds[3])},ignore_index=True)\n",
      "C:\\Users\\alexsaunders\\AppData\\Local\\Temp\\ipykernel_13448\\724766185.py:13: FutureWarning: The frame.append method is deprecated and will be removed from pandas in a future version. Use pandas.concat instead.\n",
      "  dfScenes = dfScenes.append({'location':strFilePath, 'geometry': box(bounds[0], bounds[1], bounds[2], bounds[3])},ignore_index=True)\n",
      "C:\\Users\\alexsaunders\\AppData\\Local\\Temp\\ipykernel_13448\\724766185.py:13: FutureWarning: The frame.append method is deprecated and will be removed from pandas in a future version. Use pandas.concat instead.\n",
      "  dfScenes = dfScenes.append({'location':strFilePath, 'geometry': box(bounds[0], bounds[1], bounds[2], bounds[3])},ignore_index=True)\n"
     ]
    },
    {
     "name": "stdout",
     "output_type": "stream",
     "text": [
      "processing file 489/936\r"
     ]
    },
    {
     "name": "stderr",
     "output_type": "stream",
     "text": [
      "C:\\Users\\alexsaunders\\AppData\\Local\\Temp\\ipykernel_13448\\724766185.py:13: FutureWarning: The frame.append method is deprecated and will be removed from pandas in a future version. Use pandas.concat instead.\n",
      "  dfScenes = dfScenes.append({'location':strFilePath, 'geometry': box(bounds[0], bounds[1], bounds[2], bounds[3])},ignore_index=True)\n",
      "C:\\Users\\alexsaunders\\AppData\\Local\\Temp\\ipykernel_13448\\724766185.py:13: FutureWarning: The frame.append method is deprecated and will be removed from pandas in a future version. Use pandas.concat instead.\n",
      "  dfScenes = dfScenes.append({'location':strFilePath, 'geometry': box(bounds[0], bounds[1], bounds[2], bounds[3])},ignore_index=True)\n",
      "C:\\Users\\alexsaunders\\AppData\\Local\\Temp\\ipykernel_13448\\724766185.py:13: FutureWarning: The frame.append method is deprecated and will be removed from pandas in a future version. Use pandas.concat instead.\n",
      "  dfScenes = dfScenes.append({'location':strFilePath, 'geometry': box(bounds[0], bounds[1], bounds[2], bounds[3])},ignore_index=True)\n",
      "C:\\Users\\alexsaunders\\AppData\\Local\\Temp\\ipykernel_13448\\724766185.py:13: FutureWarning: The frame.append method is deprecated and will be removed from pandas in a future version. Use pandas.concat instead.\n",
      "  dfScenes = dfScenes.append({'location':strFilePath, 'geometry': box(bounds[0], bounds[1], bounds[2], bounds[3])},ignore_index=True)\n",
      "C:\\Users\\alexsaunders\\AppData\\Local\\Temp\\ipykernel_13448\\724766185.py:13: FutureWarning: The frame.append method is deprecated and will be removed from pandas in a future version. Use pandas.concat instead.\n",
      "  dfScenes = dfScenes.append({'location':strFilePath, 'geometry': box(bounds[0], bounds[1], bounds[2], bounds[3])},ignore_index=True)\n"
     ]
    },
    {
     "name": "stdout",
     "output_type": "stream",
     "text": [
      "processing file 494/936\r"
     ]
    },
    {
     "name": "stderr",
     "output_type": "stream",
     "text": [
      "C:\\Users\\alexsaunders\\AppData\\Local\\Temp\\ipykernel_13448\\724766185.py:13: FutureWarning: The frame.append method is deprecated and will be removed from pandas in a future version. Use pandas.concat instead.\n",
      "  dfScenes = dfScenes.append({'location':strFilePath, 'geometry': box(bounds[0], bounds[1], bounds[2], bounds[3])},ignore_index=True)\n",
      "C:\\Users\\alexsaunders\\AppData\\Local\\Temp\\ipykernel_13448\\724766185.py:13: FutureWarning: The frame.append method is deprecated and will be removed from pandas in a future version. Use pandas.concat instead.\n",
      "  dfScenes = dfScenes.append({'location':strFilePath, 'geometry': box(bounds[0], bounds[1], bounds[2], bounds[3])},ignore_index=True)\n",
      "C:\\Users\\alexsaunders\\AppData\\Local\\Temp\\ipykernel_13448\\724766185.py:13: FutureWarning: The frame.append method is deprecated and will be removed from pandas in a future version. Use pandas.concat instead.\n",
      "  dfScenes = dfScenes.append({'location':strFilePath, 'geometry': box(bounds[0], bounds[1], bounds[2], bounds[3])},ignore_index=True)\n",
      "C:\\Users\\alexsaunders\\AppData\\Local\\Temp\\ipykernel_13448\\724766185.py:13: FutureWarning: The frame.append method is deprecated and will be removed from pandas in a future version. Use pandas.concat instead.\n",
      "  dfScenes = dfScenes.append({'location':strFilePath, 'geometry': box(bounds[0], bounds[1], bounds[2], bounds[3])},ignore_index=True)\n",
      "C:\\Users\\alexsaunders\\AppData\\Local\\Temp\\ipykernel_13448\\724766185.py:13: FutureWarning: The frame.append method is deprecated and will be removed from pandas in a future version. Use pandas.concat instead.\n",
      "  dfScenes = dfScenes.append({'location':strFilePath, 'geometry': box(bounds[0], bounds[1], bounds[2], bounds[3])},ignore_index=True)\n",
      "C:\\Users\\alexsaunders\\AppData\\Local\\Temp\\ipykernel_13448\\724766185.py:13: FutureWarning: The frame.append method is deprecated and will be removed from pandas in a future version. Use pandas.concat instead.\n",
      "  dfScenes = dfScenes.append({'location':strFilePath, 'geometry': box(bounds[0], bounds[1], bounds[2], bounds[3])},ignore_index=True)\n"
     ]
    },
    {
     "name": "stdout",
     "output_type": "stream",
     "text": [
      "processing file 500/936\r"
     ]
    },
    {
     "name": "stderr",
     "output_type": "stream",
     "text": [
      "C:\\Users\\alexsaunders\\AppData\\Local\\Temp\\ipykernel_13448\\724766185.py:13: FutureWarning: The frame.append method is deprecated and will be removed from pandas in a future version. Use pandas.concat instead.\n",
      "  dfScenes = dfScenes.append({'location':strFilePath, 'geometry': box(bounds[0], bounds[1], bounds[2], bounds[3])},ignore_index=True)\n",
      "C:\\Users\\alexsaunders\\AppData\\Local\\Temp\\ipykernel_13448\\724766185.py:13: FutureWarning: The frame.append method is deprecated and will be removed from pandas in a future version. Use pandas.concat instead.\n",
      "  dfScenes = dfScenes.append({'location':strFilePath, 'geometry': box(bounds[0], bounds[1], bounds[2], bounds[3])},ignore_index=True)\n",
      "C:\\Users\\alexsaunders\\AppData\\Local\\Temp\\ipykernel_13448\\724766185.py:13: FutureWarning: The frame.append method is deprecated and will be removed from pandas in a future version. Use pandas.concat instead.\n",
      "  dfScenes = dfScenes.append({'location':strFilePath, 'geometry': box(bounds[0], bounds[1], bounds[2], bounds[3])},ignore_index=True)\n",
      "C:\\Users\\alexsaunders\\AppData\\Local\\Temp\\ipykernel_13448\\724766185.py:13: FutureWarning: The frame.append method is deprecated and will be removed from pandas in a future version. Use pandas.concat instead.\n",
      "  dfScenes = dfScenes.append({'location':strFilePath, 'geometry': box(bounds[0], bounds[1], bounds[2], bounds[3])},ignore_index=True)\n",
      "C:\\Users\\alexsaunders\\AppData\\Local\\Temp\\ipykernel_13448\\724766185.py:13: FutureWarning: The frame.append method is deprecated and will be removed from pandas in a future version. Use pandas.concat instead.\n",
      "  dfScenes = dfScenes.append({'location':strFilePath, 'geometry': box(bounds[0], bounds[1], bounds[2], bounds[3])},ignore_index=True)\n"
     ]
    },
    {
     "name": "stdout",
     "output_type": "stream",
     "text": [
      "processing file 505/936\r"
     ]
    },
    {
     "name": "stderr",
     "output_type": "stream",
     "text": [
      "C:\\Users\\alexsaunders\\AppData\\Local\\Temp\\ipykernel_13448\\724766185.py:13: FutureWarning: The frame.append method is deprecated and will be removed from pandas in a future version. Use pandas.concat instead.\n",
      "  dfScenes = dfScenes.append({'location':strFilePath, 'geometry': box(bounds[0], bounds[1], bounds[2], bounds[3])},ignore_index=True)\n",
      "C:\\Users\\alexsaunders\\AppData\\Local\\Temp\\ipykernel_13448\\724766185.py:13: FutureWarning: The frame.append method is deprecated and will be removed from pandas in a future version. Use pandas.concat instead.\n",
      "  dfScenes = dfScenes.append({'location':strFilePath, 'geometry': box(bounds[0], bounds[1], bounds[2], bounds[3])},ignore_index=True)\n",
      "C:\\Users\\alexsaunders\\AppData\\Local\\Temp\\ipykernel_13448\\724766185.py:13: FutureWarning: The frame.append method is deprecated and will be removed from pandas in a future version. Use pandas.concat instead.\n",
      "  dfScenes = dfScenes.append({'location':strFilePath, 'geometry': box(bounds[0], bounds[1], bounds[2], bounds[3])},ignore_index=True)\n",
      "C:\\Users\\alexsaunders\\AppData\\Local\\Temp\\ipykernel_13448\\724766185.py:13: FutureWarning: The frame.append method is deprecated and will be removed from pandas in a future version. Use pandas.concat instead.\n",
      "  dfScenes = dfScenes.append({'location':strFilePath, 'geometry': box(bounds[0], bounds[1], bounds[2], bounds[3])},ignore_index=True)\n",
      "C:\\Users\\alexsaunders\\AppData\\Local\\Temp\\ipykernel_13448\\724766185.py:13: FutureWarning: The frame.append method is deprecated and will be removed from pandas in a future version. Use pandas.concat instead.\n",
      "  dfScenes = dfScenes.append({'location':strFilePath, 'geometry': box(bounds[0], bounds[1], bounds[2], bounds[3])},ignore_index=True)\n"
     ]
    },
    {
     "name": "stdout",
     "output_type": "stream",
     "text": [
      "processing file 510/936\r"
     ]
    },
    {
     "name": "stderr",
     "output_type": "stream",
     "text": [
      "C:\\Users\\alexsaunders\\AppData\\Local\\Temp\\ipykernel_13448\\724766185.py:13: FutureWarning: The frame.append method is deprecated and will be removed from pandas in a future version. Use pandas.concat instead.\n",
      "  dfScenes = dfScenes.append({'location':strFilePath, 'geometry': box(bounds[0], bounds[1], bounds[2], bounds[3])},ignore_index=True)\n",
      "C:\\Users\\alexsaunders\\AppData\\Local\\Temp\\ipykernel_13448\\724766185.py:13: FutureWarning: The frame.append method is deprecated and will be removed from pandas in a future version. Use pandas.concat instead.\n",
      "  dfScenes = dfScenes.append({'location':strFilePath, 'geometry': box(bounds[0], bounds[1], bounds[2], bounds[3])},ignore_index=True)\n",
      "C:\\Users\\alexsaunders\\AppData\\Local\\Temp\\ipykernel_13448\\724766185.py:13: FutureWarning: The frame.append method is deprecated and will be removed from pandas in a future version. Use pandas.concat instead.\n",
      "  dfScenes = dfScenes.append({'location':strFilePath, 'geometry': box(bounds[0], bounds[1], bounds[2], bounds[3])},ignore_index=True)\n",
      "C:\\Users\\alexsaunders\\AppData\\Local\\Temp\\ipykernel_13448\\724766185.py:13: FutureWarning: The frame.append method is deprecated and will be removed from pandas in a future version. Use pandas.concat instead.\n",
      "  dfScenes = dfScenes.append({'location':strFilePath, 'geometry': box(bounds[0], bounds[1], bounds[2], bounds[3])},ignore_index=True)\n",
      "C:\\Users\\alexsaunders\\AppData\\Local\\Temp\\ipykernel_13448\\724766185.py:13: FutureWarning: The frame.append method is deprecated and will be removed from pandas in a future version. Use pandas.concat instead.\n",
      "  dfScenes = dfScenes.append({'location':strFilePath, 'geometry': box(bounds[0], bounds[1], bounds[2], bounds[3])},ignore_index=True)\n"
     ]
    },
    {
     "name": "stdout",
     "output_type": "stream",
     "text": [
      "processing file 515/936\r"
     ]
    },
    {
     "name": "stderr",
     "output_type": "stream",
     "text": [
      "C:\\Users\\alexsaunders\\AppData\\Local\\Temp\\ipykernel_13448\\724766185.py:13: FutureWarning: The frame.append method is deprecated and will be removed from pandas in a future version. Use pandas.concat instead.\n",
      "  dfScenes = dfScenes.append({'location':strFilePath, 'geometry': box(bounds[0], bounds[1], bounds[2], bounds[3])},ignore_index=True)\n",
      "C:\\Users\\alexsaunders\\AppData\\Local\\Temp\\ipykernel_13448\\724766185.py:13: FutureWarning: The frame.append method is deprecated and will be removed from pandas in a future version. Use pandas.concat instead.\n",
      "  dfScenes = dfScenes.append({'location':strFilePath, 'geometry': box(bounds[0], bounds[1], bounds[2], bounds[3])},ignore_index=True)\n",
      "C:\\Users\\alexsaunders\\AppData\\Local\\Temp\\ipykernel_13448\\724766185.py:13: FutureWarning: The frame.append method is deprecated and will be removed from pandas in a future version. Use pandas.concat instead.\n",
      "  dfScenes = dfScenes.append({'location':strFilePath, 'geometry': box(bounds[0], bounds[1], bounds[2], bounds[3])},ignore_index=True)\n",
      "C:\\Users\\alexsaunders\\AppData\\Local\\Temp\\ipykernel_13448\\724766185.py:13: FutureWarning: The frame.append method is deprecated and will be removed from pandas in a future version. Use pandas.concat instead.\n",
      "  dfScenes = dfScenes.append({'location':strFilePath, 'geometry': box(bounds[0], bounds[1], bounds[2], bounds[3])},ignore_index=True)\n",
      "C:\\Users\\alexsaunders\\AppData\\Local\\Temp\\ipykernel_13448\\724766185.py:13: FutureWarning: The frame.append method is deprecated and will be removed from pandas in a future version. Use pandas.concat instead.\n",
      "  dfScenes = dfScenes.append({'location':strFilePath, 'geometry': box(bounds[0], bounds[1], bounds[2], bounds[3])},ignore_index=True)\n",
      "C:\\Users\\alexsaunders\\AppData\\Local\\Temp\\ipykernel_13448\\724766185.py:13: FutureWarning: The frame.append method is deprecated and will be removed from pandas in a future version. Use pandas.concat instead.\n",
      "  dfScenes = dfScenes.append({'location':strFilePath, 'geometry': box(bounds[0], bounds[1], bounds[2], bounds[3])},ignore_index=True)\n"
     ]
    },
    {
     "name": "stdout",
     "output_type": "stream",
     "text": [
      "processing file 521/936\r"
     ]
    },
    {
     "name": "stderr",
     "output_type": "stream",
     "text": [
      "C:\\Users\\alexsaunders\\AppData\\Local\\Temp\\ipykernel_13448\\724766185.py:13: FutureWarning: The frame.append method is deprecated and will be removed from pandas in a future version. Use pandas.concat instead.\n",
      "  dfScenes = dfScenes.append({'location':strFilePath, 'geometry': box(bounds[0], bounds[1], bounds[2], bounds[3])},ignore_index=True)\n",
      "C:\\Users\\alexsaunders\\AppData\\Local\\Temp\\ipykernel_13448\\724766185.py:13: FutureWarning: The frame.append method is deprecated and will be removed from pandas in a future version. Use pandas.concat instead.\n",
      "  dfScenes = dfScenes.append({'location':strFilePath, 'geometry': box(bounds[0], bounds[1], bounds[2], bounds[3])},ignore_index=True)\n",
      "C:\\Users\\alexsaunders\\AppData\\Local\\Temp\\ipykernel_13448\\724766185.py:13: FutureWarning: The frame.append method is deprecated and will be removed from pandas in a future version. Use pandas.concat instead.\n",
      "  dfScenes = dfScenes.append({'location':strFilePath, 'geometry': box(bounds[0], bounds[1], bounds[2], bounds[3])},ignore_index=True)\n",
      "C:\\Users\\alexsaunders\\AppData\\Local\\Temp\\ipykernel_13448\\724766185.py:13: FutureWarning: The frame.append method is deprecated and will be removed from pandas in a future version. Use pandas.concat instead.\n",
      "  dfScenes = dfScenes.append({'location':strFilePath, 'geometry': box(bounds[0], bounds[1], bounds[2], bounds[3])},ignore_index=True)\n",
      "C:\\Users\\alexsaunders\\AppData\\Local\\Temp\\ipykernel_13448\\724766185.py:13: FutureWarning: The frame.append method is deprecated and will be removed from pandas in a future version. Use pandas.concat instead.\n",
      "  dfScenes = dfScenes.append({'location':strFilePath, 'geometry': box(bounds[0], bounds[1], bounds[2], bounds[3])},ignore_index=True)\n",
      "C:\\Users\\alexsaunders\\AppData\\Local\\Temp\\ipykernel_13448\\724766185.py:13: FutureWarning: The frame.append method is deprecated and will be removed from pandas in a future version. Use pandas.concat instead.\n",
      "  dfScenes = dfScenes.append({'location':strFilePath, 'geometry': box(bounds[0], bounds[1], bounds[2], bounds[3])},ignore_index=True)\n"
     ]
    },
    {
     "name": "stdout",
     "output_type": "stream",
     "text": [
      "processing file 527/936\r"
     ]
    },
    {
     "name": "stderr",
     "output_type": "stream",
     "text": [
      "C:\\Users\\alexsaunders\\AppData\\Local\\Temp\\ipykernel_13448\\724766185.py:13: FutureWarning: The frame.append method is deprecated and will be removed from pandas in a future version. Use pandas.concat instead.\n",
      "  dfScenes = dfScenes.append({'location':strFilePath, 'geometry': box(bounds[0], bounds[1], bounds[2], bounds[3])},ignore_index=True)\n",
      "C:\\Users\\alexsaunders\\AppData\\Local\\Temp\\ipykernel_13448\\724766185.py:13: FutureWarning: The frame.append method is deprecated and will be removed from pandas in a future version. Use pandas.concat instead.\n",
      "  dfScenes = dfScenes.append({'location':strFilePath, 'geometry': box(bounds[0], bounds[1], bounds[2], bounds[3])},ignore_index=True)\n",
      "C:\\Users\\alexsaunders\\AppData\\Local\\Temp\\ipykernel_13448\\724766185.py:13: FutureWarning: The frame.append method is deprecated and will be removed from pandas in a future version. Use pandas.concat instead.\n",
      "  dfScenes = dfScenes.append({'location':strFilePath, 'geometry': box(bounds[0], bounds[1], bounds[2], bounds[3])},ignore_index=True)\n",
      "C:\\Users\\alexsaunders\\AppData\\Local\\Temp\\ipykernel_13448\\724766185.py:13: FutureWarning: The frame.append method is deprecated and will be removed from pandas in a future version. Use pandas.concat instead.\n",
      "  dfScenes = dfScenes.append({'location':strFilePath, 'geometry': box(bounds[0], bounds[1], bounds[2], bounds[3])},ignore_index=True)\n",
      "C:\\Users\\alexsaunders\\AppData\\Local\\Temp\\ipykernel_13448\\724766185.py:13: FutureWarning: The frame.append method is deprecated and will be removed from pandas in a future version. Use pandas.concat instead.\n",
      "  dfScenes = dfScenes.append({'location':strFilePath, 'geometry': box(bounds[0], bounds[1], bounds[2], bounds[3])},ignore_index=True)\n"
     ]
    },
    {
     "name": "stdout",
     "output_type": "stream",
     "text": [
      "processing file 532/936\r"
     ]
    },
    {
     "name": "stderr",
     "output_type": "stream",
     "text": [
      "C:\\Users\\alexsaunders\\AppData\\Local\\Temp\\ipykernel_13448\\724766185.py:13: FutureWarning: The frame.append method is deprecated and will be removed from pandas in a future version. Use pandas.concat instead.\n",
      "  dfScenes = dfScenes.append({'location':strFilePath, 'geometry': box(bounds[0], bounds[1], bounds[2], bounds[3])},ignore_index=True)\n",
      "C:\\Users\\alexsaunders\\AppData\\Local\\Temp\\ipykernel_13448\\724766185.py:13: FutureWarning: The frame.append method is deprecated and will be removed from pandas in a future version. Use pandas.concat instead.\n",
      "  dfScenes = dfScenes.append({'location':strFilePath, 'geometry': box(bounds[0], bounds[1], bounds[2], bounds[3])},ignore_index=True)\n",
      "C:\\Users\\alexsaunders\\AppData\\Local\\Temp\\ipykernel_13448\\724766185.py:13: FutureWarning: The frame.append method is deprecated and will be removed from pandas in a future version. Use pandas.concat instead.\n",
      "  dfScenes = dfScenes.append({'location':strFilePath, 'geometry': box(bounds[0], bounds[1], bounds[2], bounds[3])},ignore_index=True)\n",
      "C:\\Users\\alexsaunders\\AppData\\Local\\Temp\\ipykernel_13448\\724766185.py:13: FutureWarning: The frame.append method is deprecated and will be removed from pandas in a future version. Use pandas.concat instead.\n",
      "  dfScenes = dfScenes.append({'location':strFilePath, 'geometry': box(bounds[0], bounds[1], bounds[2], bounds[3])},ignore_index=True)\n",
      "C:\\Users\\alexsaunders\\AppData\\Local\\Temp\\ipykernel_13448\\724766185.py:13: FutureWarning: The frame.append method is deprecated and will be removed from pandas in a future version. Use pandas.concat instead.\n",
      "  dfScenes = dfScenes.append({'location':strFilePath, 'geometry': box(bounds[0], bounds[1], bounds[2], bounds[3])},ignore_index=True)\n"
     ]
    },
    {
     "name": "stdout",
     "output_type": "stream",
     "text": [
      "processing file 537/936\r"
     ]
    },
    {
     "name": "stderr",
     "output_type": "stream",
     "text": [
      "C:\\Users\\alexsaunders\\AppData\\Local\\Temp\\ipykernel_13448\\724766185.py:13: FutureWarning: The frame.append method is deprecated and will be removed from pandas in a future version. Use pandas.concat instead.\n",
      "  dfScenes = dfScenes.append({'location':strFilePath, 'geometry': box(bounds[0], bounds[1], bounds[2], bounds[3])},ignore_index=True)\n",
      "C:\\Users\\alexsaunders\\AppData\\Local\\Temp\\ipykernel_13448\\724766185.py:13: FutureWarning: The frame.append method is deprecated and will be removed from pandas in a future version. Use pandas.concat instead.\n",
      "  dfScenes = dfScenes.append({'location':strFilePath, 'geometry': box(bounds[0], bounds[1], bounds[2], bounds[3])},ignore_index=True)\n",
      "C:\\Users\\alexsaunders\\AppData\\Local\\Temp\\ipykernel_13448\\724766185.py:13: FutureWarning: The frame.append method is deprecated and will be removed from pandas in a future version. Use pandas.concat instead.\n",
      "  dfScenes = dfScenes.append({'location':strFilePath, 'geometry': box(bounds[0], bounds[1], bounds[2], bounds[3])},ignore_index=True)\n",
      "C:\\Users\\alexsaunders\\AppData\\Local\\Temp\\ipykernel_13448\\724766185.py:13: FutureWarning: The frame.append method is deprecated and will be removed from pandas in a future version. Use pandas.concat instead.\n",
      "  dfScenes = dfScenes.append({'location':strFilePath, 'geometry': box(bounds[0], bounds[1], bounds[2], bounds[3])},ignore_index=True)\n",
      "C:\\Users\\alexsaunders\\AppData\\Local\\Temp\\ipykernel_13448\\724766185.py:13: FutureWarning: The frame.append method is deprecated and will be removed from pandas in a future version. Use pandas.concat instead.\n",
      "  dfScenes = dfScenes.append({'location':strFilePath, 'geometry': box(bounds[0], bounds[1], bounds[2], bounds[3])},ignore_index=True)\n"
     ]
    },
    {
     "name": "stdout",
     "output_type": "stream",
     "text": [
      "processing file 542/936\r"
     ]
    },
    {
     "name": "stderr",
     "output_type": "stream",
     "text": [
      "C:\\Users\\alexsaunders\\AppData\\Local\\Temp\\ipykernel_13448\\724766185.py:13: FutureWarning: The frame.append method is deprecated and will be removed from pandas in a future version. Use pandas.concat instead.\n",
      "  dfScenes = dfScenes.append({'location':strFilePath, 'geometry': box(bounds[0], bounds[1], bounds[2], bounds[3])},ignore_index=True)\n",
      "C:\\Users\\alexsaunders\\AppData\\Local\\Temp\\ipykernel_13448\\724766185.py:13: FutureWarning: The frame.append method is deprecated and will be removed from pandas in a future version. Use pandas.concat instead.\n",
      "  dfScenes = dfScenes.append({'location':strFilePath, 'geometry': box(bounds[0], bounds[1], bounds[2], bounds[3])},ignore_index=True)\n",
      "C:\\Users\\alexsaunders\\AppData\\Local\\Temp\\ipykernel_13448\\724766185.py:13: FutureWarning: The frame.append method is deprecated and will be removed from pandas in a future version. Use pandas.concat instead.\n",
      "  dfScenes = dfScenes.append({'location':strFilePath, 'geometry': box(bounds[0], bounds[1], bounds[2], bounds[3])},ignore_index=True)\n",
      "C:\\Users\\alexsaunders\\AppData\\Local\\Temp\\ipykernel_13448\\724766185.py:13: FutureWarning: The frame.append method is deprecated and will be removed from pandas in a future version. Use pandas.concat instead.\n",
      "  dfScenes = dfScenes.append({'location':strFilePath, 'geometry': box(bounds[0], bounds[1], bounds[2], bounds[3])},ignore_index=True)\n",
      "C:\\Users\\alexsaunders\\AppData\\Local\\Temp\\ipykernel_13448\\724766185.py:13: FutureWarning: The frame.append method is deprecated and will be removed from pandas in a future version. Use pandas.concat instead.\n",
      "  dfScenes = dfScenes.append({'location':strFilePath, 'geometry': box(bounds[0], bounds[1], bounds[2], bounds[3])},ignore_index=True)\n"
     ]
    },
    {
     "name": "stdout",
     "output_type": "stream",
     "text": [
      "processing file 547/936\r"
     ]
    },
    {
     "name": "stderr",
     "output_type": "stream",
     "text": [
      "C:\\Users\\alexsaunders\\AppData\\Local\\Temp\\ipykernel_13448\\724766185.py:13: FutureWarning: The frame.append method is deprecated and will be removed from pandas in a future version. Use pandas.concat instead.\n",
      "  dfScenes = dfScenes.append({'location':strFilePath, 'geometry': box(bounds[0], bounds[1], bounds[2], bounds[3])},ignore_index=True)\n",
      "C:\\Users\\alexsaunders\\AppData\\Local\\Temp\\ipykernel_13448\\724766185.py:13: FutureWarning: The frame.append method is deprecated and will be removed from pandas in a future version. Use pandas.concat instead.\n",
      "  dfScenes = dfScenes.append({'location':strFilePath, 'geometry': box(bounds[0], bounds[1], bounds[2], bounds[3])},ignore_index=True)\n",
      "C:\\Users\\alexsaunders\\AppData\\Local\\Temp\\ipykernel_13448\\724766185.py:13: FutureWarning: The frame.append method is deprecated and will be removed from pandas in a future version. Use pandas.concat instead.\n",
      "  dfScenes = dfScenes.append({'location':strFilePath, 'geometry': box(bounds[0], bounds[1], bounds[2], bounds[3])},ignore_index=True)\n",
      "C:\\Users\\alexsaunders\\AppData\\Local\\Temp\\ipykernel_13448\\724766185.py:13: FutureWarning: The frame.append method is deprecated and will be removed from pandas in a future version. Use pandas.concat instead.\n",
      "  dfScenes = dfScenes.append({'location':strFilePath, 'geometry': box(bounds[0], bounds[1], bounds[2], bounds[3])},ignore_index=True)\n",
      "C:\\Users\\alexsaunders\\AppData\\Local\\Temp\\ipykernel_13448\\724766185.py:13: FutureWarning: The frame.append method is deprecated and will be removed from pandas in a future version. Use pandas.concat instead.\n",
      "  dfScenes = dfScenes.append({'location':strFilePath, 'geometry': box(bounds[0], bounds[1], bounds[2], bounds[3])},ignore_index=True)\n"
     ]
    },
    {
     "name": "stdout",
     "output_type": "stream",
     "text": [
      "processing file 552/936\r"
     ]
    },
    {
     "name": "stderr",
     "output_type": "stream",
     "text": [
      "C:\\Users\\alexsaunders\\AppData\\Local\\Temp\\ipykernel_13448\\724766185.py:13: FutureWarning: The frame.append method is deprecated and will be removed from pandas in a future version. Use pandas.concat instead.\n",
      "  dfScenes = dfScenes.append({'location':strFilePath, 'geometry': box(bounds[0], bounds[1], bounds[2], bounds[3])},ignore_index=True)\n",
      "C:\\Users\\alexsaunders\\AppData\\Local\\Temp\\ipykernel_13448\\724766185.py:13: FutureWarning: The frame.append method is deprecated and will be removed from pandas in a future version. Use pandas.concat instead.\n",
      "  dfScenes = dfScenes.append({'location':strFilePath, 'geometry': box(bounds[0], bounds[1], bounds[2], bounds[3])},ignore_index=True)\n",
      "C:\\Users\\alexsaunders\\AppData\\Local\\Temp\\ipykernel_13448\\724766185.py:13: FutureWarning: The frame.append method is deprecated and will be removed from pandas in a future version. Use pandas.concat instead.\n",
      "  dfScenes = dfScenes.append({'location':strFilePath, 'geometry': box(bounds[0], bounds[1], bounds[2], bounds[3])},ignore_index=True)\n"
     ]
    },
    {
     "name": "stdout",
     "output_type": "stream",
     "text": [
      "processing file 555/936\r"
     ]
    },
    {
     "name": "stderr",
     "output_type": "stream",
     "text": [
      "C:\\Users\\alexsaunders\\AppData\\Local\\Temp\\ipykernel_13448\\724766185.py:13: FutureWarning: The frame.append method is deprecated and will be removed from pandas in a future version. Use pandas.concat instead.\n",
      "  dfScenes = dfScenes.append({'location':strFilePath, 'geometry': box(bounds[0], bounds[1], bounds[2], bounds[3])},ignore_index=True)\n",
      "C:\\Users\\alexsaunders\\AppData\\Local\\Temp\\ipykernel_13448\\724766185.py:13: FutureWarning: The frame.append method is deprecated and will be removed from pandas in a future version. Use pandas.concat instead.\n",
      "  dfScenes = dfScenes.append({'location':strFilePath, 'geometry': box(bounds[0], bounds[1], bounds[2], bounds[3])},ignore_index=True)\n",
      "C:\\Users\\alexsaunders\\AppData\\Local\\Temp\\ipykernel_13448\\724766185.py:13: FutureWarning: The frame.append method is deprecated and will be removed from pandas in a future version. Use pandas.concat instead.\n",
      "  dfScenes = dfScenes.append({'location':strFilePath, 'geometry': box(bounds[0], bounds[1], bounds[2], bounds[3])},ignore_index=True)\n",
      "C:\\Users\\alexsaunders\\AppData\\Local\\Temp\\ipykernel_13448\\724766185.py:13: FutureWarning: The frame.append method is deprecated and will be removed from pandas in a future version. Use pandas.concat instead.\n",
      "  dfScenes = dfScenes.append({'location':strFilePath, 'geometry': box(bounds[0], bounds[1], bounds[2], bounds[3])},ignore_index=True)\n",
      "C:\\Users\\alexsaunders\\AppData\\Local\\Temp\\ipykernel_13448\\724766185.py:13: FutureWarning: The frame.append method is deprecated and will be removed from pandas in a future version. Use pandas.concat instead.\n",
      "  dfScenes = dfScenes.append({'location':strFilePath, 'geometry': box(bounds[0], bounds[1], bounds[2], bounds[3])},ignore_index=True)\n"
     ]
    },
    {
     "name": "stdout",
     "output_type": "stream",
     "text": [
      "processing file 560/936\r"
     ]
    },
    {
     "name": "stderr",
     "output_type": "stream",
     "text": [
      "C:\\Users\\alexsaunders\\AppData\\Local\\Temp\\ipykernel_13448\\724766185.py:13: FutureWarning: The frame.append method is deprecated and will be removed from pandas in a future version. Use pandas.concat instead.\n",
      "  dfScenes = dfScenes.append({'location':strFilePath, 'geometry': box(bounds[0], bounds[1], bounds[2], bounds[3])},ignore_index=True)\n",
      "C:\\Users\\alexsaunders\\AppData\\Local\\Temp\\ipykernel_13448\\724766185.py:13: FutureWarning: The frame.append method is deprecated and will be removed from pandas in a future version. Use pandas.concat instead.\n",
      "  dfScenes = dfScenes.append({'location':strFilePath, 'geometry': box(bounds[0], bounds[1], bounds[2], bounds[3])},ignore_index=True)\n",
      "C:\\Users\\alexsaunders\\AppData\\Local\\Temp\\ipykernel_13448\\724766185.py:13: FutureWarning: The frame.append method is deprecated and will be removed from pandas in a future version. Use pandas.concat instead.\n",
      "  dfScenes = dfScenes.append({'location':strFilePath, 'geometry': box(bounds[0], bounds[1], bounds[2], bounds[3])},ignore_index=True)\n",
      "C:\\Users\\alexsaunders\\AppData\\Local\\Temp\\ipykernel_13448\\724766185.py:13: FutureWarning: The frame.append method is deprecated and will be removed from pandas in a future version. Use pandas.concat instead.\n",
      "  dfScenes = dfScenes.append({'location':strFilePath, 'geometry': box(bounds[0], bounds[1], bounds[2], bounds[3])},ignore_index=True)\n",
      "C:\\Users\\alexsaunders\\AppData\\Local\\Temp\\ipykernel_13448\\724766185.py:13: FutureWarning: The frame.append method is deprecated and will be removed from pandas in a future version. Use pandas.concat instead.\n",
      "  dfScenes = dfScenes.append({'location':strFilePath, 'geometry': box(bounds[0], bounds[1], bounds[2], bounds[3])},ignore_index=True)\n"
     ]
    },
    {
     "name": "stdout",
     "output_type": "stream",
     "text": [
      "processing file 565/936\r"
     ]
    },
    {
     "name": "stderr",
     "output_type": "stream",
     "text": [
      "C:\\Users\\alexsaunders\\AppData\\Local\\Temp\\ipykernel_13448\\724766185.py:13: FutureWarning: The frame.append method is deprecated and will be removed from pandas in a future version. Use pandas.concat instead.\n",
      "  dfScenes = dfScenes.append({'location':strFilePath, 'geometry': box(bounds[0], bounds[1], bounds[2], bounds[3])},ignore_index=True)\n",
      "C:\\Users\\alexsaunders\\AppData\\Local\\Temp\\ipykernel_13448\\724766185.py:13: FutureWarning: The frame.append method is deprecated and will be removed from pandas in a future version. Use pandas.concat instead.\n",
      "  dfScenes = dfScenes.append({'location':strFilePath, 'geometry': box(bounds[0], bounds[1], bounds[2], bounds[3])},ignore_index=True)\n",
      "C:\\Users\\alexsaunders\\AppData\\Local\\Temp\\ipykernel_13448\\724766185.py:13: FutureWarning: The frame.append method is deprecated and will be removed from pandas in a future version. Use pandas.concat instead.\n",
      "  dfScenes = dfScenes.append({'location':strFilePath, 'geometry': box(bounds[0], bounds[1], bounds[2], bounds[3])},ignore_index=True)\n",
      "C:\\Users\\alexsaunders\\AppData\\Local\\Temp\\ipykernel_13448\\724766185.py:13: FutureWarning: The frame.append method is deprecated and will be removed from pandas in a future version. Use pandas.concat instead.\n",
      "  dfScenes = dfScenes.append({'location':strFilePath, 'geometry': box(bounds[0], bounds[1], bounds[2], bounds[3])},ignore_index=True)\n",
      "C:\\Users\\alexsaunders\\AppData\\Local\\Temp\\ipykernel_13448\\724766185.py:13: FutureWarning: The frame.append method is deprecated and will be removed from pandas in a future version. Use pandas.concat instead.\n",
      "  dfScenes = dfScenes.append({'location':strFilePath, 'geometry': box(bounds[0], bounds[1], bounds[2], bounds[3])},ignore_index=True)\n"
     ]
    },
    {
     "name": "stdout",
     "output_type": "stream",
     "text": [
      "processing file 570/936\r"
     ]
    },
    {
     "name": "stderr",
     "output_type": "stream",
     "text": [
      "C:\\Users\\alexsaunders\\AppData\\Local\\Temp\\ipykernel_13448\\724766185.py:13: FutureWarning: The frame.append method is deprecated and will be removed from pandas in a future version. Use pandas.concat instead.\n",
      "  dfScenes = dfScenes.append({'location':strFilePath, 'geometry': box(bounds[0], bounds[1], bounds[2], bounds[3])},ignore_index=True)\n",
      "C:\\Users\\alexsaunders\\AppData\\Local\\Temp\\ipykernel_13448\\724766185.py:13: FutureWarning: The frame.append method is deprecated and will be removed from pandas in a future version. Use pandas.concat instead.\n",
      "  dfScenes = dfScenes.append({'location':strFilePath, 'geometry': box(bounds[0], bounds[1], bounds[2], bounds[3])},ignore_index=True)\n",
      "C:\\Users\\alexsaunders\\AppData\\Local\\Temp\\ipykernel_13448\\724766185.py:13: FutureWarning: The frame.append method is deprecated and will be removed from pandas in a future version. Use pandas.concat instead.\n",
      "  dfScenes = dfScenes.append({'location':strFilePath, 'geometry': box(bounds[0], bounds[1], bounds[2], bounds[3])},ignore_index=True)\n",
      "C:\\Users\\alexsaunders\\AppData\\Local\\Temp\\ipykernel_13448\\724766185.py:13: FutureWarning: The frame.append method is deprecated and will be removed from pandas in a future version. Use pandas.concat instead.\n",
      "  dfScenes = dfScenes.append({'location':strFilePath, 'geometry': box(bounds[0], bounds[1], bounds[2], bounds[3])},ignore_index=True)\n",
      "C:\\Users\\alexsaunders\\AppData\\Local\\Temp\\ipykernel_13448\\724766185.py:13: FutureWarning: The frame.append method is deprecated and will be removed from pandas in a future version. Use pandas.concat instead.\n",
      "  dfScenes = dfScenes.append({'location':strFilePath, 'geometry': box(bounds[0], bounds[1], bounds[2], bounds[3])},ignore_index=True)\n",
      "C:\\Users\\alexsaunders\\AppData\\Local\\Temp\\ipykernel_13448\\724766185.py:13: FutureWarning: The frame.append method is deprecated and will be removed from pandas in a future version. Use pandas.concat instead.\n",
      "  dfScenes = dfScenes.append({'location':strFilePath, 'geometry': box(bounds[0], bounds[1], bounds[2], bounds[3])},ignore_index=True)\n"
     ]
    },
    {
     "name": "stdout",
     "output_type": "stream",
     "text": [
      "processing file 576/936\r"
     ]
    },
    {
     "name": "stderr",
     "output_type": "stream",
     "text": [
      "C:\\Users\\alexsaunders\\AppData\\Local\\Temp\\ipykernel_13448\\724766185.py:13: FutureWarning: The frame.append method is deprecated and will be removed from pandas in a future version. Use pandas.concat instead.\n",
      "  dfScenes = dfScenes.append({'location':strFilePath, 'geometry': box(bounds[0], bounds[1], bounds[2], bounds[3])},ignore_index=True)\n",
      "C:\\Users\\alexsaunders\\AppData\\Local\\Temp\\ipykernel_13448\\724766185.py:13: FutureWarning: The frame.append method is deprecated and will be removed from pandas in a future version. Use pandas.concat instead.\n",
      "  dfScenes = dfScenes.append({'location':strFilePath, 'geometry': box(bounds[0], bounds[1], bounds[2], bounds[3])},ignore_index=True)\n",
      "C:\\Users\\alexsaunders\\AppData\\Local\\Temp\\ipykernel_13448\\724766185.py:13: FutureWarning: The frame.append method is deprecated and will be removed from pandas in a future version. Use pandas.concat instead.\n",
      "  dfScenes = dfScenes.append({'location':strFilePath, 'geometry': box(bounds[0], bounds[1], bounds[2], bounds[3])},ignore_index=True)\n",
      "C:\\Users\\alexsaunders\\AppData\\Local\\Temp\\ipykernel_13448\\724766185.py:13: FutureWarning: The frame.append method is deprecated and will be removed from pandas in a future version. Use pandas.concat instead.\n",
      "  dfScenes = dfScenes.append({'location':strFilePath, 'geometry': box(bounds[0], bounds[1], bounds[2], bounds[3])},ignore_index=True)\n",
      "C:\\Users\\alexsaunders\\AppData\\Local\\Temp\\ipykernel_13448\\724766185.py:13: FutureWarning: The frame.append method is deprecated and will be removed from pandas in a future version. Use pandas.concat instead.\n",
      "  dfScenes = dfScenes.append({'location':strFilePath, 'geometry': box(bounds[0], bounds[1], bounds[2], bounds[3])},ignore_index=True)\n"
     ]
    },
    {
     "name": "stdout",
     "output_type": "stream",
     "text": [
      "processing file 581/936\r"
     ]
    },
    {
     "name": "stderr",
     "output_type": "stream",
     "text": [
      "C:\\Users\\alexsaunders\\AppData\\Local\\Temp\\ipykernel_13448\\724766185.py:13: FutureWarning: The frame.append method is deprecated and will be removed from pandas in a future version. Use pandas.concat instead.\n",
      "  dfScenes = dfScenes.append({'location':strFilePath, 'geometry': box(bounds[0], bounds[1], bounds[2], bounds[3])},ignore_index=True)\n",
      "C:\\Users\\alexsaunders\\AppData\\Local\\Temp\\ipykernel_13448\\724766185.py:13: FutureWarning: The frame.append method is deprecated and will be removed from pandas in a future version. Use pandas.concat instead.\n",
      "  dfScenes = dfScenes.append({'location':strFilePath, 'geometry': box(bounds[0], bounds[1], bounds[2], bounds[3])},ignore_index=True)\n",
      "C:\\Users\\alexsaunders\\AppData\\Local\\Temp\\ipykernel_13448\\724766185.py:13: FutureWarning: The frame.append method is deprecated and will be removed from pandas in a future version. Use pandas.concat instead.\n",
      "  dfScenes = dfScenes.append({'location':strFilePath, 'geometry': box(bounds[0], bounds[1], bounds[2], bounds[3])},ignore_index=True)\n",
      "C:\\Users\\alexsaunders\\AppData\\Local\\Temp\\ipykernel_13448\\724766185.py:13: FutureWarning: The frame.append method is deprecated and will be removed from pandas in a future version. Use pandas.concat instead.\n",
      "  dfScenes = dfScenes.append({'location':strFilePath, 'geometry': box(bounds[0], bounds[1], bounds[2], bounds[3])},ignore_index=True)\n",
      "C:\\Users\\alexsaunders\\AppData\\Local\\Temp\\ipykernel_13448\\724766185.py:13: FutureWarning: The frame.append method is deprecated and will be removed from pandas in a future version. Use pandas.concat instead.\n",
      "  dfScenes = dfScenes.append({'location':strFilePath, 'geometry': box(bounds[0], bounds[1], bounds[2], bounds[3])},ignore_index=True)\n",
      "C:\\Users\\alexsaunders\\AppData\\Local\\Temp\\ipykernel_13448\\724766185.py:13: FutureWarning: The frame.append method is deprecated and will be removed from pandas in a future version. Use pandas.concat instead.\n",
      "  dfScenes = dfScenes.append({'location':strFilePath, 'geometry': box(bounds[0], bounds[1], bounds[2], bounds[3])},ignore_index=True)\n"
     ]
    },
    {
     "name": "stdout",
     "output_type": "stream",
     "text": [
      "processing file 587/936\r"
     ]
    },
    {
     "name": "stderr",
     "output_type": "stream",
     "text": [
      "C:\\Users\\alexsaunders\\AppData\\Local\\Temp\\ipykernel_13448\\724766185.py:13: FutureWarning: The frame.append method is deprecated and will be removed from pandas in a future version. Use pandas.concat instead.\n",
      "  dfScenes = dfScenes.append({'location':strFilePath, 'geometry': box(bounds[0], bounds[1], bounds[2], bounds[3])},ignore_index=True)\n",
      "C:\\Users\\alexsaunders\\AppData\\Local\\Temp\\ipykernel_13448\\724766185.py:13: FutureWarning: The frame.append method is deprecated and will be removed from pandas in a future version. Use pandas.concat instead.\n",
      "  dfScenes = dfScenes.append({'location':strFilePath, 'geometry': box(bounds[0], bounds[1], bounds[2], bounds[3])},ignore_index=True)\n",
      "C:\\Users\\alexsaunders\\AppData\\Local\\Temp\\ipykernel_13448\\724766185.py:13: FutureWarning: The frame.append method is deprecated and will be removed from pandas in a future version. Use pandas.concat instead.\n",
      "  dfScenes = dfScenes.append({'location':strFilePath, 'geometry': box(bounds[0], bounds[1], bounds[2], bounds[3])},ignore_index=True)\n",
      "C:\\Users\\alexsaunders\\AppData\\Local\\Temp\\ipykernel_13448\\724766185.py:13: FutureWarning: The frame.append method is deprecated and will be removed from pandas in a future version. Use pandas.concat instead.\n",
      "  dfScenes = dfScenes.append({'location':strFilePath, 'geometry': box(bounds[0], bounds[1], bounds[2], bounds[3])},ignore_index=True)\n",
      "C:\\Users\\alexsaunders\\AppData\\Local\\Temp\\ipykernel_13448\\724766185.py:13: FutureWarning: The frame.append method is deprecated and will be removed from pandas in a future version. Use pandas.concat instead.\n",
      "  dfScenes = dfScenes.append({'location':strFilePath, 'geometry': box(bounds[0], bounds[1], bounds[2], bounds[3])},ignore_index=True)\n",
      "C:\\Users\\alexsaunders\\AppData\\Local\\Temp\\ipykernel_13448\\724766185.py:13: FutureWarning: The frame.append method is deprecated and will be removed from pandas in a future version. Use pandas.concat instead.\n",
      "  dfScenes = dfScenes.append({'location':strFilePath, 'geometry': box(bounds[0], bounds[1], bounds[2], bounds[3])},ignore_index=True)\n"
     ]
    },
    {
     "name": "stdout",
     "output_type": "stream",
     "text": [
      "processing file 593/936\r"
     ]
    },
    {
     "name": "stderr",
     "output_type": "stream",
     "text": [
      "C:\\Users\\alexsaunders\\AppData\\Local\\Temp\\ipykernel_13448\\724766185.py:13: FutureWarning: The frame.append method is deprecated and will be removed from pandas in a future version. Use pandas.concat instead.\n",
      "  dfScenes = dfScenes.append({'location':strFilePath, 'geometry': box(bounds[0], bounds[1], bounds[2], bounds[3])},ignore_index=True)\n",
      "C:\\Users\\alexsaunders\\AppData\\Local\\Temp\\ipykernel_13448\\724766185.py:13: FutureWarning: The frame.append method is deprecated and will be removed from pandas in a future version. Use pandas.concat instead.\n",
      "  dfScenes = dfScenes.append({'location':strFilePath, 'geometry': box(bounds[0], bounds[1], bounds[2], bounds[3])},ignore_index=True)\n",
      "C:\\Users\\alexsaunders\\AppData\\Local\\Temp\\ipykernel_13448\\724766185.py:13: FutureWarning: The frame.append method is deprecated and will be removed from pandas in a future version. Use pandas.concat instead.\n",
      "  dfScenes = dfScenes.append({'location':strFilePath, 'geometry': box(bounds[0], bounds[1], bounds[2], bounds[3])},ignore_index=True)\n",
      "C:\\Users\\alexsaunders\\AppData\\Local\\Temp\\ipykernel_13448\\724766185.py:13: FutureWarning: The frame.append method is deprecated and will be removed from pandas in a future version. Use pandas.concat instead.\n",
      "  dfScenes = dfScenes.append({'location':strFilePath, 'geometry': box(bounds[0], bounds[1], bounds[2], bounds[3])},ignore_index=True)\n",
      "C:\\Users\\alexsaunders\\AppData\\Local\\Temp\\ipykernel_13448\\724766185.py:13: FutureWarning: The frame.append method is deprecated and will be removed from pandas in a future version. Use pandas.concat instead.\n",
      "  dfScenes = dfScenes.append({'location':strFilePath, 'geometry': box(bounds[0], bounds[1], bounds[2], bounds[3])},ignore_index=True)\n",
      "C:\\Users\\alexsaunders\\AppData\\Local\\Temp\\ipykernel_13448\\724766185.py:13: FutureWarning: The frame.append method is deprecated and will be removed from pandas in a future version. Use pandas.concat instead.\n",
      "  dfScenes = dfScenes.append({'location':strFilePath, 'geometry': box(bounds[0], bounds[1], bounds[2], bounds[3])},ignore_index=True)\n"
     ]
    },
    {
     "name": "stdout",
     "output_type": "stream",
     "text": [
      "processing file 599/936\r"
     ]
    },
    {
     "name": "stderr",
     "output_type": "stream",
     "text": [
      "C:\\Users\\alexsaunders\\AppData\\Local\\Temp\\ipykernel_13448\\724766185.py:13: FutureWarning: The frame.append method is deprecated and will be removed from pandas in a future version. Use pandas.concat instead.\n",
      "  dfScenes = dfScenes.append({'location':strFilePath, 'geometry': box(bounds[0], bounds[1], bounds[2], bounds[3])},ignore_index=True)\n",
      "C:\\Users\\alexsaunders\\AppData\\Local\\Temp\\ipykernel_13448\\724766185.py:13: FutureWarning: The frame.append method is deprecated and will be removed from pandas in a future version. Use pandas.concat instead.\n",
      "  dfScenes = dfScenes.append({'location':strFilePath, 'geometry': box(bounds[0], bounds[1], bounds[2], bounds[3])},ignore_index=True)\n",
      "C:\\Users\\alexsaunders\\AppData\\Local\\Temp\\ipykernel_13448\\724766185.py:13: FutureWarning: The frame.append method is deprecated and will be removed from pandas in a future version. Use pandas.concat instead.\n",
      "  dfScenes = dfScenes.append({'location':strFilePath, 'geometry': box(bounds[0], bounds[1], bounds[2], bounds[3])},ignore_index=True)\n",
      "C:\\Users\\alexsaunders\\AppData\\Local\\Temp\\ipykernel_13448\\724766185.py:13: FutureWarning: The frame.append method is deprecated and will be removed from pandas in a future version. Use pandas.concat instead.\n",
      "  dfScenes = dfScenes.append({'location':strFilePath, 'geometry': box(bounds[0], bounds[1], bounds[2], bounds[3])},ignore_index=True)\n",
      "C:\\Users\\alexsaunders\\AppData\\Local\\Temp\\ipykernel_13448\\724766185.py:13: FutureWarning: The frame.append method is deprecated and will be removed from pandas in a future version. Use pandas.concat instead.\n",
      "  dfScenes = dfScenes.append({'location':strFilePath, 'geometry': box(bounds[0], bounds[1], bounds[2], bounds[3])},ignore_index=True)\n"
     ]
    },
    {
     "name": "stdout",
     "output_type": "stream",
     "text": [
      "processing file 604/936\r"
     ]
    },
    {
     "name": "stderr",
     "output_type": "stream",
     "text": [
      "C:\\Users\\alexsaunders\\AppData\\Local\\Temp\\ipykernel_13448\\724766185.py:13: FutureWarning: The frame.append method is deprecated and will be removed from pandas in a future version. Use pandas.concat instead.\n",
      "  dfScenes = dfScenes.append({'location':strFilePath, 'geometry': box(bounds[0], bounds[1], bounds[2], bounds[3])},ignore_index=True)\n",
      "C:\\Users\\alexsaunders\\AppData\\Local\\Temp\\ipykernel_13448\\724766185.py:13: FutureWarning: The frame.append method is deprecated and will be removed from pandas in a future version. Use pandas.concat instead.\n",
      "  dfScenes = dfScenes.append({'location':strFilePath, 'geometry': box(bounds[0], bounds[1], bounds[2], bounds[3])},ignore_index=True)\n",
      "C:\\Users\\alexsaunders\\AppData\\Local\\Temp\\ipykernel_13448\\724766185.py:13: FutureWarning: The frame.append method is deprecated and will be removed from pandas in a future version. Use pandas.concat instead.\n",
      "  dfScenes = dfScenes.append({'location':strFilePath, 'geometry': box(bounds[0], bounds[1], bounds[2], bounds[3])},ignore_index=True)\n",
      "C:\\Users\\alexsaunders\\AppData\\Local\\Temp\\ipykernel_13448\\724766185.py:13: FutureWarning: The frame.append method is deprecated and will be removed from pandas in a future version. Use pandas.concat instead.\n",
      "  dfScenes = dfScenes.append({'location':strFilePath, 'geometry': box(bounds[0], bounds[1], bounds[2], bounds[3])},ignore_index=True)\n",
      "C:\\Users\\alexsaunders\\AppData\\Local\\Temp\\ipykernel_13448\\724766185.py:13: FutureWarning: The frame.append method is deprecated and will be removed from pandas in a future version. Use pandas.concat instead.\n",
      "  dfScenes = dfScenes.append({'location':strFilePath, 'geometry': box(bounds[0], bounds[1], bounds[2], bounds[3])},ignore_index=True)\n"
     ]
    },
    {
     "name": "stdout",
     "output_type": "stream",
     "text": [
      "processing file 609/936\r"
     ]
    },
    {
     "name": "stderr",
     "output_type": "stream",
     "text": [
      "C:\\Users\\alexsaunders\\AppData\\Local\\Temp\\ipykernel_13448\\724766185.py:13: FutureWarning: The frame.append method is deprecated and will be removed from pandas in a future version. Use pandas.concat instead.\n",
      "  dfScenes = dfScenes.append({'location':strFilePath, 'geometry': box(bounds[0], bounds[1], bounds[2], bounds[3])},ignore_index=True)\n",
      "C:\\Users\\alexsaunders\\AppData\\Local\\Temp\\ipykernel_13448\\724766185.py:13: FutureWarning: The frame.append method is deprecated and will be removed from pandas in a future version. Use pandas.concat instead.\n",
      "  dfScenes = dfScenes.append({'location':strFilePath, 'geometry': box(bounds[0], bounds[1], bounds[2], bounds[3])},ignore_index=True)\n",
      "C:\\Users\\alexsaunders\\AppData\\Local\\Temp\\ipykernel_13448\\724766185.py:13: FutureWarning: The frame.append method is deprecated and will be removed from pandas in a future version. Use pandas.concat instead.\n",
      "  dfScenes = dfScenes.append({'location':strFilePath, 'geometry': box(bounds[0], bounds[1], bounds[2], bounds[3])},ignore_index=True)\n",
      "C:\\Users\\alexsaunders\\AppData\\Local\\Temp\\ipykernel_13448\\724766185.py:13: FutureWarning: The frame.append method is deprecated and will be removed from pandas in a future version. Use pandas.concat instead.\n",
      "  dfScenes = dfScenes.append({'location':strFilePath, 'geometry': box(bounds[0], bounds[1], bounds[2], bounds[3])},ignore_index=True)\n",
      "C:\\Users\\alexsaunders\\AppData\\Local\\Temp\\ipykernel_13448\\724766185.py:13: FutureWarning: The frame.append method is deprecated and will be removed from pandas in a future version. Use pandas.concat instead.\n",
      "  dfScenes = dfScenes.append({'location':strFilePath, 'geometry': box(bounds[0], bounds[1], bounds[2], bounds[3])},ignore_index=True)\n"
     ]
    },
    {
     "name": "stdout",
     "output_type": "stream",
     "text": [
      "processing file 614/936\r"
     ]
    },
    {
     "name": "stderr",
     "output_type": "stream",
     "text": [
      "C:\\Users\\alexsaunders\\AppData\\Local\\Temp\\ipykernel_13448\\724766185.py:13: FutureWarning: The frame.append method is deprecated and will be removed from pandas in a future version. Use pandas.concat instead.\n",
      "  dfScenes = dfScenes.append({'location':strFilePath, 'geometry': box(bounds[0], bounds[1], bounds[2], bounds[3])},ignore_index=True)\n",
      "C:\\Users\\alexsaunders\\AppData\\Local\\Temp\\ipykernel_13448\\724766185.py:13: FutureWarning: The frame.append method is deprecated and will be removed from pandas in a future version. Use pandas.concat instead.\n",
      "  dfScenes = dfScenes.append({'location':strFilePath, 'geometry': box(bounds[0], bounds[1], bounds[2], bounds[3])},ignore_index=True)\n",
      "C:\\Users\\alexsaunders\\AppData\\Local\\Temp\\ipykernel_13448\\724766185.py:13: FutureWarning: The frame.append method is deprecated and will be removed from pandas in a future version. Use pandas.concat instead.\n",
      "  dfScenes = dfScenes.append({'location':strFilePath, 'geometry': box(bounds[0], bounds[1], bounds[2], bounds[3])},ignore_index=True)\n",
      "C:\\Users\\alexsaunders\\AppData\\Local\\Temp\\ipykernel_13448\\724766185.py:13: FutureWarning: The frame.append method is deprecated and will be removed from pandas in a future version. Use pandas.concat instead.\n",
      "  dfScenes = dfScenes.append({'location':strFilePath, 'geometry': box(bounds[0], bounds[1], bounds[2], bounds[3])},ignore_index=True)\n",
      "C:\\Users\\alexsaunders\\AppData\\Local\\Temp\\ipykernel_13448\\724766185.py:13: FutureWarning: The frame.append method is deprecated and will be removed from pandas in a future version. Use pandas.concat instead.\n",
      "  dfScenes = dfScenes.append({'location':strFilePath, 'geometry': box(bounds[0], bounds[1], bounds[2], bounds[3])},ignore_index=True)\n",
      "C:\\Users\\alexsaunders\\AppData\\Local\\Temp\\ipykernel_13448\\724766185.py:13: FutureWarning: The frame.append method is deprecated and will be removed from pandas in a future version. Use pandas.concat instead.\n",
      "  dfScenes = dfScenes.append({'location':strFilePath, 'geometry': box(bounds[0], bounds[1], bounds[2], bounds[3])},ignore_index=True)\n"
     ]
    },
    {
     "name": "stdout",
     "output_type": "stream",
     "text": [
      "processing file 620/936\r"
     ]
    },
    {
     "name": "stderr",
     "output_type": "stream",
     "text": [
      "C:\\Users\\alexsaunders\\AppData\\Local\\Temp\\ipykernel_13448\\724766185.py:13: FutureWarning: The frame.append method is deprecated and will be removed from pandas in a future version. Use pandas.concat instead.\n",
      "  dfScenes = dfScenes.append({'location':strFilePath, 'geometry': box(bounds[0], bounds[1], bounds[2], bounds[3])},ignore_index=True)\n",
      "C:\\Users\\alexsaunders\\AppData\\Local\\Temp\\ipykernel_13448\\724766185.py:13: FutureWarning: The frame.append method is deprecated and will be removed from pandas in a future version. Use pandas.concat instead.\n",
      "  dfScenes = dfScenes.append({'location':strFilePath, 'geometry': box(bounds[0], bounds[1], bounds[2], bounds[3])},ignore_index=True)\n",
      "C:\\Users\\alexsaunders\\AppData\\Local\\Temp\\ipykernel_13448\\724766185.py:13: FutureWarning: The frame.append method is deprecated and will be removed from pandas in a future version. Use pandas.concat instead.\n",
      "  dfScenes = dfScenes.append({'location':strFilePath, 'geometry': box(bounds[0], bounds[1], bounds[2], bounds[3])},ignore_index=True)\n",
      "C:\\Users\\alexsaunders\\AppData\\Local\\Temp\\ipykernel_13448\\724766185.py:13: FutureWarning: The frame.append method is deprecated and will be removed from pandas in a future version. Use pandas.concat instead.\n",
      "  dfScenes = dfScenes.append({'location':strFilePath, 'geometry': box(bounds[0], bounds[1], bounds[2], bounds[3])},ignore_index=True)\n",
      "C:\\Users\\alexsaunders\\AppData\\Local\\Temp\\ipykernel_13448\\724766185.py:13: FutureWarning: The frame.append method is deprecated and will be removed from pandas in a future version. Use pandas.concat instead.\n",
      "  dfScenes = dfScenes.append({'location':strFilePath, 'geometry': box(bounds[0], bounds[1], bounds[2], bounds[3])},ignore_index=True)\n",
      "C:\\Users\\alexsaunders\\AppData\\Local\\Temp\\ipykernel_13448\\724766185.py:13: FutureWarning: The frame.append method is deprecated and will be removed from pandas in a future version. Use pandas.concat instead.\n",
      "  dfScenes = dfScenes.append({'location':strFilePath, 'geometry': box(bounds[0], bounds[1], bounds[2], bounds[3])},ignore_index=True)\n"
     ]
    },
    {
     "name": "stdout",
     "output_type": "stream",
     "text": [
      "processing file 626/936\r"
     ]
    },
    {
     "name": "stderr",
     "output_type": "stream",
     "text": [
      "C:\\Users\\alexsaunders\\AppData\\Local\\Temp\\ipykernel_13448\\724766185.py:13: FutureWarning: The frame.append method is deprecated and will be removed from pandas in a future version. Use pandas.concat instead.\n",
      "  dfScenes = dfScenes.append({'location':strFilePath, 'geometry': box(bounds[0], bounds[1], bounds[2], bounds[3])},ignore_index=True)\n",
      "C:\\Users\\alexsaunders\\AppData\\Local\\Temp\\ipykernel_13448\\724766185.py:13: FutureWarning: The frame.append method is deprecated and will be removed from pandas in a future version. Use pandas.concat instead.\n",
      "  dfScenes = dfScenes.append({'location':strFilePath, 'geometry': box(bounds[0], bounds[1], bounds[2], bounds[3])},ignore_index=True)\n",
      "C:\\Users\\alexsaunders\\AppData\\Local\\Temp\\ipykernel_13448\\724766185.py:13: FutureWarning: The frame.append method is deprecated and will be removed from pandas in a future version. Use pandas.concat instead.\n",
      "  dfScenes = dfScenes.append({'location':strFilePath, 'geometry': box(bounds[0], bounds[1], bounds[2], bounds[3])},ignore_index=True)\n"
     ]
    },
    {
     "name": "stdout",
     "output_type": "stream",
     "text": [
      "processing file 629/936\r"
     ]
    },
    {
     "name": "stderr",
     "output_type": "stream",
     "text": [
      "C:\\Users\\alexsaunders\\AppData\\Local\\Temp\\ipykernel_13448\\724766185.py:13: FutureWarning: The frame.append method is deprecated and will be removed from pandas in a future version. Use pandas.concat instead.\n",
      "  dfScenes = dfScenes.append({'location':strFilePath, 'geometry': box(bounds[0], bounds[1], bounds[2], bounds[3])},ignore_index=True)\n",
      "C:\\Users\\alexsaunders\\AppData\\Local\\Temp\\ipykernel_13448\\724766185.py:13: FutureWarning: The frame.append method is deprecated and will be removed from pandas in a future version. Use pandas.concat instead.\n",
      "  dfScenes = dfScenes.append({'location':strFilePath, 'geometry': box(bounds[0], bounds[1], bounds[2], bounds[3])},ignore_index=True)\n",
      "C:\\Users\\alexsaunders\\AppData\\Local\\Temp\\ipykernel_13448\\724766185.py:13: FutureWarning: The frame.append method is deprecated and will be removed from pandas in a future version. Use pandas.concat instead.\n",
      "  dfScenes = dfScenes.append({'location':strFilePath, 'geometry': box(bounds[0], bounds[1], bounds[2], bounds[3])},ignore_index=True)\n",
      "C:\\Users\\alexsaunders\\AppData\\Local\\Temp\\ipykernel_13448\\724766185.py:13: FutureWarning: The frame.append method is deprecated and will be removed from pandas in a future version. Use pandas.concat instead.\n",
      "  dfScenes = dfScenes.append({'location':strFilePath, 'geometry': box(bounds[0], bounds[1], bounds[2], bounds[3])},ignore_index=True)\n",
      "C:\\Users\\alexsaunders\\AppData\\Local\\Temp\\ipykernel_13448\\724766185.py:13: FutureWarning: The frame.append method is deprecated and will be removed from pandas in a future version. Use pandas.concat instead.\n",
      "  dfScenes = dfScenes.append({'location':strFilePath, 'geometry': box(bounds[0], bounds[1], bounds[2], bounds[3])},ignore_index=True)\n",
      "C:\\Users\\alexsaunders\\AppData\\Local\\Temp\\ipykernel_13448\\724766185.py:13: FutureWarning: The frame.append method is deprecated and will be removed from pandas in a future version. Use pandas.concat instead.\n",
      "  dfScenes = dfScenes.append({'location':strFilePath, 'geometry': box(bounds[0], bounds[1], bounds[2], bounds[3])},ignore_index=True)\n"
     ]
    },
    {
     "name": "stdout",
     "output_type": "stream",
     "text": [
      "processing file 635/936\r"
     ]
    },
    {
     "name": "stderr",
     "output_type": "stream",
     "text": [
      "C:\\Users\\alexsaunders\\AppData\\Local\\Temp\\ipykernel_13448\\724766185.py:13: FutureWarning: The frame.append method is deprecated and will be removed from pandas in a future version. Use pandas.concat instead.\n",
      "  dfScenes = dfScenes.append({'location':strFilePath, 'geometry': box(bounds[0], bounds[1], bounds[2], bounds[3])},ignore_index=True)\n",
      "C:\\Users\\alexsaunders\\AppData\\Local\\Temp\\ipykernel_13448\\724766185.py:13: FutureWarning: The frame.append method is deprecated and will be removed from pandas in a future version. Use pandas.concat instead.\n",
      "  dfScenes = dfScenes.append({'location':strFilePath, 'geometry': box(bounds[0], bounds[1], bounds[2], bounds[3])},ignore_index=True)\n",
      "C:\\Users\\alexsaunders\\AppData\\Local\\Temp\\ipykernel_13448\\724766185.py:13: FutureWarning: The frame.append method is deprecated and will be removed from pandas in a future version. Use pandas.concat instead.\n",
      "  dfScenes = dfScenes.append({'location':strFilePath, 'geometry': box(bounds[0], bounds[1], bounds[2], bounds[3])},ignore_index=True)\n",
      "C:\\Users\\alexsaunders\\AppData\\Local\\Temp\\ipykernel_13448\\724766185.py:13: FutureWarning: The frame.append method is deprecated and will be removed from pandas in a future version. Use pandas.concat instead.\n",
      "  dfScenes = dfScenes.append({'location':strFilePath, 'geometry': box(bounds[0], bounds[1], bounds[2], bounds[3])},ignore_index=True)\n",
      "C:\\Users\\alexsaunders\\AppData\\Local\\Temp\\ipykernel_13448\\724766185.py:13: FutureWarning: The frame.append method is deprecated and will be removed from pandas in a future version. Use pandas.concat instead.\n",
      "  dfScenes = dfScenes.append({'location':strFilePath, 'geometry': box(bounds[0], bounds[1], bounds[2], bounds[3])},ignore_index=True)\n"
     ]
    },
    {
     "name": "stdout",
     "output_type": "stream",
     "text": [
      "processing file 640/936\r"
     ]
    },
    {
     "name": "stderr",
     "output_type": "stream",
     "text": [
      "C:\\Users\\alexsaunders\\AppData\\Local\\Temp\\ipykernel_13448\\724766185.py:13: FutureWarning: The frame.append method is deprecated and will be removed from pandas in a future version. Use pandas.concat instead.\n",
      "  dfScenes = dfScenes.append({'location':strFilePath, 'geometry': box(bounds[0], bounds[1], bounds[2], bounds[3])},ignore_index=True)\n",
      "C:\\Users\\alexsaunders\\AppData\\Local\\Temp\\ipykernel_13448\\724766185.py:13: FutureWarning: The frame.append method is deprecated and will be removed from pandas in a future version. Use pandas.concat instead.\n",
      "  dfScenes = dfScenes.append({'location':strFilePath, 'geometry': box(bounds[0], bounds[1], bounds[2], bounds[3])},ignore_index=True)\n",
      "C:\\Users\\alexsaunders\\AppData\\Local\\Temp\\ipykernel_13448\\724766185.py:13: FutureWarning: The frame.append method is deprecated and will be removed from pandas in a future version. Use pandas.concat instead.\n",
      "  dfScenes = dfScenes.append({'location':strFilePath, 'geometry': box(bounds[0], bounds[1], bounds[2], bounds[3])},ignore_index=True)\n",
      "C:\\Users\\alexsaunders\\AppData\\Local\\Temp\\ipykernel_13448\\724766185.py:13: FutureWarning: The frame.append method is deprecated and will be removed from pandas in a future version. Use pandas.concat instead.\n",
      "  dfScenes = dfScenes.append({'location':strFilePath, 'geometry': box(bounds[0], bounds[1], bounds[2], bounds[3])},ignore_index=True)\n",
      "C:\\Users\\alexsaunders\\AppData\\Local\\Temp\\ipykernel_13448\\724766185.py:13: FutureWarning: The frame.append method is deprecated and will be removed from pandas in a future version. Use pandas.concat instead.\n",
      "  dfScenes = dfScenes.append({'location':strFilePath, 'geometry': box(bounds[0], bounds[1], bounds[2], bounds[3])},ignore_index=True)\n",
      "C:\\Users\\alexsaunders\\AppData\\Local\\Temp\\ipykernel_13448\\724766185.py:13: FutureWarning: The frame.append method is deprecated and will be removed from pandas in a future version. Use pandas.concat instead.\n",
      "  dfScenes = dfScenes.append({'location':strFilePath, 'geometry': box(bounds[0], bounds[1], bounds[2], bounds[3])},ignore_index=True)\n"
     ]
    },
    {
     "name": "stdout",
     "output_type": "stream",
     "text": [
      "processing file 646/936\r"
     ]
    },
    {
     "name": "stderr",
     "output_type": "stream",
     "text": [
      "C:\\Users\\alexsaunders\\AppData\\Local\\Temp\\ipykernel_13448\\724766185.py:13: FutureWarning: The frame.append method is deprecated and will be removed from pandas in a future version. Use pandas.concat instead.\n",
      "  dfScenes = dfScenes.append({'location':strFilePath, 'geometry': box(bounds[0], bounds[1], bounds[2], bounds[3])},ignore_index=True)\n",
      "C:\\Users\\alexsaunders\\AppData\\Local\\Temp\\ipykernel_13448\\724766185.py:13: FutureWarning: The frame.append method is deprecated and will be removed from pandas in a future version. Use pandas.concat instead.\n",
      "  dfScenes = dfScenes.append({'location':strFilePath, 'geometry': box(bounds[0], bounds[1], bounds[2], bounds[3])},ignore_index=True)\n",
      "C:\\Users\\alexsaunders\\AppData\\Local\\Temp\\ipykernel_13448\\724766185.py:13: FutureWarning: The frame.append method is deprecated and will be removed from pandas in a future version. Use pandas.concat instead.\n",
      "  dfScenes = dfScenes.append({'location':strFilePath, 'geometry': box(bounds[0], bounds[1], bounds[2], bounds[3])},ignore_index=True)\n",
      "C:\\Users\\alexsaunders\\AppData\\Local\\Temp\\ipykernel_13448\\724766185.py:13: FutureWarning: The frame.append method is deprecated and will be removed from pandas in a future version. Use pandas.concat instead.\n",
      "  dfScenes = dfScenes.append({'location':strFilePath, 'geometry': box(bounds[0], bounds[1], bounds[2], bounds[3])},ignore_index=True)\n",
      "C:\\Users\\alexsaunders\\AppData\\Local\\Temp\\ipykernel_13448\\724766185.py:13: FutureWarning: The frame.append method is deprecated and will be removed from pandas in a future version. Use pandas.concat instead.\n",
      "  dfScenes = dfScenes.append({'location':strFilePath, 'geometry': box(bounds[0], bounds[1], bounds[2], bounds[3])},ignore_index=True)\n",
      "C:\\Users\\alexsaunders\\AppData\\Local\\Temp\\ipykernel_13448\\724766185.py:13: FutureWarning: The frame.append method is deprecated and will be removed from pandas in a future version. Use pandas.concat instead.\n",
      "  dfScenes = dfScenes.append({'location':strFilePath, 'geometry': box(bounds[0], bounds[1], bounds[2], bounds[3])},ignore_index=True)\n"
     ]
    },
    {
     "name": "stdout",
     "output_type": "stream",
     "text": [
      "processing file 652/936\r"
     ]
    },
    {
     "name": "stderr",
     "output_type": "stream",
     "text": [
      "C:\\Users\\alexsaunders\\AppData\\Local\\Temp\\ipykernel_13448\\724766185.py:13: FutureWarning: The frame.append method is deprecated and will be removed from pandas in a future version. Use pandas.concat instead.\n",
      "  dfScenes = dfScenes.append({'location':strFilePath, 'geometry': box(bounds[0], bounds[1], bounds[2], bounds[3])},ignore_index=True)\n",
      "C:\\Users\\alexsaunders\\AppData\\Local\\Temp\\ipykernel_13448\\724766185.py:13: FutureWarning: The frame.append method is deprecated and will be removed from pandas in a future version. Use pandas.concat instead.\n",
      "  dfScenes = dfScenes.append({'location':strFilePath, 'geometry': box(bounds[0], bounds[1], bounds[2], bounds[3])},ignore_index=True)\n",
      "C:\\Users\\alexsaunders\\AppData\\Local\\Temp\\ipykernel_13448\\724766185.py:13: FutureWarning: The frame.append method is deprecated and will be removed from pandas in a future version. Use pandas.concat instead.\n",
      "  dfScenes = dfScenes.append({'location':strFilePath, 'geometry': box(bounds[0], bounds[1], bounds[2], bounds[3])},ignore_index=True)\n",
      "C:\\Users\\alexsaunders\\AppData\\Local\\Temp\\ipykernel_13448\\724766185.py:13: FutureWarning: The frame.append method is deprecated and will be removed from pandas in a future version. Use pandas.concat instead.\n",
      "  dfScenes = dfScenes.append({'location':strFilePath, 'geometry': box(bounds[0], bounds[1], bounds[2], bounds[3])},ignore_index=True)\n",
      "C:\\Users\\alexsaunders\\AppData\\Local\\Temp\\ipykernel_13448\\724766185.py:13: FutureWarning: The frame.append method is deprecated and will be removed from pandas in a future version. Use pandas.concat instead.\n",
      "  dfScenes = dfScenes.append({'location':strFilePath, 'geometry': box(bounds[0], bounds[1], bounds[2], bounds[3])},ignore_index=True)\n",
      "C:\\Users\\alexsaunders\\AppData\\Local\\Temp\\ipykernel_13448\\724766185.py:13: FutureWarning: The frame.append method is deprecated and will be removed from pandas in a future version. Use pandas.concat instead.\n",
      "  dfScenes = dfScenes.append({'location':strFilePath, 'geometry': box(bounds[0], bounds[1], bounds[2], bounds[3])},ignore_index=True)\n"
     ]
    },
    {
     "name": "stdout",
     "output_type": "stream",
     "text": [
      "processing file 658/936\r"
     ]
    },
    {
     "name": "stderr",
     "output_type": "stream",
     "text": [
      "C:\\Users\\alexsaunders\\AppData\\Local\\Temp\\ipykernel_13448\\724766185.py:13: FutureWarning: The frame.append method is deprecated and will be removed from pandas in a future version. Use pandas.concat instead.\n",
      "  dfScenes = dfScenes.append({'location':strFilePath, 'geometry': box(bounds[0], bounds[1], bounds[2], bounds[3])},ignore_index=True)\n",
      "C:\\Users\\alexsaunders\\AppData\\Local\\Temp\\ipykernel_13448\\724766185.py:13: FutureWarning: The frame.append method is deprecated and will be removed from pandas in a future version. Use pandas.concat instead.\n",
      "  dfScenes = dfScenes.append({'location':strFilePath, 'geometry': box(bounds[0], bounds[1], bounds[2], bounds[3])},ignore_index=True)\n",
      "C:\\Users\\alexsaunders\\AppData\\Local\\Temp\\ipykernel_13448\\724766185.py:13: FutureWarning: The frame.append method is deprecated and will be removed from pandas in a future version. Use pandas.concat instead.\n",
      "  dfScenes = dfScenes.append({'location':strFilePath, 'geometry': box(bounds[0], bounds[1], bounds[2], bounds[3])},ignore_index=True)\n",
      "C:\\Users\\alexsaunders\\AppData\\Local\\Temp\\ipykernel_13448\\724766185.py:13: FutureWarning: The frame.append method is deprecated and will be removed from pandas in a future version. Use pandas.concat instead.\n",
      "  dfScenes = dfScenes.append({'location':strFilePath, 'geometry': box(bounds[0], bounds[1], bounds[2], bounds[3])},ignore_index=True)\n",
      "C:\\Users\\alexsaunders\\AppData\\Local\\Temp\\ipykernel_13448\\724766185.py:13: FutureWarning: The frame.append method is deprecated and will be removed from pandas in a future version. Use pandas.concat instead.\n",
      "  dfScenes = dfScenes.append({'location':strFilePath, 'geometry': box(bounds[0], bounds[1], bounds[2], bounds[3])},ignore_index=True)\n"
     ]
    },
    {
     "name": "stdout",
     "output_type": "stream",
     "text": [
      "processing file 664/936\r"
     ]
    },
    {
     "name": "stderr",
     "output_type": "stream",
     "text": [
      "C:\\Users\\alexsaunders\\AppData\\Local\\Temp\\ipykernel_13448\\724766185.py:13: FutureWarning: The frame.append method is deprecated and will be removed from pandas in a future version. Use pandas.concat instead.\n",
      "  dfScenes = dfScenes.append({'location':strFilePath, 'geometry': box(bounds[0], bounds[1], bounds[2], bounds[3])},ignore_index=True)\n",
      "C:\\Users\\alexsaunders\\AppData\\Local\\Temp\\ipykernel_13448\\724766185.py:13: FutureWarning: The frame.append method is deprecated and will be removed from pandas in a future version. Use pandas.concat instead.\n",
      "  dfScenes = dfScenes.append({'location':strFilePath, 'geometry': box(bounds[0], bounds[1], bounds[2], bounds[3])},ignore_index=True)\n",
      "C:\\Users\\alexsaunders\\AppData\\Local\\Temp\\ipykernel_13448\\724766185.py:13: FutureWarning: The frame.append method is deprecated and will be removed from pandas in a future version. Use pandas.concat instead.\n",
      "  dfScenes = dfScenes.append({'location':strFilePath, 'geometry': box(bounds[0], bounds[1], bounds[2], bounds[3])},ignore_index=True)\n",
      "C:\\Users\\alexsaunders\\AppData\\Local\\Temp\\ipykernel_13448\\724766185.py:13: FutureWarning: The frame.append method is deprecated and will be removed from pandas in a future version. Use pandas.concat instead.\n",
      "  dfScenes = dfScenes.append({'location':strFilePath, 'geometry': box(bounds[0], bounds[1], bounds[2], bounds[3])},ignore_index=True)\n",
      "C:\\Users\\alexsaunders\\AppData\\Local\\Temp\\ipykernel_13448\\724766185.py:13: FutureWarning: The frame.append method is deprecated and will be removed from pandas in a future version. Use pandas.concat instead.\n",
      "  dfScenes = dfScenes.append({'location':strFilePath, 'geometry': box(bounds[0], bounds[1], bounds[2], bounds[3])},ignore_index=True)\n"
     ]
    },
    {
     "name": "stdout",
     "output_type": "stream",
     "text": [
      "processing file 669/936\r"
     ]
    },
    {
     "name": "stderr",
     "output_type": "stream",
     "text": [
      "C:\\Users\\alexsaunders\\AppData\\Local\\Temp\\ipykernel_13448\\724766185.py:13: FutureWarning: The frame.append method is deprecated and will be removed from pandas in a future version. Use pandas.concat instead.\n",
      "  dfScenes = dfScenes.append({'location':strFilePath, 'geometry': box(bounds[0], bounds[1], bounds[2], bounds[3])},ignore_index=True)\n",
      "C:\\Users\\alexsaunders\\AppData\\Local\\Temp\\ipykernel_13448\\724766185.py:13: FutureWarning: The frame.append method is deprecated and will be removed from pandas in a future version. Use pandas.concat instead.\n",
      "  dfScenes = dfScenes.append({'location':strFilePath, 'geometry': box(bounds[0], bounds[1], bounds[2], bounds[3])},ignore_index=True)\n",
      "C:\\Users\\alexsaunders\\AppData\\Local\\Temp\\ipykernel_13448\\724766185.py:13: FutureWarning: The frame.append method is deprecated and will be removed from pandas in a future version. Use pandas.concat instead.\n",
      "  dfScenes = dfScenes.append({'location':strFilePath, 'geometry': box(bounds[0], bounds[1], bounds[2], bounds[3])},ignore_index=True)\n",
      "C:\\Users\\alexsaunders\\AppData\\Local\\Temp\\ipykernel_13448\\724766185.py:13: FutureWarning: The frame.append method is deprecated and will be removed from pandas in a future version. Use pandas.concat instead.\n",
      "  dfScenes = dfScenes.append({'location':strFilePath, 'geometry': box(bounds[0], bounds[1], bounds[2], bounds[3])},ignore_index=True)\n",
      "C:\\Users\\alexsaunders\\AppData\\Local\\Temp\\ipykernel_13448\\724766185.py:13: FutureWarning: The frame.append method is deprecated and will be removed from pandas in a future version. Use pandas.concat instead.\n",
      "  dfScenes = dfScenes.append({'location':strFilePath, 'geometry': box(bounds[0], bounds[1], bounds[2], bounds[3])},ignore_index=True)\n"
     ]
    },
    {
     "name": "stdout",
     "output_type": "stream",
     "text": [
      "processing file 674/936\r"
     ]
    },
    {
     "name": "stderr",
     "output_type": "stream",
     "text": [
      "C:\\Users\\alexsaunders\\AppData\\Local\\Temp\\ipykernel_13448\\724766185.py:13: FutureWarning: The frame.append method is deprecated and will be removed from pandas in a future version. Use pandas.concat instead.\n",
      "  dfScenes = dfScenes.append({'location':strFilePath, 'geometry': box(bounds[0], bounds[1], bounds[2], bounds[3])},ignore_index=True)\n",
      "C:\\Users\\alexsaunders\\AppData\\Local\\Temp\\ipykernel_13448\\724766185.py:13: FutureWarning: The frame.append method is deprecated and will be removed from pandas in a future version. Use pandas.concat instead.\n",
      "  dfScenes = dfScenes.append({'location':strFilePath, 'geometry': box(bounds[0], bounds[1], bounds[2], bounds[3])},ignore_index=True)\n",
      "C:\\Users\\alexsaunders\\AppData\\Local\\Temp\\ipykernel_13448\\724766185.py:13: FutureWarning: The frame.append method is deprecated and will be removed from pandas in a future version. Use pandas.concat instead.\n",
      "  dfScenes = dfScenes.append({'location':strFilePath, 'geometry': box(bounds[0], bounds[1], bounds[2], bounds[3])},ignore_index=True)\n",
      "C:\\Users\\alexsaunders\\AppData\\Local\\Temp\\ipykernel_13448\\724766185.py:13: FutureWarning: The frame.append method is deprecated and will be removed from pandas in a future version. Use pandas.concat instead.\n",
      "  dfScenes = dfScenes.append({'location':strFilePath, 'geometry': box(bounds[0], bounds[1], bounds[2], bounds[3])},ignore_index=True)\n",
      "C:\\Users\\alexsaunders\\AppData\\Local\\Temp\\ipykernel_13448\\724766185.py:13: FutureWarning: The frame.append method is deprecated and will be removed from pandas in a future version. Use pandas.concat instead.\n",
      "  dfScenes = dfScenes.append({'location':strFilePath, 'geometry': box(bounds[0], bounds[1], bounds[2], bounds[3])},ignore_index=True)\n",
      "C:\\Users\\alexsaunders\\AppData\\Local\\Temp\\ipykernel_13448\\724766185.py:13: FutureWarning: The frame.append method is deprecated and will be removed from pandas in a future version. Use pandas.concat instead.\n",
      "  dfScenes = dfScenes.append({'location':strFilePath, 'geometry': box(bounds[0], bounds[1], bounds[2], bounds[3])},ignore_index=True)\n"
     ]
    },
    {
     "name": "stdout",
     "output_type": "stream",
     "text": [
      "processing file 679/936\r"
     ]
    },
    {
     "name": "stderr",
     "output_type": "stream",
     "text": [
      "C:\\Users\\alexsaunders\\AppData\\Local\\Temp\\ipykernel_13448\\724766185.py:13: FutureWarning: The frame.append method is deprecated and will be removed from pandas in a future version. Use pandas.concat instead.\n",
      "  dfScenes = dfScenes.append({'location':strFilePath, 'geometry': box(bounds[0], bounds[1], bounds[2], bounds[3])},ignore_index=True)\n",
      "C:\\Users\\alexsaunders\\AppData\\Local\\Temp\\ipykernel_13448\\724766185.py:13: FutureWarning: The frame.append method is deprecated and will be removed from pandas in a future version. Use pandas.concat instead.\n",
      "  dfScenes = dfScenes.append({'location':strFilePath, 'geometry': box(bounds[0], bounds[1], bounds[2], bounds[3])},ignore_index=True)\n",
      "C:\\Users\\alexsaunders\\AppData\\Local\\Temp\\ipykernel_13448\\724766185.py:13: FutureWarning: The frame.append method is deprecated and will be removed from pandas in a future version. Use pandas.concat instead.\n",
      "  dfScenes = dfScenes.append({'location':strFilePath, 'geometry': box(bounds[0], bounds[1], bounds[2], bounds[3])},ignore_index=True)\n",
      "C:\\Users\\alexsaunders\\AppData\\Local\\Temp\\ipykernel_13448\\724766185.py:13: FutureWarning: The frame.append method is deprecated and will be removed from pandas in a future version. Use pandas.concat instead.\n",
      "  dfScenes = dfScenes.append({'location':strFilePath, 'geometry': box(bounds[0], bounds[1], bounds[2], bounds[3])},ignore_index=True)\n",
      "C:\\Users\\alexsaunders\\AppData\\Local\\Temp\\ipykernel_13448\\724766185.py:13: FutureWarning: The frame.append method is deprecated and will be removed from pandas in a future version. Use pandas.concat instead.\n",
      "  dfScenes = dfScenes.append({'location':strFilePath, 'geometry': box(bounds[0], bounds[1], bounds[2], bounds[3])},ignore_index=True)\n"
     ]
    },
    {
     "name": "stdout",
     "output_type": "stream",
     "text": [
      "processing file 684/936\r"
     ]
    },
    {
     "name": "stderr",
     "output_type": "stream",
     "text": [
      "C:\\Users\\alexsaunders\\AppData\\Local\\Temp\\ipykernel_13448\\724766185.py:13: FutureWarning: The frame.append method is deprecated and will be removed from pandas in a future version. Use pandas.concat instead.\n",
      "  dfScenes = dfScenes.append({'location':strFilePath, 'geometry': box(bounds[0], bounds[1], bounds[2], bounds[3])},ignore_index=True)\n",
      "C:\\Users\\alexsaunders\\AppData\\Local\\Temp\\ipykernel_13448\\724766185.py:13: FutureWarning: The frame.append method is deprecated and will be removed from pandas in a future version. Use pandas.concat instead.\n",
      "  dfScenes = dfScenes.append({'location':strFilePath, 'geometry': box(bounds[0], bounds[1], bounds[2], bounds[3])},ignore_index=True)\n",
      "C:\\Users\\alexsaunders\\AppData\\Local\\Temp\\ipykernel_13448\\724766185.py:13: FutureWarning: The frame.append method is deprecated and will be removed from pandas in a future version. Use pandas.concat instead.\n",
      "  dfScenes = dfScenes.append({'location':strFilePath, 'geometry': box(bounds[0], bounds[1], bounds[2], bounds[3])},ignore_index=True)\n",
      "C:\\Users\\alexsaunders\\AppData\\Local\\Temp\\ipykernel_13448\\724766185.py:13: FutureWarning: The frame.append method is deprecated and will be removed from pandas in a future version. Use pandas.concat instead.\n",
      "  dfScenes = dfScenes.append({'location':strFilePath, 'geometry': box(bounds[0], bounds[1], bounds[2], bounds[3])},ignore_index=True)\n",
      "C:\\Users\\alexsaunders\\AppData\\Local\\Temp\\ipykernel_13448\\724766185.py:13: FutureWarning: The frame.append method is deprecated and will be removed from pandas in a future version. Use pandas.concat instead.\n",
      "  dfScenes = dfScenes.append({'location':strFilePath, 'geometry': box(bounds[0], bounds[1], bounds[2], bounds[3])},ignore_index=True)\n"
     ]
    },
    {
     "name": "stdout",
     "output_type": "stream",
     "text": [
      "processing file 689/936\r"
     ]
    },
    {
     "name": "stderr",
     "output_type": "stream",
     "text": [
      "C:\\Users\\alexsaunders\\AppData\\Local\\Temp\\ipykernel_13448\\724766185.py:13: FutureWarning: The frame.append method is deprecated and will be removed from pandas in a future version. Use pandas.concat instead.\n",
      "  dfScenes = dfScenes.append({'location':strFilePath, 'geometry': box(bounds[0], bounds[1], bounds[2], bounds[3])},ignore_index=True)\n",
      "C:\\Users\\alexsaunders\\AppData\\Local\\Temp\\ipykernel_13448\\724766185.py:13: FutureWarning: The frame.append method is deprecated and will be removed from pandas in a future version. Use pandas.concat instead.\n",
      "  dfScenes = dfScenes.append({'location':strFilePath, 'geometry': box(bounds[0], bounds[1], bounds[2], bounds[3])},ignore_index=True)\n",
      "C:\\Users\\alexsaunders\\AppData\\Local\\Temp\\ipykernel_13448\\724766185.py:13: FutureWarning: The frame.append method is deprecated and will be removed from pandas in a future version. Use pandas.concat instead.\n",
      "  dfScenes = dfScenes.append({'location':strFilePath, 'geometry': box(bounds[0], bounds[1], bounds[2], bounds[3])},ignore_index=True)\n",
      "C:\\Users\\alexsaunders\\AppData\\Local\\Temp\\ipykernel_13448\\724766185.py:13: FutureWarning: The frame.append method is deprecated and will be removed from pandas in a future version. Use pandas.concat instead.\n",
      "  dfScenes = dfScenes.append({'location':strFilePath, 'geometry': box(bounds[0], bounds[1], bounds[2], bounds[3])},ignore_index=True)\n"
     ]
    },
    {
     "name": "stdout",
     "output_type": "stream",
     "text": [
      "processing file 693/936\r"
     ]
    },
    {
     "name": "stderr",
     "output_type": "stream",
     "text": [
      "C:\\Users\\alexsaunders\\AppData\\Local\\Temp\\ipykernel_13448\\724766185.py:13: FutureWarning: The frame.append method is deprecated and will be removed from pandas in a future version. Use pandas.concat instead.\n",
      "  dfScenes = dfScenes.append({'location':strFilePath, 'geometry': box(bounds[0], bounds[1], bounds[2], bounds[3])},ignore_index=True)\n",
      "C:\\Users\\alexsaunders\\AppData\\Local\\Temp\\ipykernel_13448\\724766185.py:13: FutureWarning: The frame.append method is deprecated and will be removed from pandas in a future version. Use pandas.concat instead.\n",
      "  dfScenes = dfScenes.append({'location':strFilePath, 'geometry': box(bounds[0], bounds[1], bounds[2], bounds[3])},ignore_index=True)\n",
      "C:\\Users\\alexsaunders\\AppData\\Local\\Temp\\ipykernel_13448\\724766185.py:13: FutureWarning: The frame.append method is deprecated and will be removed from pandas in a future version. Use pandas.concat instead.\n",
      "  dfScenes = dfScenes.append({'location':strFilePath, 'geometry': box(bounds[0], bounds[1], bounds[2], bounds[3])},ignore_index=True)\n",
      "C:\\Users\\alexsaunders\\AppData\\Local\\Temp\\ipykernel_13448\\724766185.py:13: FutureWarning: The frame.append method is deprecated and will be removed from pandas in a future version. Use pandas.concat instead.\n",
      "  dfScenes = dfScenes.append({'location':strFilePath, 'geometry': box(bounds[0], bounds[1], bounds[2], bounds[3])},ignore_index=True)\n",
      "C:\\Users\\alexsaunders\\AppData\\Local\\Temp\\ipykernel_13448\\724766185.py:13: FutureWarning: The frame.append method is deprecated and will be removed from pandas in a future version. Use pandas.concat instead.\n",
      "  dfScenes = dfScenes.append({'location':strFilePath, 'geometry': box(bounds[0], bounds[1], bounds[2], bounds[3])},ignore_index=True)\n",
      "C:\\Users\\alexsaunders\\AppData\\Local\\Temp\\ipykernel_13448\\724766185.py:13: FutureWarning: The frame.append method is deprecated and will be removed from pandas in a future version. Use pandas.concat instead.\n",
      "  dfScenes = dfScenes.append({'location':strFilePath, 'geometry': box(bounds[0], bounds[1], bounds[2], bounds[3])},ignore_index=True)\n"
     ]
    },
    {
     "name": "stdout",
     "output_type": "stream",
     "text": [
      "processing file 699/936\r"
     ]
    },
    {
     "name": "stderr",
     "output_type": "stream",
     "text": [
      "C:\\Users\\alexsaunders\\AppData\\Local\\Temp\\ipykernel_13448\\724766185.py:13: FutureWarning: The frame.append method is deprecated and will be removed from pandas in a future version. Use pandas.concat instead.\n",
      "  dfScenes = dfScenes.append({'location':strFilePath, 'geometry': box(bounds[0], bounds[1], bounds[2], bounds[3])},ignore_index=True)\n",
      "C:\\Users\\alexsaunders\\AppData\\Local\\Temp\\ipykernel_13448\\724766185.py:13: FutureWarning: The frame.append method is deprecated and will be removed from pandas in a future version. Use pandas.concat instead.\n",
      "  dfScenes = dfScenes.append({'location':strFilePath, 'geometry': box(bounds[0], bounds[1], bounds[2], bounds[3])},ignore_index=True)\n",
      "C:\\Users\\alexsaunders\\AppData\\Local\\Temp\\ipykernel_13448\\724766185.py:13: FutureWarning: The frame.append method is deprecated and will be removed from pandas in a future version. Use pandas.concat instead.\n",
      "  dfScenes = dfScenes.append({'location':strFilePath, 'geometry': box(bounds[0], bounds[1], bounds[2], bounds[3])},ignore_index=True)\n",
      "C:\\Users\\alexsaunders\\AppData\\Local\\Temp\\ipykernel_13448\\724766185.py:13: FutureWarning: The frame.append method is deprecated and will be removed from pandas in a future version. Use pandas.concat instead.\n",
      "  dfScenes = dfScenes.append({'location':strFilePath, 'geometry': box(bounds[0], bounds[1], bounds[2], bounds[3])},ignore_index=True)\n",
      "C:\\Users\\alexsaunders\\AppData\\Local\\Temp\\ipykernel_13448\\724766185.py:13: FutureWarning: The frame.append method is deprecated and will be removed from pandas in a future version. Use pandas.concat instead.\n",
      "  dfScenes = dfScenes.append({'location':strFilePath, 'geometry': box(bounds[0], bounds[1], bounds[2], bounds[3])},ignore_index=True)\n",
      "C:\\Users\\alexsaunders\\AppData\\Local\\Temp\\ipykernel_13448\\724766185.py:13: FutureWarning: The frame.append method is deprecated and will be removed from pandas in a future version. Use pandas.concat instead.\n",
      "  dfScenes = dfScenes.append({'location':strFilePath, 'geometry': box(bounds[0], bounds[1], bounds[2], bounds[3])},ignore_index=True)\n"
     ]
    },
    {
     "name": "stdout",
     "output_type": "stream",
     "text": [
      "processing file 705/936\r"
     ]
    },
    {
     "name": "stderr",
     "output_type": "stream",
     "text": [
      "C:\\Users\\alexsaunders\\AppData\\Local\\Temp\\ipykernel_13448\\724766185.py:13: FutureWarning: The frame.append method is deprecated and will be removed from pandas in a future version. Use pandas.concat instead.\n",
      "  dfScenes = dfScenes.append({'location':strFilePath, 'geometry': box(bounds[0], bounds[1], bounds[2], bounds[3])},ignore_index=True)\n",
      "C:\\Users\\alexsaunders\\AppData\\Local\\Temp\\ipykernel_13448\\724766185.py:13: FutureWarning: The frame.append method is deprecated and will be removed from pandas in a future version. Use pandas.concat instead.\n",
      "  dfScenes = dfScenes.append({'location':strFilePath, 'geometry': box(bounds[0], bounds[1], bounds[2], bounds[3])},ignore_index=True)\n",
      "C:\\Users\\alexsaunders\\AppData\\Local\\Temp\\ipykernel_13448\\724766185.py:13: FutureWarning: The frame.append method is deprecated and will be removed from pandas in a future version. Use pandas.concat instead.\n",
      "  dfScenes = dfScenes.append({'location':strFilePath, 'geometry': box(bounds[0], bounds[1], bounds[2], bounds[3])},ignore_index=True)\n",
      "C:\\Users\\alexsaunders\\AppData\\Local\\Temp\\ipykernel_13448\\724766185.py:13: FutureWarning: The frame.append method is deprecated and will be removed from pandas in a future version. Use pandas.concat instead.\n",
      "  dfScenes = dfScenes.append({'location':strFilePath, 'geometry': box(bounds[0], bounds[1], bounds[2], bounds[3])},ignore_index=True)\n",
      "C:\\Users\\alexsaunders\\AppData\\Local\\Temp\\ipykernel_13448\\724766185.py:13: FutureWarning: The frame.append method is deprecated and will be removed from pandas in a future version. Use pandas.concat instead.\n",
      "  dfScenes = dfScenes.append({'location':strFilePath, 'geometry': box(bounds[0], bounds[1], bounds[2], bounds[3])},ignore_index=True)\n",
      "C:\\Users\\alexsaunders\\AppData\\Local\\Temp\\ipykernel_13448\\724766185.py:13: FutureWarning: The frame.append method is deprecated and will be removed from pandas in a future version. Use pandas.concat instead.\n",
      "  dfScenes = dfScenes.append({'location':strFilePath, 'geometry': box(bounds[0], bounds[1], bounds[2], bounds[3])},ignore_index=True)\n"
     ]
    },
    {
     "name": "stdout",
     "output_type": "stream",
     "text": [
      "processing file 711/936\r"
     ]
    },
    {
     "name": "stderr",
     "output_type": "stream",
     "text": [
      "C:\\Users\\alexsaunders\\AppData\\Local\\Temp\\ipykernel_13448\\724766185.py:13: FutureWarning: The frame.append method is deprecated and will be removed from pandas in a future version. Use pandas.concat instead.\n",
      "  dfScenes = dfScenes.append({'location':strFilePath, 'geometry': box(bounds[0], bounds[1], bounds[2], bounds[3])},ignore_index=True)\n",
      "C:\\Users\\alexsaunders\\AppData\\Local\\Temp\\ipykernel_13448\\724766185.py:13: FutureWarning: The frame.append method is deprecated and will be removed from pandas in a future version. Use pandas.concat instead.\n",
      "  dfScenes = dfScenes.append({'location':strFilePath, 'geometry': box(bounds[0], bounds[1], bounds[2], bounds[3])},ignore_index=True)\n",
      "C:\\Users\\alexsaunders\\AppData\\Local\\Temp\\ipykernel_13448\\724766185.py:13: FutureWarning: The frame.append method is deprecated and will be removed from pandas in a future version. Use pandas.concat instead.\n",
      "  dfScenes = dfScenes.append({'location':strFilePath, 'geometry': box(bounds[0], bounds[1], bounds[2], bounds[3])},ignore_index=True)\n",
      "C:\\Users\\alexsaunders\\AppData\\Local\\Temp\\ipykernel_13448\\724766185.py:13: FutureWarning: The frame.append method is deprecated and will be removed from pandas in a future version. Use pandas.concat instead.\n",
      "  dfScenes = dfScenes.append({'location':strFilePath, 'geometry': box(bounds[0], bounds[1], bounds[2], bounds[3])},ignore_index=True)\n",
      "C:\\Users\\alexsaunders\\AppData\\Local\\Temp\\ipykernel_13448\\724766185.py:13: FutureWarning: The frame.append method is deprecated and will be removed from pandas in a future version. Use pandas.concat instead.\n",
      "  dfScenes = dfScenes.append({'location':strFilePath, 'geometry': box(bounds[0], bounds[1], bounds[2], bounds[3])},ignore_index=True)\n",
      "C:\\Users\\alexsaunders\\AppData\\Local\\Temp\\ipykernel_13448\\724766185.py:13: FutureWarning: The frame.append method is deprecated and will be removed from pandas in a future version. Use pandas.concat instead.\n",
      "  dfScenes = dfScenes.append({'location':strFilePath, 'geometry': box(bounds[0], bounds[1], bounds[2], bounds[3])},ignore_index=True)\n"
     ]
    },
    {
     "name": "stdout",
     "output_type": "stream",
     "text": [
      "processing file 717/936\r"
     ]
    },
    {
     "name": "stderr",
     "output_type": "stream",
     "text": [
      "C:\\Users\\alexsaunders\\AppData\\Local\\Temp\\ipykernel_13448\\724766185.py:13: FutureWarning: The frame.append method is deprecated and will be removed from pandas in a future version. Use pandas.concat instead.\n",
      "  dfScenes = dfScenes.append({'location':strFilePath, 'geometry': box(bounds[0], bounds[1], bounds[2], bounds[3])},ignore_index=True)\n",
      "C:\\Users\\alexsaunders\\AppData\\Local\\Temp\\ipykernel_13448\\724766185.py:13: FutureWarning: The frame.append method is deprecated and will be removed from pandas in a future version. Use pandas.concat instead.\n",
      "  dfScenes = dfScenes.append({'location':strFilePath, 'geometry': box(bounds[0], bounds[1], bounds[2], bounds[3])},ignore_index=True)\n",
      "C:\\Users\\alexsaunders\\AppData\\Local\\Temp\\ipykernel_13448\\724766185.py:13: FutureWarning: The frame.append method is deprecated and will be removed from pandas in a future version. Use pandas.concat instead.\n",
      "  dfScenes = dfScenes.append({'location':strFilePath, 'geometry': box(bounds[0], bounds[1], bounds[2], bounds[3])},ignore_index=True)\n",
      "C:\\Users\\alexsaunders\\AppData\\Local\\Temp\\ipykernel_13448\\724766185.py:13: FutureWarning: The frame.append method is deprecated and will be removed from pandas in a future version. Use pandas.concat instead.\n",
      "  dfScenes = dfScenes.append({'location':strFilePath, 'geometry': box(bounds[0], bounds[1], bounds[2], bounds[3])},ignore_index=True)\n",
      "C:\\Users\\alexsaunders\\AppData\\Local\\Temp\\ipykernel_13448\\724766185.py:13: FutureWarning: The frame.append method is deprecated and will be removed from pandas in a future version. Use pandas.concat instead.\n",
      "  dfScenes = dfScenes.append({'location':strFilePath, 'geometry': box(bounds[0], bounds[1], bounds[2], bounds[3])},ignore_index=True)\n",
      "C:\\Users\\alexsaunders\\AppData\\Local\\Temp\\ipykernel_13448\\724766185.py:13: FutureWarning: The frame.append method is deprecated and will be removed from pandas in a future version. Use pandas.concat instead.\n",
      "  dfScenes = dfScenes.append({'location':strFilePath, 'geometry': box(bounds[0], bounds[1], bounds[2], bounds[3])},ignore_index=True)\n"
     ]
    },
    {
     "name": "stdout",
     "output_type": "stream",
     "text": [
      "processing file 723/936\r"
     ]
    },
    {
     "name": "stderr",
     "output_type": "stream",
     "text": [
      "C:\\Users\\alexsaunders\\AppData\\Local\\Temp\\ipykernel_13448\\724766185.py:13: FutureWarning: The frame.append method is deprecated and will be removed from pandas in a future version. Use pandas.concat instead.\n",
      "  dfScenes = dfScenes.append({'location':strFilePath, 'geometry': box(bounds[0], bounds[1], bounds[2], bounds[3])},ignore_index=True)\n",
      "C:\\Users\\alexsaunders\\AppData\\Local\\Temp\\ipykernel_13448\\724766185.py:13: FutureWarning: The frame.append method is deprecated and will be removed from pandas in a future version. Use pandas.concat instead.\n",
      "  dfScenes = dfScenes.append({'location':strFilePath, 'geometry': box(bounds[0], bounds[1], bounds[2], bounds[3])},ignore_index=True)\n",
      "C:\\Users\\alexsaunders\\AppData\\Local\\Temp\\ipykernel_13448\\724766185.py:13: FutureWarning: The frame.append method is deprecated and will be removed from pandas in a future version. Use pandas.concat instead.\n",
      "  dfScenes = dfScenes.append({'location':strFilePath, 'geometry': box(bounds[0], bounds[1], bounds[2], bounds[3])},ignore_index=True)\n",
      "C:\\Users\\alexsaunders\\AppData\\Local\\Temp\\ipykernel_13448\\724766185.py:13: FutureWarning: The frame.append method is deprecated and will be removed from pandas in a future version. Use pandas.concat instead.\n",
      "  dfScenes = dfScenes.append({'location':strFilePath, 'geometry': box(bounds[0], bounds[1], bounds[2], bounds[3])},ignore_index=True)\n",
      "C:\\Users\\alexsaunders\\AppData\\Local\\Temp\\ipykernel_13448\\724766185.py:13: FutureWarning: The frame.append method is deprecated and will be removed from pandas in a future version. Use pandas.concat instead.\n",
      "  dfScenes = dfScenes.append({'location':strFilePath, 'geometry': box(bounds[0], bounds[1], bounds[2], bounds[3])},ignore_index=True)\n",
      "C:\\Users\\alexsaunders\\AppData\\Local\\Temp\\ipykernel_13448\\724766185.py:13: FutureWarning: The frame.append method is deprecated and will be removed from pandas in a future version. Use pandas.concat instead.\n",
      "  dfScenes = dfScenes.append({'location':strFilePath, 'geometry': box(bounds[0], bounds[1], bounds[2], bounds[3])},ignore_index=True)\n"
     ]
    },
    {
     "name": "stdout",
     "output_type": "stream",
     "text": [
      "processing file 729/936\r"
     ]
    },
    {
     "name": "stderr",
     "output_type": "stream",
     "text": [
      "C:\\Users\\alexsaunders\\AppData\\Local\\Temp\\ipykernel_13448\\724766185.py:13: FutureWarning: The frame.append method is deprecated and will be removed from pandas in a future version. Use pandas.concat instead.\n",
      "  dfScenes = dfScenes.append({'location':strFilePath, 'geometry': box(bounds[0], bounds[1], bounds[2], bounds[3])},ignore_index=True)\n",
      "C:\\Users\\alexsaunders\\AppData\\Local\\Temp\\ipykernel_13448\\724766185.py:13: FutureWarning: The frame.append method is deprecated and will be removed from pandas in a future version. Use pandas.concat instead.\n",
      "  dfScenes = dfScenes.append({'location':strFilePath, 'geometry': box(bounds[0], bounds[1], bounds[2], bounds[3])},ignore_index=True)\n",
      "C:\\Users\\alexsaunders\\AppData\\Local\\Temp\\ipykernel_13448\\724766185.py:13: FutureWarning: The frame.append method is deprecated and will be removed from pandas in a future version. Use pandas.concat instead.\n",
      "  dfScenes = dfScenes.append({'location':strFilePath, 'geometry': box(bounds[0], bounds[1], bounds[2], bounds[3])},ignore_index=True)\n",
      "C:\\Users\\alexsaunders\\AppData\\Local\\Temp\\ipykernel_13448\\724766185.py:13: FutureWarning: The frame.append method is deprecated and will be removed from pandas in a future version. Use pandas.concat instead.\n",
      "  dfScenes = dfScenes.append({'location':strFilePath, 'geometry': box(bounds[0], bounds[1], bounds[2], bounds[3])},ignore_index=True)\n",
      "C:\\Users\\alexsaunders\\AppData\\Local\\Temp\\ipykernel_13448\\724766185.py:13: FutureWarning: The frame.append method is deprecated and will be removed from pandas in a future version. Use pandas.concat instead.\n",
      "  dfScenes = dfScenes.append({'location':strFilePath, 'geometry': box(bounds[0], bounds[1], bounds[2], bounds[3])},ignore_index=True)\n",
      "C:\\Users\\alexsaunders\\AppData\\Local\\Temp\\ipykernel_13448\\724766185.py:13: FutureWarning: The frame.append method is deprecated and will be removed from pandas in a future version. Use pandas.concat instead.\n",
      "  dfScenes = dfScenes.append({'location':strFilePath, 'geometry': box(bounds[0], bounds[1], bounds[2], bounds[3])},ignore_index=True)\n"
     ]
    },
    {
     "name": "stdout",
     "output_type": "stream",
     "text": [
      "processing file 735/936\r"
     ]
    },
    {
     "name": "stderr",
     "output_type": "stream",
     "text": [
      "C:\\Users\\alexsaunders\\AppData\\Local\\Temp\\ipykernel_13448\\724766185.py:13: FutureWarning: The frame.append method is deprecated and will be removed from pandas in a future version. Use pandas.concat instead.\n",
      "  dfScenes = dfScenes.append({'location':strFilePath, 'geometry': box(bounds[0], bounds[1], bounds[2], bounds[3])},ignore_index=True)\n",
      "C:\\Users\\alexsaunders\\AppData\\Local\\Temp\\ipykernel_13448\\724766185.py:13: FutureWarning: The frame.append method is deprecated and will be removed from pandas in a future version. Use pandas.concat instead.\n",
      "  dfScenes = dfScenes.append({'location':strFilePath, 'geometry': box(bounds[0], bounds[1], bounds[2], bounds[3])},ignore_index=True)\n",
      "C:\\Users\\alexsaunders\\AppData\\Local\\Temp\\ipykernel_13448\\724766185.py:13: FutureWarning: The frame.append method is deprecated and will be removed from pandas in a future version. Use pandas.concat instead.\n",
      "  dfScenes = dfScenes.append({'location':strFilePath, 'geometry': box(bounds[0], bounds[1], bounds[2], bounds[3])},ignore_index=True)\n",
      "C:\\Users\\alexsaunders\\AppData\\Local\\Temp\\ipykernel_13448\\724766185.py:13: FutureWarning: The frame.append method is deprecated and will be removed from pandas in a future version. Use pandas.concat instead.\n",
      "  dfScenes = dfScenes.append({'location':strFilePath, 'geometry': box(bounds[0], bounds[1], bounds[2], bounds[3])},ignore_index=True)\n",
      "C:\\Users\\alexsaunders\\AppData\\Local\\Temp\\ipykernel_13448\\724766185.py:13: FutureWarning: The frame.append method is deprecated and will be removed from pandas in a future version. Use pandas.concat instead.\n",
      "  dfScenes = dfScenes.append({'location':strFilePath, 'geometry': box(bounds[0], bounds[1], bounds[2], bounds[3])},ignore_index=True)\n",
      "C:\\Users\\alexsaunders\\AppData\\Local\\Temp\\ipykernel_13448\\724766185.py:13: FutureWarning: The frame.append method is deprecated and will be removed from pandas in a future version. Use pandas.concat instead.\n",
      "  dfScenes = dfScenes.append({'location':strFilePath, 'geometry': box(bounds[0], bounds[1], bounds[2], bounds[3])},ignore_index=True)\n"
     ]
    },
    {
     "name": "stdout",
     "output_type": "stream",
     "text": [
      "processing file 741/936\r"
     ]
    },
    {
     "name": "stderr",
     "output_type": "stream",
     "text": [
      "C:\\Users\\alexsaunders\\AppData\\Local\\Temp\\ipykernel_13448\\724766185.py:13: FutureWarning: The frame.append method is deprecated and will be removed from pandas in a future version. Use pandas.concat instead.\n",
      "  dfScenes = dfScenes.append({'location':strFilePath, 'geometry': box(bounds[0], bounds[1], bounds[2], bounds[3])},ignore_index=True)\n",
      "C:\\Users\\alexsaunders\\AppData\\Local\\Temp\\ipykernel_13448\\724766185.py:13: FutureWarning: The frame.append method is deprecated and will be removed from pandas in a future version. Use pandas.concat instead.\n",
      "  dfScenes = dfScenes.append({'location':strFilePath, 'geometry': box(bounds[0], bounds[1], bounds[2], bounds[3])},ignore_index=True)\n",
      "C:\\Users\\alexsaunders\\AppData\\Local\\Temp\\ipykernel_13448\\724766185.py:13: FutureWarning: The frame.append method is deprecated and will be removed from pandas in a future version. Use pandas.concat instead.\n",
      "  dfScenes = dfScenes.append({'location':strFilePath, 'geometry': box(bounds[0], bounds[1], bounds[2], bounds[3])},ignore_index=True)\n",
      "C:\\Users\\alexsaunders\\AppData\\Local\\Temp\\ipykernel_13448\\724766185.py:13: FutureWarning: The frame.append method is deprecated and will be removed from pandas in a future version. Use pandas.concat instead.\n",
      "  dfScenes = dfScenes.append({'location':strFilePath, 'geometry': box(bounds[0], bounds[1], bounds[2], bounds[3])},ignore_index=True)\n",
      "C:\\Users\\alexsaunders\\AppData\\Local\\Temp\\ipykernel_13448\\724766185.py:13: FutureWarning: The frame.append method is deprecated and will be removed from pandas in a future version. Use pandas.concat instead.\n",
      "  dfScenes = dfScenes.append({'location':strFilePath, 'geometry': box(bounds[0], bounds[1], bounds[2], bounds[3])},ignore_index=True)\n",
      "C:\\Users\\alexsaunders\\AppData\\Local\\Temp\\ipykernel_13448\\724766185.py:13: FutureWarning: The frame.append method is deprecated and will be removed from pandas in a future version. Use pandas.concat instead.\n",
      "  dfScenes = dfScenes.append({'location':strFilePath, 'geometry': box(bounds[0], bounds[1], bounds[2], bounds[3])},ignore_index=True)\n"
     ]
    },
    {
     "name": "stdout",
     "output_type": "stream",
     "text": [
      "processing file 747/936\r"
     ]
    },
    {
     "name": "stderr",
     "output_type": "stream",
     "text": [
      "C:\\Users\\alexsaunders\\AppData\\Local\\Temp\\ipykernel_13448\\724766185.py:13: FutureWarning: The frame.append method is deprecated and will be removed from pandas in a future version. Use pandas.concat instead.\n",
      "  dfScenes = dfScenes.append({'location':strFilePath, 'geometry': box(bounds[0], bounds[1], bounds[2], bounds[3])},ignore_index=True)\n",
      "C:\\Users\\alexsaunders\\AppData\\Local\\Temp\\ipykernel_13448\\724766185.py:13: FutureWarning: The frame.append method is deprecated and will be removed from pandas in a future version. Use pandas.concat instead.\n",
      "  dfScenes = dfScenes.append({'location':strFilePath, 'geometry': box(bounds[0], bounds[1], bounds[2], bounds[3])},ignore_index=True)\n",
      "C:\\Users\\alexsaunders\\AppData\\Local\\Temp\\ipykernel_13448\\724766185.py:13: FutureWarning: The frame.append method is deprecated and will be removed from pandas in a future version. Use pandas.concat instead.\n",
      "  dfScenes = dfScenes.append({'location':strFilePath, 'geometry': box(bounds[0], bounds[1], bounds[2], bounds[3])},ignore_index=True)\n",
      "C:\\Users\\alexsaunders\\AppData\\Local\\Temp\\ipykernel_13448\\724766185.py:13: FutureWarning: The frame.append method is deprecated and will be removed from pandas in a future version. Use pandas.concat instead.\n",
      "  dfScenes = dfScenes.append({'location':strFilePath, 'geometry': box(bounds[0], bounds[1], bounds[2], bounds[3])},ignore_index=True)\n",
      "C:\\Users\\alexsaunders\\AppData\\Local\\Temp\\ipykernel_13448\\724766185.py:13: FutureWarning: The frame.append method is deprecated and will be removed from pandas in a future version. Use pandas.concat instead.\n",
      "  dfScenes = dfScenes.append({'location':strFilePath, 'geometry': box(bounds[0], bounds[1], bounds[2], bounds[3])},ignore_index=True)\n",
      "C:\\Users\\alexsaunders\\AppData\\Local\\Temp\\ipykernel_13448\\724766185.py:13: FutureWarning: The frame.append method is deprecated and will be removed from pandas in a future version. Use pandas.concat instead.\n",
      "  dfScenes = dfScenes.append({'location':strFilePath, 'geometry': box(bounds[0], bounds[1], bounds[2], bounds[3])},ignore_index=True)\n"
     ]
    },
    {
     "name": "stdout",
     "output_type": "stream",
     "text": [
      "processing file 753/936\r"
     ]
    },
    {
     "name": "stderr",
     "output_type": "stream",
     "text": [
      "C:\\Users\\alexsaunders\\AppData\\Local\\Temp\\ipykernel_13448\\724766185.py:13: FutureWarning: The frame.append method is deprecated and will be removed from pandas in a future version. Use pandas.concat instead.\n",
      "  dfScenes = dfScenes.append({'location':strFilePath, 'geometry': box(bounds[0], bounds[1], bounds[2], bounds[3])},ignore_index=True)\n",
      "C:\\Users\\alexsaunders\\AppData\\Local\\Temp\\ipykernel_13448\\724766185.py:13: FutureWarning: The frame.append method is deprecated and will be removed from pandas in a future version. Use pandas.concat instead.\n",
      "  dfScenes = dfScenes.append({'location':strFilePath, 'geometry': box(bounds[0], bounds[1], bounds[2], bounds[3])},ignore_index=True)\n",
      "C:\\Users\\alexsaunders\\AppData\\Local\\Temp\\ipykernel_13448\\724766185.py:13: FutureWarning: The frame.append method is deprecated and will be removed from pandas in a future version. Use pandas.concat instead.\n",
      "  dfScenes = dfScenes.append({'location':strFilePath, 'geometry': box(bounds[0], bounds[1], bounds[2], bounds[3])},ignore_index=True)\n",
      "C:\\Users\\alexsaunders\\AppData\\Local\\Temp\\ipykernel_13448\\724766185.py:13: FutureWarning: The frame.append method is deprecated and will be removed from pandas in a future version. Use pandas.concat instead.\n",
      "  dfScenes = dfScenes.append({'location':strFilePath, 'geometry': box(bounds[0], bounds[1], bounds[2], bounds[3])},ignore_index=True)\n",
      "C:\\Users\\alexsaunders\\AppData\\Local\\Temp\\ipykernel_13448\\724766185.py:13: FutureWarning: The frame.append method is deprecated and will be removed from pandas in a future version. Use pandas.concat instead.\n",
      "  dfScenes = dfScenes.append({'location':strFilePath, 'geometry': box(bounds[0], bounds[1], bounds[2], bounds[3])},ignore_index=True)\n"
     ]
    },
    {
     "name": "stdout",
     "output_type": "stream",
     "text": [
      "processing file 758/936\r"
     ]
    },
    {
     "name": "stderr",
     "output_type": "stream",
     "text": [
      "C:\\Users\\alexsaunders\\AppData\\Local\\Temp\\ipykernel_13448\\724766185.py:13: FutureWarning: The frame.append method is deprecated and will be removed from pandas in a future version. Use pandas.concat instead.\n",
      "  dfScenes = dfScenes.append({'location':strFilePath, 'geometry': box(bounds[0], bounds[1], bounds[2], bounds[3])},ignore_index=True)\n",
      "C:\\Users\\alexsaunders\\AppData\\Local\\Temp\\ipykernel_13448\\724766185.py:13: FutureWarning: The frame.append method is deprecated and will be removed from pandas in a future version. Use pandas.concat instead.\n",
      "  dfScenes = dfScenes.append({'location':strFilePath, 'geometry': box(bounds[0], bounds[1], bounds[2], bounds[3])},ignore_index=True)\n",
      "C:\\Users\\alexsaunders\\AppData\\Local\\Temp\\ipykernel_13448\\724766185.py:13: FutureWarning: The frame.append method is deprecated and will be removed from pandas in a future version. Use pandas.concat instead.\n",
      "  dfScenes = dfScenes.append({'location':strFilePath, 'geometry': box(bounds[0], bounds[1], bounds[2], bounds[3])},ignore_index=True)\n",
      "C:\\Users\\alexsaunders\\AppData\\Local\\Temp\\ipykernel_13448\\724766185.py:13: FutureWarning: The frame.append method is deprecated and will be removed from pandas in a future version. Use pandas.concat instead.\n",
      "  dfScenes = dfScenes.append({'location':strFilePath, 'geometry': box(bounds[0], bounds[1], bounds[2], bounds[3])},ignore_index=True)\n",
      "C:\\Users\\alexsaunders\\AppData\\Local\\Temp\\ipykernel_13448\\724766185.py:13: FutureWarning: The frame.append method is deprecated and will be removed from pandas in a future version. Use pandas.concat instead.\n",
      "  dfScenes = dfScenes.append({'location':strFilePath, 'geometry': box(bounds[0], bounds[1], bounds[2], bounds[3])},ignore_index=True)\n"
     ]
    },
    {
     "name": "stdout",
     "output_type": "stream",
     "text": [
      "processing file 764/936\r"
     ]
    },
    {
     "name": "stderr",
     "output_type": "stream",
     "text": [
      "C:\\Users\\alexsaunders\\AppData\\Local\\Temp\\ipykernel_13448\\724766185.py:13: FutureWarning: The frame.append method is deprecated and will be removed from pandas in a future version. Use pandas.concat instead.\n",
      "  dfScenes = dfScenes.append({'location':strFilePath, 'geometry': box(bounds[0], bounds[1], bounds[2], bounds[3])},ignore_index=True)\n",
      "C:\\Users\\alexsaunders\\AppData\\Local\\Temp\\ipykernel_13448\\724766185.py:13: FutureWarning: The frame.append method is deprecated and will be removed from pandas in a future version. Use pandas.concat instead.\n",
      "  dfScenes = dfScenes.append({'location':strFilePath, 'geometry': box(bounds[0], bounds[1], bounds[2], bounds[3])},ignore_index=True)\n",
      "C:\\Users\\alexsaunders\\AppData\\Local\\Temp\\ipykernel_13448\\724766185.py:13: FutureWarning: The frame.append method is deprecated and will be removed from pandas in a future version. Use pandas.concat instead.\n",
      "  dfScenes = dfScenes.append({'location':strFilePath, 'geometry': box(bounds[0], bounds[1], bounds[2], bounds[3])},ignore_index=True)\n",
      "C:\\Users\\alexsaunders\\AppData\\Local\\Temp\\ipykernel_13448\\724766185.py:13: FutureWarning: The frame.append method is deprecated and will be removed from pandas in a future version. Use pandas.concat instead.\n",
      "  dfScenes = dfScenes.append({'location':strFilePath, 'geometry': box(bounds[0], bounds[1], bounds[2], bounds[3])},ignore_index=True)\n",
      "C:\\Users\\alexsaunders\\AppData\\Local\\Temp\\ipykernel_13448\\724766185.py:13: FutureWarning: The frame.append method is deprecated and will be removed from pandas in a future version. Use pandas.concat instead.\n",
      "  dfScenes = dfScenes.append({'location':strFilePath, 'geometry': box(bounds[0], bounds[1], bounds[2], bounds[3])},ignore_index=True)\n"
     ]
    },
    {
     "name": "stdout",
     "output_type": "stream",
     "text": [
      "processing file 770/936\r"
     ]
    },
    {
     "name": "stderr",
     "output_type": "stream",
     "text": [
      "C:\\Users\\alexsaunders\\AppData\\Local\\Temp\\ipykernel_13448\\724766185.py:13: FutureWarning: The frame.append method is deprecated and will be removed from pandas in a future version. Use pandas.concat instead.\n",
      "  dfScenes = dfScenes.append({'location':strFilePath, 'geometry': box(bounds[0], bounds[1], bounds[2], bounds[3])},ignore_index=True)\n",
      "C:\\Users\\alexsaunders\\AppData\\Local\\Temp\\ipykernel_13448\\724766185.py:13: FutureWarning: The frame.append method is deprecated and will be removed from pandas in a future version. Use pandas.concat instead.\n",
      "  dfScenes = dfScenes.append({'location':strFilePath, 'geometry': box(bounds[0], bounds[1], bounds[2], bounds[3])},ignore_index=True)\n",
      "C:\\Users\\alexsaunders\\AppData\\Local\\Temp\\ipykernel_13448\\724766185.py:13: FutureWarning: The frame.append method is deprecated and will be removed from pandas in a future version. Use pandas.concat instead.\n",
      "  dfScenes = dfScenes.append({'location':strFilePath, 'geometry': box(bounds[0], bounds[1], bounds[2], bounds[3])},ignore_index=True)\n",
      "C:\\Users\\alexsaunders\\AppData\\Local\\Temp\\ipykernel_13448\\724766185.py:13: FutureWarning: The frame.append method is deprecated and will be removed from pandas in a future version. Use pandas.concat instead.\n",
      "  dfScenes = dfScenes.append({'location':strFilePath, 'geometry': box(bounds[0], bounds[1], bounds[2], bounds[3])},ignore_index=True)\n",
      "C:\\Users\\alexsaunders\\AppData\\Local\\Temp\\ipykernel_13448\\724766185.py:13: FutureWarning: The frame.append method is deprecated and will be removed from pandas in a future version. Use pandas.concat instead.\n",
      "  dfScenes = dfScenes.append({'location':strFilePath, 'geometry': box(bounds[0], bounds[1], bounds[2], bounds[3])},ignore_index=True)\n"
     ]
    },
    {
     "name": "stdout",
     "output_type": "stream",
     "text": [
      "processing file 775/936\r"
     ]
    },
    {
     "name": "stderr",
     "output_type": "stream",
     "text": [
      "C:\\Users\\alexsaunders\\AppData\\Local\\Temp\\ipykernel_13448\\724766185.py:13: FutureWarning: The frame.append method is deprecated and will be removed from pandas in a future version. Use pandas.concat instead.\n",
      "  dfScenes = dfScenes.append({'location':strFilePath, 'geometry': box(bounds[0], bounds[1], bounds[2], bounds[3])},ignore_index=True)\n",
      "C:\\Users\\alexsaunders\\AppData\\Local\\Temp\\ipykernel_13448\\724766185.py:13: FutureWarning: The frame.append method is deprecated and will be removed from pandas in a future version. Use pandas.concat instead.\n",
      "  dfScenes = dfScenes.append({'location':strFilePath, 'geometry': box(bounds[0], bounds[1], bounds[2], bounds[3])},ignore_index=True)\n",
      "C:\\Users\\alexsaunders\\AppData\\Local\\Temp\\ipykernel_13448\\724766185.py:13: FutureWarning: The frame.append method is deprecated and will be removed from pandas in a future version. Use pandas.concat instead.\n",
      "  dfScenes = dfScenes.append({'location':strFilePath, 'geometry': box(bounds[0], bounds[1], bounds[2], bounds[3])},ignore_index=True)\n",
      "C:\\Users\\alexsaunders\\AppData\\Local\\Temp\\ipykernel_13448\\724766185.py:13: FutureWarning: The frame.append method is deprecated and will be removed from pandas in a future version. Use pandas.concat instead.\n",
      "  dfScenes = dfScenes.append({'location':strFilePath, 'geometry': box(bounds[0], bounds[1], bounds[2], bounds[3])},ignore_index=True)\n",
      "C:\\Users\\alexsaunders\\AppData\\Local\\Temp\\ipykernel_13448\\724766185.py:13: FutureWarning: The frame.append method is deprecated and will be removed from pandas in a future version. Use pandas.concat instead.\n",
      "  dfScenes = dfScenes.append({'location':strFilePath, 'geometry': box(bounds[0], bounds[1], bounds[2], bounds[3])},ignore_index=True)\n"
     ]
    },
    {
     "name": "stdout",
     "output_type": "stream",
     "text": [
      "processing file 781/936\r"
     ]
    },
    {
     "name": "stderr",
     "output_type": "stream",
     "text": [
      "C:\\Users\\alexsaunders\\AppData\\Local\\Temp\\ipykernel_13448\\724766185.py:13: FutureWarning: The frame.append method is deprecated and will be removed from pandas in a future version. Use pandas.concat instead.\n",
      "  dfScenes = dfScenes.append({'location':strFilePath, 'geometry': box(bounds[0], bounds[1], bounds[2], bounds[3])},ignore_index=True)\n",
      "C:\\Users\\alexsaunders\\AppData\\Local\\Temp\\ipykernel_13448\\724766185.py:13: FutureWarning: The frame.append method is deprecated and will be removed from pandas in a future version. Use pandas.concat instead.\n",
      "  dfScenes = dfScenes.append({'location':strFilePath, 'geometry': box(bounds[0], bounds[1], bounds[2], bounds[3])},ignore_index=True)\n",
      "C:\\Users\\alexsaunders\\AppData\\Local\\Temp\\ipykernel_13448\\724766185.py:13: FutureWarning: The frame.append method is deprecated and will be removed from pandas in a future version. Use pandas.concat instead.\n",
      "  dfScenes = dfScenes.append({'location':strFilePath, 'geometry': box(bounds[0], bounds[1], bounds[2], bounds[3])},ignore_index=True)\n",
      "C:\\Users\\alexsaunders\\AppData\\Local\\Temp\\ipykernel_13448\\724766185.py:13: FutureWarning: The frame.append method is deprecated and will be removed from pandas in a future version. Use pandas.concat instead.\n",
      "  dfScenes = dfScenes.append({'location':strFilePath, 'geometry': box(bounds[0], bounds[1], bounds[2], bounds[3])},ignore_index=True)\n",
      "C:\\Users\\alexsaunders\\AppData\\Local\\Temp\\ipykernel_13448\\724766185.py:13: FutureWarning: The frame.append method is deprecated and will be removed from pandas in a future version. Use pandas.concat instead.\n",
      "  dfScenes = dfScenes.append({'location':strFilePath, 'geometry': box(bounds[0], bounds[1], bounds[2], bounds[3])},ignore_index=True)\n"
     ]
    },
    {
     "name": "stdout",
     "output_type": "stream",
     "text": [
      "processing file 786/936\r"
     ]
    },
    {
     "name": "stderr",
     "output_type": "stream",
     "text": [
      "C:\\Users\\alexsaunders\\AppData\\Local\\Temp\\ipykernel_13448\\724766185.py:13: FutureWarning: The frame.append method is deprecated and will be removed from pandas in a future version. Use pandas.concat instead.\n",
      "  dfScenes = dfScenes.append({'location':strFilePath, 'geometry': box(bounds[0], bounds[1], bounds[2], bounds[3])},ignore_index=True)\n",
      "C:\\Users\\alexsaunders\\AppData\\Local\\Temp\\ipykernel_13448\\724766185.py:13: FutureWarning: The frame.append method is deprecated and will be removed from pandas in a future version. Use pandas.concat instead.\n",
      "  dfScenes = dfScenes.append({'location':strFilePath, 'geometry': box(bounds[0], bounds[1], bounds[2], bounds[3])},ignore_index=True)\n",
      "C:\\Users\\alexsaunders\\AppData\\Local\\Temp\\ipykernel_13448\\724766185.py:13: FutureWarning: The frame.append method is deprecated and will be removed from pandas in a future version. Use pandas.concat instead.\n",
      "  dfScenes = dfScenes.append({'location':strFilePath, 'geometry': box(bounds[0], bounds[1], bounds[2], bounds[3])},ignore_index=True)\n",
      "C:\\Users\\alexsaunders\\AppData\\Local\\Temp\\ipykernel_13448\\724766185.py:13: FutureWarning: The frame.append method is deprecated and will be removed from pandas in a future version. Use pandas.concat instead.\n",
      "  dfScenes = dfScenes.append({'location':strFilePath, 'geometry': box(bounds[0], bounds[1], bounds[2], bounds[3])},ignore_index=True)\n",
      "C:\\Users\\alexsaunders\\AppData\\Local\\Temp\\ipykernel_13448\\724766185.py:13: FutureWarning: The frame.append method is deprecated and will be removed from pandas in a future version. Use pandas.concat instead.\n",
      "  dfScenes = dfScenes.append({'location':strFilePath, 'geometry': box(bounds[0], bounds[1], bounds[2], bounds[3])},ignore_index=True)\n",
      "C:\\Users\\alexsaunders\\AppData\\Local\\Temp\\ipykernel_13448\\724766185.py:13: FutureWarning: The frame.append method is deprecated and will be removed from pandas in a future version. Use pandas.concat instead.\n",
      "  dfScenes = dfScenes.append({'location':strFilePath, 'geometry': box(bounds[0], bounds[1], bounds[2], bounds[3])},ignore_index=True)\n"
     ]
    },
    {
     "name": "stdout",
     "output_type": "stream",
     "text": [
      "processing file 791/936\r"
     ]
    },
    {
     "name": "stderr",
     "output_type": "stream",
     "text": [
      "C:\\Users\\alexsaunders\\AppData\\Local\\Temp\\ipykernel_13448\\724766185.py:13: FutureWarning: The frame.append method is deprecated and will be removed from pandas in a future version. Use pandas.concat instead.\n",
      "  dfScenes = dfScenes.append({'location':strFilePath, 'geometry': box(bounds[0], bounds[1], bounds[2], bounds[3])},ignore_index=True)\n",
      "C:\\Users\\alexsaunders\\AppData\\Local\\Temp\\ipykernel_13448\\724766185.py:13: FutureWarning: The frame.append method is deprecated and will be removed from pandas in a future version. Use pandas.concat instead.\n",
      "  dfScenes = dfScenes.append({'location':strFilePath, 'geometry': box(bounds[0], bounds[1], bounds[2], bounds[3])},ignore_index=True)\n",
      "C:\\Users\\alexsaunders\\AppData\\Local\\Temp\\ipykernel_13448\\724766185.py:13: FutureWarning: The frame.append method is deprecated and will be removed from pandas in a future version. Use pandas.concat instead.\n",
      "  dfScenes = dfScenes.append({'location':strFilePath, 'geometry': box(bounds[0], bounds[1], bounds[2], bounds[3])},ignore_index=True)\n",
      "C:\\Users\\alexsaunders\\AppData\\Local\\Temp\\ipykernel_13448\\724766185.py:13: FutureWarning: The frame.append method is deprecated and will be removed from pandas in a future version. Use pandas.concat instead.\n",
      "  dfScenes = dfScenes.append({'location':strFilePath, 'geometry': box(bounds[0], bounds[1], bounds[2], bounds[3])},ignore_index=True)\n",
      "C:\\Users\\alexsaunders\\AppData\\Local\\Temp\\ipykernel_13448\\724766185.py:13: FutureWarning: The frame.append method is deprecated and will be removed from pandas in a future version. Use pandas.concat instead.\n",
      "  dfScenes = dfScenes.append({'location':strFilePath, 'geometry': box(bounds[0], bounds[1], bounds[2], bounds[3])},ignore_index=True)\n",
      "C:\\Users\\alexsaunders\\AppData\\Local\\Temp\\ipykernel_13448\\724766185.py:13: FutureWarning: The frame.append method is deprecated and will be removed from pandas in a future version. Use pandas.concat instead.\n",
      "  dfScenes = dfScenes.append({'location':strFilePath, 'geometry': box(bounds[0], bounds[1], bounds[2], bounds[3])},ignore_index=True)\n"
     ]
    },
    {
     "name": "stdout",
     "output_type": "stream",
     "text": [
      "processing file 797/936\r"
     ]
    },
    {
     "name": "stderr",
     "output_type": "stream",
     "text": [
      "C:\\Users\\alexsaunders\\AppData\\Local\\Temp\\ipykernel_13448\\724766185.py:13: FutureWarning: The frame.append method is deprecated and will be removed from pandas in a future version. Use pandas.concat instead.\n",
      "  dfScenes = dfScenes.append({'location':strFilePath, 'geometry': box(bounds[0], bounds[1], bounds[2], bounds[3])},ignore_index=True)\n",
      "C:\\Users\\alexsaunders\\AppData\\Local\\Temp\\ipykernel_13448\\724766185.py:13: FutureWarning: The frame.append method is deprecated and will be removed from pandas in a future version. Use pandas.concat instead.\n",
      "  dfScenes = dfScenes.append({'location':strFilePath, 'geometry': box(bounds[0], bounds[1], bounds[2], bounds[3])},ignore_index=True)\n",
      "C:\\Users\\alexsaunders\\AppData\\Local\\Temp\\ipykernel_13448\\724766185.py:13: FutureWarning: The frame.append method is deprecated and will be removed from pandas in a future version. Use pandas.concat instead.\n",
      "  dfScenes = dfScenes.append({'location':strFilePath, 'geometry': box(bounds[0], bounds[1], bounds[2], bounds[3])},ignore_index=True)\n",
      "C:\\Users\\alexsaunders\\AppData\\Local\\Temp\\ipykernel_13448\\724766185.py:13: FutureWarning: The frame.append method is deprecated and will be removed from pandas in a future version. Use pandas.concat instead.\n",
      "  dfScenes = dfScenes.append({'location':strFilePath, 'geometry': box(bounds[0], bounds[1], bounds[2], bounds[3])},ignore_index=True)\n",
      "C:\\Users\\alexsaunders\\AppData\\Local\\Temp\\ipykernel_13448\\724766185.py:13: FutureWarning: The frame.append method is deprecated and will be removed from pandas in a future version. Use pandas.concat instead.\n",
      "  dfScenes = dfScenes.append({'location':strFilePath, 'geometry': box(bounds[0], bounds[1], bounds[2], bounds[3])},ignore_index=True)\n"
     ]
    },
    {
     "name": "stdout",
     "output_type": "stream",
     "text": [
      "processing file 802/936\r"
     ]
    },
    {
     "name": "stderr",
     "output_type": "stream",
     "text": [
      "C:\\Users\\alexsaunders\\AppData\\Local\\Temp\\ipykernel_13448\\724766185.py:13: FutureWarning: The frame.append method is deprecated and will be removed from pandas in a future version. Use pandas.concat instead.\n",
      "  dfScenes = dfScenes.append({'location':strFilePath, 'geometry': box(bounds[0], bounds[1], bounds[2], bounds[3])},ignore_index=True)\n",
      "C:\\Users\\alexsaunders\\AppData\\Local\\Temp\\ipykernel_13448\\724766185.py:13: FutureWarning: The frame.append method is deprecated and will be removed from pandas in a future version. Use pandas.concat instead.\n",
      "  dfScenes = dfScenes.append({'location':strFilePath, 'geometry': box(bounds[0], bounds[1], bounds[2], bounds[3])},ignore_index=True)\n",
      "C:\\Users\\alexsaunders\\AppData\\Local\\Temp\\ipykernel_13448\\724766185.py:13: FutureWarning: The frame.append method is deprecated and will be removed from pandas in a future version. Use pandas.concat instead.\n",
      "  dfScenes = dfScenes.append({'location':strFilePath, 'geometry': box(bounds[0], bounds[1], bounds[2], bounds[3])},ignore_index=True)\n",
      "C:\\Users\\alexsaunders\\AppData\\Local\\Temp\\ipykernel_13448\\724766185.py:13: FutureWarning: The frame.append method is deprecated and will be removed from pandas in a future version. Use pandas.concat instead.\n",
      "  dfScenes = dfScenes.append({'location':strFilePath, 'geometry': box(bounds[0], bounds[1], bounds[2], bounds[3])},ignore_index=True)\n",
      "C:\\Users\\alexsaunders\\AppData\\Local\\Temp\\ipykernel_13448\\724766185.py:13: FutureWarning: The frame.append method is deprecated and will be removed from pandas in a future version. Use pandas.concat instead.\n",
      "  dfScenes = dfScenes.append({'location':strFilePath, 'geometry': box(bounds[0], bounds[1], bounds[2], bounds[3])},ignore_index=True)\n"
     ]
    },
    {
     "name": "stdout",
     "output_type": "stream",
     "text": [
      "processing file 807/936\r"
     ]
    },
    {
     "name": "stderr",
     "output_type": "stream",
     "text": [
      "C:\\Users\\alexsaunders\\AppData\\Local\\Temp\\ipykernel_13448\\724766185.py:13: FutureWarning: The frame.append method is deprecated and will be removed from pandas in a future version. Use pandas.concat instead.\n",
      "  dfScenes = dfScenes.append({'location':strFilePath, 'geometry': box(bounds[0], bounds[1], bounds[2], bounds[3])},ignore_index=True)\n",
      "C:\\Users\\alexsaunders\\AppData\\Local\\Temp\\ipykernel_13448\\724766185.py:13: FutureWarning: The frame.append method is deprecated and will be removed from pandas in a future version. Use pandas.concat instead.\n",
      "  dfScenes = dfScenes.append({'location':strFilePath, 'geometry': box(bounds[0], bounds[1], bounds[2], bounds[3])},ignore_index=True)\n",
      "C:\\Users\\alexsaunders\\AppData\\Local\\Temp\\ipykernel_13448\\724766185.py:13: FutureWarning: The frame.append method is deprecated and will be removed from pandas in a future version. Use pandas.concat instead.\n",
      "  dfScenes = dfScenes.append({'location':strFilePath, 'geometry': box(bounds[0], bounds[1], bounds[2], bounds[3])},ignore_index=True)\n",
      "C:\\Users\\alexsaunders\\AppData\\Local\\Temp\\ipykernel_13448\\724766185.py:13: FutureWarning: The frame.append method is deprecated and will be removed from pandas in a future version. Use pandas.concat instead.\n",
      "  dfScenes = dfScenes.append({'location':strFilePath, 'geometry': box(bounds[0], bounds[1], bounds[2], bounds[3])},ignore_index=True)\n",
      "C:\\Users\\alexsaunders\\AppData\\Local\\Temp\\ipykernel_13448\\724766185.py:13: FutureWarning: The frame.append method is deprecated and will be removed from pandas in a future version. Use pandas.concat instead.\n",
      "  dfScenes = dfScenes.append({'location':strFilePath, 'geometry': box(bounds[0], bounds[1], bounds[2], bounds[3])},ignore_index=True)\n"
     ]
    },
    {
     "name": "stdout",
     "output_type": "stream",
     "text": [
      "processing file 810/936\r"
     ]
    },
    {
     "name": "stderr",
     "output_type": "stream",
     "text": [
      "C:\\Users\\alexsaunders\\AppData\\Local\\Temp\\ipykernel_13448\\724766185.py:13: FutureWarning: The frame.append method is deprecated and will be removed from pandas in a future version. Use pandas.concat instead.\n",
      "  dfScenes = dfScenes.append({'location':strFilePath, 'geometry': box(bounds[0], bounds[1], bounds[2], bounds[3])},ignore_index=True)\n",
      "C:\\Users\\alexsaunders\\AppData\\Local\\Temp\\ipykernel_13448\\724766185.py:13: FutureWarning: The frame.append method is deprecated and will be removed from pandas in a future version. Use pandas.concat instead.\n",
      "  dfScenes = dfScenes.append({'location':strFilePath, 'geometry': box(bounds[0], bounds[1], bounds[2], bounds[3])},ignore_index=True)\n",
      "C:\\Users\\alexsaunders\\AppData\\Local\\Temp\\ipykernel_13448\\724766185.py:13: FutureWarning: The frame.append method is deprecated and will be removed from pandas in a future version. Use pandas.concat instead.\n",
      "  dfScenes = dfScenes.append({'location':strFilePath, 'geometry': box(bounds[0], bounds[1], bounds[2], bounds[3])},ignore_index=True)\n",
      "C:\\Users\\alexsaunders\\AppData\\Local\\Temp\\ipykernel_13448\\724766185.py:13: FutureWarning: The frame.append method is deprecated and will be removed from pandas in a future version. Use pandas.concat instead.\n",
      "  dfScenes = dfScenes.append({'location':strFilePath, 'geometry': box(bounds[0], bounds[1], bounds[2], bounds[3])},ignore_index=True)\n"
     ]
    },
    {
     "name": "stdout",
     "output_type": "stream",
     "text": [
      "processing file 814/936\r"
     ]
    },
    {
     "name": "stderr",
     "output_type": "stream",
     "text": [
      "C:\\Users\\alexsaunders\\AppData\\Local\\Temp\\ipykernel_13448\\724766185.py:13: FutureWarning: The frame.append method is deprecated and will be removed from pandas in a future version. Use pandas.concat instead.\n",
      "  dfScenes = dfScenes.append({'location':strFilePath, 'geometry': box(bounds[0], bounds[1], bounds[2], bounds[3])},ignore_index=True)\n",
      "C:\\Users\\alexsaunders\\AppData\\Local\\Temp\\ipykernel_13448\\724766185.py:13: FutureWarning: The frame.append method is deprecated and will be removed from pandas in a future version. Use pandas.concat instead.\n",
      "  dfScenes = dfScenes.append({'location':strFilePath, 'geometry': box(bounds[0], bounds[1], bounds[2], bounds[3])},ignore_index=True)\n",
      "C:\\Users\\alexsaunders\\AppData\\Local\\Temp\\ipykernel_13448\\724766185.py:13: FutureWarning: The frame.append method is deprecated and will be removed from pandas in a future version. Use pandas.concat instead.\n",
      "  dfScenes = dfScenes.append({'location':strFilePath, 'geometry': box(bounds[0], bounds[1], bounds[2], bounds[3])},ignore_index=True)\n",
      "C:\\Users\\alexsaunders\\AppData\\Local\\Temp\\ipykernel_13448\\724766185.py:13: FutureWarning: The frame.append method is deprecated and will be removed from pandas in a future version. Use pandas.concat instead.\n",
      "  dfScenes = dfScenes.append({'location':strFilePath, 'geometry': box(bounds[0], bounds[1], bounds[2], bounds[3])},ignore_index=True)\n",
      "C:\\Users\\alexsaunders\\AppData\\Local\\Temp\\ipykernel_13448\\724766185.py:13: FutureWarning: The frame.append method is deprecated and will be removed from pandas in a future version. Use pandas.concat instead.\n",
      "  dfScenes = dfScenes.append({'location':strFilePath, 'geometry': box(bounds[0], bounds[1], bounds[2], bounds[3])},ignore_index=True)\n"
     ]
    },
    {
     "name": "stdout",
     "output_type": "stream",
     "text": [
      "processing file 819/936\r"
     ]
    },
    {
     "name": "stderr",
     "output_type": "stream",
     "text": [
      "C:\\Users\\alexsaunders\\AppData\\Local\\Temp\\ipykernel_13448\\724766185.py:13: FutureWarning: The frame.append method is deprecated and will be removed from pandas in a future version. Use pandas.concat instead.\n",
      "  dfScenes = dfScenes.append({'location':strFilePath, 'geometry': box(bounds[0], bounds[1], bounds[2], bounds[3])},ignore_index=True)\n",
      "C:\\Users\\alexsaunders\\AppData\\Local\\Temp\\ipykernel_13448\\724766185.py:13: FutureWarning: The frame.append method is deprecated and will be removed from pandas in a future version. Use pandas.concat instead.\n",
      "  dfScenes = dfScenes.append({'location':strFilePath, 'geometry': box(bounds[0], bounds[1], bounds[2], bounds[3])},ignore_index=True)\n",
      "C:\\Users\\alexsaunders\\AppData\\Local\\Temp\\ipykernel_13448\\724766185.py:13: FutureWarning: The frame.append method is deprecated and will be removed from pandas in a future version. Use pandas.concat instead.\n",
      "  dfScenes = dfScenes.append({'location':strFilePath, 'geometry': box(bounds[0], bounds[1], bounds[2], bounds[3])},ignore_index=True)\n",
      "C:\\Users\\alexsaunders\\AppData\\Local\\Temp\\ipykernel_13448\\724766185.py:13: FutureWarning: The frame.append method is deprecated and will be removed from pandas in a future version. Use pandas.concat instead.\n",
      "  dfScenes = dfScenes.append({'location':strFilePath, 'geometry': box(bounds[0], bounds[1], bounds[2], bounds[3])},ignore_index=True)\n",
      "C:\\Users\\alexsaunders\\AppData\\Local\\Temp\\ipykernel_13448\\724766185.py:13: FutureWarning: The frame.append method is deprecated and will be removed from pandas in a future version. Use pandas.concat instead.\n",
      "  dfScenes = dfScenes.append({'location':strFilePath, 'geometry': box(bounds[0], bounds[1], bounds[2], bounds[3])},ignore_index=True)\n"
     ]
    },
    {
     "name": "stdout",
     "output_type": "stream",
     "text": [
      "processing file 824/936\r"
     ]
    },
    {
     "name": "stderr",
     "output_type": "stream",
     "text": [
      "C:\\Users\\alexsaunders\\AppData\\Local\\Temp\\ipykernel_13448\\724766185.py:13: FutureWarning: The frame.append method is deprecated and will be removed from pandas in a future version. Use pandas.concat instead.\n",
      "  dfScenes = dfScenes.append({'location':strFilePath, 'geometry': box(bounds[0], bounds[1], bounds[2], bounds[3])},ignore_index=True)\n",
      "C:\\Users\\alexsaunders\\AppData\\Local\\Temp\\ipykernel_13448\\724766185.py:13: FutureWarning: The frame.append method is deprecated and will be removed from pandas in a future version. Use pandas.concat instead.\n",
      "  dfScenes = dfScenes.append({'location':strFilePath, 'geometry': box(bounds[0], bounds[1], bounds[2], bounds[3])},ignore_index=True)\n",
      "C:\\Users\\alexsaunders\\AppData\\Local\\Temp\\ipykernel_13448\\724766185.py:13: FutureWarning: The frame.append method is deprecated and will be removed from pandas in a future version. Use pandas.concat instead.\n",
      "  dfScenes = dfScenes.append({'location':strFilePath, 'geometry': box(bounds[0], bounds[1], bounds[2], bounds[3])},ignore_index=True)\n",
      "C:\\Users\\alexsaunders\\AppData\\Local\\Temp\\ipykernel_13448\\724766185.py:13: FutureWarning: The frame.append method is deprecated and will be removed from pandas in a future version. Use pandas.concat instead.\n",
      "  dfScenes = dfScenes.append({'location':strFilePath, 'geometry': box(bounds[0], bounds[1], bounds[2], bounds[3])},ignore_index=True)\n"
     ]
    },
    {
     "name": "stdout",
     "output_type": "stream",
     "text": [
      "processing file 828/936\r"
     ]
    },
    {
     "name": "stderr",
     "output_type": "stream",
     "text": [
      "C:\\Users\\alexsaunders\\AppData\\Local\\Temp\\ipykernel_13448\\724766185.py:13: FutureWarning: The frame.append method is deprecated and will be removed from pandas in a future version. Use pandas.concat instead.\n",
      "  dfScenes = dfScenes.append({'location':strFilePath, 'geometry': box(bounds[0], bounds[1], bounds[2], bounds[3])},ignore_index=True)\n",
      "C:\\Users\\alexsaunders\\AppData\\Local\\Temp\\ipykernel_13448\\724766185.py:13: FutureWarning: The frame.append method is deprecated and will be removed from pandas in a future version. Use pandas.concat instead.\n",
      "  dfScenes = dfScenes.append({'location':strFilePath, 'geometry': box(bounds[0], bounds[1], bounds[2], bounds[3])},ignore_index=True)\n",
      "C:\\Users\\alexsaunders\\AppData\\Local\\Temp\\ipykernel_13448\\724766185.py:13: FutureWarning: The frame.append method is deprecated and will be removed from pandas in a future version. Use pandas.concat instead.\n",
      "  dfScenes = dfScenes.append({'location':strFilePath, 'geometry': box(bounds[0], bounds[1], bounds[2], bounds[3])},ignore_index=True)\n",
      "C:\\Users\\alexsaunders\\AppData\\Local\\Temp\\ipykernel_13448\\724766185.py:13: FutureWarning: The frame.append method is deprecated and will be removed from pandas in a future version. Use pandas.concat instead.\n",
      "  dfScenes = dfScenes.append({'location':strFilePath, 'geometry': box(bounds[0], bounds[1], bounds[2], bounds[3])},ignore_index=True)\n",
      "C:\\Users\\alexsaunders\\AppData\\Local\\Temp\\ipykernel_13448\\724766185.py:13: FutureWarning: The frame.append method is deprecated and will be removed from pandas in a future version. Use pandas.concat instead.\n",
      "  dfScenes = dfScenes.append({'location':strFilePath, 'geometry': box(bounds[0], bounds[1], bounds[2], bounds[3])},ignore_index=True)\n"
     ]
    },
    {
     "name": "stdout",
     "output_type": "stream",
     "text": [
      "processing file 833/936\r"
     ]
    },
    {
     "name": "stderr",
     "output_type": "stream",
     "text": [
      "C:\\Users\\alexsaunders\\AppData\\Local\\Temp\\ipykernel_13448\\724766185.py:13: FutureWarning: The frame.append method is deprecated and will be removed from pandas in a future version. Use pandas.concat instead.\n",
      "  dfScenes = dfScenes.append({'location':strFilePath, 'geometry': box(bounds[0], bounds[1], bounds[2], bounds[3])},ignore_index=True)\n",
      "C:\\Users\\alexsaunders\\AppData\\Local\\Temp\\ipykernel_13448\\724766185.py:13: FutureWarning: The frame.append method is deprecated and will be removed from pandas in a future version. Use pandas.concat instead.\n",
      "  dfScenes = dfScenes.append({'location':strFilePath, 'geometry': box(bounds[0], bounds[1], bounds[2], bounds[3])},ignore_index=True)\n",
      "C:\\Users\\alexsaunders\\AppData\\Local\\Temp\\ipykernel_13448\\724766185.py:13: FutureWarning: The frame.append method is deprecated and will be removed from pandas in a future version. Use pandas.concat instead.\n",
      "  dfScenes = dfScenes.append({'location':strFilePath, 'geometry': box(bounds[0], bounds[1], bounds[2], bounds[3])},ignore_index=True)\n",
      "C:\\Users\\alexsaunders\\AppData\\Local\\Temp\\ipykernel_13448\\724766185.py:13: FutureWarning: The frame.append method is deprecated and will be removed from pandas in a future version. Use pandas.concat instead.\n",
      "  dfScenes = dfScenes.append({'location':strFilePath, 'geometry': box(bounds[0], bounds[1], bounds[2], bounds[3])},ignore_index=True)\n",
      "C:\\Users\\alexsaunders\\AppData\\Local\\Temp\\ipykernel_13448\\724766185.py:13: FutureWarning: The frame.append method is deprecated and will be removed from pandas in a future version. Use pandas.concat instead.\n",
      "  dfScenes = dfScenes.append({'location':strFilePath, 'geometry': box(bounds[0], bounds[1], bounds[2], bounds[3])},ignore_index=True)\n"
     ]
    },
    {
     "name": "stdout",
     "output_type": "stream",
     "text": [
      "processing file 838/936\r"
     ]
    },
    {
     "name": "stderr",
     "output_type": "stream",
     "text": [
      "C:\\Users\\alexsaunders\\AppData\\Local\\Temp\\ipykernel_13448\\724766185.py:13: FutureWarning: The frame.append method is deprecated and will be removed from pandas in a future version. Use pandas.concat instead.\n",
      "  dfScenes = dfScenes.append({'location':strFilePath, 'geometry': box(bounds[0], bounds[1], bounds[2], bounds[3])},ignore_index=True)\n",
      "C:\\Users\\alexsaunders\\AppData\\Local\\Temp\\ipykernel_13448\\724766185.py:13: FutureWarning: The frame.append method is deprecated and will be removed from pandas in a future version. Use pandas.concat instead.\n",
      "  dfScenes = dfScenes.append({'location':strFilePath, 'geometry': box(bounds[0], bounds[1], bounds[2], bounds[3])},ignore_index=True)\n",
      "C:\\Users\\alexsaunders\\AppData\\Local\\Temp\\ipykernel_13448\\724766185.py:13: FutureWarning: The frame.append method is deprecated and will be removed from pandas in a future version. Use pandas.concat instead.\n",
      "  dfScenes = dfScenes.append({'location':strFilePath, 'geometry': box(bounds[0], bounds[1], bounds[2], bounds[3])},ignore_index=True)\n",
      "C:\\Users\\alexsaunders\\AppData\\Local\\Temp\\ipykernel_13448\\724766185.py:13: FutureWarning: The frame.append method is deprecated and will be removed from pandas in a future version. Use pandas.concat instead.\n",
      "  dfScenes = dfScenes.append({'location':strFilePath, 'geometry': box(bounds[0], bounds[1], bounds[2], bounds[3])},ignore_index=True)\n",
      "C:\\Users\\alexsaunders\\AppData\\Local\\Temp\\ipykernel_13448\\724766185.py:13: FutureWarning: The frame.append method is deprecated and will be removed from pandas in a future version. Use pandas.concat instead.\n",
      "  dfScenes = dfScenes.append({'location':strFilePath, 'geometry': box(bounds[0], bounds[1], bounds[2], bounds[3])},ignore_index=True)\n"
     ]
    },
    {
     "name": "stdout",
     "output_type": "stream",
     "text": [
      "processing file 843/936\r"
     ]
    },
    {
     "name": "stderr",
     "output_type": "stream",
     "text": [
      "C:\\Users\\alexsaunders\\AppData\\Local\\Temp\\ipykernel_13448\\724766185.py:13: FutureWarning: The frame.append method is deprecated and will be removed from pandas in a future version. Use pandas.concat instead.\n",
      "  dfScenes = dfScenes.append({'location':strFilePath, 'geometry': box(bounds[0], bounds[1], bounds[2], bounds[3])},ignore_index=True)\n",
      "C:\\Users\\alexsaunders\\AppData\\Local\\Temp\\ipykernel_13448\\724766185.py:13: FutureWarning: The frame.append method is deprecated and will be removed from pandas in a future version. Use pandas.concat instead.\n",
      "  dfScenes = dfScenes.append({'location':strFilePath, 'geometry': box(bounds[0], bounds[1], bounds[2], bounds[3])},ignore_index=True)\n",
      "C:\\Users\\alexsaunders\\AppData\\Local\\Temp\\ipykernel_13448\\724766185.py:13: FutureWarning: The frame.append method is deprecated and will be removed from pandas in a future version. Use pandas.concat instead.\n",
      "  dfScenes = dfScenes.append({'location':strFilePath, 'geometry': box(bounds[0], bounds[1], bounds[2], bounds[3])},ignore_index=True)\n",
      "C:\\Users\\alexsaunders\\AppData\\Local\\Temp\\ipykernel_13448\\724766185.py:13: FutureWarning: The frame.append method is deprecated and will be removed from pandas in a future version. Use pandas.concat instead.\n",
      "  dfScenes = dfScenes.append({'location':strFilePath, 'geometry': box(bounds[0], bounds[1], bounds[2], bounds[3])},ignore_index=True)\n",
      "C:\\Users\\alexsaunders\\AppData\\Local\\Temp\\ipykernel_13448\\724766185.py:13: FutureWarning: The frame.append method is deprecated and will be removed from pandas in a future version. Use pandas.concat instead.\n",
      "  dfScenes = dfScenes.append({'location':strFilePath, 'geometry': box(bounds[0], bounds[1], bounds[2], bounds[3])},ignore_index=True)\n"
     ]
    },
    {
     "name": "stdout",
     "output_type": "stream",
     "text": [
      "processing file 848/936\r"
     ]
    },
    {
     "name": "stderr",
     "output_type": "stream",
     "text": [
      "C:\\Users\\alexsaunders\\AppData\\Local\\Temp\\ipykernel_13448\\724766185.py:13: FutureWarning: The frame.append method is deprecated and will be removed from pandas in a future version. Use pandas.concat instead.\n",
      "  dfScenes = dfScenes.append({'location':strFilePath, 'geometry': box(bounds[0], bounds[1], bounds[2], bounds[3])},ignore_index=True)\n",
      "C:\\Users\\alexsaunders\\AppData\\Local\\Temp\\ipykernel_13448\\724766185.py:13: FutureWarning: The frame.append method is deprecated and will be removed from pandas in a future version. Use pandas.concat instead.\n",
      "  dfScenes = dfScenes.append({'location':strFilePath, 'geometry': box(bounds[0], bounds[1], bounds[2], bounds[3])},ignore_index=True)\n",
      "C:\\Users\\alexsaunders\\AppData\\Local\\Temp\\ipykernel_13448\\724766185.py:13: FutureWarning: The frame.append method is deprecated and will be removed from pandas in a future version. Use pandas.concat instead.\n",
      "  dfScenes = dfScenes.append({'location':strFilePath, 'geometry': box(bounds[0], bounds[1], bounds[2], bounds[3])},ignore_index=True)\n",
      "C:\\Users\\alexsaunders\\AppData\\Local\\Temp\\ipykernel_13448\\724766185.py:13: FutureWarning: The frame.append method is deprecated and will be removed from pandas in a future version. Use pandas.concat instead.\n",
      "  dfScenes = dfScenes.append({'location':strFilePath, 'geometry': box(bounds[0], bounds[1], bounds[2], bounds[3])},ignore_index=True)\n",
      "C:\\Users\\alexsaunders\\AppData\\Local\\Temp\\ipykernel_13448\\724766185.py:13: FutureWarning: The frame.append method is deprecated and will be removed from pandas in a future version. Use pandas.concat instead.\n",
      "  dfScenes = dfScenes.append({'location':strFilePath, 'geometry': box(bounds[0], bounds[1], bounds[2], bounds[3])},ignore_index=True)\n",
      "C:\\Users\\alexsaunders\\AppData\\Local\\Temp\\ipykernel_13448\\724766185.py:13: FutureWarning: The frame.append method is deprecated and will be removed from pandas in a future version. Use pandas.concat instead.\n",
      "  dfScenes = dfScenes.append({'location':strFilePath, 'geometry': box(bounds[0], bounds[1], bounds[2], bounds[3])},ignore_index=True)\n"
     ]
    },
    {
     "name": "stdout",
     "output_type": "stream",
     "text": [
      "processing file 854/936\r"
     ]
    },
    {
     "name": "stderr",
     "output_type": "stream",
     "text": [
      "C:\\Users\\alexsaunders\\AppData\\Local\\Temp\\ipykernel_13448\\724766185.py:13: FutureWarning: The frame.append method is deprecated and will be removed from pandas in a future version. Use pandas.concat instead.\n",
      "  dfScenes = dfScenes.append({'location':strFilePath, 'geometry': box(bounds[0], bounds[1], bounds[2], bounds[3])},ignore_index=True)\n",
      "C:\\Users\\alexsaunders\\AppData\\Local\\Temp\\ipykernel_13448\\724766185.py:13: FutureWarning: The frame.append method is deprecated and will be removed from pandas in a future version. Use pandas.concat instead.\n",
      "  dfScenes = dfScenes.append({'location':strFilePath, 'geometry': box(bounds[0], bounds[1], bounds[2], bounds[3])},ignore_index=True)\n",
      "C:\\Users\\alexsaunders\\AppData\\Local\\Temp\\ipykernel_13448\\724766185.py:13: FutureWarning: The frame.append method is deprecated and will be removed from pandas in a future version. Use pandas.concat instead.\n",
      "  dfScenes = dfScenes.append({'location':strFilePath, 'geometry': box(bounds[0], bounds[1], bounds[2], bounds[3])},ignore_index=True)\n",
      "C:\\Users\\alexsaunders\\AppData\\Local\\Temp\\ipykernel_13448\\724766185.py:13: FutureWarning: The frame.append method is deprecated and will be removed from pandas in a future version. Use pandas.concat instead.\n",
      "  dfScenes = dfScenes.append({'location':strFilePath, 'geometry': box(bounds[0], bounds[1], bounds[2], bounds[3])},ignore_index=True)\n",
      "C:\\Users\\alexsaunders\\AppData\\Local\\Temp\\ipykernel_13448\\724766185.py:13: FutureWarning: The frame.append method is deprecated and will be removed from pandas in a future version. Use pandas.concat instead.\n",
      "  dfScenes = dfScenes.append({'location':strFilePath, 'geometry': box(bounds[0], bounds[1], bounds[2], bounds[3])},ignore_index=True)\n"
     ]
    },
    {
     "name": "stdout",
     "output_type": "stream",
     "text": [
      "processing file 859/936\r"
     ]
    },
    {
     "name": "stderr",
     "output_type": "stream",
     "text": [
      "C:\\Users\\alexsaunders\\AppData\\Local\\Temp\\ipykernel_13448\\724766185.py:13: FutureWarning: The frame.append method is deprecated and will be removed from pandas in a future version. Use pandas.concat instead.\n",
      "  dfScenes = dfScenes.append({'location':strFilePath, 'geometry': box(bounds[0], bounds[1], bounds[2], bounds[3])},ignore_index=True)\n",
      "C:\\Users\\alexsaunders\\AppData\\Local\\Temp\\ipykernel_13448\\724766185.py:13: FutureWarning: The frame.append method is deprecated and will be removed from pandas in a future version. Use pandas.concat instead.\n",
      "  dfScenes = dfScenes.append({'location':strFilePath, 'geometry': box(bounds[0], bounds[1], bounds[2], bounds[3])},ignore_index=True)\n",
      "C:\\Users\\alexsaunders\\AppData\\Local\\Temp\\ipykernel_13448\\724766185.py:13: FutureWarning: The frame.append method is deprecated and will be removed from pandas in a future version. Use pandas.concat instead.\n",
      "  dfScenes = dfScenes.append({'location':strFilePath, 'geometry': box(bounds[0], bounds[1], bounds[2], bounds[3])},ignore_index=True)\n",
      "C:\\Users\\alexsaunders\\AppData\\Local\\Temp\\ipykernel_13448\\724766185.py:13: FutureWarning: The frame.append method is deprecated and will be removed from pandas in a future version. Use pandas.concat instead.\n",
      "  dfScenes = dfScenes.append({'location':strFilePath, 'geometry': box(bounds[0], bounds[1], bounds[2], bounds[3])},ignore_index=True)\n",
      "C:\\Users\\alexsaunders\\AppData\\Local\\Temp\\ipykernel_13448\\724766185.py:13: FutureWarning: The frame.append method is deprecated and will be removed from pandas in a future version. Use pandas.concat instead.\n",
      "  dfScenes = dfScenes.append({'location':strFilePath, 'geometry': box(bounds[0], bounds[1], bounds[2], bounds[3])},ignore_index=True)\n",
      "C:\\Users\\alexsaunders\\AppData\\Local\\Temp\\ipykernel_13448\\724766185.py:13: FutureWarning: The frame.append method is deprecated and will be removed from pandas in a future version. Use pandas.concat instead.\n",
      "  dfScenes = dfScenes.append({'location':strFilePath, 'geometry': box(bounds[0], bounds[1], bounds[2], bounds[3])},ignore_index=True)\n"
     ]
    },
    {
     "name": "stdout",
     "output_type": "stream",
     "text": [
      "processing file 865/936\r"
     ]
    },
    {
     "name": "stderr",
     "output_type": "stream",
     "text": [
      "C:\\Users\\alexsaunders\\AppData\\Local\\Temp\\ipykernel_13448\\724766185.py:13: FutureWarning: The frame.append method is deprecated and will be removed from pandas in a future version. Use pandas.concat instead.\n",
      "  dfScenes = dfScenes.append({'location':strFilePath, 'geometry': box(bounds[0], bounds[1], bounds[2], bounds[3])},ignore_index=True)\n",
      "C:\\Users\\alexsaunders\\AppData\\Local\\Temp\\ipykernel_13448\\724766185.py:13: FutureWarning: The frame.append method is deprecated and will be removed from pandas in a future version. Use pandas.concat instead.\n",
      "  dfScenes = dfScenes.append({'location':strFilePath, 'geometry': box(bounds[0], bounds[1], bounds[2], bounds[3])},ignore_index=True)\n",
      "C:\\Users\\alexsaunders\\AppData\\Local\\Temp\\ipykernel_13448\\724766185.py:13: FutureWarning: The frame.append method is deprecated and will be removed from pandas in a future version. Use pandas.concat instead.\n",
      "  dfScenes = dfScenes.append({'location':strFilePath, 'geometry': box(bounds[0], bounds[1], bounds[2], bounds[3])},ignore_index=True)\n",
      "C:\\Users\\alexsaunders\\AppData\\Local\\Temp\\ipykernel_13448\\724766185.py:13: FutureWarning: The frame.append method is deprecated and will be removed from pandas in a future version. Use pandas.concat instead.\n",
      "  dfScenes = dfScenes.append({'location':strFilePath, 'geometry': box(bounds[0], bounds[1], bounds[2], bounds[3])},ignore_index=True)\n",
      "C:\\Users\\alexsaunders\\AppData\\Local\\Temp\\ipykernel_13448\\724766185.py:13: FutureWarning: The frame.append method is deprecated and will be removed from pandas in a future version. Use pandas.concat instead.\n",
      "  dfScenes = dfScenes.append({'location':strFilePath, 'geometry': box(bounds[0], bounds[1], bounds[2], bounds[3])},ignore_index=True)\n"
     ]
    },
    {
     "name": "stdout",
     "output_type": "stream",
     "text": [
      "processing file 870/936\r"
     ]
    },
    {
     "name": "stderr",
     "output_type": "stream",
     "text": [
      "C:\\Users\\alexsaunders\\AppData\\Local\\Temp\\ipykernel_13448\\724766185.py:13: FutureWarning: The frame.append method is deprecated and will be removed from pandas in a future version. Use pandas.concat instead.\n",
      "  dfScenes = dfScenes.append({'location':strFilePath, 'geometry': box(bounds[0], bounds[1], bounds[2], bounds[3])},ignore_index=True)\n",
      "C:\\Users\\alexsaunders\\AppData\\Local\\Temp\\ipykernel_13448\\724766185.py:13: FutureWarning: The frame.append method is deprecated and will be removed from pandas in a future version. Use pandas.concat instead.\n",
      "  dfScenes = dfScenes.append({'location':strFilePath, 'geometry': box(bounds[0], bounds[1], bounds[2], bounds[3])},ignore_index=True)\n",
      "C:\\Users\\alexsaunders\\AppData\\Local\\Temp\\ipykernel_13448\\724766185.py:13: FutureWarning: The frame.append method is deprecated and will be removed from pandas in a future version. Use pandas.concat instead.\n",
      "  dfScenes = dfScenes.append({'location':strFilePath, 'geometry': box(bounds[0], bounds[1], bounds[2], bounds[3])},ignore_index=True)\n",
      "C:\\Users\\alexsaunders\\AppData\\Local\\Temp\\ipykernel_13448\\724766185.py:13: FutureWarning: The frame.append method is deprecated and will be removed from pandas in a future version. Use pandas.concat instead.\n",
      "  dfScenes = dfScenes.append({'location':strFilePath, 'geometry': box(bounds[0], bounds[1], bounds[2], bounds[3])},ignore_index=True)\n",
      "C:\\Users\\alexsaunders\\AppData\\Local\\Temp\\ipykernel_13448\\724766185.py:13: FutureWarning: The frame.append method is deprecated and will be removed from pandas in a future version. Use pandas.concat instead.\n",
      "  dfScenes = dfScenes.append({'location':strFilePath, 'geometry': box(bounds[0], bounds[1], bounds[2], bounds[3])},ignore_index=True)\n"
     ]
    },
    {
     "name": "stdout",
     "output_type": "stream",
     "text": [
      "processing file 875/936\r"
     ]
    },
    {
     "name": "stderr",
     "output_type": "stream",
     "text": [
      "C:\\Users\\alexsaunders\\AppData\\Local\\Temp\\ipykernel_13448\\724766185.py:13: FutureWarning: The frame.append method is deprecated and will be removed from pandas in a future version. Use pandas.concat instead.\n",
      "  dfScenes = dfScenes.append({'location':strFilePath, 'geometry': box(bounds[0], bounds[1], bounds[2], bounds[3])},ignore_index=True)\n",
      "C:\\Users\\alexsaunders\\AppData\\Local\\Temp\\ipykernel_13448\\724766185.py:13: FutureWarning: The frame.append method is deprecated and will be removed from pandas in a future version. Use pandas.concat instead.\n",
      "  dfScenes = dfScenes.append({'location':strFilePath, 'geometry': box(bounds[0], bounds[1], bounds[2], bounds[3])},ignore_index=True)\n",
      "C:\\Users\\alexsaunders\\AppData\\Local\\Temp\\ipykernel_13448\\724766185.py:13: FutureWarning: The frame.append method is deprecated and will be removed from pandas in a future version. Use pandas.concat instead.\n",
      "  dfScenes = dfScenes.append({'location':strFilePath, 'geometry': box(bounds[0], bounds[1], bounds[2], bounds[3])},ignore_index=True)\n",
      "C:\\Users\\alexsaunders\\AppData\\Local\\Temp\\ipykernel_13448\\724766185.py:13: FutureWarning: The frame.append method is deprecated and will be removed from pandas in a future version. Use pandas.concat instead.\n",
      "  dfScenes = dfScenes.append({'location':strFilePath, 'geometry': box(bounds[0], bounds[1], bounds[2], bounds[3])},ignore_index=True)\n",
      "C:\\Users\\alexsaunders\\AppData\\Local\\Temp\\ipykernel_13448\\724766185.py:13: FutureWarning: The frame.append method is deprecated and will be removed from pandas in a future version. Use pandas.concat instead.\n",
      "  dfScenes = dfScenes.append({'location':strFilePath, 'geometry': box(bounds[0], bounds[1], bounds[2], bounds[3])},ignore_index=True)\n",
      "C:\\Users\\alexsaunders\\AppData\\Local\\Temp\\ipykernel_13448\\724766185.py:13: FutureWarning: The frame.append method is deprecated and will be removed from pandas in a future version. Use pandas.concat instead.\n",
      "  dfScenes = dfScenes.append({'location':strFilePath, 'geometry': box(bounds[0], bounds[1], bounds[2], bounds[3])},ignore_index=True)\n"
     ]
    },
    {
     "name": "stdout",
     "output_type": "stream",
     "text": [
      "processing file 881/936\r"
     ]
    },
    {
     "name": "stderr",
     "output_type": "stream",
     "text": [
      "C:\\Users\\alexsaunders\\AppData\\Local\\Temp\\ipykernel_13448\\724766185.py:13: FutureWarning: The frame.append method is deprecated and will be removed from pandas in a future version. Use pandas.concat instead.\n",
      "  dfScenes = dfScenes.append({'location':strFilePath, 'geometry': box(bounds[0], bounds[1], bounds[2], bounds[3])},ignore_index=True)\n",
      "C:\\Users\\alexsaunders\\AppData\\Local\\Temp\\ipykernel_13448\\724766185.py:13: FutureWarning: The frame.append method is deprecated and will be removed from pandas in a future version. Use pandas.concat instead.\n",
      "  dfScenes = dfScenes.append({'location':strFilePath, 'geometry': box(bounds[0], bounds[1], bounds[2], bounds[3])},ignore_index=True)\n",
      "C:\\Users\\alexsaunders\\AppData\\Local\\Temp\\ipykernel_13448\\724766185.py:13: FutureWarning: The frame.append method is deprecated and will be removed from pandas in a future version. Use pandas.concat instead.\n",
      "  dfScenes = dfScenes.append({'location':strFilePath, 'geometry': box(bounds[0], bounds[1], bounds[2], bounds[3])},ignore_index=True)\n",
      "C:\\Users\\alexsaunders\\AppData\\Local\\Temp\\ipykernel_13448\\724766185.py:13: FutureWarning: The frame.append method is deprecated and will be removed from pandas in a future version. Use pandas.concat instead.\n",
      "  dfScenes = dfScenes.append({'location':strFilePath, 'geometry': box(bounds[0], bounds[1], bounds[2], bounds[3])},ignore_index=True)\n",
      "C:\\Users\\alexsaunders\\AppData\\Local\\Temp\\ipykernel_13448\\724766185.py:13: FutureWarning: The frame.append method is deprecated and will be removed from pandas in a future version. Use pandas.concat instead.\n",
      "  dfScenes = dfScenes.append({'location':strFilePath, 'geometry': box(bounds[0], bounds[1], bounds[2], bounds[3])},ignore_index=True)\n",
      "C:\\Users\\alexsaunders\\AppData\\Local\\Temp\\ipykernel_13448\\724766185.py:13: FutureWarning: The frame.append method is deprecated and will be removed from pandas in a future version. Use pandas.concat instead.\n",
      "  dfScenes = dfScenes.append({'location':strFilePath, 'geometry': box(bounds[0], bounds[1], bounds[2], bounds[3])},ignore_index=True)\n"
     ]
    },
    {
     "name": "stdout",
     "output_type": "stream",
     "text": [
      "processing file 887/936\r"
     ]
    },
    {
     "name": "stderr",
     "output_type": "stream",
     "text": [
      "C:\\Users\\alexsaunders\\AppData\\Local\\Temp\\ipykernel_13448\\724766185.py:13: FutureWarning: The frame.append method is deprecated and will be removed from pandas in a future version. Use pandas.concat instead.\n",
      "  dfScenes = dfScenes.append({'location':strFilePath, 'geometry': box(bounds[0], bounds[1], bounds[2], bounds[3])},ignore_index=True)\n",
      "C:\\Users\\alexsaunders\\AppData\\Local\\Temp\\ipykernel_13448\\724766185.py:13: FutureWarning: The frame.append method is deprecated and will be removed from pandas in a future version. Use pandas.concat instead.\n",
      "  dfScenes = dfScenes.append({'location':strFilePath, 'geometry': box(bounds[0], bounds[1], bounds[2], bounds[3])},ignore_index=True)\n",
      "C:\\Users\\alexsaunders\\AppData\\Local\\Temp\\ipykernel_13448\\724766185.py:13: FutureWarning: The frame.append method is deprecated and will be removed from pandas in a future version. Use pandas.concat instead.\n",
      "  dfScenes = dfScenes.append({'location':strFilePath, 'geometry': box(bounds[0], bounds[1], bounds[2], bounds[3])},ignore_index=True)\n",
      "C:\\Users\\alexsaunders\\AppData\\Local\\Temp\\ipykernel_13448\\724766185.py:13: FutureWarning: The frame.append method is deprecated and will be removed from pandas in a future version. Use pandas.concat instead.\n",
      "  dfScenes = dfScenes.append({'location':strFilePath, 'geometry': box(bounds[0], bounds[1], bounds[2], bounds[3])},ignore_index=True)\n",
      "C:\\Users\\alexsaunders\\AppData\\Local\\Temp\\ipykernel_13448\\724766185.py:13: FutureWarning: The frame.append method is deprecated and will be removed from pandas in a future version. Use pandas.concat instead.\n",
      "  dfScenes = dfScenes.append({'location':strFilePath, 'geometry': box(bounds[0], bounds[1], bounds[2], bounds[3])},ignore_index=True)\n",
      "C:\\Users\\alexsaunders\\AppData\\Local\\Temp\\ipykernel_13448\\724766185.py:13: FutureWarning: The frame.append method is deprecated and will be removed from pandas in a future version. Use pandas.concat instead.\n",
      "  dfScenes = dfScenes.append({'location':strFilePath, 'geometry': box(bounds[0], bounds[1], bounds[2], bounds[3])},ignore_index=True)\n"
     ]
    },
    {
     "name": "stdout",
     "output_type": "stream",
     "text": [
      "processing file 897/936\r"
     ]
    },
    {
     "name": "stderr",
     "output_type": "stream",
     "text": [
      "C:\\Users\\alexsaunders\\AppData\\Local\\Temp\\ipykernel_13448\\724766185.py:13: FutureWarning: The frame.append method is deprecated and will be removed from pandas in a future version. Use pandas.concat instead.\n",
      "  dfScenes = dfScenes.append({'location':strFilePath, 'geometry': box(bounds[0], bounds[1], bounds[2], bounds[3])},ignore_index=True)\n",
      "C:\\Users\\alexsaunders\\AppData\\Local\\Temp\\ipykernel_13448\\724766185.py:13: FutureWarning: The frame.append method is deprecated and will be removed from pandas in a future version. Use pandas.concat instead.\n",
      "  dfScenes = dfScenes.append({'location':strFilePath, 'geometry': box(bounds[0], bounds[1], bounds[2], bounds[3])},ignore_index=True)\n",
      "C:\\Users\\alexsaunders\\AppData\\Local\\Temp\\ipykernel_13448\\724766185.py:13: FutureWarning: The frame.append method is deprecated and will be removed from pandas in a future version. Use pandas.concat instead.\n",
      "  dfScenes = dfScenes.append({'location':strFilePath, 'geometry': box(bounds[0], bounds[1], bounds[2], bounds[3])},ignore_index=True)\n",
      "C:\\Users\\alexsaunders\\AppData\\Local\\Temp\\ipykernel_13448\\724766185.py:13: FutureWarning: The frame.append method is deprecated and will be removed from pandas in a future version. Use pandas.concat instead.\n",
      "  dfScenes = dfScenes.append({'location':strFilePath, 'geometry': box(bounds[0], bounds[1], bounds[2], bounds[3])},ignore_index=True)\n",
      "C:\\Users\\alexsaunders\\AppData\\Local\\Temp\\ipykernel_13448\\724766185.py:13: FutureWarning: The frame.append method is deprecated and will be removed from pandas in a future version. Use pandas.concat instead.\n",
      "  dfScenes = dfScenes.append({'location':strFilePath, 'geometry': box(bounds[0], bounds[1], bounds[2], bounds[3])},ignore_index=True)\n"
     ]
    },
    {
     "name": "stdout",
     "output_type": "stream",
     "text": [
      "processing file 902/936\r"
     ]
    },
    {
     "name": "stderr",
     "output_type": "stream",
     "text": [
      "C:\\Users\\alexsaunders\\AppData\\Local\\Temp\\ipykernel_13448\\724766185.py:13: FutureWarning: The frame.append method is deprecated and will be removed from pandas in a future version. Use pandas.concat instead.\n",
      "  dfScenes = dfScenes.append({'location':strFilePath, 'geometry': box(bounds[0], bounds[1], bounds[2], bounds[3])},ignore_index=True)\n",
      "C:\\Users\\alexsaunders\\AppData\\Local\\Temp\\ipykernel_13448\\724766185.py:13: FutureWarning: The frame.append method is deprecated and will be removed from pandas in a future version. Use pandas.concat instead.\n",
      "  dfScenes = dfScenes.append({'location':strFilePath, 'geometry': box(bounds[0], bounds[1], bounds[2], bounds[3])},ignore_index=True)\n",
      "C:\\Users\\alexsaunders\\AppData\\Local\\Temp\\ipykernel_13448\\724766185.py:13: FutureWarning: The frame.append method is deprecated and will be removed from pandas in a future version. Use pandas.concat instead.\n",
      "  dfScenes = dfScenes.append({'location':strFilePath, 'geometry': box(bounds[0], bounds[1], bounds[2], bounds[3])},ignore_index=True)\n",
      "C:\\Users\\alexsaunders\\AppData\\Local\\Temp\\ipykernel_13448\\724766185.py:13: FutureWarning: The frame.append method is deprecated and will be removed from pandas in a future version. Use pandas.concat instead.\n",
      "  dfScenes = dfScenes.append({'location':strFilePath, 'geometry': box(bounds[0], bounds[1], bounds[2], bounds[3])},ignore_index=True)\n",
      "C:\\Users\\alexsaunders\\AppData\\Local\\Temp\\ipykernel_13448\\724766185.py:13: FutureWarning: The frame.append method is deprecated and will be removed from pandas in a future version. Use pandas.concat instead.\n",
      "  dfScenes = dfScenes.append({'location':strFilePath, 'geometry': box(bounds[0], bounds[1], bounds[2], bounds[3])},ignore_index=True)\n"
     ]
    },
    {
     "name": "stdout",
     "output_type": "stream",
     "text": [
      "processing file 907/936\r"
     ]
    },
    {
     "name": "stderr",
     "output_type": "stream",
     "text": [
      "C:\\Users\\alexsaunders\\AppData\\Local\\Temp\\ipykernel_13448\\724766185.py:13: FutureWarning: The frame.append method is deprecated and will be removed from pandas in a future version. Use pandas.concat instead.\n",
      "  dfScenes = dfScenes.append({'location':strFilePath, 'geometry': box(bounds[0], bounds[1], bounds[2], bounds[3])},ignore_index=True)\n",
      "C:\\Users\\alexsaunders\\AppData\\Local\\Temp\\ipykernel_13448\\724766185.py:13: FutureWarning: The frame.append method is deprecated and will be removed from pandas in a future version. Use pandas.concat instead.\n",
      "  dfScenes = dfScenes.append({'location':strFilePath, 'geometry': box(bounds[0], bounds[1], bounds[2], bounds[3])},ignore_index=True)\n",
      "C:\\Users\\alexsaunders\\AppData\\Local\\Temp\\ipykernel_13448\\724766185.py:13: FutureWarning: The frame.append method is deprecated and will be removed from pandas in a future version. Use pandas.concat instead.\n",
      "  dfScenes = dfScenes.append({'location':strFilePath, 'geometry': box(bounds[0], bounds[1], bounds[2], bounds[3])},ignore_index=True)\n",
      "C:\\Users\\alexsaunders\\AppData\\Local\\Temp\\ipykernel_13448\\724766185.py:13: FutureWarning: The frame.append method is deprecated and will be removed from pandas in a future version. Use pandas.concat instead.\n",
      "  dfScenes = dfScenes.append({'location':strFilePath, 'geometry': box(bounds[0], bounds[1], bounds[2], bounds[3])},ignore_index=True)\n",
      "C:\\Users\\alexsaunders\\AppData\\Local\\Temp\\ipykernel_13448\\724766185.py:13: FutureWarning: The frame.append method is deprecated and will be removed from pandas in a future version. Use pandas.concat instead.\n",
      "  dfScenes = dfScenes.append({'location':strFilePath, 'geometry': box(bounds[0], bounds[1], bounds[2], bounds[3])},ignore_index=True)\n",
      "C:\\Users\\alexsaunders\\AppData\\Local\\Temp\\ipykernel_13448\\724766185.py:13: FutureWarning: The frame.append method is deprecated and will be removed from pandas in a future version. Use pandas.concat instead.\n",
      "  dfScenes = dfScenes.append({'location':strFilePath, 'geometry': box(bounds[0], bounds[1], bounds[2], bounds[3])},ignore_index=True)\n",
      "C:\\Users\\alexsaunders\\AppData\\Local\\Temp\\ipykernel_13448\\724766185.py:13: FutureWarning: The frame.append method is deprecated and will be removed from pandas in a future version. Use pandas.concat instead.\n",
      "  dfScenes = dfScenes.append({'location':strFilePath, 'geometry': box(bounds[0], bounds[1], bounds[2], bounds[3])},ignore_index=True)\n",
      "C:\\Users\\alexsaunders\\AppData\\Local\\Temp\\ipykernel_13448\\724766185.py:13: FutureWarning: The frame.append method is deprecated and will be removed from pandas in a future version. Use pandas.concat instead.\n",
      "  dfScenes = dfScenes.append({'location':strFilePath, 'geometry': box(bounds[0], bounds[1], bounds[2], bounds[3])},ignore_index=True)\n",
      "C:\\Users\\alexsaunders\\AppData\\Local\\Temp\\ipykernel_13448\\724766185.py:13: FutureWarning: The frame.append method is deprecated and will be removed from pandas in a future version. Use pandas.concat instead.\n",
      "  dfScenes = dfScenes.append({'location':strFilePath, 'geometry': box(bounds[0], bounds[1], bounds[2], bounds[3])},ignore_index=True)\n",
      "C:\\Users\\alexsaunders\\AppData\\Local\\Temp\\ipykernel_13448\\724766185.py:13: FutureWarning: The frame.append method is deprecated and will be removed from pandas in a future version. Use pandas.concat instead.\n",
      "  dfScenes = dfScenes.append({'location':strFilePath, 'geometry': box(bounds[0], bounds[1], bounds[2], bounds[3])},ignore_index=True)\n"
     ]
    },
    {
     "name": "stdout",
     "output_type": "stream",
     "text": [
      "processing file 917/936\r"
     ]
    },
    {
     "name": "stderr",
     "output_type": "stream",
     "text": [
      "C:\\Users\\alexsaunders\\AppData\\Local\\Temp\\ipykernel_13448\\724766185.py:13: FutureWarning: The frame.append method is deprecated and will be removed from pandas in a future version. Use pandas.concat instead.\n",
      "  dfScenes = dfScenes.append({'location':strFilePath, 'geometry': box(bounds[0], bounds[1], bounds[2], bounds[3])},ignore_index=True)\n",
      "C:\\Users\\alexsaunders\\AppData\\Local\\Temp\\ipykernel_13448\\724766185.py:13: FutureWarning: The frame.append method is deprecated and will be removed from pandas in a future version. Use pandas.concat instead.\n",
      "  dfScenes = dfScenes.append({'location':strFilePath, 'geometry': box(bounds[0], bounds[1], bounds[2], bounds[3])},ignore_index=True)\n",
      "C:\\Users\\alexsaunders\\AppData\\Local\\Temp\\ipykernel_13448\\724766185.py:13: FutureWarning: The frame.append method is deprecated and will be removed from pandas in a future version. Use pandas.concat instead.\n",
      "  dfScenes = dfScenes.append({'location':strFilePath, 'geometry': box(bounds[0], bounds[1], bounds[2], bounds[3])},ignore_index=True)\n",
      "C:\\Users\\alexsaunders\\AppData\\Local\\Temp\\ipykernel_13448\\724766185.py:13: FutureWarning: The frame.append method is deprecated and will be removed from pandas in a future version. Use pandas.concat instead.\n",
      "  dfScenes = dfScenes.append({'location':strFilePath, 'geometry': box(bounds[0], bounds[1], bounds[2], bounds[3])},ignore_index=True)\n",
      "C:\\Users\\alexsaunders\\AppData\\Local\\Temp\\ipykernel_13448\\724766185.py:13: FutureWarning: The frame.append method is deprecated and will be removed from pandas in a future version. Use pandas.concat instead.\n",
      "  dfScenes = dfScenes.append({'location':strFilePath, 'geometry': box(bounds[0], bounds[1], bounds[2], bounds[3])},ignore_index=True)\n"
     ]
    },
    {
     "name": "stdout",
     "output_type": "stream",
     "text": [
      "processing file 923/936\r"
     ]
    },
    {
     "name": "stderr",
     "output_type": "stream",
     "text": [
      "C:\\Users\\alexsaunders\\AppData\\Local\\Temp\\ipykernel_13448\\724766185.py:13: FutureWarning: The frame.append method is deprecated and will be removed from pandas in a future version. Use pandas.concat instead.\n",
      "  dfScenes = dfScenes.append({'location':strFilePath, 'geometry': box(bounds[0], bounds[1], bounds[2], bounds[3])},ignore_index=True)\n",
      "C:\\Users\\alexsaunders\\AppData\\Local\\Temp\\ipykernel_13448\\724766185.py:13: FutureWarning: The frame.append method is deprecated and will be removed from pandas in a future version. Use pandas.concat instead.\n",
      "  dfScenes = dfScenes.append({'location':strFilePath, 'geometry': box(bounds[0], bounds[1], bounds[2], bounds[3])},ignore_index=True)\n",
      "C:\\Users\\alexsaunders\\AppData\\Local\\Temp\\ipykernel_13448\\724766185.py:13: FutureWarning: The frame.append method is deprecated and will be removed from pandas in a future version. Use pandas.concat instead.\n",
      "  dfScenes = dfScenes.append({'location':strFilePath, 'geometry': box(bounds[0], bounds[1], bounds[2], bounds[3])},ignore_index=True)\n",
      "C:\\Users\\alexsaunders\\AppData\\Local\\Temp\\ipykernel_13448\\724766185.py:13: FutureWarning: The frame.append method is deprecated and will be removed from pandas in a future version. Use pandas.concat instead.\n",
      "  dfScenes = dfScenes.append({'location':strFilePath, 'geometry': box(bounds[0], bounds[1], bounds[2], bounds[3])},ignore_index=True)\n",
      "C:\\Users\\alexsaunders\\AppData\\Local\\Temp\\ipykernel_13448\\724766185.py:13: FutureWarning: The frame.append method is deprecated and will be removed from pandas in a future version. Use pandas.concat instead.\n",
      "  dfScenes = dfScenes.append({'location':strFilePath, 'geometry': box(bounds[0], bounds[1], bounds[2], bounds[3])},ignore_index=True)\n",
      "C:\\Users\\alexsaunders\\AppData\\Local\\Temp\\ipykernel_13448\\724766185.py:13: FutureWarning: The frame.append method is deprecated and will be removed from pandas in a future version. Use pandas.concat instead.\n",
      "  dfScenes = dfScenes.append({'location':strFilePath, 'geometry': box(bounds[0], bounds[1], bounds[2], bounds[3])},ignore_index=True)\n"
     ]
    },
    {
     "name": "stdout",
     "output_type": "stream",
     "text": [
      "processing file 929/936\r"
     ]
    },
    {
     "name": "stderr",
     "output_type": "stream",
     "text": [
      "C:\\Users\\alexsaunders\\AppData\\Local\\Temp\\ipykernel_13448\\724766185.py:13: FutureWarning: The frame.append method is deprecated and will be removed from pandas in a future version. Use pandas.concat instead.\n",
      "  dfScenes = dfScenes.append({'location':strFilePath, 'geometry': box(bounds[0], bounds[1], bounds[2], bounds[3])},ignore_index=True)\n",
      "C:\\Users\\alexsaunders\\AppData\\Local\\Temp\\ipykernel_13448\\724766185.py:13: FutureWarning: The frame.append method is deprecated and will be removed from pandas in a future version. Use pandas.concat instead.\n",
      "  dfScenes = dfScenes.append({'location':strFilePath, 'geometry': box(bounds[0], bounds[1], bounds[2], bounds[3])},ignore_index=True)\n",
      "C:\\Users\\alexsaunders\\AppData\\Local\\Temp\\ipykernel_13448\\724766185.py:13: FutureWarning: The frame.append method is deprecated and will be removed from pandas in a future version. Use pandas.concat instead.\n",
      "  dfScenes = dfScenes.append({'location':strFilePath, 'geometry': box(bounds[0], bounds[1], bounds[2], bounds[3])},ignore_index=True)\n",
      "C:\\Users\\alexsaunders\\AppData\\Local\\Temp\\ipykernel_13448\\724766185.py:13: FutureWarning: The frame.append method is deprecated and will be removed from pandas in a future version. Use pandas.concat instead.\n",
      "  dfScenes = dfScenes.append({'location':strFilePath, 'geometry': box(bounds[0], bounds[1], bounds[2], bounds[3])},ignore_index=True)\n",
      "C:\\Users\\alexsaunders\\AppData\\Local\\Temp\\ipykernel_13448\\724766185.py:13: FutureWarning: The frame.append method is deprecated and will be removed from pandas in a future version. Use pandas.concat instead.\n",
      "  dfScenes = dfScenes.append({'location':strFilePath, 'geometry': box(bounds[0], bounds[1], bounds[2], bounds[3])},ignore_index=True)\n",
      "C:\\Users\\alexsaunders\\AppData\\Local\\Temp\\ipykernel_13448\\724766185.py:13: FutureWarning: The frame.append method is deprecated and will be removed from pandas in a future version. Use pandas.concat instead.\n",
      "  dfScenes = dfScenes.append({'location':strFilePath, 'geometry': box(bounds[0], bounds[1], bounds[2], bounds[3])},ignore_index=True)\n"
     ]
    },
    {
     "name": "stdout",
     "output_type": "stream",
     "text": [
      "processing file 934/936\r"
     ]
    },
    {
     "name": "stderr",
     "output_type": "stream",
     "text": [
      "C:\\Users\\alexsaunders\\AppData\\Local\\Temp\\ipykernel_13448\\724766185.py:13: FutureWarning: The frame.append method is deprecated and will be removed from pandas in a future version. Use pandas.concat instead.\n",
      "  dfScenes = dfScenes.append({'location':strFilePath, 'geometry': box(bounds[0], bounds[1], bounds[2], bounds[3])},ignore_index=True)\n",
      "C:\\Users\\alexsaunders\\AppData\\Local\\Temp\\ipykernel_13448\\724766185.py:13: FutureWarning: The frame.append method is deprecated and will be removed from pandas in a future version. Use pandas.concat instead.\n",
      "  dfScenes = dfScenes.append({'location':strFilePath, 'geometry': box(bounds[0], bounds[1], bounds[2], bounds[3])},ignore_index=True)\n",
      "C:\\Users\\alexsaunders\\AppData\\Local\\Temp\\ipykernel_13448\\724766185.py:13: FutureWarning: The frame.append method is deprecated and will be removed from pandas in a future version. Use pandas.concat instead.\n",
      "  dfScenes = dfScenes.append({'location':strFilePath, 'geometry': box(bounds[0], bounds[1], bounds[2], bounds[3])},ignore_index=True)\n",
      "C:\\Users\\alexsaunders\\AppData\\Local\\Temp\\ipykernel_13448\\724766185.py:13: FutureWarning: The frame.append method is deprecated and will be removed from pandas in a future version. Use pandas.concat instead.\n",
      "  dfScenes = dfScenes.append({'location':strFilePath, 'geometry': box(bounds[0], bounds[1], bounds[2], bounds[3])},ignore_index=True)\n",
      "C:\\Users\\alexsaunders\\AppData\\Local\\Temp\\ipykernel_13448\\724766185.py:13: FutureWarning: The frame.append method is deprecated and will be removed from pandas in a future version. Use pandas.concat instead.\n",
      "  dfScenes = dfScenes.append({'location':strFilePath, 'geometry': box(bounds[0], bounds[1], bounds[2], bounds[3])},ignore_index=True)\n"
     ]
    },
    {
     "name": "stdout",
     "output_type": "stream",
     "text": [
      "processing file 936/936\r"
     ]
    },
    {
     "name": "stderr",
     "output_type": "stream",
     "text": [
      "C:\\Users\\alexsaunders\\AppData\\Local\\Temp\\ipykernel_13448\\724766185.py:13: FutureWarning: The frame.append method is deprecated and will be removed from pandas in a future version. Use pandas.concat instead.\n",
      "  dfScenes = dfScenes.append({'location':strFilePath, 'geometry': box(bounds[0], bounds[1], bounds[2], bounds[3])},ignore_index=True)\n",
      "C:\\Users\\alexsaunders\\AppData\\Local\\Temp\\ipykernel_13448\\724766185.py:13: FutureWarning: The frame.append method is deprecated and will be removed from pandas in a future version. Use pandas.concat instead.\n",
      "  dfScenes = dfScenes.append({'location':strFilePath, 'geometry': box(bounds[0], bounds[1], bounds[2], bounds[3])},ignore_index=True)\n"
     ]
    }
   ],
   "source": [
    "vv_files_bounds = createBoundsShapefileDF(tilesPath, fileList=vv_files)\n",
    "vh_files_bounds = createBoundsShapefileDF(tilesPath, fileList=vh_files)"
   ]
  },
  {
   "cell_type": "code",
   "execution_count": 38,
   "id": "3bc12200-36bd-4385-97a9-5a37ecd0caa5",
   "metadata": {},
   "outputs": [
    {
     "data": {
      "image/png": "[encoded data removed]",
      "text/plain": [
       "<Figure size 800x800 with 1 Axes>"
      ]
     },
     "metadata": {},
     "output_type": "display_data"
    }
   ],
   "source": [
    "# Create plot - use a gray colormap just to \n",
    "fig, ax = plt.subplots(figsize=(8, 8))\n",
    "\n",
    "# Add the Sylhet District outline\n",
    "sylhet_dist.boundary.plot(ax=ax, color = 'black', linewidth=2, label='Sylhet District', zorder=3)\n",
    "vh_files_bounds.plot(ax=ax, edgecolor='red', facecolor='none', linewidth=1, label='VV', zorder=4)\n",
    "vv_files_bounds.plot(ax=ax, edgecolor='blue', facecolor='none', linewidth=1, label='VH', zorder=4)\n",
    "\n",
    "plt.show()"
   ]
  }
 ],
 "metadata": {
  "kernelspec": {
   "display_name": "Python 3 (ipykernel)",
   "language": "python",
   "name": "python3"
  },
  "language_info": {
   "codemirror_mode": {
    "name": "ipython",
    "version": 3
   },
   "file_extension": ".py",
   "mimetype": "text/x-python",
   "name": "python",
   "nbconvert_exporter": "python",
   "pygments_lexer": "ipython3",
   "version": "3.8.13"
  }
 },
 "nbformat": 4,
 "nbformat_minor": 5
}
