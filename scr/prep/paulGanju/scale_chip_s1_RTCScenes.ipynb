{
 "cells": [
  {
   "cell_type": "markdown",
   "id": "a0f29c4e-2561-4fc0-825c-04daaa67c929",
   "metadata": {
    "tags": []
   },
   "source": [
    "# Sylhet Floods 2022\n",
    "## scale_chip_s1_RTCScenes.ipynb\n",
    "This script prepares the Sentinel-1 data into chips for running the NASA IMPACT machine learning inference. We follow the same steps used by NASA IMPACT when they created the original data for the training of the ML models.\n",
    "\n",
    "This assumes that radiometric-terrain corrected images have already been acquired using the Hybrid Pluggable Processing Pipeline or ”HyP3” system, from the Alaska Satellite Facility (https://hyp3-docs.asf.alaska.edu/using/sdk/).\n",
    "\n",
    "We then convert to WGS 84 (EPSG:4326), and convert the images into a uint8 data from uint16.\n",
    "\n",
    "Then, we chip the images into 256x256 pixels of 10 m resolution and save tiffs."
   ]
  },
  {
   "cell_type": "code",
   "execution_count": 1,
   "id": "4b36aebe-b0f7-4713-9307-5ad68b3d6d64",
   "metadata": {},
   "outputs": [],
   "source": [
    "import ee"
   ]
  },
  {
   "cell_type": "code",
   "execution_count": 2,
   "id": "70e7c00f",
   "metadata": {},
   "outputs": [
    {
     "data": {
      "text/html": [
       "<p>To authorize access needed by Earth Engine, open the following\n",
       "        URL in a web browser and follow the instructions:</p>\n",
       "        <p><a href=https://code.earthengine.google.com/client-auth?scopes=https%3A//www.googleapis.com/auth/earthengine%20https%3A//www.googleapis.com/auth/devstorage.full_control&request_id=QYaRVOwdckFjcO1mfVIUNPV_6ImXA_IDFOqCLBUsl9Q&tc=BsVjJRQmfpy4DoBAgagnp2ajPjurbcX-PT-cOD6ZsUE&cc=SKylxJkk-hDUAuTAkqB-G5vJr4KeUdniU4hoDWTMVB0>https://code.earthengine.google.com/client-auth?scopes=https%3A//www.googleapis.com/auth/earthengine%20https%3A//www.googleapis.com/auth/devstorage.full_control&request_id=QYaRVOwdckFjcO1mfVIUNPV_6ImXA_IDFOqCLBUsl9Q&tc=BsVjJRQmfpy4DoBAgagnp2ajPjurbcX-PT-cOD6ZsUE&cc=SKylxJkk-hDUAuTAkqB-G5vJr4KeUdniU4hoDWTMVB0</a></p>\n",
       "        <p>The authorization workflow will generate a code, which you should paste in the box below.</p>\n",
       "        "
      ],
      "text/plain": [
       "<IPython.core.display.HTML object>"
      ]
     },
     "metadata": {},
     "output_type": "display_data"
    },
    {
     "name": "stdin",
     "output_type": "stream",
     "text": [
      "Enter verification code:  4/1AVHEtk5RZtwV356HmbLD8yRFr8ybG5nJP8m-q4V2t41-v0UJrTpBflnbW6w\n"
     ]
    },
    {
     "name": "stdout",
     "output_type": "stream",
     "text": [
      "\n",
      "Successfully saved authorization token.\n"
     ]
    }
   ],
   "source": [
    "ee.Authenticate()"
   ]
  },
  {
   "cell_type": "code",
   "execution_count": 3,
   "id": "a460a6fa",
   "metadata": {},
   "outputs": [],
   "source": [
    "ee.Initialize()"
   ]
  },
  {
   "cell_type": "code",
   "execution_count": 1,
   "id": "8add4f46",
   "metadata": {},
   "outputs": [],
   "source": [
    "from pathlib import Path\n",
    "import os\n",
    "import sys\n",
    "import pandas as pd\n",
    "import numpy as np\n",
    "import geemap\n",
    "import importlib\n",
    "import shutil\n",
    "import matplotlib.pyplot as plt\n",
    "import rasterio as rio\n",
    "from rasterio import warp\n",
    "import zipfile\n",
    "import geopandas as gpd\n",
    "from osgeo import gdal\n",
    "import json\n",
    "from py_linq import Enumerable\n",
    "from shapely.geometry import box\n",
    "from shapely.geometry import Polygon\n",
    "from osgeo import gdal\n",
    "import fiona\n",
    "from osgeo import gdal, ogr"
   ]
  },
  {
   "cell_type": "code",
   "execution_count": 2,
   "id": "17b28885",
   "metadata": {},
   "outputs": [],
   "source": [
    "# Set the root path\n",
    "rootPath = Path('Z:/media/mule/Projects/NASA/NIP/Data/Raster/')"
   ]
  },
  {
   "cell_type": "code",
   "execution_count": 3,
   "id": "0561c00c",
   "metadata": {},
   "outputs": [],
   "source": [
    "# Set the module path for helpers scripts\n",
    "module_path = os.path.abspath(os.path.join('C:/Users/alexa/Documents/GitHub/Sylhet2022Floods/scr/'))\n",
    "if module_path not in sys.path:\n",
    "    sys.path.append(module_path)"
   ]
  },
  {
   "cell_type": "code",
   "execution_count": 4,
   "id": "ca427170-c3a5-4938-a5c1-d67b556e940a",
   "metadata": {
    "collapsed": true,
    "jupyter": {
     "outputs_hidden": true
    },
    "tags": []
   },
   "outputs": [
    {
     "data": {
      "text/plain": [
       "<module 'Helpers.prepare_chips' from 'C:\\\\Users\\\\alexsaunders\\\\Documents\\\\01_uoa\\\\04_git\\\\NIP\\\\SylhetNASAImpact\\\\Helpers\\\\prepare_chips.py'>"
      ]
     },
     "execution_count": 4,
     "metadata": {},
     "output_type": "execute_result"
    }
   ],
   "source": [
    "# Import modules from the helpers folder\n",
    "import helpers.prepare_chips as prepChips\n",
    "importlib.reload(prepChips)"
   ]
  },
  {
   "cell_type": "markdown",
   "id": "62f31377-574a-49dc-aa85-a1a7a0a6dcec",
   "metadata": {},
   "source": [
    "## PART 1: Convert the images from UTM to WGS 84 (EPSG:4326) and crop to the ROI\n",
    "Crop to the ROI here to save processing time in the remainder"
   ]
  },
  {
   "cell_type": "markdown",
   "id": "9c250be2-623e-4512-9fb0-ac44a0acd145",
   "metadata": {},
   "source": [
    "### Creating ROI bounds shapefile for cropping the full rasters"
   ]
  },
  {
   "cell_type": "code",
   "execution_count": 5,
   "id": "7839f6bf-9edf-43f7-89f6-8e1dd1440fee",
   "metadata": {},
   "outputs": [],
   "source": [
    "# Read the geojson of the ROI\n",
    "sylhet_dist_geojson = gpd.read_file(Path('Z:/media/mule/Projects/NASA/NIP/Data/Geojson')/'sylhet_dist.geojson')\n",
    "\n",
    "# Define the coordinates of the bounding box for the ROI\n",
    "bounds = sylhet_dist_geojson.geometry.unary_union.bounds\n",
    "coords = [(bounds[0], bounds[1]),\n",
    "          (bounds[2], bounds[1]),\n",
    "          (bounds[2], bounds[3]),\n",
    "          (bounds[0], bounds[3])]\n",
    "\n",
    "# Create a Shapely polygon from the coordinates\n",
    "roiBounds = Polygon(coords)"
   ]
  },
  {
   "cell_type": "code",
   "execution_count": 31,
   "id": "b9a13eb8-6e05-46bb-9c8d-ab15155d9277",
   "metadata": {},
   "outputs": [],
   "source": [
    "# Write shapeply polygon to a shapefile that gdal warp can use for cropping\n",
    "schema = {'geometry': 'Polygon', 'properties': {'id': 'int'}}\n",
    "\n",
    "# Define the output shapefile\n",
    "roiBoundsShapefile = 'Z:/media/mule/Projects/NASA/NIP/Data/Shapefiles/SylhetDistBbox/SylhetDistBbox.shp'\n",
    "\n",
    "# Open the output shapefile for writing\n",
    "with fiona.open(roiBoundsShapefile, 'w', 'ESRI Shapefile', schema) as output:\n",
    "\n",
    "    # Create a feature from the shapely polygon and add it to the shapefile\n",
    "    feature = {'geometry': roiBounds.__geo_interface__, 'properties': {'id': 1}}\n",
    "    output.write(feature)"
   ]
  },
  {
   "cell_type": "code",
   "execution_count": 6,
   "id": "7702adb6-0c89-4cf4-8fb9-424de0f53150",
   "metadata": {},
   "outputs": [],
   "source": [
    "# Define the output shapefile\n",
    "roiBoundsShapefile = 'Z:/media/mule/Projects/NASA/NIP/Data/Shapefiles/SylhetDistBbox/SylhetDistBbox.shp'"
   ]
  },
  {
   "cell_type": "markdown",
   "id": "e20a25fe-5f55-43d1-b6da-15a81e296ee8",
   "metadata": {},
   "source": [
    "### Reprojecting and cropping"
   ]
  },
  {
   "cell_type": "code",
   "execution_count": 7,
   "id": "1600344e-d2b9-4df0-93e4-3aecd9d42604",
   "metadata": {},
   "outputs": [],
   "source": [
    "# Define input path for RTC files\n",
    "rtcPath = rootPath/'SylhetNASAImpact/1_RTC'"
   ]
  },
  {
   "cell_type": "code",
   "execution_count": 8,
   "id": "ee26d152-bff7-4853-8e33-4f0a74fceb77",
   "metadata": {},
   "outputs": [],
   "source": [
    "# Define the output path for saving the WGS84 files\n",
    "WGS84Path = rootPath/'SylhetNASAImpact/2_WGS84Cropped'\n",
    "WGS84Path.mkdir(exist_ok=True)\n",
    "target_crs='EPSG:4326'#'epsg:4326'"
   ]
  },
  {
   "cell_type": "code",
   "execution_count": 23,
   "id": "27bb75f0-345e-4419-a375-307dae0e2218",
   "metadata": {
    "collapsed": true,
    "jupyter": {
     "outputs_hidden": true
    },
    "tags": []
   },
   "outputs": [
    {
     "name": "stdout",
     "output_type": "stream",
     "text": [
      "Creating file: Z:\\media\\mule\\Projects\\NASA\\NIP\\Data\\Raster\\SylhetNASAImpact\\2_WGS84Cropped_V2\\S1A_IW_20220501T234740_WGS84Cropped_VH.tif\n",
      "Creating file: Z:\\media\\mule\\Projects\\NASA\\NIP\\Data\\Raster\\SylhetNASAImpact\\2_WGS84Cropped_V2\\S1A_IW_20220501T234740_WGS84Cropped_VV.tif\n",
      "Creating file: Z:\\media\\mule\\Projects\\NASA\\NIP\\Data\\Raster\\SylhetNASAImpact\\2_WGS84Cropped_V2\\S1A_IW_20220511T115642_WGS84Cropped_VV.tif\n",
      "Creating file: Z:\\media\\mule\\Projects\\NASA\\NIP\\Data\\Raster\\SylhetNASAImpact\\2_WGS84Cropped_V2\\S1A_IW_20220511T115642_WGS84Cropped_VH.tif\n",
      "Creating file: Z:\\media\\mule\\Projects\\NASA\\NIP\\Data\\Raster\\SylhetNASAImpact\\2_WGS84Cropped_V2\\S1A_IW_20220513T234740_WGS84Cropped_VH.tif\n",
      "Creating file: Z:\\media\\mule\\Projects\\NASA\\NIP\\Data\\Raster\\SylhetNASAImpact\\2_WGS84Cropped_V2\\S1A_IW_20220513T234740_WGS84Cropped_VV.tif\n",
      "Creating file: Z:\\media\\mule\\Projects\\NASA\\NIP\\Data\\Raster\\SylhetNASAImpact\\2_WGS84Cropped_V2\\S1A_IW_20220523T115643_WGS84Cropped_VV.tif\n",
      "Creating file: Z:\\media\\mule\\Projects\\NASA\\NIP\\Data\\Raster\\SylhetNASAImpact\\2_WGS84Cropped_V2\\S1A_IW_20220523T115643_WGS84Cropped_VH.tif\n",
      "Creating file: Z:\\media\\mule\\Projects\\NASA\\NIP\\Data\\Raster\\SylhetNASAImpact\\2_WGS84Cropped_V2\\S1A_IW_20220525T234741_WGS84Cropped_VV.tif\n",
      "Creating file: Z:\\media\\mule\\Projects\\NASA\\NIP\\Data\\Raster\\SylhetNASAImpact\\2_WGS84Cropped_V2\\S1A_IW_20220525T234741_WGS84Cropped_VH.tif\n",
      "Creating file: Z:\\media\\mule\\Projects\\NASA\\NIP\\Data\\Raster\\SylhetNASAImpact\\2_WGS84Cropped_V2\\S1A_IW_20220604T115644_WGS84Cropped_VV.tif\n",
      "Creating file: Z:\\media\\mule\\Projects\\NASA\\NIP\\Data\\Raster\\SylhetNASAImpact\\2_WGS84Cropped_V2\\S1A_IW_20220604T115644_WGS84Cropped_VH.tif\n",
      "Creating file: Z:\\media\\mule\\Projects\\NASA\\NIP\\Data\\Raster\\SylhetNASAImpact\\2_WGS84Cropped_V2\\S1A_IW_20220606T234742_WGS84Cropped_VH.tif\n",
      "Creating file: Z:\\media\\mule\\Projects\\NASA\\NIP\\Data\\Raster\\SylhetNASAImpact\\2_WGS84Cropped_V2\\S1A_IW_20220606T234742_WGS84Cropped_VV.tif\n",
      "Creating file: Z:\\media\\mule\\Projects\\NASA\\NIP\\Data\\Raster\\SylhetNASAImpact\\2_WGS84Cropped_V2\\S1A_IW_20220616T115645_WGS84Cropped_VV.tif\n",
      "Creating file: Z:\\media\\mule\\Projects\\NASA\\NIP\\Data\\Raster\\SylhetNASAImpact\\2_WGS84Cropped_V2\\S1A_IW_20220616T115645_WGS84Cropped_VH.tif\n",
      "Creating file: Z:\\media\\mule\\Projects\\NASA\\NIP\\Data\\Raster\\SylhetNASAImpact\\2_WGS84Cropped_V2\\S1A_IW_20220618T234743_WGS84Cropped_VV.tif\n",
      "Creating file: Z:\\media\\mule\\Projects\\NASA\\NIP\\Data\\Raster\\SylhetNASAImpact\\2_WGS84Cropped_V2\\S1A_IW_20220618T234743_WGS84Cropped_VH.tif\n",
      "Creating file: Z:\\media\\mule\\Projects\\NASA\\NIP\\Data\\Raster\\SylhetNASAImpact\\2_WGS84Cropped_V2\\S1A_IW_20220628T115646_WGS84Cropped_VH.tif\n",
      "Creating file: Z:\\media\\mule\\Projects\\NASA\\NIP\\Data\\Raster\\SylhetNASAImpact\\2_WGS84Cropped_V2\\S1A_IW_20220628T115646_WGS84Cropped_VV.tif\n",
      "Creating file: Z:\\media\\mule\\Projects\\NASA\\NIP\\Data\\Raster\\SylhetNASAImpact\\2_WGS84Cropped_V2\\S1A_IW_20220630T234744_WGS84Cropped_VH.tif\n",
      "Creating file: Z:\\media\\mule\\Projects\\NASA\\NIP\\Data\\Raster\\SylhetNASAImpact\\2_WGS84Cropped_V2\\S1A_IW_20220630T234744_WGS84Cropped_VV.tif\n",
      "Creating file: Z:\\media\\mule\\Projects\\NASA\\NIP\\Data\\Raster\\SylhetNASAImpact\\2_WGS84Cropped_V2\\S1A_IW_20220712T234744_WGS84Cropped_VH.tif\n",
      "Creating file: Z:\\media\\mule\\Projects\\NASA\\NIP\\Data\\Raster\\SylhetNASAImpact\\2_WGS84Cropped_V2\\S1A_IW_20220712T234744_WGS84Cropped_VV.tif\n",
      "Creating file: Z:\\media\\mule\\Projects\\NASA\\NIP\\Data\\Raster\\SylhetNASAImpact\\2_WGS84Cropped_V2\\S1A_IW_20220722T115647_WGS84Cropped_VH.tif\n",
      "Creating file: Z:\\media\\mule\\Projects\\NASA\\NIP\\Data\\Raster\\SylhetNASAImpact\\2_WGS84Cropped_V2\\S1A_IW_20220722T115647_WGS84Cropped_VV.tif\n",
      "Creating file: Z:\\media\\mule\\Projects\\NASA\\NIP\\Data\\Raster\\SylhetNASAImpact\\2_WGS84Cropped_V2\\S1A_IW_20220724T234745_WGS84Cropped_VH.tif\n",
      "Creating file: Z:\\media\\mule\\Projects\\NASA\\NIP\\Data\\Raster\\SylhetNASAImpact\\2_WGS84Cropped_V2\\S1A_IW_20220724T234745_WGS84Cropped_VV.tif\n",
      "Creating file: Z:\\media\\mule\\Projects\\NASA\\NIP\\Data\\Raster\\SylhetNASAImpact\\2_WGS84Cropped_V2\\S1A_IW_20220803T115648_WGS84Cropped_VH.tif\n",
      "Creating file: Z:\\media\\mule\\Projects\\NASA\\NIP\\Data\\Raster\\SylhetNASAImpact\\2_WGS84Cropped_V2\\S1A_IW_20220803T115648_WGS84Cropped_VV.tif\n",
      "Creating file: Z:\\media\\mule\\Projects\\NASA\\NIP\\Data\\Raster\\SylhetNASAImpact\\2_WGS84Cropped_V2\\S1A_IW_20220805T234746_WGS84Cropped_VH.tif\n",
      "Creating file: Z:\\media\\mule\\Projects\\NASA\\NIP\\Data\\Raster\\SylhetNASAImpact\\2_WGS84Cropped_V2\\S1A_IW_20220805T234746_WGS84Cropped_VV.tif\n",
      "Creating file: Z:\\media\\mule\\Projects\\NASA\\NIP\\Data\\Raster\\SylhetNASAImpact\\2_WGS84Cropped_V2\\S1A_IW_20220815T115649_WGS84Cropped_VH.tif\n",
      "Creating file: Z:\\media\\mule\\Projects\\NASA\\NIP\\Data\\Raster\\SylhetNASAImpact\\2_WGS84Cropped_V2\\S1A_IW_20220815T115649_WGS84Cropped_VV.tif\n",
      "Creating file: Z:\\media\\mule\\Projects\\NASA\\NIP\\Data\\Raster\\SylhetNASAImpact\\2_WGS84Cropped_V2\\S1A_IW_20220827T115649_WGS84Cropped_VV.tif\n",
      "Creating file: Z:\\media\\mule\\Projects\\NASA\\NIP\\Data\\Raster\\SylhetNASAImpact\\2_WGS84Cropped_V2\\S1A_IW_20220827T115649_WGS84Cropped_VH.tif\n",
      "Creating file: Z:\\media\\mule\\Projects\\NASA\\NIP\\Data\\Raster\\SylhetNASAImpact\\2_WGS84Cropped_V2\\S1A_IW_20220829T234747_WGS84Cropped_VH.tif\n",
      "Creating file: Z:\\media\\mule\\Projects\\NASA\\NIP\\Data\\Raster\\SylhetNASAImpact\\2_WGS84Cropped_V2\\S1A_IW_20220829T234747_WGS84Cropped_VV.tif\n"
     ]
    }
   ],
   "source": [
    "# Loop through each of the original RTC rasters (in this case, one for each date)\n",
    "rtcZips = list(rtcPath.iterdir())\n",
    "\n",
    "for rtcZip in rtcZips:\n",
    "    \n",
    "    with zipfile.ZipFile(str(rtcZip), 'r') as rtcZipOpen:\n",
    "\n",
    "        # Get the names of the VV and VH tif files\n",
    "        rtcList = [item for item in rtcZipOpen.namelist() if item[-6:] == 'VH.tif' or item[-6:] == 'VV.tif']\n",
    "\n",
    "        # Loop through VH and VV files\n",
    "        for rtc in rtcList:\n",
    "\n",
    "            # Get the date from the filename\n",
    "            date = rtc[7:15]\n",
    "            polar = rtc[-6:-4]\n",
    "            rtcWGS84File = WGS84Path/('_'.join(rtc.split('/')[1].split('_')[0:3])+'_WGS84Cropped_'+str(polar)+'.tif')\n",
    "            print('Creating file:', rtcWGS84File)\n",
    "            \n",
    "            # Check if file already exists in whichh case skip ****\n",
    "            if os.path.exists(rtcWGS84File):\n",
    "                continue\n",
    "            \n",
    "            # Open the raster file and reproject tif files from native CRS to WGS84\n",
    "            rtcFile='/vsizip/'+str(rtcZip)+'/'+str(rtc)\n",
    "            rtcRaster = gdal.Open(rtcFile)\n",
    "            warp = gdal.Warp(str(rtcWGS84File), \n",
    "                             rtcRaster, \n",
    "                             dstSRS=target_crs,\n",
    "                             cutlineDSName=roiBoundsShapefile,\n",
    "                             cropToCutline=True,\n",
    "                             dstNodata = -3.4028234663852886e+38) # 0, THIS BIT COULD BE WRONG?\n",
    "            warp = None"
   ]
  },
  {
   "cell_type": "markdown",
   "id": "1cfe4b78-c8ea-46a2-a4da-a9d5e6e83c38",
   "metadata": {},
   "source": [
    "## PART 2: Convert to uint8 and apply the VV and VH scaling"
   ]
  },
  {
   "cell_type": "code",
   "execution_count": 9,
   "id": "5ac18966-b975-414c-b468-85cdd341ebc3",
   "metadata": {
    "tags": []
   },
   "outputs": [],
   "source": [
    "# Define the output path for saving the scaled files\n",
    "ScaledPath = rootPath/'SylhetNASAImpact/3_Scaled'\n",
    "ScaledPath.mkdir(exist_ok=True)"
   ]
  },
  {
   "cell_type": "code",
   "execution_count": 10,
   "id": "4d8786d7-12b4-4a7e-99c9-361abbe90fd0",
   "metadata": {},
   "outputs": [],
   "source": [
    "# Define the scaling values - using the same as used by NASA IMPACT to create original data for competiton for ML trainning\n",
    "scalingVals = {'vhMin': -30, 'vhMax': -10,\n",
    "              'vvMin': -20, 'vvMax': 0}"
   ]
  },
  {
   "cell_type": "code",
   "execution_count": 11,
   "id": "93f2e130-81c2-4e2a-a521-ce34e42720fb",
   "metadata": {},
   "outputs": [],
   "source": [
    "# Function to bytescale - since scipy bytescale is deprecated\n",
    "def bytescaling(data, cmin=None, cmax=None, high=255, low=0):\n",
    "    \"\"\"\n",
    "    Converting the input image to uint8 dtype and scaling\n",
    "    the range to ``(low, high)`` (default 0-255). If the input image already has \n",
    "    dtype uint8, no scaling is done.\n",
    "    :param data: 16-bit image data array\n",
    "    :param cmin: bias scaling of small values (def: data.min())\n",
    "    :param cmax: bias scaling of large values (def: data.max())\n",
    "    :param high: scale max value to high. (def: 255)\n",
    "    :param low: scale min value to low. (def: 0)\n",
    "    :return: 8-bit image data array\n",
    "    \"\"\"\n",
    "    if data.dtype == np.uint8:\n",
    "        return data\n",
    "\n",
    "    if high > 255:\n",
    "        high = 255\n",
    "    if low < 0:\n",
    "        low = 0\n",
    "    if high < low:\n",
    "        raise ValueError(\"`high` should be greater than or equal to `low`.\")\n",
    "\n",
    "    if cmin is None:\n",
    "        cmin = data.min()\n",
    "    if cmax is None:\n",
    "        cmax = data.max()\n",
    "\n",
    "    cscale = cmax - cmin\n",
    "    if cscale == 0:\n",
    "        cscale = 1\n",
    "\n",
    "    scale = float(high - low) / cscale\n",
    "    bytedata = (data - cmin) * scale + low\n",
    "    return (bytedata.clip(low, high) + 0.5).astype(np.uint8)"
   ]
  },
  {
   "cell_type": "code",
   "execution_count": 27,
   "id": "2c319fc1-00a4-4696-badd-c7f31685fb2a",
   "metadata": {
    "collapsed": true,
    "jupyter": {
     "outputs_hidden": true
    },
    "tags": []
   },
   "outputs": [
    {
     "name": "stdout",
     "output_type": "stream",
     "text": [
      "Creating file: Z:\\media\\mule\\Projects\\NASA\\NIP\\Data\\Raster\\SylhetNASAImpact\\3_Scaled_V2\\S1A_IW_20220501T234740_WGS84ScaledCropped_VH.tif\n"
     ]
    },
    {
     "name": "stderr",
     "output_type": "stream",
     "text": [
      "C:\\Users\\alexsaunders\\AppData\\Local\\Temp\\ipykernel_14852\\1653599526.py:34: RuntimeWarning: overflow encountered in multiply\n",
      "  bytedata = (data - cmin) * scale + low\n"
     ]
    },
    {
     "name": "stdout",
     "output_type": "stream",
     "text": [
      "Creating file: Z:\\media\\mule\\Projects\\NASA\\NIP\\Data\\Raster\\SylhetNASAImpact\\3_Scaled_V2\\S1A_IW_20220501T234740_WGS84ScaledCropped_VV.tif\n",
      "Creating file: Z:\\media\\mule\\Projects\\NASA\\NIP\\Data\\Raster\\SylhetNASAImpact\\3_Scaled_V2\\S1A_IW_20220511T115642_WGS84ScaledCropped_VH.tif\n",
      "Creating file: Z:\\media\\mule\\Projects\\NASA\\NIP\\Data\\Raster\\SylhetNASAImpact\\3_Scaled_V2\\S1A_IW_20220511T115642_WGS84ScaledCropped_VV.tif\n",
      "Creating file: Z:\\media\\mule\\Projects\\NASA\\NIP\\Data\\Raster\\SylhetNASAImpact\\3_Scaled_V2\\S1A_IW_20220513T234740_WGS84ScaledCropped_VH.tif\n",
      "Creating file: Z:\\media\\mule\\Projects\\NASA\\NIP\\Data\\Raster\\SylhetNASAImpact\\3_Scaled_V2\\S1A_IW_20220513T234740_WGS84ScaledCropped_VV.tif\n",
      "Creating file: Z:\\media\\mule\\Projects\\NASA\\NIP\\Data\\Raster\\SylhetNASAImpact\\3_Scaled_V2\\S1A_IW_20220523T115643_WGS84ScaledCropped_VH.tif\n",
      "Creating file: Z:\\media\\mule\\Projects\\NASA\\NIP\\Data\\Raster\\SylhetNASAImpact\\3_Scaled_V2\\S1A_IW_20220523T115643_WGS84ScaledCropped_VV.tif\n",
      "Creating file: Z:\\media\\mule\\Projects\\NASA\\NIP\\Data\\Raster\\SylhetNASAImpact\\3_Scaled_V2\\S1A_IW_20220525T234741_WGS84ScaledCropped_VH.tif\n",
      "Creating file: Z:\\media\\mule\\Projects\\NASA\\NIP\\Data\\Raster\\SylhetNASAImpact\\3_Scaled_V2\\S1A_IW_20220525T234741_WGS84ScaledCropped_VV.tif\n",
      "Creating file: Z:\\media\\mule\\Projects\\NASA\\NIP\\Data\\Raster\\SylhetNASAImpact\\3_Scaled_V2\\S1A_IW_20220604T115644_WGS84ScaledCropped_VH.tif\n",
      "Creating file: Z:\\media\\mule\\Projects\\NASA\\NIP\\Data\\Raster\\SylhetNASAImpact\\3_Scaled_V2\\S1A_IW_20220604T115644_WGS84ScaledCropped_VV.tif\n",
      "Creating file: Z:\\media\\mule\\Projects\\NASA\\NIP\\Data\\Raster\\SylhetNASAImpact\\3_Scaled_V2\\S1A_IW_20220606T234742_WGS84ScaledCropped_VH.tif\n",
      "Creating file: Z:\\media\\mule\\Projects\\NASA\\NIP\\Data\\Raster\\SylhetNASAImpact\\3_Scaled_V2\\S1A_IW_20220606T234742_WGS84ScaledCropped_VV.tif\n",
      "Creating file: Z:\\media\\mule\\Projects\\NASA\\NIP\\Data\\Raster\\SylhetNASAImpact\\3_Scaled_V2\\S1A_IW_20220616T115645_WGS84ScaledCropped_VH.tif\n",
      "Creating file: Z:\\media\\mule\\Projects\\NASA\\NIP\\Data\\Raster\\SylhetNASAImpact\\3_Scaled_V2\\S1A_IW_20220616T115645_WGS84ScaledCropped_VV.tif\n",
      "Creating file: Z:\\media\\mule\\Projects\\NASA\\NIP\\Data\\Raster\\SylhetNASAImpact\\3_Scaled_V2\\S1A_IW_20220618T234743_WGS84ScaledCropped_VH.tif\n",
      "Creating file: Z:\\media\\mule\\Projects\\NASA\\NIP\\Data\\Raster\\SylhetNASAImpact\\3_Scaled_V2\\S1A_IW_20220618T234743_WGS84ScaledCropped_VV.tif\n",
      "Creating file: Z:\\media\\mule\\Projects\\NASA\\NIP\\Data\\Raster\\SylhetNASAImpact\\3_Scaled_V2\\S1A_IW_20220628T115646_WGS84ScaledCropped_VH.tif\n",
      "Creating file: Z:\\media\\mule\\Projects\\NASA\\NIP\\Data\\Raster\\SylhetNASAImpact\\3_Scaled_V2\\S1A_IW_20220628T115646_WGS84ScaledCropped_VV.tif\n",
      "Creating file: Z:\\media\\mule\\Projects\\NASA\\NIP\\Data\\Raster\\SylhetNASAImpact\\3_Scaled_V2\\S1A_IW_20220630T234744_WGS84ScaledCropped_VH.tif\n",
      "Creating file: Z:\\media\\mule\\Projects\\NASA\\NIP\\Data\\Raster\\SylhetNASAImpact\\3_Scaled_V2\\S1A_IW_20220630T234744_WGS84ScaledCropped_VV.tif\n",
      "Creating file: Z:\\media\\mule\\Projects\\NASA\\NIP\\Data\\Raster\\SylhetNASAImpact\\3_Scaled_V2\\S1A_IW_20220712T234744_WGS84ScaledCropped_VH.tif\n",
      "Creating file: Z:\\media\\mule\\Projects\\NASA\\NIP\\Data\\Raster\\SylhetNASAImpact\\3_Scaled_V2\\S1A_IW_20220712T234744_WGS84ScaledCropped_VV.tif\n",
      "Creating file: Z:\\media\\mule\\Projects\\NASA\\NIP\\Data\\Raster\\SylhetNASAImpact\\3_Scaled_V2\\S1A_IW_20220722T115647_WGS84ScaledCropped_VH.tif\n",
      "Creating file: Z:\\media\\mule\\Projects\\NASA\\NIP\\Data\\Raster\\SylhetNASAImpact\\3_Scaled_V2\\S1A_IW_20220722T115647_WGS84ScaledCropped_VV.tif\n",
      "Creating file: Z:\\media\\mule\\Projects\\NASA\\NIP\\Data\\Raster\\SylhetNASAImpact\\3_Scaled_V2\\S1A_IW_20220724T234745_WGS84ScaledCropped_VH.tif\n",
      "Creating file: Z:\\media\\mule\\Projects\\NASA\\NIP\\Data\\Raster\\SylhetNASAImpact\\3_Scaled_V2\\S1A_IW_20220724T234745_WGS84ScaledCropped_VV.tif\n",
      "Creating file: Z:\\media\\mule\\Projects\\NASA\\NIP\\Data\\Raster\\SylhetNASAImpact\\3_Scaled_V2\\S1A_IW_20220803T115648_WGS84ScaledCropped_VH.tif\n",
      "Creating file: Z:\\media\\mule\\Projects\\NASA\\NIP\\Data\\Raster\\SylhetNASAImpact\\3_Scaled_V2\\S1A_IW_20220803T115648_WGS84ScaledCropped_VV.tif\n",
      "Creating file: Z:\\media\\mule\\Projects\\NASA\\NIP\\Data\\Raster\\SylhetNASAImpact\\3_Scaled_V2\\S1A_IW_20220805T234746_WGS84ScaledCropped_VH.tif\n",
      "Creating file: Z:\\media\\mule\\Projects\\NASA\\NIP\\Data\\Raster\\SylhetNASAImpact\\3_Scaled_V2\\S1A_IW_20220805T234746_WGS84ScaledCropped_VV.tif\n",
      "Creating file: Z:\\media\\mule\\Projects\\NASA\\NIP\\Data\\Raster\\SylhetNASAImpact\\3_Scaled_V2\\S1A_IW_20220815T115649_WGS84ScaledCropped_VH.tif\n",
      "Creating file: Z:\\media\\mule\\Projects\\NASA\\NIP\\Data\\Raster\\SylhetNASAImpact\\3_Scaled_V2\\S1A_IW_20220815T115649_WGS84ScaledCropped_VV.tif\n",
      "Creating file: Z:\\media\\mule\\Projects\\NASA\\NIP\\Data\\Raster\\SylhetNASAImpact\\3_Scaled_V2\\S1A_IW_20220827T115649_WGS84ScaledCropped_VH.tif\n",
      "Creating file: Z:\\media\\mule\\Projects\\NASA\\NIP\\Data\\Raster\\SylhetNASAImpact\\3_Scaled_V2\\S1A_IW_20220827T115649_WGS84ScaledCropped_VV.tif\n",
      "Creating file: Z:\\media\\mule\\Projects\\NASA\\NIP\\Data\\Raster\\SylhetNASAImpact\\3_Scaled_V2\\S1A_IW_20220829T234747_WGS84ScaledCropped_VH.tif\n",
      "Creating file: Z:\\media\\mule\\Projects\\NASA\\NIP\\Data\\Raster\\SylhetNASAImpact\\3_Scaled_V2\\S1A_IW_20220829T234747_WGS84ScaledCropped_VV.tif\n"
     ]
    }
   ],
   "source": [
    "# Loop through the WGS84 raster on each date\n",
    "WGS84Files = list(WGS84Path.iterdir())\n",
    "\n",
    "for WGS84File in WGS84Files:\n",
    "    \n",
    "    # Get the date and polarization from the filename\n",
    "    date = str(WGS84File)[-28:-20]\n",
    "    polar = str(WGS84File)[-6:-4]\n",
    "    ScaledFile = ScaledPath/(WGS84File.stem.replace('WGS84','WGS84Scaled')+WGS84File.suffix)\n",
    "    print('Creating file:', ScaledFile)\n",
    "\n",
    "    # Check if file already exists in whichh case skip ****\n",
    "    if os.path.exists(ScaledFile):\n",
    "        continue\n",
    "\n",
    "    # Open the raster file\n",
    "    with rio.open(WGS84File) as raster_in:\n",
    "        \n",
    "        # Get the raster metadata and read raster to array\n",
    "        profile = raster_in.profile\n",
    "        rasterArray = raster_in.read()\n",
    "\n",
    "        # Convert to uint8 with the defined scaling\n",
    "        if (polar == 'VH'):\n",
    "            rasterScaled = bytescaling(rasterArray, cmin=scalingVals['vhMin'], cmax=scalingVals['vhMax'])\n",
    "        if (polar == 'VV'):\n",
    "            rasterScaled = bytescaling(rasterArray, cmin=scalingVals['vvMin'], cmax=scalingVals['vvMax'])\n",
    "            \n",
    "        # Get back into 2D\n",
    "        rasterScaled = rasterScaled[0]\n",
    "        \n",
    "        # Update the profile metadata\n",
    "        profile.update(dtype=rio.uint8, nodata=0)\n",
    "\n",
    "        # Write out as tiff\n",
    "        with rio.open(ScaledFile, 'w', **profile) as raster_out:\n",
    "            raster_out.write(rasterScaled, 1) "
   ]
  },
  {
   "cell_type": "markdown",
   "id": "b5a57e67",
   "metadata": {
    "tags": []
   },
   "source": [
    "## PART 3: Chip the S-1 images\n",
    "Create a grid for the provided ROI and chip the images to 256x256 pixels. Note that we have a single S1 image for each date (i.e., do not need to stitch multiple scenes before tiling)."
   ]
  },
  {
   "cell_type": "code",
   "execution_count": 12,
   "id": "43d69286-eded-4bde-8187-b1eecb361492",
   "metadata": {
    "tags": []
   },
   "outputs": [],
   "source": [
    "# Create the output folder for saving the chips\n",
    "TilesPath = rootPath/'SylhetNASAImpact/4_Tiles'\n",
    "TilesPath.mkdir(exist_ok=True)"
   ]
  },
  {
   "cell_type": "code",
   "execution_count": 13,
   "id": "fdfafd58-6c33-4965-ab9d-282068e81740",
   "metadata": {
    "collapsed": true,
    "jupyter": {
     "outputs_hidden": true
    },
    "tags": []
   },
   "outputs": [
    {
     "name": "stdout",
     "output_type": "stream",
     "text": [
      "Creating tiles for: Z:\\media\\mule\\Projects\\NASA\\NIP\\Data\\Raster\\SylhetNASAImpact\\4_Tiles_V2\\20220501\n",
      "Creating tiles for: Z:\\media\\mule\\Projects\\NASA\\NIP\\Data\\Raster\\SylhetNASAImpact\\4_Tiles_V2\\20220501\n",
      "Creating tiles for: Z:\\media\\mule\\Projects\\NASA\\NIP\\Data\\Raster\\SylhetNASAImpact\\4_Tiles_V2\\20220511\n",
      "Creating tiles for: Z:\\media\\mule\\Projects\\NASA\\NIP\\Data\\Raster\\SylhetNASAImpact\\4_Tiles_V2\\20220511\n",
      "Creating tiles for: Z:\\media\\mule\\Projects\\NASA\\NIP\\Data\\Raster\\SylhetNASAImpact\\4_Tiles_V2\\20220513\n",
      "Creating tiles for: Z:\\media\\mule\\Projects\\NASA\\NIP\\Data\\Raster\\SylhetNASAImpact\\4_Tiles_V2\\20220513\n",
      "Creating tiles for: Z:\\media\\mule\\Projects\\NASA\\NIP\\Data\\Raster\\SylhetNASAImpact\\4_Tiles_V2\\20220523\n",
      "Creating tiles for: Z:\\media\\mule\\Projects\\NASA\\NIP\\Data\\Raster\\SylhetNASAImpact\\4_Tiles_V2\\20220523\n",
      "Creating tiles for: Z:\\media\\mule\\Projects\\NASA\\NIP\\Data\\Raster\\SylhetNASAImpact\\4_Tiles_V2\\20220525\n",
      "Creating tiles for: Z:\\media\\mule\\Projects\\NASA\\NIP\\Data\\Raster\\SylhetNASAImpact\\4_Tiles_V2\\20220525\n",
      "Creating tiles for: Z:\\media\\mule\\Projects\\NASA\\NIP\\Data\\Raster\\SylhetNASAImpact\\4_Tiles_V2\\20220604\n",
      "Creating tiles for: Z:\\media\\mule\\Projects\\NASA\\NIP\\Data\\Raster\\SylhetNASAImpact\\4_Tiles_V2\\20220604\n",
      "Creating tiles for: Z:\\media\\mule\\Projects\\NASA\\NIP\\Data\\Raster\\SylhetNASAImpact\\4_Tiles_V2\\20220606\n",
      "Creating tiles for: Z:\\media\\mule\\Projects\\NASA\\NIP\\Data\\Raster\\SylhetNASAImpact\\4_Tiles_V2\\20220606\n",
      "Creating tiles for: Z:\\media\\mule\\Projects\\NASA\\NIP\\Data\\Raster\\SylhetNASAImpact\\4_Tiles_V2\\20220616\n",
      "Creating tiles for: Z:\\media\\mule\\Projects\\NASA\\NIP\\Data\\Raster\\SylhetNASAImpact\\4_Tiles_V2\\20220616\n",
      "Creating tiles for: Z:\\media\\mule\\Projects\\NASA\\NIP\\Data\\Raster\\SylhetNASAImpact\\4_Tiles_V2\\20220618\n",
      "Creating tiles for: Z:\\media\\mule\\Projects\\NASA\\NIP\\Data\\Raster\\SylhetNASAImpact\\4_Tiles_V2\\20220618\n",
      "Creating tiles for: Z:\\media\\mule\\Projects\\NASA\\NIP\\Data\\Raster\\SylhetNASAImpact\\4_Tiles_V2\\20220628\n",
      "Creating tiles for: Z:\\media\\mule\\Projects\\NASA\\NIP\\Data\\Raster\\SylhetNASAImpact\\4_Tiles_V2\\20220628\n",
      "Creating tiles for: Z:\\media\\mule\\Projects\\NASA\\NIP\\Data\\Raster\\SylhetNASAImpact\\4_Tiles_V2\\20220630\n",
      "Creating tiles for: Z:\\media\\mule\\Projects\\NASA\\NIP\\Data\\Raster\\SylhetNASAImpact\\4_Tiles_V2\\20220630\n",
      "Creating tiles for: Z:\\media\\mule\\Projects\\NASA\\NIP\\Data\\Raster\\SylhetNASAImpact\\4_Tiles_V2\\20220712\n",
      "Creating tiles for: Z:\\media\\mule\\Projects\\NASA\\NIP\\Data\\Raster\\SylhetNASAImpact\\4_Tiles_V2\\20220712\n",
      "Creating tiles for: Z:\\media\\mule\\Projects\\NASA\\NIP\\Data\\Raster\\SylhetNASAImpact\\4_Tiles_V2\\20220722\n",
      "Creating tiles for: Z:\\media\\mule\\Projects\\NASA\\NIP\\Data\\Raster\\SylhetNASAImpact\\4_Tiles_V2\\20220722\n",
      "Creating tiles for: Z:\\media\\mule\\Projects\\NASA\\NIP\\Data\\Raster\\SylhetNASAImpact\\4_Tiles_V2\\20220724\n",
      "Creating tiles for: Z:\\media\\mule\\Projects\\NASA\\NIP\\Data\\Raster\\SylhetNASAImpact\\4_Tiles_V2\\20220724\n",
      "Creating tiles for: Z:\\media\\mule\\Projects\\NASA\\NIP\\Data\\Raster\\SylhetNASAImpact\\4_Tiles_V2\\20220803\n",
      "Creating tiles for: Z:\\media\\mule\\Projects\\NASA\\NIP\\Data\\Raster\\SylhetNASAImpact\\4_Tiles_V2\\20220803\n",
      "Creating tiles for: Z:\\media\\mule\\Projects\\NASA\\NIP\\Data\\Raster\\SylhetNASAImpact\\4_Tiles_V2\\20220805\n",
      "Creating tiles for: Z:\\media\\mule\\Projects\\NASA\\NIP\\Data\\Raster\\SylhetNASAImpact\\4_Tiles_V2\\20220805\n",
      "Creating tiles for: Z:\\media\\mule\\Projects\\NASA\\NIP\\Data\\Raster\\SylhetNASAImpact\\4_Tiles_V2\\20220815\n",
      "Creating tiles for: Z:\\media\\mule\\Projects\\NASA\\NIP\\Data\\Raster\\SylhetNASAImpact\\4_Tiles_V2\\20220815\n",
      "Creating tiles for: Z:\\media\\mule\\Projects\\NASA\\NIP\\Data\\Raster\\SylhetNASAImpact\\4_Tiles_V2\\20220827\n",
      "Creating tiles for: Z:\\media\\mule\\Projects\\NASA\\NIP\\Data\\Raster\\SylhetNASAImpact\\4_Tiles_V2\\2022082720827_35_24_VH.tif\n",
      "Creating tiles for: Z:\\media\\mule\\Projects\\NASA\\NIP\\Data\\Raster\\SylhetNASAImpact\\4_Tiles_V2\\2022082920827_35_24_VV.tif\n",
      "Creating tiles for: Z:\\media\\mule\\Projects\\NASA\\NIP\\Data\\Raster\\SylhetNASAImpact\\4_Tiles_V2\\2022082920829_35_24_VH.tif\n",
      "processing file Z:\\media\\mule\\Projects\\NASA\\NIP\\Data\\Raster\\SylhetNASAImpact\\4_Tiles_V2\\20220829/20220829_35_24_VV.tif\r"
     ]
    }
   ],
   "source": [
    "# Define desired tile dimensions\n",
    "tileWidth = 256\n",
    "tileHeight = 256\n",
    "\n",
    "# Loop through the RTC WGS84 Scaled raster files on each date\n",
    "ScaledFiles = list(ScaledPath.iterdir())\n",
    "\n",
    "for ScaledFile in ScaledFiles:\n",
    "    \n",
    "    # Get the date and polarization from the filename, create new folder to saving chips for given date\n",
    "    date = ScaledFile.stem[7:15]\n",
    "    polar = ScaledFile.stem[-2:]\n",
    "    TilesDatePath = TilesPath/date\n",
    "    TilesDatePath.mkdir(exist_ok=True)\n",
    "    print('Creating tiles for:', TilesDatePath)\n",
    "\n",
    "    # Chip the raster into 256x256 pixels\n",
    "    r = gdal.Open(str(ScaledFile))\n",
    "\n",
    "    width = r.RasterXSize\n",
    "    height = r.RasterYSize\n",
    "\n",
    "    count_i = 0\n",
    "    count_j = 0\n",
    "\n",
    "    # Loop through width and height increments to chip up the full raster\n",
    "    for i in range(0, width, tileWidth):\n",
    "        for j in range(0, height, tileHeight):\n",
    "\n",
    "            # Check if already exists in which case skip to the next \n",
    "            TileName = str(TilesDatePath) + \"/\" + str(date) + \"_\" + str(count_i) + \"_\" + str(count_j) + \"_\" + str(polar) + \".tif\"\n",
    "            if os.path.exists(TileName):\n",
    "                continue\n",
    "\n",
    "            print(f\"processing file {TileName}\", end='\\r')\n",
    "            gdal.Translate(TileName, r, srcWin=[i, j, tileWidth, tileHeight])\n",
    "            count_j = count_j + 1\n",
    "\n",
    "        count_i = count_i + 1\n",
    "        count_j = 0\n",
    "\n",
    "    r = None"
   ]
  }
 ],
 "metadata": {
  "kernelspec": {
   "display_name": "Python 3 (ipykernel)",
   "language": "python",
   "name": "python3"
  },
  "language_info": {
   "codemirror_mode": {
    "name": "ipython",
    "version": 3
   },
   "file_extension": ".py",
   "mimetype": "text/x-python",
   "name": "python",
   "nbconvert_exporter": "python",
   "pygments_lexer": "ipython3",
   "version": "3.8.16"
  }
 },
 "nbformat": 4,
 "nbformat_minor": 5
}
