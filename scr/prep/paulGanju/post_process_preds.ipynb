{
 "cells": [
  {
   "cell_type": "markdown",
   "id": "a0f29c4e-2561-4fc0-825c-04daaa67c929",
   "metadata": {
    "tags": []
   },
   "source": [
    "# Sylhet Floods 2022\n",
    "## post_process_preds.ipynb\n",
    "This script processes the predictions created through inference of the NASA IMpact S1 ML model. We mosaic together the tiled outputs."
   ]
  },
  {
   "cell_type": "code",
   "execution_count": 1,
   "id": "8add4f46",
   "metadata": {},
   "outputs": [],
   "source": [
    "from pathlib import Path\n",
    "import os\n",
    "import sys\n",
    "import pandas as pd\n",
    "import numpy as np\n",
    "import importlib\n",
    "import shutil\n",
    "import matplotlib.pyplot as plt\n",
    "import rasterio as rio\n",
    "from rasterio import warp\n",
    "import zipfile\n",
    "import geopandas as gpd\n",
    "from osgeo import gdal\n",
    "import json\n",
    "from py_linq import Enumerable\n",
    "from shapely.geometry import box\n",
    "from shapely.geometry import Polygon\n",
    "from osgeo import gdal\n",
    "import fiona\n",
    "from osgeo import gdal, ogr\n",
    "import rioxarray"
   ]
  },
  {
   "cell_type": "code",
   "execution_count": 4,
   "id": "17b28885",
   "metadata": {},
   "outputs": [],
   "source": [
    "# Set the root path\n",
    "rootPath = Path('Z:/media/mule/Projects/NASA/NIP/Data/Raster/')"
   ]
  },
  {
   "cell_type": "code",
   "execution_count": 2,
   "id": "047379e1-9027-4af1-9fba-1c1cacdfeac2",
   "metadata": {},
   "outputs": [],
   "source": [
    "# Set the module path for helpers scripts\n",
    "module_path = os.path.abspath(os.path.join('C:/Users/alexa/Documents/GitHub/Sylhet2022Floods/scr/'))\n",
    "if module_path not in sys.path:\n",
    "    sys.path.append(module_path)"
   ]
  },
  {
   "cell_type": "code",
   "execution_count": 3,
   "id": "a8802be9-9a01-41a0-b970-40dbfe441260",
   "metadata": {
    "collapsed": true,
    "jupyter": {
     "outputs_hidden": true
    },
    "tags": []
   },
   "outputs": [
    {
     "data": {
      "text/plain": [
       "<module 'Helpers.prepare_flood_raster' from 'C:\\\\Users\\\\alexsaunders\\\\Documents\\\\01_uoa\\\\04_git\\\\NIP\\\\Sylhet\\\\Helpers\\\\prepare_flood_raster.py'>"
      ]
     },
     "execution_count": 3,
     "metadata": {},
     "output_type": "execute_result"
    }
   ],
   "source": [
    "# Import module from prep_raster containing helpful functions to use\n",
    "import importlib\n",
    "import helpers.prepare_flood_raster as prep_raster\n",
    "importlib.reload(prep_raster)"
   ]
  },
  {
   "cell_type": "markdown",
   "id": "62f31377-574a-49dc-aa85-a1a7a0a6dcec",
   "metadata": {},
   "source": [
    "## PART 1: Mosaic the 256x256 10m resolution tiles together"
   ]
  },
  {
   "cell_type": "code",
   "execution_count": 11,
   "id": "f32bb753-cdb5-45c1-bb34-3106218f7ebd",
   "metadata": {},
   "outputs": [],
   "source": [
    "# Define the input path and get the date folders\n",
    "PredsPath = rootPath/'SylhetNASAImpact/5_Preds/'\n",
    "PredsDatePaths = [item for item in list(PredsPath.iterdir()) if '2022' in str(item)]\n",
    "dates = [str(item.stem) for item in PredsDatePaths]"
   ]
  },
  {
   "cell_type": "code",
   "execution_count": 12,
   "id": "143dc74b-6317-4a41-bc97-17431f23d3c0",
   "metadata": {},
   "outputs": [
    {
     "data": {
      "text/plain": [
       "[WindowsPath('Z:/media/mule/Projects/NASA/NIP/Data/Raster/SylhetNASAImpact/5_Preds/20220501'),\n",
       " WindowsPath('Z:/media/mule/Projects/NASA/NIP/Data/Raster/SylhetNASAImpact/5_Preds/20220511'),\n",
       " WindowsPath('Z:/media/mule/Projects/NASA/NIP/Data/Raster/SylhetNASAImpact/5_Preds/20220513'),\n",
       " WindowsPath('Z:/media/mule/Projects/NASA/NIP/Data/Raster/SylhetNASAImpact/5_Preds/20220523'),\n",
       " WindowsPath('Z:/media/mule/Projects/NASA/NIP/Data/Raster/SylhetNASAImpact/5_Preds/20220525'),\n",
       " WindowsPath('Z:/media/mule/Projects/NASA/NIP/Data/Raster/SylhetNASAImpact/5_Preds/20220604'),\n",
       " WindowsPath('Z:/media/mule/Projects/NASA/NIP/Data/Raster/SylhetNASAImpact/5_Preds/20220606'),\n",
       " WindowsPath('Z:/media/mule/Projects/NASA/NIP/Data/Raster/SylhetNASAImpact/5_Preds/20220616'),\n",
       " WindowsPath('Z:/media/mule/Projects/NASA/NIP/Data/Raster/SylhetNASAImpact/5_Preds/20220618'),\n",
       " WindowsPath('Z:/media/mule/Projects/NASA/NIP/Data/Raster/SylhetNASAImpact/5_Preds/20220628'),\n",
       " WindowsPath('Z:/media/mule/Projects/NASA/NIP/Data/Raster/SylhetNASAImpact/5_Preds/20220630'),\n",
       " WindowsPath('Z:/media/mule/Projects/NASA/NIP/Data/Raster/SylhetNASAImpact/5_Preds/20220712'),\n",
       " WindowsPath('Z:/media/mule/Projects/NASA/NIP/Data/Raster/SylhetNASAImpact/5_Preds/20220722'),\n",
       " WindowsPath('Z:/media/mule/Projects/NASA/NIP/Data/Raster/SylhetNASAImpact/5_Preds/20220724'),\n",
       " WindowsPath('Z:/media/mule/Projects/NASA/NIP/Data/Raster/SylhetNASAImpact/5_Preds/20220803'),\n",
       " WindowsPath('Z:/media/mule/Projects/NASA/NIP/Data/Raster/SylhetNASAImpact/5_Preds/20220805'),\n",
       " WindowsPath('Z:/media/mule/Projects/NASA/NIP/Data/Raster/SylhetNASAImpact/5_Preds/20220815'),\n",
       " WindowsPath('Z:/media/mule/Projects/NASA/NIP/Data/Raster/SylhetNASAImpact/5_Preds/20220827'),\n",
       " WindowsPath('Z:/media/mule/Projects/NASA/NIP/Data/Raster/SylhetNASAImpact/5_Preds/20220829')]"
      ]
     },
     "execution_count": 12,
     "metadata": {},
     "output_type": "execute_result"
    }
   ],
   "source": [
    "PredsDatePaths"
   ]
  },
  {
   "cell_type": "code",
   "execution_count": 13,
   "id": "23c7593a-3564-47f5-a885-d0438c8a9f79",
   "metadata": {},
   "outputs": [
    {
     "data": {
      "text/plain": [
       "['20220501',\n",
       " '20220511',\n",
       " '20220513',\n",
       " '20220523',\n",
       " '20220525',\n",
       " '20220604',\n",
       " '20220606',\n",
       " '20220616',\n",
       " '20220618',\n",
       " '20220628',\n",
       " '20220630',\n",
       " '20220712',\n",
       " '20220722',\n",
       " '20220724',\n",
       " '20220803',\n",
       " '20220805',\n",
       " '20220815',\n",
       " '20220827',\n",
       " '20220829']"
      ]
     },
     "execution_count": 13,
     "metadata": {},
     "output_type": "execute_result"
    }
   ],
   "source": [
    "dates"
   ]
  },
  {
   "cell_type": "code",
   "execution_count": 15,
   "id": "e0a6ac29-5b66-40e0-9887-70c0198654b2",
   "metadata": {},
   "outputs": [],
   "source": [
    "raster=None"
   ]
  },
  {
   "cell_type": "code",
   "execution_count": 16,
   "id": "09816513-cb50-4900-aec4-2f59661af2f0",
   "metadata": {},
   "outputs": [
    {
     "name": "stdout",
     "output_type": "stream",
     "text": [
      "Creating file Z:\\media\\mule\\Projects\\NASA\\NIP\\Data\\Raster\\SylhetNASAImpact\\5_Preds\\Mosaic\\v2\\20220501.tif\n",
      "Date:  20220501 , # tiles: 876\n",
      "Created list of tiles to mosaic\n",
      "Mosaic created and exported: Z:\\media\\mule\\Projects\\NASA\\NIP\\Data\\Raster\\SylhetNASAImpact\\5_Preds\\Mosaic\\v2\\20220501.tif\n",
      "Creating file Z:\\media\\mule\\Projects\\NASA\\NIP\\Data\\Raster\\SylhetNASAImpact\\5_Preds\\Mosaic\\v2\\20220511.tif\n",
      "Date:  20220511 , # tiles: 900\n",
      "Created list of tiles to mosaic\n",
      "Mosaic created and exported: Z:\\media\\mule\\Projects\\NASA\\NIP\\Data\\Raster\\SylhetNASAImpact\\5_Preds\\Mosaic\\v2\\20220511.tif\n",
      "Creating file Z:\\media\\mule\\Projects\\NASA\\NIP\\Data\\Raster\\SylhetNASAImpact\\5_Preds\\Mosaic\\v2\\20220513.tif\n",
      "Date:  20220513 , # tiles: 900\n",
      "Created list of tiles to mosaic\n",
      "Mosaic created and exported: Z:\\media\\mule\\Projects\\NASA\\NIP\\Data\\Raster\\SylhetNASAImpact\\5_Preds\\Mosaic\\v2\\20220513.tif\n",
      "Creating file Z:\\media\\mule\\Projects\\NASA\\NIP\\Data\\Raster\\SylhetNASAImpact\\5_Preds\\Mosaic\\v2\\20220523.tif\n",
      "Date:  20220523 , # tiles: 900\n",
      "Created list of tiles to mosaic\n",
      "Mosaic created and exported: Z:\\media\\mule\\Projects\\NASA\\NIP\\Data\\Raster\\SylhetNASAImpact\\5_Preds\\Mosaic\\v2\\20220523.tif\n",
      "Creating file Z:\\media\\mule\\Projects\\NASA\\NIP\\Data\\Raster\\SylhetNASAImpact\\5_Preds\\Mosaic\\v2\\20220525.tif\n",
      "Date:  20220525 , # tiles: 900\n",
      "Created list of tiles to mosaic\n",
      "Mosaic created and exported: Z:\\media\\mule\\Projects\\NASA\\NIP\\Data\\Raster\\SylhetNASAImpact\\5_Preds\\Mosaic\\v2\\20220525.tif\n",
      "Creating file Z:\\media\\mule\\Projects\\NASA\\NIP\\Data\\Raster\\SylhetNASAImpact\\5_Preds\\Mosaic\\v2\\20220604.tif\n",
      "Date:  20220604 , # tiles: 900\n",
      "Created list of tiles to mosaic\n",
      "Mosaic created and exported: Z:\\media\\mule\\Projects\\NASA\\NIP\\Data\\Raster\\SylhetNASAImpact\\5_Preds\\Mosaic\\v2\\20220604.tif\n",
      "Creating file Z:\\media\\mule\\Projects\\NASA\\NIP\\Data\\Raster\\SylhetNASAImpact\\5_Preds\\Mosaic\\v2\\20220606.tif\n",
      "Date:  20220606 , # tiles: 879\n",
      "Created list of tiles to mosaic\n",
      "Mosaic created and exported: Z:\\media\\mule\\Projects\\NASA\\NIP\\Data\\Raster\\SylhetNASAImpact\\5_Preds\\Mosaic\\v2\\20220606.tif\n",
      "Creating file Z:\\media\\mule\\Projects\\NASA\\NIP\\Data\\Raster\\SylhetNASAImpact\\5_Preds\\Mosaic\\v2\\20220616.tif\n",
      "Date:  20220616 , # tiles: 900\n",
      "Created list of tiles to mosaic\n",
      "Mosaic created and exported: Z:\\media\\mule\\Projects\\NASA\\NIP\\Data\\Raster\\SylhetNASAImpact\\5_Preds\\Mosaic\\v2\\20220616.tif\n",
      "Creating file Z:\\media\\mule\\Projects\\NASA\\NIP\\Data\\Raster\\SylhetNASAImpact\\5_Preds\\Mosaic\\v2\\20220618.tif\n",
      "Date:  20220618 , # tiles: 900\n",
      "Created list of tiles to mosaic\n",
      "Mosaic created and exported: Z:\\media\\mule\\Projects\\NASA\\NIP\\Data\\Raster\\SylhetNASAImpact\\5_Preds\\Mosaic\\v2\\20220618.tif\n",
      "Creating file Z:\\media\\mule\\Projects\\NASA\\NIP\\Data\\Raster\\SylhetNASAImpact\\5_Preds\\Mosaic\\v2\\20220628.tif\n",
      "Date:  20220628 , # tiles: 900\n",
      "Created list of tiles to mosaic\n",
      "Mosaic created and exported: Z:\\media\\mule\\Projects\\NASA\\NIP\\Data\\Raster\\SylhetNASAImpact\\5_Preds\\Mosaic\\v2\\20220628.tif\n",
      "Creating file Z:\\media\\mule\\Projects\\NASA\\NIP\\Data\\Raster\\SylhetNASAImpact\\5_Preds\\Mosaic\\v2\\20220630.tif\n",
      "Date:  20220630 , # tiles: 900\n",
      "Created list of tiles to mosaic\n",
      "Mosaic created and exported: Z:\\media\\mule\\Projects\\NASA\\NIP\\Data\\Raster\\SylhetNASAImpact\\5_Preds\\Mosaic\\v2\\20220630.tif\n",
      "Creating file Z:\\media\\mule\\Projects\\NASA\\NIP\\Data\\Raster\\SylhetNASAImpact\\5_Preds\\Mosaic\\v2\\20220712.tif\n",
      "Date:  20220712 , # tiles: 900\n",
      "Created list of tiles to mosaic\n",
      "Mosaic created and exported: Z:\\media\\mule\\Projects\\NASA\\NIP\\Data\\Raster\\SylhetNASAImpact\\5_Preds\\Mosaic\\v2\\20220712.tif\n",
      "Creating file Z:\\media\\mule\\Projects\\NASA\\NIP\\Data\\Raster\\SylhetNASAImpact\\5_Preds\\Mosaic\\v2\\20220722.tif\n",
      "Date:  20220722 , # tiles: 900\n",
      "Created list of tiles to mosaic\n",
      "Mosaic created and exported: Z:\\media\\mule\\Projects\\NASA\\NIP\\Data\\Raster\\SylhetNASAImpact\\5_Preds\\Mosaic\\v2\\20220722.tif\n",
      "Creating file Z:\\media\\mule\\Projects\\NASA\\NIP\\Data\\Raster\\SylhetNASAImpact\\5_Preds\\Mosaic\\v2\\20220724.tif\n",
      "Date:  20220724 , # tiles: 900\n",
      "Created list of tiles to mosaic\n",
      "Mosaic created and exported: Z:\\media\\mule\\Projects\\NASA\\NIP\\Data\\Raster\\SylhetNASAImpact\\5_Preds\\Mosaic\\v2\\20220724.tif\n",
      "Creating file Z:\\media\\mule\\Projects\\NASA\\NIP\\Data\\Raster\\SylhetNASAImpact\\5_Preds\\Mosaic\\v2\\20220803.tif\n",
      "Date:  20220803 , # tiles: 900\n",
      "Created list of tiles to mosaic\n",
      "Mosaic created and exported: Z:\\media\\mule\\Projects\\NASA\\NIP\\Data\\Raster\\SylhetNASAImpact\\5_Preds\\Mosaic\\v2\\20220803.tif\n",
      "Creating file Z:\\media\\mule\\Projects\\NASA\\NIP\\Data\\Raster\\SylhetNASAImpact\\5_Preds\\Mosaic\\v2\\20220805.tif\n",
      "Date:  20220805 , # tiles: 900\n",
      "Created list of tiles to mosaic\n",
      "Mosaic created and exported: Z:\\media\\mule\\Projects\\NASA\\NIP\\Data\\Raster\\SylhetNASAImpact\\5_Preds\\Mosaic\\v2\\20220805.tif\n",
      "Creating file Z:\\media\\mule\\Projects\\NASA\\NIP\\Data\\Raster\\SylhetNASAImpact\\5_Preds\\Mosaic\\v2\\20220815.tif\n",
      "Date:  20220815 , # tiles: 900\n",
      "Created list of tiles to mosaic\n",
      "Mosaic created and exported: Z:\\media\\mule\\Projects\\NASA\\NIP\\Data\\Raster\\SylhetNASAImpact\\5_Preds\\Mosaic\\v2\\20220815.tif\n",
      "Creating file Z:\\media\\mule\\Projects\\NASA\\NIP\\Data\\Raster\\SylhetNASAImpact\\5_Preds\\Mosaic\\v2\\20220827.tif\n",
      "Date:  20220827 , # tiles: 884\n",
      "Created list of tiles to mosaic\n",
      "Mosaic created and exported: Z:\\media\\mule\\Projects\\NASA\\NIP\\Data\\Raster\\SylhetNASAImpact\\5_Preds\\Mosaic\\v2\\20220827.tif\n",
      "Creating file Z:\\media\\mule\\Projects\\NASA\\NIP\\Data\\Raster\\SylhetNASAImpact\\5_Preds\\Mosaic\\v2\\20220829.tif\n",
      "Date:  20220829 , # tiles: 900\n",
      "Created list of tiles to mosaic\n",
      "Mosaic created and exported: Z:\\media\\mule\\Projects\\NASA\\NIP\\Data\\Raster\\SylhetNASAImpact\\5_Preds\\Mosaic\\v2\\20220829.tif\n"
     ]
    }
   ],
   "source": [
    "# Loop through all dates and stitch together the rasters\n",
    "for i, date in enumerate(dates):\n",
    "    \n",
    "    # Define the output path for saving the mosaic\n",
    "    MosaicPath = PredsPath/'Mosaic/v2' #PredsPath/(date+'/Mosaic')\n",
    "    MosaicPath.mkdir(exist_ok=True)\n",
    "    \n",
    "    # Check if already exists in which case skip to the next \n",
    "    MosaicFile = MosaicPath/(str(date)+'.tif')\n",
    "    if os.path.exists(MosaicFile):\n",
    "        continue\n",
    "    print(f\"Creating file {MosaicFile}\")\n",
    "               \n",
    "    # Get the tif files representing the surface water (note that GPM also provide flood water geotiffs which remove permanent water)\n",
    "    PredsDatePath = PredsDatePaths[i]/'v2'\n",
    "    PredsTiles = [str(item) for item in PredsDatePath.iterdir() if item.suffix =='.tif']\n",
    "\n",
    "    # Mosaic together the surface water geotiffs on the same date\n",
    "    print('Date: ', date, ', # tiles:', len(PredsTiles))\n",
    "\n",
    "    # Run the function to create the mosaic \n",
    "    mosaic, output_meta = prep_raster.mosaic_rasters(PredsTiles)\n",
    "    \n",
    "    # Output the mosaic\n",
    "    with rio.open(MosaicFile, 'w', **output_meta) as m:\n",
    "        m.write(mosaic)\n",
    "    print('Mosaic created and exported:', MosaicFile)"
   ]
  }
 ],
 "metadata": {
  "kernelspec": {
   "display_name": "Python 3 (ipykernel)",
   "language": "python",
   "name": "python3"
  },
  "language_info": {
   "codemirror_mode": {
    "name": "ipython",
    "version": 3
   },
   "file_extension": ".py",
   "mimetype": "text/x-python",
   "name": "python",
   "nbconvert_exporter": "python",
   "pygments_lexer": "ipython3",
   "version": "3.8.16"
  }
 },
 "nbformat": 4,
 "nbformat_minor": 5
}
