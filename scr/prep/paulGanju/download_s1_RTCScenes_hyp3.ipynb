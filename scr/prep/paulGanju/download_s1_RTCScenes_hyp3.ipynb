{
 "cells": [
  {
   "cell_type": "markdown",
   "id": "a0f29c4e-2561-4fc0-825c-04daaa67c929",
   "metadata": {
    "tags": []
   },
   "source": [
    "# Sylhet Floods 2022\n",
    "## download_s1_RTCScenes_hyp3.ipynb\n",
    "This script downloads the Sentinel-1 radiometric-terrain corrected scenes by running the Hybrid Pluggable Processing Pipeline or ”HyP3” system, from the Alaska Satellite Facility (https://hyp3-docs.asf.alaska.edu/using/sdk/) to get radiometric-terrain corrected images."
   ]
  },
  {
   "cell_type": "code",
   "execution_count": 1,
   "id": "4b36aebe-b0f7-4713-9307-5ad68b3d6d64",
   "metadata": {},
   "outputs": [],
   "source": [
    "import ee"
   ]
  },
  {
   "cell_type": "code",
   "execution_count": 2,
   "id": "70e7c00f",
   "metadata": {},
   "outputs": [
    {
     "data": {
      "text/html": [
       "<p>To authorize access needed by Earth Engine, open the following\n",
       "        URL in a web browser and follow the instructions:</p>\n",
       "        <p><a href=https://code.earthengine.google.com/client-auth?scopes=https%3A//www.googleapis.com/auth/earthengine%20https%3A//www.googleapis.com/auth/devstorage.full_control&request_id=YsCzKlWuz5g2wsWq9mst3FjbgvXdHWAlsZJ3HP7CcRc&tc=NXZLKxFPXqag5j_zpwLqSts_lR8cBFNaiCnKxVWwmjo&cc=2BxrFCngLf1eGxPa6RyyxyWfoZsPwg3l6cSOa7xyURs>https://code.earthengine.google.com/client-auth?scopes=https%3A//www.googleapis.com/auth/earthengine%20https%3A//www.googleapis.com/auth/devstorage.full_control&request_id=YsCzKlWuz5g2wsWq9mst3FjbgvXdHWAlsZJ3HP7CcRc&tc=NXZLKxFPXqag5j_zpwLqSts_lR8cBFNaiCnKxVWwmjo&cc=2BxrFCngLf1eGxPa6RyyxyWfoZsPwg3l6cSOa7xyURs</a></p>\n",
       "        <p>The authorization workflow will generate a code, which you should paste in the box below.</p>\n",
       "        "
      ],
      "text/plain": [
       "<IPython.core.display.HTML object>"
      ]
     },
     "metadata": {},
     "output_type": "display_data"
    },
    {
     "name": "stdin",
     "output_type": "stream",
     "text": [
      "Enter verification code:  4/1AWtgzh7AG1BedUsaup8uMijhwsTZAaBQQzuFIV2JkuWL-OADqmfmfv4L_wI\n"
     ]
    },
    {
     "name": "stdout",
     "output_type": "stream",
     "text": [
      "\n",
      "Successfully saved authorization token.\n"
     ]
    }
   ],
   "source": [
    "ee.Authenticate()"
   ]
  },
  {
   "cell_type": "code",
   "execution_count": 3,
   "id": "a460a6fa",
   "metadata": {},
   "outputs": [],
   "source": [
    "ee.Initialize()"
   ]
  },
  {
   "cell_type": "code",
   "execution_count": 4,
   "id": "8add4f46",
   "metadata": {},
   "outputs": [],
   "source": [
    "from pathlib import Path\n",
    "import os\n",
    "import sys\n",
    "import pandas as pd\n",
    "import numpy as np\n",
    "import geemap\n",
    "import importlib\n",
    "import shutil\n",
    "import matplotlib.pyplot as plt\n",
    "import rasterio as rio\n",
    "from rasterio import warp\n",
    "import zipfile\n",
    "import geopandas as gpd\n",
    "from osgeo import gdal\n",
    "import json\n",
    "from py_linq import Enumerable\n",
    "from shapely.geometry import box\n",
    "from shapely.geometry import Polygon"
   ]
  },
  {
   "cell_type": "code",
   "execution_count": 5,
   "id": "17b28885",
   "metadata": {},
   "outputs": [],
   "source": [
    "# Set the root path\n",
    "rootPath = Path('Z:/media/mule/Projects/NASA/NIP/Data/Raster/')"
   ]
  },
  {
   "cell_type": "code",
   "execution_count": 6,
   "id": "0561c00c",
   "metadata": {},
   "outputs": [],
   "source": [
    "# Set the module path for helpers scripts\n",
    "module_path = os.path.abspath(os.path.join('C:/Users/alexa/Documents/GitHub/Sylhet2022Floods/scr/'))\n",
    "if module_path not in sys.path:\n",
    "    sys.path.append(module_path)"
   ]
  },
  {
   "cell_type": "code",
   "execution_count": 7,
   "id": "ca427170-c3a5-4938-a5c1-d67b556e940a",
   "metadata": {
    "collapsed": true,
    "jupyter": {
     "outputs_hidden": true
    },
    "tags": []
   },
   "outputs": [
    {
     "data": {
      "text/plain": [
       "<module 'Helpers.prepare_chips' from 'C:\\\\Users\\\\alexsaunders\\\\Documents\\\\01_uoa\\\\04_git\\\\NIP\\\\SylhetNASAImpact\\\\Helpers\\\\prepare_chips.py'>"
      ]
     },
     "execution_count": 7,
     "metadata": {},
     "output_type": "execute_result"
    }
   ],
   "source": [
    "# Import modules from the helpers folder\n",
    "import helpers.prepare_chips as prepChips\n",
    "importlib.reload(prepChips)"
   ]
  },
  {
   "cell_type": "markdown",
   "id": "4f2de6e2",
   "metadata": {},
   "source": [
    "## PART 0: Load imports"
   ]
  },
  {
   "cell_type": "code",
   "execution_count": 8,
   "id": "8869b285",
   "metadata": {},
   "outputs": [],
   "source": [
    "# Load the FeatureCollectios containing the administrative areas\n",
    "district = ee.FeatureCollection(\"projects/ee-nip/assets/ShapeFiles/Admin/Districts\")"
   ]
  },
  {
   "cell_type": "code",
   "execution_count": 9,
   "id": "bd6d3247-32ec-4048-b503-81d665f02c35",
   "metadata": {},
   "outputs": [],
   "source": [
    "# Load the ImageCollections for the target satellites / sensors \n",
    "S1SeriesName = \"COPERNICUS/S1_GRD\"\n",
    "S1pixelsize = 10 # pixel resolution\n",
    "S1npixels = 256 # 256x256 pixels"
   ]
  },
  {
   "cell_type": "markdown",
   "id": "3d6d9cae",
   "metadata": {},
   "source": [
    "## PART 1: Define the ROI"
   ]
  },
  {
   "cell_type": "code",
   "execution_count": 10,
   "id": "9eb94732",
   "metadata": {},
   "outputs": [],
   "source": [
    "# Define ROIs for the different admin areas containing Sylhet -  we will use District\n",
    "roi = district.filter(ee.Filter.eq('NAME_2', 'Sylhet'))"
   ]
  },
  {
   "cell_type": "markdown",
   "id": "b17ab911",
   "metadata": {},
   "source": [
    "## PART 2: Define the TOI"
   ]
  },
  {
   "cell_type": "code",
   "execution_count": 11,
   "id": "49b32af6-427e-4e44-afc9-6119b2da429b",
   "metadata": {},
   "outputs": [],
   "source": [
    "# Define the time period of interest - initially do known date with max flooding\n",
    "startDate = ee.Date('2022-05-01')\n",
    "endDate = ee.Date('2022-09-01')"
   ]
  },
  {
   "cell_type": "markdown",
   "id": "0437c296-2fce-4c21-92ad-f58ee4d46cd6",
   "metadata": {},
   "source": [
    "## PART 3: Run the Hyp3 pipeline to get radiometric and terrain-corrected (RTC) images\n",
    "Run the ASF Hyp3 pipeline to process the raw S1 images and download processed images. Products described here: https://hyp3-docs.asf.alaska.edu/guides/rtc_product_guide/\n",
    "We follow the same approach that NASA IMPACT used to create the original dataset used in the ML training: https://docs.google.com/document/d/10lnUwBoNZy9KMwI7UgZ5wi5C-OwKFzSerY193TqNS4Y/edit\n",
    "\n",
    "\"Images were processed to a radiometric and terrain-corrected (RTC) image of the radar amplitude, then converted to a grayscale image for visual analysis using the Hybrid Pluggable Processing Pipeline or ”HyP3” system which takes the Sentinel archive and uses standard SAR image processing procedures to get to a consistent method of generating the VV / VH amplitude or power imagery. The resulting images were in units of dB, uint16 data format.\""
   ]
  },
  {
   "cell_type": "code",
   "execution_count": 13,
   "id": "6c5b1c11-8a66-4e6c-8e44-8f7e470b6362",
   "metadata": {},
   "outputs": [
    {
     "name": "stdout",
     "output_type": "stream",
     "text": [
      "Requirement already satisfied: hyp3_sdk in c:\\users\\alexsaunders\\anaconda3\\envs\\eartheng38_idaes_hyp3\\lib\\site-packages (1.7.5)\n",
      "Requirement already satisfied: tqdm in c:\\users\\alexsaunders\\anaconda3\\envs\\eartheng38_idaes_hyp3\\lib\\site-packages (from hyp3_sdk) (4.64.1)\n",
      "Requirement already satisfied: python-dateutil in c:\\users\\alexsaunders\\anaconda3\\envs\\eartheng38_idaes_hyp3\\lib\\site-packages (from hyp3_sdk) (2.8.2)\n",
      "Requirement already satisfied: requests in c:\\users\\alexsaunders\\anaconda3\\envs\\eartheng38_idaes_hyp3\\lib\\site-packages (from hyp3_sdk) (2.28.1)\n",
      "Requirement already satisfied: urllib3 in c:\\users\\alexsaunders\\anaconda3\\envs\\eartheng38_idaes_hyp3\\lib\\site-packages (from hyp3_sdk) (1.26.11)\n",
      "Requirement already satisfied: six>=1.5 in c:\\users\\alexsaunders\\anaconda3\\envs\\eartheng38_idaes_hyp3\\lib\\site-packages (from python-dateutil->hyp3_sdk) (1.16.0)\n",
      "Requirement already satisfied: idna<4,>=2.5 in c:\\users\\alexsaunders\\anaconda3\\envs\\eartheng38_idaes_hyp3\\lib\\site-packages (from requests->hyp3_sdk) (3.4)\n",
      "Requirement already satisfied: charset-normalizer<3,>=2 in c:\\users\\alexsaunders\\anaconda3\\envs\\eartheng38_idaes_hyp3\\lib\\site-packages (from requests->hyp3_sdk) (2.1.1)\n",
      "Requirement already satisfied: certifi>=2017.4.17 in c:\\users\\alexsaunders\\anaconda3\\envs\\eartheng38_idaes_hyp3\\lib\\site-packages (from requests->hyp3_sdk) (2022.9.24)\n",
      "Requirement already satisfied: colorama in c:\\users\\alexsaunders\\anaconda3\\envs\\eartheng38_idaes_hyp3\\lib\\site-packages (from tqdm->hyp3_sdk) (0.4.6)\n"
     ]
    }
   ],
   "source": [
    "!pip3 install hyp3_sdk"
   ]
  },
  {
   "cell_type": "code",
   "execution_count": 14,
   "id": "8a513df9-7ff6-4380-b606-9792148ad2e4",
   "metadata": {},
   "outputs": [],
   "source": [
    "import hyp3_sdk as sdk"
   ]
  },
  {
   "cell_type": "markdown",
   "id": "892d90e5-a4b5-48c6-a8e8-3c86de095c58",
   "metadata": {},
   "source": [
    "### Authentication"
   ]
  },
  {
   "cell_type": "code",
   "execution_count": 15,
   "id": "5768fdca-7512-4fc1-8ae1-5c54e2331f7c",
   "metadata": {
    "collapsed": true,
    "jupyter": {
     "outputs_hidden": true
    },
    "tags": []
   },
   "outputs": [
    {
     "name": "stdin",
     "output_type": "stream",
     "text": [
      "NASA Earthdata Login username:  alexsaunders\n",
      "NASA Earthdata Login password:  ········\n"
     ]
    }
   ],
   "source": [
    "# get credentials automatically\n",
    "# hyp3 = sdk.HyP3()\n",
    "\n",
    "# or enter your credentials\n",
    "hyp3 = sdk.HyP3(prompt=True)"
   ]
  },
  {
   "cell_type": "markdown",
   "id": "011bfd99-5666-428d-923e-afe7ecadbdc3",
   "metadata": {},
   "source": [
    "### Get the granules"
   ]
  },
  {
   "cell_type": "code",
   "execution_count": 16,
   "id": "91255f07-c0fb-4f46-90be-e7483b9f67f8",
   "metadata": {},
   "outputs": [
    {
     "name": "stdout",
     "output_type": "stream",
     "text": [
      "19 ['S1A_IW_GRDH_1SDV_20220501T234740_20220501T234805_043024_05231C_1E38', 'S1A_IW_GRDH_1SDV_20220511T115642_20220511T115707_043163_0527A8_615B', 'S1A_IW_GRDH_1SDV_20220513T234740_20220513T234805_043199_0528C6_845D', 'S1A_IW_GRDH_1SDV_20220523T115643_20220523T115708_043338_052CDF_38FC', 'S1A_IW_GRDH_1SDV_20220525T234741_20220525T234806_043374_052DFA_89F2', 'S1A_IW_GRDH_1SDV_20220604T115644_20220604T115709_043513_053205_F404', 'S1A_IW_GRDH_1SDV_20220606T234742_20220606T234807_043549_05332B_D43B', 'S1A_IW_GRDH_1SDV_20220616T115645_20220616T115710_043688_05373A_DFAB', 'S1A_IW_GRDH_1SDV_20220618T234743_20220618T234808_043724_05385D_E87E', 'S1A_IW_GRDH_1SDV_20220628T115646_20220628T115711_043863_053C7E_7C9A', 'S1A_IW_GRDH_1SDV_20220630T234744_20220630T234809_043899_053D9A_3654', 'S1A_IW_GRDH_1SDV_20220712T234744_20220712T234809_044074_0542D1_C27A', 'S1A_IW_GRDH_1SDV_20220722T115647_20220722T115712_044213_0546E8_2ED8', 'S1A_IW_GRDH_1SDV_20220724T234745_20220724T234810_044249_054807_4DE4', 'S1A_IW_GRDH_1SDV_20220803T115648_20220803T115713_044388_054C12_678D', 'S1A_IW_GRDH_1SDV_20220805T234746_20220805T234811_044424_054D28_81D6', 'S1A_IW_GRDH_1SDV_20220815T115649_20220815T115714_044563_05518F_B880', 'S1A_IW_GRDH_1SDV_20220827T115649_20220827T115714_044738_05577A_3883', 'S1A_IW_GRDH_1SDV_20220829T234747_20220829T234812_044774_0558C0_5D36']\n"
     ]
    }
   ],
   "source": [
    "s1series=ee.ImageCollection(\"COPERNICUS/S1_GRD\").filterDate(startDate, endDate).filterBounds(roi_dist)\n",
    "granules = s1series.aggregate_array(\"system:index\").getInfo()\n",
    "print(len(granules), granules)"
   ]
  },
  {
   "cell_type": "markdown",
   "id": "a77e7f4e-28ae-401d-898c-daebe4c41111",
   "metadata": {},
   "source": [
    "### Submit Sentinel-1 RTC jobs"
   ]
  },
  {
   "cell_type": "code",
   "execution_count": 17,
   "id": "5372b394-b6bd-46b7-8cfd-243f3dfdee7c",
   "metadata": {},
   "outputs": [],
   "source": [
    "# Key parameters to choose - see https://hyp3-docs.asf.alaska.edu/guides/rtc_product_guide/\n",
    "# For function help see https://hyp3-docs.asf.alaska.edu/using/sdk_api/#hyp3_sdk.hyp3.HyP3.submit_rtc_job\n",
    "pixelspacing = 10 # default 30m, can choose 10m\n",
    "outputScale = 'decibel' # d=decibel, default = power "
   ]
  },
  {
   "cell_type": "code",
   "execution_count": 20,
   "id": "0778e028-744f-4a56-9cee-86e0186b748a",
   "metadata": {},
   "outputs": [
    {
     "name": "stdout",
     "output_type": "stream",
     "text": [
      "19 HyP3 Jobs: 0 succeeded, 0 failed, 0 running, 19 pending.\n"
     ]
    }
   ],
   "source": [
    "# Run batch jobs\n",
    "rtc_jobs = sdk.Batch()\n",
    "for g in granules:\n",
    "    rtc_jobs += hyp3.submit_rtc_job(granule=g, name='rtc', resolution=pixelspacing, scale=outputScale, speckle_filter=True)\n",
    "print(rtc_jobs)"
   ]
  },
  {
   "cell_type": "code",
   "execution_count": 18,
   "id": "13b602e2-7626-4a2d-915e-7d2dd66f24be",
   "metadata": {},
   "outputs": [
    {
     "data": {
      "application/vnd.jupyter.widget-view+json": {
       "model_id": "9d6bce9d14b74c69afff0e2eb2fa847e",
       "version_major": 2,
       "version_minor": 0
      },
      "text/plain": [
       "  0%|          | 0/21 [timeout in 10800 s]"
      ]
     },
     "metadata": {},
     "output_type": "display_data"
    }
   ],
   "source": [
    "# Return and check the job\n",
    "rtc_jobs = hyp3.find_jobs(name='rtc')\n",
    "rtc_jobs = hyp3.watch(rtc_jobs)"
   ]
  },
  {
   "cell_type": "code",
   "execution_count": 19,
   "id": "d20526a4-168c-45c2-a8f1-0773331d4d7e",
   "metadata": {},
   "outputs": [
    {
     "name": "stdout",
     "output_type": "stream",
     "text": [
      "Number of succeeded jobs: 21\n",
      "Number of failed jobs: 0\n"
     ]
    }
   ],
   "source": [
    "# Get the succeeded jobs\n",
    "succeeded_jobs = rtc_jobs.filter_jobs(succeeded=True, running=False, failed=False)\n",
    "print(f'Number of succeeded jobs: {len(succeeded_jobs)}')\n",
    "failed_jobs = rtc_jobs.filter_jobs(succeeded=False, running=False, failed=True)\n",
    "print(f'Number of failed jobs: {len(failed_jobs)}')"
   ]
  },
  {
   "cell_type": "code",
   "execution_count": 20,
   "id": "fbb09aa0-b41c-44f8-8399-3cdfd7995346",
   "metadata": {},
   "outputs": [],
   "source": [
    "download_jobs = succeeded_jobs[0:19]"
   ]
  },
  {
   "cell_type": "code",
   "execution_count": 21,
   "id": "c745aa60-b3f8-4b48-94d6-695a0a7ac440",
   "metadata": {},
   "outputs": [
    {
     "data": {
      "application/vnd.jupyter.widget-view+json": {
       "model_id": "57314d4a52664851b28d835a3b26635b",
       "version_major": 2,
       "version_minor": 0
      },
      "text/plain": [
       "  0%|          | 0/19 [00:00<?, ?it/s]"
      ]
     },
     "metadata": {},
     "output_type": "display_data"
    },
    {
     "data": {
      "application/vnd.jupyter.widget-view+json": {
       "model_id": "826f64637e384be5971ac79a5b27f15f",
       "version_major": 2,
       "version_minor": 0
      },
      "text/plain": [
       "S1A_IW_20220829T234747_DVP_RTC10_G_gdufed_2F04.zip:   0%|          | 0/3936427773 [00:00<?, ?it/s]"
      ]
     },
     "metadata": {},
     "output_type": "display_data"
    },
    {
     "data": {
      "application/vnd.jupyter.widget-view+json": {
       "model_id": "b8c2cab7217f46e1b8fb92da70c18f5d",
       "version_major": 2,
       "version_minor": 0
      },
      "text/plain": [
       "S1A_IW_20220827T115649_DVP_RTC10_G_gdufed_53B0.zip:   0%|          | 0/3963374643 [00:00<?, ?it/s]"
      ]
     },
     "metadata": {},
     "output_type": "display_data"
    },
    {
     "data": {
      "application/vnd.jupyter.widget-view+json": {
       "model_id": "604e1a4174d94cb1aa57bc97a7867e4e",
       "version_major": 2,
       "version_minor": 0
      },
      "text/plain": [
       "S1A_IW_20220815T115649_DVP_RTC10_G_gdufed_B11E.zip:   0%|          | 0/3963618939 [00:00<?, ?it/s]"
      ]
     },
     "metadata": {},
     "output_type": "display_data"
    },
    {
     "data": {
      "application/vnd.jupyter.widget-view+json": {
       "model_id": "1c8e86bdd4814e618f77977cffcb1935",
       "version_major": 2,
       "version_minor": 0
      },
      "text/plain": [
       "S1A_IW_20220805T234746_DVP_RTC10_G_gdufed_9449.zip:   0%|          | 0/3940331329 [00:00<?, ?it/s]"
      ]
     },
     "metadata": {},
     "output_type": "display_data"
    },
    {
     "data": {
      "application/vnd.jupyter.widget-view+json": {
       "model_id": "faf2df9cef3a4e569923033f884a9316",
       "version_major": 2,
       "version_minor": 0
      },
      "text/plain": [
       "S1A_IW_20220803T115648_DVP_RTC10_G_gdufed_F052.zip:   0%|          | 0/3966635896 [00:00<?, ?it/s]"
      ]
     },
     "metadata": {},
     "output_type": "display_data"
    },
    {
     "data": {
      "application/vnd.jupyter.widget-view+json": {
       "model_id": "bdb1014ff663490eae989ce25c0a68ce",
       "version_major": 2,
       "version_minor": 0
      },
      "text/plain": [
       "S1A_IW_20220724T234745_DVP_RTC10_G_gdufed_259B.zip:   0%|          | 0/3940383892 [00:00<?, ?it/s]"
      ]
     },
     "metadata": {},
     "output_type": "display_data"
    },
    {
     "data": {
      "application/vnd.jupyter.widget-view+json": {
       "model_id": "54de6efc04c84e46b60460f5cbbfc836",
       "version_major": 2,
       "version_minor": 0
      },
      "text/plain": [
       "S1A_IW_20220722T115647_DVP_RTC10_G_gdufed_FB59.zip:   0%|          | 0/3966555043 [00:00<?, ?it/s]"
      ]
     },
     "metadata": {},
     "output_type": "display_data"
    },
    {
     "data": {
      "application/vnd.jupyter.widget-view+json": {
       "model_id": "5396687ab0b94fc3ad50f7a2d0915813",
       "version_major": 2,
       "version_minor": 0
      },
      "text/plain": [
       "S1A_IW_20220712T234744_DVP_RTC10_G_gdufed_A38D.zip:   0%|          | 0/3939932689 [00:00<?, ?it/s]"
      ]
     },
     "metadata": {},
     "output_type": "display_data"
    },
    {
     "data": {
      "application/vnd.jupyter.widget-view+json": {
       "model_id": "71ffc15af25840a9839a37edff5a2fe6",
       "version_major": 2,
       "version_minor": 0
      },
      "text/plain": [
       "S1A_IW_20220630T234744_DVP_RTC10_G_gdufed_B867.zip:   0%|          | 0/3938657837 [00:00<?, ?it/s]"
      ]
     },
     "metadata": {},
     "output_type": "display_data"
    },
    {
     "data": {
      "application/vnd.jupyter.widget-view+json": {
       "model_id": "da883d2ee01a4177b942aee842207f79",
       "version_major": 2,
       "version_minor": 0
      },
      "text/plain": [
       "S1A_IW_20220628T115646_DVP_RTC10_G_gdufed_DDDF.zip:   0%|          | 0/3966133138 [00:00<?, ?it/s]"
      ]
     },
     "metadata": {},
     "output_type": "display_data"
    },
    {
     "data": {
      "application/vnd.jupyter.widget-view+json": {
       "model_id": "3ac2497cb0d745fe809691f14b99e475",
       "version_major": 2,
       "version_minor": 0
      },
      "text/plain": [
       "S1A_IW_20220618T234743_DVP_RTC10_G_gdufed_8A3D.zip:   0%|          | 0/3945505316 [00:00<?, ?it/s]"
      ]
     },
     "metadata": {},
     "output_type": "display_data"
    },
    {
     "data": {
      "application/vnd.jupyter.widget-view+json": {
       "model_id": "18ffa98b165546feabe3aa39efc12da8",
       "version_major": 2,
       "version_minor": 0
      },
      "text/plain": [
       "S1A_IW_20220616T115645_DVP_RTC10_G_gdufed_09DD.zip:   0%|          | 0/3964611787 [00:00<?, ?it/s]"
      ]
     },
     "metadata": {},
     "output_type": "display_data"
    },
    {
     "data": {
      "application/vnd.jupyter.widget-view+json": {
       "model_id": "23d359691a1c4b78a03d8412e388f4cc",
       "version_major": 2,
       "version_minor": 0
      },
      "text/plain": [
       "S1A_IW_20220606T234742_DVP_RTC10_G_gdufed_29BE.zip:   0%|          | 0/3940387450 [00:00<?, ?it/s]"
      ]
     },
     "metadata": {},
     "output_type": "display_data"
    },
    {
     "data": {
      "application/vnd.jupyter.widget-view+json": {
       "model_id": "4c5a0ce0f11e4bef81151406b563c27c",
       "version_major": 2,
       "version_minor": 0
      },
      "text/plain": [
       "S1A_IW_20220604T115644_DVP_RTC10_G_gdufed_88E8.zip:   0%|          | 0/3966560678 [00:00<?, ?it/s]"
      ]
     },
     "metadata": {},
     "output_type": "display_data"
    },
    {
     "data": {
      "application/vnd.jupyter.widget-view+json": {
       "model_id": "12e4670102114a42be2e0177b135d58a",
       "version_major": 2,
       "version_minor": 0
      },
      "text/plain": [
       "S1A_IW_20220525T234741_DVP_RTC10_G_gdufed_7967.zip:   0%|          | 0/3940100189 [00:00<?, ?it/s]"
      ]
     },
     "metadata": {},
     "output_type": "display_data"
    },
    {
     "data": {
      "application/vnd.jupyter.widget-view+json": {
       "model_id": "6b9db4053e9040f3907c8859a0479031",
       "version_major": 2,
       "version_minor": 0
      },
      "text/plain": [
       "S1A_IW_20220523T115643_DVP_RTC10_G_gdufed_6B28.zip:   0%|          | 0/3968220813 [00:00<?, ?it/s]"
      ]
     },
     "metadata": {},
     "output_type": "display_data"
    },
    {
     "data": {
      "application/vnd.jupyter.widget-view+json": {
       "model_id": "3e83d09a196e47f7a7e86918bfb8e02f",
       "version_major": 2,
       "version_minor": 0
      },
      "text/plain": [
       "S1A_IW_20220513T234740_DVP_RTC10_G_gdufed_1AB9.zip:   0%|          | 0/3945394952 [00:00<?, ?it/s]"
      ]
     },
     "metadata": {},
     "output_type": "display_data"
    },
    {
     "data": {
      "application/vnd.jupyter.widget-view+json": {
       "model_id": "fe00e99045e142b3816391d698e1b48e",
       "version_major": 2,
       "version_minor": 0
      },
      "text/plain": [
       "S1A_IW_20220511T115642_DVP_RTC10_G_gdufed_1046.zip:   0%|          | 0/3963149267 [00:00<?, ?it/s]"
      ]
     },
     "metadata": {},
     "output_type": "display_data"
    },
    {
     "data": {
      "application/vnd.jupyter.widget-view+json": {
       "model_id": "ace4f22ccd2446d08f381519aff2d4fe",
       "version_major": 2,
       "version_minor": 0
      },
      "text/plain": [
       "S1A_IW_20220501T234740_DVP_RTC10_G_gdufed_FDD7.zip:   0%|          | 0/3928051144 [00:00<?, ?it/s]"
      ]
     },
     "metadata": {},
     "output_type": "display_data"
    }
   ],
   "source": [
    "# Download files for successful jobs - is saved in a zip folder with other outputs\n",
    "outputPath = rootPath/'SylhetNASAImpact/1_RTC'\n",
    "outputPath.mkdir(exist_ok=True)\n",
    "file_list = download_jobs.download_files(location=outputPath, create=True)"
   ]
  }
 ],
 "metadata": {
  "kernelspec": {
   "display_name": "Python 3 (ipykernel)",
   "language": "python",
   "name": "python3"
  },
  "language_info": {
   "codemirror_mode": {
    "name": "ipython",
    "version": 3
   },
   "file_extension": ".py",
   "mimetype": "text/x-python",
   "name": "python",
   "nbconvert_exporter": "python",
   "pygments_lexer": "ipython3",
   "version": "3.8.16"
  }
 },
 "nbformat": 4,
 "nbformat_minor": 5
}
