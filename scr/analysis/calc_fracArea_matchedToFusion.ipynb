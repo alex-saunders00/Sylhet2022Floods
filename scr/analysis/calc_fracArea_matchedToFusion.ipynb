{
 "cells": [
  {
   "cell_type": "markdown",
   "id": "a8b3dd4f-6c86-456a-b7c2-a73985a91ec2",
   "metadata": {
    "tags": []
   },
   "source": [
    "# Sylhet Floods 2022\n",
    "## calc_fracArea_matchedToFusion.ipynb\n",
    "This script calculates fractional inundated area stats for the maps outputs which have already been resampled to 500 m resolution and aligned consistent with the fusion model outputs."
   ]
  },
  {
   "cell_type": "code",
   "execution_count": 1,
   "id": "89b5fc22-8f3a-4e36-99b0-8c2240b04ad5",
   "metadata": {},
   "outputs": [],
   "source": [
    "from pathlib import Path\n",
    "import os\n",
    "import sys\n",
    "import pandas as pd\n",
    "import geopandas as gpd\n",
    "import numpy as np\n",
    "import rasterio as rio\n",
    "from rasterio.plot import show\n",
    "from rasterio.mask import mask\n",
    "import rioxarray as riox\n",
    "import xarray\n",
    "from shapely.geometry import Polygon\n",
    "import matplotlib.pyplot as plt"
   ]
  },
  {
   "cell_type": "code",
   "execution_count": 2,
   "id": "e090b766-cc0a-4cdc-8361-29e63c1f419b",
   "metadata": {},
   "outputs": [],
   "source": [
    "# Set the root path\n",
    "rootPath = Path('Z:/media/mule/Projects/NASA/NIP/Data')"
   ]
  },
  {
   "cell_type": "code",
   "execution_count": 3,
   "id": "09d03fd0-febb-4440-9f3d-26aa6efaaa25",
   "metadata": {},
   "outputs": [],
   "source": [
    "# Set the module path for helpers scripts\n",
    "module_path = os.path.abspath(os.path.join('C:/Users/alexa/Documents/GitHub/Sylhet2022Floods/scr/'))\n",
    "if module_path not in sys.path:\n",
    "    sys.path.append(module_path)"
   ]
  },
  {
   "cell_type": "code",
   "execution_count": 4,
   "id": "a368b748-f66c-49fa-b591-8eecf9d90459",
   "metadata": {
    "collapsed": true,
    "jupyter": {
     "outputs_hidden": true
    },
    "tags": []
   },
   "outputs": [
    {
     "data": {
      "text/plain": [
       "<module 'Helpers.analyse_modifiedDevries' from 'C:\\\\Users\\\\alexsaunders\\\\Documents\\\\01_uoa\\\\04_git\\\\NIP\\\\Sylhet\\\\Helpers\\\\analyse_modifiedDevries.py'>"
      ]
     },
     "execution_count": 4,
     "metadata": {},
     "output_type": "execute_result"
    }
   ],
   "source": [
    "# Import module from analyse_modifiedDevries containing helpful functions to use\n",
    "import importlib\n",
    "import helpers.prepare_flood_raster as prep_raster\n",
    "importlib.reload(prep_raster)\n",
    "import helpers.analyse_modifiedDevries as analyse_DV\n",
    "importlib.reload(analyse_DV)"
   ]
  },
  {
   "cell_type": "markdown",
   "id": "f0dd526d-cb9f-40b6-86b1-e2a4b2d2e2e3",
   "metadata": {},
   "source": [
    "## PART 1: Get the matched rasters"
   ]
  },
  {
   "cell_type": "code",
   "execution_count": 6,
   "id": "725eafa6-b99d-4398-87d5-82befa753097",
   "metadata": {},
   "outputs": [],
   "source": [
    "matchedPath = rootPath/'Raster/SylhetMatchedToFusion'"
   ]
  },
  {
   "cell_type": "code",
   "execution_count": 7,
   "id": "0a6b545a-87af-4e9d-80ec-9ad15cbce88a",
   "metadata": {},
   "outputs": [],
   "source": [
    "FusionPath=matchedPath/'Fusion'\n",
    "GFDPath=matchedPath/'GFD'\n",
    "DevriesPath=matchedPath/'Devries'\n",
    "IMPACTPath=matchedPath/'IMPACT'\n",
    "GFMPath=matchedPath/'GFM'\n",
    "UNOSATPath=matchedPath/'UNOSAT'"
   ]
  },
  {
   "cell_type": "markdown",
   "id": "c22aabdc-a7a0-4b7c-a26f-44ca16615083",
   "metadata": {},
   "source": [
    "## PART 2: Load spatial files for defining the ROI"
   ]
  },
  {
   "cell_type": "code",
   "execution_count": 8,
   "id": "9a2cdacc-b526-4871-9bed-5b6fa86ee33f",
   "metadata": {},
   "outputs": [],
   "source": [
    "# Import the ROI geometry from shapefile\n",
    "adminShapePath = rootPath/'Shapefiles/AdminHDX'\n",
    "districts = gpd.read_file(adminShapePath/'bgd_admbnda_adm2_bbs_20201113.shp')\n",
    "sylhet_dist = districts[districts['ADM2_EN']=='Sylhet'].reset_index()\n",
    "\n",
    "# Get the ROI as shapely Polygon geom\n",
    "geom_dist = sylhet_dist.loc[0, 'geometry']"
   ]
  },
  {
   "cell_type": "markdown",
   "id": "e4e55490-c891-49f5-a528-46f013bd4757",
   "metadata": {},
   "source": [
    "## PART 3: Get the mean, median and 5/95%ile FIA values"
   ]
  },
  {
   "cell_type": "code",
   "execution_count": 10,
   "id": "2973f98a-2d1d-42ff-883d-5c1621ccf3a2",
   "metadata": {},
   "outputs": [],
   "source": [
    "# For GFD we will runs two versions using different band outputs of the GFD\n",
    "GFDBands=[0,4]\n",
    "GFDBandsNames=['flooded','max_img']"
   ]
  },
  {
   "cell_type": "code",
   "execution_count": 21,
   "id": "e9ffbc3e-4a02-4092-ba0b-d0025fbd4d05",
   "metadata": {
    "tags": []
   },
   "outputs": [],
   "source": [
    "# Loop through all map sources and through all map dates for each\n",
    "MapDataPaths = [FusionPath, GFDPath,DevriesPath,IMPACTPath,GFMPath,UNOSATPath]\n",
    "\n",
    "# Create an empty dataframe for saving results\n",
    "FIAStatsDF = pd.DataFrame(data=[], index=['MapSource','ImageDate','ImageBand','MeanFIA','MedianFIA','StdevFIA','05PctFIA','95PctFIA']).T\n",
    "\n",
    "for MapDataPath in MapDataPaths:\n",
    "    \n",
    "    # Map source\n",
    "    MapSource=MapDataPath.stem\n",
    "    \n",
    "    # Get all the files\n",
    "    MapDataFiles = [file for file in list(MapDataPath.iterdir()) if file.suffix=='.tif' and '2022' in str(file)]\n",
    "    \n",
    "    # Loop through files\n",
    "    for MapDataFile in MapDataFiles:\n",
    "        \n",
    "        # Map date\n",
    "        ImageDate=MapDataFile.stem\n",
    "        \n",
    "        # If source is GFD, do two versions: one with band0 'flooded' and one with band4 'max_img'\n",
    "        if MapDataPath==GFDPath:\n",
    "            \n",
    "            for i, GFDBand in enumerate(GFDBands):\n",
    "                \n",
    "                # Get the FIA values for the file and get stats\n",
    "                FIAStats = analyse_DV.getFIAStats(analyse_DV.getFIAValsROI(MapDataFile, geom_dist, GFDBand))\n",
    "                \n",
    "                # Append results to dataframe\n",
    "                FIAStatsDF = pd.concat(objs=[FIAStatsDF, \n",
    "                                             pd.DataFrame([MapSource, ImageDate, GFDBandsNames[i]] + FIAStats, index=FIAStatsDF.columns).T], \n",
    "                                                          axis=0, ignore_index=True)\n",
    "                \n",
    "        else:    \n",
    "        \n",
    "            # Get the FIA values for the file and get stats\n",
    "            FIAStats = analyse_DV.getFIAStats(analyse_DV.getFIAValsROI(MapDataFile, geom_dist))\n",
    "            \n",
    "            # Append results to dataframe\n",
    "            FIAStatsDF = pd.concat(objs=[FIAStatsDF, \n",
    "                                         pd.DataFrame([MapSource, ImageDate, 'NA'] + FIAStats, index=FIAStatsDF.columns).T], \n",
    "                                                      axis=0, ignore_index=True)"
   ]
  },
  {
   "cell_type": "code",
   "execution_count": 22,
   "id": "9df1a042-9a09-4ef9-8973-af3a7668054d",
   "metadata": {},
   "outputs": [
    {
     "data": {
      "text/html": [
       "<div>\n",
       "<style scoped>\n",
       "    .dataframe tbody tr th:only-of-type {\n",
       "        vertical-align: middle;\n",
       "    }\n",
       "\n",
       "    .dataframe tbody tr th {\n",
       "        vertical-align: top;\n",
       "    }\n",
       "\n",
       "    .dataframe thead th {\n",
       "        text-align: right;\n",
       "    }\n",
       "</style>\n",
       "<table border=\"1\" class=\"dataframe\">\n",
       "  <thead>\n",
       "    <tr style=\"text-align: right;\">\n",
       "      <th></th>\n",
       "      <th>MapSource</th>\n",
       "      <th>ImageDate</th>\n",
       "      <th>ImageBand</th>\n",
       "      <th>MeanFIA</th>\n",
       "      <th>MedianFIA</th>\n",
       "      <th>StdevFIA</th>\n",
       "      <th>05PctFIA</th>\n",
       "      <th>95PctFIA</th>\n",
       "    </tr>\n",
       "  </thead>\n",
       "  <tbody>\n",
       "    <tr>\n",
       "      <th>0</th>\n",
       "      <td>Fusion</td>\n",
       "      <td>20220504</td>\n",
       "      <td>NA</td>\n",
       "      <td>0.090027</td>\n",
       "      <td>0.072737</td>\n",
       "      <td>0.065253</td>\n",
       "      <td>0.021923</td>\n",
       "      <td>0.211306</td>\n",
       "    </tr>\n",
       "    <tr>\n",
       "      <th>1</th>\n",
       "      <td>Fusion</td>\n",
       "      <td>20220512</td>\n",
       "      <td>NA</td>\n",
       "      <td>0.167151</td>\n",
       "      <td>0.140528</td>\n",
       "      <td>0.135239</td>\n",
       "      <td>0.012278</td>\n",
       "      <td>0.423461</td>\n",
       "    </tr>\n",
       "    <tr>\n",
       "      <th>2</th>\n",
       "      <td>Fusion</td>\n",
       "      <td>20220520</td>\n",
       "      <td>NA</td>\n",
       "      <td>0.41722</td>\n",
       "      <td>0.390283</td>\n",
       "      <td>0.3324</td>\n",
       "      <td>0.018233</td>\n",
       "      <td>0.896861</td>\n",
       "    </tr>\n",
       "    <tr>\n",
       "      <th>3</th>\n",
       "      <td>Fusion</td>\n",
       "      <td>20220528</td>\n",
       "      <td>NA</td>\n",
       "      <td>0.457646</td>\n",
       "      <td>0.422678</td>\n",
       "      <td>0.349128</td>\n",
       "      <td>0.018326</td>\n",
       "      <td>0.96349</td>\n",
       "    </tr>\n",
       "    <tr>\n",
       "      <th>4</th>\n",
       "      <td>Fusion</td>\n",
       "      <td>20220605</td>\n",
       "      <td>NA</td>\n",
       "      <td>0.46204</td>\n",
       "      <td>0.469115</td>\n",
       "      <td>0.288645</td>\n",
       "      <td>0.034838</td>\n",
       "      <td>0.883284</td>\n",
       "    </tr>\n",
       "    <tr>\n",
       "      <th>...</th>\n",
       "      <td>...</td>\n",
       "      <td>...</td>\n",
       "      <td>...</td>\n",
       "      <td>...</td>\n",
       "      <td>...</td>\n",
       "      <td>...</td>\n",
       "      <td>...</td>\n",
       "      <td>...</td>\n",
       "    </tr>\n",
       "    <tr>\n",
       "      <th>101</th>\n",
       "      <td>GFM</td>\n",
       "      <td>20220815</td>\n",
       "      <td>NA</td>\n",
       "      <td>0.115046</td>\n",
       "      <td>0.0</td>\n",
       "      <td>0.219965</td>\n",
       "      <td>0.0</td>\n",
       "      <td>0.65153</td>\n",
       "    </tr>\n",
       "    <tr>\n",
       "      <th>102</th>\n",
       "      <td>GFM</td>\n",
       "      <td>20220827</td>\n",
       "      <td>NA</td>\n",
       "      <td>0.120676</td>\n",
       "      <td>0.0</td>\n",
       "      <td>0.222065</td>\n",
       "      <td>0.0</td>\n",
       "      <td>0.65269</td>\n",
       "    </tr>\n",
       "    <tr>\n",
       "      <th>103</th>\n",
       "      <td>GFM</td>\n",
       "      <td>20220829</td>\n",
       "      <td>NA</td>\n",
       "      <td>0.116793</td>\n",
       "      <td>0.0</td>\n",
       "      <td>0.222094</td>\n",
       "      <td>0.0</td>\n",
       "      <td>0.65269</td>\n",
       "    </tr>\n",
       "    <tr>\n",
       "      <th>104</th>\n",
       "      <td>UNOSAT</td>\n",
       "      <td>20220525</td>\n",
       "      <td>NA</td>\n",
       "      <td>0.370871</td>\n",
       "      <td>0.193113</td>\n",
       "      <td>0.400744</td>\n",
       "      <td>0.0</td>\n",
       "      <td>1.0</td>\n",
       "    </tr>\n",
       "    <tr>\n",
       "      <th>105</th>\n",
       "      <td>UNOSAT</td>\n",
       "      <td>20220619</td>\n",
       "      <td>NA</td>\n",
       "      <td>0.389225</td>\n",
       "      <td>0.246673</td>\n",
       "      <td>0.398547</td>\n",
       "      <td>0.0</td>\n",
       "      <td>1.0</td>\n",
       "    </tr>\n",
       "  </tbody>\n",
       "</table>\n",
       "<p>106 rows × 8 columns</p>\n",
       "</div>"
      ],
      "text/plain": [
       "    MapSource ImageDate ImageBand   MeanFIA MedianFIA  StdevFIA  05PctFIA  \\\n",
       "0      Fusion  20220504        NA  0.090027  0.072737  0.065253  0.021923   \n",
       "1      Fusion  20220512        NA  0.167151  0.140528  0.135239  0.012278   \n",
       "2      Fusion  20220520        NA   0.41722  0.390283    0.3324  0.018233   \n",
       "3      Fusion  20220528        NA  0.457646  0.422678  0.349128  0.018326   \n",
       "4      Fusion  20220605        NA   0.46204  0.469115  0.288645  0.034838   \n",
       "..        ...       ...       ...       ...       ...       ...       ...   \n",
       "101       GFM  20220815        NA  0.115046       0.0  0.219965       0.0   \n",
       "102       GFM  20220827        NA  0.120676       0.0  0.222065       0.0   \n",
       "103       GFM  20220829        NA  0.116793       0.0  0.222094       0.0   \n",
       "104    UNOSAT  20220525        NA  0.370871  0.193113  0.400744       0.0   \n",
       "105    UNOSAT  20220619        NA  0.389225  0.246673  0.398547       0.0   \n",
       "\n",
       "     95PctFIA  \n",
       "0    0.211306  \n",
       "1    0.423461  \n",
       "2    0.896861  \n",
       "3     0.96349  \n",
       "4    0.883284  \n",
       "..        ...  \n",
       "101   0.65153  \n",
       "102   0.65269  \n",
       "103   0.65269  \n",
       "104       1.0  \n",
       "105       1.0  \n",
       "\n",
       "[106 rows x 8 columns]"
      ]
     },
     "execution_count": 22,
     "metadata": {},
     "output_type": "execute_result"
    }
   ],
   "source": [
    "FIAStatsDF"
   ]
  },
  {
   "cell_type": "code",
   "execution_count": 23,
   "id": "4d64769f-a0e5-4b96-bbe1-c1e5251672d6",
   "metadata": {},
   "outputs": [],
   "source": [
    "# Export the results as csv\n",
    "outputPath = rootPath/'Table/SylhetFracFloodedArea'\n",
    "outputPath.mkdir(exist_ok=True)\n",
    "pd.DataFrame.to_csv(FIAStatsDF, outputPath/'FIA_matchedToFusion_sylhetDist.csv', index=False)"
   ]
  }
 ],
 "metadata": {
  "kernelspec": {
   "display_name": "Python 3 (ipykernel)",
   "language": "python",
   "name": "python3"
  },
  "language_info": {
   "codemirror_mode": {
    "name": "ipython",
    "version": 3
   },
   "file_extension": ".py",
   "mimetype": "text/x-python",
   "name": "python",
   "nbconvert_exporter": "python",
   "pygments_lexer": "ipython3",
   "version": "3.8.16"
  }
 },
 "nbformat": 4,
 "nbformat_minor": 5
}
