{
 "cells": [
  {
   "cell_type": "markdown",
   "id": "a8b3dd4f-6c86-456a-b7c2-a73985a91ec2",
   "metadata": {
    "tags": []
   },
   "source": [
    "# Sylhet Floods 2022\n",
    "## calc_accuracyVsLabel.ipynb\n",
    "This script evaluates the flood mapping algorithms against the hand labels. It computes metrics for specified image dates and sources."
   ]
  },
  {
   "cell_type": "code",
   "execution_count": 1,
   "id": "89b5fc22-8f3a-4e36-99b0-8c2240b04ad5",
   "metadata": {},
   "outputs": [],
   "source": [
    "from pathlib import Path\n",
    "import os\n",
    "import sys\n",
    "import pandas as pd\n",
    "import numpy as np\n",
    "import rasterio\n",
    "import matplotlib.pyplot as plt\n",
    "from rasterio.plot import show\n",
    "from rasterio.mask import mask\n",
    "from itertools import chain\n",
    "from pyproj import Transformer\n",
    "from matplotlib.patches import Patch\n",
    "from matplotlib.colors import ListedColormap\n",
    "import matplotlib.colors as colors\n",
    "from datetime import datetime\n",
    "import geopandas as gpd\n",
    "import copy\n",
    "import collections\n",
    "from shapely.geometry import mapping\n",
    "import pycrs\n",
    "from shapely.geometry import Polygon\n",
    "from functools import reduce\n",
    "import shutil"
   ]
  },
  {
   "cell_type": "code",
   "execution_count": 2,
   "id": "e090b766-cc0a-4cdc-8361-29e63c1f419b",
   "metadata": {},
   "outputs": [],
   "source": [
    "# Set the root path\n",
    "rootPath = Path('Z:/media/mule/Projects/NASA/NIP/Data')"
   ]
  },
  {
   "cell_type": "code",
   "execution_count": 3,
   "id": "09d03fd0-febb-4440-9f3d-26aa6efaaa25",
   "metadata": {},
   "outputs": [],
   "source": [
    "# Set the module path for helpers scripts\n",
    "module_path = os.path.abspath(os.path.join('C:/Users/alexa/Documents/GitHub/Sylhet2022Floods/scr/'))\n",
    "if module_path not in sys.path:\n",
    "    sys.path.append(module_path)"
   ]
  },
  {
   "cell_type": "code",
   "execution_count": 4,
   "id": "a368b748-f66c-49fa-b591-8eecf9d90459",
   "metadata": {
    "collapsed": true,
    "jupyter": {
     "outputs_hidden": true
    },
    "tags": []
   },
   "outputs": [
    {
     "data": {
      "text/plain": [
       "<module 'Helpers.prepare_flood_raster' from 'C:\\\\Users\\\\alexsaunders\\\\Documents\\\\01_uoa\\\\04_git\\\\NIP\\\\Sylhet\\\\Helpers\\\\prepare_flood_raster.py'>"
      ]
     },
     "execution_count": 4,
     "metadata": {},
     "output_type": "execute_result"
    }
   ],
   "source": [
    "# Import module from analyse_modifiedDevries containing helpful functions to use\n",
    "import importlib\n",
    "import helpers.analyse_modifiedDevries as analyse_DV\n",
    "importlib.reload(analyse_DV)\n",
    "import helpers.prepare_flood_raster as prep_raster\n",
    "importlib.reload(prep_raster)"
   ]
  },
  {
   "cell_type": "markdown",
   "id": "33e41834-44f1-4242-ab85-390dc2e42399",
   "metadata": {
    "tags": []
   },
   "source": [
    "## PART 1: Get the label data"
   ]
  },
  {
   "cell_type": "code",
   "execution_count": 5,
   "id": "4bcae767-2a52-40c1-82fe-6c269fb8500d",
   "metadata": {},
   "outputs": [],
   "source": [
    "# Move the mosaic NASSA IMPACT predictions to a single folder\n",
    "labelPath = rootPath/'Raster/SylhetLabels/finalLabels'"
   ]
  },
  {
   "cell_type": "code",
   "execution_count": 6,
   "id": "165cb197-4d66-46cf-b15c-2062415c7cb4",
   "metadata": {},
   "outputs": [],
   "source": [
    "labelFiles = [file for file in list(labelPath.iterdir()) if file.suffix=='.tif']"
   ]
  },
  {
   "cell_type": "code",
   "execution_count": 7,
   "id": "a712a930-bb11-4058-89cd-e98980c21a26",
   "metadata": {},
   "outputs": [],
   "source": [
    "labelDates = list(np.unique([item.stem.split('_')[0] for item in labelFiles]))"
   ]
  },
  {
   "cell_type": "code",
   "execution_count": 8,
   "id": "d6f645c9-f3a1-44cd-add9-69f2959402c5",
   "metadata": {},
   "outputs": [
    {
     "data": {
      "text/plain": [
       "['20220524', '20220530', '20220714']"
      ]
     },
     "execution_count": 8,
     "metadata": {},
     "output_type": "execute_result"
    }
   ],
   "source": [
    "labelDates"
   ]
  },
  {
   "cell_type": "markdown",
   "id": "6d7313fa-9004-42f7-9607-7046a5094de5",
   "metadata": {},
   "source": [
    "## PART 2: Load the map data for scorign against labels"
   ]
  },
  {
   "cell_type": "code",
   "execution_count": 9,
   "id": "a42e5696-411b-4f82-87f7-ecbf488e5931",
   "metadata": {},
   "outputs": [
    {
     "name": "stdout",
     "output_type": "stream",
     "text": [
      "GFM image dates:  ['2022-05-01', '2022-05-11', '2022-05-13', '2022-05-23', '2022-05-25', '2022-06-04', '2022-06-06', '2022-06-16', '2022-06-18', '2022-06-28', '2022-06-30', '2022-07-12', '2022-07-22', '2022-07-24', '2022-08-05', '2022-08-15', '2022-08-27', '2022-08-29']\n"
     ]
    }
   ],
   "source": [
    "# Open the GFM mosaiced raster files and get the image dates\n",
    "GFMPath = rootPath/'Raster/SylhetCopernicusGFM/sylhet_district_2022-05-01-2022-08-31/Mosaic'\n",
    "GFM_mosaics = [file for file in (GFMPath).iterdir() if file.is_file() and '2022' in str(file)]\n",
    "GFM_dates = [str(datetime.strptime(mosaic.stem[-10:].replace('_',''), '%Y%m%d').date()) for mosaic in GFM_mosaics]\n",
    "print('GFM image dates: ', GFM_dates)"
   ]
  },
  {
   "cell_type": "code",
   "execution_count": 10,
   "id": "c0b0dc6f-eee4-4b03-b6a0-7da094cb9ec4",
   "metadata": {},
   "outputs": [
    {
     "name": "stdout",
     "output_type": "stream",
     "text": [
      "Modified DeVries image dates:  ['2022-05-01', '2022-05-11', '2022-05-13', '2022-05-23', '2022-05-25', '2022-06-04', '2022-06-06', '2022-06-16', '2022-06-18', '2022-06-28', '2022-06-30', '2022-07-12', '2022-07-22', '2022-07-24', '2022-08-03', '2022-08-05', '2022-08-15', '2022-08-27', '2022-08-29']\n"
     ]
    }
   ],
   "source": [
    "# Open the modified Devries mosaiced raster files and get the image dates\n",
    "DevriesPath = rootPath/'Raster/Sylhet/Sen1MitchellSingleOrbit/Mosaic'\n",
    "Devries_mosaics = [file for file in (DevriesPath).iterdir() if file.is_file() and '2022' in str(file)]\n",
    "Devries_dates = [str(datetime.strptime(mosaic.stem[-14:-6], '%Y%m%d').date()) for mosaic in Devries_mosaics]\n",
    "print('Modified DeVries image dates: ', Devries_dates)"
   ]
  },
  {
   "cell_type": "code",
   "execution_count": 11,
   "id": "2d6aa3dd-83fa-499c-87d2-7e573ca9488c",
   "metadata": {},
   "outputs": [
    {
     "name": "stdout",
     "output_type": "stream",
     "text": [
      "UNOSAT image dates:  ['2022-05-25', '2022-06-19']\n"
     ]
    }
   ],
   "source": [
    "# Open the UNOSAT raster files and get the image dates\n",
    "UNOSATPath = rootPath/'Raster/SylhetUNOSAT'\n",
    "UNOSAT_mosaics = [file for file in (UNOSATPath).iterdir() if file.is_file() and 'allTouchFalse' in str(file)]\n",
    "UNOSAT_mosaics.reverse()\n",
    "UNOSAT_dates = ['2022-05-25','2022-06-19']\n",
    "print('UNOSAT image dates: ', UNOSAT_dates)"
   ]
  },
  {
   "cell_type": "code",
   "execution_count": 12,
   "id": "9ca117d3-9b1a-445f-80e9-d0e133959b33",
   "metadata": {},
   "outputs": [
    {
     "name": "stdout",
     "output_type": "stream",
     "text": [
      "NASA IMPACT image dates:  ['2022-05-01', '2022-05-11', '2022-05-13', '2022-05-23', '2022-05-25', '2022-06-04', '2022-06-06', '2022-06-16', '2022-06-18', '2022-06-28', '2022-06-30', '2022-07-12', '2022-07-22', '2022-07-24', '2022-08-03', '2022-08-05', '2022-08-15', '2022-08-27', '2022-08-29']\n"
     ]
    }
   ],
   "source": [
    "# Open the NASA IMPACT raster files and get the image dates\n",
    "IMPACTPath = rootPath/'Raster/SylhetNASAImpact/5_Preds/Mosaic/'\n",
    "IMPACT_mosaics = [file for file in (IMPACTPath).iterdir() if file.is_file() and '2022' in str(file) and file.suffix=='.tif']\n",
    "IMPACT_dates = [str(datetime.strptime(file.stem, '%Y%m%d').date()) for file in IMPACT_mosaics]\n",
    "print('NASA IMPACT image dates: ', IMPACT_dates)"
   ]
  },
  {
   "cell_type": "markdown",
   "id": "ae1ad66f-cc43-4418-92b1-b0a8bc008b1c",
   "metadata": {},
   "source": [
    "## PART 3: Comparisons"
   ]
  },
  {
   "cell_type": "markdown",
   "id": "cfbd627d-53e8-4931-9d1c-f1f7f5a67a03",
   "metadata": {
    "jp-MarkdownHeadingCollapsed": true,
    "tags": []
   },
   "source": [
    "### Dates to compare\n",
    "\n",
    "Compare 20220524 label with 2022-05-25\n",
    "\n",
    "Compare 20220530 label with 2022-06-04\n",
    "\n",
    "Compare 20220714 label with 2022-07-12"
   ]
  },
  {
   "cell_type": "markdown",
   "id": "2a5b40fe-f86c-4655-a6f8-f73a5be26ee7",
   "metadata": {},
   "source": [
    "### Compare on a label by label basis\n",
    "I.e., compute accuracy for a single label"
   ]
  },
  {
   "cell_type": "code",
   "execution_count": 25,
   "id": "8cdcb1a3-1069-49c2-a48b-16084339f8f6",
   "metadata": {},
   "outputs": [],
   "source": [
    "# Function to compare a given map with a given label and retrun a list of confusion matrix metrics\n",
    "# ['TN', 'FP', 'FN', 'TP', 'Precision', 'Recall', 'Accuracy', 'IOU']\n",
    "def compare_map_wLabel(labelFile, mapRasterFile):\n",
    "    \n",
    "    # Get the label date and tileID\n",
    "    labelDate=labelFile.stem.split('_')[0]\n",
    "    labelTile='_'.join(labelFile.stem.split('_')[1:3])\n",
    "    \n",
    "    # Open the label raster\n",
    "    labelRaster = prep_raster.load_label_for_comparison(str(labelFile))\n",
    "    \n",
    "    # Open the map to compare, and reproject and match the extent\n",
    "    mapRaster = prep_raster.load_raster_for_comparison(str(mapRasterFile), 0)\n",
    "    mapRasterReproj = prep_raster.reproj_match_raster(mapRaster, labelRaster)\n",
    "    \n",
    "    # Convert rasters to numpy arrays, make binary integers\n",
    "    labelValues = prep_raster.raster_to_binary_list(labelRaster)\n",
    "    mapValues = prep_raster.raster_to_binary_list(mapRasterReproj)\n",
    "    \n",
    "    # Run the function to get the confusion matrix and other metrics\n",
    "    metrics_list = analyse_DV.get_confusion_matrix_metrics(labelValues, mapValues)\n",
    "    \n",
    "    return [labelDate, labelTile] + metrics_list"
   ]
  },
  {
   "cell_type": "code",
   "execution_count": 19,
   "id": "a0dc70d1-9ec0-4c71-9aa3-4440c8b6b60d",
   "metadata": {},
   "outputs": [],
   "source": [
    "# Set up empty dataframe for saving results\n",
    "confus_matrix_metrics = pd.DataFrame(data = [], index = ['MapSource', 'MapDate', 'labelDate', 'labelTile', 'TN', 'FP', 'FN', 'TP', 'Precision', 'Recall', 'Accuracy', 'IOU']).T"
   ]
  },
  {
   "cell_type": "markdown",
   "id": "4e3e3085-3c39-45f9-b877-5aed44adfbae",
   "metadata": {},
   "source": [
    "#### Perform on first set of labels from 20220524"
   ]
  },
  {
   "cell_type": "code",
   "execution_count": 38,
   "id": "7520718b-7913-4dcf-a87a-49872928f5e4",
   "metadata": {},
   "outputs": [],
   "source": [
    "# Define the date for the label and date for the nearest S1 images\n",
    "labelDate = labelDates[0]\n",
    "compareDate = '20220525'"
   ]
  },
  {
   "cell_type": "code",
   "execution_count": 39,
   "id": "e865eb47-78ea-4f9e-96c5-8d093fbcaa90",
   "metadata": {},
   "outputs": [],
   "source": [
    "# Get the labels on the given date\n",
    "labelDateFiles = [file for file in labelFiles if labelDate in str(file)]"
   ]
  },
  {
   "cell_type": "code",
   "execution_count": 40,
   "id": "d4a7d9d0-1e88-4846-90eb-b99d432062cf",
   "metadata": {},
   "outputs": [],
   "source": [
    "# Get the Devries, GFM and NASAIMPACT rasters to comapre, from the closest date\n",
    "DevriesCompare = [file for file in Devries_mosaics if compareDate in str(file)][0]\n",
    "GFMCompare = [file for file in GFM_mosaics if str(datetime.strptime(compareDate, '%Y%m%d').date()).replace('-','_') in str(file)][0]\n",
    "IMPACTCompare = [file for file in IMPACT_mosaics if compareDate in str(file)][0]"
   ]
  },
  {
   "cell_type": "code",
   "execution_count": 53,
   "id": "e79bc656-0811-4e10-b518-dc39026deb66",
   "metadata": {
    "collapsed": true,
    "jupyter": {
     "outputs_hidden": true
    },
    "tags": []
   },
   "outputs": [
    {
     "name": "stderr",
     "output_type": "stream",
     "text": [
      "C:\\Users\\alexsaunders\\AppData\\Local\\Temp\\ipykernel_11500\\408422246.py:5: FutureWarning: The frame.append method is deprecated and will be removed from pandas in a future version. Use pandas.concat instead.\n",
      "  confus_matrix_metrics = confus_matrix_metrics.append(pd.DataFrame(data=[['Devries',compareDate]+list(compare_map_wLabel(labelDateFile, DevriesCompare))],\n",
      "C:\\Users\\alexsaunders\\AppData\\Local\\Temp\\ipykernel_11500\\408422246.py:8: FutureWarning: The frame.append method is deprecated and will be removed from pandas in a future version. Use pandas.concat instead.\n",
      "  confus_matrix_metrics = confus_matrix_metrics.append(pd.DataFrame(data=[['GFM',compareDate]+list(compare_map_wLabel(labelDateFile, GFMCompare))],\n",
      "C:\\Users\\alexsaunders\\AppData\\Local\\Temp\\ipykernel_11500\\408422246.py:11: FutureWarning: The frame.append method is deprecated and will be removed from pandas in a future version. Use pandas.concat instead.\n",
      "  confus_matrix_metrics = confus_matrix_metrics.append(pd.DataFrame(data=[['NASAIMPACT',compareDate]+list(compare_map_wLabel(labelDateFile, IMPACTCompare))],\n",
      "C:\\Users\\alexsaunders\\AppData\\Local\\Temp\\ipykernel_11500\\408422246.py:5: FutureWarning: The frame.append method is deprecated and will be removed from pandas in a future version. Use pandas.concat instead.\n",
      "  confus_matrix_metrics = confus_matrix_metrics.append(pd.DataFrame(data=[['Devries',compareDate]+list(compare_map_wLabel(labelDateFile, DevriesCompare))],\n",
      "C:\\Users\\alexsaunders\\AppData\\Local\\Temp\\ipykernel_11500\\408422246.py:8: FutureWarning: The frame.append method is deprecated and will be removed from pandas in a future version. Use pandas.concat instead.\n",
      "  confus_matrix_metrics = confus_matrix_metrics.append(pd.DataFrame(data=[['GFM',compareDate]+list(compare_map_wLabel(labelDateFile, GFMCompare))],\n",
      "C:\\Users\\alexsaunders\\AppData\\Local\\Temp\\ipykernel_11500\\408422246.py:11: FutureWarning: The frame.append method is deprecated and will be removed from pandas in a future version. Use pandas.concat instead.\n",
      "  confus_matrix_metrics = confus_matrix_metrics.append(pd.DataFrame(data=[['NASAIMPACT',compareDate]+list(compare_map_wLabel(labelDateFile, IMPACTCompare))],\n",
      "C:\\Users\\alexsaunders\\AppData\\Local\\Temp\\ipykernel_11500\\408422246.py:5: FutureWarning: The frame.append method is deprecated and will be removed from pandas in a future version. Use pandas.concat instead.\n",
      "  confus_matrix_metrics = confus_matrix_metrics.append(pd.DataFrame(data=[['Devries',compareDate]+list(compare_map_wLabel(labelDateFile, DevriesCompare))],\n",
      "C:\\Users\\alexsaunders\\AppData\\Local\\Temp\\ipykernel_11500\\408422246.py:8: FutureWarning: The frame.append method is deprecated and will be removed from pandas in a future version. Use pandas.concat instead.\n",
      "  confus_matrix_metrics = confus_matrix_metrics.append(pd.DataFrame(data=[['GFM',compareDate]+list(compare_map_wLabel(labelDateFile, GFMCompare))],\n",
      "C:\\Users\\alexsaunders\\AppData\\Local\\Temp\\ipykernel_11500\\408422246.py:11: FutureWarning: The frame.append method is deprecated and will be removed from pandas in a future version. Use pandas.concat instead.\n",
      "  confus_matrix_metrics = confus_matrix_metrics.append(pd.DataFrame(data=[['NASAIMPACT',compareDate]+list(compare_map_wLabel(labelDateFile, IMPACTCompare))],\n",
      "C:\\Users\\alexsaunders\\AppData\\Local\\Temp\\ipykernel_11500\\408422246.py:5: FutureWarning: The frame.append method is deprecated and will be removed from pandas in a future version. Use pandas.concat instead.\n",
      "  confus_matrix_metrics = confus_matrix_metrics.append(pd.DataFrame(data=[['Devries',compareDate]+list(compare_map_wLabel(labelDateFile, DevriesCompare))],\n",
      "C:\\Users\\alexsaunders\\AppData\\Local\\Temp\\ipykernel_11500\\408422246.py:8: FutureWarning: The frame.append method is deprecated and will be removed from pandas in a future version. Use pandas.concat instead.\n",
      "  confus_matrix_metrics = confus_matrix_metrics.append(pd.DataFrame(data=[['GFM',compareDate]+list(compare_map_wLabel(labelDateFile, GFMCompare))],\n",
      "C:\\Users\\alexsaunders\\AppData\\Local\\Temp\\ipykernel_11500\\408422246.py:11: FutureWarning: The frame.append method is deprecated and will be removed from pandas in a future version. Use pandas.concat instead.\n",
      "  confus_matrix_metrics = confus_matrix_metrics.append(pd.DataFrame(data=[['NASAIMPACT',compareDate]+list(compare_map_wLabel(labelDateFile, IMPACTCompare))],\n",
      "C:\\Users\\alexsaunders\\AppData\\Local\\Temp\\ipykernel_11500\\408422246.py:5: FutureWarning: The frame.append method is deprecated and will be removed from pandas in a future version. Use pandas.concat instead.\n",
      "  confus_matrix_metrics = confus_matrix_metrics.append(pd.DataFrame(data=[['Devries',compareDate]+list(compare_map_wLabel(labelDateFile, DevriesCompare))],\n",
      "C:\\Users\\alexsaunders\\AppData\\Local\\Temp\\ipykernel_11500\\408422246.py:8: FutureWarning: The frame.append method is deprecated and will be removed from pandas in a future version. Use pandas.concat instead.\n",
      "  confus_matrix_metrics = confus_matrix_metrics.append(pd.DataFrame(data=[['GFM',compareDate]+list(compare_map_wLabel(labelDateFile, GFMCompare))],\n",
      "C:\\Users\\alexsaunders\\AppData\\Local\\Temp\\ipykernel_11500\\408422246.py:11: FutureWarning: The frame.append method is deprecated and will be removed from pandas in a future version. Use pandas.concat instead.\n",
      "  confus_matrix_metrics = confus_matrix_metrics.append(pd.DataFrame(data=[['NASAIMPACT',compareDate]+list(compare_map_wLabel(labelDateFile, IMPACTCompare))],\n",
      "C:\\Users\\alexsaunders\\AppData\\Local\\Temp\\ipykernel_11500\\408422246.py:5: FutureWarning: The frame.append method is deprecated and will be removed from pandas in a future version. Use pandas.concat instead.\n",
      "  confus_matrix_metrics = confus_matrix_metrics.append(pd.DataFrame(data=[['Devries',compareDate]+list(compare_map_wLabel(labelDateFile, DevriesCompare))],\n",
      "C:\\Users\\alexsaunders\\AppData\\Local\\Temp\\ipykernel_11500\\408422246.py:8: FutureWarning: The frame.append method is deprecated and will be removed from pandas in a future version. Use pandas.concat instead.\n",
      "  confus_matrix_metrics = confus_matrix_metrics.append(pd.DataFrame(data=[['GFM',compareDate]+list(compare_map_wLabel(labelDateFile, GFMCompare))],\n",
      "C:\\Users\\alexsaunders\\AppData\\Local\\Temp\\ipykernel_11500\\408422246.py:11: FutureWarning: The frame.append method is deprecated and will be removed from pandas in a future version. Use pandas.concat instead.\n",
      "  confus_matrix_metrics = confus_matrix_metrics.append(pd.DataFrame(data=[['NASAIMPACT',compareDate]+list(compare_map_wLabel(labelDateFile, IMPACTCompare))],\n",
      "C:\\Users\\alexsaunders\\AppData\\Local\\Temp\\ipykernel_11500\\408422246.py:5: FutureWarning: The frame.append method is deprecated and will be removed from pandas in a future version. Use pandas.concat instead.\n",
      "  confus_matrix_metrics = confus_matrix_metrics.append(pd.DataFrame(data=[['Devries',compareDate]+list(compare_map_wLabel(labelDateFile, DevriesCompare))],\n",
      "C:\\Users\\alexsaunders\\AppData\\Local\\Temp\\ipykernel_11500\\408422246.py:8: FutureWarning: The frame.append method is deprecated and will be removed from pandas in a future version. Use pandas.concat instead.\n",
      "  confus_matrix_metrics = confus_matrix_metrics.append(pd.DataFrame(data=[['GFM',compareDate]+list(compare_map_wLabel(labelDateFile, GFMCompare))],\n",
      "C:\\Users\\alexsaunders\\AppData\\Local\\Temp\\ipykernel_11500\\408422246.py:11: FutureWarning: The frame.append method is deprecated and will be removed from pandas in a future version. Use pandas.concat instead.\n",
      "  confus_matrix_metrics = confus_matrix_metrics.append(pd.DataFrame(data=[['NASAIMPACT',compareDate]+list(compare_map_wLabel(labelDateFile, IMPACTCompare))],\n",
      "C:\\Users\\alexsaunders\\AppData\\Local\\Temp\\ipykernel_11500\\408422246.py:5: FutureWarning: The frame.append method is deprecated and will be removed from pandas in a future version. Use pandas.concat instead.\n",
      "  confus_matrix_metrics = confus_matrix_metrics.append(pd.DataFrame(data=[['Devries',compareDate]+list(compare_map_wLabel(labelDateFile, DevriesCompare))],\n",
      "C:\\Users\\alexsaunders\\AppData\\Local\\Temp\\ipykernel_11500\\408422246.py:8: FutureWarning: The frame.append method is deprecated and will be removed from pandas in a future version. Use pandas.concat instead.\n",
      "  confus_matrix_metrics = confus_matrix_metrics.append(pd.DataFrame(data=[['GFM',compareDate]+list(compare_map_wLabel(labelDateFile, GFMCompare))],\n",
      "C:\\Users\\alexsaunders\\AppData\\Local\\Temp\\ipykernel_11500\\408422246.py:11: FutureWarning: The frame.append method is deprecated and will be removed from pandas in a future version. Use pandas.concat instead.\n",
      "  confus_matrix_metrics = confus_matrix_metrics.append(pd.DataFrame(data=[['NASAIMPACT',compareDate]+list(compare_map_wLabel(labelDateFile, IMPACTCompare))],\n",
      "C:\\Users\\alexsaunders\\AppData\\Local\\Temp\\ipykernel_11500\\408422246.py:5: FutureWarning: The frame.append method is deprecated and will be removed from pandas in a future version. Use pandas.concat instead.\n",
      "  confus_matrix_metrics = confus_matrix_metrics.append(pd.DataFrame(data=[['Devries',compareDate]+list(compare_map_wLabel(labelDateFile, DevriesCompare))],\n",
      "C:\\Users\\alexsaunders\\AppData\\Local\\Temp\\ipykernel_11500\\408422246.py:8: FutureWarning: The frame.append method is deprecated and will be removed from pandas in a future version. Use pandas.concat instead.\n",
      "  confus_matrix_metrics = confus_matrix_metrics.append(pd.DataFrame(data=[['GFM',compareDate]+list(compare_map_wLabel(labelDateFile, GFMCompare))],\n",
      "C:\\Users\\alexsaunders\\AppData\\Local\\Temp\\ipykernel_11500\\408422246.py:11: FutureWarning: The frame.append method is deprecated and will be removed from pandas in a future version. Use pandas.concat instead.\n",
      "  confus_matrix_metrics = confus_matrix_metrics.append(pd.DataFrame(data=[['NASAIMPACT',compareDate]+list(compare_map_wLabel(labelDateFile, IMPACTCompare))],\n",
      "C:\\Users\\alexsaunders\\AppData\\Local\\Temp\\ipykernel_11500\\408422246.py:5: FutureWarning: The frame.append method is deprecated and will be removed from pandas in a future version. Use pandas.concat instead.\n",
      "  confus_matrix_metrics = confus_matrix_metrics.append(pd.DataFrame(data=[['Devries',compareDate]+list(compare_map_wLabel(labelDateFile, DevriesCompare))],\n",
      "C:\\Users\\alexsaunders\\AppData\\Local\\Temp\\ipykernel_11500\\408422246.py:8: FutureWarning: The frame.append method is deprecated and will be removed from pandas in a future version. Use pandas.concat instead.\n",
      "  confus_matrix_metrics = confus_matrix_metrics.append(pd.DataFrame(data=[['GFM',compareDate]+list(compare_map_wLabel(labelDateFile, GFMCompare))],\n",
      "C:\\Users\\alexsaunders\\AppData\\Local\\Temp\\ipykernel_11500\\408422246.py:11: FutureWarning: The frame.append method is deprecated and will be removed from pandas in a future version. Use pandas.concat instead.\n",
      "  confus_matrix_metrics = confus_matrix_metrics.append(pd.DataFrame(data=[['NASAIMPACT',compareDate]+list(compare_map_wLabel(labelDateFile, IMPACTCompare))],\n",
      "C:\\Users\\alexsaunders\\AppData\\Local\\Temp\\ipykernel_11500\\408422246.py:5: FutureWarning: The frame.append method is deprecated and will be removed from pandas in a future version. Use pandas.concat instead.\n",
      "  confus_matrix_metrics = confus_matrix_metrics.append(pd.DataFrame(data=[['Devries',compareDate]+list(compare_map_wLabel(labelDateFile, DevriesCompare))],\n",
      "C:\\Users\\alexsaunders\\AppData\\Local\\Temp\\ipykernel_11500\\408422246.py:8: FutureWarning: The frame.append method is deprecated and will be removed from pandas in a future version. Use pandas.concat instead.\n",
      "  confus_matrix_metrics = confus_matrix_metrics.append(pd.DataFrame(data=[['GFM',compareDate]+list(compare_map_wLabel(labelDateFile, GFMCompare))],\n",
      "C:\\Users\\alexsaunders\\AppData\\Local\\Temp\\ipykernel_11500\\408422246.py:11: FutureWarning: The frame.append method is deprecated and will be removed from pandas in a future version. Use pandas.concat instead.\n",
      "  confus_matrix_metrics = confus_matrix_metrics.append(pd.DataFrame(data=[['NASAIMPACT',compareDate]+list(compare_map_wLabel(labelDateFile, IMPACTCompare))],\n"
     ]
    }
   ],
   "source": [
    "# Loop through the labels, get the metrics and append to the dataframe\n",
    "for i, labelDateFile in enumerate(labelDateFiles):\n",
    "    \n",
    "    # Get metrics for Devries\n",
    "    confus_matrix_metrics = confus_matrix_metrics.append(pd.DataFrame(data=[['Devries',compareDate]+list(compare_map_wLabel(labelDateFile, DevriesCompare))], \n",
    "                                                                      columns=confus_matrix_metrics.columns), ignore_index=True)\n",
    "    # Get metrics for GFM\n",
    "    confus_matrix_metrics = confus_matrix_metrics.append(pd.DataFrame(data=[['GFM',compareDate]+list(compare_map_wLabel(labelDateFile, GFMCompare))], \n",
    "                                                                      columns=confus_matrix_metrics.columns), ignore_index=True)\n",
    "    # Get metrics for NASA IMPACT\n",
    "    confus_matrix_metrics = confus_matrix_metrics.append(pd.DataFrame(data=[['NASAIMPACT',compareDate]+list(compare_map_wLabel(labelDateFile, IMPACTCompare))], \n",
    "                                                                      columns=confus_matrix_metrics.columns), ignore_index=True)"
   ]
  },
  {
   "cell_type": "markdown",
   "id": "96abf9ee-7a57-4f0f-a1ef-690a42ac8464",
   "metadata": {
    "tags": []
   },
   "source": [
    "#### Perform on second set of labels from 20220530"
   ]
  },
  {
   "cell_type": "code",
   "execution_count": 26,
   "id": "c3cebaa0-9cf7-44fa-a8b9-2e19ba61aa44",
   "metadata": {},
   "outputs": [
    {
     "data": {
      "text/plain": [
       "'20220530'"
      ]
     },
     "execution_count": 26,
     "metadata": {},
     "output_type": "execute_result"
    }
   ],
   "source": [
    "labelDates[1]"
   ]
  },
  {
   "cell_type": "code",
   "execution_count": 27,
   "id": "2f52bddf-4313-4999-8e49-8cc8ef80d01d",
   "metadata": {},
   "outputs": [],
   "source": [
    "# Define the date for the label and date for the nearest S1 images\n",
    "labelDate = labelDates[1]\n",
    "compareDate = '20220604'"
   ]
  },
  {
   "cell_type": "code",
   "execution_count": 28,
   "id": "63622617-bcf4-436a-8dd3-a6b455aeebb6",
   "metadata": {},
   "outputs": [],
   "source": [
    "# Get the labels on the given date\n",
    "labelDateFiles = [file for file in labelFiles if labelDate in str(file)]"
   ]
  },
  {
   "cell_type": "code",
   "execution_count": 29,
   "id": "3aef0b3a-b751-404c-b6ca-ccb781795552",
   "metadata": {},
   "outputs": [],
   "source": [
    "# Get the Devries, GFM and NASAIMPACT rasters to comapre, from the closest date\n",
    "DevriesCompare = [file for file in Devries_mosaics if compareDate in str(file)][0]\n",
    "GFMCompare = [file for file in GFM_mosaics if str(datetime.strptime(compareDate, '%Y%m%d').date()).replace('-','_') in str(file)][0]\n",
    "IMPACTCompare = [file for file in IMPACT_mosaics if compareDate in str(file)][0]"
   ]
  },
  {
   "cell_type": "code",
   "execution_count": 30,
   "id": "aee0a0bb-7d7f-4d82-ab3a-ce962f542620",
   "metadata": {
    "collapsed": true,
    "jupyter": {
     "outputs_hidden": true
    },
    "tags": []
   },
   "outputs": [
    {
     "name": "stderr",
     "output_type": "stream",
     "text": [
      "C:\\Users\\alexsaunders\\AppData\\Local\\Temp\\ipykernel_13684\\408422246.py:5: FutureWarning: The frame.append method is deprecated and will be removed from pandas in a future version. Use pandas.concat instead.\n",
      "  confus_matrix_metrics = confus_matrix_metrics.append(pd.DataFrame(data=[['Devries',compareDate]+list(compare_map_wLabel(labelDateFile, DevriesCompare))],\n",
      "C:\\Users\\alexsaunders\\AppData\\Local\\Temp\\ipykernel_13684\\408422246.py:8: FutureWarning: The frame.append method is deprecated and will be removed from pandas in a future version. Use pandas.concat instead.\n",
      "  confus_matrix_metrics = confus_matrix_metrics.append(pd.DataFrame(data=[['GFM',compareDate]+list(compare_map_wLabel(labelDateFile, GFMCompare))],\n",
      "C:\\Users\\alexsaunders\\AppData\\Local\\Temp\\ipykernel_13684\\408422246.py:11: FutureWarning: The frame.append method is deprecated and will be removed from pandas in a future version. Use pandas.concat instead.\n",
      "  confus_matrix_metrics = confus_matrix_metrics.append(pd.DataFrame(data=[['NASAIMPACT',compareDate]+list(compare_map_wLabel(labelDateFile, IMPACTCompare))],\n",
      "C:\\Users\\alexsaunders\\AppData\\Local\\Temp\\ipykernel_13684\\408422246.py:5: FutureWarning: The frame.append method is deprecated and will be removed from pandas in a future version. Use pandas.concat instead.\n",
      "  confus_matrix_metrics = confus_matrix_metrics.append(pd.DataFrame(data=[['Devries',compareDate]+list(compare_map_wLabel(labelDateFile, DevriesCompare))],\n",
      "C:\\Users\\alexsaunders\\AppData\\Local\\Temp\\ipykernel_13684\\408422246.py:8: FutureWarning: The frame.append method is deprecated and will be removed from pandas in a future version. Use pandas.concat instead.\n",
      "  confus_matrix_metrics = confus_matrix_metrics.append(pd.DataFrame(data=[['GFM',compareDate]+list(compare_map_wLabel(labelDateFile, GFMCompare))],\n",
      "C:\\Users\\alexsaunders\\AppData\\Local\\Temp\\ipykernel_13684\\408422246.py:11: FutureWarning: The frame.append method is deprecated and will be removed from pandas in a future version. Use pandas.concat instead.\n",
      "  confus_matrix_metrics = confus_matrix_metrics.append(pd.DataFrame(data=[['NASAIMPACT',compareDate]+list(compare_map_wLabel(labelDateFile, IMPACTCompare))],\n",
      "C:\\Users\\alexsaunders\\AppData\\Local\\Temp\\ipykernel_13684\\408422246.py:5: FutureWarning: The frame.append method is deprecated and will be removed from pandas in a future version. Use pandas.concat instead.\n",
      "  confus_matrix_metrics = confus_matrix_metrics.append(pd.DataFrame(data=[['Devries',compareDate]+list(compare_map_wLabel(labelDateFile, DevriesCompare))],\n",
      "C:\\Users\\alexsaunders\\AppData\\Local\\Temp\\ipykernel_13684\\408422246.py:8: FutureWarning: The frame.append method is deprecated and will be removed from pandas in a future version. Use pandas.concat instead.\n",
      "  confus_matrix_metrics = confus_matrix_metrics.append(pd.DataFrame(data=[['GFM',compareDate]+list(compare_map_wLabel(labelDateFile, GFMCompare))],\n",
      "C:\\Users\\alexsaunders\\AppData\\Local\\Temp\\ipykernel_13684\\408422246.py:11: FutureWarning: The frame.append method is deprecated and will be removed from pandas in a future version. Use pandas.concat instead.\n",
      "  confus_matrix_metrics = confus_matrix_metrics.append(pd.DataFrame(data=[['NASAIMPACT',compareDate]+list(compare_map_wLabel(labelDateFile, IMPACTCompare))],\n",
      "C:\\Users\\alexsaunders\\AppData\\Local\\Temp\\ipykernel_13684\\408422246.py:5: FutureWarning: The frame.append method is deprecated and will be removed from pandas in a future version. Use pandas.concat instead.\n",
      "  confus_matrix_metrics = confus_matrix_metrics.append(pd.DataFrame(data=[['Devries',compareDate]+list(compare_map_wLabel(labelDateFile, DevriesCompare))],\n",
      "C:\\Users\\alexsaunders\\AppData\\Local\\Temp\\ipykernel_13684\\408422246.py:8: FutureWarning: The frame.append method is deprecated and will be removed from pandas in a future version. Use pandas.concat instead.\n",
      "  confus_matrix_metrics = confus_matrix_metrics.append(pd.DataFrame(data=[['GFM',compareDate]+list(compare_map_wLabel(labelDateFile, GFMCompare))],\n",
      "C:\\Users\\alexsaunders\\AppData\\Local\\Temp\\ipykernel_13684\\408422246.py:11: FutureWarning: The frame.append method is deprecated and will be removed from pandas in a future version. Use pandas.concat instead.\n",
      "  confus_matrix_metrics = confus_matrix_metrics.append(pd.DataFrame(data=[['NASAIMPACT',compareDate]+list(compare_map_wLabel(labelDateFile, IMPACTCompare))],\n",
      "C:\\Users\\alexsaunders\\AppData\\Local\\Temp\\ipykernel_13684\\408422246.py:5: FutureWarning: The frame.append method is deprecated and will be removed from pandas in a future version. Use pandas.concat instead.\n",
      "  confus_matrix_metrics = confus_matrix_metrics.append(pd.DataFrame(data=[['Devries',compareDate]+list(compare_map_wLabel(labelDateFile, DevriesCompare))],\n",
      "C:\\Users\\alexsaunders\\AppData\\Local\\Temp\\ipykernel_13684\\408422246.py:8: FutureWarning: The frame.append method is deprecated and will be removed from pandas in a future version. Use pandas.concat instead.\n",
      "  confus_matrix_metrics = confus_matrix_metrics.append(pd.DataFrame(data=[['GFM',compareDate]+list(compare_map_wLabel(labelDateFile, GFMCompare))],\n",
      "C:\\Users\\alexsaunders\\AppData\\Local\\Temp\\ipykernel_13684\\408422246.py:11: FutureWarning: The frame.append method is deprecated and will be removed from pandas in a future version. Use pandas.concat instead.\n",
      "  confus_matrix_metrics = confus_matrix_metrics.append(pd.DataFrame(data=[['NASAIMPACT',compareDate]+list(compare_map_wLabel(labelDateFile, IMPACTCompare))],\n",
      "C:\\Users\\alexsaunders\\AppData\\Local\\Temp\\ipykernel_13684\\408422246.py:5: FutureWarning: The frame.append method is deprecated and will be removed from pandas in a future version. Use pandas.concat instead.\n",
      "  confus_matrix_metrics = confus_matrix_metrics.append(pd.DataFrame(data=[['Devries',compareDate]+list(compare_map_wLabel(labelDateFile, DevriesCompare))],\n",
      "C:\\Users\\alexsaunders\\AppData\\Local\\Temp\\ipykernel_13684\\408422246.py:8: FutureWarning: The frame.append method is deprecated and will be removed from pandas in a future version. Use pandas.concat instead.\n",
      "  confus_matrix_metrics = confus_matrix_metrics.append(pd.DataFrame(data=[['GFM',compareDate]+list(compare_map_wLabel(labelDateFile, GFMCompare))],\n",
      "C:\\Users\\alexsaunders\\AppData\\Local\\Temp\\ipykernel_13684\\408422246.py:11: FutureWarning: The frame.append method is deprecated and will be removed from pandas in a future version. Use pandas.concat instead.\n",
      "  confus_matrix_metrics = confus_matrix_metrics.append(pd.DataFrame(data=[['NASAIMPACT',compareDate]+list(compare_map_wLabel(labelDateFile, IMPACTCompare))],\n",
      "C:\\Users\\alexsaunders\\AppData\\Local\\Temp\\ipykernel_13684\\408422246.py:5: FutureWarning: The frame.append method is deprecated and will be removed from pandas in a future version. Use pandas.concat instead.\n",
      "  confus_matrix_metrics = confus_matrix_metrics.append(pd.DataFrame(data=[['Devries',compareDate]+list(compare_map_wLabel(labelDateFile, DevriesCompare))],\n",
      "C:\\Users\\alexsaunders\\AppData\\Local\\Temp\\ipykernel_13684\\408422246.py:8: FutureWarning: The frame.append method is deprecated and will be removed from pandas in a future version. Use pandas.concat instead.\n",
      "  confus_matrix_metrics = confus_matrix_metrics.append(pd.DataFrame(data=[['GFM',compareDate]+list(compare_map_wLabel(labelDateFile, GFMCompare))],\n",
      "C:\\Users\\alexsaunders\\AppData\\Local\\Temp\\ipykernel_13684\\408422246.py:11: FutureWarning: The frame.append method is deprecated and will be removed from pandas in a future version. Use pandas.concat instead.\n",
      "  confus_matrix_metrics = confus_matrix_metrics.append(pd.DataFrame(data=[['NASAIMPACT',compareDate]+list(compare_map_wLabel(labelDateFile, IMPACTCompare))],\n",
      "C:\\Users\\alexsaunders\\AppData\\Local\\Temp\\ipykernel_13684\\408422246.py:5: FutureWarning: The frame.append method is deprecated and will be removed from pandas in a future version. Use pandas.concat instead.\n",
      "  confus_matrix_metrics = confus_matrix_metrics.append(pd.DataFrame(data=[['Devries',compareDate]+list(compare_map_wLabel(labelDateFile, DevriesCompare))],\n",
      "C:\\Users\\alexsaunders\\AppData\\Local\\Temp\\ipykernel_13684\\408422246.py:8: FutureWarning: The frame.append method is deprecated and will be removed from pandas in a future version. Use pandas.concat instead.\n",
      "  confus_matrix_metrics = confus_matrix_metrics.append(pd.DataFrame(data=[['GFM',compareDate]+list(compare_map_wLabel(labelDateFile, GFMCompare))],\n",
      "C:\\Users\\alexsaunders\\AppData\\Local\\Temp\\ipykernel_13684\\408422246.py:11: FutureWarning: The frame.append method is deprecated and will be removed from pandas in a future version. Use pandas.concat instead.\n",
      "  confus_matrix_metrics = confus_matrix_metrics.append(pd.DataFrame(data=[['NASAIMPACT',compareDate]+list(compare_map_wLabel(labelDateFile, IMPACTCompare))],\n",
      "C:\\Users\\alexsaunders\\AppData\\Local\\Temp\\ipykernel_13684\\408422246.py:5: FutureWarning: The frame.append method is deprecated and will be removed from pandas in a future version. Use pandas.concat instead.\n",
      "  confus_matrix_metrics = confus_matrix_metrics.append(pd.DataFrame(data=[['Devries',compareDate]+list(compare_map_wLabel(labelDateFile, DevriesCompare))],\n",
      "C:\\Users\\alexsaunders\\AppData\\Local\\Temp\\ipykernel_13684\\408422246.py:8: FutureWarning: The frame.append method is deprecated and will be removed from pandas in a future version. Use pandas.concat instead.\n",
      "  confus_matrix_metrics = confus_matrix_metrics.append(pd.DataFrame(data=[['GFM',compareDate]+list(compare_map_wLabel(labelDateFile, GFMCompare))],\n",
      "C:\\Users\\alexsaunders\\AppData\\Local\\Temp\\ipykernel_13684\\408422246.py:11: FutureWarning: The frame.append method is deprecated and will be removed from pandas in a future version. Use pandas.concat instead.\n",
      "  confus_matrix_metrics = confus_matrix_metrics.append(pd.DataFrame(data=[['NASAIMPACT',compareDate]+list(compare_map_wLabel(labelDateFile, IMPACTCompare))],\n",
      "C:\\Users\\alexsaunders\\AppData\\Local\\Temp\\ipykernel_13684\\408422246.py:5: FutureWarning: The frame.append method is deprecated and will be removed from pandas in a future version. Use pandas.concat instead.\n",
      "  confus_matrix_metrics = confus_matrix_metrics.append(pd.DataFrame(data=[['Devries',compareDate]+list(compare_map_wLabel(labelDateFile, DevriesCompare))],\n",
      "C:\\Users\\alexsaunders\\AppData\\Local\\Temp\\ipykernel_13684\\408422246.py:8: FutureWarning: The frame.append method is deprecated and will be removed from pandas in a future version. Use pandas.concat instead.\n",
      "  confus_matrix_metrics = confus_matrix_metrics.append(pd.DataFrame(data=[['GFM',compareDate]+list(compare_map_wLabel(labelDateFile, GFMCompare))],\n",
      "C:\\Users\\alexsaunders\\AppData\\Local\\Temp\\ipykernel_13684\\408422246.py:11: FutureWarning: The frame.append method is deprecated and will be removed from pandas in a future version. Use pandas.concat instead.\n",
      "  confus_matrix_metrics = confus_matrix_metrics.append(pd.DataFrame(data=[['NASAIMPACT',compareDate]+list(compare_map_wLabel(labelDateFile, IMPACTCompare))],\n"
     ]
    }
   ],
   "source": [
    "# Loop through the labels, get the metrics and append to the dataframe\n",
    "for i, labelDateFile in enumerate(labelDateFiles):\n",
    "    \n",
    "    # Get metrics for Devries\n",
    "    confus_matrix_metrics = confus_matrix_metrics.append(pd.DataFrame(data=[['Devries',compareDate]+list(compare_map_wLabel(labelDateFile, DevriesCompare))], \n",
    "                                                                      columns=confus_matrix_metrics.columns), ignore_index=True)\n",
    "    # Get metrics for GFM\n",
    "    confus_matrix_metrics = confus_matrix_metrics.append(pd.DataFrame(data=[['GFM',compareDate]+list(compare_map_wLabel(labelDateFile, GFMCompare))], \n",
    "                                                                      columns=confus_matrix_metrics.columns), ignore_index=True)\n",
    "    # Get metrics for NASA IMPACT\n",
    "    confus_matrix_metrics = confus_matrix_metrics.append(pd.DataFrame(data=[['NASAIMPACT',compareDate]+list(compare_map_wLabel(labelDateFile, IMPACTCompare))], \n",
    "                                                                      columns=confus_matrix_metrics.columns), ignore_index=True)"
   ]
  },
  {
   "cell_type": "markdown",
   "id": "2550dc99-9408-4e8e-aaf5-21272420ce4c",
   "metadata": {
    "tags": []
   },
   "source": [
    "#### Perform on third set of labels from 20220714"
   ]
  },
  {
   "cell_type": "code",
   "execution_count": 32,
   "id": "24dd5fe4-42b7-4c1a-b677-514660ec43f4",
   "metadata": {},
   "outputs": [
    {
     "data": {
      "text/plain": [
       "'20220714'"
      ]
     },
     "execution_count": 32,
     "metadata": {},
     "output_type": "execute_result"
    }
   ],
   "source": [
    "labelDates[2]"
   ]
  },
  {
   "cell_type": "code",
   "execution_count": 33,
   "id": "09ada8c5-cfbb-4bb7-9cf1-a54cb0ff8fdb",
   "metadata": {},
   "outputs": [],
   "source": [
    "# Define the date for the label and date for the nearest S1 images\n",
    "labelDate = labelDates[2]\n",
    "compareDate = '20220712'"
   ]
  },
  {
   "cell_type": "code",
   "execution_count": 34,
   "id": "d56dc580-37ed-45a2-a580-13caa495e536",
   "metadata": {},
   "outputs": [],
   "source": [
    "# Get the labels on the given date\n",
    "labelDateFiles = [file for file in labelFiles if labelDate in str(file)]"
   ]
  },
  {
   "cell_type": "code",
   "execution_count": 35,
   "id": "460c5d2f-d0ce-4a39-8345-8fdd5deb3d80",
   "metadata": {},
   "outputs": [],
   "source": [
    "# Get the Devries, GFM and NASAIMPACT rasters to comapre, from the closest date\n",
    "DevriesCompare = [file for file in Devries_mosaics if compareDate in str(file)][0]\n",
    "GFMCompare = [file for file in GFM_mosaics if str(datetime.strptime(compareDate, '%Y%m%d').date()).replace('-','_') in str(file)][0]\n",
    "IMPACTCompare = [file for file in IMPACT_mosaics if compareDate in str(file)][0]"
   ]
  },
  {
   "cell_type": "code",
   "execution_count": 36,
   "id": "51f4f9ef-a071-458f-8cad-4e2535ae9c1e",
   "metadata": {
    "collapsed": true,
    "jupyter": {
     "outputs_hidden": true
    },
    "tags": []
   },
   "outputs": [
    {
     "name": "stderr",
     "output_type": "stream",
     "text": [
      "C:\\Users\\alexsaunders\\AppData\\Local\\Temp\\ipykernel_13684\\408422246.py:5: FutureWarning: The frame.append method is deprecated and will be removed from pandas in a future version. Use pandas.concat instead.\n",
      "  confus_matrix_metrics = confus_matrix_metrics.append(pd.DataFrame(data=[['Devries',compareDate]+list(compare_map_wLabel(labelDateFile, DevriesCompare))],\n",
      "C:\\Users\\alexsaunders\\AppData\\Local\\Temp\\ipykernel_13684\\408422246.py:8: FutureWarning: The frame.append method is deprecated and will be removed from pandas in a future version. Use pandas.concat instead.\n",
      "  confus_matrix_metrics = confus_matrix_metrics.append(pd.DataFrame(data=[['GFM',compareDate]+list(compare_map_wLabel(labelDateFile, GFMCompare))],\n",
      "C:\\Users\\alexsaunders\\AppData\\Local\\Temp\\ipykernel_13684\\408422246.py:11: FutureWarning: The frame.append method is deprecated and will be removed from pandas in a future version. Use pandas.concat instead.\n",
      "  confus_matrix_metrics = confus_matrix_metrics.append(pd.DataFrame(data=[['NASAIMPACT',compareDate]+list(compare_map_wLabel(labelDateFile, IMPACTCompare))],\n",
      "C:\\Users\\alexsaunders\\AppData\\Local\\Temp\\ipykernel_13684\\408422246.py:5: FutureWarning: The frame.append method is deprecated and will be removed from pandas in a future version. Use pandas.concat instead.\n",
      "  confus_matrix_metrics = confus_matrix_metrics.append(pd.DataFrame(data=[['Devries',compareDate]+list(compare_map_wLabel(labelDateFile, DevriesCompare))],\n",
      "C:\\Users\\alexsaunders\\AppData\\Local\\Temp\\ipykernel_13684\\408422246.py:8: FutureWarning: The frame.append method is deprecated and will be removed from pandas in a future version. Use pandas.concat instead.\n",
      "  confus_matrix_metrics = confus_matrix_metrics.append(pd.DataFrame(data=[['GFM',compareDate]+list(compare_map_wLabel(labelDateFile, GFMCompare))],\n",
      "C:\\Users\\alexsaunders\\Documents\\01_uoa\\04_git\\NIP\\Sylhet\\Helpers\\analyse_modifiedDevries.py:206: RuntimeWarning: invalid value encountered in longlong_scalars\n",
      "  pre = tp / (tp+fp)\n",
      "C:\\Users\\alexsaunders\\AppData\\Local\\Temp\\ipykernel_13684\\408422246.py:11: FutureWarning: The frame.append method is deprecated and will be removed from pandas in a future version. Use pandas.concat instead.\n",
      "  confus_matrix_metrics = confus_matrix_metrics.append(pd.DataFrame(data=[['NASAIMPACT',compareDate]+list(compare_map_wLabel(labelDateFile, IMPACTCompare))],\n",
      "C:\\Users\\alexsaunders\\AppData\\Local\\Temp\\ipykernel_13684\\408422246.py:5: FutureWarning: The frame.append method is deprecated and will be removed from pandas in a future version. Use pandas.concat instead.\n",
      "  confus_matrix_metrics = confus_matrix_metrics.append(pd.DataFrame(data=[['Devries',compareDate]+list(compare_map_wLabel(labelDateFile, DevriesCompare))],\n",
      "C:\\Users\\alexsaunders\\AppData\\Local\\Temp\\ipykernel_13684\\408422246.py:8: FutureWarning: The frame.append method is deprecated and will be removed from pandas in a future version. Use pandas.concat instead.\n",
      "  confus_matrix_metrics = confus_matrix_metrics.append(pd.DataFrame(data=[['GFM',compareDate]+list(compare_map_wLabel(labelDateFile, GFMCompare))],\n",
      "C:\\Users\\alexsaunders\\AppData\\Local\\Temp\\ipykernel_13684\\408422246.py:11: FutureWarning: The frame.append method is deprecated and will be removed from pandas in a future version. Use pandas.concat instead.\n",
      "  confus_matrix_metrics = confus_matrix_metrics.append(pd.DataFrame(data=[['NASAIMPACT',compareDate]+list(compare_map_wLabel(labelDateFile, IMPACTCompare))],\n",
      "C:\\Users\\alexsaunders\\AppData\\Local\\Temp\\ipykernel_13684\\408422246.py:5: FutureWarning: The frame.append method is deprecated and will be removed from pandas in a future version. Use pandas.concat instead.\n",
      "  confus_matrix_metrics = confus_matrix_metrics.append(pd.DataFrame(data=[['Devries',compareDate]+list(compare_map_wLabel(labelDateFile, DevriesCompare))],\n",
      "C:\\Users\\alexsaunders\\AppData\\Local\\Temp\\ipykernel_13684\\408422246.py:8: FutureWarning: The frame.append method is deprecated and will be removed from pandas in a future version. Use pandas.concat instead.\n",
      "  confus_matrix_metrics = confus_matrix_metrics.append(pd.DataFrame(data=[['GFM',compareDate]+list(compare_map_wLabel(labelDateFile, GFMCompare))],\n",
      "C:\\Users\\alexsaunders\\AppData\\Local\\Temp\\ipykernel_13684\\408422246.py:11: FutureWarning: The frame.append method is deprecated and will be removed from pandas in a future version. Use pandas.concat instead.\n",
      "  confus_matrix_metrics = confus_matrix_metrics.append(pd.DataFrame(data=[['NASAIMPACT',compareDate]+list(compare_map_wLabel(labelDateFile, IMPACTCompare))],\n",
      "C:\\Users\\alexsaunders\\AppData\\Local\\Temp\\ipykernel_13684\\408422246.py:5: FutureWarning: The frame.append method is deprecated and will be removed from pandas in a future version. Use pandas.concat instead.\n",
      "  confus_matrix_metrics = confus_matrix_metrics.append(pd.DataFrame(data=[['Devries',compareDate]+list(compare_map_wLabel(labelDateFile, DevriesCompare))],\n",
      "C:\\Users\\alexsaunders\\AppData\\Local\\Temp\\ipykernel_13684\\408422246.py:8: FutureWarning: The frame.append method is deprecated and will be removed from pandas in a future version. Use pandas.concat instead.\n",
      "  confus_matrix_metrics = confus_matrix_metrics.append(pd.DataFrame(data=[['GFM',compareDate]+list(compare_map_wLabel(labelDateFile, GFMCompare))],\n",
      "C:\\Users\\alexsaunders\\AppData\\Local\\Temp\\ipykernel_13684\\408422246.py:11: FutureWarning: The frame.append method is deprecated and will be removed from pandas in a future version. Use pandas.concat instead.\n",
      "  confus_matrix_metrics = confus_matrix_metrics.append(pd.DataFrame(data=[['NASAIMPACT',compareDate]+list(compare_map_wLabel(labelDateFile, IMPACTCompare))],\n",
      "C:\\Users\\alexsaunders\\AppData\\Local\\Temp\\ipykernel_13684\\408422246.py:5: FutureWarning: The frame.append method is deprecated and will be removed from pandas in a future version. Use pandas.concat instead.\n",
      "  confus_matrix_metrics = confus_matrix_metrics.append(pd.DataFrame(data=[['Devries',compareDate]+list(compare_map_wLabel(labelDateFile, DevriesCompare))],\n",
      "C:\\Users\\alexsaunders\\AppData\\Local\\Temp\\ipykernel_13684\\408422246.py:8: FutureWarning: The frame.append method is deprecated and will be removed from pandas in a future version. Use pandas.concat instead.\n",
      "  confus_matrix_metrics = confus_matrix_metrics.append(pd.DataFrame(data=[['GFM',compareDate]+list(compare_map_wLabel(labelDateFile, GFMCompare))],\n",
      "C:\\Users\\alexsaunders\\AppData\\Local\\Temp\\ipykernel_13684\\408422246.py:11: FutureWarning: The frame.append method is deprecated and will be removed from pandas in a future version. Use pandas.concat instead.\n",
      "  confus_matrix_metrics = confus_matrix_metrics.append(pd.DataFrame(data=[['NASAIMPACT',compareDate]+list(compare_map_wLabel(labelDateFile, IMPACTCompare))],\n",
      "C:\\Users\\alexsaunders\\AppData\\Local\\Temp\\ipykernel_13684\\408422246.py:5: FutureWarning: The frame.append method is deprecated and will be removed from pandas in a future version. Use pandas.concat instead.\n",
      "  confus_matrix_metrics = confus_matrix_metrics.append(pd.DataFrame(data=[['Devries',compareDate]+list(compare_map_wLabel(labelDateFile, DevriesCompare))],\n",
      "C:\\Users\\alexsaunders\\AppData\\Local\\Temp\\ipykernel_13684\\408422246.py:8: FutureWarning: The frame.append method is deprecated and will be removed from pandas in a future version. Use pandas.concat instead.\n",
      "  confus_matrix_metrics = confus_matrix_metrics.append(pd.DataFrame(data=[['GFM',compareDate]+list(compare_map_wLabel(labelDateFile, GFMCompare))],\n",
      "C:\\Users\\alexsaunders\\AppData\\Local\\Temp\\ipykernel_13684\\408422246.py:11: FutureWarning: The frame.append method is deprecated and will be removed from pandas in a future version. Use pandas.concat instead.\n",
      "  confus_matrix_metrics = confus_matrix_metrics.append(pd.DataFrame(data=[['NASAIMPACT',compareDate]+list(compare_map_wLabel(labelDateFile, IMPACTCompare))],\n",
      "C:\\Users\\alexsaunders\\AppData\\Local\\Temp\\ipykernel_13684\\408422246.py:5: FutureWarning: The frame.append method is deprecated and will be removed from pandas in a future version. Use pandas.concat instead.\n",
      "  confus_matrix_metrics = confus_matrix_metrics.append(pd.DataFrame(data=[['Devries',compareDate]+list(compare_map_wLabel(labelDateFile, DevriesCompare))],\n",
      "C:\\Users\\alexsaunders\\AppData\\Local\\Temp\\ipykernel_13684\\408422246.py:8: FutureWarning: The frame.append method is deprecated and will be removed from pandas in a future version. Use pandas.concat instead.\n",
      "  confus_matrix_metrics = confus_matrix_metrics.append(pd.DataFrame(data=[['GFM',compareDate]+list(compare_map_wLabel(labelDateFile, GFMCompare))],\n",
      "C:\\Users\\alexsaunders\\AppData\\Local\\Temp\\ipykernel_13684\\408422246.py:11: FutureWarning: The frame.append method is deprecated and will be removed from pandas in a future version. Use pandas.concat instead.\n",
      "  confus_matrix_metrics = confus_matrix_metrics.append(pd.DataFrame(data=[['NASAIMPACT',compareDate]+list(compare_map_wLabel(labelDateFile, IMPACTCompare))],\n",
      "C:\\Users\\alexsaunders\\AppData\\Local\\Temp\\ipykernel_13684\\408422246.py:5: FutureWarning: The frame.append method is deprecated and will be removed from pandas in a future version. Use pandas.concat instead.\n",
      "  confus_matrix_metrics = confus_matrix_metrics.append(pd.DataFrame(data=[['Devries',compareDate]+list(compare_map_wLabel(labelDateFile, DevriesCompare))],\n",
      "C:\\Users\\alexsaunders\\AppData\\Local\\Temp\\ipykernel_13684\\408422246.py:8: FutureWarning: The frame.append method is deprecated and will be removed from pandas in a future version. Use pandas.concat instead.\n",
      "  confus_matrix_metrics = confus_matrix_metrics.append(pd.DataFrame(data=[['GFM',compareDate]+list(compare_map_wLabel(labelDateFile, GFMCompare))],\n",
      "C:\\Users\\alexsaunders\\AppData\\Local\\Temp\\ipykernel_13684\\408422246.py:11: FutureWarning: The frame.append method is deprecated and will be removed from pandas in a future version. Use pandas.concat instead.\n",
      "  confus_matrix_metrics = confus_matrix_metrics.append(pd.DataFrame(data=[['NASAIMPACT',compareDate]+list(compare_map_wLabel(labelDateFile, IMPACTCompare))],\n",
      "C:\\Users\\alexsaunders\\AppData\\Local\\Temp\\ipykernel_13684\\408422246.py:5: FutureWarning: The frame.append method is deprecated and will be removed from pandas in a future version. Use pandas.concat instead.\n",
      "  confus_matrix_metrics = confus_matrix_metrics.append(pd.DataFrame(data=[['Devries',compareDate]+list(compare_map_wLabel(labelDateFile, DevriesCompare))],\n",
      "C:\\Users\\alexsaunders\\AppData\\Local\\Temp\\ipykernel_13684\\408422246.py:8: FutureWarning: The frame.append method is deprecated and will be removed from pandas in a future version. Use pandas.concat instead.\n",
      "  confus_matrix_metrics = confus_matrix_metrics.append(pd.DataFrame(data=[['GFM',compareDate]+list(compare_map_wLabel(labelDateFile, GFMCompare))],\n",
      "C:\\Users\\alexsaunders\\AppData\\Local\\Temp\\ipykernel_13684\\408422246.py:11: FutureWarning: The frame.append method is deprecated and will be removed from pandas in a future version. Use pandas.concat instead.\n",
      "  confus_matrix_metrics = confus_matrix_metrics.append(pd.DataFrame(data=[['NASAIMPACT',compareDate]+list(compare_map_wLabel(labelDateFile, IMPACTCompare))],\n",
      "C:\\Users\\alexsaunders\\AppData\\Local\\Temp\\ipykernel_13684\\408422246.py:5: FutureWarning: The frame.append method is deprecated and will be removed from pandas in a future version. Use pandas.concat instead.\n",
      "  confus_matrix_metrics = confus_matrix_metrics.append(pd.DataFrame(data=[['Devries',compareDate]+list(compare_map_wLabel(labelDateFile, DevriesCompare))],\n",
      "C:\\Users\\alexsaunders\\AppData\\Local\\Temp\\ipykernel_13684\\408422246.py:8: FutureWarning: The frame.append method is deprecated and will be removed from pandas in a future version. Use pandas.concat instead.\n",
      "  confus_matrix_metrics = confus_matrix_metrics.append(pd.DataFrame(data=[['GFM',compareDate]+list(compare_map_wLabel(labelDateFile, GFMCompare))],\n",
      "C:\\Users\\alexsaunders\\AppData\\Local\\Temp\\ipykernel_13684\\408422246.py:11: FutureWarning: The frame.append method is deprecated and will be removed from pandas in a future version. Use pandas.concat instead.\n",
      "  confus_matrix_metrics = confus_matrix_metrics.append(pd.DataFrame(data=[['NASAIMPACT',compareDate]+list(compare_map_wLabel(labelDateFile, IMPACTCompare))],\n",
      "C:\\Users\\alexsaunders\\AppData\\Local\\Temp\\ipykernel_13684\\408422246.py:5: FutureWarning: The frame.append method is deprecated and will be removed from pandas in a future version. Use pandas.concat instead.\n",
      "  confus_matrix_metrics = confus_matrix_metrics.append(pd.DataFrame(data=[['Devries',compareDate]+list(compare_map_wLabel(labelDateFile, DevriesCompare))],\n",
      "C:\\Users\\alexsaunders\\AppData\\Local\\Temp\\ipykernel_13684\\408422246.py:8: FutureWarning: The frame.append method is deprecated and will be removed from pandas in a future version. Use pandas.concat instead.\n",
      "  confus_matrix_metrics = confus_matrix_metrics.append(pd.DataFrame(data=[['GFM',compareDate]+list(compare_map_wLabel(labelDateFile, GFMCompare))],\n",
      "C:\\Users\\alexsaunders\\AppData\\Local\\Temp\\ipykernel_13684\\408422246.py:11: FutureWarning: The frame.append method is deprecated and will be removed from pandas in a future version. Use pandas.concat instead.\n",
      "  confus_matrix_metrics = confus_matrix_metrics.append(pd.DataFrame(data=[['NASAIMPACT',compareDate]+list(compare_map_wLabel(labelDateFile, IMPACTCompare))],\n"
     ]
    }
   ],
   "source": [
    "# Loop through the labels, get the metrics and append to the dataframe\n",
    "for i, labelDateFile in enumerate(labelDateFiles):\n",
    "    \n",
    "    # Get metrics for Devries\n",
    "    confus_matrix_metrics = confus_matrix_metrics.append(pd.DataFrame(data=[['Devries',compareDate]+list(compare_map_wLabel(labelDateFile, DevriesCompare))], \n",
    "                                                                      columns=confus_matrix_metrics.columns), ignore_index=True)\n",
    "    # Get metrics for GFM\n",
    "    confus_matrix_metrics = confus_matrix_metrics.append(pd.DataFrame(data=[['GFM',compareDate]+list(compare_map_wLabel(labelDateFile, GFMCompare))], \n",
    "                                                                      columns=confus_matrix_metrics.columns), ignore_index=True)\n",
    "    # Get metrics for NASA IMPACT\n",
    "    confus_matrix_metrics = confus_matrix_metrics.append(pd.DataFrame(data=[['NASAIMPACT',compareDate]+list(compare_map_wLabel(labelDateFile, IMPACTCompare))], \n",
    "                                                                      columns=confus_matrix_metrics.columns), ignore_index=True)"
   ]
  },
  {
   "cell_type": "code",
   "execution_count": 41,
   "id": "376cc346-a285-48ab-b8dd-f7634c8aec2b",
   "metadata": {},
   "outputs": [],
   "source": [
    "# Write out the confusion matrix metrics as csv\n",
    "confus_matrix_metrics.to_csv(rootPath/'Table/SylhetConfusionMatrix/confusMatrixVsLabels_20220524-20220715.csv',index=False)"
   ]
  }
 ],
 "metadata": {
  "kernelspec": {
   "display_name": "Python 3 (ipykernel)",
   "language": "python",
   "name": "python3"
  },
  "language_info": {
   "codemirror_mode": {
    "name": "ipython",
    "version": 3
   },
   "file_extension": ".py",
   "mimetype": "text/x-python",
   "name": "python",
   "nbconvert_exporter": "python",
   "pygments_lexer": "ipython3",
   "version": "3.8.16"
  }
 },
 "nbformat": 4,
 "nbformat_minor": 5
}
