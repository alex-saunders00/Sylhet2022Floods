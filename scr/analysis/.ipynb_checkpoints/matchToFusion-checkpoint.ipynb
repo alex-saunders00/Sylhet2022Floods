{
 "cells": [
  {
   "cell_type": "markdown",
   "id": "a8b3dd4f-6c86-456a-b7c2-a73985a91ec2",
   "metadata": {
    "tags": []
   },
   "source": [
    "# Sylhet Floods 2022\n",
    "## matchToFusion.ipynb\n",
    "This script creates copies of the various flood map outputs, resampled and matched to the same resolution and pixel alignment as the Fusion model outputs, which are at 500 m resolution.\n",
    "\n",
    "Fusion model outputs can be downloaded from Jonathan Giezendanner's GitHub: https://github.com/GieziJo/cvpr23-earthvision-CNN-LSTM-Inundation\n",
    "\n",
    "For input rasters from Sentinel-1 (10 m resolution), the output is the average value in the 500 m pixel, thus the resuting raster is of fractional inundated area per pixel, with values ranging between 0 and 1."
   ]
  },
  {
   "cell_type": "code",
   "execution_count": 1,
   "id": "89b5fc22-8f3a-4e36-99b0-8c2240b04ad5",
   "metadata": {},
   "outputs": [],
   "source": [
    "from pathlib import Path\n",
    "import os\n",
    "import sys\n",
    "import pandas as pd\n",
    "import numpy as np\n",
    "import rasterio as rio\n",
    "from rasterio.plot import show\n",
    "from rasterio.mask import mask\n",
    "from datetime import datetime, timezone\n",
    "import rioxarray as riox\n",
    "import xarray"
   ]
  },
  {
   "cell_type": "code",
   "execution_count": 2,
   "id": "e090b766-cc0a-4cdc-8361-29e63c1f419b",
   "metadata": {},
   "outputs": [],
   "source": [
    "# Set the root path\n",
    "rootPath = Path('Z:/media/mule/Projects/NASA/NIP/Data')"
   ]
  },
  {
   "cell_type": "code",
   "execution_count": 3,
   "id": "09d03fd0-febb-4440-9f3d-26aa6efaaa25",
   "metadata": {},
   "outputs": [],
   "source": [
    "# Set the module path for helpers scripts\n",
    "module_path = os.path.abspath(os.path.join('C:/Users/alexa/Documents/GitHub/Sylhet2022Floods/scr/'))\n",
    "if module_path not in sys.path:\n",
    "    sys.path.append(module_path)"
   ]
  },
  {
   "cell_type": "code",
   "execution_count": 4,
   "id": "a368b748-f66c-49fa-b591-8eecf9d90459",
   "metadata": {
    "collapsed": true,
    "jupyter": {
     "outputs_hidden": true
    },
    "tags": []
   },
   "outputs": [
    {
     "data": {
      "text/plain": [
       "<module 'Helpers.prepare_flood_raster' from 'C:\\\\Users\\\\alexsaunders\\\\Documents\\\\01_uoa\\\\04_git\\\\NIP\\\\Sylhet\\\\Helpers\\\\prepare_flood_raster.py'>"
      ]
     },
     "execution_count": 4,
     "metadata": {},
     "output_type": "execute_result"
    }
   ],
   "source": [
    "# Import module from analyse_modifiedDevries containing helpful functions to use\n",
    "import importlib\n",
    "import helpers.prepare_flood_raster as prep_raster\n",
    "importlib.reload(prep_raster)"
   ]
  },
  {
   "cell_type": "markdown",
   "id": "33e41834-44f1-4242-ab85-390dc2e42399",
   "metadata": {
    "tags": []
   },
   "source": [
    "## PART 1: Define the fusion outputs for matching the other rasters to"
   ]
  },
  {
   "cell_type": "code",
   "execution_count": 5,
   "id": "b8a1518a-7ca5-49ce-a263-ce108ff76019",
   "metadata": {
    "collapsed": true,
    "jupyter": {
     "outputs_hidden": true
    },
    "tags": []
   },
   "outputs": [
    {
     "data": {
      "text/plain": [
       "[WindowsPath('Z:/media/mule/Projects/NASA/NIP/Data/Models/DeepLearning/Inference/CrossValidation/Historical/Ensemble/1651708800000.tiff'),\n",
       " WindowsPath('Z:/media/mule/Projects/NASA/NIP/Data/Models/DeepLearning/Inference/CrossValidation/Historical/Ensemble/1652400000000.tiff'),\n",
       " WindowsPath('Z:/media/mule/Projects/NASA/NIP/Data/Models/DeepLearning/Inference/CrossValidation/Historical/Ensemble/1653091200000.tiff'),\n",
       " WindowsPath('Z:/media/mule/Projects/NASA/NIP/Data/Models/DeepLearning/Inference/CrossValidation/Historical/Ensemble/1653782400000.tiff'),\n",
       " WindowsPath('Z:/media/mule/Projects/NASA/NIP/Data/Models/DeepLearning/Inference/CrossValidation/Historical/Ensemble/1654473600000.tiff'),\n",
       " WindowsPath('Z:/media/mule/Projects/NASA/NIP/Data/Models/DeepLearning/Inference/CrossValidation/Historical/Ensemble/1655164800000.tiff'),\n",
       " WindowsPath('Z:/media/mule/Projects/NASA/NIP/Data/Models/DeepLearning/Inference/CrossValidation/Historical/Ensemble/1655856000000.tiff'),\n",
       " WindowsPath('Z:/media/mule/Projects/NASA/NIP/Data/Models/DeepLearning/Inference/CrossValidation/Historical/Ensemble/1656547200000.tiff'),\n",
       " WindowsPath('Z:/media/mule/Projects/NASA/NIP/Data/Models/DeepLearning/Inference/CrossValidation/Historical/Ensemble/1657238400000.tiff'),\n",
       " WindowsPath('Z:/media/mule/Projects/NASA/NIP/Data/Models/DeepLearning/Inference/CrossValidation/Historical/Ensemble/1657929600000.tiff'),\n",
       " WindowsPath('Z:/media/mule/Projects/NASA/NIP/Data/Models/DeepLearning/Inference/CrossValidation/Historical/Ensemble/1658620800000.tiff'),\n",
       " WindowsPath('Z:/media/mule/Projects/NASA/NIP/Data/Models/DeepLearning/Inference/CrossValidation/Historical/Ensemble/1659312000000.tiff'),\n",
       " WindowsPath('Z:/media/mule/Projects/NASA/NIP/Data/Models/DeepLearning/Inference/CrossValidation/Historical/Ensemble/1660003200000.tiff'),\n",
       " WindowsPath('Z:/media/mule/Projects/NASA/NIP/Data/Models/DeepLearning/Inference/CrossValidation/Historical/Ensemble/1660694400000.tiff'),\n",
       " WindowsPath('Z:/media/mule/Projects/NASA/NIP/Data/Models/DeepLearning/Inference/CrossValidation/Historical/Ensemble/1661385600000.tiff'),\n",
       " WindowsPath('Z:/media/mule/Projects/NASA/NIP/Data/Models/DeepLearning/Inference/CrossValidation/Historical/Ensemble/1662076800000.tiff')]"
      ]
     },
     "execution_count": 5,
     "metadata": {},
     "output_type": "execute_result"
    }
   ],
   "source": [
    "# Get fusion files - these can be downloaded from Jonathan Giezendanner's GitHub\n",
    "# https://github.com/GieziJo/cvpr23-earthvision-CNN-LSTM-Inundation\n",
    "fusionPath = rootPath/'Models/DeepLearning/Inference/CrossValidation/Historical/Ensemble'\n",
    "fusionFiles = [file for file in list(fusionPath.iterdir()) if file.suffix=='.tiff']\n",
    "\n",
    "# Define start and end of data we want for Sylhet\n",
    "targetStart='20220501'\n",
    "targetEnd='20220831'\n",
    "\n",
    "# Get names of GFD files during Sylhet event\n",
    "targetFusionFiles = [file for file in fusionFiles if datetime.fromtimestamp(int(file.stem[:-3])).strftime('%Y%m%d') >= targetStart\n",
    "                 and datetime.fromtimestamp(int(file.stem[:-3])).strftime('%Y%m%d') <= '20220901']\n",
    "targetFusionFiles"
   ]
  },
  {
   "cell_type": "code",
   "execution_count": 6,
   "id": "6dce6976-8134-4a26-9885-fa3be5585e53",
   "metadata": {},
   "outputs": [],
   "source": [
    "# get dates from the filenames\n",
    "fusionDates = [datetime.fromtimestamp(int(file.stem[:-3])).strftime('%Y%m%d') for file in targetFusionFiles]\n",
    "# fusionDates"
   ]
  },
  {
   "cell_type": "code",
   "execution_count": 7,
   "id": "69f4946a-c4a2-40f5-8816-1b780dc94f7d",
   "metadata": {},
   "outputs": [],
   "source": [
    "# Define the target raster from whcih to match other rasters extent etc to\n",
    "targetRaster = targetFusionFiles[0]"
   ]
  },
  {
   "cell_type": "code",
   "execution_count": 8,
   "id": "ec74fcb1-6cb8-43f3-8da1-be9b6bf5bfb8",
   "metadata": {},
   "outputs": [
    {
     "data": {
      "text/plain": [
       "WindowsPath('Z:/media/mule/Projects/NASA/NIP/Data/Models/DeepLearning/Inference/CrossValidation/Historical/Ensemble/1651708800000.tiff')"
      ]
     },
     "execution_count": 8,
     "metadata": {},
     "output_type": "execute_result"
    }
   ],
   "source": [
    "targetFusionFiles[0]"
   ]
  },
  {
   "cell_type": "markdown",
   "id": "72515cef-c309-4bab-9b45-1b6576be4aad",
   "metadata": {},
   "source": [
    "## PART 2: Match the GFD outputs\n",
    "Create new rasters at same resolution and pixel alignment as fusion model outputs"
   ]
  },
  {
   "cell_type": "code",
   "execution_count": 19,
   "id": "997af151-a3cb-445e-9da2-94b0a2f8b275",
   "metadata": {},
   "outputs": [],
   "source": [
    "# Crreate area for saving all \"matched\" rasters\n",
    "matchedPath = rootPath/'Raster/SylhetMatchedToFusion'\n",
    "matchedPath.mkdir(exist_ok=True)"
   ]
  },
  {
   "cell_type": "code",
   "execution_count": 17,
   "id": "7bb0e26d-9c23-46a1-b3eb-e722792b8e21",
   "metadata": {},
   "outputs": [],
   "source": [
    "outputPath=matchedPath/'GFD'\n",
    "outputPath.mkdir(exist_ok=True)"
   ]
  },
  {
   "cell_type": "code",
   "execution_count": 18,
   "id": "f660a478-02d2-4de7-846c-3961e9fcb59c",
   "metadata": {},
   "outputs": [],
   "source": [
    "# Get the files that need to be matched\n",
    "GFDPath = rootPath/'Raster/ModisHistoricalGFD/WeeklyBangladeshBB'\n",
    "GFDFiles = [file for file in list(GFDPath.iterdir()) if file.suffix=='.tif']\n",
    "\n",
    "# get dates from the filenames\n",
    "midDates = [datetime.fromtimestamp(int(file.stem.split('_')[0][:-3])).strftime('%Y%m%d') for file in GFDFiles]\n",
    "sttDates = [datetime.fromtimestamp(int(file.stem.split('_')[1][:-3])).strftime('%Y%m%d') for file in GFDFiles]\n",
    "endDates = [datetime.fromtimestamp(int(file.stem.split('_')[2][:-3])).strftime('%Y%m%d') for file in GFDFiles]\n",
    "\n",
    "# Get names of GFD files during Sylhet event\n",
    "targetGFDFiles = [file for file in GFDFiles if datetime.fromtimestamp(int(file.stem.split('_')[0][:-3])).strftime('%Y%m%d') >= targetStart\n",
    "                 and datetime.fromtimestamp(int(file.stem.split('_')[1][:-3])).strftime('%Y%m%d') <= targetEnd]"
   ]
  },
  {
   "cell_type": "code",
   "execution_count": 26,
   "id": "bb024adc-30eb-4a6d-ac35-d4cea44831c3",
   "metadata": {},
   "outputs": [
    {
     "name": "stdout",
     "output_type": "stream",
     "text": [
      "Creating: Z:\\media\\mule\\Projects\\NASA\\NIP\\Data\\Raster\\SylhetMatchedToFusion\\GFD\\20220430.tif\n",
      "Creating: Z:\\media\\mule\\Projects\\NASA\\NIP\\Data\\Raster\\SylhetMatchedToFusion\\GFD\\20220508.tif\n",
      "Creating: Z:\\media\\mule\\Projects\\NASA\\NIP\\Data\\Raster\\SylhetMatchedToFusion\\GFD\\20220516.tif\n",
      "Creating: Z:\\media\\mule\\Projects\\NASA\\NIP\\Data\\Raster\\SylhetMatchedToFusion\\GFD\\20220524.tif\n",
      "Creating: Z:\\media\\mule\\Projects\\NASA\\NIP\\Data\\Raster\\SylhetMatchedToFusion\\GFD\\20220601.tif\n",
      "Creating: Z:\\media\\mule\\Projects\\NASA\\NIP\\Data\\Raster\\SylhetMatchedToFusion\\GFD\\20220609.tif\n",
      "Creating: Z:\\media\\mule\\Projects\\NASA\\NIP\\Data\\Raster\\SylhetMatchedToFusion\\GFD\\20220617.tif\n",
      "Creating: Z:\\media\\mule\\Projects\\NASA\\NIP\\Data\\Raster\\SylhetMatchedToFusion\\GFD\\20220625.tif\n",
      "Creating: Z:\\media\\mule\\Projects\\NASA\\NIP\\Data\\Raster\\SylhetMatchedToFusion\\GFD\\20220703.tif\n",
      "Creating: Z:\\media\\mule\\Projects\\NASA\\NIP\\Data\\Raster\\SylhetMatchedToFusion\\GFD\\20220711.tif\n",
      "Creating: Z:\\media\\mule\\Projects\\NASA\\NIP\\Data\\Raster\\SylhetMatchedToFusion\\GFD\\20220719.tif\n",
      "Creating: Z:\\media\\mule\\Projects\\NASA\\NIP\\Data\\Raster\\SylhetMatchedToFusion\\GFD\\20220727.tif\n",
      "Creating: Z:\\media\\mule\\Projects\\NASA\\NIP\\Data\\Raster\\SylhetMatchedToFusion\\GFD\\20220804.tif\n",
      "Creating: Z:\\media\\mule\\Projects\\NASA\\NIP\\Data\\Raster\\SylhetMatchedToFusion\\GFD\\20220812.tif\n",
      "Creating: Z:\\media\\mule\\Projects\\NASA\\NIP\\Data\\Raster\\SylhetMatchedToFusion\\GFD\\20220820.tif\n",
      "Creating: Z:\\media\\mule\\Projects\\NASA\\NIP\\Data\\Raster\\SylhetMatchedToFusion\\GFD\\20220828.tif\n"
     ]
    }
   ],
   "source": [
    "# Loop through files and create new matched raster for each\n",
    "for file in targetGFDFiles:\n",
    "    date = datetime.fromtimestamp(int(file.stem.split('_')[1][:-3])).strftime('%Y%m%d') # mid date\n",
    "    outputFile = outputPath/(date+'.tif')\n",
    "    print('Creating:', outputFile)\n",
    "    if os.path.exists(outputFile):\n",
    "        continue\n",
    "    prep_raster.matchWriteRaster(file, targetRaster, outputFile)"
   ]
  },
  {
   "cell_type": "markdown",
   "id": "eb9c4c8c-9a95-4646-852b-4a8f486cff92",
   "metadata": {},
   "source": [
    "## PART 3: Match the Thomas et al. outputs\n",
    "Create new rasters at same resolution and pixel alignment as fusion model outputs"
   ]
  },
  {
   "cell_type": "code",
   "execution_count": 60,
   "id": "1743a0e0-5999-4d39-b379-2aa90fa37d9f",
   "metadata": {},
   "outputs": [],
   "source": [
    "outputPath=matchedPath/'Devries'\n",
    "outputPath.mkdir(exist_ok=True)"
   ]
  },
  {
   "cell_type": "code",
   "execution_count": 61,
   "id": "238fa0c9-af4f-4baa-a708-b807fc0b09e8",
   "metadata": {},
   "outputs": [],
   "source": [
    "# Open the modified Devries mosaiced raster files and get the image dates\n",
    "DevriesPath = rootPath/'Raster/Sylhet/Sen1MitchellSingleOrbit/Mosaic'\n",
    "DevriesFiles = [file for file in (DevriesPath).iterdir() if file.is_file() and '2022' in str(file) and file.suffix=='.tif']"
   ]
  },
  {
   "cell_type": "code",
   "execution_count": 63,
   "id": "14a502f7-c7a8-4ed3-bae5-a07e5fa6273f",
   "metadata": {},
   "outputs": [
    {
     "name": "stdout",
     "output_type": "stream",
     "text": [
      "Creating: Z:\\media\\mule\\Projects\\NASA\\NIP\\Data\\Raster\\SylhetMatchedToFusion\\Devries\\20220501_t.tif\n"
     ]
    }
   ],
   "source": [
    "# Loop through files and create new matched raster for each\n",
    "for file in DevriesFiles:\n",
    "    date = file.stem[-14:-6]\n",
    "    outputFile = outputPath/(date+'.tif')\n",
    "    print('Creating:', outputFile)\n",
    "    if os.path.exists(outputFile):\n",
    "        continue\n",
    "    prep_raster.matchWriteRaster(file, targetRaster, outputFile)"
   ]
  },
  {
   "cell_type": "markdown",
   "id": "2be38f3e-a99b-4343-bf74-bd0e385f3c61",
   "metadata": {},
   "source": [
    "## PART 4: Match the NASA IMPACT outputs\n",
    "Create new rasters at same resolution and pixel alignment as fusion model outputs"
   ]
  },
  {
   "cell_type": "code",
   "execution_count": 87,
   "id": "b1e63c70-f7da-45ec-975c-6a628d17da9b",
   "metadata": {},
   "outputs": [],
   "source": [
    "outputPath=matchedPath/'IMPACT'\n",
    "outputPath.mkdir(exist_ok=True)"
   ]
  },
  {
   "cell_type": "code",
   "execution_count": 88,
   "id": "9b145246-f74d-4480-985b-2c923f3088ab",
   "metadata": {},
   "outputs": [],
   "source": [
    "# Open the modified Devries mosaiced raster files and get the image dates\n",
    "IMPACTPath = rootPath/'Raster/SylhetNASAImpact/5_Preds/Mosaic/'\n",
    "IMPACTFiles = [file for file in (IMPACTPath).iterdir() if file.is_file() and '2022' in str(file) and file.suffix=='.tif']"
   ]
  },
  {
   "cell_type": "code",
   "execution_count": 89,
   "id": "a25e1079-99d9-4775-a784-2177f2029330",
   "metadata": {},
   "outputs": [
    {
     "name": "stdout",
     "output_type": "stream",
     "text": [
      "Creating: Z:\\media\\mule\\Projects\\NASA\\NIP\\Data\\Raster\\SylhetMatchedToFusion\\IMPACT\\20220501.tif\n",
      "Creating: Z:\\media\\mule\\Projects\\NASA\\NIP\\Data\\Raster\\SylhetMatchedToFusion\\IMPACT\\20220511.tif\n",
      "Creating: Z:\\media\\mule\\Projects\\NASA\\NIP\\Data\\Raster\\SylhetMatchedToFusion\\IMPACT\\20220513.tif\n",
      "Creating: Z:\\media\\mule\\Projects\\NASA\\NIP\\Data\\Raster\\SylhetMatchedToFusion\\IMPACT\\20220523.tif\n",
      "Creating: Z:\\media\\mule\\Projects\\NASA\\NIP\\Data\\Raster\\SylhetMatchedToFusion\\IMPACT\\20220525.tif\n",
      "Creating: Z:\\media\\mule\\Projects\\NASA\\NIP\\Data\\Raster\\SylhetMatchedToFusion\\IMPACT\\20220604.tif\n",
      "Creating: Z:\\media\\mule\\Projects\\NASA\\NIP\\Data\\Raster\\SylhetMatchedToFusion\\IMPACT\\20220606.tif\n",
      "Creating: Z:\\media\\mule\\Projects\\NASA\\NIP\\Data\\Raster\\SylhetMatchedToFusion\\IMPACT\\20220616.tif\n",
      "Creating: Z:\\media\\mule\\Projects\\NASA\\NIP\\Data\\Raster\\SylhetMatchedToFusion\\IMPACT\\20220618.tif\n",
      "Creating: Z:\\media\\mule\\Projects\\NASA\\NIP\\Data\\Raster\\SylhetMatchedToFusion\\IMPACT\\20220628.tif\n",
      "Creating: Z:\\media\\mule\\Projects\\NASA\\NIP\\Data\\Raster\\SylhetMatchedToFusion\\IMPACT\\20220630.tif\n",
      "Creating: Z:\\media\\mule\\Projects\\NASA\\NIP\\Data\\Raster\\SylhetMatchedToFusion\\IMPACT\\20220712.tif\n",
      "Creating: Z:\\media\\mule\\Projects\\NASA\\NIP\\Data\\Raster\\SylhetMatchedToFusion\\IMPACT\\20220722.tif\n",
      "Creating: Z:\\media\\mule\\Projects\\NASA\\NIP\\Data\\Raster\\SylhetMatchedToFusion\\IMPACT\\20220724.tif\n",
      "Creating: Z:\\media\\mule\\Projects\\NASA\\NIP\\Data\\Raster\\SylhetMatchedToFusion\\IMPACT\\20220803.tif\n",
      "Creating: Z:\\media\\mule\\Projects\\NASA\\NIP\\Data\\Raster\\SylhetMatchedToFusion\\IMPACT\\20220805.tif\n",
      "Creating: Z:\\media\\mule\\Projects\\NASA\\NIP\\Data\\Raster\\SylhetMatchedToFusion\\IMPACT\\20220815.tif\n",
      "Creating: Z:\\media\\mule\\Projects\\NASA\\NIP\\Data\\Raster\\SylhetMatchedToFusion\\IMPACT\\20220827.tif\n",
      "Creating: Z:\\media\\mule\\Projects\\NASA\\NIP\\Data\\Raster\\SylhetMatchedToFusion\\IMPACT\\20220829.tif\n"
     ]
    }
   ],
   "source": [
    "# Loop through files and create new matched raster for each\n",
    "for file in IMPACTFiles:\n",
    "    date = file.stem\n",
    "    outputFile = outputPath/(date+'.tif')\n",
    "    print('Creating:', outputFile)\n",
    "    if os.path.exists(outputFile):\n",
    "        continue\n",
    "    prep_raster.matchWriteRaster(file, targetRaster, outputFile)"
   ]
  },
  {
   "cell_type": "markdown",
   "id": "af19a5fb-3c8c-4f9d-8fa7-a04a64fcb62d",
   "metadata": {},
   "source": [
    "## PART 5: Match the GFM outputs\n",
    "Create new rasters at same resolution and pixel alignment as fusion model outputs"
   ]
  },
  {
   "cell_type": "code",
   "execution_count": 93,
   "id": "8fec5b34-077d-4094-b302-28035aa27ed3",
   "metadata": {},
   "outputs": [],
   "source": [
    "outputPath=matchedPath/'GFM'\n",
    "outputPath.mkdir(exist_ok=True)"
   ]
  },
  {
   "cell_type": "code",
   "execution_count": 94,
   "id": "0d81f69a-0a50-4a86-b35b-1d4c45881ae2",
   "metadata": {},
   "outputs": [],
   "source": [
    "# Open the mosaiced raster files and get the image dates\n",
    "GFMPath = rootPath/'Raster/SylhetCopernicusGFM/sylhet_district_2022-05-01-2022-08-31/Mosaic'\n",
    "GFMFiles = [file for file in (GFMPath).iterdir() if file.is_file() and '2022' in str(file) and file.suffix=='.tif']"
   ]
  },
  {
   "cell_type": "code",
   "execution_count": 95,
   "id": "9b5227b0-3edd-4b95-a265-621390e6baad",
   "metadata": {},
   "outputs": [
    {
     "name": "stdout",
     "output_type": "stream",
     "text": [
      "Creating: Z:\\media\\mule\\Projects\\NASA\\NIP\\Data\\Raster\\SylhetMatchedToFusion\\GFM\\20220501.tif\n",
      "Creating: Z:\\media\\mule\\Projects\\NASA\\NIP\\Data\\Raster\\SylhetMatchedToFusion\\GFM\\20220511.tif\n",
      "Creating: Z:\\media\\mule\\Projects\\NASA\\NIP\\Data\\Raster\\SylhetMatchedToFusion\\GFM\\20220513.tif\n",
      "Creating: Z:\\media\\mule\\Projects\\NASA\\NIP\\Data\\Raster\\SylhetMatchedToFusion\\GFM\\20220523.tif\n",
      "Creating: Z:\\media\\mule\\Projects\\NASA\\NIP\\Data\\Raster\\SylhetMatchedToFusion\\GFM\\20220525.tif\n",
      "Creating: Z:\\media\\mule\\Projects\\NASA\\NIP\\Data\\Raster\\SylhetMatchedToFusion\\GFM\\20220604.tif\n",
      "Creating: Z:\\media\\mule\\Projects\\NASA\\NIP\\Data\\Raster\\SylhetMatchedToFusion\\GFM\\20220606.tif\n",
      "Creating: Z:\\media\\mule\\Projects\\NASA\\NIP\\Data\\Raster\\SylhetMatchedToFusion\\GFM\\20220616.tif\n",
      "Creating: Z:\\media\\mule\\Projects\\NASA\\NIP\\Data\\Raster\\SylhetMatchedToFusion\\GFM\\20220618.tif\n",
      "Creating: Z:\\media\\mule\\Projects\\NASA\\NIP\\Data\\Raster\\SylhetMatchedToFusion\\GFM\\20220628.tif\n",
      "Creating: Z:\\media\\mule\\Projects\\NASA\\NIP\\Data\\Raster\\SylhetMatchedToFusion\\GFM\\20220630.tif\n",
      "Creating: Z:\\media\\mule\\Projects\\NASA\\NIP\\Data\\Raster\\SylhetMatchedToFusion\\GFM\\20220712.tif\n",
      "Creating: Z:\\media\\mule\\Projects\\NASA\\NIP\\Data\\Raster\\SylhetMatchedToFusion\\GFM\\20220722.tif\n",
      "Creating: Z:\\media\\mule\\Projects\\NASA\\NIP\\Data\\Raster\\SylhetMatchedToFusion\\GFM\\20220724.tif\n",
      "Creating: Z:\\media\\mule\\Projects\\NASA\\NIP\\Data\\Raster\\SylhetMatchedToFusion\\GFM\\20220805.tif\n",
      "Creating: Z:\\media\\mule\\Projects\\NASA\\NIP\\Data\\Raster\\SylhetMatchedToFusion\\GFM\\20220815.tif\n",
      "Creating: Z:\\media\\mule\\Projects\\NASA\\NIP\\Data\\Raster\\SylhetMatchedToFusion\\GFM\\20220827.tif\n",
      "Creating: Z:\\media\\mule\\Projects\\NASA\\NIP\\Data\\Raster\\SylhetMatchedToFusion\\GFM\\20220829.tif\n"
     ]
    }
   ],
   "source": [
    "# Loop through files and create new matched raster for each\n",
    "for file in GFMFiles:\n",
    "    date = file.stem[-10:].replace('_','')\n",
    "    outputFile = outputPath/(date+'.tif')\n",
    "    print('Creating:', outputFile)\n",
    "    if os.path.exists(outputFile):\n",
    "        continue\n",
    "    prep_raster.matchWriteRaster(file, targetRaster, outputFile)"
   ]
  },
  {
   "cell_type": "markdown",
   "id": "76bda9b8-f46f-4b94-9518-d08d408f9649",
   "metadata": {},
   "source": [
    "## PART 6: Match the UNOSAT outputs\n",
    "Create new rasters at same resolution and pixel alignment as fusion model outputs"
   ]
  },
  {
   "cell_type": "code",
   "execution_count": 100,
   "id": "7ca4b2d7-161a-426d-83f3-48a961bfef37",
   "metadata": {},
   "outputs": [],
   "source": [
    "outputPath=matchedPath/'UNOSAT'\n",
    "outputPath.mkdir(exist_ok=True)"
   ]
  },
  {
   "cell_type": "code",
   "execution_count": 101,
   "id": "5ea06879-981e-40ce-b126-0810d3f1e313",
   "metadata": {},
   "outputs": [],
   "source": [
    "# Open the mosaiced raster files and get the image dates\n",
    "UNOSATPath = rootPath/'Raster/SylhetUNOSAT'\n",
    "UNOSATFiles = [file for file in (UNOSATPath).iterdir() if file.is_file() and 'allTouchFalse' in str(file) and file.suffix=='.tif']\n",
    "UNOSATFiles.reverse()\n",
    "UNOSATDates = ['20220525','20220619']"
   ]
  },
  {
   "cell_type": "code",
   "execution_count": 102,
   "id": "9546638e-c421-4134-929f-adeb5808a2d1",
   "metadata": {},
   "outputs": [
    {
     "data": {
      "text/plain": [
       "[WindowsPath('Z:/media/mule/Projects/NASA/NIP/Data/Raster/SylhetUNOSAT/S1_20220525_WaterExtent_NE_allTouchFalse.tif'),\n",
       " WindowsPath('Z:/media/mule/Projects/NASA/NIP/Data/Raster/SylhetUNOSAT/RCM1_20220619_WaterExtent_NE_allTouchFalse.tif')]"
      ]
     },
     "execution_count": 102,
     "metadata": {},
     "output_type": "execute_result"
    }
   ],
   "source": [
    "UNOSATFiles"
   ]
  },
  {
   "cell_type": "code",
   "execution_count": 103,
   "id": "61b4bccf-1ede-4002-8966-f201324f2b21",
   "metadata": {},
   "outputs": [
    {
     "name": "stdout",
     "output_type": "stream",
     "text": [
      "Creating: Z:\\media\\mule\\Projects\\NASA\\NIP\\Data\\Raster\\SylhetMatchedToFusion\\UNOSAT\\20220525.tif\n",
      "Creating: Z:\\media\\mule\\Projects\\NASA\\NIP\\Data\\Raster\\SylhetMatchedToFusion\\UNOSAT\\20220619.tif\n"
     ]
    }
   ],
   "source": [
    "# Loop through files and create new matched raster for each\n",
    "for i, file in enumerate(UNOSATFiles):\n",
    "    date = UNOSATDates[i]\n",
    "    outputFile = outputPath/(date+'.tif')\n",
    "    print('Creating:', outputFile)\n",
    "    if os.path.exists(outputFile):\n",
    "        continue\n",
    "    prep_raster.matchWriteRaster(file, targetRaster, outputFile)"
   ]
  }
 ],
 "metadata": {
  "kernelspec": {
   "display_name": "Python 3 (ipykernel)",
   "language": "python",
   "name": "python3"
  },
  "language_info": {
   "codemirror_mode": {
    "name": "ipython",
    "version": 3
   },
   "file_extension": ".py",
   "mimetype": "text/x-python",
   "name": "python",
   "nbconvert_exporter": "python",
   "pygments_lexer": "ipython3",
   "version": "3.8.16"
  }
 },
 "nbformat": 4,
 "nbformat_minor": 5
}
