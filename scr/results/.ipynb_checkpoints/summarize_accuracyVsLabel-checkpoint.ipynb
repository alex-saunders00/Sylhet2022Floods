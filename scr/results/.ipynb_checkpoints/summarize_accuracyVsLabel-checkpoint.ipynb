{
 "cells": [
  {
   "cell_type": "markdown",
   "id": "a8b3dd4f-6c86-456a-b7c2-a73985a91ec2",
   "metadata": {
    "tags": []
   },
   "source": [
    "# Sylhet Floods 2022\n",
    "## summarize_accuracyVsLabel.ipynb\n",
    "This script summarizes the accruacy of the flood mapping algorithms against the hand labels."
   ]
  },
  {
   "cell_type": "code",
   "execution_count": 1,
   "id": "89b5fc22-8f3a-4e36-99b0-8c2240b04ad5",
   "metadata": {},
   "outputs": [],
   "source": [
    "from pathlib import Path\n",
    "import os\n",
    "import sys\n",
    "import pandas as pd"
   ]
  },
  {
   "cell_type": "code",
   "execution_count": 2,
   "id": "e090b766-cc0a-4cdc-8361-29e63c1f419b",
   "metadata": {},
   "outputs": [],
   "source": [
    "# Set the root path\n",
    "rootPath = Path('Z:/media/mule/Projects/NASA/NIP/Data')"
   ]
  },
  {
   "cell_type": "markdown",
   "id": "33e41834-44f1-4242-ab85-390dc2e42399",
   "metadata": {
    "tags": []
   },
   "source": [
    "## PART 1: Get the already created evaluation metrics"
   ]
  },
  {
   "cell_type": "code",
   "execution_count": 42,
   "id": "7241865a-c69f-4bfc-a91d-2dc3b4d8e4ac",
   "metadata": {},
   "outputs": [],
   "source": [
    "# Read in the result of the accuracy evaluation\n",
    "accuracyMaps = pd.read_csv(rootPath/'Table/SylhetConfusionMatrix/confusMatrixVsLabels_20220524-20220715.csv')"
   ]
  },
  {
   "cell_type": "code",
   "execution_count": 43,
   "id": "0abc5dcb-7515-4d29-a70b-81c2e1f765a2",
   "metadata": {},
   "outputs": [],
   "source": [
    "accuracyMaps['label']=accuracyMaps.labelDate.map(str)+'_'+accuracyMaps.labelTile.map(str)"
   ]
  },
  {
   "cell_type": "markdown",
   "id": "92d4afe0-806c-4a2c-8bbf-e68c5d5f1938",
   "metadata": {},
   "source": [
    "## PART 2: Aggregate by MapSource (i.e. all dates)"
   ]
  },
  {
   "cell_type": "code",
   "execution_count": 49,
   "id": "6c167c74-3fc6-4842-8854-ac1a3e3c7771",
   "metadata": {},
   "outputs": [],
   "source": [
    "metrics=['Precision','Recall','Accuracy','IOU']"
   ]
  },
  {
   "cell_type": "code",
   "execution_count": 50,
   "id": "7cd1dc68-8f41-46f8-8c9e-00e6040350aa",
   "metadata": {},
   "outputs": [],
   "source": [
    "scores = accuracyMaps.groupby(by='MapSource')[metrics].mean()\n",
    "scores.sort_values('IOU', ascending=False)"
   ]
  },
  {
   "cell_type": "markdown",
   "id": "abe4c459-e0ae-43a7-a6e9-b16e80f184c1",
   "metadata": {},
   "source": [
    "## PART 3: Aggregate by MapSource and label date"
   ]
  },
  {
   "cell_type": "code",
   "execution_count": 52,
   "id": "338d061b-182b-408b-894c-0b14f48052a9",
   "metadata": {},
   "outputs": [],
   "source": [
    "scoresByDate = accuracyMaps.groupby(by=['labelDate','MapSource'])[metrics].mean()\n",
    "scoresByDate"
   ]
  }
 ],
 "metadata": {
  "kernelspec": {
   "display_name": "Python 3 (ipykernel)",
   "language": "python",
   "name": "python3"
  },
  "language_info": {
   "codemirror_mode": {
    "name": "ipython",
    "version": 3
   },
   "file_extension": ".py",
   "mimetype": "text/x-python",
   "name": "python",
   "nbconvert_exporter": "python",
   "pygments_lexer": "ipython3",
   "version": "3.8.16"
  }
 },
 "nbformat": 4,
 "nbformat_minor": 5
}
