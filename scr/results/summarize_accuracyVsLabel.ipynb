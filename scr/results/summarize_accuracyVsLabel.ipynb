{
 "cells": [
  {
   "cell_type": "markdown",
   "id": "a8b3dd4f-6c86-456a-b7c2-a73985a91ec2",
   "metadata": {
    "tags": []
   },
   "source": [
    "# Project: NIP\n",
    "# Subroject: Sylhet Floods, June 2022\n",
    "## Script: summarize_accuracyVsLabel.ipynb\n",
    "This script summarizes the accruacy of the flood mapping algorithms and FFWC map against the hand labels."
   ]
  },
  {
   "cell_type": "code",
   "execution_count": 1,
   "id": "89b5fc22-8f3a-4e36-99b0-8c2240b04ad5",
   "metadata": {},
   "outputs": [],
   "source": [
    "from pathlib import Path\n",
    "import os\n",
    "import sys\n",
    "import pandas as pd\n",
    "import numpy as np\n",
    "import rasterio\n",
    "import matplotlib.pyplot as plt\n",
    "from rasterio.plot import show\n",
    "from rasterio.mask import mask\n",
    "from itertools import chain\n",
    "from pyproj import Transformer\n",
    "from matplotlib.patches import Patch\n",
    "from matplotlib.colors import ListedColormap\n",
    "import matplotlib.colors as colors\n",
    "from datetime import datetime\n",
    "import geopandas as gpd\n",
    "import copy\n",
    "import collections\n",
    "from shapely.geometry import mapping\n",
    "import pycrs\n",
    "from shapely.geometry import Polygon\n",
    "from functools import reduce\n",
    "import shutil"
   ]
  },
  {
   "cell_type": "code",
   "execution_count": 2,
   "id": "e090b766-cc0a-4cdc-8361-29e63c1f419b",
   "metadata": {},
   "outputs": [],
   "source": [
    "# Set the root path\n",
    "rootPath = Path('Z:/media/mule/Projects/NASA/NIP/Data')"
   ]
  },
  {
   "cell_type": "code",
   "execution_count": 3,
   "id": "09d03fd0-febb-4440-9f3d-26aa6efaaa25",
   "metadata": {},
   "outputs": [],
   "source": [
    "# Add path for the Helpers modules\n",
    "module_path = os.path.abspath(os.path.join('C:/Users/alexsaunders/Documents/01_uoa/04_git/NIP/Sylhet/'))\n",
    "if module_path not in sys.path:\n",
    "    sys.path.append(module_path)"
   ]
  },
  {
   "cell_type": "markdown",
   "id": "33e41834-44f1-4242-ab85-390dc2e42399",
   "metadata": {
    "tags": []
   },
   "source": [
    "## PART 1: Get the already created evaluation metrics"
   ]
  },
  {
   "cell_type": "code",
   "execution_count": 42,
   "id": "7241865a-c69f-4bfc-a91d-2dc3b4d8e4ac",
   "metadata": {},
   "outputs": [],
   "source": [
    "# Read in the result of the accuracy evaluation\n",
    "accuracyMaps = pd.read_csv(rootPath/'Table/SylhetConfusionMatrix/confusMatrixVsLabels_20220524-20220715_v2.csv')\n",
    "accuracyFFWC = pd.read_csv(rootPath/'Table/SylhetConfusionMatrix/confusMatrixVsLabels_FFWC.csv')"
   ]
  },
  {
   "cell_type": "code",
   "execution_count": 43,
   "id": "0abc5dcb-7515-4d29-a70b-81c2e1f765a2",
   "metadata": {},
   "outputs": [],
   "source": [
    "accuracyMaps['label']=accuracyMaps.labelDate.map(str)+'_'+accuracyMaps.labelTile.map(str)\n",
    "accuracyFFWC['label']=accuracyFFWC.labelDate.map(str)+'_'+accuracyFFWC.labelTile.map(str)"
   ]
  },
  {
   "cell_type": "code",
   "execution_count": 44,
   "id": "c9e83ee6-c78d-45ce-af60-7df1e5013996",
   "metadata": {},
   "outputs": [],
   "source": [
    "# Decide on a single best threshold for FFWC map\n",
    "FFWCthresh=0.0001\n",
    "accuracyFFWC=accuracyFFWC[accuracyFFWC.DepthThreshold==FFWCthresh]\n",
    "accuracyFFWC=accuracyFFWC.drop(columns=['DepthThreshold'])"
   ]
  },
  {
   "cell_type": "markdown",
   "id": "92d4afe0-806c-4a2c-8bbf-e68c5d5f1938",
   "metadata": {},
   "source": [
    "## PART 2: Aggregate by MapSource (i.e. all dates)"
   ]
  },
  {
   "cell_type": "code",
   "execution_count": 49,
   "id": "6c167c74-3fc6-4842-8854-ac1a3e3c7771",
   "metadata": {},
   "outputs": [],
   "source": [
    "metrics=['Precision','Recall','Accuracy','IOU']"
   ]
  },
  {
   "cell_type": "code",
   "execution_count": 50,
   "id": "7cd1dc68-8f41-46f8-8c9e-00e6040350aa",
   "metadata": {},
   "outputs": [],
   "source": [
    "scoresMaps = accuracyMaps.groupby(by='MapSource')[metrics].mean()\n",
    "scoresFFWC = accuracyFFWC.groupby(by='MapSource')[metrics].mean()\n",
    "scores=pd.concat(objs=[scoresMaps,scoresFFWC])"
   ]
  },
  {
   "cell_type": "code",
   "execution_count": 56,
   "id": "35734482-b276-4a6b-9327-d795689b9669",
   "metadata": {},
   "outputs": [
    {
     "data": {
      "text/html": [
       "<div>\n",
       "<style scoped>\n",
       "    .dataframe tbody tr th:only-of-type {\n",
       "        vertical-align: middle;\n",
       "    }\n",
       "\n",
       "    .dataframe tbody tr th {\n",
       "        vertical-align: top;\n",
       "    }\n",
       "\n",
       "    .dataframe thead th {\n",
       "        text-align: right;\n",
       "    }\n",
       "</style>\n",
       "<table border=\"1\" class=\"dataframe\">\n",
       "  <thead>\n",
       "    <tr style=\"text-align: right;\">\n",
       "      <th></th>\n",
       "      <th>Precision</th>\n",
       "      <th>Recall</th>\n",
       "      <th>Accuracy</th>\n",
       "      <th>IOU</th>\n",
       "    </tr>\n",
       "    <tr>\n",
       "      <th>MapSource</th>\n",
       "      <th></th>\n",
       "      <th></th>\n",
       "      <th></th>\n",
       "      <th></th>\n",
       "    </tr>\n",
       "  </thead>\n",
       "  <tbody>\n",
       "    <tr>\n",
       "      <th>Devries</th>\n",
       "      <td>0.848924</td>\n",
       "      <td>0.753231</td>\n",
       "      <td>0.819787</td>\n",
       "      <td>0.677602</td>\n",
       "    </tr>\n",
       "    <tr>\n",
       "      <th>FFWC</th>\n",
       "      <td>0.671212</td>\n",
       "      <td>0.967839</td>\n",
       "      <td>0.687735</td>\n",
       "      <td>0.664379</td>\n",
       "    </tr>\n",
       "    <tr>\n",
       "      <th>NASAIMPACT</th>\n",
       "      <td>0.934219</td>\n",
       "      <td>0.695506</td>\n",
       "      <td>0.822906</td>\n",
       "      <td>0.662287</td>\n",
       "    </tr>\n",
       "    <tr>\n",
       "      <th>GFM</th>\n",
       "      <td>0.927819</td>\n",
       "      <td>0.523928</td>\n",
       "      <td>0.732585</td>\n",
       "      <td>0.512674</td>\n",
       "    </tr>\n",
       "  </tbody>\n",
       "</table>\n",
       "</div>"
      ],
      "text/plain": [
       "            Precision    Recall  Accuracy       IOU\n",
       "MapSource                                          \n",
       "Devries      0.848924  0.753231  0.819787  0.677602\n",
       "FFWC         0.671212  0.967839  0.687735  0.664379\n",
       "NASAIMPACT   0.934219  0.695506  0.822906  0.662287\n",
       "GFM          0.927819  0.523928  0.732585  0.512674"
      ]
     },
     "execution_count": 56,
     "metadata": {},
     "output_type": "execute_result"
    }
   ],
   "source": [
    "scores.sort_values('IOU', ascending=False)"
   ]
  },
  {
   "cell_type": "markdown",
   "id": "abe4c459-e0ae-43a7-a6e9-b16e80f184c1",
   "metadata": {},
   "source": [
    "## PART 3: Aggregate by MapSource and label date"
   ]
  },
  {
   "cell_type": "code",
   "execution_count": 52,
   "id": "338d061b-182b-408b-894c-0b14f48052a9",
   "metadata": {},
   "outputs": [],
   "source": [
    "scoresMaps = accuracyMaps.groupby(by=['labelDate','MapSource'])[metrics].mean()\n",
    "scoresFFWC = accuracyFFWC.groupby(by=['labelDate','MapSource'])[metrics].mean()\n",
    "scoresByDate=pd.concat(objs=[scoresMaps,scoresFFWC])"
   ]
  },
  {
   "cell_type": "code",
   "execution_count": 58,
   "id": "149864bd-a57e-4cd0-b8cb-bac2e6293a4a",
   "metadata": {},
   "outputs": [
    {
     "data": {
      "text/html": [
       "<div>\n",
       "<style scoped>\n",
       "    .dataframe tbody tr th:only-of-type {\n",
       "        vertical-align: middle;\n",
       "    }\n",
       "\n",
       "    .dataframe tbody tr th {\n",
       "        vertical-align: top;\n",
       "    }\n",
       "\n",
       "    .dataframe thead th {\n",
       "        text-align: right;\n",
       "    }\n",
       "</style>\n",
       "<table border=\"1\" class=\"dataframe\">\n",
       "  <thead>\n",
       "    <tr style=\"text-align: right;\">\n",
       "      <th></th>\n",
       "      <th></th>\n",
       "      <th>Precision</th>\n",
       "      <th>Recall</th>\n",
       "      <th>Accuracy</th>\n",
       "      <th>IOU</th>\n",
       "    </tr>\n",
       "    <tr>\n",
       "      <th>labelDate</th>\n",
       "      <th>MapSource</th>\n",
       "      <th></th>\n",
       "      <th></th>\n",
       "      <th></th>\n",
       "      <th></th>\n",
       "    </tr>\n",
       "  </thead>\n",
       "  <tbody>\n",
       "    <tr>\n",
       "      <th rowspan=\"3\" valign=\"top\">20220524</th>\n",
       "      <th>Devries</th>\n",
       "      <td>0.959126</td>\n",
       "      <td>0.831911</td>\n",
       "      <td>0.847495</td>\n",
       "      <td>0.805364</td>\n",
       "    </tr>\n",
       "    <tr>\n",
       "      <th>GFM</th>\n",
       "      <td>0.995420</td>\n",
       "      <td>0.621808</td>\n",
       "      <td>0.707957</td>\n",
       "      <td>0.619797</td>\n",
       "    </tr>\n",
       "    <tr>\n",
       "      <th>NASAIMPACT</th>\n",
       "      <td>0.984254</td>\n",
       "      <td>0.809977</td>\n",
       "      <td>0.845835</td>\n",
       "      <td>0.799312</td>\n",
       "    </tr>\n",
       "    <tr>\n",
       "      <th rowspan=\"3\" valign=\"top\">20220530</th>\n",
       "      <th>Devries</th>\n",
       "      <td>0.852633</td>\n",
       "      <td>0.734672</td>\n",
       "      <td>0.805756</td>\n",
       "      <td>0.647657</td>\n",
       "    </tr>\n",
       "    <tr>\n",
       "      <th>GFM</th>\n",
       "      <td>0.957818</td>\n",
       "      <td>0.539214</td>\n",
       "      <td>0.761929</td>\n",
       "      <td>0.528152</td>\n",
       "    </tr>\n",
       "    <tr>\n",
       "      <th>NASAIMPACT</th>\n",
       "      <td>0.911171</td>\n",
       "      <td>0.710189</td>\n",
       "      <td>0.822213</td>\n",
       "      <td>0.662171</td>\n",
       "    </tr>\n",
       "    <tr>\n",
       "      <th rowspan=\"3\" valign=\"top\">20220714</th>\n",
       "      <th>Devries</th>\n",
       "      <td>0.744815</td>\n",
       "      <td>0.696574</td>\n",
       "      <td>0.806082</td>\n",
       "      <td>0.585440</td>\n",
       "    </tr>\n",
       "    <tr>\n",
       "      <th>GFM</th>\n",
       "      <td>0.840854</td>\n",
       "      <td>0.421466</td>\n",
       "      <td>0.730709</td>\n",
       "      <td>0.401579</td>\n",
       "    </tr>\n",
       "    <tr>\n",
       "      <th>NASAIMPACT</th>\n",
       "      <td>0.905137</td>\n",
       "      <td>0.578338</td>\n",
       "      <td>0.802466</td>\n",
       "      <td>0.536776</td>\n",
       "    </tr>\n",
       "    <tr>\n",
       "      <th>20220524</th>\n",
       "      <th>FFWC</th>\n",
       "      <td>0.783945</td>\n",
       "      <td>0.990405</td>\n",
       "      <td>0.778922</td>\n",
       "      <td>0.778333</td>\n",
       "    </tr>\n",
       "    <tr>\n",
       "      <th>20220530</th>\n",
       "      <th>FFWC</th>\n",
       "      <td>0.632961</td>\n",
       "      <td>0.964783</td>\n",
       "      <td>0.622361</td>\n",
       "      <td>0.617050</td>\n",
       "    </tr>\n",
       "    <tr>\n",
       "      <th>20220714</th>\n",
       "      <th>FFWC</th>\n",
       "      <td>0.599749</td>\n",
       "      <td>0.949702</td>\n",
       "      <td>0.658626</td>\n",
       "      <td>0.599363</td>\n",
       "    </tr>\n",
       "  </tbody>\n",
       "</table>\n",
       "</div>"
      ],
      "text/plain": [
       "                      Precision    Recall  Accuracy       IOU\n",
       "labelDate MapSource                                          \n",
       "20220524  Devries      0.959126  0.831911  0.847495  0.805364\n",
       "          GFM          0.995420  0.621808  0.707957  0.619797\n",
       "          NASAIMPACT   0.984254  0.809977  0.845835  0.799312\n",
       "20220530  Devries      0.852633  0.734672  0.805756  0.647657\n",
       "          GFM          0.957818  0.539214  0.761929  0.528152\n",
       "          NASAIMPACT   0.911171  0.710189  0.822213  0.662171\n",
       "20220714  Devries      0.744815  0.696574  0.806082  0.585440\n",
       "          GFM          0.840854  0.421466  0.730709  0.401579\n",
       "          NASAIMPACT   0.905137  0.578338  0.802466  0.536776\n",
       "20220524  FFWC         0.783945  0.990405  0.778922  0.778333\n",
       "20220530  FFWC         0.632961  0.964783  0.622361  0.617050\n",
       "20220714  FFWC         0.599749  0.949702  0.658626  0.599363"
      ]
     },
     "execution_count": 58,
     "metadata": {},
     "output_type": "execute_result"
    }
   ],
   "source": [
    "scoresByDate#.sort_values('IOU', ascending=False)"
   ]
  },
  {
   "cell_type": "code",
   "execution_count": null,
   "id": "d7c4f12a-3a58-405f-a4f6-e17415d441ad",
   "metadata": {},
   "outputs": [],
   "source": []
  }
 ],
 "metadata": {
  "kernelspec": {
   "display_name": "Python 3 (ipykernel)",
   "language": "python",
   "name": "python3"
  },
  "language_info": {
   "codemirror_mode": {
    "name": "ipython",
    "version": 3
   },
   "file_extension": ".py",
   "mimetype": "text/x-python",
   "name": "python",
   "nbconvert_exporter": "python",
   "pygments_lexer": "ipython3",
   "version": "3.8.13"
  }
 },
 "nbformat": 4,
 "nbformat_minor": 5
}
